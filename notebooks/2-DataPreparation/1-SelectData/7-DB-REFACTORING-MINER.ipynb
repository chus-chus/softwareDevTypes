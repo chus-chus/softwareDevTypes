{
 "cells": [
  {
   "cell_type": "markdown",
   "metadata": {
    "id": "HBOgka6xcd_D"
   },
   "source": [
    "# **REFACTORING_MINER**\n",
    "\n",
    "This notebook the selection of the rellevant attributes of the table `REFACTORING_MINER`.\n",
    "\n",
    "First, we import the libraries we need and, then, we read the corresponding csv."
   ]
  },
  {
   "cell_type": "code",
   "execution_count": 1,
   "metadata": {
    "id": "BfSlk1HIMw8S"
   },
   "outputs": [],
   "source": [
    "import pandas as pd"
   ]
  },
  {
   "cell_type": "code",
   "execution_count": 2,
   "metadata": {
    "colab": {
     "base_uri": "https://localhost:8080/",
     "height": 51
    },
    "executionInfo": {
     "elapsed": 993,
     "status": "ok",
     "timestamp": 1602778127087,
     "user": {
      "displayName": "Laia Albors Zumel",
      "photoUrl": "",
      "userId": "07110507271504138336"
     },
     "user_tz": -120
    },
    "id": "fGLiGG3pNOrX",
    "outputId": "60d6bd1c-1ee9-4d3e-c9c9-93f2fdcbb4fd"
   },
   "outputs": [
    {
     "name": "stdout",
     "output_type": "stream",
     "text": [
      "(57530, 4)\n"
     ]
    },
    {
     "data": {
      "text/plain": [
       "['projectID', 'commitHash', 'refactoringType', 'refactoringDetail']"
      ]
     },
     "execution_count": 2,
     "metadata": {},
     "output_type": "execute_result"
    }
   ],
   "source": [
    "refactoringMiner = pd.read_csv(\"../../../data/raw/REFACTORING_MINER.csv\")\n",
    "print(refactoringMiner.shape)\n",
    "list(refactoringMiner)"
   ]
  },
  {
   "cell_type": "markdown",
   "metadata": {
    "id": "MLgG7uBhck6p"
   },
   "source": [
    "We select the desired attributes of the table."
   ]
  },
  {
   "cell_type": "code",
   "execution_count": 3,
   "metadata": {
    "id": "oJGcwc7ONlwy"
   },
   "outputs": [],
   "source": [
    "attributes = ['projectID', 'commitHash', 'refactoringType']\n",
    "refactoringMiner = refactoringMiner[attributes]"
   ]
  },
  {
   "cell_type": "code",
   "execution_count": 4,
   "metadata": {
    "colab": {
     "base_uri": "https://localhost:8080/",
     "height": 221
    },
    "executionInfo": {
     "elapsed": 793,
     "status": "ok",
     "timestamp": 1602778128598,
     "user": {
      "displayName": "Laia Albors Zumel",
      "photoUrl": "",
      "userId": "07110507271504138336"
     },
     "user_tz": -120
    },
    "id": "OpeSGoIxSc5i",
    "outputId": "60ffbed9-6559-4555-e01b-e9d9c9f74c1b"
   },
   "outputs": [
    {
     "name": "stdout",
     "output_type": "stream",
     "text": [
      "(57530, 3)\n"
     ]
    },
    {
     "data": {
      "text/html": [
       "<div>\n",
       "<style scoped>\n",
       "    .dataframe tbody tr th:only-of-type {\n",
       "        vertical-align: middle;\n",
       "    }\n",
       "\n",
       "    .dataframe tbody tr th {\n",
       "        vertical-align: top;\n",
       "    }\n",
       "\n",
       "    .dataframe thead th {\n",
       "        text-align: right;\n",
       "    }\n",
       "</style>\n",
       "<table border=\"1\" class=\"dataframe\">\n",
       "  <thead>\n",
       "    <tr style=\"text-align: right;\">\n",
       "      <th></th>\n",
       "      <th>projectID</th>\n",
       "      <th>commitHash</th>\n",
       "      <th>refactoringType</th>\n",
       "    </tr>\n",
       "  </thead>\n",
       "  <tbody>\n",
       "    <tr>\n",
       "      <th>0</th>\n",
       "      <td>accumulo</td>\n",
       "      <td>4093a3015d6b789888077e317e535df4c8102e5d</td>\n",
       "      <td>Extract Method</td>\n",
       "    </tr>\n",
       "    <tr>\n",
       "      <th>1</th>\n",
       "      <td>accumulo</td>\n",
       "      <td>123bd993cff822e02242197a24f47ee36bfa3744</td>\n",
       "      <td>Extract Variable</td>\n",
       "    </tr>\n",
       "    <tr>\n",
       "      <th>2</th>\n",
       "      <td>accumulo</td>\n",
       "      <td>8c04c6ae5e5ba1432e40684428338ce68431766b</td>\n",
       "      <td>Extract Variable</td>\n",
       "    </tr>\n",
       "    <tr>\n",
       "      <th>3</th>\n",
       "      <td>accumulo</td>\n",
       "      <td>812f18b4534ae1eec41845a70a53adb783e77d61</td>\n",
       "      <td>Rename Variable</td>\n",
       "    </tr>\n",
       "    <tr>\n",
       "      <th>4</th>\n",
       "      <td>accumulo</td>\n",
       "      <td>812f18b4534ae1eec41845a70a53adb783e77d61</td>\n",
       "      <td>Rename Variable</td>\n",
       "    </tr>\n",
       "  </tbody>\n",
       "</table>\n",
       "</div>"
      ],
      "text/plain": [
       "  projectID                                commitHash   refactoringType\n",
       "0  accumulo  4093a3015d6b789888077e317e535df4c8102e5d    Extract Method\n",
       "1  accumulo  123bd993cff822e02242197a24f47ee36bfa3744  Extract Variable\n",
       "2  accumulo  8c04c6ae5e5ba1432e40684428338ce68431766b  Extract Variable\n",
       "3  accumulo  812f18b4534ae1eec41845a70a53adb783e77d61   Rename Variable\n",
       "4  accumulo  812f18b4534ae1eec41845a70a53adb783e77d61   Rename Variable"
      ]
     },
     "execution_count": 4,
     "metadata": {},
     "output_type": "execute_result"
    }
   ],
   "source": [
    "print(refactoringMiner.shape)\n",
    "refactoringMiner.head()"
   ]
  },
  {
   "cell_type": "markdown",
   "metadata": {
    "id": "PnmRzVfgcnQj"
   },
   "source": [
    "We save this new table into a csv."
   ]
  },
  {
   "cell_type": "code",
   "execution_count": 5,
   "metadata": {
    "id": "y2LfMK2dS4PT"
   },
   "outputs": [],
   "source": [
    "refactoringMiner.to_csv('../../../data/interim/DataPreparation/SelectData/REFACTORING_MINER_select.csv', header=True)"
   ]
  }
 ],
 "metadata": {
  "colab": {
   "collapsed_sections": [],
   "name": "REFACTORING_MINER.ipynb",
   "provenance": []
  },
  "kernelspec": {
   "display_name": "Python 3",
   "language": "python",
   "name": "python3"
  },
  "language_info": {
   "codemirror_mode": {
    "name": "ipython",
    "version": 3
   },
   "file_extension": ".py",
   "mimetype": "text/x-python",
   "name": "python",
   "nbconvert_exporter": "python",
   "pygments_lexer": "ipython3",
   "version": "3.8.3"
  }
 },
 "nbformat": 4,
 "nbformat_minor": 1
}
