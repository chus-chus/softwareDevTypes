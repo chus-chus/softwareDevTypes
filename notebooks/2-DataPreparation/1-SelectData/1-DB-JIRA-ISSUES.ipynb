{
 "cells": [
  {
   "cell_type": "markdown",
   "metadata": {
    "id": "yTgozWuUcRAK"
   },
   "source": [
    "# **JIRA_ISSUES**\n",
    "\n",
    "This notebook the selection of the rellevant attributes of the table `JIRA_ISSUES`.\n",
    "\n",
    "First, we import the libraries we need and, then, we read the corresponding csv."
   ]
  },
  {
   "cell_type": "code",
   "execution_count": 1,
   "metadata": {
    "id": "BfSlk1HIMw8S"
   },
   "outputs": [],
   "source": [
    "import pandas as pd"
   ]
  },
  {
   "cell_type": "code",
   "execution_count": 2,
   "metadata": {
    "colab": {
     "base_uri": "https://localhost:8080/",
     "height": 564
    },
    "executionInfo": {
     "elapsed": 1881,
     "status": "ok",
     "timestamp": 1602777950732,
     "user": {
      "displayName": "Laia Albors Zumel",
      "photoUrl": "",
      "userId": "07110507271504138336"
     },
     "user_tz": -120
    },
    "id": "fGLiGG3pNOrX",
    "outputId": "92c68196-d8f2-4dce-98e7-0d09d661fc10"
   },
   "outputs": [
    {
     "name": "stdout",
     "output_type": "stream",
     "text": [
      "(67427, 28)\n"
     ]
    },
    {
     "name": "stderr",
     "output_type": "stream",
     "text": [
      "/Users/laiaalborszumel/opt/anaconda3/lib/python3.8/site-packages/IPython/core/interactiveshell.py:3071: DtypeWarning: Columns (25) have mixed types.Specify dtype option on import or set low_memory=False.\n",
      "  has_raised = await self.run_ast_nodes(code_ast.body, cell_name,\n"
     ]
    },
    {
     "data": {
      "text/plain": [
       "['projectID',\n",
       " 'key',\n",
       " 'creationDate',\n",
       " 'resolutionDate',\n",
       " 'updateDate',\n",
       " 'dueDate',\n",
       " 'resolution',\n",
       " 'type',\n",
       " 'priority',\n",
       " 'fixVersions',\n",
       " 'versions',\n",
       " 'timeSpent',\n",
       " 'aggregatedTimeSpent',\n",
       " 'timeEstimate',\n",
       " 'timeOriginalEstimate',\n",
       " 'aggregateTimeEstimate',\n",
       " 'progressPercent',\n",
       " 'componentName',\n",
       " 'componentDescription',\n",
       " 'description',\n",
       " 'summary',\n",
       " 'watchCount',\n",
       " 'votes',\n",
       " 'labels',\n",
       " 'creatorName',\n",
       " 'creatorActive',\n",
       " 'assignee',\n",
       " 'reporter']"
      ]
     },
     "execution_count": 2,
     "metadata": {},
     "output_type": "execute_result"
    }
   ],
   "source": [
    "jiraIssues = pd.read_csv(\"../../../data/raw/JIRA_ISSUES.csv\")\n",
    "print(jiraIssues.shape)\n",
    "list(jiraIssues)"
   ]
  },
  {
   "cell_type": "markdown",
   "metadata": {
    "id": "DdN-8qqvcUvQ"
   },
   "source": [
    "We select the desired attributes of the table."
   ]
  },
  {
   "cell_type": "code",
   "execution_count": 3,
   "metadata": {
    "id": "oJGcwc7ONlwy"
   },
   "outputs": [],
   "source": [
    "attributes = ['projectID', 'key', 'creationDate', 'resolutionDate', 'type', 'priority', 'assignee', 'reporter']\n",
    "jiraIssues = jiraIssues[attributes]"
   ]
  },
  {
   "cell_type": "code",
   "execution_count": 4,
   "metadata": {
    "colab": {
     "base_uri": "https://localhost:8080/",
     "height": 306
    },
    "executionInfo": {
     "elapsed": 1175,
     "status": "ok",
     "timestamp": 1602777950733,
     "user": {
      "displayName": "Laia Albors Zumel",
      "photoUrl": "",
      "userId": "07110507271504138336"
     },
     "user_tz": -120
    },
    "id": "OpeSGoIxSc5i",
    "outputId": "7eae03c0-2cfc-4651-c76e-40b3818e49fd"
   },
   "outputs": [
    {
     "name": "stdout",
     "output_type": "stream",
     "text": [
      "(67427, 8)\n"
     ]
    },
    {
     "data": {
      "text/html": [
       "<div>\n",
       "<style scoped>\n",
       "    .dataframe tbody tr th:only-of-type {\n",
       "        vertical-align: middle;\n",
       "    }\n",
       "\n",
       "    .dataframe tbody tr th {\n",
       "        vertical-align: top;\n",
       "    }\n",
       "\n",
       "    .dataframe thead th {\n",
       "        text-align: right;\n",
       "    }\n",
       "</style>\n",
       "<table border=\"1\" class=\"dataframe\">\n",
       "  <thead>\n",
       "    <tr style=\"text-align: right;\">\n",
       "      <th></th>\n",
       "      <th>projectID</th>\n",
       "      <th>key</th>\n",
       "      <th>creationDate</th>\n",
       "      <th>resolutionDate</th>\n",
       "      <th>type</th>\n",
       "      <th>priority</th>\n",
       "      <th>assignee</th>\n",
       "      <th>reporter</th>\n",
       "    </tr>\n",
       "  </thead>\n",
       "  <tbody>\n",
       "    <tr>\n",
       "      <th>0</th>\n",
       "      <td>commons-exec</td>\n",
       "      <td>EXEC-108</td>\n",
       "      <td>2018-09-18T11:15:58.000+0000</td>\n",
       "      <td>NaN</td>\n",
       "      <td>Bug</td>\n",
       "      <td>Major</td>\n",
       "      <td>NaN</td>\n",
       "      <td>natanieljr</td>\n",
       "    </tr>\n",
       "    <tr>\n",
       "      <th>1</th>\n",
       "      <td>commons-exec</td>\n",
       "      <td>EXEC-107</td>\n",
       "      <td>2018-07-04T12:09:47.000+0000</td>\n",
       "      <td>NaN</td>\n",
       "      <td>New Feature</td>\n",
       "      <td>Major</td>\n",
       "      <td>NaN</td>\n",
       "      <td>stefanreich</td>\n",
       "    </tr>\n",
       "    <tr>\n",
       "      <th>2</th>\n",
       "      <td>commons-exec</td>\n",
       "      <td>EXEC-106</td>\n",
       "      <td>2018-03-06T11:32:51.000+0000</td>\n",
       "      <td>NaN</td>\n",
       "      <td>Improvement</td>\n",
       "      <td>Major</td>\n",
       "      <td>NaN</td>\n",
       "      <td>sebb</td>\n",
       "    </tr>\n",
       "    <tr>\n",
       "      <th>3</th>\n",
       "      <td>commons-exec</td>\n",
       "      <td>EXEC-105</td>\n",
       "      <td>2018-02-16T13:47:10.000+0000</td>\n",
       "      <td>NaN</td>\n",
       "      <td>Wish</td>\n",
       "      <td>Trivial</td>\n",
       "      <td>NaN</td>\n",
       "      <td>IP</td>\n",
       "    </tr>\n",
       "    <tr>\n",
       "      <th>4</th>\n",
       "      <td>commons-exec</td>\n",
       "      <td>EXEC-104</td>\n",
       "      <td>2017-08-04T11:57:39.000+0000</td>\n",
       "      <td>NaN</td>\n",
       "      <td>Bug</td>\n",
       "      <td>Major</td>\n",
       "      <td>NaN</td>\n",
       "      <td>krichter</td>\n",
       "    </tr>\n",
       "  </tbody>\n",
       "</table>\n",
       "</div>"
      ],
      "text/plain": [
       "      projectID       key                  creationDate resolutionDate  \\\n",
       "0  commons-exec  EXEC-108  2018-09-18T11:15:58.000+0000            NaN   \n",
       "1  commons-exec  EXEC-107  2018-07-04T12:09:47.000+0000            NaN   \n",
       "2  commons-exec  EXEC-106  2018-03-06T11:32:51.000+0000            NaN   \n",
       "3  commons-exec  EXEC-105  2018-02-16T13:47:10.000+0000            NaN   \n",
       "4  commons-exec  EXEC-104  2017-08-04T11:57:39.000+0000            NaN   \n",
       "\n",
       "          type priority assignee     reporter  \n",
       "0          Bug    Major      NaN   natanieljr  \n",
       "1  New Feature    Major      NaN  stefanreich  \n",
       "2  Improvement    Major      NaN         sebb  \n",
       "3         Wish  Trivial      NaN           IP  \n",
       "4          Bug    Major      NaN     krichter  "
      ]
     },
     "execution_count": 4,
     "metadata": {},
     "output_type": "execute_result"
    }
   ],
   "source": [
    "print(jiraIssues.shape)\n",
    "jiraIssues.head()"
   ]
  },
  {
   "cell_type": "markdown",
   "metadata": {
    "id": "QckYCv66cXJb"
   },
   "source": [
    "We save this new table into a csv."
   ]
  },
  {
   "cell_type": "code",
   "execution_count": 5,
   "metadata": {
    "id": "y2LfMK2dS4PT"
   },
   "outputs": [],
   "source": [
    "jiraIssues.to_csv('../../../data/interim/DataPreparation/SelectData/JIRA_ISSUES_select.csv', header=True)"
   ]
  }
 ],
 "metadata": {
  "colab": {
   "collapsed_sections": [],
   "name": "JIRA_ISSUES.ipynb",
   "provenance": []
  },
  "kernelspec": {
   "display_name": "Python 3",
   "language": "python",
   "name": "python3"
  },
  "language_info": {
   "codemirror_mode": {
    "name": "ipython",
    "version": 3
   },
   "file_extension": ".py",
   "mimetype": "text/x-python",
   "name": "python",
   "nbconvert_exporter": "python",
   "pygments_lexer": "ipython3",
   "version": "3.8.3"
  }
 },
 "nbformat": 4,
 "nbformat_minor": 1
}
