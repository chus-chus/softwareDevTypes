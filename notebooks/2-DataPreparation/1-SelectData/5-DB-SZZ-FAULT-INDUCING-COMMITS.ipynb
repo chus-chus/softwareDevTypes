{
 "cells": [
  {
   "cell_type": "markdown",
   "metadata": {
    "id": "Ma8Oju89dE5h"
   },
   "source": [
    "# **SZZ_FAULT_INDUCING_COMMITS**\n",
    "\n",
    "This notebook the selection of the rellevant attributes of the table `SZZ_FAULT_INDUCING_COMMITS`.\n",
    "\n",
    "First, we import the libraries we need and, then, we read the corresponding csv."
   ]
  },
  {
   "cell_type": "code",
   "execution_count": 1,
   "metadata": {
    "id": "BfSlk1HIMw8S"
   },
   "outputs": [],
   "source": [
    "import pandas as pd"
   ]
  },
  {
   "cell_type": "code",
   "execution_count": 2,
   "metadata": {
    "colab": {
     "base_uri": "https://localhost:8080/",
     "height": 163
    },
    "executionInfo": {
     "elapsed": 986,
     "status": "ok",
     "timestamp": 1602749413711,
     "user": {
      "displayName": "Sonia Rabanaque Rodriguez",
      "photoUrl": "",
      "userId": "11465044831239167480"
     },
     "user_tz": -120
    },
    "id": "fGLiGG3pNOrX",
    "outputId": "6ebe8df6-0bdd-4554-a7a3-2654e930469e"
   },
   "outputs": [
    {
     "name": "stdout",
     "output_type": "stream",
     "text": [
      "(27340, 7)\n"
     ]
    },
    {
     "data": {
      "text/plain": [
       "['projectID',\n",
       " 'faultFixingCommitHash',\n",
       " 'faultFixingTimestamp',\n",
       " 'faultFixingfileChanged',\n",
       " 'faultInducingCommitHash',\n",
       " 'faultInducingTimestamp',\n",
       " 'key']"
      ]
     },
     "execution_count": 2,
     "metadata": {},
     "output_type": "execute_result"
    }
   ],
   "source": [
    "szzFaultInducingCommits = pd.read_csv(\"../../../data/raw/SZZ_FAULT_INDUCING_COMMITS.csv\")\n",
    "print(szzFaultInducingCommits.shape)\n",
    "list(szzFaultInducingCommits)"
   ]
  },
  {
   "cell_type": "markdown",
   "metadata": {
    "id": "h6x-MQvydHpl"
   },
   "source": [
    "We select the desired attributes of the table."
   ]
  },
  {
   "cell_type": "code",
   "execution_count": 3,
   "metadata": {
    "id": "oJGcwc7ONlwy"
   },
   "outputs": [],
   "source": [
    "attributes = ['projectID', 'faultFixingCommitHash', 'faultInducingCommitHash', 'key']\n",
    "szzFaultInducingCommits = szzFaultInducingCommits[attributes]"
   ]
  },
  {
   "cell_type": "code",
   "execution_count": 4,
   "metadata": {
    "colab": {
     "base_uri": "https://localhost:8080/",
     "height": 216
    },
    "executionInfo": {
     "elapsed": 596,
     "status": "ok",
     "timestamp": 1602749420152,
     "user": {
      "displayName": "Sonia Rabanaque Rodriguez",
      "photoUrl": "",
      "userId": "11465044831239167480"
     },
     "user_tz": -120
    },
    "id": "OpeSGoIxSc5i",
    "outputId": "7c1508af-9974-4ce6-fb63-5e181ad1556e"
   },
   "outputs": [
    {
     "name": "stdout",
     "output_type": "stream",
     "text": [
      "(27340, 4)\n"
     ]
    },
    {
     "data": {
      "text/html": [
       "<div>\n",
       "<style scoped>\n",
       "    .dataframe tbody tr th:only-of-type {\n",
       "        vertical-align: middle;\n",
       "    }\n",
       "\n",
       "    .dataframe tbody tr th {\n",
       "        vertical-align: top;\n",
       "    }\n",
       "\n",
       "    .dataframe thead th {\n",
       "        text-align: right;\n",
       "    }\n",
       "</style>\n",
       "<table border=\"1\" class=\"dataframe\">\n",
       "  <thead>\n",
       "    <tr style=\"text-align: right;\">\n",
       "      <th></th>\n",
       "      <th>projectID</th>\n",
       "      <th>faultFixingCommitHash</th>\n",
       "      <th>faultInducingCommitHash</th>\n",
       "      <th>key</th>\n",
       "    </tr>\n",
       "  </thead>\n",
       "  <tbody>\n",
       "    <tr>\n",
       "      <th>0</th>\n",
       "      <td>commons-daemon</td>\n",
       "      <td>871c58c9cbfff95a4e3149e9df527401d17381fd</td>\n",
       "      <td>49cbb142a2b5d7d89aab077dc63f7646828c9408</td>\n",
       "      <td>DAEMON-370</td>\n",
       "    </tr>\n",
       "    <tr>\n",
       "      <th>1</th>\n",
       "      <td>commons-daemon</td>\n",
       "      <td>871c58c9cbfff95a4e3149e9df527401d17381fd</td>\n",
       "      <td>43d485a0e99c613daffba7d5b410e8e4a302e4f7</td>\n",
       "      <td>DAEMON-370</td>\n",
       "    </tr>\n",
       "    <tr>\n",
       "      <th>2</th>\n",
       "      <td>commons-daemon</td>\n",
       "      <td>871c58c9cbfff95a4e3149e9df527401d17381fd</td>\n",
       "      <td>4f232e47002359f1a8156b5f03b227c7bae9874a</td>\n",
       "      <td>DAEMON-370</td>\n",
       "    </tr>\n",
       "    <tr>\n",
       "      <th>3</th>\n",
       "      <td>commons-daemon</td>\n",
       "      <td>871c58c9cbfff95a4e3149e9df527401d17381fd</td>\n",
       "      <td>4f232e47002359f1a8156b5f03b227c7bae9874a</td>\n",
       "      <td>DAEMON-370</td>\n",
       "    </tr>\n",
       "    <tr>\n",
       "      <th>4</th>\n",
       "      <td>beam</td>\n",
       "      <td>e2583f5e73de50f8af128ecaa331a2e1046d2b08</td>\n",
       "      <td>c880c8ebad0e83a068301d0bbf8c76be36a59962</td>\n",
       "      <td>BEAM-5145</td>\n",
       "    </tr>\n",
       "  </tbody>\n",
       "</table>\n",
       "</div>"
      ],
      "text/plain": [
       "        projectID                     faultFixingCommitHash  \\\n",
       "0  commons-daemon  871c58c9cbfff95a4e3149e9df527401d17381fd   \n",
       "1  commons-daemon  871c58c9cbfff95a4e3149e9df527401d17381fd   \n",
       "2  commons-daemon  871c58c9cbfff95a4e3149e9df527401d17381fd   \n",
       "3  commons-daemon  871c58c9cbfff95a4e3149e9df527401d17381fd   \n",
       "4            beam  e2583f5e73de50f8af128ecaa331a2e1046d2b08   \n",
       "\n",
       "                    faultInducingCommitHash         key  \n",
       "0  49cbb142a2b5d7d89aab077dc63f7646828c9408  DAEMON-370  \n",
       "1  43d485a0e99c613daffba7d5b410e8e4a302e4f7  DAEMON-370  \n",
       "2  4f232e47002359f1a8156b5f03b227c7bae9874a  DAEMON-370  \n",
       "3  4f232e47002359f1a8156b5f03b227c7bae9874a  DAEMON-370  \n",
       "4  c880c8ebad0e83a068301d0bbf8c76be36a59962   BEAM-5145  "
      ]
     },
     "execution_count": 4,
     "metadata": {},
     "output_type": "execute_result"
    }
   ],
   "source": [
    "print(szzFaultInducingCommits.shape)\n",
    "szzFaultInducingCommits.head()"
   ]
  },
  {
   "cell_type": "markdown",
   "metadata": {
    "id": "6BUWo7LadJq0"
   },
   "source": [
    "We save this new table into a csv."
   ]
  },
  {
   "cell_type": "code",
   "execution_count": 5,
   "metadata": {
    "id": "y2LfMK2dS4PT"
   },
   "outputs": [],
   "source": [
    "szzFaultInducingCommits.to_csv('../../../data/interim/DataPreparation/SelectData/SZZ_FAULT_INDUCING_COMMITS_select.csv', header=True)"
   ]
  }
 ],
 "metadata": {
  "colab": {
   "collapsed_sections": [],
   "name": "SZZ_FAULT_INDUCING_COMMITS.ipynb",
   "provenance": []
  },
  "kernelspec": {
   "display_name": "Python 3",
   "language": "python",
   "name": "python3"
  },
  "language_info": {
   "codemirror_mode": {
    "name": "ipython",
    "version": 3
   },
   "file_extension": ".py",
   "mimetype": "text/x-python",
   "name": "python",
   "nbconvert_exporter": "python",
   "pygments_lexer": "ipython3",
   "version": "3.8.3"
  }
 },
 "nbformat": 4,
 "nbformat_minor": 1
}
