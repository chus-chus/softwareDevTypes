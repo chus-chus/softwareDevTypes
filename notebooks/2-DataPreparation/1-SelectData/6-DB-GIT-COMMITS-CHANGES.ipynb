{
 "cells": [
  {
   "cell_type": "markdown",
   "metadata": {
    "id": "WwY6TGlJbTmu"
   },
   "source": [
    "# **GIT_COMMITS_CHANGES**\n",
    "\n",
    "This notebook the selection of the rellevant attributes of the table `GIT_COMMITS_CHANGES`.\n",
    "\n",
    "First, we import the libraries we need and, then, we read the corresponding csv."
   ]
  },
  {
   "cell_type": "code",
   "execution_count": 1,
   "metadata": {
    "id": "w16KbbRmbLjJ"
   },
   "outputs": [],
   "source": [
    "import pandas as pd"
   ]
  },
  {
   "cell_type": "code",
   "execution_count": 2,
   "metadata": {
    "id": "OtC_dc72bLjT",
    "outputId": "d4c3c04e-02b3-4df1-b4a9-174950137178"
   },
   "outputs": [
    {
     "name": "stdout",
     "output_type": "stream",
     "text": [
      "(891711, 12)\n"
     ]
    },
    {
     "data": {
      "text/plain": [
       "['projectID',\n",
       " 'commitHash',\n",
       " 'oldPath',\n",
       " 'newPath',\n",
       " 'changeType',\n",
       " 'diff',\n",
       " 'linesAdded',\n",
       " 'linesRemoved',\n",
       " 'nloc',\n",
       " 'complexity',\n",
       " 'tokenCount',\n",
       " 'methods']"
      ]
     },
     "execution_count": 2,
     "metadata": {},
     "output_type": "execute_result"
    }
   ],
   "source": [
    "gitCommitsChanges = pd.read_csv(\"../../../data/raw/GIT_COMMITS_CHANGES.csv\")\n",
    "print(gitCommitsChanges.shape)\n",
    "list(gitCommitsChanges)"
   ]
  },
  {
   "cell_type": "markdown",
   "metadata": {
    "id": "zAZQil0LbkPf"
   },
   "source": [
    "We select the desired attributes of the table."
   ]
  },
  {
   "cell_type": "code",
   "execution_count": 3,
   "metadata": {
    "id": "lMro6YsYbLjd"
   },
   "outputs": [],
   "source": [
    "attributes = ['projectID', 'commitHash', 'changeType', 'linesAdded', 'linesRemoved']\n",
    "gitCommitsChanges = gitCommitsChanges[attributes]"
   ]
  },
  {
   "cell_type": "code",
   "execution_count": 4,
   "metadata": {
    "id": "9IRkiFcBbLjk",
    "outputId": "18284ef9-7efe-4ae7-bf43-e405e21050ac"
   },
   "outputs": [
    {
     "name": "stdout",
     "output_type": "stream",
     "text": [
      "(891711, 5)\n"
     ]
    },
    {
     "data": {
      "text/html": [
       "<div>\n",
       "<style scoped>\n",
       "    .dataframe tbody tr th:only-of-type {\n",
       "        vertical-align: middle;\n",
       "    }\n",
       "\n",
       "    .dataframe tbody tr th {\n",
       "        vertical-align: top;\n",
       "    }\n",
       "\n",
       "    .dataframe thead th {\n",
       "        text-align: right;\n",
       "    }\n",
       "</style>\n",
       "<table border=\"1\" class=\"dataframe\">\n",
       "  <thead>\n",
       "    <tr style=\"text-align: right;\">\n",
       "      <th></th>\n",
       "      <th>projectID</th>\n",
       "      <th>commitHash</th>\n",
       "      <th>changeType</th>\n",
       "      <th>linesAdded</th>\n",
       "      <th>linesRemoved</th>\n",
       "    </tr>\n",
       "  </thead>\n",
       "  <tbody>\n",
       "    <tr>\n",
       "      <th>0</th>\n",
       "      <td>accumulo</td>\n",
       "      <td>e0880e263e4bf8662ba3848405200473a25dfc9f</td>\n",
       "      <td>ModificationType.ADD</td>\n",
       "      <td>196</td>\n",
       "      <td>0</td>\n",
       "    </tr>\n",
       "    <tr>\n",
       "      <th>1</th>\n",
       "      <td>accumulo</td>\n",
       "      <td>e0880e263e4bf8662ba3848405200473a25dfc9f</td>\n",
       "      <td>ModificationType.ADD</td>\n",
       "      <td>22</td>\n",
       "      <td>0</td>\n",
       "    </tr>\n",
       "    <tr>\n",
       "      <th>2</th>\n",
       "      <td>accumulo</td>\n",
       "      <td>e0880e263e4bf8662ba3848405200473a25dfc9f</td>\n",
       "      <td>ModificationType.ADD</td>\n",
       "      <td>87</td>\n",
       "      <td>0</td>\n",
       "    </tr>\n",
       "    <tr>\n",
       "      <th>3</th>\n",
       "      <td>accumulo</td>\n",
       "      <td>e0880e263e4bf8662ba3848405200473a25dfc9f</td>\n",
       "      <td>ModificationType.ADD</td>\n",
       "      <td>167</td>\n",
       "      <td>0</td>\n",
       "    </tr>\n",
       "    <tr>\n",
       "      <th>4</th>\n",
       "      <td>accumulo</td>\n",
       "      <td>e0880e263e4bf8662ba3848405200473a25dfc9f</td>\n",
       "      <td>ModificationType.ADD</td>\n",
       "      <td>96</td>\n",
       "      <td>0</td>\n",
       "    </tr>\n",
       "  </tbody>\n",
       "</table>\n",
       "</div>"
      ],
      "text/plain": [
       "  projectID                                commitHash            changeType  \\\n",
       "0  accumulo  e0880e263e4bf8662ba3848405200473a25dfc9f  ModificationType.ADD   \n",
       "1  accumulo  e0880e263e4bf8662ba3848405200473a25dfc9f  ModificationType.ADD   \n",
       "2  accumulo  e0880e263e4bf8662ba3848405200473a25dfc9f  ModificationType.ADD   \n",
       "3  accumulo  e0880e263e4bf8662ba3848405200473a25dfc9f  ModificationType.ADD   \n",
       "4  accumulo  e0880e263e4bf8662ba3848405200473a25dfc9f  ModificationType.ADD   \n",
       "\n",
       "   linesAdded  linesRemoved  \n",
       "0         196             0  \n",
       "1          22             0  \n",
       "2          87             0  \n",
       "3         167             0  \n",
       "4          96             0  "
      ]
     },
     "execution_count": 4,
     "metadata": {},
     "output_type": "execute_result"
    }
   ],
   "source": [
    "print(gitCommitsChanges.shape)\n",
    "gitCommitsChanges.head()"
   ]
  },
  {
   "cell_type": "markdown",
   "metadata": {
    "id": "-ps73UHbbvs7"
   },
   "source": [
    "We save this new table into a csv."
   ]
  },
  {
   "cell_type": "code",
   "execution_count": 5,
   "metadata": {
    "id": "qpjKBEaxbLjp"
   },
   "outputs": [],
   "source": [
    "gitCommitsChanges.to_csv('../../../data/interim/DataPreparation/SelectData/GIT_COMMITS_CHANGES_select.csv', header=True)"
   ]
  }
 ],
 "metadata": {
  "colab": {
   "collapsed_sections": [],
   "name": "GIT_COMMITS_CHANGES.ipynb",
   "provenance": []
  },
  "kernelspec": {
   "display_name": "Python 3",
   "language": "python",
   "name": "python3"
  },
  "language_info": {
   "codemirror_mode": {
    "name": "ipython",
    "version": 3
   },
   "file_extension": ".py",
   "mimetype": "text/x-python",
   "name": "python",
   "nbconvert_exporter": "python",
   "pygments_lexer": "ipython3",
   "version": "3.8.3"
  }
 },
 "nbformat": 4,
 "nbformat_minor": 1
}
