{
 "cells": [
  {
   "cell_type": "markdown",
   "metadata": {
    "id": "wZavyyuuc39P"
   },
   "source": [
    "# **SONAR_MEASURES**\n",
    "\n",
    "This notebook the selection of the rellevant attributes of the table `SONAR_MEASURES`.\n",
    "\n",
    "First, we import the libraries we need and, then, we read the corresponding csv."
   ]
  },
  {
   "cell_type": "code",
   "execution_count": 1,
   "metadata": {
    "id": "BfSlk1HIMw8S"
   },
   "outputs": [],
   "source": [
    "import pandas as pd"
   ]
  },
  {
   "cell_type": "code",
   "execution_count": 2,
   "metadata": {
    "colab": {
     "base_uri": "https://localhost:8080/",
     "height": 1000
    },
    "executionInfo": {
     "elapsed": 2046,
     "status": "ok",
     "timestamp": 1602271725832,
     "user": {
      "displayName": "Laia Albors Zumel",
      "photoUrl": "",
      "userId": "07110507271504138336"
     },
     "user_tz": -120
    },
    "id": "fGLiGG3pNOrX",
    "outputId": "583d51ed-5946-4459-8fe7-d0a4768fb9a7"
   },
   "outputs": [
    {
     "name": "stdout",
     "output_type": "stream",
     "text": [
      "(55629, 61)\n"
     ]
    },
    {
     "data": {
      "text/plain": [
       "['commitHash',\n",
       " 'projectID',\n",
       " 'SQAnalysisDate',\n",
       " 'classes',\n",
       " 'files',\n",
       " 'functions',\n",
       " 'commentLines',\n",
       " 'commentLinesDensity',\n",
       " 'complexity',\n",
       " 'fileComplexity',\n",
       " 'classComplexity',\n",
       " 'functionComplexity',\n",
       " 'functionComplexityDistribution',\n",
       " 'fileComplexityDistribution',\n",
       " 'coverage',\n",
       " 'duplicatedLines',\n",
       " 'duplicatedBlocks',\n",
       " 'duplicatedFiles',\n",
       " 'duplicatedLinesDensity',\n",
       " 'violations',\n",
       " 'blockerViolations',\n",
       " 'criticalViolations',\n",
       " 'infoViolations',\n",
       " 'falsePositiveIssues',\n",
       " 'confirmedIssues',\n",
       " 'lastCommitDate',\n",
       " 'codeSmells',\n",
       " 'bugs',\n",
       " 'effortToReachMaintainabilityRatingA',\n",
       " 'afferentCouplings',\n",
       " 'efferentCouplings',\n",
       " 'cognitiveComplexity',\n",
       " 'lines',\n",
       " 'ncloc',\n",
       " 'nclocLanguageDistribution',\n",
       " 'linesToCover',\n",
       " 'lineCoverage',\n",
       " 'majorViolations',\n",
       " 'minorViolations',\n",
       " 'openIssues',\n",
       " 'sqaleRating',\n",
       " 'numberOfClassesAndInterfaces',\n",
       " 'missingPackageInfo',\n",
       " 'package',\n",
       " 'statements',\n",
       " 'uncoveredLines',\n",
       " 'reopenedIssues',\n",
       " 'sqaleIndex',\n",
       " 'developmentCost',\n",
       " 'sqaleDebtRatio',\n",
       " 'alertStatus',\n",
       " 'qualityGateDetails',\n",
       " 'qualityProfiles',\n",
       " 'newSqaleDebtRatio',\n",
       " 'vulnerabilities',\n",
       " 'reliabilityRemediationEffort',\n",
       " 'reliabilityRating',\n",
       " 'securityRemediationEffort',\n",
       " 'securityRating',\n",
       " 'wontFixIssues',\n",
       " 'packageDependencyCycles']"
      ]
     },
     "execution_count": 2,
     "metadata": {},
     "output_type": "execute_result"
    }
   ],
   "source": [
    "sonarMeasures = pd.read_csv(\"../../../data/raw/SONAR_MEASURES.csv\")\n",
    "print(sonarMeasures.shape)\n",
    "list(sonarMeasures)"
   ]
  },
  {
   "cell_type": "markdown",
   "metadata": {
    "id": "6CFxWBPqc9MP"
   },
   "source": [
    "We select the desired attributes of the table."
   ]
  },
  {
   "cell_type": "code",
   "execution_count": 3,
   "metadata": {
    "id": "oJGcwc7ONlwy"
   },
   "outputs": [],
   "source": [
    "attributes = ['commitHash', 'projectID', 'functions', 'commentLinesDensity', 'complexity', 'functionComplexity', 'duplicatedLinesDensity',\n",
    "              'violations', 'blockerViolations', 'criticalViolations', 'infoViolations', 'majorViolations', 'minorViolations', 'codeSmells',\n",
    "              'bugs', 'vulnerabilities', 'cognitiveComplexity', 'ncloc', 'sqaleIndex', 'sqaleDebtRatio', 'reliabilityRemediationEffort', 'securityRemediationEffort']\n",
    "sonarMeasures = sonarMeasures[attributes]"
   ]
  },
  {
   "cell_type": "code",
   "execution_count": 4,
   "metadata": {
    "colab": {
     "base_uri": "https://localhost:8080/",
     "height": 326
    },
    "executionInfo": {
     "elapsed": 750,
     "status": "ok",
     "timestamp": 1602271727664,
     "user": {
      "displayName": "Laia Albors Zumel",
      "photoUrl": "",
      "userId": "07110507271504138336"
     },
     "user_tz": -120
    },
    "id": "OpeSGoIxSc5i",
    "outputId": "c5846a88-51e1-4744-9a8e-03d05b7db34b"
   },
   "outputs": [
    {
     "name": "stdout",
     "output_type": "stream",
     "text": [
      "(55629, 22)\n"
     ]
    },
    {
     "data": {
      "text/html": [
       "<div>\n",
       "<style scoped>\n",
       "    .dataframe tbody tr th:only-of-type {\n",
       "        vertical-align: middle;\n",
       "    }\n",
       "\n",
       "    .dataframe tbody tr th {\n",
       "        vertical-align: top;\n",
       "    }\n",
       "\n",
       "    .dataframe thead th {\n",
       "        text-align: right;\n",
       "    }\n",
       "</style>\n",
       "<table border=\"1\" class=\"dataframe\">\n",
       "  <thead>\n",
       "    <tr style=\"text-align: right;\">\n",
       "      <th></th>\n",
       "      <th>commitHash</th>\n",
       "      <th>projectID</th>\n",
       "      <th>functions</th>\n",
       "      <th>commentLinesDensity</th>\n",
       "      <th>complexity</th>\n",
       "      <th>functionComplexity</th>\n",
       "      <th>duplicatedLinesDensity</th>\n",
       "      <th>violations</th>\n",
       "      <th>blockerViolations</th>\n",
       "      <th>criticalViolations</th>\n",
       "      <th>...</th>\n",
       "      <th>minorViolations</th>\n",
       "      <th>codeSmells</th>\n",
       "      <th>bugs</th>\n",
       "      <th>vulnerabilities</th>\n",
       "      <th>cognitiveComplexity</th>\n",
       "      <th>ncloc</th>\n",
       "      <th>sqaleIndex</th>\n",
       "      <th>sqaleDebtRatio</th>\n",
       "      <th>reliabilityRemediationEffort</th>\n",
       "      <th>securityRemediationEffort</th>\n",
       "    </tr>\n",
       "  </thead>\n",
       "  <tbody>\n",
       "    <tr>\n",
       "      <th>0</th>\n",
       "      <td>5e90dbea078fca205d913efc8e61ba278c5f39d8</td>\n",
       "      <td>commons-daemon</td>\n",
       "      <td>87</td>\n",
       "      <td>23.0</td>\n",
       "      <td>153</td>\n",
       "      <td>1.8</td>\n",
       "      <td>57.4</td>\n",
       "      <td>201</td>\n",
       "      <td>5</td>\n",
       "      <td>27</td>\n",
       "      <td>...</td>\n",
       "      <td>60</td>\n",
       "      <td>196</td>\n",
       "      <td>5</td>\n",
       "      <td>0</td>\n",
       "      <td>127</td>\n",
       "      <td>916</td>\n",
       "      <td>2007</td>\n",
       "      <td>7.3</td>\n",
       "      <td>85</td>\n",
       "      <td>0</td>\n",
       "    </tr>\n",
       "    <tr>\n",
       "      <th>1</th>\n",
       "      <td>6c0eafee28fc5c8ab69215df31dc4f07c5579a34</td>\n",
       "      <td>commons-daemon</td>\n",
       "      <td>87</td>\n",
       "      <td>23.0</td>\n",
       "      <td>153</td>\n",
       "      <td>1.8</td>\n",
       "      <td>57.4</td>\n",
       "      <td>201</td>\n",
       "      <td>5</td>\n",
       "      <td>27</td>\n",
       "      <td>...</td>\n",
       "      <td>60</td>\n",
       "      <td>196</td>\n",
       "      <td>5</td>\n",
       "      <td>0</td>\n",
       "      <td>127</td>\n",
       "      <td>916</td>\n",
       "      <td>2007</td>\n",
       "      <td>7.3</td>\n",
       "      <td>85</td>\n",
       "      <td>0</td>\n",
       "    </tr>\n",
       "    <tr>\n",
       "      <th>2</th>\n",
       "      <td>7b73ce30f32318b99056fee53397c08063d6f661</td>\n",
       "      <td>commons-daemon</td>\n",
       "      <td>87</td>\n",
       "      <td>23.0</td>\n",
       "      <td>153</td>\n",
       "      <td>1.8</td>\n",
       "      <td>57.4</td>\n",
       "      <td>201</td>\n",
       "      <td>5</td>\n",
       "      <td>27</td>\n",
       "      <td>...</td>\n",
       "      <td>60</td>\n",
       "      <td>196</td>\n",
       "      <td>5</td>\n",
       "      <td>0</td>\n",
       "      <td>127</td>\n",
       "      <td>916</td>\n",
       "      <td>2007</td>\n",
       "      <td>7.3</td>\n",
       "      <td>85</td>\n",
       "      <td>0</td>\n",
       "    </tr>\n",
       "    <tr>\n",
       "      <th>3</th>\n",
       "      <td>7c9d9cde24a00cde7e584136355ce5e048e11e5e</td>\n",
       "      <td>commons-daemon</td>\n",
       "      <td>87</td>\n",
       "      <td>23.0</td>\n",
       "      <td>153</td>\n",
       "      <td>1.8</td>\n",
       "      <td>57.4</td>\n",
       "      <td>201</td>\n",
       "      <td>5</td>\n",
       "      <td>27</td>\n",
       "      <td>...</td>\n",
       "      <td>60</td>\n",
       "      <td>196</td>\n",
       "      <td>5</td>\n",
       "      <td>0</td>\n",
       "      <td>127</td>\n",
       "      <td>916</td>\n",
       "      <td>2007</td>\n",
       "      <td>7.3</td>\n",
       "      <td>85</td>\n",
       "      <td>0</td>\n",
       "    </tr>\n",
       "    <tr>\n",
       "      <th>4</th>\n",
       "      <td>91036e09f49a73fa40673a1071f8bc63f8cddc2f</td>\n",
       "      <td>commons-daemon</td>\n",
       "      <td>87</td>\n",
       "      <td>23.0</td>\n",
       "      <td>153</td>\n",
       "      <td>1.8</td>\n",
       "      <td>57.4</td>\n",
       "      <td>201</td>\n",
       "      <td>5</td>\n",
       "      <td>27</td>\n",
       "      <td>...</td>\n",
       "      <td>60</td>\n",
       "      <td>196</td>\n",
       "      <td>5</td>\n",
       "      <td>0</td>\n",
       "      <td>127</td>\n",
       "      <td>916</td>\n",
       "      <td>2007</td>\n",
       "      <td>7.3</td>\n",
       "      <td>85</td>\n",
       "      <td>0</td>\n",
       "    </tr>\n",
       "  </tbody>\n",
       "</table>\n",
       "<p>5 rows × 22 columns</p>\n",
       "</div>"
      ],
      "text/plain": [
       "                                 commitHash       projectID  functions  \\\n",
       "0  5e90dbea078fca205d913efc8e61ba278c5f39d8  commons-daemon         87   \n",
       "1  6c0eafee28fc5c8ab69215df31dc4f07c5579a34  commons-daemon         87   \n",
       "2  7b73ce30f32318b99056fee53397c08063d6f661  commons-daemon         87   \n",
       "3  7c9d9cde24a00cde7e584136355ce5e048e11e5e  commons-daemon         87   \n",
       "4  91036e09f49a73fa40673a1071f8bc63f8cddc2f  commons-daemon         87   \n",
       "\n",
       "   commentLinesDensity  complexity  functionComplexity  \\\n",
       "0                 23.0         153                 1.8   \n",
       "1                 23.0         153                 1.8   \n",
       "2                 23.0         153                 1.8   \n",
       "3                 23.0         153                 1.8   \n",
       "4                 23.0         153                 1.8   \n",
       "\n",
       "   duplicatedLinesDensity  violations  blockerViolations  criticalViolations  \\\n",
       "0                    57.4         201                  5                  27   \n",
       "1                    57.4         201                  5                  27   \n",
       "2                    57.4         201                  5                  27   \n",
       "3                    57.4         201                  5                  27   \n",
       "4                    57.4         201                  5                  27   \n",
       "\n",
       "   ...  minorViolations  codeSmells  bugs  vulnerabilities  \\\n",
       "0  ...               60         196     5                0   \n",
       "1  ...               60         196     5                0   \n",
       "2  ...               60         196     5                0   \n",
       "3  ...               60         196     5                0   \n",
       "4  ...               60         196     5                0   \n",
       "\n",
       "   cognitiveComplexity  ncloc  sqaleIndex  sqaleDebtRatio  \\\n",
       "0                  127    916        2007             7.3   \n",
       "1                  127    916        2007             7.3   \n",
       "2                  127    916        2007             7.3   \n",
       "3                  127    916        2007             7.3   \n",
       "4                  127    916        2007             7.3   \n",
       "\n",
       "   reliabilityRemediationEffort  securityRemediationEffort  \n",
       "0                            85                          0  \n",
       "1                            85                          0  \n",
       "2                            85                          0  \n",
       "3                            85                          0  \n",
       "4                            85                          0  \n",
       "\n",
       "[5 rows x 22 columns]"
      ]
     },
     "execution_count": 4,
     "metadata": {},
     "output_type": "execute_result"
    }
   ],
   "source": [
    "print(sonarMeasures.shape)\n",
    "sonarMeasures.head()"
   ]
  },
  {
   "cell_type": "markdown",
   "metadata": {
    "id": "EbVgZPdLc-I-"
   },
   "source": [
    "We save this new table into a csv."
   ]
  },
  {
   "cell_type": "code",
   "execution_count": 5,
   "metadata": {
    "id": "y2LfMK2dS4PT"
   },
   "outputs": [],
   "source": [
    "sonarMeasures.to_csv('../../../data/interim/DataPreparation/SelectData/SONAR_MEASURES_select.csv', header=True)"
   ]
  }
 ],
 "metadata": {
  "colab": {
   "collapsed_sections": [],
   "name": "SONAR_MEASURES.ipynb",
   "provenance": []
  },
  "kernelspec": {
   "display_name": "Python 3",
   "language": "python",
   "name": "python3"
  },
  "language_info": {
   "codemirror_mode": {
    "name": "ipython",
    "version": 3
   },
   "file_extension": ".py",
   "mimetype": "text/x-python",
   "name": "python",
   "nbconvert_exporter": "python",
   "pygments_lexer": "ipython3",
   "version": "3.8.3"
  }
 },
 "nbformat": 4,
 "nbformat_minor": 1
}
