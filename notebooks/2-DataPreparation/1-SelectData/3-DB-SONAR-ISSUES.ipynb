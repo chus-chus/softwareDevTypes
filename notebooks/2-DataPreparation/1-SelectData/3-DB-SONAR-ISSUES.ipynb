{
 "cells": [
  {
   "cell_type": "markdown",
   "metadata": {
    "id": "WPkAm7nlcrvV"
   },
   "source": [
    "# **SONAR_ISSUES**\n",
    "\n",
    "This notebook the selection of the rellevant attributes of the table `SONAR_ISSUES`.\n",
    "\n",
    "First, we import the libraries we need and, then, we read the corresponding csv."
   ]
  },
  {
   "cell_type": "code",
   "execution_count": 1,
   "metadata": {
    "id": "BfSlk1HIMw8S"
   },
   "outputs": [],
   "source": [
    "import pandas as pd"
   ]
  },
  {
   "cell_type": "code",
   "execution_count": 2,
   "metadata": {
    "colab": {
     "base_uri": "https://localhost:8080/",
     "height": 340
    },
    "executionInfo": {
     "elapsed": 9687,
     "status": "ok",
     "timestamp": 1602781775533,
     "user": {
      "displayName": "Laia Albors Zumel",
      "photoUrl": "",
      "userId": "07110507271504138336"
     },
     "user_tz": -120
    },
    "id": "fGLiGG3pNOrX",
    "outputId": "dc180a73-f81d-484d-b96d-6c15ffd677e5"
   },
   "outputs": [
    {
     "name": "stdout",
     "output_type": "stream",
     "text": [
      "(1941508, 18)\n"
     ]
    },
    {
     "data": {
      "text/plain": [
       "['projectID',\n",
       " 'creationDate',\n",
       " 'closeDate',\n",
       " 'creationCommitHash',\n",
       " 'closeCommitHash',\n",
       " 'type',\n",
       " 'squid',\n",
       " 'component',\n",
       " 'severity',\n",
       " 'project',\n",
       " 'startLine',\n",
       " 'endLine',\n",
       " 'resolution',\n",
       " 'status',\n",
       " 'message',\n",
       " 'effort',\n",
       " 'debt',\n",
       " 'author']"
      ]
     },
     "execution_count": 2,
     "metadata": {},
     "output_type": "execute_result"
    }
   ],
   "source": [
    "sonarIssues = pd.read_csv(\"../../../data/raw/SONAR_ISSUES.csv\")\n",
    "print(sonarIssues.shape)\n",
    "list(sonarIssues)"
   ]
  },
  {
   "cell_type": "markdown",
   "metadata": {
    "id": "LqM987G9cuwP"
   },
   "source": [
    "We select the desired attributes of the table."
   ]
  },
  {
   "cell_type": "code",
   "execution_count": 3,
   "metadata": {
    "id": "oJGcwc7ONlwy"
   },
   "outputs": [],
   "source": [
    "attributes = ['projectID', 'creationDate', 'closeDate', 'creationCommitHash', 'closeCommitHash', 'type', 'severity',\n",
    "               'debt', 'author']\n",
    "sonarIssues = sonarIssues[attributes]"
   ]
  },
  {
   "cell_type": "code",
   "execution_count": 4,
   "metadata": {
    "colab": {
     "base_uri": "https://localhost:8080/",
     "height": 326
    },
    "executionInfo": {
     "elapsed": 608,
     "status": "ok",
     "timestamp": 1602781777610,
     "user": {
      "displayName": "Laia Albors Zumel",
      "photoUrl": "",
      "userId": "07110507271504138336"
     },
     "user_tz": -120
    },
    "id": "OpeSGoIxSc5i",
    "outputId": "daf5144a-b1bb-414f-b970-2e7f54fc32b7"
   },
   "outputs": [
    {
     "name": "stdout",
     "output_type": "stream",
     "text": [
      "(1941508, 9)\n"
     ]
    },
    {
     "data": {
      "text/html": [
       "<div>\n",
       "<style scoped>\n",
       "    .dataframe tbody tr th:only-of-type {\n",
       "        vertical-align: middle;\n",
       "    }\n",
       "\n",
       "    .dataframe tbody tr th {\n",
       "        vertical-align: top;\n",
       "    }\n",
       "\n",
       "    .dataframe thead th {\n",
       "        text-align: right;\n",
       "    }\n",
       "</style>\n",
       "<table border=\"1\" class=\"dataframe\">\n",
       "  <thead>\n",
       "    <tr style=\"text-align: right;\">\n",
       "      <th></th>\n",
       "      <th>projectID</th>\n",
       "      <th>creationDate</th>\n",
       "      <th>closeDate</th>\n",
       "      <th>creationCommitHash</th>\n",
       "      <th>closeCommitHash</th>\n",
       "      <th>type</th>\n",
       "      <th>severity</th>\n",
       "      <th>debt</th>\n",
       "      <th>author</th>\n",
       "    </tr>\n",
       "  </thead>\n",
       "  <tbody>\n",
       "    <tr>\n",
       "      <th>0</th>\n",
       "      <td>commons-daemon</td>\n",
       "      <td>2003-09-04T23:28:19Z</td>\n",
       "      <td>NaN</td>\n",
       "      <td>d3416d3a25b16da3d18b3849522fa96183918e5b</td>\n",
       "      <td>NaN</td>\n",
       "      <td>CODE_SMELL</td>\n",
       "      <td>MAJOR</td>\n",
       "      <td>20min</td>\n",
       "      <td>yoavs@apache.org</td>\n",
       "    </tr>\n",
       "    <tr>\n",
       "      <th>1</th>\n",
       "      <td>commons-daemon</td>\n",
       "      <td>2003-09-04T23:28:19Z</td>\n",
       "      <td>2010-03-15T08:09:26Z</td>\n",
       "      <td>d3416d3a25b16da3d18b3849522fa96183918e5b</td>\n",
       "      <td>6cbc872eb202dfc27f2eb59b02d953c3deca32c8</td>\n",
       "      <td>CODE_SMELL</td>\n",
       "      <td>MINOR</td>\n",
       "      <td>1min</td>\n",
       "      <td>yoavs@apache.org</td>\n",
       "    </tr>\n",
       "    <tr>\n",
       "      <th>2</th>\n",
       "      <td>commons-daemon</td>\n",
       "      <td>2003-09-04T23:28:19Z</td>\n",
       "      <td>2010-03-15T08:09:26Z</td>\n",
       "      <td>d3416d3a25b16da3d18b3849522fa96183918e5b</td>\n",
       "      <td>6cbc872eb202dfc27f2eb59b02d953c3deca32c8</td>\n",
       "      <td>CODE_SMELL</td>\n",
       "      <td>MINOR</td>\n",
       "      <td>1min</td>\n",
       "      <td>yoavs@apache.org</td>\n",
       "    </tr>\n",
       "    <tr>\n",
       "      <th>3</th>\n",
       "      <td>commons-daemon</td>\n",
       "      <td>2003-09-04T23:28:19Z</td>\n",
       "      <td>2010-03-15T08:09:26Z</td>\n",
       "      <td>d3416d3a25b16da3d18b3849522fa96183918e5b</td>\n",
       "      <td>6cbc872eb202dfc27f2eb59b02d953c3deca32c8</td>\n",
       "      <td>CODE_SMELL</td>\n",
       "      <td>MINOR</td>\n",
       "      <td>1min</td>\n",
       "      <td>yoavs@apache.org</td>\n",
       "    </tr>\n",
       "    <tr>\n",
       "      <th>4</th>\n",
       "      <td>commons-daemon</td>\n",
       "      <td>2003-09-04T23:28:19Z</td>\n",
       "      <td>2010-03-15T08:09:26Z</td>\n",
       "      <td>d3416d3a25b16da3d18b3849522fa96183918e5b</td>\n",
       "      <td>6cbc872eb202dfc27f2eb59b02d953c3deca32c8</td>\n",
       "      <td>CODE_SMELL</td>\n",
       "      <td>MINOR</td>\n",
       "      <td>1min</td>\n",
       "      <td>yoavs@apache.org</td>\n",
       "    </tr>\n",
       "  </tbody>\n",
       "</table>\n",
       "</div>"
      ],
      "text/plain": [
       "        projectID          creationDate             closeDate  \\\n",
       "0  commons-daemon  2003-09-04T23:28:19Z                   NaN   \n",
       "1  commons-daemon  2003-09-04T23:28:19Z  2010-03-15T08:09:26Z   \n",
       "2  commons-daemon  2003-09-04T23:28:19Z  2010-03-15T08:09:26Z   \n",
       "3  commons-daemon  2003-09-04T23:28:19Z  2010-03-15T08:09:26Z   \n",
       "4  commons-daemon  2003-09-04T23:28:19Z  2010-03-15T08:09:26Z   \n",
       "\n",
       "                         creationCommitHash  \\\n",
       "0  d3416d3a25b16da3d18b3849522fa96183918e5b   \n",
       "1  d3416d3a25b16da3d18b3849522fa96183918e5b   \n",
       "2  d3416d3a25b16da3d18b3849522fa96183918e5b   \n",
       "3  d3416d3a25b16da3d18b3849522fa96183918e5b   \n",
       "4  d3416d3a25b16da3d18b3849522fa96183918e5b   \n",
       "\n",
       "                            closeCommitHash        type severity   debt  \\\n",
       "0                                       NaN  CODE_SMELL    MAJOR  20min   \n",
       "1  6cbc872eb202dfc27f2eb59b02d953c3deca32c8  CODE_SMELL    MINOR   1min   \n",
       "2  6cbc872eb202dfc27f2eb59b02d953c3deca32c8  CODE_SMELL    MINOR   1min   \n",
       "3  6cbc872eb202dfc27f2eb59b02d953c3deca32c8  CODE_SMELL    MINOR   1min   \n",
       "4  6cbc872eb202dfc27f2eb59b02d953c3deca32c8  CODE_SMELL    MINOR   1min   \n",
       "\n",
       "             author  \n",
       "0  yoavs@apache.org  \n",
       "1  yoavs@apache.org  \n",
       "2  yoavs@apache.org  \n",
       "3  yoavs@apache.org  \n",
       "4  yoavs@apache.org  "
      ]
     },
     "execution_count": 4,
     "metadata": {},
     "output_type": "execute_result"
    }
   ],
   "source": [
    "print(sonarIssues.shape)\n",
    "sonarIssues.head()"
   ]
  },
  {
   "cell_type": "markdown",
   "metadata": {
    "id": "kwnB88-pcxOb"
   },
   "source": [
    "We save this new table into a csv."
   ]
  },
  {
   "cell_type": "code",
   "execution_count": 5,
   "metadata": {
    "id": "y2LfMK2dS4PT"
   },
   "outputs": [],
   "source": [
    "sonarIssues.to_csv('../../../data/interim/DataPreparation/SelectData/SONAR_ISSUES_select.csv', header=True)"
   ]
  }
 ],
 "metadata": {
  "colab": {
   "collapsed_sections": [],
   "name": "SONAR_ISSUES.ipynb",
   "provenance": []
  },
  "kernelspec": {
   "display_name": "Python 3",
   "language": "python",
   "name": "python3"
  },
  "language_info": {
   "codemirror_mode": {
    "name": "ipython",
    "version": 3
   },
   "file_extension": ".py",
   "mimetype": "text/x-python",
   "name": "python",
   "nbconvert_exporter": "python",
   "pygments_lexer": "ipython3",
   "version": "3.8.3"
  }
 },
 "nbformat": 4,
 "nbformat_minor": 1
}
