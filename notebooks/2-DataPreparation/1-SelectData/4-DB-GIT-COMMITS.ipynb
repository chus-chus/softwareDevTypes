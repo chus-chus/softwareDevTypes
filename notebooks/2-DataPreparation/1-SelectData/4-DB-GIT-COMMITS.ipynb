{
 "cells": [
  {
   "cell_type": "markdown",
   "metadata": {
    "id": "64Kc7G5mb9uU"
   },
   "source": [
    "# **GIT_COMMITS**\n",
    "\n",
    "This notebook the selection of the rellevant attributes of the table `GIT_COMMITS`.\n",
    "\n",
    "First, we import the libraries we need and, then, we read the corresponding csv."
   ]
  },
  {
   "cell_type": "code",
   "execution_count": 1,
   "metadata": {
    "id": "BfSlk1HIMw8S"
   },
   "outputs": [],
   "source": [
    "import pandas as pd"
   ]
  },
  {
   "cell_type": "code",
   "execution_count": 2,
   "metadata": {
    "colab": {
     "base_uri": "https://localhost:8080/",
     "height": 255
    },
    "executionInfo": {
     "elapsed": 1863,
     "status": "ok",
     "timestamp": 1602777937226,
     "user": {
      "displayName": "Laia Albors Zumel",
      "photoUrl": "",
      "userId": "07110507271504138336"
     },
     "user_tz": -120
    },
    "id": "fGLiGG3pNOrX",
    "outputId": "00411378-ee54-4286-a82a-efcf097ab6bf"
   },
   "outputs": [
    {
     "name": "stdout",
     "output_type": "stream",
     "text": [
      "(140687, 13)\n"
     ]
    },
    {
     "data": {
      "text/plain": [
       "['projectID',\n",
       " 'commitHash',\n",
       " 'commitMessage',\n",
       " 'author',\n",
       " 'authorDate',\n",
       " 'authorTimezone',\n",
       " 'committer',\n",
       " 'committerDate',\n",
       " 'committerTimezone',\n",
       " 'branches',\n",
       " 'inMainBranch',\n",
       " 'merge',\n",
       " 'parents']"
      ]
     },
     "execution_count": 2,
     "metadata": {},
     "output_type": "execute_result"
    }
   ],
   "source": [
    "gitCommits = pd.read_csv(\"../../../data/raw/GIT_COMMITS.csv\")\n",
    "print(gitCommits.shape)\n",
    "list(gitCommits)"
   ]
  },
  {
   "cell_type": "markdown",
   "metadata": {
    "id": "ULQhncr7cGw6"
   },
   "source": [
    "We select the desired attributes of the table."
   ]
  },
  {
   "cell_type": "code",
   "execution_count": 3,
   "metadata": {
    "id": "oJGcwc7ONlwy"
   },
   "outputs": [],
   "source": [
    "attributes = ['projectID', 'commitHash', 'author', 'committer', 'committerDate']\n",
    "gitCommits = gitCommits[attributes]"
   ]
  },
  {
   "cell_type": "code",
   "execution_count": 4,
   "metadata": {
    "colab": {
     "base_uri": "https://localhost:8080/",
     "height": 221
    },
    "executionInfo": {
     "elapsed": 733,
     "status": "ok",
     "timestamp": 1602777937512,
     "user": {
      "displayName": "Laia Albors Zumel",
      "photoUrl": "",
      "userId": "07110507271504138336"
     },
     "user_tz": -120
    },
    "id": "OpeSGoIxSc5i",
    "outputId": "e97d50db-b7ce-4aac-c036-88e39e6782df"
   },
   "outputs": [
    {
     "name": "stdout",
     "output_type": "stream",
     "text": [
      "(140687, 5)\n"
     ]
    },
    {
     "data": {
      "text/html": [
       "<div>\n",
       "<style scoped>\n",
       "    .dataframe tbody tr th:only-of-type {\n",
       "        vertical-align: middle;\n",
       "    }\n",
       "\n",
       "    .dataframe tbody tr th {\n",
       "        vertical-align: top;\n",
       "    }\n",
       "\n",
       "    .dataframe thead th {\n",
       "        text-align: right;\n",
       "    }\n",
       "</style>\n",
       "<table border=\"1\" class=\"dataframe\">\n",
       "  <thead>\n",
       "    <tr style=\"text-align: right;\">\n",
       "      <th></th>\n",
       "      <th>projectID</th>\n",
       "      <th>commitHash</th>\n",
       "      <th>author</th>\n",
       "      <th>committer</th>\n",
       "      <th>committerDate</th>\n",
       "    </tr>\n",
       "  </thead>\n",
       "  <tbody>\n",
       "    <tr>\n",
       "      <th>0</th>\n",
       "      <td>accumulo</td>\n",
       "      <td>e0880e263e4bf8662ba3848405200473a25dfc9f</td>\n",
       "      <td>Keith Turner</td>\n",
       "      <td>Keith Turner</td>\n",
       "      <td>2011-10-04T00:46:07Z</td>\n",
       "    </tr>\n",
       "    <tr>\n",
       "      <th>1</th>\n",
       "      <td>accumulo</td>\n",
       "      <td>e8774c5ec3a35e042f320540b5f7e66ebd2d9e87</td>\n",
       "      <td>Billie Rinaldi</td>\n",
       "      <td>Billie Rinaldi</td>\n",
       "      <td>2011-10-04T16:57:13Z</td>\n",
       "    </tr>\n",
       "    <tr>\n",
       "      <th>2</th>\n",
       "      <td>accumulo</td>\n",
       "      <td>2032ebbd0ed90734da39ca238bbd10dee24d0030</td>\n",
       "      <td>Keith Turner</td>\n",
       "      <td>Keith Turner</td>\n",
       "      <td>2011-10-04T18:39:18Z</td>\n",
       "    </tr>\n",
       "    <tr>\n",
       "      <th>3</th>\n",
       "      <td>accumulo</td>\n",
       "      <td>de297d4932e08625a5df146f0802041bb5aeb892</td>\n",
       "      <td>Billie Rinaldi</td>\n",
       "      <td>Billie Rinaldi</td>\n",
       "      <td>2011-10-04T19:31:01Z</td>\n",
       "    </tr>\n",
       "    <tr>\n",
       "      <th>4</th>\n",
       "      <td>accumulo</td>\n",
       "      <td>34efaae87639a83b60fdb7274de4b45051025a3a</td>\n",
       "      <td>Billie Rinaldi</td>\n",
       "      <td>Billie Rinaldi</td>\n",
       "      <td>2011-10-05T17:19:06Z</td>\n",
       "    </tr>\n",
       "  </tbody>\n",
       "</table>\n",
       "</div>"
      ],
      "text/plain": [
       "  projectID                                commitHash          author  \\\n",
       "0  accumulo  e0880e263e4bf8662ba3848405200473a25dfc9f    Keith Turner   \n",
       "1  accumulo  e8774c5ec3a35e042f320540b5f7e66ebd2d9e87  Billie Rinaldi   \n",
       "2  accumulo  2032ebbd0ed90734da39ca238bbd10dee24d0030    Keith Turner   \n",
       "3  accumulo  de297d4932e08625a5df146f0802041bb5aeb892  Billie Rinaldi   \n",
       "4  accumulo  34efaae87639a83b60fdb7274de4b45051025a3a  Billie Rinaldi   \n",
       "\n",
       "        committer         committerDate  \n",
       "0    Keith Turner  2011-10-04T00:46:07Z  \n",
       "1  Billie Rinaldi  2011-10-04T16:57:13Z  \n",
       "2    Keith Turner  2011-10-04T18:39:18Z  \n",
       "3  Billie Rinaldi  2011-10-04T19:31:01Z  \n",
       "4  Billie Rinaldi  2011-10-05T17:19:06Z  "
      ]
     },
     "execution_count": 4,
     "metadata": {},
     "output_type": "execute_result"
    }
   ],
   "source": [
    "print(gitCommits.shape)\n",
    "gitCommits.head()"
   ]
  },
  {
   "cell_type": "markdown",
   "metadata": {
    "id": "me37zRhPcHsL"
   },
   "source": [
    "We save this new table into a csv."
   ]
  },
  {
   "cell_type": "code",
   "execution_count": 5,
   "metadata": {
    "id": "y2LfMK2dS4PT"
   },
   "outputs": [],
   "source": [
    "gitCommits.to_csv('../../../data/interim/DataPreparation/SelectData/GIT_COMMITS_select.csv', header=True)"
   ]
  }
 ],
 "metadata": {
  "colab": {
   "collapsed_sections": [],
   "name": "GIT_COMMITS.ipynb",
   "provenance": []
  },
  "kernelspec": {
   "display_name": "Python 3",
   "language": "python",
   "name": "python3"
  },
  "language_info": {
   "codemirror_mode": {
    "name": "ipython",
    "version": 3
   },
   "file_extension": ".py",
   "mimetype": "text/x-python",
   "name": "python",
   "nbconvert_exporter": "python",
   "pygments_lexer": "ipython3",
   "version": "3.8.3"
  }
 },
 "nbformat": 4,
 "nbformat_minor": 1
}
