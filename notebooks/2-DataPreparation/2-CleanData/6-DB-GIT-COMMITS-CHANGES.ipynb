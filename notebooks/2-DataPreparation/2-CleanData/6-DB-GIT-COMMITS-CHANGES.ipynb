{
 "cells": [
  {
   "cell_type": "markdown",
   "metadata": {
    "id": "VLeRnfljdTuJ"
   },
   "source": [
    "# **GIT_COMMITS_CHANGES**\n",
    "\n",
    "This notebook the cleaning of the attributes of the table `GIT_COMMITS_CHANGES`.\n",
    "\n",
    "First, we import the libraries we need and, then, we read the corresponding csv."
   ]
  },
  {
   "cell_type": "code",
   "execution_count": 1,
   "metadata": {
    "id": "_1jC72O8lmqk"
   },
   "outputs": [],
   "source": [
    "import pandas as pd\n",
    "import numpy as np"
   ]
  },
  {
   "cell_type": "code",
   "execution_count": 2,
   "metadata": {
    "colab": {
     "base_uri": "https://localhost:8080/",
     "height": 221
    },
    "executionInfo": {
     "elapsed": 1569,
     "status": "ok",
     "timestamp": 1602780218832,
     "user": {
      "displayName": "Laia Albors Zumel",
      "photoUrl": "",
      "userId": "07110507271504138336"
     },
     "user_tz": -120
    },
    "id": "MVgdjl7Ll_UL",
    "outputId": "5e3dbe3a-3c5e-4bae-81f3-a3f8cfab31bf"
   },
   "outputs": [
    {
     "name": "stdout",
     "output_type": "stream",
     "text": [
      "(891711, 5)\n"
     ]
    },
    {
     "data": {
      "text/html": [
       "<div>\n",
       "<style scoped>\n",
       "    .dataframe tbody tr th:only-of-type {\n",
       "        vertical-align: middle;\n",
       "    }\n",
       "\n",
       "    .dataframe tbody tr th {\n",
       "        vertical-align: top;\n",
       "    }\n",
       "\n",
       "    .dataframe thead th {\n",
       "        text-align: right;\n",
       "    }\n",
       "</style>\n",
       "<table border=\"1\" class=\"dataframe\">\n",
       "  <thead>\n",
       "    <tr style=\"text-align: right;\">\n",
       "      <th></th>\n",
       "      <th>projectID</th>\n",
       "      <th>commitHash</th>\n",
       "      <th>changeType</th>\n",
       "      <th>linesAdded</th>\n",
       "      <th>linesRemoved</th>\n",
       "    </tr>\n",
       "  </thead>\n",
       "  <tbody>\n",
       "    <tr>\n",
       "      <th>0</th>\n",
       "      <td>accumulo</td>\n",
       "      <td>e0880e263e4bf8662ba3848405200473a25dfc9f</td>\n",
       "      <td>ModificationType.ADD</td>\n",
       "      <td>196</td>\n",
       "      <td>0</td>\n",
       "    </tr>\n",
       "    <tr>\n",
       "      <th>1</th>\n",
       "      <td>accumulo</td>\n",
       "      <td>e0880e263e4bf8662ba3848405200473a25dfc9f</td>\n",
       "      <td>ModificationType.ADD</td>\n",
       "      <td>22</td>\n",
       "      <td>0</td>\n",
       "    </tr>\n",
       "    <tr>\n",
       "      <th>2</th>\n",
       "      <td>accumulo</td>\n",
       "      <td>e0880e263e4bf8662ba3848405200473a25dfc9f</td>\n",
       "      <td>ModificationType.ADD</td>\n",
       "      <td>87</td>\n",
       "      <td>0</td>\n",
       "    </tr>\n",
       "    <tr>\n",
       "      <th>3</th>\n",
       "      <td>accumulo</td>\n",
       "      <td>e0880e263e4bf8662ba3848405200473a25dfc9f</td>\n",
       "      <td>ModificationType.ADD</td>\n",
       "      <td>167</td>\n",
       "      <td>0</td>\n",
       "    </tr>\n",
       "    <tr>\n",
       "      <th>4</th>\n",
       "      <td>accumulo</td>\n",
       "      <td>e0880e263e4bf8662ba3848405200473a25dfc9f</td>\n",
       "      <td>ModificationType.ADD</td>\n",
       "      <td>96</td>\n",
       "      <td>0</td>\n",
       "    </tr>\n",
       "  </tbody>\n",
       "</table>\n",
       "</div>"
      ],
      "text/plain": [
       "  projectID                                commitHash            changeType  \\\n",
       "0  accumulo  e0880e263e4bf8662ba3848405200473a25dfc9f  ModificationType.ADD   \n",
       "1  accumulo  e0880e263e4bf8662ba3848405200473a25dfc9f  ModificationType.ADD   \n",
       "2  accumulo  e0880e263e4bf8662ba3848405200473a25dfc9f  ModificationType.ADD   \n",
       "3  accumulo  e0880e263e4bf8662ba3848405200473a25dfc9f  ModificationType.ADD   \n",
       "4  accumulo  e0880e263e4bf8662ba3848405200473a25dfc9f  ModificationType.ADD   \n",
       "\n",
       "   linesAdded  linesRemoved  \n",
       "0         196             0  \n",
       "1          22             0  \n",
       "2          87             0  \n",
       "3         167             0  \n",
       "4          96             0  "
      ]
     },
     "execution_count": 2,
     "metadata": {},
     "output_type": "execute_result"
    }
   ],
   "source": [
    "gitCommitsChanges = pd.read_csv(\"../../../data/interim/DataPreparation/SelectData/GIT_COMMITS_CHANGES_select.csv\").iloc[:,1:]\n",
    "print(gitCommitsChanges.shape)\n",
    "gitCommitsChanges.head()"
   ]
  },
  {
   "cell_type": "markdown",
   "metadata": {
    "id": "axNAIN0rdm7H"
   },
   "source": [
    "We define a function that returns, given two lists, their intersection."
   ]
  },
  {
   "cell_type": "code",
   "execution_count": 3,
   "metadata": {
    "id": "LFXVd-5jqk4n"
   },
   "outputs": [],
   "source": [
    "def intersection(l1, l2):\n",
    "  temp = set(l2)\n",
    "  l3 = [value for value in l1 if value in temp]\n",
    "  return l3"
   ]
  },
  {
   "cell_type": "markdown",
   "metadata": {
    "id": "U3aVPHNcd4BX"
   },
   "source": [
    "Next, for each attribute, we treat the missing values."
   ]
  },
  {
   "cell_type": "markdown",
   "metadata": {
    "id": "FY8OHtOwsX6o"
   },
   "source": [
    "#### projectID"
   ]
  },
  {
   "cell_type": "code",
   "execution_count": 4,
   "metadata": {
    "colab": {
     "base_uri": "https://localhost:8080/",
     "height": 34
    },
    "executionInfo": {
     "elapsed": 756,
     "status": "ok",
     "timestamp": 1602780218832,
     "user": {
      "displayName": "Laia Albors Zumel",
      "photoUrl": "",
      "userId": "07110507271504138336"
     },
     "user_tz": -120
    },
    "id": "Jgzb5qJHsZvf",
    "outputId": "85be4bec-c743-4db7-9036-20127cf8c8dd"
   },
   "outputs": [
    {
     "data": {
      "text/plain": [
       "33"
      ]
     },
     "execution_count": 4,
     "metadata": {},
     "output_type": "execute_result"
    }
   ],
   "source": [
    "len(gitCommitsChanges.projectID.unique())"
   ]
  },
  {
   "cell_type": "code",
   "execution_count": 5,
   "metadata": {
    "colab": {
     "base_uri": "https://localhost:8080/",
     "height": 34
    },
    "executionInfo": {
     "elapsed": 544,
     "status": "ok",
     "timestamp": 1602780218833,
     "user": {
      "displayName": "Laia Albors Zumel",
      "photoUrl": "",
      "userId": "07110507271504138336"
     },
     "user_tz": -120
    },
    "id": "VxBQnqi5se3i",
    "outputId": "1ca5eadf-3bd3-4c75-93c6-035e3d8aef47"
   },
   "outputs": [
    {
     "data": {
      "text/plain": [
       "0"
      ]
     },
     "execution_count": 5,
     "metadata": {},
     "output_type": "execute_result"
    }
   ],
   "source": [
    "projectIDNan = list(np.where(gitCommitsChanges.projectID.isna()))[0]\n",
    "len(projectIDNan)"
   ]
  },
  {
   "cell_type": "markdown",
   "metadata": {
    "id": "DvvNicqnsm4v"
   },
   "source": [
    "#### commitHash"
   ]
  },
  {
   "cell_type": "code",
   "execution_count": 6,
   "metadata": {
    "colab": {
     "base_uri": "https://localhost:8080/",
     "height": 34
    },
    "executionInfo": {
     "elapsed": 762,
     "status": "ok",
     "timestamp": 1602780219728,
     "user": {
      "displayName": "Laia Albors Zumel",
      "photoUrl": "",
      "userId": "07110507271504138336"
     },
     "user_tz": -120
    },
    "id": "GcbxHdE1sm4x",
    "outputId": "1daf19e2-c248-4e0b-eb66-50df71ac0fd1"
   },
   "outputs": [
    {
     "data": {
      "text/plain": [
       "128279"
      ]
     },
     "execution_count": 6,
     "metadata": {},
     "output_type": "execute_result"
    }
   ],
   "source": [
    "len(gitCommitsChanges.commitHash.unique())"
   ]
  },
  {
   "cell_type": "code",
   "execution_count": 7,
   "metadata": {
    "colab": {
     "base_uri": "https://localhost:8080/",
     "height": 34
    },
    "executionInfo": {
     "elapsed": 496,
     "status": "ok",
     "timestamp": 1602780219729,
     "user": {
      "displayName": "Laia Albors Zumel",
      "photoUrl": "",
      "userId": "07110507271504138336"
     },
     "user_tz": -120
    },
    "id": "63UuZPQ2sm44",
    "outputId": "498fa329-43fa-4838-ff19-42079ab73420"
   },
   "outputs": [
    {
     "data": {
      "text/plain": [
       "0"
      ]
     },
     "execution_count": 7,
     "metadata": {},
     "output_type": "execute_result"
    }
   ],
   "source": [
    "commitHashNan = list(np.where(gitCommitsChanges.commitHash.isna()))[0]\n",
    "len(commitHashNan)"
   ]
  },
  {
   "cell_type": "markdown",
   "metadata": {
    "id": "GPqBJrwOmJ1m"
   },
   "source": [
    "#### changeType"
   ]
  },
  {
   "cell_type": "code",
   "execution_count": 8,
   "metadata": {
    "colab": {
     "base_uri": "https://localhost:8080/",
     "height": 34
    },
    "executionInfo": {
     "elapsed": 599,
     "status": "ok",
     "timestamp": 1602780220500,
     "user": {
      "displayName": "Laia Albors Zumel",
      "photoUrl": "",
      "userId": "07110507271504138336"
     },
     "user_tz": -120
    },
    "id": "vDOIBIuJmH2k",
    "outputId": "0bc3e83d-1711-4114-c0aa-43c3308b8419"
   },
   "outputs": [
    {
     "data": {
      "text/plain": [
       "5"
      ]
     },
     "execution_count": 8,
     "metadata": {},
     "output_type": "execute_result"
    }
   ],
   "source": [
    "len(gitCommitsChanges.changeType.unique())"
   ]
  },
  {
   "cell_type": "code",
   "execution_count": 9,
   "metadata": {
    "colab": {
     "base_uri": "https://localhost:8080/",
     "height": 34
    },
    "executionInfo": {
     "elapsed": 858,
     "status": "ok",
     "timestamp": 1602780220947,
     "user": {
      "displayName": "Laia Albors Zumel",
      "photoUrl": "",
      "userId": "07110507271504138336"
     },
     "user_tz": -120
    },
    "id": "YSVmB8yLoiZE",
    "outputId": "5ba4033a-fee3-467e-c571-5b48cd06eed1"
   },
   "outputs": [
    {
     "data": {
      "text/plain": [
       "0"
      ]
     },
     "execution_count": 9,
     "metadata": {},
     "output_type": "execute_result"
    }
   ],
   "source": [
    "changeTypeNan = list(np.where(gitCommitsChanges.changeType.isna()))[0]\n",
    "len(changeTypeNan)"
   ]
  },
  {
   "cell_type": "markdown",
   "metadata": {
    "id": "H0NfuLdKEd1E"
   },
   "source": [
    "#### linesAdded"
   ]
  },
  {
   "cell_type": "code",
   "execution_count": 10,
   "metadata": {
    "colab": {
     "base_uri": "https://localhost:8080/",
     "height": 34
    },
    "executionInfo": {
     "elapsed": 477,
     "status": "ok",
     "timestamp": 1602780221153,
     "user": {
      "displayName": "Laia Albors Zumel",
      "photoUrl": "",
      "userId": "07110507271504138336"
     },
     "user_tz": -120
    },
    "id": "WsaPzYZuEd1U",
    "outputId": "8deee183-6300-4c5a-d4a9-67393931d3fe"
   },
   "outputs": [
    {
     "data": {
      "text/plain": [
       "2565"
      ]
     },
     "execution_count": 10,
     "metadata": {},
     "output_type": "execute_result"
    }
   ],
   "source": [
    "len(gitCommitsChanges.linesAdded.unique())"
   ]
  },
  {
   "cell_type": "code",
   "execution_count": 11,
   "metadata": {
    "colab": {
     "base_uri": "https://localhost:8080/",
     "height": 34
    },
    "executionInfo": {
     "elapsed": 451,
     "status": "ok",
     "timestamp": 1602780221461,
     "user": {
      "displayName": "Laia Albors Zumel",
      "photoUrl": "",
      "userId": "07110507271504138336"
     },
     "user_tz": -120
    },
    "id": "qh6sITLpEd1Z",
    "outputId": "e0c860f5-8550-4d1d-854f-1f929ed94a44"
   },
   "outputs": [
    {
     "data": {
      "text/plain": [
       "0"
      ]
     },
     "execution_count": 11,
     "metadata": {},
     "output_type": "execute_result"
    }
   ],
   "source": [
    "linesAddedNan = list(np.where(gitCommitsChanges.linesAdded.isna()))[0]\n",
    "len(linesAddedNan)"
   ]
  },
  {
   "cell_type": "markdown",
   "metadata": {
    "id": "LOuqvbSKEpG6"
   },
   "source": [
    "#### linesRemoved"
   ]
  },
  {
   "cell_type": "code",
   "execution_count": 12,
   "metadata": {
    "colab": {
     "base_uri": "https://localhost:8080/",
     "height": 34
    },
    "executionInfo": {
     "elapsed": 527,
     "status": "ok",
     "timestamp": 1602780222362,
     "user": {
      "displayName": "Laia Albors Zumel",
      "photoUrl": "",
      "userId": "07110507271504138336"
     },
     "user_tz": -120
    },
    "id": "5jXhHFQ6EpG_",
    "outputId": "e3425268-2398-48c5-e14a-a58d3ea85fa4"
   },
   "outputs": [
    {
     "data": {
      "text/plain": [
       "2407"
      ]
     },
     "execution_count": 12,
     "metadata": {},
     "output_type": "execute_result"
    }
   ],
   "source": [
    "len(gitCommitsChanges.linesRemoved.unique())"
   ]
  },
  {
   "cell_type": "code",
   "execution_count": 13,
   "metadata": {
    "colab": {
     "base_uri": "https://localhost:8080/",
     "height": 34
    },
    "executionInfo": {
     "elapsed": 422,
     "status": "ok",
     "timestamp": 1602780222569,
     "user": {
      "displayName": "Laia Albors Zumel",
      "photoUrl": "",
      "userId": "07110507271504138336"
     },
     "user_tz": -120
    },
    "id": "5wxKvUDiEpHM",
    "outputId": "6f0d746f-e7cd-41fc-cf4e-7cf543bc847f"
   },
   "outputs": [
    {
     "data": {
      "text/plain": [
       "0"
      ]
     },
     "execution_count": 13,
     "metadata": {},
     "output_type": "execute_result"
    }
   ],
   "source": [
    "linesRemovedNan = list(np.where(gitCommitsChanges.linesRemoved.isna()))[0]\n",
    "len(linesRemovedNan)"
   ]
  },
  {
   "cell_type": "markdown",
   "metadata": {
    "id": "5IfQME-IvlAs"
   },
   "source": [
    "---\n",
    "\n",
    "So, in this case the table is OK.\n",
    "\n",
    "We save it into a new csv."
   ]
  },
  {
   "cell_type": "code",
   "execution_count": 14,
   "metadata": {
    "id": "ejgldW98wQxS"
   },
   "outputs": [],
   "source": [
    "gitCommitsChanges.to_csv('../../../data/interim/DataPreparation/CleanData/GIT_COMMITS_CHANGES_clean.csv', header=True)"
   ]
  }
 ],
 "metadata": {
  "colab": {
   "collapsed_sections": [],
   "name": "GIT_COMMITS_CHANGES.ipynb",
   "provenance": []
  },
  "kernelspec": {
   "display_name": "Python 3",
   "language": "python",
   "name": "python3"
  },
  "language_info": {
   "codemirror_mode": {
    "name": "ipython",
    "version": 3
   },
   "file_extension": ".py",
   "mimetype": "text/x-python",
   "name": "python",
   "nbconvert_exporter": "python",
   "pygments_lexer": "ipython3",
   "version": "3.8.3"
  }
 },
 "nbformat": 4,
 "nbformat_minor": 1
}
