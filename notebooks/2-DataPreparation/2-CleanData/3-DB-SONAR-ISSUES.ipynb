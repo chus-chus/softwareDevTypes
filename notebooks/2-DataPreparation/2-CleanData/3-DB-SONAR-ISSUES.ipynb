{
 "cells": [
  {
   "cell_type": "markdown",
   "metadata": {
    "id": "kls5K_WXgIIH"
   },
   "source": [
    "# **SONAR_ISSUES**\n",
    "\n",
    "This notebook the cleaning of the attributes of the table `SONAR_ISSUES`.\n",
    "\n",
    "First, we import the libraries we need and, then, we read the corresponding csv."
   ]
  },
  {
   "cell_type": "code",
   "execution_count": 2,
   "metadata": {
    "id": "_1jC72O8lmqk"
   },
   "outputs": [],
   "source": [
    "import pandas as pd\n",
    "import numpy as np"
   ]
  },
  {
   "cell_type": "code",
   "execution_count": 3,
   "metadata": {
    "colab": {
     "base_uri": "https://localhost:8080/",
     "height": 343
    },
    "executionInfo": {
     "elapsed": 2741,
     "status": "ok",
     "timestamp": 1602317311184,
     "user": {
      "displayName": "Laia Albors Zumel",
      "photoUrl": "",
      "userId": "07110507271504138336"
     },
     "user_tz": -120
    },
    "id": "MVgdjl7Ll_UL",
    "outputId": "189fd03d-1add-43bd-c53c-9954be09e932"
   },
   "outputs": [
    {
     "name": "stdout",
     "output_type": "stream",
     "text": [
      "(1941508, 9)\n"
     ]
    },
    {
     "data": {
      "text/html": [
       "<div>\n",
       "<style scoped>\n",
       "    .dataframe tbody tr th:only-of-type {\n",
       "        vertical-align: middle;\n",
       "    }\n",
       "\n",
       "    .dataframe tbody tr th {\n",
       "        vertical-align: top;\n",
       "    }\n",
       "\n",
       "    .dataframe thead th {\n",
       "        text-align: right;\n",
       "    }\n",
       "</style>\n",
       "<table border=\"1\" class=\"dataframe\">\n",
       "  <thead>\n",
       "    <tr style=\"text-align: right;\">\n",
       "      <th></th>\n",
       "      <th>projectID</th>\n",
       "      <th>creationDate</th>\n",
       "      <th>closeDate</th>\n",
       "      <th>creationCommitHash</th>\n",
       "      <th>closeCommitHash</th>\n",
       "      <th>type</th>\n",
       "      <th>severity</th>\n",
       "      <th>debt</th>\n",
       "      <th>author</th>\n",
       "    </tr>\n",
       "  </thead>\n",
       "  <tbody>\n",
       "    <tr>\n",
       "      <th>0</th>\n",
       "      <td>commons-daemon</td>\n",
       "      <td>2003-09-04T23:28:19Z</td>\n",
       "      <td>NaN</td>\n",
       "      <td>d3416d3a25b16da3d18b3849522fa96183918e5b</td>\n",
       "      <td>NaN</td>\n",
       "      <td>CODE_SMELL</td>\n",
       "      <td>MAJOR</td>\n",
       "      <td>20min</td>\n",
       "      <td>yoavs@apache.org</td>\n",
       "    </tr>\n",
       "    <tr>\n",
       "      <th>1</th>\n",
       "      <td>commons-daemon</td>\n",
       "      <td>2003-09-04T23:28:19Z</td>\n",
       "      <td>2010-03-15T08:09:26Z</td>\n",
       "      <td>d3416d3a25b16da3d18b3849522fa96183918e5b</td>\n",
       "      <td>6cbc872eb202dfc27f2eb59b02d953c3deca32c8</td>\n",
       "      <td>CODE_SMELL</td>\n",
       "      <td>MINOR</td>\n",
       "      <td>1min</td>\n",
       "      <td>yoavs@apache.org</td>\n",
       "    </tr>\n",
       "    <tr>\n",
       "      <th>2</th>\n",
       "      <td>commons-daemon</td>\n",
       "      <td>2003-09-04T23:28:19Z</td>\n",
       "      <td>2010-03-15T08:09:26Z</td>\n",
       "      <td>d3416d3a25b16da3d18b3849522fa96183918e5b</td>\n",
       "      <td>6cbc872eb202dfc27f2eb59b02d953c3deca32c8</td>\n",
       "      <td>CODE_SMELL</td>\n",
       "      <td>MINOR</td>\n",
       "      <td>1min</td>\n",
       "      <td>yoavs@apache.org</td>\n",
       "    </tr>\n",
       "    <tr>\n",
       "      <th>3</th>\n",
       "      <td>commons-daemon</td>\n",
       "      <td>2003-09-04T23:28:19Z</td>\n",
       "      <td>2010-03-15T08:09:26Z</td>\n",
       "      <td>d3416d3a25b16da3d18b3849522fa96183918e5b</td>\n",
       "      <td>6cbc872eb202dfc27f2eb59b02d953c3deca32c8</td>\n",
       "      <td>CODE_SMELL</td>\n",
       "      <td>MINOR</td>\n",
       "      <td>1min</td>\n",
       "      <td>yoavs@apache.org</td>\n",
       "    </tr>\n",
       "    <tr>\n",
       "      <th>4</th>\n",
       "      <td>commons-daemon</td>\n",
       "      <td>2003-09-04T23:28:19Z</td>\n",
       "      <td>2010-03-15T08:09:26Z</td>\n",
       "      <td>d3416d3a25b16da3d18b3849522fa96183918e5b</td>\n",
       "      <td>6cbc872eb202dfc27f2eb59b02d953c3deca32c8</td>\n",
       "      <td>CODE_SMELL</td>\n",
       "      <td>MINOR</td>\n",
       "      <td>1min</td>\n",
       "      <td>yoavs@apache.org</td>\n",
       "    </tr>\n",
       "  </tbody>\n",
       "</table>\n",
       "</div>"
      ],
      "text/plain": [
       "        projectID          creationDate             closeDate  \\\n",
       "0  commons-daemon  2003-09-04T23:28:19Z                   NaN   \n",
       "1  commons-daemon  2003-09-04T23:28:19Z  2010-03-15T08:09:26Z   \n",
       "2  commons-daemon  2003-09-04T23:28:19Z  2010-03-15T08:09:26Z   \n",
       "3  commons-daemon  2003-09-04T23:28:19Z  2010-03-15T08:09:26Z   \n",
       "4  commons-daemon  2003-09-04T23:28:19Z  2010-03-15T08:09:26Z   \n",
       "\n",
       "                         creationCommitHash  \\\n",
       "0  d3416d3a25b16da3d18b3849522fa96183918e5b   \n",
       "1  d3416d3a25b16da3d18b3849522fa96183918e5b   \n",
       "2  d3416d3a25b16da3d18b3849522fa96183918e5b   \n",
       "3  d3416d3a25b16da3d18b3849522fa96183918e5b   \n",
       "4  d3416d3a25b16da3d18b3849522fa96183918e5b   \n",
       "\n",
       "                            closeCommitHash        type severity   debt  \\\n",
       "0                                       NaN  CODE_SMELL    MAJOR  20min   \n",
       "1  6cbc872eb202dfc27f2eb59b02d953c3deca32c8  CODE_SMELL    MINOR   1min   \n",
       "2  6cbc872eb202dfc27f2eb59b02d953c3deca32c8  CODE_SMELL    MINOR   1min   \n",
       "3  6cbc872eb202dfc27f2eb59b02d953c3deca32c8  CODE_SMELL    MINOR   1min   \n",
       "4  6cbc872eb202dfc27f2eb59b02d953c3deca32c8  CODE_SMELL    MINOR   1min   \n",
       "\n",
       "             author  \n",
       "0  yoavs@apache.org  \n",
       "1  yoavs@apache.org  \n",
       "2  yoavs@apache.org  \n",
       "3  yoavs@apache.org  \n",
       "4  yoavs@apache.org  "
      ]
     },
     "execution_count": 3,
     "metadata": {},
     "output_type": "execute_result"
    }
   ],
   "source": [
    "sonarIssues = pd.read_csv(\"../../../data/interim/DataPreparation/SelectData/SONAR_ISSUES_select.csv\").iloc[:,1:]\n",
    "print(sonarIssues.shape)\n",
    "sonarIssues.head()"
   ]
  },
  {
   "cell_type": "markdown",
   "metadata": {
    "id": "JRAGEVR5gL6S"
   },
   "source": [
    "We define 2 functions that returns, given two lists, their intersection and their difference, respectively."
   ]
  },
  {
   "cell_type": "code",
   "execution_count": 4,
   "metadata": {
    "id": "LFXVd-5jqk4n"
   },
   "outputs": [],
   "source": [
    "def intersection(l1, l2):\n",
    "  temp = set(l2)\n",
    "  l3 = [value for value in l1 if value in temp]\n",
    "  return l3\n",
    "\n",
    "def difference(li1, li2): \n",
    "    return (list(list(set(li1)-set(li2)) + list(set(li2)-set(li1))))"
   ]
  },
  {
   "cell_type": "markdown",
   "metadata": {
    "id": "I4t6PzYVgU3s"
   },
   "source": [
    "Next, for each attribute, we treat the missing values."
   ]
  },
  {
   "cell_type": "markdown",
   "metadata": {
    "id": "JbVRSmzZgFgl"
   },
   "source": [
    "#### projectID"
   ]
  },
  {
   "cell_type": "code",
   "execution_count": 5,
   "metadata": {
    "id": "BlWhxLl7gFgm",
    "outputId": "fa7e8b64-5801-4a56-e5cc-97437b1bfb29"
   },
   "outputs": [
    {
     "data": {
      "text/plain": [
       "33"
      ]
     },
     "execution_count": 5,
     "metadata": {},
     "output_type": "execute_result"
    }
   ],
   "source": [
    "len(sonarIssues.projectID.unique())"
   ]
  },
  {
   "cell_type": "code",
   "execution_count": 6,
   "metadata": {
    "id": "0w1tWzzngFgq",
    "outputId": "0eb26a53-0ce8-4e8c-ecca-7772713d5712"
   },
   "outputs": [
    {
     "data": {
      "text/plain": [
       "0"
      ]
     },
     "execution_count": 6,
     "metadata": {},
     "output_type": "execute_result"
    }
   ],
   "source": [
    "projectIDNan = list(np.where(sonarIssues.projectID.isna()))[0]\n",
    "len(projectIDNan)"
   ]
  },
  {
   "cell_type": "markdown",
   "metadata": {
    "id": "L_4OflEQgFgt"
   },
   "source": [
    "#### creationDate"
   ]
  },
  {
   "cell_type": "code",
   "execution_count": 7,
   "metadata": {
    "id": "DKJVxf0DgFgu",
    "outputId": "93a0bc02-0f66-458c-cfee-a52d8fb55a0b"
   },
   "outputs": [
    {
     "data": {
      "text/plain": [
       "19741"
      ]
     },
     "execution_count": 7,
     "metadata": {},
     "output_type": "execute_result"
    }
   ],
   "source": [
    "len(sonarIssues.creationDate.unique())"
   ]
  },
  {
   "cell_type": "code",
   "execution_count": 8,
   "metadata": {
    "id": "pF7Apt6IgFgy",
    "outputId": "5fd0985b-25d6-4c1b-bf33-ecf41926bb1a"
   },
   "outputs": [
    {
     "data": {
      "text/plain": [
       "0"
      ]
     },
     "execution_count": 8,
     "metadata": {},
     "output_type": "execute_result"
    }
   ],
   "source": [
    "creationDateNan = list(np.where(sonarIssues.creationDate.isna()))[0]\n",
    "len(creationDateNan)"
   ]
  },
  {
   "cell_type": "markdown",
   "metadata": {
    "id": "pi8NNsIygFg2"
   },
   "source": [
    "#### closeDate"
   ]
  },
  {
   "cell_type": "code",
   "execution_count": 9,
   "metadata": {
    "id": "U64RtCf-gFg3",
    "outputId": "eebb0a37-3534-4e1f-b632-5cbd525943ca"
   },
   "outputs": [
    {
     "name": "stdout",
     "output_type": "stream",
     "text": [
      "16069\n",
      "124457\n"
     ]
    },
    {
     "data": {
      "text/plain": [
       "0.06410326406071981"
      ]
     },
     "execution_count": 9,
     "metadata": {},
     "output_type": "execute_result"
    }
   ],
   "source": [
    "print(len(sonarIssues.closeDate.unique()))\n",
    "closeDateNan = list(np.where(sonarIssues.closeDate.isna()))[0]\n",
    "print(len(closeDateNan))\n",
    "len(closeDateNan)/sonarIssues.shape[0]"
   ]
  },
  {
   "cell_type": "markdown",
   "metadata": {
    "id": "R9wxo-SvjVb5"
   },
   "source": [
    "#### creationCommitHash"
   ]
  },
  {
   "cell_type": "code",
   "execution_count": 10,
   "metadata": {
    "colab": {
     "base_uri": "https://localhost:8080/",
     "height": 34
    },
    "executionInfo": {
     "elapsed": 2328,
     "status": "ok",
     "timestamp": 1602317332269,
     "user": {
      "displayName": "Laia Albors Zumel",
      "photoUrl": "",
      "userId": "07110507271504138336"
     },
     "user_tz": -120
    },
    "id": "cv3yJqCVjYAs",
    "outputId": "122d8a7f-ca9f-4fef-f5c1-c2c5972c47c7"
   },
   "outputs": [
    {
     "data": {
      "text/plain": [
       "19749"
      ]
     },
     "execution_count": 10,
     "metadata": {},
     "output_type": "execute_result"
    }
   ],
   "source": [
    "len(sonarIssues.creationCommitHash.unique())"
   ]
  },
  {
   "cell_type": "code",
   "execution_count": 11,
   "metadata": {
    "colab": {
     "base_uri": "https://localhost:8080/",
     "height": 34
    },
    "executionInfo": {
     "elapsed": 2069,
     "status": "ok",
     "timestamp": 1602317343939,
     "user": {
      "displayName": "Laia Albors Zumel",
      "photoUrl": "",
      "userId": "07110507271504138336"
     },
     "user_tz": -120
    },
    "id": "YMquzHErjfp8",
    "outputId": "3d9665ab-7d72-4300-dea6-0a1dbe0d69c3"
   },
   "outputs": [
    {
     "data": {
      "text/plain": [
       "0"
      ]
     },
     "execution_count": 11,
     "metadata": {},
     "output_type": "execute_result"
    }
   ],
   "source": [
    "creationCommitHashNan = list(np.where(sonarIssues.creationCommitHash.isna()))[0]\n",
    "len(creationCommitHashNan)"
   ]
  },
  {
   "cell_type": "markdown",
   "metadata": {
    "id": "wJI7uVsFgFhD"
   },
   "source": [
    "#### closeCommitHash"
   ]
  },
  {
   "cell_type": "code",
   "execution_count": 12,
   "metadata": {
    "id": "GxI65u39gFhD",
    "outputId": "44f52609-3d33-44de-a349-a0ac4793f6e0"
   },
   "outputs": [
    {
     "data": {
      "text/plain": [
       "16070"
      ]
     },
     "execution_count": 12,
     "metadata": {},
     "output_type": "execute_result"
    }
   ],
   "source": [
    "len(sonarIssues.closeCommitHash.unique())"
   ]
  },
  {
   "cell_type": "code",
   "execution_count": 13,
   "metadata": {
    "id": "h641jdwAgFhH",
    "outputId": "668b040d-ab0e-4f6f-9b8a-c9b65280819d"
   },
   "outputs": [
    {
     "name": "stdout",
     "output_type": "stream",
     "text": [
      "127832\n"
     ]
    },
    {
     "data": {
      "text/plain": [
       "0.0658416035370444"
      ]
     },
     "execution_count": 13,
     "metadata": {},
     "output_type": "execute_result"
    }
   ],
   "source": [
    "closeCommitHashNan = list(np.where(sonarIssues.closeCommitHash.isna()))[0]\n",
    "print(len(closeCommitHashNan))\n",
    "len(closeCommitHashNan)/sonarIssues.shape[0]"
   ]
  },
  {
   "cell_type": "markdown",
   "metadata": {
    "id": "xyjsViq_sIVa"
   },
   "source": [
    "#### type"
   ]
  },
  {
   "cell_type": "code",
   "execution_count": 14,
   "metadata": {
    "colab": {
     "base_uri": "https://localhost:8080/",
     "height": 34
    },
    "executionInfo": {
     "elapsed": 1215,
     "status": "ok",
     "timestamp": 1602317411664,
     "user": {
      "displayName": "Laia Albors Zumel",
      "photoUrl": "",
      "userId": "07110507271504138336"
     },
     "user_tz": -120
    },
    "id": "eL0MKykdsK1K",
    "outputId": "897c1594-0128-434d-e424-4907b1a13ca1"
   },
   "outputs": [
    {
     "name": "stdout",
     "output_type": "stream",
     "text": [
      "3\n"
     ]
    },
    {
     "data": {
      "text/plain": [
       "0"
      ]
     },
     "execution_count": 14,
     "metadata": {},
     "output_type": "execute_result"
    }
   ],
   "source": [
    "print(len(sonarIssues.type.unique()))\n",
    "typeNan = list(np.where(sonarIssues.type.isna()))[0]\n",
    "len(typeNan)"
   ]
  },
  {
   "cell_type": "markdown",
   "metadata": {
    "id": "HqG8ii-dkA7N"
   },
   "source": [
    "#### severity"
   ]
  },
  {
   "cell_type": "code",
   "execution_count": 15,
   "metadata": {
    "colab": {
     "base_uri": "https://localhost:8080/",
     "height": 34
    },
    "executionInfo": {
     "elapsed": 2358,
     "status": "ok",
     "timestamp": 1602317498162,
     "user": {
      "displayName": "Laia Albors Zumel",
      "photoUrl": "",
      "userId": "07110507271504138336"
     },
     "user_tz": -120
    },
    "id": "7y5wBzuOkBwM",
    "outputId": "c0fc51ed-e487-453c-cbef-0a08866424a5"
   },
   "outputs": [
    {
     "name": "stdout",
     "output_type": "stream",
     "text": [
      "5\n"
     ]
    },
    {
     "data": {
      "text/plain": [
       "0"
      ]
     },
     "execution_count": 15,
     "metadata": {},
     "output_type": "execute_result"
    }
   ],
   "source": [
    "print(len(sonarIssues.severity.unique()))\n",
    "severityNan = list(np.where(sonarIssues.severity.isna()))[0]\n",
    "len(severityNan)"
   ]
  },
  {
   "cell_type": "markdown",
   "metadata": {
    "id": "lGDqbDyRkRxd"
   },
   "source": [
    "#### debt"
   ]
  },
  {
   "cell_type": "code",
   "execution_count": 16,
   "metadata": {
    "colab": {
     "base_uri": "https://localhost:8080/",
     "height": 34
    },
    "executionInfo": {
     "elapsed": 2029,
     "status": "ok",
     "timestamp": 1602317571596,
     "user": {
      "displayName": "Laia Albors Zumel",
      "photoUrl": "",
      "userId": "07110507271504138336"
     },
     "user_tz": -120
    },
    "id": "9MoI6GRvkTM3",
    "outputId": "9477f2c1-7ab0-4f01-c764-676787881283"
   },
   "outputs": [
    {
     "name": "stdout",
     "output_type": "stream",
     "text": [
      "376\n"
     ]
    },
    {
     "data": {
      "text/plain": [
       "24088"
      ]
     },
     "execution_count": 16,
     "metadata": {},
     "output_type": "execute_result"
    }
   ],
   "source": [
    "print(len(sonarIssues.debt.unique()))\n",
    "debtNan = list(np.where(sonarIssues.debt.isna()))[0]\n",
    "len(debtNan)"
   ]
  },
  {
   "cell_type": "markdown",
   "metadata": {
    "id": "Kdh0oj4Hkhur"
   },
   "source": [
    "#### author"
   ]
  },
  {
   "cell_type": "code",
   "execution_count": 17,
   "metadata": {
    "colab": {
     "base_uri": "https://localhost:8080/",
     "height": 34
    },
    "executionInfo": {
     "elapsed": 2374,
     "status": "ok",
     "timestamp": 1602317614259,
     "user": {
      "displayName": "Laia Albors Zumel",
      "photoUrl": "",
      "userId": "07110507271504138336"
     },
     "user_tz": -120
    },
    "id": "J4fWD2aYkjlc",
    "outputId": "60230012-f160-440d-87e6-99a6f722e4cc"
   },
   "outputs": [
    {
     "name": "stdout",
     "output_type": "stream",
     "text": [
      "567\n",
      "387753\n"
     ]
    },
    {
     "data": {
      "text/plain": [
       "0.1997174361372706"
      ]
     },
     "execution_count": 17,
     "metadata": {},
     "output_type": "execute_result"
    }
   ],
   "source": [
    "print(len(sonarIssues.author.unique()))\n",
    "authorNan = list(np.where(sonarIssues.author.isna()))[0]\n",
    "print(len(authorNan))\n",
    "len(authorNan)/sonarIssues.shape[0]"
   ]
  },
  {
   "cell_type": "markdown",
   "metadata": {
    "id": "fW8CESXrgFha"
   },
   "source": [
    "---\n",
    "\n",
    "So we have 4 attributes with missing values: `closeDate`, `closeCommitHash`, `debt` and `author`."
   ]
  },
  {
   "cell_type": "markdown",
   "metadata": {
    "id": "FQf8leQPgFhb"
   },
   "source": [
    "#### closeDate and closeCommitHash"
   ]
  },
  {
   "cell_type": "markdown",
   "metadata": {
    "id": "Iyrny-yXgFhb"
   },
   "source": [
    "We intersect the rows indices of the missing values of each attribute."
   ]
  },
  {
   "cell_type": "code",
   "execution_count": 18,
   "metadata": {
    "id": "l86dGwj5gFhc",
    "outputId": "1cc13761-c418-4693-ae5f-83e5ed760e6f"
   },
   "outputs": [
    {
     "name": "stdout",
     "output_type": "stream",
     "text": [
      "124457\n",
      "127832\n"
     ]
    },
    {
     "data": {
      "text/plain": [
       "124457"
      ]
     },
     "execution_count": 18,
     "metadata": {},
     "output_type": "execute_result"
    }
   ],
   "source": [
    "print(len(closeDateNan))\n",
    "print(len(closeCommitHashNan))\n",
    "inter = intersection(closeDateNan, closeCommitHashNan)\n",
    "len(inter)"
   ]
  },
  {
   "cell_type": "markdown",
   "metadata": {
    "id": "fwES0HjxgFhf"
   },
   "source": [
    "Then, we compute the difference of the rows indices of the missing values of each attribute."
   ]
  },
  {
   "cell_type": "code",
   "execution_count": 19,
   "metadata": {
    "id": "BqOBFeBVgFhf",
    "outputId": "03231061-852b-4f3c-8b7b-947a57bcdf02"
   },
   "outputs": [
    {
     "data": {
      "text/plain": [
       "3375"
      ]
     },
     "execution_count": 19,
     "metadata": {},
     "output_type": "execute_result"
    }
   ],
   "source": [
    "diff = difference(closeCommitHashNan, closeDateNan)\n",
    "len(diff)"
   ]
  },
  {
   "cell_type": "markdown",
   "metadata": {
    "id": "yEwMPsNMgFhi"
   },
   "source": [
    "#### debt"
   ]
  },
  {
   "cell_type": "code",
   "execution_count": 20,
   "metadata": {
    "id": "A4aSXQyzgFhj",
    "outputId": "79c52946-3586-4dd2-8d0b-72e0866f18fe"
   },
   "outputs": [
    {
     "name": "stdout",
     "output_type": "stream",
     "text": [
      "376\n",
      "24088\n"
     ]
    },
    {
     "data": {
      "text/plain": [
       "0.01240685075724643"
      ]
     },
     "execution_count": 20,
     "metadata": {},
     "output_type": "execute_result"
    }
   ],
   "source": [
    "print(len(sonarIssues.debt.unique()))\n",
    "debtNan = list(np.where(sonarIssues.debt.isna())[0])\n",
    "print(len(debtNan))\n",
    "len(debtNan)/sonarIssues.shape[0]"
   ]
  },
  {
   "cell_type": "markdown",
   "metadata": {
    "id": "DHSoY_B9gFhm"
   },
   "source": [
    "After that, we remove the rows with missing values in the `debt` attribute and the ones with only missing value in the `closeCommitHash` column."
   ]
  },
  {
   "cell_type": "code",
   "execution_count": 21,
   "metadata": {
    "id": "L2zIxcP5gFhm",
    "outputId": "9c408dbe-e917-47da-b693-e4c4cabec189"
   },
   "outputs": [
    {
     "data": {
      "text/plain": [
       "(1917420, 10)"
      ]
     },
     "execution_count": 21,
     "metadata": {},
     "output_type": "execute_result"
    }
   ],
   "source": [
    "sonarIssues = sonarIssues.drop(debtNan).reset_index()\n",
    "sonarIssues.shape"
   ]
  },
  {
   "cell_type": "markdown",
   "metadata": {
    "id": "jR10-_NtgFhp"
   },
   "source": [
    "Moreover, we change the missing values of the `closeCommitHash` attribute to 'non-resolved'."
   ]
  },
  {
   "cell_type": "code",
   "execution_count": 22,
   "metadata": {
    "id": "ugfom3sjgFhp"
   },
   "outputs": [],
   "source": [
    "sonarIssues = sonarIssues.fillna({'closeCommitHash': 'not-resolved'})"
   ]
  },
  {
   "cell_type": "markdown",
   "metadata": {
    "id": "gveWIErDgFhu"
   },
   "source": [
    "Now, we try to complete the `author` and `closeDate` columns using the `creationCommitHash` of this table and the `commitHash` attribute of the `GIT_COMMITS` table."
   ]
  },
  {
   "cell_type": "code",
   "execution_count": 23,
   "metadata": {
    "id": "T0h1xQpPgFhv",
    "outputId": "2279f7a4-8604-4fed-bff1-0da7b009664d"
   },
   "outputs": [
    {
     "data": {
      "text/html": [
       "<div>\n",
       "<style scoped>\n",
       "    .dataframe tbody tr th:only-of-type {\n",
       "        vertical-align: middle;\n",
       "    }\n",
       "\n",
       "    .dataframe tbody tr th {\n",
       "        vertical-align: top;\n",
       "    }\n",
       "\n",
       "    .dataframe thead th {\n",
       "        text-align: right;\n",
       "    }\n",
       "</style>\n",
       "<table border=\"1\" class=\"dataframe\">\n",
       "  <thead>\n",
       "    <tr style=\"text-align: right;\">\n",
       "      <th></th>\n",
       "      <th>Unnamed: 0.1</th>\n",
       "      <th>projectID</th>\n",
       "      <th>commitHash</th>\n",
       "      <th>author</th>\n",
       "      <th>committer</th>\n",
       "      <th>committerDate</th>\n",
       "    </tr>\n",
       "  </thead>\n",
       "  <tbody>\n",
       "    <tr>\n",
       "      <th>0</th>\n",
       "      <td>0</td>\n",
       "      <td>accumulo</td>\n",
       "      <td>e0880e263e4bf8662ba3848405200473a25dfc9f</td>\n",
       "      <td>Keith Turner</td>\n",
       "      <td>Keith Turner</td>\n",
       "      <td>2011-10-04T00:46:07Z</td>\n",
       "    </tr>\n",
       "    <tr>\n",
       "      <th>1</th>\n",
       "      <td>1</td>\n",
       "      <td>accumulo</td>\n",
       "      <td>e8774c5ec3a35e042f320540b5f7e66ebd2d9e87</td>\n",
       "      <td>Billie Rinaldi</td>\n",
       "      <td>Billie Rinaldi</td>\n",
       "      <td>2011-10-04T16:57:13Z</td>\n",
       "    </tr>\n",
       "    <tr>\n",
       "      <th>2</th>\n",
       "      <td>2</td>\n",
       "      <td>accumulo</td>\n",
       "      <td>2032ebbd0ed90734da39ca238bbd10dee24d0030</td>\n",
       "      <td>Keith Turner</td>\n",
       "      <td>Keith Turner</td>\n",
       "      <td>2011-10-04T18:39:18Z</td>\n",
       "    </tr>\n",
       "    <tr>\n",
       "      <th>3</th>\n",
       "      <td>3</td>\n",
       "      <td>accumulo</td>\n",
       "      <td>de297d4932e08625a5df146f0802041bb5aeb892</td>\n",
       "      <td>Billie Rinaldi</td>\n",
       "      <td>Billie Rinaldi</td>\n",
       "      <td>2011-10-04T19:31:01Z</td>\n",
       "    </tr>\n",
       "    <tr>\n",
       "      <th>4</th>\n",
       "      <td>4</td>\n",
       "      <td>accumulo</td>\n",
       "      <td>34efaae87639a83b60fdb7274de4b45051025a3a</td>\n",
       "      <td>Billie Rinaldi</td>\n",
       "      <td>Billie Rinaldi</td>\n",
       "      <td>2011-10-05T17:19:06Z</td>\n",
       "    </tr>\n",
       "  </tbody>\n",
       "</table>\n",
       "</div>"
      ],
      "text/plain": [
       "   Unnamed: 0.1 projectID                                commitHash  \\\n",
       "0             0  accumulo  e0880e263e4bf8662ba3848405200473a25dfc9f   \n",
       "1             1  accumulo  e8774c5ec3a35e042f320540b5f7e66ebd2d9e87   \n",
       "2             2  accumulo  2032ebbd0ed90734da39ca238bbd10dee24d0030   \n",
       "3             3  accumulo  de297d4932e08625a5df146f0802041bb5aeb892   \n",
       "4             4  accumulo  34efaae87639a83b60fdb7274de4b45051025a3a   \n",
       "\n",
       "           author       committer         committerDate  \n",
       "0    Keith Turner    Keith Turner  2011-10-04T00:46:07Z  \n",
       "1  Billie Rinaldi  Billie Rinaldi  2011-10-04T16:57:13Z  \n",
       "2    Keith Turner    Keith Turner  2011-10-04T18:39:18Z  \n",
       "3  Billie Rinaldi  Billie Rinaldi  2011-10-04T19:31:01Z  \n",
       "4  Billie Rinaldi  Billie Rinaldi  2011-10-05T17:19:06Z  "
      ]
     },
     "execution_count": 23,
     "metadata": {},
     "output_type": "execute_result"
    }
   ],
   "source": [
    "gitCommits = pd.read_csv(\"../../../data/interim/DataPreparation/CleanData/GIT_COMMITS_clean.csv\").iloc[:,1:]\n",
    "gitCommits.shape\n",
    "gitCommits.head()"
   ]
  },
  {
   "cell_type": "markdown",
   "metadata": {
    "id": "WBofDxOrZ3vQ"
   },
   "source": [
    "We fill the missing values of the `closeDate` by the timestamp of the last commit of the project."
   ]
  },
  {
   "cell_type": "code",
   "execution_count": 24,
   "metadata": {
    "id": "LzgLp8W8gFh2",
    "outputId": "1eff9dde-0ad2-4071-f609-b7f891e08cc2"
   },
   "outputs": [
    {
     "data": {
      "text/html": [
       "<div>\n",
       "<style scoped>\n",
       "    .dataframe tbody tr th:only-of-type {\n",
       "        vertical-align: middle;\n",
       "    }\n",
       "\n",
       "    .dataframe tbody tr th {\n",
       "        vertical-align: top;\n",
       "    }\n",
       "\n",
       "    .dataframe thead th {\n",
       "        text-align: right;\n",
       "    }\n",
       "</style>\n",
       "<table border=\"1\" class=\"dataframe\">\n",
       "  <thead>\n",
       "    <tr style=\"text-align: right;\">\n",
       "      <th></th>\n",
       "      <th>committerDate</th>\n",
       "    </tr>\n",
       "    <tr>\n",
       "      <th>projectID</th>\n",
       "      <th></th>\n",
       "    </tr>\n",
       "  </thead>\n",
       "  <tbody>\n",
       "    <tr>\n",
       "      <th>accumulo</th>\n",
       "      <td>2019-07-18T15:21:42Z</td>\n",
       "    </tr>\n",
       "    <tr>\n",
       "      <th>ambari</th>\n",
       "      <td>2019-07-17T12:12:16Z</td>\n",
       "    </tr>\n",
       "    <tr>\n",
       "      <th>atlas</th>\n",
       "      <td>2019-07-19T11:18:34Z</td>\n",
       "    </tr>\n",
       "    <tr>\n",
       "      <th>aurora</th>\n",
       "      <td>2019-06-24T22:51:26Z</td>\n",
       "    </tr>\n",
       "    <tr>\n",
       "      <th>batik</th>\n",
       "      <td>2019-07-05T10:10:47Z</td>\n",
       "    </tr>\n",
       "  </tbody>\n",
       "</table>\n",
       "</div>"
      ],
      "text/plain": [
       "                  committerDate\n",
       "projectID                      \n",
       "accumulo   2019-07-18T15:21:42Z\n",
       "ambari     2019-07-17T12:12:16Z\n",
       "atlas      2019-07-19T11:18:34Z\n",
       "aurora     2019-06-24T22:51:26Z\n",
       "batik      2019-07-05T10:10:47Z"
      ]
     },
     "execution_count": 24,
     "metadata": {},
     "output_type": "execute_result"
    }
   ],
   "source": [
    "lastTimestamp = gitCommits.loc[:,['projectID', 'committerDate']].groupby(['projectID']).max()\n",
    "lastTimestamp.head()"
   ]
  },
  {
   "cell_type": "code",
   "execution_count": 25,
   "metadata": {
    "id": "6THnhSzegFh5",
    "outputId": "4d07f860-6586-496a-bbe4-a73eee3e286b"
   },
   "outputs": [
    {
     "data": {
      "text/html": [
       "<div>\n",
       "<style scoped>\n",
       "    .dataframe tbody tr th:only-of-type {\n",
       "        vertical-align: middle;\n",
       "    }\n",
       "\n",
       "    .dataframe tbody tr th {\n",
       "        vertical-align: top;\n",
       "    }\n",
       "\n",
       "    .dataframe thead th {\n",
       "        text-align: right;\n",
       "    }\n",
       "</style>\n",
       "<table border=\"1\" class=\"dataframe\">\n",
       "  <thead>\n",
       "    <tr style=\"text-align: right;\">\n",
       "      <th></th>\n",
       "      <th>index</th>\n",
       "      <th>projectID</th>\n",
       "      <th>creationDate</th>\n",
       "      <th>closeDate</th>\n",
       "      <th>creationCommitHash</th>\n",
       "      <th>closeCommitHash</th>\n",
       "      <th>type</th>\n",
       "      <th>severity</th>\n",
       "      <th>debt</th>\n",
       "      <th>author</th>\n",
       "      <th>committerDate</th>\n",
       "    </tr>\n",
       "  </thead>\n",
       "  <tbody>\n",
       "    <tr>\n",
       "      <th>0</th>\n",
       "      <td>0</td>\n",
       "      <td>commons-daemon</td>\n",
       "      <td>2003-09-04T23:28:19Z</td>\n",
       "      <td>NaN</td>\n",
       "      <td>d3416d3a25b16da3d18b3849522fa96183918e5b</td>\n",
       "      <td>not-resolved</td>\n",
       "      <td>CODE_SMELL</td>\n",
       "      <td>MAJOR</td>\n",
       "      <td>20min</td>\n",
       "      <td>yoavs@apache.org</td>\n",
       "      <td>2019-07-07T10:31:36Z</td>\n",
       "    </tr>\n",
       "    <tr>\n",
       "      <th>1</th>\n",
       "      <td>13</td>\n",
       "      <td>commons-daemon</td>\n",
       "      <td>2003-09-04T23:28:19Z</td>\n",
       "      <td>NaN</td>\n",
       "      <td>d3416d3a25b16da3d18b3849522fa96183918e5b</td>\n",
       "      <td>not-resolved</td>\n",
       "      <td>CODE_SMELL</td>\n",
       "      <td>MAJOR</td>\n",
       "      <td>30min</td>\n",
       "      <td>yoavs@apache.org</td>\n",
       "      <td>2019-07-07T10:31:36Z</td>\n",
       "    </tr>\n",
       "    <tr>\n",
       "      <th>2</th>\n",
       "      <td>18</td>\n",
       "      <td>commons-daemon</td>\n",
       "      <td>2003-09-04T23:28:19Z</td>\n",
       "      <td>NaN</td>\n",
       "      <td>d3416d3a25b16da3d18b3849522fa96183918e5b</td>\n",
       "      <td>not-resolved</td>\n",
       "      <td>CODE_SMELL</td>\n",
       "      <td>MINOR</td>\n",
       "      <td>1min</td>\n",
       "      <td>yoavs@apache.org</td>\n",
       "      <td>2019-07-07T10:31:36Z</td>\n",
       "    </tr>\n",
       "    <tr>\n",
       "      <th>3</th>\n",
       "      <td>20</td>\n",
       "      <td>commons-daemon</td>\n",
       "      <td>2003-09-04T23:28:19Z</td>\n",
       "      <td>NaN</td>\n",
       "      <td>d3416d3a25b16da3d18b3849522fa96183918e5b</td>\n",
       "      <td>not-resolved</td>\n",
       "      <td>CODE_SMELL</td>\n",
       "      <td>MINOR</td>\n",
       "      <td>1min</td>\n",
       "      <td>yoavs@apache.org</td>\n",
       "      <td>2019-07-07T10:31:36Z</td>\n",
       "    </tr>\n",
       "    <tr>\n",
       "      <th>4</th>\n",
       "      <td>21</td>\n",
       "      <td>commons-daemon</td>\n",
       "      <td>2003-09-04T23:28:19Z</td>\n",
       "      <td>NaN</td>\n",
       "      <td>d3416d3a25b16da3d18b3849522fa96183918e5b</td>\n",
       "      <td>not-resolved</td>\n",
       "      <td>CODE_SMELL</td>\n",
       "      <td>MINOR</td>\n",
       "      <td>1min</td>\n",
       "      <td>yoavs@apache.org</td>\n",
       "      <td>2019-07-07T10:31:36Z</td>\n",
       "    </tr>\n",
       "    <tr>\n",
       "      <th>...</th>\n",
       "      <td>...</td>\n",
       "      <td>...</td>\n",
       "      <td>...</td>\n",
       "      <td>...</td>\n",
       "      <td>...</td>\n",
       "      <td>...</td>\n",
       "      <td>...</td>\n",
       "      <td>...</td>\n",
       "      <td>...</td>\n",
       "      <td>...</td>\n",
       "      <td>...</td>\n",
       "    </tr>\n",
       "    <tr>\n",
       "      <th>121854</th>\n",
       "      <td>1941503</td>\n",
       "      <td>commons-cli</td>\n",
       "      <td>2017-07-29T14:36:30Z</td>\n",
       "      <td>NaN</td>\n",
       "      <td>3bc9b84d3ae252800eb234a7b41981a9fef8696d</td>\n",
       "      <td>not-resolved</td>\n",
       "      <td>CODE_SMELL</td>\n",
       "      <td>MINOR</td>\n",
       "      <td>10min</td>\n",
       "      <td>rubin@raaftech.com</td>\n",
       "      <td>2019-07-07T10:13:26Z</td>\n",
       "    </tr>\n",
       "    <tr>\n",
       "      <th>121855</th>\n",
       "      <td>1941504</td>\n",
       "      <td>commons-cli</td>\n",
       "      <td>2017-07-29T14:36:30Z</td>\n",
       "      <td>NaN</td>\n",
       "      <td>3bc9b84d3ae252800eb234a7b41981a9fef8696d</td>\n",
       "      <td>not-resolved</td>\n",
       "      <td>CODE_SMELL</td>\n",
       "      <td>MINOR</td>\n",
       "      <td>10min</td>\n",
       "      <td>rubin@raaftech.com</td>\n",
       "      <td>2019-07-07T10:13:26Z</td>\n",
       "    </tr>\n",
       "    <tr>\n",
       "      <th>121856</th>\n",
       "      <td>1941505</td>\n",
       "      <td>commons-cli</td>\n",
       "      <td>2017-07-29T14:36:30Z</td>\n",
       "      <td>NaN</td>\n",
       "      <td>3bc9b84d3ae252800eb234a7b41981a9fef8696d</td>\n",
       "      <td>not-resolved</td>\n",
       "      <td>CODE_SMELL</td>\n",
       "      <td>MINOR</td>\n",
       "      <td>10min</td>\n",
       "      <td>rubin@raaftech.com</td>\n",
       "      <td>2019-07-07T10:13:26Z</td>\n",
       "    </tr>\n",
       "    <tr>\n",
       "      <th>121857</th>\n",
       "      <td>1941506</td>\n",
       "      <td>commons-cli</td>\n",
       "      <td>2018-02-26T17:23:40Z</td>\n",
       "      <td>NaN</td>\n",
       "      <td>b0024d482050a08efc36c3cabee37c0af0e57a10</td>\n",
       "      <td>not-resolved</td>\n",
       "      <td>CODE_SMELL</td>\n",
       "      <td>MAJOR</td>\n",
       "      <td>20min</td>\n",
       "      <td>deep.alexander@gmail.com</td>\n",
       "      <td>2019-07-07T10:13:26Z</td>\n",
       "    </tr>\n",
       "    <tr>\n",
       "      <th>121858</th>\n",
       "      <td>1941507</td>\n",
       "      <td>commons-cli</td>\n",
       "      <td>2018-02-26T17:23:40Z</td>\n",
       "      <td>NaN</td>\n",
       "      <td>b0024d482050a08efc36c3cabee37c0af0e57a10</td>\n",
       "      <td>not-resolved</td>\n",
       "      <td>CODE_SMELL</td>\n",
       "      <td>MINOR</td>\n",
       "      <td>5min</td>\n",
       "      <td>deep.alexander@gmail.com\\r\\n</td>\n",
       "      <td>2019-07-07T10:13:26Z</td>\n",
       "    </tr>\n",
       "  </tbody>\n",
       "</table>\n",
       "<p>121859 rows × 11 columns</p>\n",
       "</div>"
      ],
      "text/plain": [
       "          index       projectID          creationDate closeDate  \\\n",
       "0             0  commons-daemon  2003-09-04T23:28:19Z       NaN   \n",
       "1            13  commons-daemon  2003-09-04T23:28:19Z       NaN   \n",
       "2            18  commons-daemon  2003-09-04T23:28:19Z       NaN   \n",
       "3            20  commons-daemon  2003-09-04T23:28:19Z       NaN   \n",
       "4            21  commons-daemon  2003-09-04T23:28:19Z       NaN   \n",
       "...         ...             ...                   ...       ...   \n",
       "121854  1941503     commons-cli  2017-07-29T14:36:30Z       NaN   \n",
       "121855  1941504     commons-cli  2017-07-29T14:36:30Z       NaN   \n",
       "121856  1941505     commons-cli  2017-07-29T14:36:30Z       NaN   \n",
       "121857  1941506     commons-cli  2018-02-26T17:23:40Z       NaN   \n",
       "121858  1941507     commons-cli  2018-02-26T17:23:40Z       NaN   \n",
       "\n",
       "                              creationCommitHash closeCommitHash        type  \\\n",
       "0       d3416d3a25b16da3d18b3849522fa96183918e5b    not-resolved  CODE_SMELL   \n",
       "1       d3416d3a25b16da3d18b3849522fa96183918e5b    not-resolved  CODE_SMELL   \n",
       "2       d3416d3a25b16da3d18b3849522fa96183918e5b    not-resolved  CODE_SMELL   \n",
       "3       d3416d3a25b16da3d18b3849522fa96183918e5b    not-resolved  CODE_SMELL   \n",
       "4       d3416d3a25b16da3d18b3849522fa96183918e5b    not-resolved  CODE_SMELL   \n",
       "...                                          ...             ...         ...   \n",
       "121854  3bc9b84d3ae252800eb234a7b41981a9fef8696d    not-resolved  CODE_SMELL   \n",
       "121855  3bc9b84d3ae252800eb234a7b41981a9fef8696d    not-resolved  CODE_SMELL   \n",
       "121856  3bc9b84d3ae252800eb234a7b41981a9fef8696d    not-resolved  CODE_SMELL   \n",
       "121857  b0024d482050a08efc36c3cabee37c0af0e57a10    not-resolved  CODE_SMELL   \n",
       "121858  b0024d482050a08efc36c3cabee37c0af0e57a10    not-resolved  CODE_SMELL   \n",
       "\n",
       "       severity   debt                        author         committerDate  \n",
       "0         MAJOR  20min              yoavs@apache.org  2019-07-07T10:31:36Z  \n",
       "1         MAJOR  30min              yoavs@apache.org  2019-07-07T10:31:36Z  \n",
       "2         MINOR   1min              yoavs@apache.org  2019-07-07T10:31:36Z  \n",
       "3         MINOR   1min              yoavs@apache.org  2019-07-07T10:31:36Z  \n",
       "4         MINOR   1min              yoavs@apache.org  2019-07-07T10:31:36Z  \n",
       "...         ...    ...                           ...                   ...  \n",
       "121854    MINOR  10min            rubin@raaftech.com  2019-07-07T10:13:26Z  \n",
       "121855    MINOR  10min            rubin@raaftech.com  2019-07-07T10:13:26Z  \n",
       "121856    MINOR  10min            rubin@raaftech.com  2019-07-07T10:13:26Z  \n",
       "121857    MAJOR  20min      deep.alexander@gmail.com  2019-07-07T10:13:26Z  \n",
       "121858    MINOR   5min  deep.alexander@gmail.com\\r\\n  2019-07-07T10:13:26Z  \n",
       "\n",
       "[121859 rows x 11 columns]"
      ]
     },
     "execution_count": 25,
     "metadata": {},
     "output_type": "execute_result"
    }
   ],
   "source": [
    "closeDateNan = list(np.where(sonarIssues.closeDate.isna()))[0]\n",
    "sonarIssues_notresolved = sonarIssues.iloc[closeDateNan,:]\n",
    "sonarIssues_notresolved = pd.merge(sonarIssues_notresolved, lastTimestamp, how='left', on='projectID')\n",
    "sonarIssues_notresolved"
   ]
  },
  {
   "cell_type": "code",
   "execution_count": 26,
   "metadata": {
    "id": "ghRW18xYgFh8",
    "outputId": "a56b8d2c-4567-4215-c1df-982f8737b67c"
   },
   "outputs": [
    {
     "data": {
      "text/html": [
       "<div>\n",
       "<style scoped>\n",
       "    .dataframe tbody tr th:only-of-type {\n",
       "        vertical-align: middle;\n",
       "    }\n",
       "\n",
       "    .dataframe tbody tr th {\n",
       "        vertical-align: top;\n",
       "    }\n",
       "\n",
       "    .dataframe thead th {\n",
       "        text-align: right;\n",
       "    }\n",
       "</style>\n",
       "<table border=\"1\" class=\"dataframe\">\n",
       "  <thead>\n",
       "    <tr style=\"text-align: right;\">\n",
       "      <th></th>\n",
       "      <th>projectID</th>\n",
       "      <th>creationDate</th>\n",
       "      <th>creationCommitHash</th>\n",
       "      <th>closeCommitHash</th>\n",
       "      <th>type</th>\n",
       "      <th>severity</th>\n",
       "      <th>debt</th>\n",
       "      <th>author</th>\n",
       "      <th>closeDate</th>\n",
       "    </tr>\n",
       "  </thead>\n",
       "  <tbody>\n",
       "    <tr>\n",
       "      <th>0</th>\n",
       "      <td>commons-daemon</td>\n",
       "      <td>2003-09-04T23:28:19Z</td>\n",
       "      <td>d3416d3a25b16da3d18b3849522fa96183918e5b</td>\n",
       "      <td>not-resolved</td>\n",
       "      <td>CODE_SMELL</td>\n",
       "      <td>MAJOR</td>\n",
       "      <td>20min</td>\n",
       "      <td>yoavs@apache.org</td>\n",
       "      <td>2019-07-07T10:31:36Z</td>\n",
       "    </tr>\n",
       "    <tr>\n",
       "      <th>1</th>\n",
       "      <td>commons-daemon</td>\n",
       "      <td>2003-09-04T23:28:19Z</td>\n",
       "      <td>d3416d3a25b16da3d18b3849522fa96183918e5b</td>\n",
       "      <td>not-resolved</td>\n",
       "      <td>CODE_SMELL</td>\n",
       "      <td>MAJOR</td>\n",
       "      <td>30min</td>\n",
       "      <td>yoavs@apache.org</td>\n",
       "      <td>2019-07-07T10:31:36Z</td>\n",
       "    </tr>\n",
       "    <tr>\n",
       "      <th>2</th>\n",
       "      <td>commons-daemon</td>\n",
       "      <td>2003-09-04T23:28:19Z</td>\n",
       "      <td>d3416d3a25b16da3d18b3849522fa96183918e5b</td>\n",
       "      <td>not-resolved</td>\n",
       "      <td>CODE_SMELL</td>\n",
       "      <td>MINOR</td>\n",
       "      <td>1min</td>\n",
       "      <td>yoavs@apache.org</td>\n",
       "      <td>2019-07-07T10:31:36Z</td>\n",
       "    </tr>\n",
       "    <tr>\n",
       "      <th>3</th>\n",
       "      <td>commons-daemon</td>\n",
       "      <td>2003-09-04T23:28:19Z</td>\n",
       "      <td>d3416d3a25b16da3d18b3849522fa96183918e5b</td>\n",
       "      <td>not-resolved</td>\n",
       "      <td>CODE_SMELL</td>\n",
       "      <td>MINOR</td>\n",
       "      <td>1min</td>\n",
       "      <td>yoavs@apache.org</td>\n",
       "      <td>2019-07-07T10:31:36Z</td>\n",
       "    </tr>\n",
       "    <tr>\n",
       "      <th>4</th>\n",
       "      <td>commons-daemon</td>\n",
       "      <td>2003-09-04T23:28:19Z</td>\n",
       "      <td>d3416d3a25b16da3d18b3849522fa96183918e5b</td>\n",
       "      <td>not-resolved</td>\n",
       "      <td>CODE_SMELL</td>\n",
       "      <td>MINOR</td>\n",
       "      <td>1min</td>\n",
       "      <td>yoavs@apache.org</td>\n",
       "      <td>2019-07-07T10:31:36Z</td>\n",
       "    </tr>\n",
       "    <tr>\n",
       "      <th>...</th>\n",
       "      <td>...</td>\n",
       "      <td>...</td>\n",
       "      <td>...</td>\n",
       "      <td>...</td>\n",
       "      <td>...</td>\n",
       "      <td>...</td>\n",
       "      <td>...</td>\n",
       "      <td>...</td>\n",
       "      <td>...</td>\n",
       "    </tr>\n",
       "    <tr>\n",
       "      <th>121854</th>\n",
       "      <td>commons-cli</td>\n",
       "      <td>2017-07-29T14:36:30Z</td>\n",
       "      <td>3bc9b84d3ae252800eb234a7b41981a9fef8696d</td>\n",
       "      <td>not-resolved</td>\n",
       "      <td>CODE_SMELL</td>\n",
       "      <td>MINOR</td>\n",
       "      <td>10min</td>\n",
       "      <td>rubin@raaftech.com</td>\n",
       "      <td>2019-07-07T10:13:26Z</td>\n",
       "    </tr>\n",
       "    <tr>\n",
       "      <th>121855</th>\n",
       "      <td>commons-cli</td>\n",
       "      <td>2017-07-29T14:36:30Z</td>\n",
       "      <td>3bc9b84d3ae252800eb234a7b41981a9fef8696d</td>\n",
       "      <td>not-resolved</td>\n",
       "      <td>CODE_SMELL</td>\n",
       "      <td>MINOR</td>\n",
       "      <td>10min</td>\n",
       "      <td>rubin@raaftech.com</td>\n",
       "      <td>2019-07-07T10:13:26Z</td>\n",
       "    </tr>\n",
       "    <tr>\n",
       "      <th>121856</th>\n",
       "      <td>commons-cli</td>\n",
       "      <td>2017-07-29T14:36:30Z</td>\n",
       "      <td>3bc9b84d3ae252800eb234a7b41981a9fef8696d</td>\n",
       "      <td>not-resolved</td>\n",
       "      <td>CODE_SMELL</td>\n",
       "      <td>MINOR</td>\n",
       "      <td>10min</td>\n",
       "      <td>rubin@raaftech.com</td>\n",
       "      <td>2019-07-07T10:13:26Z</td>\n",
       "    </tr>\n",
       "    <tr>\n",
       "      <th>121857</th>\n",
       "      <td>commons-cli</td>\n",
       "      <td>2018-02-26T17:23:40Z</td>\n",
       "      <td>b0024d482050a08efc36c3cabee37c0af0e57a10</td>\n",
       "      <td>not-resolved</td>\n",
       "      <td>CODE_SMELL</td>\n",
       "      <td>MAJOR</td>\n",
       "      <td>20min</td>\n",
       "      <td>deep.alexander@gmail.com</td>\n",
       "      <td>2019-07-07T10:13:26Z</td>\n",
       "    </tr>\n",
       "    <tr>\n",
       "      <th>121858</th>\n",
       "      <td>commons-cli</td>\n",
       "      <td>2018-02-26T17:23:40Z</td>\n",
       "      <td>b0024d482050a08efc36c3cabee37c0af0e57a10</td>\n",
       "      <td>not-resolved</td>\n",
       "      <td>CODE_SMELL</td>\n",
       "      <td>MINOR</td>\n",
       "      <td>5min</td>\n",
       "      <td>deep.alexander@gmail.com\\r\\n</td>\n",
       "      <td>2019-07-07T10:13:26Z</td>\n",
       "    </tr>\n",
       "  </tbody>\n",
       "</table>\n",
       "<p>121859 rows × 9 columns</p>\n",
       "</div>"
      ],
      "text/plain": [
       "             projectID          creationDate  \\\n",
       "0       commons-daemon  2003-09-04T23:28:19Z   \n",
       "1       commons-daemon  2003-09-04T23:28:19Z   \n",
       "2       commons-daemon  2003-09-04T23:28:19Z   \n",
       "3       commons-daemon  2003-09-04T23:28:19Z   \n",
       "4       commons-daemon  2003-09-04T23:28:19Z   \n",
       "...                ...                   ...   \n",
       "121854     commons-cli  2017-07-29T14:36:30Z   \n",
       "121855     commons-cli  2017-07-29T14:36:30Z   \n",
       "121856     commons-cli  2017-07-29T14:36:30Z   \n",
       "121857     commons-cli  2018-02-26T17:23:40Z   \n",
       "121858     commons-cli  2018-02-26T17:23:40Z   \n",
       "\n",
       "                              creationCommitHash closeCommitHash        type  \\\n",
       "0       d3416d3a25b16da3d18b3849522fa96183918e5b    not-resolved  CODE_SMELL   \n",
       "1       d3416d3a25b16da3d18b3849522fa96183918e5b    not-resolved  CODE_SMELL   \n",
       "2       d3416d3a25b16da3d18b3849522fa96183918e5b    not-resolved  CODE_SMELL   \n",
       "3       d3416d3a25b16da3d18b3849522fa96183918e5b    not-resolved  CODE_SMELL   \n",
       "4       d3416d3a25b16da3d18b3849522fa96183918e5b    not-resolved  CODE_SMELL   \n",
       "...                                          ...             ...         ...   \n",
       "121854  3bc9b84d3ae252800eb234a7b41981a9fef8696d    not-resolved  CODE_SMELL   \n",
       "121855  3bc9b84d3ae252800eb234a7b41981a9fef8696d    not-resolved  CODE_SMELL   \n",
       "121856  3bc9b84d3ae252800eb234a7b41981a9fef8696d    not-resolved  CODE_SMELL   \n",
       "121857  b0024d482050a08efc36c3cabee37c0af0e57a10    not-resolved  CODE_SMELL   \n",
       "121858  b0024d482050a08efc36c3cabee37c0af0e57a10    not-resolved  CODE_SMELL   \n",
       "\n",
       "       severity   debt                        author             closeDate  \n",
       "0         MAJOR  20min              yoavs@apache.org  2019-07-07T10:31:36Z  \n",
       "1         MAJOR  30min              yoavs@apache.org  2019-07-07T10:31:36Z  \n",
       "2         MINOR   1min              yoavs@apache.org  2019-07-07T10:31:36Z  \n",
       "3         MINOR   1min              yoavs@apache.org  2019-07-07T10:31:36Z  \n",
       "4         MINOR   1min              yoavs@apache.org  2019-07-07T10:31:36Z  \n",
       "...         ...    ...                           ...                   ...  \n",
       "121854    MINOR  10min            rubin@raaftech.com  2019-07-07T10:13:26Z  \n",
       "121855    MINOR  10min            rubin@raaftech.com  2019-07-07T10:13:26Z  \n",
       "121856    MINOR  10min            rubin@raaftech.com  2019-07-07T10:13:26Z  \n",
       "121857    MAJOR  20min      deep.alexander@gmail.com  2019-07-07T10:13:26Z  \n",
       "121858    MINOR   5min  deep.alexander@gmail.com\\r\\n  2019-07-07T10:13:26Z  \n",
       "\n",
       "[121859 rows x 9 columns]"
      ]
     },
     "execution_count": 26,
     "metadata": {},
     "output_type": "execute_result"
    }
   ],
   "source": [
    "sonarIssues_notresolved = sonarIssues_notresolved.loc[:,['projectID', 'creationDate', 'creationCommitHash', 'closeCommitHash', 'type', 'severity', 'debt', 'author', 'committerDate']].rename(columns={'committerDate': 'closeDate'})\n",
    "sonarIssues_notresolved"
   ]
  },
  {
   "cell_type": "markdown",
   "metadata": {
    "id": "vQGaHNJ2gFh_"
   },
   "source": [
    "Then, we concatenate the Sonar issues that have been resolved and the ones that had a missing value in this attribute."
   ]
  },
  {
   "cell_type": "code",
   "execution_count": 27,
   "metadata": {
    "id": "qqVDCwjkgFh_",
    "outputId": "88d3d763-9525-4b93-efa6-0c507912c53c"
   },
   "outputs": [
    {
     "data": {
      "text/html": [
       "<div>\n",
       "<style scoped>\n",
       "    .dataframe tbody tr th:only-of-type {\n",
       "        vertical-align: middle;\n",
       "    }\n",
       "\n",
       "    .dataframe tbody tr th {\n",
       "        vertical-align: top;\n",
       "    }\n",
       "\n",
       "    .dataframe thead th {\n",
       "        text-align: right;\n",
       "    }\n",
       "</style>\n",
       "<table border=\"1\" class=\"dataframe\">\n",
       "  <thead>\n",
       "    <tr style=\"text-align: right;\">\n",
       "      <th></th>\n",
       "      <th>index</th>\n",
       "      <th>projectID</th>\n",
       "      <th>creationDate</th>\n",
       "      <th>closeDate</th>\n",
       "      <th>creationCommitHash</th>\n",
       "      <th>closeCommitHash</th>\n",
       "      <th>type</th>\n",
       "      <th>severity</th>\n",
       "      <th>debt</th>\n",
       "      <th>author</th>\n",
       "    </tr>\n",
       "  </thead>\n",
       "  <tbody>\n",
       "    <tr>\n",
       "      <th>0</th>\n",
       "      <td>NaN</td>\n",
       "      <td>commons-daemon</td>\n",
       "      <td>2003-09-04T23:28:19Z</td>\n",
       "      <td>2019-07-07T10:31:36Z</td>\n",
       "      <td>d3416d3a25b16da3d18b3849522fa96183918e5b</td>\n",
       "      <td>not-resolved</td>\n",
       "      <td>CODE_SMELL</td>\n",
       "      <td>MAJOR</td>\n",
       "      <td>20min</td>\n",
       "      <td>yoavs@apache.org</td>\n",
       "    </tr>\n",
       "    <tr>\n",
       "      <th>1</th>\n",
       "      <td>1.0</td>\n",
       "      <td>commons-daemon</td>\n",
       "      <td>2003-09-04T23:28:19Z</td>\n",
       "      <td>2010-03-15T08:09:26Z</td>\n",
       "      <td>d3416d3a25b16da3d18b3849522fa96183918e5b</td>\n",
       "      <td>6cbc872eb202dfc27f2eb59b02d953c3deca32c8</td>\n",
       "      <td>CODE_SMELL</td>\n",
       "      <td>MINOR</td>\n",
       "      <td>1min</td>\n",
       "      <td>yoavs@apache.org</td>\n",
       "    </tr>\n",
       "    <tr>\n",
       "      <th>2</th>\n",
       "      <td>NaN</td>\n",
       "      <td>commons-daemon</td>\n",
       "      <td>2003-09-04T23:28:19Z</td>\n",
       "      <td>2019-07-07T10:31:36Z</td>\n",
       "      <td>d3416d3a25b16da3d18b3849522fa96183918e5b</td>\n",
       "      <td>not-resolved</td>\n",
       "      <td>CODE_SMELL</td>\n",
       "      <td>MAJOR</td>\n",
       "      <td>30min</td>\n",
       "      <td>yoavs@apache.org</td>\n",
       "    </tr>\n",
       "    <tr>\n",
       "      <th>3</th>\n",
       "      <td>2.0</td>\n",
       "      <td>commons-daemon</td>\n",
       "      <td>2003-09-04T23:28:19Z</td>\n",
       "      <td>2010-03-15T08:09:26Z</td>\n",
       "      <td>d3416d3a25b16da3d18b3849522fa96183918e5b</td>\n",
       "      <td>6cbc872eb202dfc27f2eb59b02d953c3deca32c8</td>\n",
       "      <td>CODE_SMELL</td>\n",
       "      <td>MINOR</td>\n",
       "      <td>1min</td>\n",
       "      <td>yoavs@apache.org</td>\n",
       "    </tr>\n",
       "    <tr>\n",
       "      <th>4</th>\n",
       "      <td>NaN</td>\n",
       "      <td>commons-daemon</td>\n",
       "      <td>2003-09-04T23:28:19Z</td>\n",
       "      <td>2019-07-07T10:31:36Z</td>\n",
       "      <td>d3416d3a25b16da3d18b3849522fa96183918e5b</td>\n",
       "      <td>not-resolved</td>\n",
       "      <td>CODE_SMELL</td>\n",
       "      <td>MINOR</td>\n",
       "      <td>1min</td>\n",
       "      <td>yoavs@apache.org</td>\n",
       "    </tr>\n",
       "    <tr>\n",
       "      <th>...</th>\n",
       "      <td>...</td>\n",
       "      <td>...</td>\n",
       "      <td>...</td>\n",
       "      <td>...</td>\n",
       "      <td>...</td>\n",
       "      <td>...</td>\n",
       "      <td>...</td>\n",
       "      <td>...</td>\n",
       "      <td>...</td>\n",
       "      <td>...</td>\n",
       "    </tr>\n",
       "    <tr>\n",
       "      <th>1917415</th>\n",
       "      <td>1941495.0</td>\n",
       "      <td>commons-cli</td>\n",
       "      <td>2017-06-23T11:04:59Z</td>\n",
       "      <td>2017-07-28T15:29:53Z</td>\n",
       "      <td>4f17a89ad04bcf718aeac43d202f8c261ce0b796</td>\n",
       "      <td>e420dd2bebd532abf36d12916358652998e20834</td>\n",
       "      <td>CODE_SMELL</td>\n",
       "      <td>MAJOR</td>\n",
       "      <td>20min</td>\n",
       "      <td>rubin@raaftech.com</td>\n",
       "    </tr>\n",
       "    <tr>\n",
       "      <th>1917416</th>\n",
       "      <td>1941496.0</td>\n",
       "      <td>commons-cli</td>\n",
       "      <td>2017-06-23T11:04:59Z</td>\n",
       "      <td>2017-07-28T15:29:53Z</td>\n",
       "      <td>4f17a89ad04bcf718aeac43d202f8c261ce0b796</td>\n",
       "      <td>e420dd2bebd532abf36d12916358652998e20834</td>\n",
       "      <td>CODE_SMELL</td>\n",
       "      <td>MINOR</td>\n",
       "      <td>2min</td>\n",
       "      <td>rubin@raaftech.com</td>\n",
       "    </tr>\n",
       "    <tr>\n",
       "      <th>1917417</th>\n",
       "      <td>1941497.0</td>\n",
       "      <td>commons-cli</td>\n",
       "      <td>2017-06-23T11:04:59Z</td>\n",
       "      <td>2017-07-28T15:29:53Z</td>\n",
       "      <td>4f17a89ad04bcf718aeac43d202f8c261ce0b796</td>\n",
       "      <td>e420dd2bebd532abf36d12916358652998e20834</td>\n",
       "      <td>CODE_SMELL</td>\n",
       "      <td>MINOR</td>\n",
       "      <td>10min</td>\n",
       "      <td>rubin@raaftech.com</td>\n",
       "    </tr>\n",
       "    <tr>\n",
       "      <th>1917418</th>\n",
       "      <td>1941498.0</td>\n",
       "      <td>commons-cli</td>\n",
       "      <td>2017-06-23T11:04:59Z</td>\n",
       "      <td>2017-07-28T15:29:53Z</td>\n",
       "      <td>4f17a89ad04bcf718aeac43d202f8c261ce0b796</td>\n",
       "      <td>e420dd2bebd532abf36d12916358652998e20834</td>\n",
       "      <td>CODE_SMELL</td>\n",
       "      <td>MINOR</td>\n",
       "      <td>10min</td>\n",
       "      <td>rubin@raaftech.com</td>\n",
       "    </tr>\n",
       "    <tr>\n",
       "      <th>1917419</th>\n",
       "      <td>1941499.0</td>\n",
       "      <td>commons-cli</td>\n",
       "      <td>2017-06-27T16:46:37Z</td>\n",
       "      <td>2017-07-28T15:29:53Z</td>\n",
       "      <td>3d9587caec7dd23d359bc112c63512e2bc3e0702</td>\n",
       "      <td>e420dd2bebd532abf36d12916358652998e20834</td>\n",
       "      <td>CODE_SMELL</td>\n",
       "      <td>MINOR</td>\n",
       "      <td>10min</td>\n",
       "      <td>rubin@raaftech.com</td>\n",
       "    </tr>\n",
       "  </tbody>\n",
       "</table>\n",
       "<p>1917420 rows × 10 columns</p>\n",
       "</div>"
      ],
      "text/plain": [
       "             index       projectID          creationDate  \\\n",
       "0              NaN  commons-daemon  2003-09-04T23:28:19Z   \n",
       "1              1.0  commons-daemon  2003-09-04T23:28:19Z   \n",
       "2              NaN  commons-daemon  2003-09-04T23:28:19Z   \n",
       "3              2.0  commons-daemon  2003-09-04T23:28:19Z   \n",
       "4              NaN  commons-daemon  2003-09-04T23:28:19Z   \n",
       "...            ...             ...                   ...   \n",
       "1917415  1941495.0     commons-cli  2017-06-23T11:04:59Z   \n",
       "1917416  1941496.0     commons-cli  2017-06-23T11:04:59Z   \n",
       "1917417  1941497.0     commons-cli  2017-06-23T11:04:59Z   \n",
       "1917418  1941498.0     commons-cli  2017-06-23T11:04:59Z   \n",
       "1917419  1941499.0     commons-cli  2017-06-27T16:46:37Z   \n",
       "\n",
       "                    closeDate                        creationCommitHash  \\\n",
       "0        2019-07-07T10:31:36Z  d3416d3a25b16da3d18b3849522fa96183918e5b   \n",
       "1        2010-03-15T08:09:26Z  d3416d3a25b16da3d18b3849522fa96183918e5b   \n",
       "2        2019-07-07T10:31:36Z  d3416d3a25b16da3d18b3849522fa96183918e5b   \n",
       "3        2010-03-15T08:09:26Z  d3416d3a25b16da3d18b3849522fa96183918e5b   \n",
       "4        2019-07-07T10:31:36Z  d3416d3a25b16da3d18b3849522fa96183918e5b   \n",
       "...                       ...                                       ...   \n",
       "1917415  2017-07-28T15:29:53Z  4f17a89ad04bcf718aeac43d202f8c261ce0b796   \n",
       "1917416  2017-07-28T15:29:53Z  4f17a89ad04bcf718aeac43d202f8c261ce0b796   \n",
       "1917417  2017-07-28T15:29:53Z  4f17a89ad04bcf718aeac43d202f8c261ce0b796   \n",
       "1917418  2017-07-28T15:29:53Z  4f17a89ad04bcf718aeac43d202f8c261ce0b796   \n",
       "1917419  2017-07-28T15:29:53Z  3d9587caec7dd23d359bc112c63512e2bc3e0702   \n",
       "\n",
       "                                  closeCommitHash        type severity   debt  \\\n",
       "0                                    not-resolved  CODE_SMELL    MAJOR  20min   \n",
       "1        6cbc872eb202dfc27f2eb59b02d953c3deca32c8  CODE_SMELL    MINOR   1min   \n",
       "2                                    not-resolved  CODE_SMELL    MAJOR  30min   \n",
       "3        6cbc872eb202dfc27f2eb59b02d953c3deca32c8  CODE_SMELL    MINOR   1min   \n",
       "4                                    not-resolved  CODE_SMELL    MINOR   1min   \n",
       "...                                           ...         ...      ...    ...   \n",
       "1917415  e420dd2bebd532abf36d12916358652998e20834  CODE_SMELL    MAJOR  20min   \n",
       "1917416  e420dd2bebd532abf36d12916358652998e20834  CODE_SMELL    MINOR   2min   \n",
       "1917417  e420dd2bebd532abf36d12916358652998e20834  CODE_SMELL    MINOR  10min   \n",
       "1917418  e420dd2bebd532abf36d12916358652998e20834  CODE_SMELL    MINOR  10min   \n",
       "1917419  e420dd2bebd532abf36d12916358652998e20834  CODE_SMELL    MINOR  10min   \n",
       "\n",
       "                     author  \n",
       "0          yoavs@apache.org  \n",
       "1          yoavs@apache.org  \n",
       "2          yoavs@apache.org  \n",
       "3          yoavs@apache.org  \n",
       "4          yoavs@apache.org  \n",
       "...                     ...  \n",
       "1917415  rubin@raaftech.com  \n",
       "1917416  rubin@raaftech.com  \n",
       "1917417  rubin@raaftech.com  \n",
       "1917418  rubin@raaftech.com  \n",
       "1917419  rubin@raaftech.com  \n",
       "\n",
       "[1917420 rows x 10 columns]"
      ]
     },
     "execution_count": 27,
     "metadata": {},
     "output_type": "execute_result"
    }
   ],
   "source": [
    "sonarIssues_resolved = sonarIssues.drop(closeDateNan)\n",
    "sonarIssues = pd.concat([sonarIssues_resolved, sonarIssues_notresolved], sort=False).sort_index().reset_index().iloc[:,1:]\n",
    "sonarIssues"
   ]
  },
  {
   "cell_type": "markdown",
   "metadata": {
    "id": "afJRqkRBgFiC"
   },
   "source": [
    "And we fill the author."
   ]
  },
  {
   "cell_type": "code",
   "execution_count": 28,
   "metadata": {
    "id": "OOaegWRlgFiC",
    "outputId": "02de59b7-69e1-4e59-c7e2-a2461ec68b0d"
   },
   "outputs": [
    {
     "data": {
      "text/html": [
       "<div>\n",
       "<style scoped>\n",
       "    .dataframe tbody tr th:only-of-type {\n",
       "        vertical-align: middle;\n",
       "    }\n",
       "\n",
       "    .dataframe tbody tr th {\n",
       "        vertical-align: top;\n",
       "    }\n",
       "\n",
       "    .dataframe thead th {\n",
       "        text-align: right;\n",
       "    }\n",
       "</style>\n",
       "<table border=\"1\" class=\"dataframe\">\n",
       "  <thead>\n",
       "    <tr style=\"text-align: right;\">\n",
       "      <th></th>\n",
       "      <th>author</th>\n",
       "      <th>count</th>\n",
       "    </tr>\n",
       "  </thead>\n",
       "  <tbody>\n",
       "    <tr>\n",
       "      <th>0</th>\n",
       "      <td>a195882@wvdi1404-10074.oa2.aeth.aetna.com</td>\n",
       "      <td>18</td>\n",
       "    </tr>\n",
       "    <tr>\n",
       "      <th>1</th>\n",
       "      <td>a760104@aetna.com</td>\n",
       "      <td>2010</td>\n",
       "    </tr>\n",
       "    <tr>\n",
       "      <th>2</th>\n",
       "      <td>aaron.dossett@target.com</td>\n",
       "      <td>19</td>\n",
       "    </tr>\n",
       "    <tr>\n",
       "      <th>3</th>\n",
       "      <td>abaranchuk@hortonworks.com</td>\n",
       "      <td>117</td>\n",
       "    </tr>\n",
       "    <tr>\n",
       "      <th>4</th>\n",
       "      <td>abaranchuk@hortonworks.con</td>\n",
       "      <td>4</td>\n",
       "    </tr>\n",
       "    <tr>\n",
       "      <th>...</th>\n",
       "      <td>...</td>\n",
       "      <td>...</td>\n",
       "    </tr>\n",
       "    <tr>\n",
       "      <th>558</th>\n",
       "      <td>zhouyunqing@google.com</td>\n",
       "      <td>66</td>\n",
       "    </tr>\n",
       "    <tr>\n",
       "      <th>559</th>\n",
       "      <td>zmanji@apache.org</td>\n",
       "      <td>1608</td>\n",
       "    </tr>\n",
       "    <tr>\n",
       "      <th>560</th>\n",
       "      <td>zmanji@gmail.com</td>\n",
       "      <td>7</td>\n",
       "    </tr>\n",
       "    <tr>\n",
       "      <th>561</th>\n",
       "      <td>zmanji@twitter.com</td>\n",
       "      <td>47</td>\n",
       "    </tr>\n",
       "    <tr>\n",
       "      <th>562</th>\n",
       "      <td>zmanji@twopensource.com</td>\n",
       "      <td>19</td>\n",
       "    </tr>\n",
       "  </tbody>\n",
       "</table>\n",
       "<p>563 rows × 2 columns</p>\n",
       "</div>"
      ],
      "text/plain": [
       "                                        author  count\n",
       "0    a195882@wvdi1404-10074.oa2.aeth.aetna.com     18\n",
       "1                            a760104@aetna.com   2010\n",
       "2                     aaron.dossett@target.com     19\n",
       "3                   abaranchuk@hortonworks.com    117\n",
       "4                   abaranchuk@hortonworks.con      4\n",
       "..                                         ...    ...\n",
       "558                     zhouyunqing@google.com     66\n",
       "559                          zmanji@apache.org   1608\n",
       "560                           zmanji@gmail.com      7\n",
       "561                         zmanji@twitter.com     47\n",
       "562                    zmanji@twopensource.com     19\n",
       "\n",
       "[563 rows x 2 columns]"
      ]
     },
     "execution_count": 28,
     "metadata": {},
     "output_type": "execute_result"
    }
   ],
   "source": [
    "sonarIssues.groupby(['author']).size().reset_index().rename(columns={0:'count'})"
   ]
  },
  {
   "cell_type": "code",
   "execution_count": 29,
   "metadata": {
    "id": "tGQjOZb5gFiF",
    "outputId": "0335888f-6742-4ebb-b4b6-bac4e8ae93b9"
   },
   "outputs": [
    {
     "data": {
      "text/html": [
       "<div>\n",
       "<style scoped>\n",
       "    .dataframe tbody tr th:only-of-type {\n",
       "        vertical-align: middle;\n",
       "    }\n",
       "\n",
       "    .dataframe tbody tr th {\n",
       "        vertical-align: top;\n",
       "    }\n",
       "\n",
       "    .dataframe thead th {\n",
       "        text-align: right;\n",
       "    }\n",
       "</style>\n",
       "<table border=\"1\" class=\"dataframe\">\n",
       "  <thead>\n",
       "    <tr style=\"text-align: right;\">\n",
       "      <th></th>\n",
       "      <th>commitHash</th>\n",
       "      <th>author</th>\n",
       "    </tr>\n",
       "  </thead>\n",
       "  <tbody>\n",
       "    <tr>\n",
       "      <th>0</th>\n",
       "      <td>d3416d3a25b16da3d18b3849522fa96183918e5b</td>\n",
       "      <td>yoavs@apache.org</td>\n",
       "    </tr>\n",
       "    <tr>\n",
       "      <th>1</th>\n",
       "      <td>d3416d3a25b16da3d18b3849522fa96183918e5b</td>\n",
       "      <td>yoavs@apache.org</td>\n",
       "    </tr>\n",
       "    <tr>\n",
       "      <th>2</th>\n",
       "      <td>d3416d3a25b16da3d18b3849522fa96183918e5b</td>\n",
       "      <td>yoavs@apache.org</td>\n",
       "    </tr>\n",
       "    <tr>\n",
       "      <th>3</th>\n",
       "      <td>d3416d3a25b16da3d18b3849522fa96183918e5b</td>\n",
       "      <td>yoavs@apache.org</td>\n",
       "    </tr>\n",
       "    <tr>\n",
       "      <th>4</th>\n",
       "      <td>d3416d3a25b16da3d18b3849522fa96183918e5b</td>\n",
       "      <td>yoavs@apache.org</td>\n",
       "    </tr>\n",
       "  </tbody>\n",
       "</table>\n",
       "</div>"
      ],
      "text/plain": [
       "                                 commitHash            author\n",
       "0  d3416d3a25b16da3d18b3849522fa96183918e5b  yoavs@apache.org\n",
       "1  d3416d3a25b16da3d18b3849522fa96183918e5b  yoavs@apache.org\n",
       "2  d3416d3a25b16da3d18b3849522fa96183918e5b  yoavs@apache.org\n",
       "3  d3416d3a25b16da3d18b3849522fa96183918e5b  yoavs@apache.org\n",
       "4  d3416d3a25b16da3d18b3849522fa96183918e5b  yoavs@apache.org"
      ]
     },
     "execution_count": 29,
     "metadata": {},
     "output_type": "execute_result"
    }
   ],
   "source": [
    "df1 = gitCommits[['commitHash', 'committer']]\n",
    "df2 = (sonarIssues[['creationCommitHash', 'author']]).rename(columns={'creationCommitHash': 'commitHash'})\n",
    "df2.head()"
   ]
  },
  {
   "cell_type": "code",
   "execution_count": 30,
   "metadata": {
    "id": "0t_1cp_TgFiH",
    "outputId": "d93b13fb-d1fa-434b-a7ab-b27995f22fb7"
   },
   "outputs": [
    {
     "data": {
      "text/html": [
       "<div>\n",
       "<style scoped>\n",
       "    .dataframe tbody tr th:only-of-type {\n",
       "        vertical-align: middle;\n",
       "    }\n",
       "\n",
       "    .dataframe tbody tr th {\n",
       "        vertical-align: top;\n",
       "    }\n",
       "\n",
       "    .dataframe thead th {\n",
       "        text-align: right;\n",
       "    }\n",
       "</style>\n",
       "<table border=\"1\" class=\"dataframe\">\n",
       "  <thead>\n",
       "    <tr style=\"text-align: right;\">\n",
       "      <th></th>\n",
       "      <th>commitHash</th>\n",
       "      <th>committer</th>\n",
       "      <th>author</th>\n",
       "    </tr>\n",
       "  </thead>\n",
       "  <tbody>\n",
       "    <tr>\n",
       "      <th>0</th>\n",
       "      <td>e0880e263e4bf8662ba3848405200473a25dfc9f</td>\n",
       "      <td>Keith Turner</td>\n",
       "      <td>kturner@apache.org</td>\n",
       "    </tr>\n",
       "    <tr>\n",
       "      <th>284520</th>\n",
       "      <td>228dd5b26313a9ce158712df1acabbd193c5ef98</td>\n",
       "      <td>Keith Turner</td>\n",
       "      <td>kturner@apache.org</td>\n",
       "    </tr>\n",
       "    <tr>\n",
       "      <th>284527</th>\n",
       "      <td>82fc84f1331ade3f17a721fa0b86cd63b73746a2</td>\n",
       "      <td>Billie Rinaldi</td>\n",
       "      <td>billie@apache.org</td>\n",
       "    </tr>\n",
       "    <tr>\n",
       "      <th>284549</th>\n",
       "      <td>0218f14a6f938528c44a33afc917289fc175d87d</td>\n",
       "      <td>Billie Rinaldi</td>\n",
       "      <td>billie@apache.org</td>\n",
       "    </tr>\n",
       "    <tr>\n",
       "      <th>284554</th>\n",
       "      <td>527a100ef5de9c51fb17b0b340f036ee4cd98590</td>\n",
       "      <td>Eric C. Newton</td>\n",
       "      <td>ecn@apache.org</td>\n",
       "    </tr>\n",
       "  </tbody>\n",
       "</table>\n",
       "</div>"
      ],
      "text/plain": [
       "                                      commitHash       committer  \\\n",
       "0       e0880e263e4bf8662ba3848405200473a25dfc9f    Keith Turner   \n",
       "284520  228dd5b26313a9ce158712df1acabbd193c5ef98    Keith Turner   \n",
       "284527  82fc84f1331ade3f17a721fa0b86cd63b73746a2  Billie Rinaldi   \n",
       "284549  0218f14a6f938528c44a33afc917289fc175d87d  Billie Rinaldi   \n",
       "284554  527a100ef5de9c51fb17b0b340f036ee4cd98590  Eric C. Newton   \n",
       "\n",
       "                    author  \n",
       "0       kturner@apache.org  \n",
       "284520  kturner@apache.org  \n",
       "284527   billie@apache.org  \n",
       "284549   billie@apache.org  \n",
       "284554      ecn@apache.org  "
      ]
     },
     "execution_count": 30,
     "metadata": {},
     "output_type": "execute_result"
    }
   ],
   "source": [
    "merge = pd.merge(df1, df2, on='commitHash', how='inner').drop_duplicates()\n",
    "merge.head()"
   ]
  },
  {
   "cell_type": "code",
   "execution_count": 31,
   "metadata": {
    "id": "knyNd_oMgFiK",
    "outputId": "e2a4583a-0b52-466b-8c45-9be87ec3f702"
   },
   "outputs": [
    {
     "name": "stdout",
     "output_type": "stream",
     "text": [
      "415\n",
      "564\n"
     ]
    }
   ],
   "source": [
    "print(len(merge.committer.unique()))\n",
    "print(len(merge.author.unique()))"
   ]
  },
  {
   "cell_type": "code",
   "execution_count": 32,
   "metadata": {
    "id": "OI9wR1xGgFiN",
    "outputId": "3daccee2-97cc-422b-a196-b3883ea2e16a"
   },
   "outputs": [
    {
     "data": {
      "text/html": [
       "<div>\n",
       "<style scoped>\n",
       "    .dataframe tbody tr th:only-of-type {\n",
       "        vertical-align: middle;\n",
       "    }\n",
       "\n",
       "    .dataframe tbody tr th {\n",
       "        vertical-align: top;\n",
       "    }\n",
       "\n",
       "    .dataframe thead th {\n",
       "        text-align: right;\n",
       "    }\n",
       "</style>\n",
       "<table border=\"1\" class=\"dataframe\">\n",
       "  <thead>\n",
       "    <tr style=\"text-align: right;\">\n",
       "      <th></th>\n",
       "      <th>committer</th>\n",
       "      <th>author</th>\n",
       "      <th>count</th>\n",
       "    </tr>\n",
       "  </thead>\n",
       "  <tbody>\n",
       "    <tr>\n",
       "      <th>0</th>\n",
       "      <td>(no author)</td>\n",
       "      <td>geirm@apache.org</td>\n",
       "      <td>1</td>\n",
       "    </tr>\n",
       "    <tr>\n",
       "      <th>1</th>\n",
       "      <td>-l</td>\n",
       "      <td>maxim@apache.org</td>\n",
       "      <td>2</td>\n",
       "    </tr>\n",
       "    <tr>\n",
       "      <th>2</th>\n",
       "      <td>A195882</td>\n",
       "      <td>a195882@wvdi1404-10074.oa2.aeth.aetna.com</td>\n",
       "      <td>1</td>\n",
       "    </tr>\n",
       "    <tr>\n",
       "      <th>3</th>\n",
       "      <td>A744013</td>\n",
       "      <td>hbutani@hortonworks.com</td>\n",
       "      <td>1</td>\n",
       "    </tr>\n",
       "    <tr>\n",
       "      <th>4</th>\n",
       "      <td>A744013</td>\n",
       "      <td>markwatd@aetna.com</td>\n",
       "      <td>3</td>\n",
       "    </tr>\n",
       "    <tr>\n",
       "      <th>...</th>\n",
       "      <td>...</td>\n",
       "      <td>...</td>\n",
       "      <td>...</td>\n",
       "    </tr>\n",
       "    <tr>\n",
       "      <th>2022</th>\n",
       "      <td>tbeerbower</td>\n",
       "      <td>ncole@hortonworks.com</td>\n",
       "      <td>3</td>\n",
       "    </tr>\n",
       "    <tr>\n",
       "      <th>2023</th>\n",
       "      <td>tbeerbower</td>\n",
       "      <td>rnettleton@hortonworks.com</td>\n",
       "      <td>1</td>\n",
       "    </tr>\n",
       "    <tr>\n",
       "      <th>2024</th>\n",
       "      <td>tbeerbower</td>\n",
       "      <td>sgunturi@hortonworks.com</td>\n",
       "      <td>1</td>\n",
       "    </tr>\n",
       "    <tr>\n",
       "      <th>2025</th>\n",
       "      <td>tbeerbower</td>\n",
       "      <td>swagle@hortonworks.com</td>\n",
       "      <td>2</td>\n",
       "    </tr>\n",
       "    <tr>\n",
       "      <th>2026</th>\n",
       "      <td>tbeerbower</td>\n",
       "      <td>tbeerbower@hortonworks.com</td>\n",
       "      <td>143</td>\n",
       "    </tr>\n",
       "  </tbody>\n",
       "</table>\n",
       "<p>2027 rows × 3 columns</p>\n",
       "</div>"
      ],
      "text/plain": [
       "        committer                                     author  count\n",
       "0     (no author)                           geirm@apache.org      1\n",
       "1              -l                           maxim@apache.org      2\n",
       "2         A195882  a195882@wvdi1404-10074.oa2.aeth.aetna.com      1\n",
       "3         A744013                    hbutani@hortonworks.com      1\n",
       "4         A744013                         markwatd@aetna.com      3\n",
       "...           ...                                        ...    ...\n",
       "2022   tbeerbower                      ncole@hortonworks.com      3\n",
       "2023   tbeerbower                 rnettleton@hortonworks.com      1\n",
       "2024   tbeerbower                   sgunturi@hortonworks.com      1\n",
       "2025   tbeerbower                     swagle@hortonworks.com      2\n",
       "2026   tbeerbower                 tbeerbower@hortonworks.com    143\n",
       "\n",
       "[2027 rows x 3 columns]"
      ]
     },
     "execution_count": 32,
     "metadata": {},
     "output_type": "execute_result"
    }
   ],
   "source": [
    "pairs = merge.groupby(['committer', 'author']).size().reset_index().rename(columns={0:'count'})\n",
    "pairs"
   ]
  },
  {
   "cell_type": "code",
   "execution_count": 33,
   "metadata": {
    "id": "VcmwFFBAgFiQ",
    "outputId": "9c43540a-1173-48d7-b9d0-2ca90d6b0d0b"
   },
   "outputs": [
    {
     "data": {
      "text/plain": [
       "Dan Halperin        82\n",
       "Davor Bonaci        72\n",
       "Kenneth Knowles     72\n",
       "Thomas Groh         69\n",
       "Kenn Knowles        62\n",
       "                    ..\n",
       "Kelly Westbrooks     1\n",
       "Bella Robinson       1\n",
       "Guido Casper         1\n",
       "Mario Ivankovits     1\n",
       "Daniel Savarese      1\n",
       "Name: committer, Length: 414, dtype: int64"
      ]
     },
     "execution_count": 33,
     "metadata": {},
     "output_type": "execute_result"
    }
   ],
   "source": [
    "index1 = list(np.where(pairs.committer.value_counts()==1))[0]\n",
    "pairs.committer.value_counts()"
   ]
  },
  {
   "cell_type": "code",
   "execution_count": 34,
   "metadata": {
    "id": "NAb79R3VgFiT"
   },
   "outputs": [],
   "source": [
    "committer_1 = (pairs.committer.value_counts())[index1].index"
   ]
  },
  {
   "cell_type": "code",
   "execution_count": 35,
   "metadata": {
    "id": "5PapPv3UgFiV",
    "outputId": "e1441ea6-9df2-4a2b-9a3d-281a4bcd1482"
   },
   "outputs": [
    {
     "data": {
      "text/plain": [
       "mahadev@apache.org         26\n",
       "bchambers@google.com       21\n",
       "jhurley@hortonworks.com    20\n",
       "ncole@hortonworks.com      20\n",
       "jitendra@apache.org        20\n",
       "                           ..\n",
       "nsochele@apache.org         1\n",
       "wickman@twitter.com         1\n",
       "sandymac@apache.org         1\n",
       "fx@apache.org               1\n",
       "piotr.turski@gmail.com      1\n",
       "Name: author, Length: 563, dtype: int64"
      ]
     },
     "execution_count": 35,
     "metadata": {},
     "output_type": "execute_result"
    }
   ],
   "source": [
    "index2 = list(np.where(pairs.author.value_counts()==1))[0]\n",
    "pairs.author.value_counts()"
   ]
  },
  {
   "cell_type": "code",
   "execution_count": 36,
   "metadata": {
    "id": "QLf0oIoegFiX"
   },
   "outputs": [],
   "source": [
    "author_1 = (pairs.author.value_counts())[index2].index"
   ]
  },
  {
   "cell_type": "code",
   "execution_count": 37,
   "metadata": {
    "id": "Wvqpja4XgFia"
   },
   "outputs": [],
   "source": [
    "index_author_1 = pairs.loc[pairs['author'].isin(author_1)].index"
   ]
  },
  {
   "cell_type": "code",
   "execution_count": 38,
   "metadata": {
    "id": "VaEEkIA9gFid"
   },
   "outputs": [],
   "source": [
    "index_committer_1 = pairs.loc[pairs['committer'].isin(committer_1)].index"
   ]
  },
  {
   "cell_type": "code",
   "execution_count": 39,
   "metadata": {
    "id": "Up_5_SpugFig",
    "outputId": "7a06aad1-ac74-4d5f-fd4b-5d50f31e0196"
   },
   "outputs": [
    {
     "data": {
      "text/plain": [
       "153"
      ]
     },
     "execution_count": 39,
     "metadata": {},
     "output_type": "execute_result"
    }
   ],
   "source": [
    "inter_pairs = intersection(index_author_1, index_committer_1)\n",
    "len(inter_pairs)"
   ]
  },
  {
   "cell_type": "code",
   "execution_count": 40,
   "metadata": {
    "id": "MivFVTIhgFij",
    "outputId": "00407ce8-37ce-41c9-9ff7-5622939f6dff"
   },
   "outputs": [
    {
     "data": {
      "text/html": [
       "<div>\n",
       "<style scoped>\n",
       "    .dataframe tbody tr th:only-of-type {\n",
       "        vertical-align: middle;\n",
       "    }\n",
       "\n",
       "    .dataframe tbody tr th {\n",
       "        vertical-align: top;\n",
       "    }\n",
       "\n",
       "    .dataframe thead th {\n",
       "        text-align: right;\n",
       "    }\n",
       "</style>\n",
       "<table border=\"1\" class=\"dataframe\">\n",
       "  <thead>\n",
       "    <tr style=\"text-align: right;\">\n",
       "      <th></th>\n",
       "      <th>committer</th>\n",
       "      <th>author</th>\n",
       "      <th>count</th>\n",
       "    </tr>\n",
       "  </thead>\n",
       "  <tbody>\n",
       "    <tr>\n",
       "      <th>2</th>\n",
       "      <td>A195882</td>\n",
       "      <td>a195882@wvdi1404-10074.oa2.aeth.aetna.com</td>\n",
       "      <td>1</td>\n",
       "    </tr>\n",
       "    <tr>\n",
       "      <th>6</th>\n",
       "      <td>Aaron Dossett</td>\n",
       "      <td>aaron.dossett@target.com</td>\n",
       "      <td>2</td>\n",
       "    </tr>\n",
       "    <tr>\n",
       "      <th>18</th>\n",
       "      <td>Adrian Crum</td>\n",
       "      <td>adrianc@apache.org</td>\n",
       "      <td>1</td>\n",
       "    </tr>\n",
       "    <tr>\n",
       "      <th>72</th>\n",
       "      <td>Alex Karasulu</td>\n",
       "      <td>akarasulu@apache.org</td>\n",
       "      <td>21</td>\n",
       "    </tr>\n",
       "    <tr>\n",
       "      <th>78</th>\n",
       "      <td>Alfred Nathaniel</td>\n",
       "      <td>anathaniel@apache.org</td>\n",
       "      <td>4</td>\n",
       "    </tr>\n",
       "    <tr>\n",
       "      <th>...</th>\n",
       "      <td>...</td>\n",
       "      <td>...</td>\n",
       "      <td>...</td>\n",
       "    </tr>\n",
       "    <tr>\n",
       "      <th>1887</th>\n",
       "      <td>arpitgupta</td>\n",
       "      <td>arpit@hortonworks.com</td>\n",
       "      <td>3</td>\n",
       "    </tr>\n",
       "    <tr>\n",
       "      <th>1937</th>\n",
       "      <td>billh</td>\n",
       "      <td>billh@apache.org</td>\n",
       "      <td>45</td>\n",
       "    </tr>\n",
       "    <tr>\n",
       "      <th>1945</th>\n",
       "      <td>dlaha</td>\n",
       "      <td>dlaha@unknown</td>\n",
       "      <td>1</td>\n",
       "    </tr>\n",
       "    <tr>\n",
       "      <th>1962</th>\n",
       "      <td>henrib &lt;&gt;</td>\n",
       "      <td>henri.biestro@l-hbiestro.koeos.lan</td>\n",
       "      <td>1</td>\n",
       "    </tr>\n",
       "    <tr>\n",
       "      <th>1999</th>\n",
       "      <td>pjack</td>\n",
       "      <td>pjack@apache.org</td>\n",
       "      <td>14</td>\n",
       "    </tr>\n",
       "  </tbody>\n",
       "</table>\n",
       "<p>153 rows × 3 columns</p>\n",
       "</div>"
      ],
      "text/plain": [
       "             committer                                     author  count\n",
       "2              A195882  a195882@wvdi1404-10074.oa2.aeth.aetna.com      1\n",
       "6        Aaron Dossett                   aaron.dossett@target.com      2\n",
       "18         Adrian Crum                         adrianc@apache.org      1\n",
       "72       Alex Karasulu                       akarasulu@apache.org     21\n",
       "78    Alfred Nathaniel                      anathaniel@apache.org      4\n",
       "...                ...                                        ...    ...\n",
       "1887        arpitgupta                      arpit@hortonworks.com      3\n",
       "1937             billh                           billh@apache.org     45\n",
       "1945             dlaha                              dlaha@unknown      1\n",
       "1962         henrib <>         henri.biestro@l-hbiestro.koeos.lan      1\n",
       "1999             pjack                           pjack@apache.org     14\n",
       "\n",
       "[153 rows x 3 columns]"
      ]
     },
     "execution_count": 40,
     "metadata": {},
     "output_type": "execute_result"
    }
   ],
   "source": [
    "pairs_unique = pairs.loc[inter_pairs]\n",
    "pairs_unique"
   ]
  },
  {
   "cell_type": "code",
   "execution_count": 41,
   "metadata": {
    "id": "PuLsSYtTgFil",
    "outputId": "485360f6-901f-40bd-82a0-d3cb3c32a380"
   },
   "outputs": [
    {
     "name": "stdout",
     "output_type": "stream",
     "text": [
      "Carl Hall          1\n",
      "Simone Gianni      1\n",
      "Trygve Laugstol    1\n",
      "Dennis Fusaro      1\n",
      "Guido Casper       1\n",
      "                  ..\n",
      "Jonathan Boulle    1\n",
      "A195882            1\n",
      "henrib <>          1\n",
      "Jeremy Quinn       1\n",
      "Leszek Gawron      1\n",
      "Name: committer, Length: 153, dtype: int64\n"
     ]
    },
    {
     "data": {
      "text/plain": [
       "antonio@apache.org                    1\n",
       "henri.biestro@l-hbiestro.koeos.lan    1\n",
       "michaelm@apache.org                   1\n",
       "odiachenko@hortonworks.com            1\n",
       "imario@apache.org                     1\n",
       "                                     ..\n",
       "mchucarroll@twopensource.com          1\n",
       "mvdb@apache.org                       1\n",
       "tbennett@apache.org                   1\n",
       "cam@apache.org                        1\n",
       "enver@apache.org                      1\n",
       "Name: author, Length: 153, dtype: int64"
      ]
     },
     "execution_count": 41,
     "metadata": {},
     "output_type": "execute_result"
    }
   ],
   "source": [
    "print(pairs_unique.committer.value_counts())\n",
    "pairs_unique.author.value_counts()"
   ]
  },
  {
   "cell_type": "markdown",
   "metadata": {
    "id": "Lb-eKt5wgFio"
   },
   "source": [
    "After that, we take the rows that contain these authors and committers."
   ]
  },
  {
   "cell_type": "code",
   "execution_count": 42,
   "metadata": {
    "id": "mW3lqSlhgFip"
   },
   "outputs": [],
   "source": [
    "commiters = list(pairs_unique.committer)\n",
    "authors = list(pairs_unique.author)"
   ]
  },
  {
   "cell_type": "code",
   "execution_count": 43,
   "metadata": {
    "id": "3U2oGZwkgFis",
    "outputId": "e6e898b6-f7f5-46e4-c602-e77407f41c1f"
   },
   "outputs": [
    {
     "data": {
      "text/html": [
       "<div>\n",
       "<style scoped>\n",
       "    .dataframe tbody tr th:only-of-type {\n",
       "        vertical-align: middle;\n",
       "    }\n",
       "\n",
       "    .dataframe tbody tr th {\n",
       "        vertical-align: top;\n",
       "    }\n",
       "\n",
       "    .dataframe thead th {\n",
       "        text-align: right;\n",
       "    }\n",
       "</style>\n",
       "<table border=\"1\" class=\"dataframe\">\n",
       "  <thead>\n",
       "    <tr style=\"text-align: right;\">\n",
       "      <th></th>\n",
       "      <th>commitHash</th>\n",
       "      <th>committer</th>\n",
       "      <th>author</th>\n",
       "    </tr>\n",
       "  </thead>\n",
       "  <tbody>\n",
       "    <tr>\n",
       "      <th>390415</th>\n",
       "      <td>eafe0661f57dd5fb5604439354affe8c43f07500</td>\n",
       "      <td>Billie Rinaldi</td>\n",
       "      <td>NaN</td>\n",
       "    </tr>\n",
       "    <tr>\n",
       "      <th>390522</th>\n",
       "      <td>f264f882d0d28f7d70d5f0c0deb162c7717025e7</td>\n",
       "      <td>Keith Turner</td>\n",
       "      <td>NaN</td>\n",
       "    </tr>\n",
       "    <tr>\n",
       "      <th>394436</th>\n",
       "      <td>b76b45627a84120a5da5c5b1e79ee67514552968</td>\n",
       "      <td>Billie Rinaldi</td>\n",
       "      <td>NaN</td>\n",
       "    </tr>\n",
       "    <tr>\n",
       "      <th>394452</th>\n",
       "      <td>01667e6341ff780009819b34cafd2b2ea7bb4dc0</td>\n",
       "      <td>Keith Turner</td>\n",
       "      <td>NaN</td>\n",
       "    </tr>\n",
       "    <tr>\n",
       "      <th>394557</th>\n",
       "      <td>e9316a9426f6680c077c1c5521bf3e5f78e885dd</td>\n",
       "      <td>Adam Fuchs</td>\n",
       "      <td>NaN</td>\n",
       "    </tr>\n",
       "    <tr>\n",
       "      <th>...</th>\n",
       "      <td>...</td>\n",
       "      <td>...</td>\n",
       "      <td>...</td>\n",
       "    </tr>\n",
       "    <tr>\n",
       "      <th>1866195</th>\n",
       "      <td>83c2c001091e6b5d15dc887e08e778b80328d9f4</td>\n",
       "      <td>Oleg Kalnichevski</td>\n",
       "      <td>NaN</td>\n",
       "    </tr>\n",
       "    <tr>\n",
       "      <th>1909767</th>\n",
       "      <td>f26d63c53a80272c6ce1ec0e77fd6a9cceeb894f</td>\n",
       "      <td>Marc Giger</td>\n",
       "      <td>NaN</td>\n",
       "    </tr>\n",
       "    <tr>\n",
       "      <th>1909867</th>\n",
       "      <td>18b0fde1f8a5c7de811bc8ec3a886890d31276b9</td>\n",
       "      <td>Colm O Heigeartaigh</td>\n",
       "      <td>NaN</td>\n",
       "    </tr>\n",
       "    <tr>\n",
       "      <th>1911104</th>\n",
       "      <td>bce01afb9495317f66936bdbdadfe8ffc096b533</td>\n",
       "      <td>Colm O hEigeartaigh</td>\n",
       "      <td>NaN</td>\n",
       "    </tr>\n",
       "    <tr>\n",
       "      <th>1911711</th>\n",
       "      <td>0b0cdde8f8af20b0d4c3bd2214143da58e26043a</td>\n",
       "      <td>Colm O hEigeartaigh</td>\n",
       "      <td>NaN</td>\n",
       "    </tr>\n",
       "  </tbody>\n",
       "</table>\n",
       "<p>489 rows × 3 columns</p>\n",
       "</div>"
      ],
      "text/plain": [
       "                                       commitHash            committer author\n",
       "390415   eafe0661f57dd5fb5604439354affe8c43f07500       Billie Rinaldi    NaN\n",
       "390522   f264f882d0d28f7d70d5f0c0deb162c7717025e7         Keith Turner    NaN\n",
       "394436   b76b45627a84120a5da5c5b1e79ee67514552968       Billie Rinaldi    NaN\n",
       "394452   01667e6341ff780009819b34cafd2b2ea7bb4dc0         Keith Turner    NaN\n",
       "394557   e9316a9426f6680c077c1c5521bf3e5f78e885dd           Adam Fuchs    NaN\n",
       "...                                           ...                  ...    ...\n",
       "1866195  83c2c001091e6b5d15dc887e08e778b80328d9f4    Oleg Kalnichevski    NaN\n",
       "1909767  f26d63c53a80272c6ce1ec0e77fd6a9cceeb894f           Marc Giger    NaN\n",
       "1909867  18b0fde1f8a5c7de811bc8ec3a886890d31276b9  Colm O Heigeartaigh    NaN\n",
       "1911104  bce01afb9495317f66936bdbdadfe8ffc096b533  Colm O hEigeartaigh    NaN\n",
       "1911711  0b0cdde8f8af20b0d4c3bd2214143da58e26043a  Colm O hEigeartaigh    NaN\n",
       "\n",
       "[489 rows x 3 columns]"
      ]
     },
     "execution_count": 43,
     "metadata": {},
     "output_type": "execute_result"
    }
   ],
   "source": [
    "merge[merge.author.isna() == True]"
   ]
  },
  {
   "cell_type": "code",
   "execution_count": 44,
   "metadata": {
    "id": "CH2Rd-jhgFiv",
    "outputId": "a834d62b-fe03-4961-f7ce-bc9323f104e4"
   },
   "outputs": [
    {
     "data": {
      "text/html": [
       "<div>\n",
       "<style scoped>\n",
       "    .dataframe tbody tr th:only-of-type {\n",
       "        vertical-align: middle;\n",
       "    }\n",
       "\n",
       "    .dataframe tbody tr th {\n",
       "        vertical-align: top;\n",
       "    }\n",
       "\n",
       "    .dataframe thead th {\n",
       "        text-align: right;\n",
       "    }\n",
       "</style>\n",
       "<table border=\"1\" class=\"dataframe\">\n",
       "  <thead>\n",
       "    <tr style=\"text-align: right;\">\n",
       "      <th></th>\n",
       "      <th>creationCommitHash</th>\n",
       "      <th>committer</th>\n",
       "      <th>author</th>\n",
       "    </tr>\n",
       "  </thead>\n",
       "  <tbody>\n",
       "    <tr>\n",
       "      <th>0</th>\n",
       "      <td>1725ec3a6f8a7f56fb167e7b24686b1848520aa9</td>\n",
       "      <td>Bill Slacum</td>\n",
       "      <td>ujustgotbilld@apache.org</td>\n",
       "    </tr>\n",
       "    <tr>\n",
       "      <th>1</th>\n",
       "      <td>89e282fb559225ff144328bf2295f94185c048e9</td>\n",
       "      <td>Owen O'Malley</td>\n",
       "      <td>omalley@apache.org</td>\n",
       "    </tr>\n",
       "    <tr>\n",
       "      <th>2</th>\n",
       "      <td>c1987ed5f9593624d8d224623793e58d355718ad</td>\n",
       "      <td>Owen O'Malley</td>\n",
       "      <td>omalley@apache.org</td>\n",
       "    </tr>\n",
       "    <tr>\n",
       "      <th>3</th>\n",
       "      <td>d1435b837ba4a465b5925510e8b643c94915b571</td>\n",
       "      <td>Owen O'Malley</td>\n",
       "      <td>omalley@apache.org</td>\n",
       "    </tr>\n",
       "    <tr>\n",
       "      <th>4</th>\n",
       "      <td>ac57063579204a0fecd1c08e45b80b857a8e5cd0</td>\n",
       "      <td>Owen O'Malley</td>\n",
       "      <td>omalley@apache.org</td>\n",
       "    </tr>\n",
       "  </tbody>\n",
       "</table>\n",
       "</div>"
      ],
      "text/plain": [
       "                         creationCommitHash      committer  \\\n",
       "0  1725ec3a6f8a7f56fb167e7b24686b1848520aa9    Bill Slacum   \n",
       "1  89e282fb559225ff144328bf2295f94185c048e9  Owen O'Malley   \n",
       "2  c1987ed5f9593624d8d224623793e58d355718ad  Owen O'Malley   \n",
       "3  d1435b837ba4a465b5925510e8b643c94915b571  Owen O'Malley   \n",
       "4  ac57063579204a0fecd1c08e45b80b857a8e5cd0  Owen O'Malley   \n",
       "\n",
       "                     author  \n",
       "0  ujustgotbilld@apache.org  \n",
       "1        omalley@apache.org  \n",
       "2        omalley@apache.org  \n",
       "3        omalley@apache.org  \n",
       "4        omalley@apache.org  "
      ]
     },
     "execution_count": 44,
     "metadata": {},
     "output_type": "execute_result"
    }
   ],
   "source": [
    "merge2 = pd.merge(merge, pairs_unique, on='committer', how='inner')\n",
    "merge2 = merge2[['commitHash', 'committer', 'author_y']].rename(columns={'author_y': 'author', 'commitHash': 'creationCommitHash'})\n",
    "merge2 = merge2.drop_duplicates()\n",
    "merge2.head()"
   ]
  },
  {
   "cell_type": "code",
   "execution_count": 45,
   "metadata": {
    "id": "NALyDRqEgFiy",
    "outputId": "687f7a6e-2c85-49af-d88d-50f416928aef"
   },
   "outputs": [
    {
     "name": "stdout",
     "output_type": "stream",
     "text": [
      "(2897, 3)\n",
      "2897\n"
     ]
    }
   ],
   "source": [
    "print(merge2.shape)\n",
    "print(len(merge2.creationCommitHash.unique()))"
   ]
  },
  {
   "cell_type": "markdown",
   "metadata": {
    "id": "248wfJ-PgFi0"
   },
   "source": [
    "We have all the `commitHash` with the author. We fill in the hashes of the `SONAR_ISSUES` table that had no author."
   ]
  },
  {
   "cell_type": "code",
   "execution_count": 46,
   "metadata": {
    "id": "r-Cs4DlXgFi0"
   },
   "outputs": [],
   "source": [
    "prova2 = merge2[['creationCommitHash', 'author']]\n",
    "dictionary = prova2.set_index('creationCommitHash').T.to_dict('records')[0]"
   ]
  },
  {
   "cell_type": "code",
   "execution_count": 47,
   "metadata": {
    "id": "TnjxgYWMgFi3",
    "outputId": "08744dde-7638-499c-fdaf-c4555812bfd9"
   },
   "outputs": [
    {
     "data": {
      "text/html": [
       "<div>\n",
       "<style scoped>\n",
       "    .dataframe tbody tr th:only-of-type {\n",
       "        vertical-align: middle;\n",
       "    }\n",
       "\n",
       "    .dataframe tbody tr th {\n",
       "        vertical-align: top;\n",
       "    }\n",
       "\n",
       "    .dataframe thead th {\n",
       "        text-align: right;\n",
       "    }\n",
       "</style>\n",
       "<table border=\"1\" class=\"dataframe\">\n",
       "  <thead>\n",
       "    <tr style=\"text-align: right;\">\n",
       "      <th></th>\n",
       "      <th>index</th>\n",
       "      <th>projectID</th>\n",
       "      <th>creationDate</th>\n",
       "      <th>closeDate</th>\n",
       "      <th>creationCommitHash</th>\n",
       "      <th>closeCommitHash</th>\n",
       "      <th>type</th>\n",
       "      <th>severity</th>\n",
       "      <th>debt</th>\n",
       "      <th>author</th>\n",
       "    </tr>\n",
       "  </thead>\n",
       "  <tbody>\n",
       "    <tr>\n",
       "      <th>0</th>\n",
       "      <td>NaN</td>\n",
       "      <td>commons-daemon</td>\n",
       "      <td>2003-09-04T23:28:19Z</td>\n",
       "      <td>2019-07-07T10:31:36Z</td>\n",
       "      <td>d3416d3a25b16da3d18b3849522fa96183918e5b</td>\n",
       "      <td>not-resolved</td>\n",
       "      <td>CODE_SMELL</td>\n",
       "      <td>MAJOR</td>\n",
       "      <td>20min</td>\n",
       "      <td>yoavs@apache.org</td>\n",
       "    </tr>\n",
       "    <tr>\n",
       "      <th>1</th>\n",
       "      <td>1.0</td>\n",
       "      <td>commons-daemon</td>\n",
       "      <td>2003-09-04T23:28:19Z</td>\n",
       "      <td>2010-03-15T08:09:26Z</td>\n",
       "      <td>d3416d3a25b16da3d18b3849522fa96183918e5b</td>\n",
       "      <td>6cbc872eb202dfc27f2eb59b02d953c3deca32c8</td>\n",
       "      <td>CODE_SMELL</td>\n",
       "      <td>MINOR</td>\n",
       "      <td>1min</td>\n",
       "      <td>yoavs@apache.org</td>\n",
       "    </tr>\n",
       "    <tr>\n",
       "      <th>2</th>\n",
       "      <td>NaN</td>\n",
       "      <td>commons-daemon</td>\n",
       "      <td>2003-09-04T23:28:19Z</td>\n",
       "      <td>2019-07-07T10:31:36Z</td>\n",
       "      <td>d3416d3a25b16da3d18b3849522fa96183918e5b</td>\n",
       "      <td>not-resolved</td>\n",
       "      <td>CODE_SMELL</td>\n",
       "      <td>MAJOR</td>\n",
       "      <td>30min</td>\n",
       "      <td>yoavs@apache.org</td>\n",
       "    </tr>\n",
       "    <tr>\n",
       "      <th>3</th>\n",
       "      <td>2.0</td>\n",
       "      <td>commons-daemon</td>\n",
       "      <td>2003-09-04T23:28:19Z</td>\n",
       "      <td>2010-03-15T08:09:26Z</td>\n",
       "      <td>d3416d3a25b16da3d18b3849522fa96183918e5b</td>\n",
       "      <td>6cbc872eb202dfc27f2eb59b02d953c3deca32c8</td>\n",
       "      <td>CODE_SMELL</td>\n",
       "      <td>MINOR</td>\n",
       "      <td>1min</td>\n",
       "      <td>yoavs@apache.org</td>\n",
       "    </tr>\n",
       "    <tr>\n",
       "      <th>4</th>\n",
       "      <td>NaN</td>\n",
       "      <td>commons-daemon</td>\n",
       "      <td>2003-09-04T23:28:19Z</td>\n",
       "      <td>2019-07-07T10:31:36Z</td>\n",
       "      <td>d3416d3a25b16da3d18b3849522fa96183918e5b</td>\n",
       "      <td>not-resolved</td>\n",
       "      <td>CODE_SMELL</td>\n",
       "      <td>MINOR</td>\n",
       "      <td>1min</td>\n",
       "      <td>yoavs@apache.org</td>\n",
       "    </tr>\n",
       "    <tr>\n",
       "      <th>...</th>\n",
       "      <td>...</td>\n",
       "      <td>...</td>\n",
       "      <td>...</td>\n",
       "      <td>...</td>\n",
       "      <td>...</td>\n",
       "      <td>...</td>\n",
       "      <td>...</td>\n",
       "      <td>...</td>\n",
       "      <td>...</td>\n",
       "      <td>...</td>\n",
       "    </tr>\n",
       "    <tr>\n",
       "      <th>1917415</th>\n",
       "      <td>1941495.0</td>\n",
       "      <td>commons-cli</td>\n",
       "      <td>2017-06-23T11:04:59Z</td>\n",
       "      <td>2017-07-28T15:29:53Z</td>\n",
       "      <td>4f17a89ad04bcf718aeac43d202f8c261ce0b796</td>\n",
       "      <td>e420dd2bebd532abf36d12916358652998e20834</td>\n",
       "      <td>CODE_SMELL</td>\n",
       "      <td>MAJOR</td>\n",
       "      <td>20min</td>\n",
       "      <td>rubin@raaftech.com</td>\n",
       "    </tr>\n",
       "    <tr>\n",
       "      <th>1917416</th>\n",
       "      <td>1941496.0</td>\n",
       "      <td>commons-cli</td>\n",
       "      <td>2017-06-23T11:04:59Z</td>\n",
       "      <td>2017-07-28T15:29:53Z</td>\n",
       "      <td>4f17a89ad04bcf718aeac43d202f8c261ce0b796</td>\n",
       "      <td>e420dd2bebd532abf36d12916358652998e20834</td>\n",
       "      <td>CODE_SMELL</td>\n",
       "      <td>MINOR</td>\n",
       "      <td>2min</td>\n",
       "      <td>rubin@raaftech.com</td>\n",
       "    </tr>\n",
       "    <tr>\n",
       "      <th>1917417</th>\n",
       "      <td>1941497.0</td>\n",
       "      <td>commons-cli</td>\n",
       "      <td>2017-06-23T11:04:59Z</td>\n",
       "      <td>2017-07-28T15:29:53Z</td>\n",
       "      <td>4f17a89ad04bcf718aeac43d202f8c261ce0b796</td>\n",
       "      <td>e420dd2bebd532abf36d12916358652998e20834</td>\n",
       "      <td>CODE_SMELL</td>\n",
       "      <td>MINOR</td>\n",
       "      <td>10min</td>\n",
       "      <td>rubin@raaftech.com</td>\n",
       "    </tr>\n",
       "    <tr>\n",
       "      <th>1917418</th>\n",
       "      <td>1941498.0</td>\n",
       "      <td>commons-cli</td>\n",
       "      <td>2017-06-23T11:04:59Z</td>\n",
       "      <td>2017-07-28T15:29:53Z</td>\n",
       "      <td>4f17a89ad04bcf718aeac43d202f8c261ce0b796</td>\n",
       "      <td>e420dd2bebd532abf36d12916358652998e20834</td>\n",
       "      <td>CODE_SMELL</td>\n",
       "      <td>MINOR</td>\n",
       "      <td>10min</td>\n",
       "      <td>rubin@raaftech.com</td>\n",
       "    </tr>\n",
       "    <tr>\n",
       "      <th>1917419</th>\n",
       "      <td>1941499.0</td>\n",
       "      <td>commons-cli</td>\n",
       "      <td>2017-06-27T16:46:37Z</td>\n",
       "      <td>2017-07-28T15:29:53Z</td>\n",
       "      <td>3d9587caec7dd23d359bc112c63512e2bc3e0702</td>\n",
       "      <td>e420dd2bebd532abf36d12916358652998e20834</td>\n",
       "      <td>CODE_SMELL</td>\n",
       "      <td>MINOR</td>\n",
       "      <td>10min</td>\n",
       "      <td>rubin@raaftech.com</td>\n",
       "    </tr>\n",
       "  </tbody>\n",
       "</table>\n",
       "<p>1917420 rows × 10 columns</p>\n",
       "</div>"
      ],
      "text/plain": [
       "             index       projectID          creationDate  \\\n",
       "0              NaN  commons-daemon  2003-09-04T23:28:19Z   \n",
       "1              1.0  commons-daemon  2003-09-04T23:28:19Z   \n",
       "2              NaN  commons-daemon  2003-09-04T23:28:19Z   \n",
       "3              2.0  commons-daemon  2003-09-04T23:28:19Z   \n",
       "4              NaN  commons-daemon  2003-09-04T23:28:19Z   \n",
       "...            ...             ...                   ...   \n",
       "1917415  1941495.0     commons-cli  2017-06-23T11:04:59Z   \n",
       "1917416  1941496.0     commons-cli  2017-06-23T11:04:59Z   \n",
       "1917417  1941497.0     commons-cli  2017-06-23T11:04:59Z   \n",
       "1917418  1941498.0     commons-cli  2017-06-23T11:04:59Z   \n",
       "1917419  1941499.0     commons-cli  2017-06-27T16:46:37Z   \n",
       "\n",
       "                    closeDate                        creationCommitHash  \\\n",
       "0        2019-07-07T10:31:36Z  d3416d3a25b16da3d18b3849522fa96183918e5b   \n",
       "1        2010-03-15T08:09:26Z  d3416d3a25b16da3d18b3849522fa96183918e5b   \n",
       "2        2019-07-07T10:31:36Z  d3416d3a25b16da3d18b3849522fa96183918e5b   \n",
       "3        2010-03-15T08:09:26Z  d3416d3a25b16da3d18b3849522fa96183918e5b   \n",
       "4        2019-07-07T10:31:36Z  d3416d3a25b16da3d18b3849522fa96183918e5b   \n",
       "...                       ...                                       ...   \n",
       "1917415  2017-07-28T15:29:53Z  4f17a89ad04bcf718aeac43d202f8c261ce0b796   \n",
       "1917416  2017-07-28T15:29:53Z  4f17a89ad04bcf718aeac43d202f8c261ce0b796   \n",
       "1917417  2017-07-28T15:29:53Z  4f17a89ad04bcf718aeac43d202f8c261ce0b796   \n",
       "1917418  2017-07-28T15:29:53Z  4f17a89ad04bcf718aeac43d202f8c261ce0b796   \n",
       "1917419  2017-07-28T15:29:53Z  3d9587caec7dd23d359bc112c63512e2bc3e0702   \n",
       "\n",
       "                                  closeCommitHash        type severity   debt  \\\n",
       "0                                    not-resolved  CODE_SMELL    MAJOR  20min   \n",
       "1        6cbc872eb202dfc27f2eb59b02d953c3deca32c8  CODE_SMELL    MINOR   1min   \n",
       "2                                    not-resolved  CODE_SMELL    MAJOR  30min   \n",
       "3        6cbc872eb202dfc27f2eb59b02d953c3deca32c8  CODE_SMELL    MINOR   1min   \n",
       "4                                    not-resolved  CODE_SMELL    MINOR   1min   \n",
       "...                                           ...         ...      ...    ...   \n",
       "1917415  e420dd2bebd532abf36d12916358652998e20834  CODE_SMELL    MAJOR  20min   \n",
       "1917416  e420dd2bebd532abf36d12916358652998e20834  CODE_SMELL    MINOR   2min   \n",
       "1917417  e420dd2bebd532abf36d12916358652998e20834  CODE_SMELL    MINOR  10min   \n",
       "1917418  e420dd2bebd532abf36d12916358652998e20834  CODE_SMELL    MINOR  10min   \n",
       "1917419  e420dd2bebd532abf36d12916358652998e20834  CODE_SMELL    MINOR  10min   \n",
       "\n",
       "                     author  \n",
       "0          yoavs@apache.org  \n",
       "1          yoavs@apache.org  \n",
       "2          yoavs@apache.org  \n",
       "3          yoavs@apache.org  \n",
       "4          yoavs@apache.org  \n",
       "...                     ...  \n",
       "1917415  rubin@raaftech.com  \n",
       "1917416  rubin@raaftech.com  \n",
       "1917417  rubin@raaftech.com  \n",
       "1917418  rubin@raaftech.com  \n",
       "1917419  rubin@raaftech.com  \n",
       "\n",
       "[1917420 rows x 10 columns]"
      ]
     },
     "execution_count": 47,
     "metadata": {},
     "output_type": "execute_result"
    }
   ],
   "source": [
    "sonarIssues.author = sonarIssues.author.fillna(sonarIssues.creationCommitHash.map(dictionary))\n",
    "sonarIssues"
   ]
  },
  {
   "cell_type": "markdown",
   "metadata": {
    "id": "Ps4nIHzwgFi6"
   },
   "source": [
    "Then, we remove the rows with missing values in the `author` attribute."
   ]
  },
  {
   "cell_type": "code",
   "execution_count": 48,
   "metadata": {
    "id": "MSnRdAJIgFi7",
    "outputId": "b2261d16-7ce4-4179-e6d3-dfdd093a853b"
   },
   "outputs": [
    {
     "name": "stdout",
     "output_type": "stream",
     "text": [
      "(1917420, 10)\n"
     ]
    },
    {
     "data": {
      "text/plain": [
       "(1532446, 10)"
      ]
     },
     "execution_count": 48,
     "metadata": {},
     "output_type": "execute_result"
    }
   ],
   "source": [
    "print(sonarIssues.shape)\n",
    "sonarIssues = sonarIssues.dropna(subset=['author'])\n",
    "sonarIssues.shape"
   ]
  },
  {
   "cell_type": "markdown",
   "metadata": {
    "id": "V_YDzJTogFi9"
   },
   "source": [
    "---"
   ]
  },
  {
   "cell_type": "code",
   "execution_count": 49,
   "metadata": {
    "id": "bErUZXqYgFi-",
    "outputId": "cf0aa77d-0efa-412a-9182-0bd2a0af6b60"
   },
   "outputs": [
    {
     "data": {
      "text/html": [
       "<div>\n",
       "<style scoped>\n",
       "    .dataframe tbody tr th:only-of-type {\n",
       "        vertical-align: middle;\n",
       "    }\n",
       "\n",
       "    .dataframe tbody tr th {\n",
       "        vertical-align: top;\n",
       "    }\n",
       "\n",
       "    .dataframe thead th {\n",
       "        text-align: right;\n",
       "    }\n",
       "</style>\n",
       "<table border=\"1\" class=\"dataframe\">\n",
       "  <thead>\n",
       "    <tr style=\"text-align: right;\">\n",
       "      <th></th>\n",
       "      <th>projectID</th>\n",
       "      <th>creationDate</th>\n",
       "      <th>closeDate</th>\n",
       "      <th>creationCommitHash</th>\n",
       "      <th>closeCommitHash</th>\n",
       "      <th>type</th>\n",
       "      <th>severity</th>\n",
       "      <th>debt</th>\n",
       "      <th>author</th>\n",
       "    </tr>\n",
       "  </thead>\n",
       "  <tbody>\n",
       "    <tr>\n",
       "      <th>0</th>\n",
       "      <td>commons-daemon</td>\n",
       "      <td>2003-09-04T23:28:19Z</td>\n",
       "      <td>2019-07-07T10:31:36Z</td>\n",
       "      <td>d3416d3a25b16da3d18b3849522fa96183918e5b</td>\n",
       "      <td>not-resolved</td>\n",
       "      <td>CODE_SMELL</td>\n",
       "      <td>MAJOR</td>\n",
       "      <td>20min</td>\n",
       "      <td>yoavs@apache.org</td>\n",
       "    </tr>\n",
       "    <tr>\n",
       "      <th>1</th>\n",
       "      <td>commons-daemon</td>\n",
       "      <td>2003-09-04T23:28:19Z</td>\n",
       "      <td>2010-03-15T08:09:26Z</td>\n",
       "      <td>d3416d3a25b16da3d18b3849522fa96183918e5b</td>\n",
       "      <td>6cbc872eb202dfc27f2eb59b02d953c3deca32c8</td>\n",
       "      <td>CODE_SMELL</td>\n",
       "      <td>MINOR</td>\n",
       "      <td>1min</td>\n",
       "      <td>yoavs@apache.org</td>\n",
       "    </tr>\n",
       "    <tr>\n",
       "      <th>2</th>\n",
       "      <td>commons-daemon</td>\n",
       "      <td>2003-09-04T23:28:19Z</td>\n",
       "      <td>2019-07-07T10:31:36Z</td>\n",
       "      <td>d3416d3a25b16da3d18b3849522fa96183918e5b</td>\n",
       "      <td>not-resolved</td>\n",
       "      <td>CODE_SMELL</td>\n",
       "      <td>MAJOR</td>\n",
       "      <td>30min</td>\n",
       "      <td>yoavs@apache.org</td>\n",
       "    </tr>\n",
       "    <tr>\n",
       "      <th>3</th>\n",
       "      <td>commons-daemon</td>\n",
       "      <td>2003-09-04T23:28:19Z</td>\n",
       "      <td>2010-03-15T08:09:26Z</td>\n",
       "      <td>d3416d3a25b16da3d18b3849522fa96183918e5b</td>\n",
       "      <td>6cbc872eb202dfc27f2eb59b02d953c3deca32c8</td>\n",
       "      <td>CODE_SMELL</td>\n",
       "      <td>MINOR</td>\n",
       "      <td>1min</td>\n",
       "      <td>yoavs@apache.org</td>\n",
       "    </tr>\n",
       "    <tr>\n",
       "      <th>4</th>\n",
       "      <td>commons-daemon</td>\n",
       "      <td>2003-09-04T23:28:19Z</td>\n",
       "      <td>2019-07-07T10:31:36Z</td>\n",
       "      <td>d3416d3a25b16da3d18b3849522fa96183918e5b</td>\n",
       "      <td>not-resolved</td>\n",
       "      <td>CODE_SMELL</td>\n",
       "      <td>MINOR</td>\n",
       "      <td>1min</td>\n",
       "      <td>yoavs@apache.org</td>\n",
       "    </tr>\n",
       "    <tr>\n",
       "      <th>...</th>\n",
       "      <td>...</td>\n",
       "      <td>...</td>\n",
       "      <td>...</td>\n",
       "      <td>...</td>\n",
       "      <td>...</td>\n",
       "      <td>...</td>\n",
       "      <td>...</td>\n",
       "      <td>...</td>\n",
       "      <td>...</td>\n",
       "    </tr>\n",
       "    <tr>\n",
       "      <th>1917415</th>\n",
       "      <td>commons-cli</td>\n",
       "      <td>2017-06-23T11:04:59Z</td>\n",
       "      <td>2017-07-28T15:29:53Z</td>\n",
       "      <td>4f17a89ad04bcf718aeac43d202f8c261ce0b796</td>\n",
       "      <td>e420dd2bebd532abf36d12916358652998e20834</td>\n",
       "      <td>CODE_SMELL</td>\n",
       "      <td>MAJOR</td>\n",
       "      <td>20min</td>\n",
       "      <td>rubin@raaftech.com</td>\n",
       "    </tr>\n",
       "    <tr>\n",
       "      <th>1917416</th>\n",
       "      <td>commons-cli</td>\n",
       "      <td>2017-06-23T11:04:59Z</td>\n",
       "      <td>2017-07-28T15:29:53Z</td>\n",
       "      <td>4f17a89ad04bcf718aeac43d202f8c261ce0b796</td>\n",
       "      <td>e420dd2bebd532abf36d12916358652998e20834</td>\n",
       "      <td>CODE_SMELL</td>\n",
       "      <td>MINOR</td>\n",
       "      <td>2min</td>\n",
       "      <td>rubin@raaftech.com</td>\n",
       "    </tr>\n",
       "    <tr>\n",
       "      <th>1917417</th>\n",
       "      <td>commons-cli</td>\n",
       "      <td>2017-06-23T11:04:59Z</td>\n",
       "      <td>2017-07-28T15:29:53Z</td>\n",
       "      <td>4f17a89ad04bcf718aeac43d202f8c261ce0b796</td>\n",
       "      <td>e420dd2bebd532abf36d12916358652998e20834</td>\n",
       "      <td>CODE_SMELL</td>\n",
       "      <td>MINOR</td>\n",
       "      <td>10min</td>\n",
       "      <td>rubin@raaftech.com</td>\n",
       "    </tr>\n",
       "    <tr>\n",
       "      <th>1917418</th>\n",
       "      <td>commons-cli</td>\n",
       "      <td>2017-06-23T11:04:59Z</td>\n",
       "      <td>2017-07-28T15:29:53Z</td>\n",
       "      <td>4f17a89ad04bcf718aeac43d202f8c261ce0b796</td>\n",
       "      <td>e420dd2bebd532abf36d12916358652998e20834</td>\n",
       "      <td>CODE_SMELL</td>\n",
       "      <td>MINOR</td>\n",
       "      <td>10min</td>\n",
       "      <td>rubin@raaftech.com</td>\n",
       "    </tr>\n",
       "    <tr>\n",
       "      <th>1917419</th>\n",
       "      <td>commons-cli</td>\n",
       "      <td>2017-06-27T16:46:37Z</td>\n",
       "      <td>2017-07-28T15:29:53Z</td>\n",
       "      <td>3d9587caec7dd23d359bc112c63512e2bc3e0702</td>\n",
       "      <td>e420dd2bebd532abf36d12916358652998e20834</td>\n",
       "      <td>CODE_SMELL</td>\n",
       "      <td>MINOR</td>\n",
       "      <td>10min</td>\n",
       "      <td>rubin@raaftech.com</td>\n",
       "    </tr>\n",
       "  </tbody>\n",
       "</table>\n",
       "<p>1532446 rows × 9 columns</p>\n",
       "</div>"
      ],
      "text/plain": [
       "              projectID          creationDate             closeDate  \\\n",
       "0        commons-daemon  2003-09-04T23:28:19Z  2019-07-07T10:31:36Z   \n",
       "1        commons-daemon  2003-09-04T23:28:19Z  2010-03-15T08:09:26Z   \n",
       "2        commons-daemon  2003-09-04T23:28:19Z  2019-07-07T10:31:36Z   \n",
       "3        commons-daemon  2003-09-04T23:28:19Z  2010-03-15T08:09:26Z   \n",
       "4        commons-daemon  2003-09-04T23:28:19Z  2019-07-07T10:31:36Z   \n",
       "...                 ...                   ...                   ...   \n",
       "1917415     commons-cli  2017-06-23T11:04:59Z  2017-07-28T15:29:53Z   \n",
       "1917416     commons-cli  2017-06-23T11:04:59Z  2017-07-28T15:29:53Z   \n",
       "1917417     commons-cli  2017-06-23T11:04:59Z  2017-07-28T15:29:53Z   \n",
       "1917418     commons-cli  2017-06-23T11:04:59Z  2017-07-28T15:29:53Z   \n",
       "1917419     commons-cli  2017-06-27T16:46:37Z  2017-07-28T15:29:53Z   \n",
       "\n",
       "                               creationCommitHash  \\\n",
       "0        d3416d3a25b16da3d18b3849522fa96183918e5b   \n",
       "1        d3416d3a25b16da3d18b3849522fa96183918e5b   \n",
       "2        d3416d3a25b16da3d18b3849522fa96183918e5b   \n",
       "3        d3416d3a25b16da3d18b3849522fa96183918e5b   \n",
       "4        d3416d3a25b16da3d18b3849522fa96183918e5b   \n",
       "...                                           ...   \n",
       "1917415  4f17a89ad04bcf718aeac43d202f8c261ce0b796   \n",
       "1917416  4f17a89ad04bcf718aeac43d202f8c261ce0b796   \n",
       "1917417  4f17a89ad04bcf718aeac43d202f8c261ce0b796   \n",
       "1917418  4f17a89ad04bcf718aeac43d202f8c261ce0b796   \n",
       "1917419  3d9587caec7dd23d359bc112c63512e2bc3e0702   \n",
       "\n",
       "                                  closeCommitHash        type severity   debt  \\\n",
       "0                                    not-resolved  CODE_SMELL    MAJOR  20min   \n",
       "1        6cbc872eb202dfc27f2eb59b02d953c3deca32c8  CODE_SMELL    MINOR   1min   \n",
       "2                                    not-resolved  CODE_SMELL    MAJOR  30min   \n",
       "3        6cbc872eb202dfc27f2eb59b02d953c3deca32c8  CODE_SMELL    MINOR   1min   \n",
       "4                                    not-resolved  CODE_SMELL    MINOR   1min   \n",
       "...                                           ...         ...      ...    ...   \n",
       "1917415  e420dd2bebd532abf36d12916358652998e20834  CODE_SMELL    MAJOR  20min   \n",
       "1917416  e420dd2bebd532abf36d12916358652998e20834  CODE_SMELL    MINOR   2min   \n",
       "1917417  e420dd2bebd532abf36d12916358652998e20834  CODE_SMELL    MINOR  10min   \n",
       "1917418  e420dd2bebd532abf36d12916358652998e20834  CODE_SMELL    MINOR  10min   \n",
       "1917419  e420dd2bebd532abf36d12916358652998e20834  CODE_SMELL    MINOR  10min   \n",
       "\n",
       "                     author  \n",
       "0          yoavs@apache.org  \n",
       "1          yoavs@apache.org  \n",
       "2          yoavs@apache.org  \n",
       "3          yoavs@apache.org  \n",
       "4          yoavs@apache.org  \n",
       "...                     ...  \n",
       "1917415  rubin@raaftech.com  \n",
       "1917416  rubin@raaftech.com  \n",
       "1917417  rubin@raaftech.com  \n",
       "1917418  rubin@raaftech.com  \n",
       "1917419  rubin@raaftech.com  \n",
       "\n",
       "[1532446 rows x 9 columns]"
      ]
     },
     "execution_count": 49,
     "metadata": {},
     "output_type": "execute_result"
    }
   ],
   "source": [
    "sonarIssues = sonarIssues.iloc[:,1:]\n",
    "sonarIssues"
   ]
  },
  {
   "cell_type": "markdown",
   "metadata": {
    "id": "Es9BiHV7iBWU"
   },
   "source": [
    "We save it into a new csv."
   ]
  },
  {
   "cell_type": "code",
   "execution_count": 50,
   "metadata": {
    "id": "P9HmkWZ_wmgQ"
   },
   "outputs": [],
   "source": [
    "sonarIssues.to_csv('../../../data/interim/DataPreparation/CleanData/SONAR_ISSUES_clean.csv', header=True)"
   ]
  },
  {
   "cell_type": "code",
   "execution_count": null,
   "metadata": {},
   "outputs": [],
   "source": []
  }
 ],
 "metadata": {
  "colab": {
   "collapsed_sections": [],
   "name": "SONAR_ISSUES.ipynb",
   "provenance": []
  },
  "kernelspec": {
   "display_name": "Python 3",
   "language": "python",
   "name": "python3"
  },
  "language_info": {
   "codemirror_mode": {
    "name": "ipython",
    "version": 3
   },
   "file_extension": ".py",
   "mimetype": "text/x-python",
   "name": "python",
   "nbconvert_exporter": "python",
   "pygments_lexer": "ipython3",
   "version": "3.8.3"
  }
 },
 "nbformat": 4,
 "nbformat_minor": 1
}
