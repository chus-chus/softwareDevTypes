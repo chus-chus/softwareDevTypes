{
 "cells": [
  {
   "cell_type": "markdown",
   "metadata": {
    "id": "9FIvKGLpeja9"
   },
   "source": [
    "# **GIT_COMMITS**\n",
    "\n",
    "This notebook the cleaning of the attributes of the table `GIT_COMMITS`.\n",
    "\n",
    "First, we import the libraries we need and, then, we read the corresponding csv."
   ]
  },
  {
   "cell_type": "code",
   "execution_count": 1,
   "metadata": {
    "id": "_1jC72O8lmqk"
   },
   "outputs": [],
   "source": [
    "import pandas as pd\n",
    "import numpy as np"
   ]
  },
  {
   "cell_type": "code",
   "execution_count": 2,
   "metadata": {
    "colab": {
     "base_uri": "https://localhost:8080/",
     "height": 323
    },
    "executionInfo": {
     "elapsed": 1011,
     "status": "ok",
     "timestamp": 1602779876443,
     "user": {
      "displayName": "Laia Albors Zumel",
      "photoUrl": "",
      "userId": "07110507271504138336"
     },
     "user_tz": -120
    },
    "id": "MVgdjl7Ll_UL",
    "outputId": "fe8407c5-b17d-4c62-d98a-9a835561d497"
   },
   "outputs": [
    {
     "name": "stdout",
     "output_type": "stream",
     "text": [
      "(140687, 6)\n"
     ]
    },
    {
     "data": {
      "text/html": [
       "<div>\n",
       "<style scoped>\n",
       "    .dataframe tbody tr th:only-of-type {\n",
       "        vertical-align: middle;\n",
       "    }\n",
       "\n",
       "    .dataframe tbody tr th {\n",
       "        vertical-align: top;\n",
       "    }\n",
       "\n",
       "    .dataframe thead th {\n",
       "        text-align: right;\n",
       "    }\n",
       "</style>\n",
       "<table border=\"1\" class=\"dataframe\">\n",
       "  <thead>\n",
       "    <tr style=\"text-align: right;\">\n",
       "      <th></th>\n",
       "      <th>Unnamed: 0</th>\n",
       "      <th>projectID</th>\n",
       "      <th>commitHash</th>\n",
       "      <th>author</th>\n",
       "      <th>committer</th>\n",
       "      <th>committerDate</th>\n",
       "    </tr>\n",
       "  </thead>\n",
       "  <tbody>\n",
       "    <tr>\n",
       "      <th>0</th>\n",
       "      <td>0</td>\n",
       "      <td>accumulo</td>\n",
       "      <td>e0880e263e4bf8662ba3848405200473a25dfc9f</td>\n",
       "      <td>Keith Turner</td>\n",
       "      <td>Keith Turner</td>\n",
       "      <td>2011-10-04T00:46:07Z</td>\n",
       "    </tr>\n",
       "    <tr>\n",
       "      <th>1</th>\n",
       "      <td>1</td>\n",
       "      <td>accumulo</td>\n",
       "      <td>e8774c5ec3a35e042f320540b5f7e66ebd2d9e87</td>\n",
       "      <td>Billie Rinaldi</td>\n",
       "      <td>Billie Rinaldi</td>\n",
       "      <td>2011-10-04T16:57:13Z</td>\n",
       "    </tr>\n",
       "    <tr>\n",
       "      <th>2</th>\n",
       "      <td>2</td>\n",
       "      <td>accumulo</td>\n",
       "      <td>2032ebbd0ed90734da39ca238bbd10dee24d0030</td>\n",
       "      <td>Keith Turner</td>\n",
       "      <td>Keith Turner</td>\n",
       "      <td>2011-10-04T18:39:18Z</td>\n",
       "    </tr>\n",
       "    <tr>\n",
       "      <th>3</th>\n",
       "      <td>3</td>\n",
       "      <td>accumulo</td>\n",
       "      <td>de297d4932e08625a5df146f0802041bb5aeb892</td>\n",
       "      <td>Billie Rinaldi</td>\n",
       "      <td>Billie Rinaldi</td>\n",
       "      <td>2011-10-04T19:31:01Z</td>\n",
       "    </tr>\n",
       "    <tr>\n",
       "      <th>4</th>\n",
       "      <td>4</td>\n",
       "      <td>accumulo</td>\n",
       "      <td>34efaae87639a83b60fdb7274de4b45051025a3a</td>\n",
       "      <td>Billie Rinaldi</td>\n",
       "      <td>Billie Rinaldi</td>\n",
       "      <td>2011-10-05T17:19:06Z</td>\n",
       "    </tr>\n",
       "  </tbody>\n",
       "</table>\n",
       "</div>"
      ],
      "text/plain": [
       "   Unnamed: 0 projectID                                commitHash  \\\n",
       "0           0  accumulo  e0880e263e4bf8662ba3848405200473a25dfc9f   \n",
       "1           1  accumulo  e8774c5ec3a35e042f320540b5f7e66ebd2d9e87   \n",
       "2           2  accumulo  2032ebbd0ed90734da39ca238bbd10dee24d0030   \n",
       "3           3  accumulo  de297d4932e08625a5df146f0802041bb5aeb892   \n",
       "4           4  accumulo  34efaae87639a83b60fdb7274de4b45051025a3a   \n",
       "\n",
       "           author       committer         committerDate  \n",
       "0    Keith Turner    Keith Turner  2011-10-04T00:46:07Z  \n",
       "1  Billie Rinaldi  Billie Rinaldi  2011-10-04T16:57:13Z  \n",
       "2    Keith Turner    Keith Turner  2011-10-04T18:39:18Z  \n",
       "3  Billie Rinaldi  Billie Rinaldi  2011-10-04T19:31:01Z  \n",
       "4  Billie Rinaldi  Billie Rinaldi  2011-10-05T17:19:06Z  "
      ]
     },
     "execution_count": 2,
     "metadata": {},
     "output_type": "execute_result"
    }
   ],
   "source": [
    "gitCommits = pd.read_csv(\"../../../data/interim/DataPreparation/SelectData/GIT_COMMITS_select.csv\")\n",
    "print(gitCommits.shape)\n",
    "gitCommits.head()"
   ]
  },
  {
   "cell_type": "markdown",
   "metadata": {
    "id": "RxVnnkxHepPD"
   },
   "source": [
    "We define a function that returns, given two lists, their intersection."
   ]
  },
  {
   "cell_type": "code",
   "execution_count": 3,
   "metadata": {
    "id": "LFXVd-5jqk4n"
   },
   "outputs": [],
   "source": [
    "def intersection(l1, l2):\n",
    "  temp = set(l2)\n",
    "  l3 = [value for value in l1 if value in temp]\n",
    "  return l3"
   ]
  },
  {
   "cell_type": "markdown",
   "metadata": {
    "id": "ySskfimkeruI"
   },
   "source": [
    "Next, for each attribute, we treat the missing values."
   ]
  },
  {
   "cell_type": "markdown",
   "metadata": {
    "id": "FY8OHtOwsX6o"
   },
   "source": [
    "#### projectID"
   ]
  },
  {
   "cell_type": "code",
   "execution_count": 4,
   "metadata": {
    "colab": {
     "base_uri": "https://localhost:8080/",
     "height": 34
    },
    "executionInfo": {
     "elapsed": 677,
     "status": "ok",
     "timestamp": 1602779878034,
     "user": {
      "displayName": "Laia Albors Zumel",
      "photoUrl": "",
      "userId": "07110507271504138336"
     },
     "user_tz": -120
    },
    "id": "Jgzb5qJHsZvf",
    "outputId": "7ec14688-ac25-424c-d8ab-400cf789d326"
   },
   "outputs": [
    {
     "data": {
      "text/plain": [
       "33"
      ]
     },
     "execution_count": 4,
     "metadata": {},
     "output_type": "execute_result"
    }
   ],
   "source": [
    "len(gitCommits.projectID.unique())"
   ]
  },
  {
   "cell_type": "code",
   "execution_count": 5,
   "metadata": {
    "colab": {
     "base_uri": "https://localhost:8080/",
     "height": 34
    },
    "executionInfo": {
     "elapsed": 344,
     "status": "ok",
     "timestamp": 1602779878034,
     "user": {
      "displayName": "Laia Albors Zumel",
      "photoUrl": "",
      "userId": "07110507271504138336"
     },
     "user_tz": -120
    },
    "id": "VxBQnqi5se3i",
    "outputId": "5dae1733-89b8-4e36-e1e8-94c6cdf95d18"
   },
   "outputs": [
    {
     "data": {
      "text/plain": [
       "0"
      ]
     },
     "execution_count": 5,
     "metadata": {},
     "output_type": "execute_result"
    }
   ],
   "source": [
    "projectIDNan = list(np.where(gitCommits.projectID.isna()))[0]\n",
    "len(projectIDNan)"
   ]
  },
  {
   "cell_type": "markdown",
   "metadata": {
    "id": "DvvNicqnsm4v"
   },
   "source": [
    "#### commitHash"
   ]
  },
  {
   "cell_type": "code",
   "execution_count": 6,
   "metadata": {
    "colab": {
     "base_uri": "https://localhost:8080/",
     "height": 34
    },
    "executionInfo": {
     "elapsed": 399,
     "status": "ok",
     "timestamp": 1602779878835,
     "user": {
      "displayName": "Laia Albors Zumel",
      "photoUrl": "",
      "userId": "07110507271504138336"
     },
     "user_tz": -120
    },
    "id": "GcbxHdE1sm4x",
    "outputId": "8ab506bb-ff58-470f-e30f-d7bd6e814cac"
   },
   "outputs": [
    {
     "data": {
      "text/plain": [
       "140687"
      ]
     },
     "execution_count": 6,
     "metadata": {},
     "output_type": "execute_result"
    }
   ],
   "source": [
    "len(gitCommits.commitHash.unique())"
   ]
  },
  {
   "cell_type": "code",
   "execution_count": 7,
   "metadata": {
    "colab": {
     "base_uri": "https://localhost:8080/",
     "height": 34
    },
    "executionInfo": {
     "elapsed": 442,
     "status": "ok",
     "timestamp": 1602779879155,
     "user": {
      "displayName": "Laia Albors Zumel",
      "photoUrl": "",
      "userId": "07110507271504138336"
     },
     "user_tz": -120
    },
    "id": "63UuZPQ2sm44",
    "outputId": "3d0c86ae-f6dd-4d83-e50c-43d06290757c"
   },
   "outputs": [
    {
     "data": {
      "text/plain": [
       "0"
      ]
     },
     "execution_count": 7,
     "metadata": {},
     "output_type": "execute_result"
    }
   ],
   "source": [
    "commitHashNan = list(np.where(gitCommits.commitHash.isna()))[0]\n",
    "len(commitHashNan)"
   ]
  },
  {
   "cell_type": "markdown",
   "metadata": {
    "id": "GPqBJrwOmJ1m"
   },
   "source": [
    "#### author"
   ]
  },
  {
   "cell_type": "code",
   "execution_count": 8,
   "metadata": {
    "colab": {
     "base_uri": "https://localhost:8080/",
     "height": 34
    },
    "executionInfo": {
     "elapsed": 761,
     "status": "ok",
     "timestamp": 1602779880186,
     "user": {
      "displayName": "Laia Albors Zumel",
      "photoUrl": "",
      "userId": "07110507271504138336"
     },
     "user_tz": -120
    },
    "id": "vDOIBIuJmH2k",
    "outputId": "1fa91df2-9cfb-4422-924c-6b0bedb15c00"
   },
   "outputs": [
    {
     "data": {
      "text/plain": [
       "1885"
      ]
     },
     "execution_count": 8,
     "metadata": {},
     "output_type": "execute_result"
    }
   ],
   "source": [
    "len(gitCommits.author.unique())"
   ]
  },
  {
   "cell_type": "code",
   "execution_count": 9,
   "metadata": {
    "colab": {
     "base_uri": "https://localhost:8080/",
     "height": 34
    },
    "executionInfo": {
     "elapsed": 462,
     "status": "ok",
     "timestamp": 1602779880187,
     "user": {
      "displayName": "Laia Albors Zumel",
      "photoUrl": "",
      "userId": "07110507271504138336"
     },
     "user_tz": -120
    },
    "id": "YSVmB8yLoiZE",
    "outputId": "34a03f76-4ae1-4458-cc8b-af6f78b82916"
   },
   "outputs": [
    {
     "data": {
      "text/plain": [
       "34"
      ]
     },
     "execution_count": 9,
     "metadata": {},
     "output_type": "execute_result"
    }
   ],
   "source": [
    "authorNan = list(np.where(gitCommits.author.isna()))[0]\n",
    "len(authorNan)"
   ]
  },
  {
   "cell_type": "markdown",
   "metadata": {
    "id": "Q-cLW2gfnNAT"
   },
   "source": [
    "#### commiter"
   ]
  },
  {
   "cell_type": "code",
   "execution_count": 10,
   "metadata": {
    "colab": {
     "base_uri": "https://localhost:8080/",
     "height": 34
    },
    "executionInfo": {
     "elapsed": 481,
     "status": "ok",
     "timestamp": 1602779880965,
     "user": {
      "displayName": "Laia Albors Zumel",
      "photoUrl": "",
      "userId": "07110507271504138336"
     },
     "user_tz": -120
    },
    "id": "XMsI1K2cnQKE",
    "outputId": "b070355f-489d-4d2f-a155-ad6c2f8e0595"
   },
   "outputs": [
    {
     "data": {
      "text/plain": [
       "34"
      ]
     },
     "execution_count": 10,
     "metadata": {},
     "output_type": "execute_result"
    }
   ],
   "source": [
    "committerNan = list(np.where(gitCommits.committer.isna()))[0]\n",
    "len(committerNan)"
   ]
  },
  {
   "cell_type": "code",
   "execution_count": 11,
   "metadata": {
    "colab": {
     "base_uri": "https://localhost:8080/",
     "height": 34
    },
    "executionInfo": {
     "elapsed": 482,
     "status": "ok",
     "timestamp": 1602779881211,
     "user": {
      "displayName": "Laia Albors Zumel",
      "photoUrl": "",
      "userId": "07110507271504138336"
     },
     "user_tz": -120
    },
    "id": "g5hT7E6krMA0",
    "outputId": "fdeb1711-8d25-4ff5-8702-3e5d4c955940"
   },
   "outputs": [
    {
     "data": {
      "text/plain": [
       "34"
      ]
     },
     "execution_count": 11,
     "metadata": {},
     "output_type": "execute_result"
    }
   ],
   "source": [
    "inters = intersection(authorNan, committerNan)\n",
    "len(inters)"
   ]
  },
  {
   "cell_type": "markdown",
   "metadata": {
    "id": "xyjsViq_sIVa"
   },
   "source": [
    "#### committerDate"
   ]
  },
  {
   "cell_type": "code",
   "execution_count": 12,
   "metadata": {
    "colab": {
     "base_uri": "https://localhost:8080/",
     "height": 34
    },
    "executionInfo": {
     "elapsed": 602,
     "status": "ok",
     "timestamp": 1602779882075,
     "user": {
      "displayName": "Laia Albors Zumel",
      "photoUrl": "",
      "userId": "07110507271504138336"
     },
     "user_tz": -120
    },
    "id": "eL0MKykdsK1K",
    "outputId": "43fcad6c-2073-4281-fd81-f110ae2e9624"
   },
   "outputs": [
    {
     "data": {
      "text/plain": [
       "0"
      ]
     },
     "execution_count": 12,
     "metadata": {},
     "output_type": "execute_result"
    }
   ],
   "source": [
    "committerDateNan = list(np.where(gitCommits.committerDate.isna()))[0]\n",
    "len(committerDateNan)"
   ]
  },
  {
   "cell_type": "markdown",
   "metadata": {
    "id": "v_Jlu1ZyszIx"
   },
   "source": [
    "---\n",
    "\n",
    "We remove these rows because they have 2 attributes with a missing value and we can not obtain this information. Finally, we have 140.653 rows."
   ]
  },
  {
   "cell_type": "code",
   "execution_count": 13,
   "metadata": {
    "colab": {
     "base_uri": "https://localhost:8080/",
     "height": 34
    },
    "executionInfo": {
     "elapsed": 435,
     "status": "ok",
     "timestamp": 1602779882717,
     "user": {
      "displayName": "Laia Albors Zumel",
      "photoUrl": "",
      "userId": "07110507271504138336"
     },
     "user_tz": -120
    },
    "id": "syV_3vqms-wM",
    "outputId": "3b678dd3-1687-4a17-9fec-32598bd91c69"
   },
   "outputs": [
    {
     "data": {
      "text/plain": [
       "(140653, 6)"
      ]
     },
     "execution_count": 13,
     "metadata": {},
     "output_type": "execute_result"
    }
   ],
   "source": [
    "gitCommits = gitCommits.drop(inters)\n",
    "gitCommits.shape"
   ]
  },
  {
   "cell_type": "markdown",
   "metadata": {
    "id": "n2WBcUrofuII"
   },
   "source": [
    "We save it into a new csv."
   ]
  },
  {
   "cell_type": "code",
   "execution_count": 14,
   "metadata": {
    "id": "P9HmkWZ_wmgQ"
   },
   "outputs": [],
   "source": [
    "gitCommits.to_csv('../../../data/interim/DataPreparation/CleanData/GIT_COMMITS_clean.csv', header=True)"
   ]
  }
 ],
 "metadata": {
  "colab": {
   "collapsed_sections": [],
   "name": "GIT_COMMITS.ipynb",
   "provenance": []
  },
  "kernelspec": {
   "display_name": "Python 3",
   "language": "python",
   "name": "python3"
  },
  "language_info": {
   "codemirror_mode": {
    "name": "ipython",
    "version": 3
   },
   "file_extension": ".py",
   "mimetype": "text/x-python",
   "name": "python",
   "nbconvert_exporter": "python",
   "pygments_lexer": "ipython3",
   "version": "3.8.3"
  }
 },
 "nbformat": 4,
 "nbformat_minor": 1
}
