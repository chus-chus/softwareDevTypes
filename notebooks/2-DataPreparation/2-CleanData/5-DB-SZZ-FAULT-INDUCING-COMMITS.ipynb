{
 "cells": [
  {
   "cell_type": "markdown",
   "metadata": {
    "id": "o64nAex-ice2"
   },
   "source": [
    "# **SZZ_FAULT_INDUCING_COMMITS**\n",
    "\n",
    "This notebook the cleaning of the attributes of the table `SZZ_FAULT_INDUCING_COMMITS`.\n",
    "\n",
    "First, we import the libraries we need and, then, we read the corresponding csv."
   ]
  },
  {
   "cell_type": "code",
   "execution_count": 1,
   "metadata": {
    "id": "_1jC72O8lmqk"
   },
   "outputs": [],
   "source": [
    "import pandas as pd\n",
    "import numpy as np"
   ]
  },
  {
   "cell_type": "code",
   "execution_count": 2,
   "metadata": {
    "colab": {
     "base_uri": "https://localhost:8080/",
     "height": 216
    },
    "executionInfo": {
     "elapsed": 908,
     "status": "ok",
     "timestamp": 1602750007204,
     "user": {
      "displayName": "Sonia Rabanaque Rodriguez",
      "photoUrl": "",
      "userId": "11465044831239167480"
     },
     "user_tz": -120
    },
    "id": "MVgdjl7Ll_UL",
    "outputId": "22ff2bc6-a122-4420-887c-66f014b82aa8"
   },
   "outputs": [
    {
     "name": "stdout",
     "output_type": "stream",
     "text": [
      "(27340, 4)\n"
     ]
    },
    {
     "data": {
      "text/html": [
       "<div>\n",
       "<style scoped>\n",
       "    .dataframe tbody tr th:only-of-type {\n",
       "        vertical-align: middle;\n",
       "    }\n",
       "\n",
       "    .dataframe tbody tr th {\n",
       "        vertical-align: top;\n",
       "    }\n",
       "\n",
       "    .dataframe thead th {\n",
       "        text-align: right;\n",
       "    }\n",
       "</style>\n",
       "<table border=\"1\" class=\"dataframe\">\n",
       "  <thead>\n",
       "    <tr style=\"text-align: right;\">\n",
       "      <th></th>\n",
       "      <th>projectID</th>\n",
       "      <th>faultFixingCommitHash</th>\n",
       "      <th>faultInducingCommitHash</th>\n",
       "      <th>key</th>\n",
       "    </tr>\n",
       "  </thead>\n",
       "  <tbody>\n",
       "    <tr>\n",
       "      <th>0</th>\n",
       "      <td>commons-daemon</td>\n",
       "      <td>871c58c9cbfff95a4e3149e9df527401d17381fd</td>\n",
       "      <td>49cbb142a2b5d7d89aab077dc63f7646828c9408</td>\n",
       "      <td>DAEMON-370</td>\n",
       "    </tr>\n",
       "    <tr>\n",
       "      <th>1</th>\n",
       "      <td>commons-daemon</td>\n",
       "      <td>871c58c9cbfff95a4e3149e9df527401d17381fd</td>\n",
       "      <td>43d485a0e99c613daffba7d5b410e8e4a302e4f7</td>\n",
       "      <td>DAEMON-370</td>\n",
       "    </tr>\n",
       "    <tr>\n",
       "      <th>2</th>\n",
       "      <td>commons-daemon</td>\n",
       "      <td>871c58c9cbfff95a4e3149e9df527401d17381fd</td>\n",
       "      <td>4f232e47002359f1a8156b5f03b227c7bae9874a</td>\n",
       "      <td>DAEMON-370</td>\n",
       "    </tr>\n",
       "    <tr>\n",
       "      <th>3</th>\n",
       "      <td>commons-daemon</td>\n",
       "      <td>871c58c9cbfff95a4e3149e9df527401d17381fd</td>\n",
       "      <td>4f232e47002359f1a8156b5f03b227c7bae9874a</td>\n",
       "      <td>DAEMON-370</td>\n",
       "    </tr>\n",
       "    <tr>\n",
       "      <th>4</th>\n",
       "      <td>beam</td>\n",
       "      <td>e2583f5e73de50f8af128ecaa331a2e1046d2b08</td>\n",
       "      <td>c880c8ebad0e83a068301d0bbf8c76be36a59962</td>\n",
       "      <td>BEAM-5145</td>\n",
       "    </tr>\n",
       "  </tbody>\n",
       "</table>\n",
       "</div>"
      ],
      "text/plain": [
       "        projectID                     faultFixingCommitHash  \\\n",
       "0  commons-daemon  871c58c9cbfff95a4e3149e9df527401d17381fd   \n",
       "1  commons-daemon  871c58c9cbfff95a4e3149e9df527401d17381fd   \n",
       "2  commons-daemon  871c58c9cbfff95a4e3149e9df527401d17381fd   \n",
       "3  commons-daemon  871c58c9cbfff95a4e3149e9df527401d17381fd   \n",
       "4            beam  e2583f5e73de50f8af128ecaa331a2e1046d2b08   \n",
       "\n",
       "                    faultInducingCommitHash         key  \n",
       "0  49cbb142a2b5d7d89aab077dc63f7646828c9408  DAEMON-370  \n",
       "1  43d485a0e99c613daffba7d5b410e8e4a302e4f7  DAEMON-370  \n",
       "2  4f232e47002359f1a8156b5f03b227c7bae9874a  DAEMON-370  \n",
       "3  4f232e47002359f1a8156b5f03b227c7bae9874a  DAEMON-370  \n",
       "4  c880c8ebad0e83a068301d0bbf8c76be36a59962   BEAM-5145  "
      ]
     },
     "execution_count": 2,
     "metadata": {},
     "output_type": "execute_result"
    }
   ],
   "source": [
    "szzFaultInducingCommits = pd.read_csv(\"../../../data/interim/DataPreparation/SelectData/SZZ_FAULT_INDUCING_COMMITS_select.csv\").iloc[:,1:]\n",
    "print(szzFaultInducingCommits.shape)\n",
    "szzFaultInducingCommits.head()"
   ]
  },
  {
   "cell_type": "markdown",
   "metadata": {
    "id": "2E3ODZ24ihqP"
   },
   "source": [
    "We define a function that returns, given two lists, their intersection."
   ]
  },
  {
   "cell_type": "code",
   "execution_count": 3,
   "metadata": {
    "id": "LFXVd-5jqk4n"
   },
   "outputs": [],
   "source": [
    "def intersection(l1, l2):\n",
    "  temp = set(l2)\n",
    "  l3 = [value for value in l1 if value in temp]\n",
    "  return l3"
   ]
  },
  {
   "cell_type": "markdown",
   "metadata": {
    "id": "wzJGthylij1l"
   },
   "source": [
    "Next, for each attribute, we treat the missing values."
   ]
  },
  {
   "cell_type": "markdown",
   "metadata": {
    "id": "FY8OHtOwsX6o"
   },
   "source": [
    "#### projectID"
   ]
  },
  {
   "cell_type": "code",
   "execution_count": 4,
   "metadata": {
    "colab": {
     "base_uri": "https://localhost:8080/",
     "height": 35
    },
    "executionInfo": {
     "elapsed": 592,
     "status": "ok",
     "timestamp": 1602750011543,
     "user": {
      "displayName": "Sonia Rabanaque Rodriguez",
      "photoUrl": "",
      "userId": "11465044831239167480"
     },
     "user_tz": -120
    },
    "id": "Jgzb5qJHsZvf",
    "outputId": "553ab378-b5c6-47e3-fcea-22c59c2b904f"
   },
   "outputs": [
    {
     "data": {
      "text/plain": [
       "33"
      ]
     },
     "execution_count": 4,
     "metadata": {},
     "output_type": "execute_result"
    }
   ],
   "source": [
    "len(szzFaultInducingCommits.projectID.unique())"
   ]
  },
  {
   "cell_type": "code",
   "execution_count": 5,
   "metadata": {
    "colab": {
     "base_uri": "https://localhost:8080/",
     "height": 35
    },
    "executionInfo": {
     "elapsed": 519,
     "status": "ok",
     "timestamp": 1602750013278,
     "user": {
      "displayName": "Sonia Rabanaque Rodriguez",
      "photoUrl": "",
      "userId": "11465044831239167480"
     },
     "user_tz": -120
    },
    "id": "VxBQnqi5se3i",
    "outputId": "d73162d0-baed-430c-8746-e9d923018a22"
   },
   "outputs": [
    {
     "data": {
      "text/plain": [
       "0"
      ]
     },
     "execution_count": 5,
     "metadata": {},
     "output_type": "execute_result"
    }
   ],
   "source": [
    "projectIDNan = list(np.where(szzFaultInducingCommits.projectID.isna()))[0]\n",
    "len(projectIDNan)"
   ]
  },
  {
   "cell_type": "markdown",
   "metadata": {
    "id": "DvvNicqnsm4v"
   },
   "source": [
    "#### faultFixingCommitHash"
   ]
  },
  {
   "cell_type": "code",
   "execution_count": 6,
   "metadata": {
    "colab": {
     "base_uri": "https://localhost:8080/",
     "height": 35
    },
    "executionInfo": {
     "elapsed": 546,
     "status": "ok",
     "timestamp": 1602750016258,
     "user": {
      "displayName": "Sonia Rabanaque Rodriguez",
      "photoUrl": "",
      "userId": "11465044831239167480"
     },
     "user_tz": -120
    },
    "id": "GcbxHdE1sm4x",
    "outputId": "19d11086-e4a0-4909-8ab0-6c09514c9450"
   },
   "outputs": [
    {
     "data": {
      "text/plain": [
       "8538"
      ]
     },
     "execution_count": 6,
     "metadata": {},
     "output_type": "execute_result"
    }
   ],
   "source": [
    "len(szzFaultInducingCommits.faultFixingCommitHash.unique())"
   ]
  },
  {
   "cell_type": "code",
   "execution_count": 7,
   "metadata": {
    "colab": {
     "base_uri": "https://localhost:8080/",
     "height": 35
    },
    "executionInfo": {
     "elapsed": 528,
     "status": "ok",
     "timestamp": 1602750018176,
     "user": {
      "displayName": "Sonia Rabanaque Rodriguez",
      "photoUrl": "",
      "userId": "11465044831239167480"
     },
     "user_tz": -120
    },
    "id": "63UuZPQ2sm44",
    "outputId": "16d470ed-6390-4e47-8d0c-98bef06f03fc"
   },
   "outputs": [
    {
     "data": {
      "text/plain": [
       "0"
      ]
     },
     "execution_count": 7,
     "metadata": {},
     "output_type": "execute_result"
    }
   ],
   "source": [
    "faultFixingCommitHashNan = list(np.where(szzFaultInducingCommits.faultFixingCommitHash.isna()))[0]\n",
    "len(faultFixingCommitHashNan)"
   ]
  },
  {
   "cell_type": "markdown",
   "metadata": {
    "id": "GPqBJrwOmJ1m"
   },
   "source": [
    "#### faultInducingCommitHash"
   ]
  },
  {
   "cell_type": "code",
   "execution_count": 8,
   "metadata": {
    "colab": {
     "base_uri": "https://localhost:8080/",
     "height": 35
    },
    "executionInfo": {
     "elapsed": 510,
     "status": "ok",
     "timestamp": 1602750020533,
     "user": {
      "displayName": "Sonia Rabanaque Rodriguez",
      "photoUrl": "",
      "userId": "11465044831239167480"
     },
     "user_tz": -120
    },
    "id": "vDOIBIuJmH2k",
    "outputId": "9a11cfc4-0785-4b5f-8242-f10db3a25372"
   },
   "outputs": [
    {
     "data": {
      "text/plain": [
       "669"
      ]
     },
     "execution_count": 8,
     "metadata": {},
     "output_type": "execute_result"
    }
   ],
   "source": [
    "len(szzFaultInducingCommits.faultInducingCommitHash.unique())"
   ]
  },
  {
   "cell_type": "code",
   "execution_count": 9,
   "metadata": {
    "colab": {
     "base_uri": "https://localhost:8080/",
     "height": 35
    },
    "executionInfo": {
     "elapsed": 497,
     "status": "ok",
     "timestamp": 1602750022368,
     "user": {
      "displayName": "Sonia Rabanaque Rodriguez",
      "photoUrl": "",
      "userId": "11465044831239167480"
     },
     "user_tz": -120
    },
    "id": "YSVmB8yLoiZE",
    "outputId": "de7c14f1-c683-41df-f9df-e2db0bcebaa2"
   },
   "outputs": [
    {
     "data": {
      "text/plain": [
       "0"
      ]
     },
     "execution_count": 9,
     "metadata": {},
     "output_type": "execute_result"
    }
   ],
   "source": [
    "faultInducingCommitHashNan = list(np.where(szzFaultInducingCommits.faultInducingCommitHash.isna()))[0]\n",
    "len(faultInducingCommitHashNan)"
   ]
  },
  {
   "cell_type": "markdown",
   "metadata": {
    "id": "mlWtDpY6WOfV"
   },
   "source": [
    "#### key"
   ]
  },
  {
   "cell_type": "code",
   "execution_count": 10,
   "metadata": {
    "colab": {
     "base_uri": "https://localhost:8080/",
     "height": 35
    },
    "executionInfo": {
     "elapsed": 771,
     "status": "ok",
     "timestamp": 1602750062937,
     "user": {
      "displayName": "Sonia Rabanaque Rodriguez",
      "photoUrl": "",
      "userId": "11465044831239167480"
     },
     "user_tz": -120
    },
    "id": "hStV4GAxWOfY",
    "outputId": "91516228-136b-41b1-b8d7-2d671b33366a"
   },
   "outputs": [
    {
     "data": {
      "text/plain": [
       "6928"
      ]
     },
     "execution_count": 10,
     "metadata": {},
     "output_type": "execute_result"
    }
   ],
   "source": [
    "len(szzFaultInducingCommits.key.unique())"
   ]
  },
  {
   "cell_type": "code",
   "execution_count": 11,
   "metadata": {
    "colab": {
     "base_uri": "https://localhost:8080/",
     "height": 35
    },
    "executionInfo": {
     "elapsed": 773,
     "status": "ok",
     "timestamp": 1602750091284,
     "user": {
      "displayName": "Sonia Rabanaque Rodriguez",
      "photoUrl": "",
      "userId": "11465044831239167480"
     },
     "user_tz": -120
    },
    "id": "a8Gs7Ih9WOfh",
    "outputId": "921a7092-33a8-4183-8a6c-3130de72ed3d"
   },
   "outputs": [
    {
     "data": {
      "text/plain": [
       "0"
      ]
     },
     "execution_count": 11,
     "metadata": {},
     "output_type": "execute_result"
    }
   ],
   "source": [
    "keyNan = list(np.where(szzFaultInducingCommits.key.isna()))[0]\n",
    "len(keyNan)"
   ]
  },
  {
   "cell_type": "markdown",
   "metadata": {
    "id": "5IfQME-IvlAs"
   },
   "source": [
    "---\n",
    "\n",
    "So, in this case the table is OK. We save it into a new csv."
   ]
  },
  {
   "cell_type": "code",
   "execution_count": 12,
   "metadata": {
    "id": "ejgldW98wQxS"
   },
   "outputs": [],
   "source": [
    "szzFaultInducingCommits.to_csv('../../../data/interim/DataPreparation/CleanData/SZZ_FAULT_INDUCING_COMMITS_clean.csv', header=True)"
   ]
  }
 ],
 "metadata": {
  "colab": {
   "collapsed_sections": [],
   "name": "SZZ_FAULT_INDUCING_COMMITS.ipynb",
   "provenance": []
  },
  "kernelspec": {
   "display_name": "Python 3",
   "language": "python",
   "name": "python3"
  },
  "language_info": {
   "codemirror_mode": {
    "name": "ipython",
    "version": 3
   },
   "file_extension": ".py",
   "mimetype": "text/x-python",
   "name": "python",
   "nbconvert_exporter": "python",
   "pygments_lexer": "ipython3",
   "version": "3.8.3"
  }
 },
 "nbformat": 4,
 "nbformat_minor": 1
}
