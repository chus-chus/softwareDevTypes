{
 "cells": [
  {
   "cell_type": "markdown",
   "metadata": {
    "id": "GR_f5WIlfI4F"
   },
   "source": [
    "# **JIRA_ISSUES**\n",
    "\n",
    "This notebook the cleaning of the attributes of the table `JIRA_ISSUES`.\n",
    "\n",
    "First, we import the libraries we need and, then, we read the corresponding csv."
   ]
  },
  {
   "cell_type": "code",
   "execution_count": 12,
   "metadata": {
    "id": "_1jC72O8lmqk"
   },
   "outputs": [],
   "source": [
    "import pandas as pd\n",
    "import numpy as np"
   ]
  },
  {
   "cell_type": "code",
   "execution_count": 13,
   "metadata": {
    "colab": {
     "base_uri": "https://localhost:8080/",
     "height": 221
    },
    "executionInfo": {
     "elapsed": 1022,
     "status": "ok",
     "timestamp": 1602780176236,
     "user": {
      "displayName": "Laia Albors Zumel",
      "photoUrl": "",
      "userId": "07110507271504138336"
     },
     "user_tz": -120
    },
    "id": "MVgdjl7Ll_UL",
    "outputId": "a2eb4fd9-119c-43fb-9415-2b2db761273b"
   },
   "outputs": [
    {
     "name": "stdout",
     "output_type": "stream",
     "text": [
      "(67427, 8)\n"
     ]
    },
    {
     "data": {
      "text/html": [
       "<div>\n",
       "<style scoped>\n",
       "    .dataframe tbody tr th:only-of-type {\n",
       "        vertical-align: middle;\n",
       "    }\n",
       "\n",
       "    .dataframe tbody tr th {\n",
       "        vertical-align: top;\n",
       "    }\n",
       "\n",
       "    .dataframe thead th {\n",
       "        text-align: right;\n",
       "    }\n",
       "</style>\n",
       "<table border=\"1\" class=\"dataframe\">\n",
       "  <thead>\n",
       "    <tr style=\"text-align: right;\">\n",
       "      <th></th>\n",
       "      <th>projectID</th>\n",
       "      <th>key</th>\n",
       "      <th>creationDate</th>\n",
       "      <th>resolutionDate</th>\n",
       "      <th>type</th>\n",
       "      <th>priority</th>\n",
       "      <th>assignee</th>\n",
       "      <th>reporter</th>\n",
       "    </tr>\n",
       "  </thead>\n",
       "  <tbody>\n",
       "    <tr>\n",
       "      <th>0</th>\n",
       "      <td>commons-exec</td>\n",
       "      <td>EXEC-108</td>\n",
       "      <td>2018-09-18T11:15:58.000+0000</td>\n",
       "      <td>NaN</td>\n",
       "      <td>Bug</td>\n",
       "      <td>Major</td>\n",
       "      <td>NaN</td>\n",
       "      <td>natanieljr</td>\n",
       "    </tr>\n",
       "    <tr>\n",
       "      <th>1</th>\n",
       "      <td>commons-exec</td>\n",
       "      <td>EXEC-107</td>\n",
       "      <td>2018-07-04T12:09:47.000+0000</td>\n",
       "      <td>NaN</td>\n",
       "      <td>New Feature</td>\n",
       "      <td>Major</td>\n",
       "      <td>NaN</td>\n",
       "      <td>stefanreich</td>\n",
       "    </tr>\n",
       "    <tr>\n",
       "      <th>2</th>\n",
       "      <td>commons-exec</td>\n",
       "      <td>EXEC-106</td>\n",
       "      <td>2018-03-06T11:32:51.000+0000</td>\n",
       "      <td>NaN</td>\n",
       "      <td>Improvement</td>\n",
       "      <td>Major</td>\n",
       "      <td>NaN</td>\n",
       "      <td>sebb</td>\n",
       "    </tr>\n",
       "    <tr>\n",
       "      <th>3</th>\n",
       "      <td>commons-exec</td>\n",
       "      <td>EXEC-105</td>\n",
       "      <td>2018-02-16T13:47:10.000+0000</td>\n",
       "      <td>NaN</td>\n",
       "      <td>Wish</td>\n",
       "      <td>Trivial</td>\n",
       "      <td>NaN</td>\n",
       "      <td>IP</td>\n",
       "    </tr>\n",
       "    <tr>\n",
       "      <th>4</th>\n",
       "      <td>commons-exec</td>\n",
       "      <td>EXEC-104</td>\n",
       "      <td>2017-08-04T11:57:39.000+0000</td>\n",
       "      <td>NaN</td>\n",
       "      <td>Bug</td>\n",
       "      <td>Major</td>\n",
       "      <td>NaN</td>\n",
       "      <td>krichter</td>\n",
       "    </tr>\n",
       "  </tbody>\n",
       "</table>\n",
       "</div>"
      ],
      "text/plain": [
       "      projectID       key                  creationDate resolutionDate  \\\n",
       "0  commons-exec  EXEC-108  2018-09-18T11:15:58.000+0000            NaN   \n",
       "1  commons-exec  EXEC-107  2018-07-04T12:09:47.000+0000            NaN   \n",
       "2  commons-exec  EXEC-106  2018-03-06T11:32:51.000+0000            NaN   \n",
       "3  commons-exec  EXEC-105  2018-02-16T13:47:10.000+0000            NaN   \n",
       "4  commons-exec  EXEC-104  2017-08-04T11:57:39.000+0000            NaN   \n",
       "\n",
       "          type priority assignee     reporter  \n",
       "0          Bug    Major      NaN   natanieljr  \n",
       "1  New Feature    Major      NaN  stefanreich  \n",
       "2  Improvement    Major      NaN         sebb  \n",
       "3         Wish  Trivial      NaN           IP  \n",
       "4          Bug    Major      NaN     krichter  "
      ]
     },
     "execution_count": 13,
     "metadata": {},
     "output_type": "execute_result"
    }
   ],
   "source": [
    "jiraIssues = pd.read_csv(\"../../../data/interim/DataPreparation/SelectData/JIRA_ISSUES_select.csv\").iloc[:,1:]\n",
    "print(jiraIssues.shape)\n",
    "jiraIssues.head()"
   ]
  },
  {
   "cell_type": "markdown",
   "metadata": {
    "id": "sYBsoWJrfOAB"
   },
   "source": [
    "We define a function that returns, given two lists, their intersection."
   ]
  },
  {
   "cell_type": "code",
   "execution_count": 14,
   "metadata": {
    "id": "LFXVd-5jqk4n"
   },
   "outputs": [],
   "source": [
    "def intersection(l1, l2):\n",
    "  temp = set(l2)\n",
    "  l3 = [value for value in l1 if value in temp]\n",
    "  return l3"
   ]
  },
  {
   "cell_type": "markdown",
   "metadata": {
    "id": "XHh7j2NnfOrn"
   },
   "source": [
    "Next, for each attribute, we treat the missing values."
   ]
  },
  {
   "cell_type": "markdown",
   "metadata": {
    "id": "FY8OHtOwsX6o"
   },
   "source": [
    "#### projectID"
   ]
  },
  {
   "cell_type": "code",
   "execution_count": 15,
   "metadata": {
    "colab": {
     "base_uri": "https://localhost:8080/",
     "height": 34
    },
    "executionInfo": {
     "elapsed": 435,
     "status": "ok",
     "timestamp": 1602780176236,
     "user": {
      "displayName": "Laia Albors Zumel",
      "photoUrl": "",
      "userId": "07110507271504138336"
     },
     "user_tz": -120
    },
    "id": "Jgzb5qJHsZvf",
    "outputId": "5af9af18-ef48-4e8f-88b4-8e164c3ebf94"
   },
   "outputs": [
    {
     "data": {
      "text/plain": [
       "33"
      ]
     },
     "execution_count": 15,
     "metadata": {},
     "output_type": "execute_result"
    }
   ],
   "source": [
    "len(jiraIssues.projectID.unique())"
   ]
  },
  {
   "cell_type": "code",
   "execution_count": 16,
   "metadata": {
    "colab": {
     "base_uri": "https://localhost:8080/",
     "height": 34
    },
    "executionInfo": {
     "elapsed": 488,
     "status": "ok",
     "timestamp": 1602780176568,
     "user": {
      "displayName": "Laia Albors Zumel",
      "photoUrl": "",
      "userId": "07110507271504138336"
     },
     "user_tz": -120
    },
    "id": "VxBQnqi5se3i",
    "outputId": "f0197d97-8c89-4c8d-b294-0758f207145f"
   },
   "outputs": [
    {
     "data": {
      "text/plain": [
       "0"
      ]
     },
     "execution_count": 16,
     "metadata": {},
     "output_type": "execute_result"
    }
   ],
   "source": [
    "projectID_nan = list(np.where(jiraIssues.projectID.isna()))[0]\n",
    "len(projectID_nan)"
   ]
  },
  {
   "cell_type": "markdown",
   "metadata": {
    "id": "hQObyZCWWsyM"
   },
   "source": [
    "#### key"
   ]
  },
  {
   "cell_type": "code",
   "execution_count": 17,
   "metadata": {
    "colab": {
     "base_uri": "https://localhost:8080/",
     "height": 34
    },
    "executionInfo": {
     "elapsed": 427,
     "status": "ok",
     "timestamp": 1602780177253,
     "user": {
      "displayName": "Laia Albors Zumel",
      "photoUrl": "",
      "userId": "07110507271504138336"
     },
     "user_tz": -120
    },
    "id": "VCAKLQobWsyR",
    "outputId": "a015dd37-d5df-400b-a6d3-b64048db500d"
   },
   "outputs": [
    {
     "data": {
      "text/plain": [
       "67427"
      ]
     },
     "execution_count": 17,
     "metadata": {},
     "output_type": "execute_result"
    }
   ],
   "source": [
    "len(jiraIssues.key.unique())"
   ]
  },
  {
   "cell_type": "code",
   "execution_count": 18,
   "metadata": {
    "colab": {
     "base_uri": "https://localhost:8080/",
     "height": 34
    },
    "executionInfo": {
     "elapsed": 461,
     "status": "ok",
     "timestamp": 1602780177597,
     "user": {
      "displayName": "Laia Albors Zumel",
      "photoUrl": "",
      "userId": "07110507271504138336"
     },
     "user_tz": -120
    },
    "id": "E0GNxhrqWsyZ",
    "outputId": "2a560b29-0fae-47ca-a8b4-913489197952"
   },
   "outputs": [
    {
     "data": {
      "text/plain": [
       "0"
      ]
     },
     "execution_count": 18,
     "metadata": {},
     "output_type": "execute_result"
    }
   ],
   "source": [
    "key_nan = list(np.where(jiraIssues.key.isna()))[0]\n",
    "len(key_nan)"
   ]
  },
  {
   "cell_type": "markdown",
   "metadata": {
    "id": "xyjsViq_sIVa"
   },
   "source": [
    "#### creationDate"
   ]
  },
  {
   "cell_type": "code",
   "execution_count": 19,
   "metadata": {
    "colab": {
     "base_uri": "https://localhost:8080/",
     "height": 34
    },
    "executionInfo": {
     "elapsed": 540,
     "status": "ok",
     "timestamp": 1602780178352,
     "user": {
      "displayName": "Laia Albors Zumel",
      "photoUrl": "",
      "userId": "07110507271504138336"
     },
     "user_tz": -120
    },
    "id": "eL0MKykdsK1K",
    "outputId": "57ff2da2-f17d-49b7-f380-6b5e2e812b3f"
   },
   "outputs": [
    {
     "data": {
      "text/plain": [
       "0"
      ]
     },
     "execution_count": 19,
     "metadata": {},
     "output_type": "execute_result"
    }
   ],
   "source": [
    "creationDate_nan = list(np.where(jiraIssues.creationDate.isna()))[0]\n",
    "len(creationDate_nan)"
   ]
  },
  {
   "cell_type": "markdown",
   "metadata": {
    "id": "4vfdHARDRBBq"
   },
   "source": [
    "#### resolutionDate"
   ]
  },
  {
   "cell_type": "code",
   "execution_count": 20,
   "metadata": {
    "colab": {
     "base_uri": "https://localhost:8080/",
     "height": 34
    },
    "executionInfo": {
     "elapsed": 691,
     "status": "ok",
     "timestamp": 1602780179021,
     "user": {
      "displayName": "Laia Albors Zumel",
      "photoUrl": "",
      "userId": "07110507271504138336"
     },
     "user_tz": -120
    },
    "id": "V-_rPi15RN1d",
    "outputId": "8b7c1996-4eef-41de-eaff-c4aef1e60acb"
   },
   "outputs": [
    {
     "data": {
      "text/plain": [
       "10705"
      ]
     },
     "execution_count": 20,
     "metadata": {},
     "output_type": "execute_result"
    }
   ],
   "source": [
    "resolutionDate_nan = list(np.where(jiraIssues.resolutionDate.isna()))[0]\n",
    "len(resolutionDate_nan)"
   ]
  },
  {
   "cell_type": "markdown",
   "metadata": {
    "id": "v_Jlu1ZyszIx"
   },
   "source": [
    "---\n",
    "\n",
    "These missing values indicate that the issue has not been resolved yet, so we can relabel the `NaNs` as the timestamp of the last commit of this project. So we have to relate this table with `GIT_COMMITS` to know the timestamp of the last commit of the project."
   ]
  },
  {
   "cell_type": "code",
   "execution_count": 21,
   "metadata": {
    "colab": {
     "base_uri": "https://localhost:8080/",
     "height": 419
    },
    "executionInfo": {
     "elapsed": 710,
     "status": "ok",
     "timestamp": 1602780179756,
     "user": {
      "displayName": "Laia Albors Zumel",
      "photoUrl": "",
      "userId": "07110507271504138336"
     },
     "user_tz": -120
    },
    "id": "pWs3-HNVXHiJ",
    "outputId": "f5343513-b28c-4216-8a95-cbc9de905457"
   },
   "outputs": [
    {
     "data": {
      "text/html": [
       "<div>\n",
       "<style scoped>\n",
       "    .dataframe tbody tr th:only-of-type {\n",
       "        vertical-align: middle;\n",
       "    }\n",
       "\n",
       "    .dataframe tbody tr th {\n",
       "        vertical-align: top;\n",
       "    }\n",
       "\n",
       "    .dataframe thead th {\n",
       "        text-align: right;\n",
       "    }\n",
       "</style>\n",
       "<table border=\"1\" class=\"dataframe\">\n",
       "  <thead>\n",
       "    <tr style=\"text-align: right;\">\n",
       "      <th></th>\n",
       "      <th>projectID</th>\n",
       "      <th>key</th>\n",
       "      <th>creationDate</th>\n",
       "      <th>resolutionDate</th>\n",
       "      <th>type</th>\n",
       "      <th>priority</th>\n",
       "      <th>assignee</th>\n",
       "      <th>reporter</th>\n",
       "    </tr>\n",
       "  </thead>\n",
       "  <tbody>\n",
       "    <tr>\n",
       "      <th>0</th>\n",
       "      <td>commons-exec</td>\n",
       "      <td>EXEC-108</td>\n",
       "      <td>2018-09-18T11:15:58.000+0000</td>\n",
       "      <td>NaN</td>\n",
       "      <td>Bug</td>\n",
       "      <td>Major</td>\n",
       "      <td>NaN</td>\n",
       "      <td>natanieljr</td>\n",
       "    </tr>\n",
       "    <tr>\n",
       "      <th>1</th>\n",
       "      <td>commons-exec</td>\n",
       "      <td>EXEC-107</td>\n",
       "      <td>2018-07-04T12:09:47.000+0000</td>\n",
       "      <td>NaN</td>\n",
       "      <td>New Feature</td>\n",
       "      <td>Major</td>\n",
       "      <td>NaN</td>\n",
       "      <td>stefanreich</td>\n",
       "    </tr>\n",
       "    <tr>\n",
       "      <th>2</th>\n",
       "      <td>commons-exec</td>\n",
       "      <td>EXEC-106</td>\n",
       "      <td>2018-03-06T11:32:51.000+0000</td>\n",
       "      <td>NaN</td>\n",
       "      <td>Improvement</td>\n",
       "      <td>Major</td>\n",
       "      <td>NaN</td>\n",
       "      <td>sebb</td>\n",
       "    </tr>\n",
       "    <tr>\n",
       "      <th>3</th>\n",
       "      <td>commons-exec</td>\n",
       "      <td>EXEC-105</td>\n",
       "      <td>2018-02-16T13:47:10.000+0000</td>\n",
       "      <td>NaN</td>\n",
       "      <td>Wish</td>\n",
       "      <td>Trivial</td>\n",
       "      <td>NaN</td>\n",
       "      <td>IP</td>\n",
       "    </tr>\n",
       "    <tr>\n",
       "      <th>4</th>\n",
       "      <td>commons-exec</td>\n",
       "      <td>EXEC-104</td>\n",
       "      <td>2017-08-04T11:57:39.000+0000</td>\n",
       "      <td>NaN</td>\n",
       "      <td>Bug</td>\n",
       "      <td>Major</td>\n",
       "      <td>NaN</td>\n",
       "      <td>krichter</td>\n",
       "    </tr>\n",
       "    <tr>\n",
       "      <th>...</th>\n",
       "      <td>...</td>\n",
       "      <td>...</td>\n",
       "      <td>...</td>\n",
       "      <td>...</td>\n",
       "      <td>...</td>\n",
       "      <td>...</td>\n",
       "      <td>...</td>\n",
       "      <td>...</td>\n",
       "    </tr>\n",
       "    <tr>\n",
       "      <th>67403</th>\n",
       "      <td>zookeeper</td>\n",
       "      <td>ZOOKEEPER-24</td>\n",
       "      <td>2008-06-10T21:30:20.000+0000</td>\n",
       "      <td>NaN</td>\n",
       "      <td>New Feature</td>\n",
       "      <td>Major</td>\n",
       "      <td>breed</td>\n",
       "      <td>phunt</td>\n",
       "    </tr>\n",
       "    <tr>\n",
       "      <th>67405</th>\n",
       "      <td>zookeeper</td>\n",
       "      <td>ZOOKEEPER-22</td>\n",
       "      <td>2008-06-10T21:27:49.000+0000</td>\n",
       "      <td>NaN</td>\n",
       "      <td>New Feature</td>\n",
       "      <td>Major</td>\n",
       "      <td>mahadev</td>\n",
       "      <td>phunt</td>\n",
       "    </tr>\n",
       "    <tr>\n",
       "      <th>67413</th>\n",
       "      <td>zookeeper</td>\n",
       "      <td>ZOOKEEPER-14</td>\n",
       "      <td>2008-06-10T21:14:24.000+0000</td>\n",
       "      <td>NaN</td>\n",
       "      <td>Bug</td>\n",
       "      <td>Major</td>\n",
       "      <td>breed</td>\n",
       "      <td>phunt</td>\n",
       "    </tr>\n",
       "    <tr>\n",
       "      <th>67415</th>\n",
       "      <td>zookeeper</td>\n",
       "      <td>ZOOKEEPER-12</td>\n",
       "      <td>2008-06-10T21:11:36.000+0000</td>\n",
       "      <td>NaN</td>\n",
       "      <td>Bug</td>\n",
       "      <td>Major</td>\n",
       "      <td>NaN</td>\n",
       "      <td>phunt</td>\n",
       "    </tr>\n",
       "    <tr>\n",
       "      <th>67418</th>\n",
       "      <td>zookeeper</td>\n",
       "      <td>ZOOKEEPER-9</td>\n",
       "      <td>2008-06-10T21:07:39.000+0000</td>\n",
       "      <td>NaN</td>\n",
       "      <td>Bug</td>\n",
       "      <td>Major</td>\n",
       "      <td>NaN</td>\n",
       "      <td>phunt</td>\n",
       "    </tr>\n",
       "  </tbody>\n",
       "</table>\n",
       "<p>10705 rows × 8 columns</p>\n",
       "</div>"
      ],
      "text/plain": [
       "          projectID           key                  creationDate  \\\n",
       "0      commons-exec      EXEC-108  2018-09-18T11:15:58.000+0000   \n",
       "1      commons-exec      EXEC-107  2018-07-04T12:09:47.000+0000   \n",
       "2      commons-exec      EXEC-106  2018-03-06T11:32:51.000+0000   \n",
       "3      commons-exec      EXEC-105  2018-02-16T13:47:10.000+0000   \n",
       "4      commons-exec      EXEC-104  2017-08-04T11:57:39.000+0000   \n",
       "...             ...           ...                           ...   \n",
       "67403     zookeeper  ZOOKEEPER-24  2008-06-10T21:30:20.000+0000   \n",
       "67405     zookeeper  ZOOKEEPER-22  2008-06-10T21:27:49.000+0000   \n",
       "67413     zookeeper  ZOOKEEPER-14  2008-06-10T21:14:24.000+0000   \n",
       "67415     zookeeper  ZOOKEEPER-12  2008-06-10T21:11:36.000+0000   \n",
       "67418     zookeeper   ZOOKEEPER-9  2008-06-10T21:07:39.000+0000   \n",
       "\n",
       "      resolutionDate         type priority assignee     reporter  \n",
       "0                NaN          Bug    Major      NaN   natanieljr  \n",
       "1                NaN  New Feature    Major      NaN  stefanreich  \n",
       "2                NaN  Improvement    Major      NaN         sebb  \n",
       "3                NaN         Wish  Trivial      NaN           IP  \n",
       "4                NaN          Bug    Major      NaN     krichter  \n",
       "...              ...          ...      ...      ...          ...  \n",
       "67403            NaN  New Feature    Major    breed        phunt  \n",
       "67405            NaN  New Feature    Major  mahadev        phunt  \n",
       "67413            NaN          Bug    Major    breed        phunt  \n",
       "67415            NaN          Bug    Major      NaN        phunt  \n",
       "67418            NaN          Bug    Major      NaN        phunt  \n",
       "\n",
       "[10705 rows x 8 columns]"
      ]
     },
     "execution_count": 21,
     "metadata": {},
     "output_type": "execute_result"
    }
   ],
   "source": [
    "jiraIssues_notresolved = jiraIssues.iloc[resolutionDate_nan,:]\n",
    "jiraIssues_notresolved"
   ]
  },
  {
   "cell_type": "code",
   "execution_count": 22,
   "metadata": {
    "colab": {
     "base_uri": "https://localhost:8080/",
     "height": 204
    },
    "executionInfo": {
     "elapsed": 978,
     "status": "ok",
     "timestamp": 1602780180345,
     "user": {
      "displayName": "Laia Albors Zumel",
      "photoUrl": "",
      "userId": "07110507271504138336"
     },
     "user_tz": -120
    },
    "id": "v2aPlY4AYW_P",
    "outputId": "02221494-d2b1-4b58-d86a-3070c399186c"
   },
   "outputs": [
    {
     "data": {
      "text/html": [
       "<div>\n",
       "<style scoped>\n",
       "    .dataframe tbody tr th:only-of-type {\n",
       "        vertical-align: middle;\n",
       "    }\n",
       "\n",
       "    .dataframe tbody tr th {\n",
       "        vertical-align: top;\n",
       "    }\n",
       "\n",
       "    .dataframe thead th {\n",
       "        text-align: right;\n",
       "    }\n",
       "</style>\n",
       "<table border=\"1\" class=\"dataframe\">\n",
       "  <thead>\n",
       "    <tr style=\"text-align: right;\">\n",
       "      <th></th>\n",
       "      <th>projectID</th>\n",
       "      <th>committerDate</th>\n",
       "    </tr>\n",
       "  </thead>\n",
       "  <tbody>\n",
       "    <tr>\n",
       "      <th>0</th>\n",
       "      <td>accumulo</td>\n",
       "      <td>2011-10-04T00:46:07Z</td>\n",
       "    </tr>\n",
       "    <tr>\n",
       "      <th>1</th>\n",
       "      <td>accumulo</td>\n",
       "      <td>2011-10-04T16:57:13Z</td>\n",
       "    </tr>\n",
       "    <tr>\n",
       "      <th>2</th>\n",
       "      <td>accumulo</td>\n",
       "      <td>2011-10-04T18:39:18Z</td>\n",
       "    </tr>\n",
       "    <tr>\n",
       "      <th>3</th>\n",
       "      <td>accumulo</td>\n",
       "      <td>2011-10-04T19:31:01Z</td>\n",
       "    </tr>\n",
       "    <tr>\n",
       "      <th>4</th>\n",
       "      <td>accumulo</td>\n",
       "      <td>2011-10-05T17:19:06Z</td>\n",
       "    </tr>\n",
       "  </tbody>\n",
       "</table>\n",
       "</div>"
      ],
      "text/plain": [
       "  projectID         committerDate\n",
       "0  accumulo  2011-10-04T00:46:07Z\n",
       "1  accumulo  2011-10-04T16:57:13Z\n",
       "2  accumulo  2011-10-04T18:39:18Z\n",
       "3  accumulo  2011-10-04T19:31:01Z\n",
       "4  accumulo  2011-10-05T17:19:06Z"
      ]
     },
     "execution_count": 22,
     "metadata": {},
     "output_type": "execute_result"
    }
   ],
   "source": [
    "gitCommits = pd.read_csv(\"../../../data/interim/DataPreparation/SelectData/GIT_COMMITS_select.csv\").iloc[:,[1,-1]]\n",
    "gitCommits.head()"
   ]
  },
  {
   "cell_type": "code",
   "execution_count": 23,
   "metadata": {
    "colab": {
     "base_uri": "https://localhost:8080/",
     "height": 235
    },
    "executionInfo": {
     "elapsed": 551,
     "status": "ok",
     "timestamp": 1602780180346,
     "user": {
      "displayName": "Laia Albors Zumel",
      "photoUrl": "",
      "userId": "07110507271504138336"
     },
     "user_tz": -120
    },
    "id": "rxBhaD69XnqJ",
    "outputId": "4ceee735-73ef-418f-952b-710f19b08d7d"
   },
   "outputs": [
    {
     "data": {
      "text/html": [
       "<div>\n",
       "<style scoped>\n",
       "    .dataframe tbody tr th:only-of-type {\n",
       "        vertical-align: middle;\n",
       "    }\n",
       "\n",
       "    .dataframe tbody tr th {\n",
       "        vertical-align: top;\n",
       "    }\n",
       "\n",
       "    .dataframe thead th {\n",
       "        text-align: right;\n",
       "    }\n",
       "</style>\n",
       "<table border=\"1\" class=\"dataframe\">\n",
       "  <thead>\n",
       "    <tr style=\"text-align: right;\">\n",
       "      <th></th>\n",
       "      <th>committerDate</th>\n",
       "    </tr>\n",
       "    <tr>\n",
       "      <th>projectID</th>\n",
       "      <th></th>\n",
       "    </tr>\n",
       "  </thead>\n",
       "  <tbody>\n",
       "    <tr>\n",
       "      <th>accumulo</th>\n",
       "      <td>2019-07-18T15:21:42Z</td>\n",
       "    </tr>\n",
       "    <tr>\n",
       "      <th>ambari</th>\n",
       "      <td>2019-07-17T12:12:16Z</td>\n",
       "    </tr>\n",
       "    <tr>\n",
       "      <th>atlas</th>\n",
       "      <td>2019-07-19T11:18:34Z</td>\n",
       "    </tr>\n",
       "    <tr>\n",
       "      <th>aurora</th>\n",
       "      <td>2019-06-24T22:51:26Z</td>\n",
       "    </tr>\n",
       "    <tr>\n",
       "      <th>batik</th>\n",
       "      <td>2019-07-05T10:10:47Z</td>\n",
       "    </tr>\n",
       "  </tbody>\n",
       "</table>\n",
       "</div>"
      ],
      "text/plain": [
       "                  committerDate\n",
       "projectID                      \n",
       "accumulo   2019-07-18T15:21:42Z\n",
       "ambari     2019-07-17T12:12:16Z\n",
       "atlas      2019-07-19T11:18:34Z\n",
       "aurora     2019-06-24T22:51:26Z\n",
       "batik      2019-07-05T10:10:47Z"
      ]
     },
     "execution_count": 23,
     "metadata": {},
     "output_type": "execute_result"
    }
   ],
   "source": [
    "lastTimestamp = gitCommits.groupby(['projectID']).max()\n",
    "lastTimestamp.head()"
   ]
  },
  {
   "cell_type": "code",
   "execution_count": 24,
   "metadata": {
    "colab": {
     "base_uri": "https://localhost:8080/",
     "height": 204
    },
    "executionInfo": {
     "elapsed": 531,
     "status": "ok",
     "timestamp": 1602780180719,
     "user": {
      "displayName": "Laia Albors Zumel",
      "photoUrl": "",
      "userId": "07110507271504138336"
     },
     "user_tz": -120
    },
    "id": "KcOOlRz2Xnei",
    "outputId": "575d3fa0-edc1-428f-964f-28c42dd2e940"
   },
   "outputs": [
    {
     "data": {
      "text/html": [
       "<div>\n",
       "<style scoped>\n",
       "    .dataframe tbody tr th:only-of-type {\n",
       "        vertical-align: middle;\n",
       "    }\n",
       "\n",
       "    .dataframe tbody tr th {\n",
       "        vertical-align: top;\n",
       "    }\n",
       "\n",
       "    .dataframe thead th {\n",
       "        text-align: right;\n",
       "    }\n",
       "</style>\n",
       "<table border=\"1\" class=\"dataframe\">\n",
       "  <thead>\n",
       "    <tr style=\"text-align: right;\">\n",
       "      <th></th>\n",
       "      <th>projectID</th>\n",
       "      <th>key</th>\n",
       "      <th>creationDate</th>\n",
       "      <th>resolutionDate</th>\n",
       "      <th>type</th>\n",
       "      <th>priority</th>\n",
       "      <th>assignee</th>\n",
       "      <th>reporter</th>\n",
       "      <th>committerDate</th>\n",
       "    </tr>\n",
       "  </thead>\n",
       "  <tbody>\n",
       "    <tr>\n",
       "      <th>0</th>\n",
       "      <td>commons-exec</td>\n",
       "      <td>EXEC-108</td>\n",
       "      <td>2018-09-18T11:15:58.000+0000</td>\n",
       "      <td>NaN</td>\n",
       "      <td>Bug</td>\n",
       "      <td>Major</td>\n",
       "      <td>NaN</td>\n",
       "      <td>natanieljr</td>\n",
       "      <td>2019-07-07T10:32:12Z</td>\n",
       "    </tr>\n",
       "    <tr>\n",
       "      <th>1</th>\n",
       "      <td>commons-exec</td>\n",
       "      <td>EXEC-107</td>\n",
       "      <td>2018-07-04T12:09:47.000+0000</td>\n",
       "      <td>NaN</td>\n",
       "      <td>New Feature</td>\n",
       "      <td>Major</td>\n",
       "      <td>NaN</td>\n",
       "      <td>stefanreich</td>\n",
       "      <td>2019-07-07T10:32:12Z</td>\n",
       "    </tr>\n",
       "    <tr>\n",
       "      <th>2</th>\n",
       "      <td>commons-exec</td>\n",
       "      <td>EXEC-106</td>\n",
       "      <td>2018-03-06T11:32:51.000+0000</td>\n",
       "      <td>NaN</td>\n",
       "      <td>Improvement</td>\n",
       "      <td>Major</td>\n",
       "      <td>NaN</td>\n",
       "      <td>sebb</td>\n",
       "      <td>2019-07-07T10:32:12Z</td>\n",
       "    </tr>\n",
       "    <tr>\n",
       "      <th>3</th>\n",
       "      <td>commons-exec</td>\n",
       "      <td>EXEC-105</td>\n",
       "      <td>2018-02-16T13:47:10.000+0000</td>\n",
       "      <td>NaN</td>\n",
       "      <td>Wish</td>\n",
       "      <td>Trivial</td>\n",
       "      <td>NaN</td>\n",
       "      <td>IP</td>\n",
       "      <td>2019-07-07T10:32:12Z</td>\n",
       "    </tr>\n",
       "    <tr>\n",
       "      <th>4</th>\n",
       "      <td>commons-exec</td>\n",
       "      <td>EXEC-104</td>\n",
       "      <td>2017-08-04T11:57:39.000+0000</td>\n",
       "      <td>NaN</td>\n",
       "      <td>Bug</td>\n",
       "      <td>Major</td>\n",
       "      <td>NaN</td>\n",
       "      <td>krichter</td>\n",
       "      <td>2019-07-07T10:32:12Z</td>\n",
       "    </tr>\n",
       "  </tbody>\n",
       "</table>\n",
       "</div>"
      ],
      "text/plain": [
       "      projectID       key                  creationDate resolutionDate  \\\n",
       "0  commons-exec  EXEC-108  2018-09-18T11:15:58.000+0000            NaN   \n",
       "1  commons-exec  EXEC-107  2018-07-04T12:09:47.000+0000            NaN   \n",
       "2  commons-exec  EXEC-106  2018-03-06T11:32:51.000+0000            NaN   \n",
       "3  commons-exec  EXEC-105  2018-02-16T13:47:10.000+0000            NaN   \n",
       "4  commons-exec  EXEC-104  2017-08-04T11:57:39.000+0000            NaN   \n",
       "\n",
       "          type priority assignee     reporter         committerDate  \n",
       "0          Bug    Major      NaN   natanieljr  2019-07-07T10:32:12Z  \n",
       "1  New Feature    Major      NaN  stefanreich  2019-07-07T10:32:12Z  \n",
       "2  Improvement    Major      NaN         sebb  2019-07-07T10:32:12Z  \n",
       "3         Wish  Trivial      NaN           IP  2019-07-07T10:32:12Z  \n",
       "4          Bug    Major      NaN     krichter  2019-07-07T10:32:12Z  "
      ]
     },
     "execution_count": 24,
     "metadata": {},
     "output_type": "execute_result"
    }
   ],
   "source": [
    "jiraIssues_notresolved = pd.merge(jiraIssues_notresolved, lastTimestamp, how='left', on='projectID')\n",
    "jiraIssues_notresolved.head()"
   ]
  },
  {
   "cell_type": "code",
   "execution_count": 25,
   "metadata": {
    "colab": {
     "base_uri": "https://localhost:8080/",
     "height": 419
    },
    "executionInfo": {
     "elapsed": 538,
     "status": "ok",
     "timestamp": 1602780181117,
     "user": {
      "displayName": "Laia Albors Zumel",
      "photoUrl": "",
      "userId": "07110507271504138336"
     },
     "user_tz": -120
    },
    "id": "SRP4hm-zatSw",
    "outputId": "7ccd7edb-2112-4126-8531-92a889c40cad"
   },
   "outputs": [
    {
     "data": {
      "text/html": [
       "<div>\n",
       "<style scoped>\n",
       "    .dataframe tbody tr th:only-of-type {\n",
       "        vertical-align: middle;\n",
       "    }\n",
       "\n",
       "    .dataframe tbody tr th {\n",
       "        vertical-align: top;\n",
       "    }\n",
       "\n",
       "    .dataframe thead th {\n",
       "        text-align: right;\n",
       "    }\n",
       "</style>\n",
       "<table border=\"1\" class=\"dataframe\">\n",
       "  <thead>\n",
       "    <tr style=\"text-align: right;\">\n",
       "      <th></th>\n",
       "      <th>projectID</th>\n",
       "      <th>key</th>\n",
       "      <th>creationDate</th>\n",
       "      <th>type</th>\n",
       "      <th>priority</th>\n",
       "      <th>assignee</th>\n",
       "      <th>reporter</th>\n",
       "      <th>resolutionDate</th>\n",
       "    </tr>\n",
       "  </thead>\n",
       "  <tbody>\n",
       "    <tr>\n",
       "      <th>0</th>\n",
       "      <td>commons-exec</td>\n",
       "      <td>EXEC-108</td>\n",
       "      <td>2018-09-18T11:15:58.000+0000</td>\n",
       "      <td>Bug</td>\n",
       "      <td>Major</td>\n",
       "      <td>NaN</td>\n",
       "      <td>natanieljr</td>\n",
       "      <td>2019-07-07T10:32:12Z</td>\n",
       "    </tr>\n",
       "    <tr>\n",
       "      <th>1</th>\n",
       "      <td>commons-exec</td>\n",
       "      <td>EXEC-107</td>\n",
       "      <td>2018-07-04T12:09:47.000+0000</td>\n",
       "      <td>New Feature</td>\n",
       "      <td>Major</td>\n",
       "      <td>NaN</td>\n",
       "      <td>stefanreich</td>\n",
       "      <td>2019-07-07T10:32:12Z</td>\n",
       "    </tr>\n",
       "    <tr>\n",
       "      <th>2</th>\n",
       "      <td>commons-exec</td>\n",
       "      <td>EXEC-106</td>\n",
       "      <td>2018-03-06T11:32:51.000+0000</td>\n",
       "      <td>Improvement</td>\n",
       "      <td>Major</td>\n",
       "      <td>NaN</td>\n",
       "      <td>sebb</td>\n",
       "      <td>2019-07-07T10:32:12Z</td>\n",
       "    </tr>\n",
       "    <tr>\n",
       "      <th>3</th>\n",
       "      <td>commons-exec</td>\n",
       "      <td>EXEC-105</td>\n",
       "      <td>2018-02-16T13:47:10.000+0000</td>\n",
       "      <td>Wish</td>\n",
       "      <td>Trivial</td>\n",
       "      <td>NaN</td>\n",
       "      <td>IP</td>\n",
       "      <td>2019-07-07T10:32:12Z</td>\n",
       "    </tr>\n",
       "    <tr>\n",
       "      <th>4</th>\n",
       "      <td>commons-exec</td>\n",
       "      <td>EXEC-104</td>\n",
       "      <td>2017-08-04T11:57:39.000+0000</td>\n",
       "      <td>Bug</td>\n",
       "      <td>Major</td>\n",
       "      <td>NaN</td>\n",
       "      <td>krichter</td>\n",
       "      <td>2019-07-07T10:32:12Z</td>\n",
       "    </tr>\n",
       "    <tr>\n",
       "      <th>...</th>\n",
       "      <td>...</td>\n",
       "      <td>...</td>\n",
       "      <td>...</td>\n",
       "      <td>...</td>\n",
       "      <td>...</td>\n",
       "      <td>...</td>\n",
       "      <td>...</td>\n",
       "      <td>...</td>\n",
       "    </tr>\n",
       "    <tr>\n",
       "      <th>10700</th>\n",
       "      <td>zookeeper</td>\n",
       "      <td>ZOOKEEPER-24</td>\n",
       "      <td>2008-06-10T21:30:20.000+0000</td>\n",
       "      <td>New Feature</td>\n",
       "      <td>Major</td>\n",
       "      <td>breed</td>\n",
       "      <td>phunt</td>\n",
       "      <td>2019-07-19T13:08:30Z</td>\n",
       "    </tr>\n",
       "    <tr>\n",
       "      <th>10701</th>\n",
       "      <td>zookeeper</td>\n",
       "      <td>ZOOKEEPER-22</td>\n",
       "      <td>2008-06-10T21:27:49.000+0000</td>\n",
       "      <td>New Feature</td>\n",
       "      <td>Major</td>\n",
       "      <td>mahadev</td>\n",
       "      <td>phunt</td>\n",
       "      <td>2019-07-19T13:08:30Z</td>\n",
       "    </tr>\n",
       "    <tr>\n",
       "      <th>10702</th>\n",
       "      <td>zookeeper</td>\n",
       "      <td>ZOOKEEPER-14</td>\n",
       "      <td>2008-06-10T21:14:24.000+0000</td>\n",
       "      <td>Bug</td>\n",
       "      <td>Major</td>\n",
       "      <td>breed</td>\n",
       "      <td>phunt</td>\n",
       "      <td>2019-07-19T13:08:30Z</td>\n",
       "    </tr>\n",
       "    <tr>\n",
       "      <th>10703</th>\n",
       "      <td>zookeeper</td>\n",
       "      <td>ZOOKEEPER-12</td>\n",
       "      <td>2008-06-10T21:11:36.000+0000</td>\n",
       "      <td>Bug</td>\n",
       "      <td>Major</td>\n",
       "      <td>NaN</td>\n",
       "      <td>phunt</td>\n",
       "      <td>2019-07-19T13:08:30Z</td>\n",
       "    </tr>\n",
       "    <tr>\n",
       "      <th>10704</th>\n",
       "      <td>zookeeper</td>\n",
       "      <td>ZOOKEEPER-9</td>\n",
       "      <td>2008-06-10T21:07:39.000+0000</td>\n",
       "      <td>Bug</td>\n",
       "      <td>Major</td>\n",
       "      <td>NaN</td>\n",
       "      <td>phunt</td>\n",
       "      <td>2019-07-19T13:08:30Z</td>\n",
       "    </tr>\n",
       "  </tbody>\n",
       "</table>\n",
       "<p>10705 rows × 8 columns</p>\n",
       "</div>"
      ],
      "text/plain": [
       "          projectID           key                  creationDate         type  \\\n",
       "0      commons-exec      EXEC-108  2018-09-18T11:15:58.000+0000          Bug   \n",
       "1      commons-exec      EXEC-107  2018-07-04T12:09:47.000+0000  New Feature   \n",
       "2      commons-exec      EXEC-106  2018-03-06T11:32:51.000+0000  Improvement   \n",
       "3      commons-exec      EXEC-105  2018-02-16T13:47:10.000+0000         Wish   \n",
       "4      commons-exec      EXEC-104  2017-08-04T11:57:39.000+0000          Bug   \n",
       "...             ...           ...                           ...          ...   \n",
       "10700     zookeeper  ZOOKEEPER-24  2008-06-10T21:30:20.000+0000  New Feature   \n",
       "10701     zookeeper  ZOOKEEPER-22  2008-06-10T21:27:49.000+0000  New Feature   \n",
       "10702     zookeeper  ZOOKEEPER-14  2008-06-10T21:14:24.000+0000          Bug   \n",
       "10703     zookeeper  ZOOKEEPER-12  2008-06-10T21:11:36.000+0000          Bug   \n",
       "10704     zookeeper   ZOOKEEPER-9  2008-06-10T21:07:39.000+0000          Bug   \n",
       "\n",
       "      priority assignee     reporter        resolutionDate  \n",
       "0        Major      NaN   natanieljr  2019-07-07T10:32:12Z  \n",
       "1        Major      NaN  stefanreich  2019-07-07T10:32:12Z  \n",
       "2        Major      NaN         sebb  2019-07-07T10:32:12Z  \n",
       "3      Trivial      NaN           IP  2019-07-07T10:32:12Z  \n",
       "4        Major      NaN     krichter  2019-07-07T10:32:12Z  \n",
       "...        ...      ...          ...                   ...  \n",
       "10700    Major    breed        phunt  2019-07-19T13:08:30Z  \n",
       "10701    Major  mahadev        phunt  2019-07-19T13:08:30Z  \n",
       "10702    Major    breed        phunt  2019-07-19T13:08:30Z  \n",
       "10703    Major      NaN        phunt  2019-07-19T13:08:30Z  \n",
       "10704    Major      NaN        phunt  2019-07-19T13:08:30Z  \n",
       "\n",
       "[10705 rows x 8 columns]"
      ]
     },
     "execution_count": 25,
     "metadata": {},
     "output_type": "execute_result"
    }
   ],
   "source": [
    "jiraIssues_notresolved = jiraIssues_notresolved.iloc[:,[0,1,2,4,5,6,7,8]].rename(columns={'committerDate': 'resolutionDate'})\n",
    "jiraIssues_notresolved"
   ]
  },
  {
   "cell_type": "markdown",
   "metadata": {
    "id": "wZdKuQONbSEf"
   },
   "source": [
    "Then , we concatenate the Jira issues that have been resolved and the ones that had a missing value in this attribute."
   ]
  },
  {
   "cell_type": "code",
   "execution_count": 26,
   "metadata": {
    "colab": {
     "base_uri": "https://localhost:8080/",
     "height": 221
    },
    "executionInfo": {
     "elapsed": 638,
     "status": "ok",
     "timestamp": 1602780182457,
     "user": {
      "displayName": "Laia Albors Zumel",
      "photoUrl": "",
      "userId": "07110507271504138336"
     },
     "user_tz": -120
    },
    "id": "koaQiRJ7bZcQ",
    "outputId": "e824b06c-2d26-49b9-9131-ef304fb9eb09"
   },
   "outputs": [
    {
     "name": "stdout",
     "output_type": "stream",
     "text": [
      "(56722, 8)\n"
     ]
    },
    {
     "data": {
      "text/html": [
       "<div>\n",
       "<style scoped>\n",
       "    .dataframe tbody tr th:only-of-type {\n",
       "        vertical-align: middle;\n",
       "    }\n",
       "\n",
       "    .dataframe tbody tr th {\n",
       "        vertical-align: top;\n",
       "    }\n",
       "\n",
       "    .dataframe thead th {\n",
       "        text-align: right;\n",
       "    }\n",
       "</style>\n",
       "<table border=\"1\" class=\"dataframe\">\n",
       "  <thead>\n",
       "    <tr style=\"text-align: right;\">\n",
       "      <th></th>\n",
       "      <th>projectID</th>\n",
       "      <th>key</th>\n",
       "      <th>creationDate</th>\n",
       "      <th>resolutionDate</th>\n",
       "      <th>type</th>\n",
       "      <th>priority</th>\n",
       "      <th>assignee</th>\n",
       "      <th>reporter</th>\n",
       "    </tr>\n",
       "  </thead>\n",
       "  <tbody>\n",
       "    <tr>\n",
       "      <th>8</th>\n",
       "      <td>commons-exec</td>\n",
       "      <td>EXEC-100</td>\n",
       "      <td>2016-01-11T16:45:23.000+0000</td>\n",
       "      <td>2016-01-11T18:01:01.000+0000</td>\n",
       "      <td>Task</td>\n",
       "      <td>Minor</td>\n",
       "      <td>sgoeschl</td>\n",
       "      <td>sgoeschl</td>\n",
       "    </tr>\n",
       "    <tr>\n",
       "      <th>10</th>\n",
       "      <td>commons-exec</td>\n",
       "      <td>EXEC-98</td>\n",
       "      <td>2016-01-08T21:40:01.000+0000</td>\n",
       "      <td>2016-01-09T00:59:19.000+0000</td>\n",
       "      <td>Bug</td>\n",
       "      <td>Major</td>\n",
       "      <td>sgoeschl</td>\n",
       "      <td>sgoeschl</td>\n",
       "    </tr>\n",
       "    <tr>\n",
       "      <th>11</th>\n",
       "      <td>commons-exec</td>\n",
       "      <td>EXEC-97</td>\n",
       "      <td>2015-11-17T14:50:47.000+0000</td>\n",
       "      <td>2015-11-17T14:53:13.000+0000</td>\n",
       "      <td>Bug</td>\n",
       "      <td>Major</td>\n",
       "      <td>NaN</td>\n",
       "      <td>TimBarham</td>\n",
       "    </tr>\n",
       "    <tr>\n",
       "      <th>15</th>\n",
       "      <td>commons-exec</td>\n",
       "      <td>EXEC-93</td>\n",
       "      <td>2015-03-18T13:28:02.000+0000</td>\n",
       "      <td>2015-09-29T18:14:28.000+0000</td>\n",
       "      <td>Bug</td>\n",
       "      <td>Major</td>\n",
       "      <td>NaN</td>\n",
       "      <td>sadovnikov</td>\n",
       "    </tr>\n",
       "    <tr>\n",
       "      <th>16</th>\n",
       "      <td>commons-exec</td>\n",
       "      <td>EXEC-92</td>\n",
       "      <td>2015-03-17T00:55:04.000+0000</td>\n",
       "      <td>2016-01-08T21:28:07.000+0000</td>\n",
       "      <td>Bug</td>\n",
       "      <td>Major</td>\n",
       "      <td>sgoeschl</td>\n",
       "      <td>belugabehr</td>\n",
       "    </tr>\n",
       "  </tbody>\n",
       "</table>\n",
       "</div>"
      ],
      "text/plain": [
       "       projectID       key                  creationDate  \\\n",
       "8   commons-exec  EXEC-100  2016-01-11T16:45:23.000+0000   \n",
       "10  commons-exec   EXEC-98  2016-01-08T21:40:01.000+0000   \n",
       "11  commons-exec   EXEC-97  2015-11-17T14:50:47.000+0000   \n",
       "15  commons-exec   EXEC-93  2015-03-18T13:28:02.000+0000   \n",
       "16  commons-exec   EXEC-92  2015-03-17T00:55:04.000+0000   \n",
       "\n",
       "                  resolutionDate  type priority  assignee    reporter  \n",
       "8   2016-01-11T18:01:01.000+0000  Task    Minor  sgoeschl    sgoeschl  \n",
       "10  2016-01-09T00:59:19.000+0000   Bug    Major  sgoeschl    sgoeschl  \n",
       "11  2015-11-17T14:53:13.000+0000   Bug    Major       NaN   TimBarham  \n",
       "15  2015-09-29T18:14:28.000+0000   Bug    Major       NaN  sadovnikov  \n",
       "16  2016-01-08T21:28:07.000+0000   Bug    Major  sgoeschl  belugabehr  "
      ]
     },
     "execution_count": 26,
     "metadata": {},
     "output_type": "execute_result"
    }
   ],
   "source": [
    "jiraIssues_resolved = jiraIssues.drop(resolutionDate_nan)\n",
    "print(jiraIssues_resolved.shape)\n",
    "jiraIssues_resolved.head()"
   ]
  },
  {
   "cell_type": "code",
   "execution_count": 27,
   "metadata": {
    "colab": {
     "base_uri": "https://localhost:8080/",
     "height": 419
    },
    "executionInfo": {
     "elapsed": 476,
     "status": "ok",
     "timestamp": 1602780182718,
     "user": {
      "displayName": "Laia Albors Zumel",
      "photoUrl": "",
      "userId": "07110507271504138336"
     },
     "user_tz": -120
    },
    "id": "Uxxr9Nc9b6eP",
    "outputId": "4988569a-bcde-437a-c092-caf07608dd15"
   },
   "outputs": [
    {
     "data": {
      "text/html": [
       "<div>\n",
       "<style scoped>\n",
       "    .dataframe tbody tr th:only-of-type {\n",
       "        vertical-align: middle;\n",
       "    }\n",
       "\n",
       "    .dataframe tbody tr th {\n",
       "        vertical-align: top;\n",
       "    }\n",
       "\n",
       "    .dataframe thead th {\n",
       "        text-align: right;\n",
       "    }\n",
       "</style>\n",
       "<table border=\"1\" class=\"dataframe\">\n",
       "  <thead>\n",
       "    <tr style=\"text-align: right;\">\n",
       "      <th></th>\n",
       "      <th>projectID</th>\n",
       "      <th>key</th>\n",
       "      <th>creationDate</th>\n",
       "      <th>resolutionDate</th>\n",
       "      <th>type</th>\n",
       "      <th>priority</th>\n",
       "      <th>assignee</th>\n",
       "      <th>reporter</th>\n",
       "    </tr>\n",
       "  </thead>\n",
       "  <tbody>\n",
       "    <tr>\n",
       "      <th>0</th>\n",
       "      <td>commons-exec</td>\n",
       "      <td>EXEC-108</td>\n",
       "      <td>2018-09-18T11:15:58.000+0000</td>\n",
       "      <td>2019-07-07T10:32:12Z</td>\n",
       "      <td>Bug</td>\n",
       "      <td>Major</td>\n",
       "      <td>NaN</td>\n",
       "      <td>natanieljr</td>\n",
       "    </tr>\n",
       "    <tr>\n",
       "      <th>1</th>\n",
       "      <td>commons-exec</td>\n",
       "      <td>EXEC-107</td>\n",
       "      <td>2018-07-04T12:09:47.000+0000</td>\n",
       "      <td>2019-07-07T10:32:12Z</td>\n",
       "      <td>New Feature</td>\n",
       "      <td>Major</td>\n",
       "      <td>NaN</td>\n",
       "      <td>stefanreich</td>\n",
       "    </tr>\n",
       "    <tr>\n",
       "      <th>2</th>\n",
       "      <td>commons-exec</td>\n",
       "      <td>EXEC-106</td>\n",
       "      <td>2018-03-06T11:32:51.000+0000</td>\n",
       "      <td>2019-07-07T10:32:12Z</td>\n",
       "      <td>Improvement</td>\n",
       "      <td>Major</td>\n",
       "      <td>NaN</td>\n",
       "      <td>sebb</td>\n",
       "    </tr>\n",
       "    <tr>\n",
       "      <th>3</th>\n",
       "      <td>commons-exec</td>\n",
       "      <td>EXEC-105</td>\n",
       "      <td>2018-02-16T13:47:10.000+0000</td>\n",
       "      <td>2019-07-07T10:32:12Z</td>\n",
       "      <td>Wish</td>\n",
       "      <td>Trivial</td>\n",
       "      <td>NaN</td>\n",
       "      <td>IP</td>\n",
       "    </tr>\n",
       "    <tr>\n",
       "      <th>4</th>\n",
       "      <td>commons-exec</td>\n",
       "      <td>EXEC-104</td>\n",
       "      <td>2017-08-04T11:57:39.000+0000</td>\n",
       "      <td>2019-07-07T10:32:12Z</td>\n",
       "      <td>Bug</td>\n",
       "      <td>Major</td>\n",
       "      <td>NaN</td>\n",
       "      <td>krichter</td>\n",
       "    </tr>\n",
       "    <tr>\n",
       "      <th>...</th>\n",
       "      <td>...</td>\n",
       "      <td>...</td>\n",
       "      <td>...</td>\n",
       "      <td>...</td>\n",
       "      <td>...</td>\n",
       "      <td>...</td>\n",
       "      <td>...</td>\n",
       "      <td>...</td>\n",
       "    </tr>\n",
       "    <tr>\n",
       "      <th>67422</th>\n",
       "      <td>zookeeper</td>\n",
       "      <td>ZOOKEEPER-5</td>\n",
       "      <td>2008-06-09T23:43:48.000+0000</td>\n",
       "      <td>2008-10-17T00:24:34.000+0000</td>\n",
       "      <td>New Feature</td>\n",
       "      <td>Major</td>\n",
       "      <td>mahadev</td>\n",
       "      <td>mahadev</td>\n",
       "    </tr>\n",
       "    <tr>\n",
       "      <th>67423</th>\n",
       "      <td>zookeeper</td>\n",
       "      <td>ZOOKEEPER-4</td>\n",
       "      <td>2008-06-09T16:42:38.000+0000</td>\n",
       "      <td>2008-09-09T21:09:01.000+0000</td>\n",
       "      <td>Bug</td>\n",
       "      <td>Major</td>\n",
       "      <td>fpj</td>\n",
       "      <td>breed</td>\n",
       "    </tr>\n",
       "    <tr>\n",
       "      <th>67424</th>\n",
       "      <td>zookeeper</td>\n",
       "      <td>ZOOKEEPER-3</td>\n",
       "      <td>2008-06-09T16:39:34.000+0000</td>\n",
       "      <td>2009-11-18T17:48:01.000+0000</td>\n",
       "      <td>Bug</td>\n",
       "      <td>Trivial</td>\n",
       "      <td>mahadev</td>\n",
       "      <td>breed</td>\n",
       "    </tr>\n",
       "    <tr>\n",
       "      <th>67425</th>\n",
       "      <td>zookeeper</td>\n",
       "      <td>ZOOKEEPER-2</td>\n",
       "      <td>2008-06-09T16:34:31.000+0000</td>\n",
       "      <td>2008-08-25T21:13:14.000+0000</td>\n",
       "      <td>Bug</td>\n",
       "      <td>Major</td>\n",
       "      <td>fpj</td>\n",
       "      <td>breed</td>\n",
       "    </tr>\n",
       "    <tr>\n",
       "      <th>67426</th>\n",
       "      <td>zookeeper</td>\n",
       "      <td>ZOOKEEPER-1</td>\n",
       "      <td>2008-06-06T22:02:18.000+0000</td>\n",
       "      <td>2008-06-12T17:54:36.000+0000</td>\n",
       "      <td>Task</td>\n",
       "      <td>Major</td>\n",
       "      <td>phunt</td>\n",
       "      <td>phunt</td>\n",
       "    </tr>\n",
       "  </tbody>\n",
       "</table>\n",
       "<p>67427 rows × 8 columns</p>\n",
       "</div>"
      ],
      "text/plain": [
       "          projectID          key                  creationDate  \\\n",
       "0      commons-exec     EXEC-108  2018-09-18T11:15:58.000+0000   \n",
       "1      commons-exec     EXEC-107  2018-07-04T12:09:47.000+0000   \n",
       "2      commons-exec     EXEC-106  2018-03-06T11:32:51.000+0000   \n",
       "3      commons-exec     EXEC-105  2018-02-16T13:47:10.000+0000   \n",
       "4      commons-exec     EXEC-104  2017-08-04T11:57:39.000+0000   \n",
       "...             ...          ...                           ...   \n",
       "67422     zookeeper  ZOOKEEPER-5  2008-06-09T23:43:48.000+0000   \n",
       "67423     zookeeper  ZOOKEEPER-4  2008-06-09T16:42:38.000+0000   \n",
       "67424     zookeeper  ZOOKEEPER-3  2008-06-09T16:39:34.000+0000   \n",
       "67425     zookeeper  ZOOKEEPER-2  2008-06-09T16:34:31.000+0000   \n",
       "67426     zookeeper  ZOOKEEPER-1  2008-06-06T22:02:18.000+0000   \n",
       "\n",
       "                     resolutionDate         type priority assignee  \\\n",
       "0              2019-07-07T10:32:12Z          Bug    Major      NaN   \n",
       "1              2019-07-07T10:32:12Z  New Feature    Major      NaN   \n",
       "2              2019-07-07T10:32:12Z  Improvement    Major      NaN   \n",
       "3              2019-07-07T10:32:12Z         Wish  Trivial      NaN   \n",
       "4              2019-07-07T10:32:12Z          Bug    Major      NaN   \n",
       "...                             ...          ...      ...      ...   \n",
       "67422  2008-10-17T00:24:34.000+0000  New Feature    Major  mahadev   \n",
       "67423  2008-09-09T21:09:01.000+0000          Bug    Major      fpj   \n",
       "67424  2009-11-18T17:48:01.000+0000          Bug  Trivial  mahadev   \n",
       "67425  2008-08-25T21:13:14.000+0000          Bug    Major      fpj   \n",
       "67426  2008-06-12T17:54:36.000+0000         Task    Major    phunt   \n",
       "\n",
       "          reporter  \n",
       "0       natanieljr  \n",
       "1      stefanreich  \n",
       "2             sebb  \n",
       "3               IP  \n",
       "4         krichter  \n",
       "...            ...  \n",
       "67422      mahadev  \n",
       "67423        breed  \n",
       "67424        breed  \n",
       "67425        breed  \n",
       "67426        phunt  \n",
       "\n",
       "[67427 rows x 8 columns]"
      ]
     },
     "execution_count": 27,
     "metadata": {},
     "output_type": "execute_result"
    }
   ],
   "source": [
    "jiraIssues = pd.concat([jiraIssues_resolved, jiraIssues_notresolved], sort=False).sort_index().reset_index().iloc[:,1:]\n",
    "jiraIssues"
   ]
  },
  {
   "cell_type": "code",
   "execution_count": 28,
   "metadata": {
    "colab": {
     "base_uri": "https://localhost:8080/",
     "height": 34
    },
    "executionInfo": {
     "elapsed": 713,
     "status": "ok",
     "timestamp": 1602780183395,
     "user": {
      "displayName": "Laia Albors Zumel",
      "photoUrl": "",
      "userId": "07110507271504138336"
     },
     "user_tz": -120
    },
    "id": "-A2Nsd7JYT40",
    "outputId": "1057f39c-6f0c-46da-c319-94148f98f32e"
   },
   "outputs": [
    {
     "data": {
      "text/plain": [
       "0"
      ]
     },
     "execution_count": 28,
     "metadata": {},
     "output_type": "execute_result"
    }
   ],
   "source": [
    "resolutionDate_nan = list(np.where(jiraIssues.resolutionDate.isna()))[0]\n",
    "len(resolutionDate_nan)"
   ]
  },
  {
   "cell_type": "markdown",
   "metadata": {
    "id": "DvvNicqnsm4v"
   },
   "source": [
    "#### type"
   ]
  },
  {
   "cell_type": "code",
   "execution_count": 29,
   "metadata": {
    "colab": {
     "base_uri": "https://localhost:8080/",
     "height": 34
    },
    "executionInfo": {
     "elapsed": 387,
     "status": "ok",
     "timestamp": 1602780184061,
     "user": {
      "displayName": "Laia Albors Zumel",
      "photoUrl": "",
      "userId": "07110507271504138336"
     },
     "user_tz": -120
    },
    "id": "GcbxHdE1sm4x",
    "outputId": "510c0972-70b7-4233-a9af-cfd7c4c9753b"
   },
   "outputs": [
    {
     "data": {
      "text/plain": [
       "13"
      ]
     },
     "execution_count": 29,
     "metadata": {},
     "output_type": "execute_result"
    }
   ],
   "source": [
    "len(jiraIssues.type.unique())"
   ]
  },
  {
   "cell_type": "code",
   "execution_count": 30,
   "metadata": {
    "colab": {
     "base_uri": "https://localhost:8080/",
     "height": 34
    },
    "executionInfo": {
     "elapsed": 777,
     "status": "ok",
     "timestamp": 1602780184855,
     "user": {
      "displayName": "Laia Albors Zumel",
      "photoUrl": "",
      "userId": "07110507271504138336"
     },
     "user_tz": -120
    },
    "id": "63UuZPQ2sm44",
    "outputId": "f8d6183f-c736-45aa-a2c6-9c7793bba122"
   },
   "outputs": [
    {
     "data": {
      "text/plain": [
       "0"
      ]
     },
     "execution_count": 30,
     "metadata": {},
     "output_type": "execute_result"
    }
   ],
   "source": [
    "jiraIssues_nan = list(np.where(jiraIssues.type.isna()))[0]\n",
    "len(jiraIssues_nan)"
   ]
  },
  {
   "cell_type": "markdown",
   "metadata": {
    "id": "GPqBJrwOmJ1m"
   },
   "source": [
    "#### priority"
   ]
  },
  {
   "cell_type": "code",
   "execution_count": 31,
   "metadata": {
    "colab": {
     "base_uri": "https://localhost:8080/",
     "height": 34
    },
    "executionInfo": {
     "elapsed": 392,
     "status": "ok",
     "timestamp": 1602780185203,
     "user": {
      "displayName": "Laia Albors Zumel",
      "photoUrl": "",
      "userId": "07110507271504138336"
     },
     "user_tz": -120
    },
    "id": "vDOIBIuJmH2k",
    "outputId": "b22b490c-ef94-469f-af05-e8bcde2f1eb9"
   },
   "outputs": [
    {
     "data": {
      "text/plain": [
       "6"
      ]
     },
     "execution_count": 31,
     "metadata": {},
     "output_type": "execute_result"
    }
   ],
   "source": [
    "len(jiraIssues.priority.unique())"
   ]
  },
  {
   "cell_type": "code",
   "execution_count": 32,
   "metadata": {
    "colab": {
     "base_uri": "https://localhost:8080/",
     "height": 34
    },
    "executionInfo": {
     "elapsed": 405,
     "status": "ok",
     "timestamp": 1602780185572,
     "user": {
      "displayName": "Laia Albors Zumel",
      "photoUrl": "",
      "userId": "07110507271504138336"
     },
     "user_tz": -120
    },
    "id": "YSVmB8yLoiZE",
    "outputId": "b778003c-3989-4a7e-ccd8-b729309285e1"
   },
   "outputs": [
    {
     "data": {
      "text/plain": [
       "1082"
      ]
     },
     "execution_count": 32,
     "metadata": {},
     "output_type": "execute_result"
    }
   ],
   "source": [
    "priority_nan = list(np.where(jiraIssues.priority.isna()))[0]\n",
    "len(priority_nan)"
   ]
  },
  {
   "cell_type": "markdown",
   "metadata": {
    "id": "ZHuPEsGXfrT6"
   },
   "source": [
    "We remove these rows because we can not obtain this information from anywhere else. Finally we will have 66.345 rows."
   ]
  },
  {
   "cell_type": "code",
   "execution_count": 33,
   "metadata": {
    "colab": {
     "base_uri": "https://localhost:8080/",
     "height": 34
    },
    "executionInfo": {
     "elapsed": 460,
     "status": "ok",
     "timestamp": 1602780186403,
     "user": {
      "displayName": "Laia Albors Zumel",
      "photoUrl": "",
      "userId": "07110507271504138336"
     },
     "user_tz": -120
    },
    "id": "_Fqi81TTeraQ",
    "outputId": "48a0e847-7b26-4c97-e364-82de73be0a3d"
   },
   "outputs": [
    {
     "data": {
      "text/plain": [
       "(66345, 8)"
      ]
     },
     "execution_count": 33,
     "metadata": {},
     "output_type": "execute_result"
    }
   ],
   "source": [
    "jiraIssues = jiraIssues.drop(priority_nan)\n",
    "jiraIssues.shape"
   ]
  },
  {
   "cell_type": "markdown",
   "metadata": {
    "id": "Q-cLW2gfnNAT"
   },
   "source": [
    "#### assignee"
   ]
  },
  {
   "cell_type": "code",
   "execution_count": 34,
   "metadata": {
    "colab": {
     "base_uri": "https://localhost:8080/",
     "height": 34
    },
    "executionInfo": {
     "elapsed": 769,
     "status": "ok",
     "timestamp": 1602780188257,
     "user": {
      "displayName": "Laia Albors Zumel",
      "photoUrl": "",
      "userId": "07110507271504138336"
     },
     "user_tz": -120
    },
    "id": "XMsI1K2cnQKE",
    "outputId": "54fd235a-a7ba-4a0d-bff9-23a60d72d92f"
   },
   "outputs": [
    {
     "data": {
      "text/plain": [
       "1510"
      ]
     },
     "execution_count": 34,
     "metadata": {},
     "output_type": "execute_result"
    }
   ],
   "source": [
    "len(jiraIssues.assignee.unique())"
   ]
  },
  {
   "cell_type": "code",
   "execution_count": 35,
   "metadata": {
    "colab": {
     "base_uri": "https://localhost:8080/",
     "height": 34
    },
    "executionInfo": {
     "elapsed": 434,
     "status": "ok",
     "timestamp": 1602780188258,
     "user": {
      "displayName": "Laia Albors Zumel",
      "photoUrl": "",
      "userId": "07110507271504138336"
     },
     "user_tz": -120
    },
    "id": "g5hT7E6krMA0",
    "outputId": "fda6ad85-3737-4425-aa80-ad0cb984c68e"
   },
   "outputs": [
    {
     "data": {
      "text/plain": [
       "19693"
      ]
     },
     "execution_count": 35,
     "metadata": {},
     "output_type": "execute_result"
    }
   ],
   "source": [
    "assignee_nan = list(np.where(jiraIssues.assignee.isna()))[0]\n",
    "len(assignee_nan)"
   ]
  },
  {
   "cell_type": "markdown",
   "metadata": {
    "id": "bNQQfu1IgZYs"
   },
   "source": [
    "These missing values indicate that the issue has not been assigned to anyone, so we can relabel the NaNs as \n",
    "`not-assigned`."
   ]
  },
  {
   "cell_type": "code",
   "execution_count": 36,
   "metadata": {
    "colab": {
     "base_uri": "https://localhost:8080/",
     "height": 221
    },
    "executionInfo": {
     "elapsed": 746,
     "status": "ok",
     "timestamp": 1602780189281,
     "user": {
      "displayName": "Laia Albors Zumel",
      "photoUrl": "",
      "userId": "07110507271504138336"
     },
     "user_tz": -120
    },
    "id": "IA9dj0bBgvCK",
    "outputId": "39d2184f-b86a-4ffc-d262-e5a2745eea39"
   },
   "outputs": [
    {
     "data": {
      "text/plain": [
       "0        not-assigned\n",
       "1        not-assigned\n",
       "2        not-assigned\n",
       "3        not-assigned\n",
       "4        not-assigned\n",
       "             ...     \n",
       "67422         mahadev\n",
       "67423             fpj\n",
       "67424         mahadev\n",
       "67425             fpj\n",
       "67426           phunt\n",
       "Name: assignee, Length: 66345, dtype: object"
      ]
     },
     "execution_count": 36,
     "metadata": {},
     "output_type": "execute_result"
    }
   ],
   "source": [
    "jiraIssues.assignee = jiraIssues.assignee.fillna('not-assigned')\n",
    "jiraIssues.assignee"
   ]
  },
  {
   "cell_type": "code",
   "execution_count": 37,
   "metadata": {
    "colab": {
     "base_uri": "https://localhost:8080/",
     "height": 34
    },
    "executionInfo": {
     "elapsed": 446,
     "status": "ok",
     "timestamp": 1602780189282,
     "user": {
      "displayName": "Laia Albors Zumel",
      "photoUrl": "",
      "userId": "07110507271504138336"
     },
     "user_tz": -120
    },
    "id": "kRDm3oj-hG4M",
    "outputId": "e9b135b2-fa1a-4770-bf9b-503a93e570d4"
   },
   "outputs": [
    {
     "data": {
      "text/plain": [
       "0"
      ]
     },
     "execution_count": 37,
     "metadata": {},
     "output_type": "execute_result"
    }
   ],
   "source": [
    "assignee_nan = list(np.where(jiraIssues.assignee.isna()))[0]\n",
    "len(assignee_nan)"
   ]
  },
  {
   "cell_type": "markdown",
   "metadata": {
    "id": "TlJvmd9DhPnQ"
   },
   "source": [
    "#### reporter"
   ]
  },
  {
   "cell_type": "code",
   "execution_count": 38,
   "metadata": {
    "colab": {
     "base_uri": "https://localhost:8080/",
     "height": 34
    },
    "executionInfo": {
     "elapsed": 621,
     "status": "ok",
     "timestamp": 1602780190583,
     "user": {
      "displayName": "Laia Albors Zumel",
      "photoUrl": "",
      "userId": "07110507271504138336"
     },
     "user_tz": -120
    },
    "id": "sOofbMAMhYUS",
    "outputId": "0e2d3843-76ed-4c32-c940-c9f94aea8de8"
   },
   "outputs": [
    {
     "data": {
      "text/plain": [
       "10409"
      ]
     },
     "execution_count": 38,
     "metadata": {},
     "output_type": "execute_result"
    }
   ],
   "source": [
    "len(jiraIssues.reporter.unique())"
   ]
  },
  {
   "cell_type": "code",
   "execution_count": 39,
   "metadata": {
    "colab": {
     "base_uri": "https://localhost:8080/",
     "height": 34
    },
    "executionInfo": {
     "elapsed": 500,
     "status": "ok",
     "timestamp": 1602780190841,
     "user": {
      "displayName": "Laia Albors Zumel",
      "photoUrl": "",
      "userId": "07110507271504138336"
     },
     "user_tz": -120
    },
    "id": "o9emO6jehbB2",
    "outputId": "b52e7660-4ada-4912-85c3-c5bf9b44bd6d"
   },
   "outputs": [
    {
     "data": {
      "text/plain": [
       "0"
      ]
     },
     "execution_count": 39,
     "metadata": {},
     "output_type": "execute_result"
    }
   ],
   "source": [
    "reporter_nan = list(np.where(jiraIssues.reporter.isna()))[0]\n",
    "len(reporter_nan)"
   ]
  },
  {
   "cell_type": "markdown",
   "metadata": {
    "id": "WBofDxOrZ3vQ"
   },
   "source": [
    "---"
   ]
  },
  {
   "cell_type": "markdown",
   "metadata": {
    "id": "VlwO6nSQfk4G"
   },
   "source": [
    "We save it into a new csv."
   ]
  },
  {
   "cell_type": "code",
   "execution_count": 40,
   "metadata": {
    "id": "P9HmkWZ_wmgQ"
   },
   "outputs": [],
   "source": [
    "jiraIssues.to_csv('../../../data/interim/DataPreparation/CleanData/JIRA_ISSUES_clean.csv', header=True)"
   ]
  }
 ],
 "metadata": {
  "colab": {
   "collapsed_sections": [],
   "name": "JIRA_ISSUES.ipynb",
   "provenance": []
  },
  "kernelspec": {
   "display_name": "Python 3",
   "language": "python",
   "name": "python3"
  },
  "language_info": {
   "codemirror_mode": {
    "name": "ipython",
    "version": 3
   },
   "file_extension": ".py",
   "mimetype": "text/x-python",
   "name": "python",
   "nbconvert_exporter": "python",
   "pygments_lexer": "ipython3",
   "version": "3.8.3"
  }
 },
 "nbformat": 4,
 "nbformat_minor": 1
}
