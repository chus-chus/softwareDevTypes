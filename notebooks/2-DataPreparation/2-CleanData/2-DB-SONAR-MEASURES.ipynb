{
 "cells": [
  {
   "cell_type": "markdown",
   "metadata": {
    "id": "Iu7Lz_cMiJxf"
   },
   "source": [
    "# **SONAR_MEASURES**\n",
    "\n",
    "This notebook the cleaning of the attributes of the table `SONAR_MEASURES`.\n",
    "\n",
    "First, we import the libraries we need and, then, we read the corresponding csv."
   ]
  },
  {
   "cell_type": "code",
   "execution_count": 1,
   "metadata": {
    "id": "_1jC72O8lmqk"
   },
   "outputs": [],
   "source": [
    "import pandas as pd\n",
    "import numpy as np"
   ]
  },
  {
   "cell_type": "code",
   "execution_count": 2,
   "metadata": {
    "colab": {
     "base_uri": "https://localhost:8080/",
     "height": 343
    },
    "executionInfo": {
     "elapsed": 891,
     "status": "ok",
     "timestamp": 1602780456615,
     "user": {
      "displayName": "Laia Albors Zumel",
      "photoUrl": "",
      "userId": "07110507271504138336"
     },
     "user_tz": -120
    },
    "id": "MVgdjl7Ll_UL",
    "outputId": "095981fe-cc77-47c3-a7b9-a3e6bc3e6f6c"
   },
   "outputs": [
    {
     "name": "stdout",
     "output_type": "stream",
     "text": [
      "(55629, 23)\n"
     ]
    },
    {
     "data": {
      "text/html": [
       "<div>\n",
       "<style scoped>\n",
       "    .dataframe tbody tr th:only-of-type {\n",
       "        vertical-align: middle;\n",
       "    }\n",
       "\n",
       "    .dataframe tbody tr th {\n",
       "        vertical-align: top;\n",
       "    }\n",
       "\n",
       "    .dataframe thead th {\n",
       "        text-align: right;\n",
       "    }\n",
       "</style>\n",
       "<table border=\"1\" class=\"dataframe\">\n",
       "  <thead>\n",
       "    <tr style=\"text-align: right;\">\n",
       "      <th></th>\n",
       "      <th>Unnamed: 0</th>\n",
       "      <th>commitHash</th>\n",
       "      <th>projectID</th>\n",
       "      <th>functions</th>\n",
       "      <th>commentLinesDensity</th>\n",
       "      <th>complexity</th>\n",
       "      <th>functionComplexity</th>\n",
       "      <th>duplicatedLinesDensity</th>\n",
       "      <th>violations</th>\n",
       "      <th>blockerViolations</th>\n",
       "      <th>...</th>\n",
       "      <th>minorViolations</th>\n",
       "      <th>codeSmells</th>\n",
       "      <th>bugs</th>\n",
       "      <th>vulnerabilities</th>\n",
       "      <th>cognitiveComplexity</th>\n",
       "      <th>ncloc</th>\n",
       "      <th>sqaleIndex</th>\n",
       "      <th>sqaleDebtRatio</th>\n",
       "      <th>reliabilityRemediationEffort</th>\n",
       "      <th>securityRemediationEffort</th>\n",
       "    </tr>\n",
       "  </thead>\n",
       "  <tbody>\n",
       "    <tr>\n",
       "      <th>0</th>\n",
       "      <td>0</td>\n",
       "      <td>5e90dbea078fca205d913efc8e61ba278c5f39d8</td>\n",
       "      <td>commons-daemon</td>\n",
       "      <td>87</td>\n",
       "      <td>23.0</td>\n",
       "      <td>153</td>\n",
       "      <td>1.8</td>\n",
       "      <td>57.4</td>\n",
       "      <td>201</td>\n",
       "      <td>5</td>\n",
       "      <td>...</td>\n",
       "      <td>60</td>\n",
       "      <td>196</td>\n",
       "      <td>5</td>\n",
       "      <td>0</td>\n",
       "      <td>127</td>\n",
       "      <td>916</td>\n",
       "      <td>2007</td>\n",
       "      <td>7.3</td>\n",
       "      <td>85</td>\n",
       "      <td>0</td>\n",
       "    </tr>\n",
       "    <tr>\n",
       "      <th>1</th>\n",
       "      <td>1</td>\n",
       "      <td>6c0eafee28fc5c8ab69215df31dc4f07c5579a34</td>\n",
       "      <td>commons-daemon</td>\n",
       "      <td>87</td>\n",
       "      <td>23.0</td>\n",
       "      <td>153</td>\n",
       "      <td>1.8</td>\n",
       "      <td>57.4</td>\n",
       "      <td>201</td>\n",
       "      <td>5</td>\n",
       "      <td>...</td>\n",
       "      <td>60</td>\n",
       "      <td>196</td>\n",
       "      <td>5</td>\n",
       "      <td>0</td>\n",
       "      <td>127</td>\n",
       "      <td>916</td>\n",
       "      <td>2007</td>\n",
       "      <td>7.3</td>\n",
       "      <td>85</td>\n",
       "      <td>0</td>\n",
       "    </tr>\n",
       "    <tr>\n",
       "      <th>2</th>\n",
       "      <td>2</td>\n",
       "      <td>7b73ce30f32318b99056fee53397c08063d6f661</td>\n",
       "      <td>commons-daemon</td>\n",
       "      <td>87</td>\n",
       "      <td>23.0</td>\n",
       "      <td>153</td>\n",
       "      <td>1.8</td>\n",
       "      <td>57.4</td>\n",
       "      <td>201</td>\n",
       "      <td>5</td>\n",
       "      <td>...</td>\n",
       "      <td>60</td>\n",
       "      <td>196</td>\n",
       "      <td>5</td>\n",
       "      <td>0</td>\n",
       "      <td>127</td>\n",
       "      <td>916</td>\n",
       "      <td>2007</td>\n",
       "      <td>7.3</td>\n",
       "      <td>85</td>\n",
       "      <td>0</td>\n",
       "    </tr>\n",
       "    <tr>\n",
       "      <th>3</th>\n",
       "      <td>3</td>\n",
       "      <td>7c9d9cde24a00cde7e584136355ce5e048e11e5e</td>\n",
       "      <td>commons-daemon</td>\n",
       "      <td>87</td>\n",
       "      <td>23.0</td>\n",
       "      <td>153</td>\n",
       "      <td>1.8</td>\n",
       "      <td>57.4</td>\n",
       "      <td>201</td>\n",
       "      <td>5</td>\n",
       "      <td>...</td>\n",
       "      <td>60</td>\n",
       "      <td>196</td>\n",
       "      <td>5</td>\n",
       "      <td>0</td>\n",
       "      <td>127</td>\n",
       "      <td>916</td>\n",
       "      <td>2007</td>\n",
       "      <td>7.3</td>\n",
       "      <td>85</td>\n",
       "      <td>0</td>\n",
       "    </tr>\n",
       "    <tr>\n",
       "      <th>4</th>\n",
       "      <td>4</td>\n",
       "      <td>91036e09f49a73fa40673a1071f8bc63f8cddc2f</td>\n",
       "      <td>commons-daemon</td>\n",
       "      <td>87</td>\n",
       "      <td>23.0</td>\n",
       "      <td>153</td>\n",
       "      <td>1.8</td>\n",
       "      <td>57.4</td>\n",
       "      <td>201</td>\n",
       "      <td>5</td>\n",
       "      <td>...</td>\n",
       "      <td>60</td>\n",
       "      <td>196</td>\n",
       "      <td>5</td>\n",
       "      <td>0</td>\n",
       "      <td>127</td>\n",
       "      <td>916</td>\n",
       "      <td>2007</td>\n",
       "      <td>7.3</td>\n",
       "      <td>85</td>\n",
       "      <td>0</td>\n",
       "    </tr>\n",
       "  </tbody>\n",
       "</table>\n",
       "<p>5 rows × 23 columns</p>\n",
       "</div>"
      ],
      "text/plain": [
       "   Unnamed: 0                                commitHash       projectID  \\\n",
       "0           0  5e90dbea078fca205d913efc8e61ba278c5f39d8  commons-daemon   \n",
       "1           1  6c0eafee28fc5c8ab69215df31dc4f07c5579a34  commons-daemon   \n",
       "2           2  7b73ce30f32318b99056fee53397c08063d6f661  commons-daemon   \n",
       "3           3  7c9d9cde24a00cde7e584136355ce5e048e11e5e  commons-daemon   \n",
       "4           4  91036e09f49a73fa40673a1071f8bc63f8cddc2f  commons-daemon   \n",
       "\n",
       "   functions  commentLinesDensity  complexity  functionComplexity  \\\n",
       "0         87                 23.0         153                 1.8   \n",
       "1         87                 23.0         153                 1.8   \n",
       "2         87                 23.0         153                 1.8   \n",
       "3         87                 23.0         153                 1.8   \n",
       "4         87                 23.0         153                 1.8   \n",
       "\n",
       "   duplicatedLinesDensity  violations  blockerViolations  ...  \\\n",
       "0                    57.4         201                  5  ...   \n",
       "1                    57.4         201                  5  ...   \n",
       "2                    57.4         201                  5  ...   \n",
       "3                    57.4         201                  5  ...   \n",
       "4                    57.4         201                  5  ...   \n",
       "\n",
       "   minorViolations  codeSmells  bugs  vulnerabilities  cognitiveComplexity  \\\n",
       "0               60         196     5                0                  127   \n",
       "1               60         196     5                0                  127   \n",
       "2               60         196     5                0                  127   \n",
       "3               60         196     5                0                  127   \n",
       "4               60         196     5                0                  127   \n",
       "\n",
       "   ncloc  sqaleIndex  sqaleDebtRatio  reliabilityRemediationEffort  \\\n",
       "0    916        2007             7.3                            85   \n",
       "1    916        2007             7.3                            85   \n",
       "2    916        2007             7.3                            85   \n",
       "3    916        2007             7.3                            85   \n",
       "4    916        2007             7.3                            85   \n",
       "\n",
       "   securityRemediationEffort  \n",
       "0                          0  \n",
       "1                          0  \n",
       "2                          0  \n",
       "3                          0  \n",
       "4                          0  \n",
       "\n",
       "[5 rows x 23 columns]"
      ]
     },
     "execution_count": 2,
     "metadata": {},
     "output_type": "execute_result"
    }
   ],
   "source": [
    "sonarMeasures = pd.read_csv(\"../../../data/interim/DataPreparation/SelectData/SONAR_MEASURES_select.csv\")\n",
    "print(sonarMeasures.shape)\n",
    "sonarMeasures.head()"
   ]
  },
  {
   "cell_type": "markdown",
   "metadata": {
    "id": "j-R4leLHiNv0"
   },
   "source": [
    "We define a function that returns, given two lists, their intersection."
   ]
  },
  {
   "cell_type": "code",
   "execution_count": 3,
   "metadata": {
    "id": "LFXVd-5jqk4n"
   },
   "outputs": [],
   "source": [
    "def intersection(l1, l2):\n",
    "  temp = set(l2)\n",
    "  l3 = [value for value in l1 if value in temp]\n",
    "  return l3"
   ]
  },
  {
   "cell_type": "markdown",
   "metadata": {
    "id": "SpKE0QE6iQTk"
   },
   "source": [
    "Next, for each attribute, we treat the missing values."
   ]
  },
  {
   "cell_type": "markdown",
   "metadata": {
    "id": "R9wxo-SvjVb5"
   },
   "source": [
    "#### commitHash"
   ]
  },
  {
   "cell_type": "code",
   "execution_count": 4,
   "metadata": {
    "colab": {
     "base_uri": "https://localhost:8080/",
     "height": 34
    },
    "executionInfo": {
     "elapsed": 914,
     "status": "ok",
     "timestamp": 1602780458464,
     "user": {
      "displayName": "Laia Albors Zumel",
      "photoUrl": "",
      "userId": "07110507271504138336"
     },
     "user_tz": -120
    },
    "id": "cv3yJqCVjYAs",
    "outputId": "393712f0-2991-47f7-d793-4e649d9815f3"
   },
   "outputs": [
    {
     "data": {
      "text/plain": [
       "55629"
      ]
     },
     "execution_count": 4,
     "metadata": {},
     "output_type": "execute_result"
    }
   ],
   "source": [
    "len(sonarMeasures.commitHash.unique())"
   ]
  },
  {
   "cell_type": "code",
   "execution_count": 5,
   "metadata": {
    "colab": {
     "base_uri": "https://localhost:8080/",
     "height": 34
    },
    "executionInfo": {
     "elapsed": 680,
     "status": "ok",
     "timestamp": 1602780458464,
     "user": {
      "displayName": "Laia Albors Zumel",
      "photoUrl": "",
      "userId": "07110507271504138336"
     },
     "user_tz": -120
    },
    "id": "YMquzHErjfp8",
    "outputId": "5915517c-7ba1-4cf1-b823-78eba91d0691"
   },
   "outputs": [
    {
     "data": {
      "text/plain": [
       "0"
      ]
     },
     "execution_count": 5,
     "metadata": {},
     "output_type": "execute_result"
    }
   ],
   "source": [
    "commitHashNan = list(np.where(sonarMeasures.commitHash.isna()))[0]\n",
    "len(commitHashNan)"
   ]
  },
  {
   "cell_type": "markdown",
   "metadata": {
    "id": "FY8OHtOwsX6o"
   },
   "source": [
    "#### projectID"
   ]
  },
  {
   "cell_type": "code",
   "execution_count": 6,
   "metadata": {
    "colab": {
     "base_uri": "https://localhost:8080/",
     "height": 34
    },
    "executionInfo": {
     "elapsed": 927,
     "status": "ok",
     "timestamp": 1602780459353,
     "user": {
      "displayName": "Laia Albors Zumel",
      "photoUrl": "",
      "userId": "07110507271504138336"
     },
     "user_tz": -120
    },
    "id": "Jgzb5qJHsZvf",
    "outputId": "4c289ab0-f14a-40f3-b201-05ba3caf2991"
   },
   "outputs": [
    {
     "data": {
      "text/plain": [
       "33"
      ]
     },
     "execution_count": 6,
     "metadata": {},
     "output_type": "execute_result"
    }
   ],
   "source": [
    "len(sonarMeasures.projectID.unique())"
   ]
  },
  {
   "cell_type": "code",
   "execution_count": 7,
   "metadata": {
    "colab": {
     "base_uri": "https://localhost:8080/",
     "height": 34
    },
    "executionInfo": {
     "elapsed": 718,
     "status": "ok",
     "timestamp": 1602780459353,
     "user": {
      "displayName": "Laia Albors Zumel",
      "photoUrl": "",
      "userId": "07110507271504138336"
     },
     "user_tz": -120
    },
    "id": "VxBQnqi5se3i",
    "outputId": "4d084f43-868a-4936-e230-57874375a19f"
   },
   "outputs": [
    {
     "data": {
      "text/plain": [
       "0"
      ]
     },
     "execution_count": 7,
     "metadata": {},
     "output_type": "execute_result"
    }
   ],
   "source": [
    "projectIDNan = list(np.where(sonarMeasures.projectID.isna()))[0]\n",
    "len(projectIDNan)"
   ]
  },
  {
   "cell_type": "markdown",
   "metadata": {
    "id": "xyjsViq_sIVa"
   },
   "source": [
    "#### functions"
   ]
  },
  {
   "cell_type": "code",
   "execution_count": 8,
   "metadata": {
    "colab": {
     "base_uri": "https://localhost:8080/",
     "height": 34
    },
    "executionInfo": {
     "elapsed": 529,
     "status": "ok",
     "timestamp": 1602780459705,
     "user": {
      "displayName": "Laia Albors Zumel",
      "photoUrl": "",
      "userId": "07110507271504138336"
     },
     "user_tz": -120
    },
    "id": "eL0MKykdsK1K",
    "outputId": "01094299-edcc-4adc-a22e-4e2439153258"
   },
   "outputs": [
    {
     "data": {
      "text/plain": [
       "0"
      ]
     },
     "execution_count": 8,
     "metadata": {},
     "output_type": "execute_result"
    }
   ],
   "source": [
    "functionsNan = list(np.where(sonarMeasures.functions.isna()))[0]\n",
    "len(functionsNan)"
   ]
  },
  {
   "cell_type": "markdown",
   "metadata": {
    "id": "HqG8ii-dkA7N"
   },
   "source": [
    "#### commentLinesDensity"
   ]
  },
  {
   "cell_type": "code",
   "execution_count": 9,
   "metadata": {
    "colab": {
     "base_uri": "https://localhost:8080/",
     "height": 34
    },
    "executionInfo": {
     "elapsed": 656,
     "status": "ok",
     "timestamp": 1602780460205,
     "user": {
      "displayName": "Laia Albors Zumel",
      "photoUrl": "",
      "userId": "07110507271504138336"
     },
     "user_tz": -120
    },
    "id": "7y5wBzuOkBwM",
    "outputId": "f3918589-752d-4e0c-f178-399e884b233e"
   },
   "outputs": [
    {
     "data": {
      "text/plain": [
       "0"
      ]
     },
     "execution_count": 9,
     "metadata": {},
     "output_type": "execute_result"
    }
   ],
   "source": [
    "commentLinesDensityNan = list(np.where(sonarMeasures.commentLinesDensity.isna()))[0]\n",
    "len(commentLinesDensityNan)"
   ]
  },
  {
   "cell_type": "markdown",
   "metadata": {
    "id": "lGDqbDyRkRxd"
   },
   "source": [
    "#### complexity"
   ]
  },
  {
   "cell_type": "code",
   "execution_count": 10,
   "metadata": {
    "colab": {
     "base_uri": "https://localhost:8080/",
     "height": 34
    },
    "executionInfo": {
     "elapsed": 936,
     "status": "ok",
     "timestamp": 1602780461022,
     "user": {
      "displayName": "Laia Albors Zumel",
      "photoUrl": "",
      "userId": "07110507271504138336"
     },
     "user_tz": -120
    },
    "id": "9MoI6GRvkTM3",
    "outputId": "cb66aa30-dbff-4d2b-a459-6300e4863e55"
   },
   "outputs": [
    {
     "data": {
      "text/plain": [
       "0"
      ]
     },
     "execution_count": 10,
     "metadata": {},
     "output_type": "execute_result"
    }
   ],
   "source": [
    "complexityNan = list(np.where(sonarMeasures.complexity.isna()))[0]\n",
    "len(complexityNan)"
   ]
  },
  {
   "cell_type": "markdown",
   "metadata": {
    "id": "Kdh0oj4Hkhur"
   },
   "source": [
    "#### functionComplexity"
   ]
  },
  {
   "cell_type": "code",
   "execution_count": 11,
   "metadata": {
    "colab": {
     "base_uri": "https://localhost:8080/",
     "height": 34
    },
    "executionInfo": {
     "elapsed": 607,
     "status": "ok",
     "timestamp": 1602780461023,
     "user": {
      "displayName": "Laia Albors Zumel",
      "photoUrl": "",
      "userId": "07110507271504138336"
     },
     "user_tz": -120
    },
    "id": "J4fWD2aYkjlc",
    "outputId": "789aa9c4-27fd-46a8-baab-6aaafa631426"
   },
   "outputs": [
    {
     "data": {
      "text/plain": [
       "0"
      ]
     },
     "execution_count": 11,
     "metadata": {},
     "output_type": "execute_result"
    }
   ],
   "source": [
    "functionComplexityNan = list(np.where(sonarMeasures.functionComplexity.isna()))[0]\n",
    "len(functionComplexityNan)"
   ]
  },
  {
   "cell_type": "markdown",
   "metadata": {
    "id": "hrPhUYw2k4F1"
   },
   "source": [
    "#### duplicatedLinesDensity"
   ]
  },
  {
   "cell_type": "code",
   "execution_count": 12,
   "metadata": {
    "colab": {
     "base_uri": "https://localhost:8080/",
     "height": 34
    },
    "executionInfo": {
     "elapsed": 841,
     "status": "ok",
     "timestamp": 1602780461648,
     "user": {
      "displayName": "Laia Albors Zumel",
      "photoUrl": "",
      "userId": "07110507271504138336"
     },
     "user_tz": -120
    },
    "id": "SNPwmtu9k3e5",
    "outputId": "656169b1-7c0a-45e8-94f8-005787bc8f15"
   },
   "outputs": [
    {
     "data": {
      "text/plain": [
       "0"
      ]
     },
     "execution_count": 12,
     "metadata": {},
     "output_type": "execute_result"
    }
   ],
   "source": [
    "duplicatedLinesDensityNan = list(np.where(sonarMeasures.duplicatedLinesDensity.isna()))[0]\n",
    "len(duplicatedLinesDensityNan)"
   ]
  },
  {
   "cell_type": "markdown",
   "metadata": {
    "id": "8pAc0FEVlOCb"
   },
   "source": [
    "#### violations"
   ]
  },
  {
   "cell_type": "code",
   "execution_count": 13,
   "metadata": {
    "colab": {
     "base_uri": "https://localhost:8080/",
     "height": 34
    },
    "executionInfo": {
     "elapsed": 961,
     "status": "ok",
     "timestamp": 1602780462320,
     "user": {
      "displayName": "Laia Albors Zumel",
      "photoUrl": "",
      "userId": "07110507271504138336"
     },
     "user_tz": -120
    },
    "id": "Gnbya5lxlPhM",
    "outputId": "491725d6-649c-4cfd-af21-d5b6a0d0750a"
   },
   "outputs": [
    {
     "data": {
      "text/plain": [
       "0"
      ]
     },
     "execution_count": 13,
     "metadata": {},
     "output_type": "execute_result"
    }
   ],
   "source": [
    "violationsNan = list(np.where(sonarMeasures.violations.isna()))[0]\n",
    "len(violationsNan)"
   ]
  },
  {
   "cell_type": "markdown",
   "metadata": {
    "id": "RZug8jdClsxl"
   },
   "source": [
    "#### blockerViolations"
   ]
  },
  {
   "cell_type": "code",
   "execution_count": 14,
   "metadata": {
    "colab": {
     "base_uri": "https://localhost:8080/",
     "height": 34
    },
    "executionInfo": {
     "elapsed": 648,
     "status": "ok",
     "timestamp": 1602780462321,
     "user": {
      "displayName": "Laia Albors Zumel",
      "photoUrl": "",
      "userId": "07110507271504138336"
     },
     "user_tz": -120
    },
    "id": "dtiotIQNlt-B",
    "outputId": "cfc2d02c-1c3d-47f7-f65f-f7ed9f43bf8a"
   },
   "outputs": [
    {
     "data": {
      "text/plain": [
       "0"
      ]
     },
     "execution_count": 14,
     "metadata": {},
     "output_type": "execute_result"
    }
   ],
   "source": [
    "blockerViolationsNan = list(np.where(sonarMeasures.blockerViolations.isna()))[0]\n",
    "len(blockerViolationsNan)"
   ]
  },
  {
   "cell_type": "markdown",
   "metadata": {
    "id": "bgoZxUh9l21X"
   },
   "source": [
    "#### criticalViolations"
   ]
  },
  {
   "cell_type": "code",
   "execution_count": 15,
   "metadata": {
    "colab": {
     "base_uri": "https://localhost:8080/",
     "height": 34
    },
    "executionInfo": {
     "elapsed": 915,
     "status": "ok",
     "timestamp": 1602780463163,
     "user": {
      "displayName": "Laia Albors Zumel",
      "photoUrl": "",
      "userId": "07110507271504138336"
     },
     "user_tz": -120
    },
    "id": "MGMpe3ADl50l",
    "outputId": "c97253b7-615a-42dd-edb1-46de1d6af048"
   },
   "outputs": [
    {
     "data": {
      "text/plain": [
       "0"
      ]
     },
     "execution_count": 15,
     "metadata": {},
     "output_type": "execute_result"
    }
   ],
   "source": [
    "criticalViolationsNan = list(np.where(sonarMeasures.criticalViolations.isna()))[0]\n",
    "len(criticalViolationsNan)"
   ]
  },
  {
   "cell_type": "markdown",
   "metadata": {
    "id": "7PdsMrjnmBEE"
   },
   "source": [
    "#### infoViolations"
   ]
  },
  {
   "cell_type": "code",
   "execution_count": 16,
   "metadata": {
    "colab": {
     "base_uri": "https://localhost:8080/",
     "height": 34
    },
    "executionInfo": {
     "elapsed": 556,
     "status": "ok",
     "timestamp": 1602780463164,
     "user": {
      "displayName": "Laia Albors Zumel",
      "photoUrl": "",
      "userId": "07110507271504138336"
     },
     "user_tz": -120
    },
    "id": "GuyrFL_FmCY8",
    "outputId": "f22cce67-14a3-4d84-c8b9-e9d842f0e4ba"
   },
   "outputs": [
    {
     "data": {
      "text/plain": [
       "0"
      ]
     },
     "execution_count": 16,
     "metadata": {},
     "output_type": "execute_result"
    }
   ],
   "source": [
    "infoViolationsNan = list(np.where(sonarMeasures.infoViolations.isna()))[0]\n",
    "len(infoViolationsNan)"
   ]
  },
  {
   "cell_type": "markdown",
   "metadata": {
    "id": "93CG7gOMmIzM"
   },
   "source": [
    "#### majorViolations"
   ]
  },
  {
   "cell_type": "code",
   "execution_count": 17,
   "metadata": {
    "colab": {
     "base_uri": "https://localhost:8080/",
     "height": 34
    },
    "executionInfo": {
     "elapsed": 917,
     "status": "ok",
     "timestamp": 1602780464144,
     "user": {
      "displayName": "Laia Albors Zumel",
      "photoUrl": "",
      "userId": "07110507271504138336"
     },
     "user_tz": -120
    },
    "id": "vypc4qCQmLSn",
    "outputId": "17b89cd9-ba14-4e54-f648-f1617e44e1dd"
   },
   "outputs": [
    {
     "data": {
      "text/plain": [
       "0"
      ]
     },
     "execution_count": 17,
     "metadata": {},
     "output_type": "execute_result"
    }
   ],
   "source": [
    "majorViolationsNan = list(np.where(sonarMeasures.majorViolations.isna()))[0]\n",
    "len(majorViolationsNan)"
   ]
  },
  {
   "cell_type": "markdown",
   "metadata": {
    "id": "qaOupzuXmRa6"
   },
   "source": [
    "#### minorViolations"
   ]
  },
  {
   "cell_type": "code",
   "execution_count": 18,
   "metadata": {
    "colab": {
     "base_uri": "https://localhost:8080/",
     "height": 34
    },
    "executionInfo": {
     "elapsed": 594,
     "status": "ok",
     "timestamp": 1602780464145,
     "user": {
      "displayName": "Laia Albors Zumel",
      "photoUrl": "",
      "userId": "07110507271504138336"
     },
     "user_tz": -120
    },
    "id": "_dNAm-zAmTi8",
    "outputId": "21123576-966b-432a-8d93-516f2d22415a"
   },
   "outputs": [
    {
     "data": {
      "text/plain": [
       "0"
      ]
     },
     "execution_count": 18,
     "metadata": {},
     "output_type": "execute_result"
    }
   ],
   "source": [
    "minorViolationsNan = list(np.where(sonarMeasures.minorViolations.isna()))[0]\n",
    "len(minorViolationsNan)"
   ]
  },
  {
   "cell_type": "markdown",
   "metadata": {
    "id": "tOIwNoa7mXuz"
   },
   "source": [
    "#### codeSmells"
   ]
  },
  {
   "cell_type": "code",
   "execution_count": 19,
   "metadata": {
    "colab": {
     "base_uri": "https://localhost:8080/",
     "height": 34
    },
    "executionInfo": {
     "elapsed": 783,
     "status": "ok",
     "timestamp": 1602780465067,
     "user": {
      "displayName": "Laia Albors Zumel",
      "photoUrl": "",
      "userId": "07110507271504138336"
     },
     "user_tz": -120
    },
    "id": "d15h8675mdNj",
    "outputId": "44a0e07a-51ab-4d4c-97b9-8b2d7b608b1c"
   },
   "outputs": [
    {
     "data": {
      "text/plain": [
       "0"
      ]
     },
     "execution_count": 19,
     "metadata": {},
     "output_type": "execute_result"
    }
   ],
   "source": [
    "codeSmellsNan = list(np.where(sonarMeasures.codeSmells.isna()))[0]\n",
    "len(codeSmellsNan)"
   ]
  },
  {
   "cell_type": "markdown",
   "metadata": {
    "id": "-eSkAdatmjIy"
   },
   "source": [
    "#### bugs"
   ]
  },
  {
   "cell_type": "code",
   "execution_count": 20,
   "metadata": {
    "colab": {
     "base_uri": "https://localhost:8080/",
     "height": 34
    },
    "executionInfo": {
     "elapsed": 975,
     "status": "ok",
     "timestamp": 1602780466023,
     "user": {
      "displayName": "Laia Albors Zumel",
      "photoUrl": "",
      "userId": "07110507271504138336"
     },
     "user_tz": -120
    },
    "id": "XrydfnhxmkaZ",
    "outputId": "74fc5c32-d8a1-4778-d67d-724bedd682b3"
   },
   "outputs": [
    {
     "data": {
      "text/plain": [
       "0"
      ]
     },
     "execution_count": 20,
     "metadata": {},
     "output_type": "execute_result"
    }
   ],
   "source": [
    "bugsNan = list(np.where(sonarMeasures.bugs.isna()))[0]\n",
    "len(bugsNan)"
   ]
  },
  {
   "cell_type": "markdown",
   "metadata": {
    "id": "R-ubDnpSmpID"
   },
   "source": [
    "#### vulnerabilities"
   ]
  },
  {
   "cell_type": "code",
   "execution_count": 21,
   "metadata": {
    "colab": {
     "base_uri": "https://localhost:8080/",
     "height": 34
    },
    "executionInfo": {
     "elapsed": 537,
     "status": "ok",
     "timestamp": 1602780466024,
     "user": {
      "displayName": "Laia Albors Zumel",
      "photoUrl": "",
      "userId": "07110507271504138336"
     },
     "user_tz": -120
    },
    "id": "VvfqE2gWmqa2",
    "outputId": "9543b0b3-e96a-4b98-a7d8-311200b0e65b"
   },
   "outputs": [
    {
     "data": {
      "text/plain": [
       "0"
      ]
     },
     "execution_count": 21,
     "metadata": {},
     "output_type": "execute_result"
    }
   ],
   "source": [
    "vulnerabilitiesNan = list(np.where(sonarMeasures.vulnerabilities.isna()))[0]\n",
    "len(vulnerabilitiesNan)"
   ]
  },
  {
   "cell_type": "markdown",
   "metadata": {
    "id": "ISd91e3KnHgJ"
   },
   "source": [
    "#### cognitiveComplexity"
   ]
  },
  {
   "cell_type": "code",
   "execution_count": 22,
   "metadata": {
    "colab": {
     "base_uri": "https://localhost:8080/",
     "height": 34
    },
    "executionInfo": {
     "elapsed": 482,
     "status": "ok",
     "timestamp": 1602780466372,
     "user": {
      "displayName": "Laia Albors Zumel",
      "photoUrl": "",
      "userId": "07110507271504138336"
     },
     "user_tz": -120
    },
    "id": "e61NRD_TnIzB",
    "outputId": "3f834b7e-d652-46fe-e7ac-530bc48c7933"
   },
   "outputs": [
    {
     "data": {
      "text/plain": [
       "0"
      ]
     },
     "execution_count": 22,
     "metadata": {},
     "output_type": "execute_result"
    }
   ],
   "source": [
    "cognitiveComplexityNan = list(np.where(sonarMeasures.cognitiveComplexity.isna()))[0]\n",
    "len(cognitiveComplexityNan)"
   ]
  },
  {
   "cell_type": "markdown",
   "metadata": {
    "id": "p8i6T3RNnMuk"
   },
   "source": [
    "#### ncloc"
   ]
  },
  {
   "cell_type": "code",
   "execution_count": 23,
   "metadata": {
    "colab": {
     "base_uri": "https://localhost:8080/",
     "height": 34
    },
    "executionInfo": {
     "elapsed": 811,
     "status": "ok",
     "timestamp": 1602780467235,
     "user": {
      "displayName": "Laia Albors Zumel",
      "photoUrl": "",
      "userId": "07110507271504138336"
     },
     "user_tz": -120
    },
    "id": "mKblJOx4nPXS",
    "outputId": "db9c6b88-468e-49cd-e09e-846d254c446e"
   },
   "outputs": [
    {
     "data": {
      "text/plain": [
       "0"
      ]
     },
     "execution_count": 23,
     "metadata": {},
     "output_type": "execute_result"
    }
   ],
   "source": [
    "nclocNan = list(np.where(sonarMeasures.ncloc.isna()))[0]\n",
    "len(nclocNan)"
   ]
  },
  {
   "cell_type": "markdown",
   "metadata": {
    "id": "l4az9yGnnVBB"
   },
   "source": [
    "#### sqaleIndex"
   ]
  },
  {
   "cell_type": "code",
   "execution_count": 24,
   "metadata": {
    "colab": {
     "base_uri": "https://localhost:8080/",
     "height": 34
    },
    "executionInfo": {
     "elapsed": 889,
     "status": "ok",
     "timestamp": 1602780468041,
     "user": {
      "displayName": "Laia Albors Zumel",
      "photoUrl": "",
      "userId": "07110507271504138336"
     },
     "user_tz": -120
    },
    "id": "eQIw__iCnUM9",
    "outputId": "d2c4fa6e-bb81-46ab-db93-cfc97ce7bb3c"
   },
   "outputs": [
    {
     "data": {
      "text/plain": [
       "0"
      ]
     },
     "execution_count": 24,
     "metadata": {},
     "output_type": "execute_result"
    }
   ],
   "source": [
    "sqaleIndexNan = list(np.where(sonarMeasures.sqaleIndex.isna()))[0]\n",
    "len(sqaleIndexNan)"
   ]
  },
  {
   "cell_type": "markdown",
   "metadata": {
    "id": "UiGAk-dxnbWU"
   },
   "source": [
    "#### sqaleDebtRatio"
   ]
  },
  {
   "cell_type": "code",
   "execution_count": 25,
   "metadata": {
    "colab": {
     "base_uri": "https://localhost:8080/",
     "height": 34
    },
    "executionInfo": {
     "elapsed": 575,
     "status": "ok",
     "timestamp": 1602780468042,
     "user": {
      "displayName": "Laia Albors Zumel",
      "photoUrl": "",
      "userId": "07110507271504138336"
     },
     "user_tz": -120
    },
    "id": "IirW8meBnesE",
    "outputId": "6f817b7a-3bf2-4e41-d899-488c24a6a216"
   },
   "outputs": [
    {
     "data": {
      "text/plain": [
       "0"
      ]
     },
     "execution_count": 25,
     "metadata": {},
     "output_type": "execute_result"
    }
   ],
   "source": [
    "sqaleDebtRatioNan = list(np.where(sonarMeasures.sqaleDebtRatio.isna()))[0]\n",
    "len(sqaleDebtRatioNan)"
   ]
  },
  {
   "cell_type": "markdown",
   "metadata": {
    "id": "6B4SSRnanlPA"
   },
   "source": [
    "#### reliabilityRemediationEffort"
   ]
  },
  {
   "cell_type": "code",
   "execution_count": 26,
   "metadata": {
    "colab": {
     "base_uri": "https://localhost:8080/",
     "height": 34
    },
    "executionInfo": {
     "elapsed": 879,
     "status": "ok",
     "timestamp": 1602780468874,
     "user": {
      "displayName": "Laia Albors Zumel",
      "photoUrl": "",
      "userId": "07110507271504138336"
     },
     "user_tz": -120
    },
    "id": "9wRO_NTDnn2q",
    "outputId": "337cf135-a3e5-4926-9be1-c9e82fdf1de8"
   },
   "outputs": [
    {
     "data": {
      "text/plain": [
       "0"
      ]
     },
     "execution_count": 26,
     "metadata": {},
     "output_type": "execute_result"
    }
   ],
   "source": [
    "reliabilityRemediationEffortNan = list(np.where(sonarMeasures.reliabilityRemediationEffort.isna()))[0]\n",
    "len(reliabilityRemediationEffortNan)"
   ]
  },
  {
   "cell_type": "markdown",
   "metadata": {
    "id": "4vfdHARDRBBq"
   },
   "source": [
    "#### securityRemediationEffort"
   ]
  },
  {
   "cell_type": "code",
   "execution_count": 27,
   "metadata": {
    "colab": {
     "base_uri": "https://localhost:8080/",
     "height": 34
    },
    "executionInfo": {
     "elapsed": 715,
     "status": "ok",
     "timestamp": 1602780469476,
     "user": {
      "displayName": "Laia Albors Zumel",
      "photoUrl": "",
      "userId": "07110507271504138336"
     },
     "user_tz": -120
    },
    "id": "V-_rPi15RN1d",
    "outputId": "d04575d6-9100-4aef-8afe-033ef7b2d0d8"
   },
   "outputs": [
    {
     "data": {
      "text/plain": [
       "0"
      ]
     },
     "execution_count": 27,
     "metadata": {},
     "output_type": "execute_result"
    }
   ],
   "source": [
    "securityRemediationEffortNan = list(np.where(sonarMeasures.securityRemediationEffort.isna()))[0]\n",
    "len(securityRemediationEffortNan)"
   ]
  },
  {
   "cell_type": "markdown",
   "metadata": {
    "id": "WBofDxOrZ3vQ"
   },
   "source": [
    "---"
   ]
  },
  {
   "cell_type": "markdown",
   "metadata": {
    "id": "CQ8vXyY2iVlK"
   },
   "source": [
    "We save it into a new csv."
   ]
  },
  {
   "cell_type": "code",
   "execution_count": 28,
   "metadata": {
    "id": "P9HmkWZ_wmgQ"
   },
   "outputs": [],
   "source": [
    "sonarMeasures.to_csv('../../../data/interim/DataPreparation/CleanData/SONAR_MEASURES_clean.csv', header=True)"
   ]
  }
 ],
 "metadata": {
  "colab": {
   "collapsed_sections": [],
   "name": "SONAR_MEASURES.ipynb",
   "provenance": []
  },
  "kernelspec": {
   "display_name": "Python 3",
   "language": "python",
   "name": "python3"
  },
  "language_info": {
   "codemirror_mode": {
    "name": "ipython",
    "version": 3
   },
   "file_extension": ".py",
   "mimetype": "text/x-python",
   "name": "python",
   "nbconvert_exporter": "python",
   "pygments_lexer": "ipython3",
   "version": "3.8.3"
  }
 },
 "nbformat": 4,
 "nbformat_minor": 1
}
