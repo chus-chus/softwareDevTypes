{
 "cells": [
  {
   "cell_type": "markdown",
   "metadata": {
    "id": "HNldkyIDf1A2"
   },
   "source": [
    "# **REFACTORING_MINER**\n",
    "\n",
    "This notebook the cleaning of the attributes of the table `REFACTORING_MINER`.\n",
    "\n",
    "First, we import the libraries we need and, then, we read the corresponding csv."
   ]
  },
  {
   "cell_type": "code",
   "execution_count": 1,
   "metadata": {
    "id": "_1jC72O8lmqk"
   },
   "outputs": [],
   "source": [
    "import pandas as pd\n",
    "import numpy as np"
   ]
  },
  {
   "cell_type": "code",
   "execution_count": 2,
   "metadata": {
    "colab": {
     "base_uri": "https://localhost:8080/",
     "height": 221
    },
    "executionInfo": {
     "elapsed": 732,
     "status": "ok",
     "timestamp": 1602780358992,
     "user": {
      "displayName": "Laia Albors Zumel",
      "photoUrl": "",
      "userId": "07110507271504138336"
     },
     "user_tz": -120
    },
    "id": "MVgdjl7Ll_UL",
    "outputId": "e0667730-99ee-41f0-a9a3-5d2db2ee9e5d"
   },
   "outputs": [
    {
     "name": "stdout",
     "output_type": "stream",
     "text": [
      "(57530, 4)\n"
     ]
    },
    {
     "data": {
      "text/html": [
       "<div>\n",
       "<style scoped>\n",
       "    .dataframe tbody tr th:only-of-type {\n",
       "        vertical-align: middle;\n",
       "    }\n",
       "\n",
       "    .dataframe tbody tr th {\n",
       "        vertical-align: top;\n",
       "    }\n",
       "\n",
       "    .dataframe thead th {\n",
       "        text-align: right;\n",
       "    }\n",
       "</style>\n",
       "<table border=\"1\" class=\"dataframe\">\n",
       "  <thead>\n",
       "    <tr style=\"text-align: right;\">\n",
       "      <th></th>\n",
       "      <th>Unnamed: 0</th>\n",
       "      <th>projectID</th>\n",
       "      <th>commitHash</th>\n",
       "      <th>refactoringType</th>\n",
       "    </tr>\n",
       "  </thead>\n",
       "  <tbody>\n",
       "    <tr>\n",
       "      <th>0</th>\n",
       "      <td>0</td>\n",
       "      <td>accumulo</td>\n",
       "      <td>4093a3015d6b789888077e317e535df4c8102e5d</td>\n",
       "      <td>Extract Method</td>\n",
       "    </tr>\n",
       "    <tr>\n",
       "      <th>1</th>\n",
       "      <td>1</td>\n",
       "      <td>accumulo</td>\n",
       "      <td>123bd993cff822e02242197a24f47ee36bfa3744</td>\n",
       "      <td>Extract Variable</td>\n",
       "    </tr>\n",
       "    <tr>\n",
       "      <th>2</th>\n",
       "      <td>2</td>\n",
       "      <td>accumulo</td>\n",
       "      <td>8c04c6ae5e5ba1432e40684428338ce68431766b</td>\n",
       "      <td>Extract Variable</td>\n",
       "    </tr>\n",
       "    <tr>\n",
       "      <th>3</th>\n",
       "      <td>3</td>\n",
       "      <td>accumulo</td>\n",
       "      <td>812f18b4534ae1eec41845a70a53adb783e77d61</td>\n",
       "      <td>Rename Variable</td>\n",
       "    </tr>\n",
       "    <tr>\n",
       "      <th>4</th>\n",
       "      <td>4</td>\n",
       "      <td>accumulo</td>\n",
       "      <td>812f18b4534ae1eec41845a70a53adb783e77d61</td>\n",
       "      <td>Rename Variable</td>\n",
       "    </tr>\n",
       "  </tbody>\n",
       "</table>\n",
       "</div>"
      ],
      "text/plain": [
       "   Unnamed: 0 projectID                                commitHash  \\\n",
       "0           0  accumulo  4093a3015d6b789888077e317e535df4c8102e5d   \n",
       "1           1  accumulo  123bd993cff822e02242197a24f47ee36bfa3744   \n",
       "2           2  accumulo  8c04c6ae5e5ba1432e40684428338ce68431766b   \n",
       "3           3  accumulo  812f18b4534ae1eec41845a70a53adb783e77d61   \n",
       "4           4  accumulo  812f18b4534ae1eec41845a70a53adb783e77d61   \n",
       "\n",
       "    refactoringType  \n",
       "0    Extract Method  \n",
       "1  Extract Variable  \n",
       "2  Extract Variable  \n",
       "3   Rename Variable  \n",
       "4   Rename Variable  "
      ]
     },
     "execution_count": 2,
     "metadata": {},
     "output_type": "execute_result"
    }
   ],
   "source": [
    "refactoringMiner = pd.read_csv(\"../../../data/interim/DataPreparation/SelectData/REFACTORING_MINER_select.csv\")\n",
    "print(refactoringMiner.shape)\n",
    "refactoringMiner.head()"
   ]
  },
  {
   "cell_type": "markdown",
   "metadata": {
    "id": "UoJinUDRf583"
   },
   "source": [
    "We define a function that returns, given two lists, their intersection."
   ]
  },
  {
   "cell_type": "code",
   "execution_count": 3,
   "metadata": {
    "id": "LFXVd-5jqk4n"
   },
   "outputs": [],
   "source": [
    "def intersection(l1, l2):\n",
    "  temp = set(l2)\n",
    "  l3 = [value for value in l1 if value in temp]\n",
    "  return l3"
   ]
  },
  {
   "cell_type": "markdown",
   "metadata": {
    "id": "T3wSwcozf6j3"
   },
   "source": [
    "Next, for each attribute, we treat the missing values."
   ]
  },
  {
   "cell_type": "markdown",
   "metadata": {
    "id": "FY8OHtOwsX6o"
   },
   "source": [
    "#### projectID"
   ]
  },
  {
   "cell_type": "code",
   "execution_count": 4,
   "metadata": {
    "colab": {
     "base_uri": "https://localhost:8080/",
     "height": 34
    },
    "executionInfo": {
     "elapsed": 673,
     "status": "ok",
     "timestamp": 1602780359556,
     "user": {
      "displayName": "Laia Albors Zumel",
      "photoUrl": "",
      "userId": "07110507271504138336"
     },
     "user_tz": -120
    },
    "id": "Jgzb5qJHsZvf",
    "outputId": "0ae1142b-97ff-4cbe-d94d-0c9ecf53f69a"
   },
   "outputs": [
    {
     "data": {
      "text/plain": [
       "33"
      ]
     },
     "execution_count": 4,
     "metadata": {},
     "output_type": "execute_result"
    }
   ],
   "source": [
    "len(refactoringMiner.projectID.unique())"
   ]
  },
  {
   "cell_type": "code",
   "execution_count": 5,
   "metadata": {
    "colab": {
     "base_uri": "https://localhost:8080/",
     "height": 34
    },
    "executionInfo": {
     "elapsed": 565,
     "status": "ok",
     "timestamp": 1602780359907,
     "user": {
      "displayName": "Laia Albors Zumel",
      "photoUrl": "",
      "userId": "07110507271504138336"
     },
     "user_tz": -120
    },
    "id": "VxBQnqi5se3i",
    "outputId": "cf32756f-4300-4e35-bb79-407e27066569"
   },
   "outputs": [
    {
     "data": {
      "text/plain": [
       "0"
      ]
     },
     "execution_count": 5,
     "metadata": {},
     "output_type": "execute_result"
    }
   ],
   "source": [
    "projectIDNan = list(np.where(refactoringMiner.projectID.isna()))[0]\n",
    "len(projectIDNan)"
   ]
  },
  {
   "cell_type": "markdown",
   "metadata": {
    "id": "DvvNicqnsm4v"
   },
   "source": [
    "#### commitHash"
   ]
  },
  {
   "cell_type": "code",
   "execution_count": 6,
   "metadata": {
    "colab": {
     "base_uri": "https://localhost:8080/",
     "height": 34
    },
    "executionInfo": {
     "elapsed": 704,
     "status": "ok",
     "timestamp": 1602780360825,
     "user": {
      "displayName": "Laia Albors Zumel",
      "photoUrl": "",
      "userId": "07110507271504138336"
     },
     "user_tz": -120
    },
    "id": "GcbxHdE1sm4x",
    "outputId": "7491d63e-9f27-4052-a41b-a092d2f0fcd6"
   },
   "outputs": [
    {
     "data": {
      "text/plain": [
       "11699"
      ]
     },
     "execution_count": 6,
     "metadata": {},
     "output_type": "execute_result"
    }
   ],
   "source": [
    "len(refactoringMiner.commitHash.unique())"
   ]
  },
  {
   "cell_type": "code",
   "execution_count": 7,
   "metadata": {
    "colab": {
     "base_uri": "https://localhost:8080/",
     "height": 34
    },
    "executionInfo": {
     "elapsed": 429,
     "status": "ok",
     "timestamp": 1602780360826,
     "user": {
      "displayName": "Laia Albors Zumel",
      "photoUrl": "",
      "userId": "07110507271504138336"
     },
     "user_tz": -120
    },
    "id": "63UuZPQ2sm44",
    "outputId": "ccfef158-53dc-4980-aa03-0b3b8f1ec81c"
   },
   "outputs": [
    {
     "data": {
      "text/plain": [
       "2"
      ]
     },
     "execution_count": 7,
     "metadata": {},
     "output_type": "execute_result"
    }
   ],
   "source": [
    "commitHashNan = list(np.where(refactoringMiner.commitHash.isna()))[0]\n",
    "len(commitHashNan)"
   ]
  },
  {
   "cell_type": "markdown",
   "metadata": {
    "id": "GPqBJrwOmJ1m"
   },
   "source": [
    "#### refactoringType"
   ]
  },
  {
   "cell_type": "code",
   "execution_count": 8,
   "metadata": {
    "colab": {
     "base_uri": "https://localhost:8080/",
     "height": 34
    },
    "executionInfo": {
     "elapsed": 968,
     "status": "ok",
     "timestamp": 1602780362259,
     "user": {
      "displayName": "Laia Albors Zumel",
      "photoUrl": "",
      "userId": "07110507271504138336"
     },
     "user_tz": -120
    },
    "id": "vDOIBIuJmH2k",
    "outputId": "58b11185-0734-4193-d309-6344880a49db"
   },
   "outputs": [
    {
     "data": {
      "text/plain": [
       "30"
      ]
     },
     "execution_count": 8,
     "metadata": {},
     "output_type": "execute_result"
    }
   ],
   "source": [
    "len(refactoringMiner.refactoringType.unique())"
   ]
  },
  {
   "cell_type": "code",
   "execution_count": 9,
   "metadata": {
    "colab": {
     "base_uri": "https://localhost:8080/",
     "height": 34
    },
    "executionInfo": {
     "elapsed": 621,
     "status": "ok",
     "timestamp": 1602780362260,
     "user": {
      "displayName": "Laia Albors Zumel",
      "photoUrl": "",
      "userId": "07110507271504138336"
     },
     "user_tz": -120
    },
    "id": "YSVmB8yLoiZE",
    "outputId": "bfea9188-6f76-43bd-8560-8964c0ccfceb"
   },
   "outputs": [
    {
     "data": {
      "text/plain": [
       "2"
      ]
     },
     "execution_count": 9,
     "metadata": {},
     "output_type": "execute_result"
    }
   ],
   "source": [
    "refactoringTypeNan = list(np.where(refactoringMiner.refactoringType.isna()))[0]\n",
    "len(refactoringTypeNan)"
   ]
  },
  {
   "cell_type": "code",
   "execution_count": 10,
   "metadata": {
    "colab": {
     "base_uri": "https://localhost:8080/",
     "height": 34
    },
    "executionInfo": {
     "elapsed": 435,
     "status": "ok",
     "timestamp": 1602780362487,
     "user": {
      "displayName": "Laia Albors Zumel",
      "photoUrl": "",
      "userId": "07110507271504138336"
     },
     "user_tz": -120
    },
    "id": "g5hT7E6krMA0",
    "outputId": "56100fed-eefc-411c-9e72-d7826669eee7"
   },
   "outputs": [
    {
     "data": {
      "text/plain": [
       "2"
      ]
     },
     "execution_count": 10,
     "metadata": {},
     "output_type": "execute_result"
    }
   ],
   "source": [
    "inters = intersection(commitHashNan, refactoringTypeNan)\n",
    "len(inters)"
   ]
  },
  {
   "cell_type": "markdown",
   "metadata": {
    "id": "v_Jlu1ZyszIx"
   },
   "source": [
    "---\n",
    "\n",
    "We remove these rows because they have 2 attributes with a missing value and we can not obtain this information. Finally we will have 57.528 rows."
   ]
  },
  {
   "cell_type": "code",
   "execution_count": 11,
   "metadata": {
    "colab": {
     "base_uri": "https://localhost:8080/",
     "height": 34
    },
    "executionInfo": {
     "elapsed": 702,
     "status": "ok",
     "timestamp": 1602780364141,
     "user": {
      "displayName": "Laia Albors Zumel",
      "photoUrl": "",
      "userId": "07110507271504138336"
     },
     "user_tz": -120
    },
    "id": "syV_3vqms-wM",
    "outputId": "3903c672-0d4b-4495-c2f8-90f6296225f6"
   },
   "outputs": [
    {
     "data": {
      "text/plain": [
       "(57528, 4)"
      ]
     },
     "execution_count": 11,
     "metadata": {},
     "output_type": "execute_result"
    }
   ],
   "source": [
    "refactoringMiner = refactoringMiner.drop(inters)\n",
    "refactoringMiner.shape"
   ]
  },
  {
   "cell_type": "markdown",
   "metadata": {
    "id": "lwDqvI1cf-mT"
   },
   "source": [
    "We save it into a new csv."
   ]
  },
  {
   "cell_type": "code",
   "execution_count": 12,
   "metadata": {
    "id": "P9HmkWZ_wmgQ"
   },
   "outputs": [],
   "source": [
    "refactoringMiner.to_csv('../../../data/interim/DataPreparation/CleanData/REFACTORING_MINER_clean.csv', header=True)"
   ]
  }
 ],
 "metadata": {
  "colab": {
   "collapsed_sections": [],
   "name": "REFACTORING_MINER.ipynb",
   "provenance": []
  },
  "kernelspec": {
   "display_name": "Python 3",
   "language": "python",
   "name": "python3"
  },
  "language_info": {
   "codemirror_mode": {
    "name": "ipython",
    "version": 3
   },
   "file_extension": ".py",
   "mimetype": "text/x-python",
   "name": "python",
   "nbconvert_exporter": "python",
   "pygments_lexer": "ipython3",
   "version": "3.8.3"
  }
 },
 "nbformat": 4,
 "nbformat_minor": 1
}
