{
 "cells": [
  {
   "cell_type": "markdown",
   "metadata": {
    "id": "4M_chdGEG13q"
   },
   "source": [
    "# **COMMITS_FREQUENCY**\n",
    "\n",
    "This notebook the creation of the table `COMMITS_FREQUENCY`, that contains the frequency of commits by commiter, that is, the mean number of days between its commits.\n",
    "\n",
    "First, we import the libraries we need and, then, we read the corresponding csv.\n"
   ]
  },
  {
   "cell_type": "code",
   "execution_count": 1,
   "metadata": {
    "id": "D05IsyrOH4Rb"
   },
   "outputs": [],
   "source": [
    "import pandas as pd\n",
    "import numpy as np"
   ]
  },
  {
   "cell_type": "code",
   "execution_count": 2,
   "metadata": {
    "colab": {
     "base_uri": "https://localhost:8080/",
     "height": 623
    },
    "executionInfo": {
     "elapsed": 2663,
     "status": "ok",
     "timestamp": 1602354449627,
     "user": {
      "displayName": "Laia Albors Zumel",
      "photoUrl": "",
      "userId": "07110507271504138336"
     },
     "user_tz": -120
    },
    "id": "zxtDkBubGvWS",
    "outputId": "c1d606d3-69ec-48f8-9c93-81790707b48d"
   },
   "outputs": [
    {
     "name": "stdout",
     "output_type": "stream",
     "text": [
      "(140653, 7)\n"
     ]
    },
    {
     "data": {
      "text/html": [
       "<div>\n",
       "<style scoped>\n",
       "    .dataframe tbody tr th:only-of-type {\n",
       "        vertical-align: middle;\n",
       "    }\n",
       "\n",
       "    .dataframe tbody tr th {\n",
       "        vertical-align: top;\n",
       "    }\n",
       "\n",
       "    .dataframe thead th {\n",
       "        text-align: right;\n",
       "    }\n",
       "</style>\n",
       "<table border=\"1\" class=\"dataframe\">\n",
       "  <thead>\n",
       "    <tr style=\"text-align: right;\">\n",
       "      <th></th>\n",
       "      <th>Unnamed: 0</th>\n",
       "      <th>Unnamed: 0.1</th>\n",
       "      <th>projectID</th>\n",
       "      <th>commitHash</th>\n",
       "      <th>author</th>\n",
       "      <th>committer</th>\n",
       "      <th>committerDate</th>\n",
       "    </tr>\n",
       "  </thead>\n",
       "  <tbody>\n",
       "    <tr>\n",
       "      <th>0</th>\n",
       "      <td>0</td>\n",
       "      <td>0</td>\n",
       "      <td>accumulo</td>\n",
       "      <td>e0880e263e4bf8662ba3848405200473a25dfc9f</td>\n",
       "      <td>Keith Turner</td>\n",
       "      <td>Keith Turner</td>\n",
       "      <td>2011-10-04T00:46:07Z</td>\n",
       "    </tr>\n",
       "    <tr>\n",
       "      <th>1</th>\n",
       "      <td>1</td>\n",
       "      <td>1</td>\n",
       "      <td>accumulo</td>\n",
       "      <td>e8774c5ec3a35e042f320540b5f7e66ebd2d9e87</td>\n",
       "      <td>Billie Rinaldi</td>\n",
       "      <td>Billie Rinaldi</td>\n",
       "      <td>2011-10-04T16:57:13Z</td>\n",
       "    </tr>\n",
       "    <tr>\n",
       "      <th>2</th>\n",
       "      <td>2</td>\n",
       "      <td>2</td>\n",
       "      <td>accumulo</td>\n",
       "      <td>2032ebbd0ed90734da39ca238bbd10dee24d0030</td>\n",
       "      <td>Keith Turner</td>\n",
       "      <td>Keith Turner</td>\n",
       "      <td>2011-10-04T18:39:18Z</td>\n",
       "    </tr>\n",
       "    <tr>\n",
       "      <th>3</th>\n",
       "      <td>3</td>\n",
       "      <td>3</td>\n",
       "      <td>accumulo</td>\n",
       "      <td>de297d4932e08625a5df146f0802041bb5aeb892</td>\n",
       "      <td>Billie Rinaldi</td>\n",
       "      <td>Billie Rinaldi</td>\n",
       "      <td>2011-10-04T19:31:01Z</td>\n",
       "    </tr>\n",
       "    <tr>\n",
       "      <th>4</th>\n",
       "      <td>4</td>\n",
       "      <td>4</td>\n",
       "      <td>accumulo</td>\n",
       "      <td>34efaae87639a83b60fdb7274de4b45051025a3a</td>\n",
       "      <td>Billie Rinaldi</td>\n",
       "      <td>Billie Rinaldi</td>\n",
       "      <td>2011-10-05T17:19:06Z</td>\n",
       "    </tr>\n",
       "    <tr>\n",
       "      <th>...</th>\n",
       "      <td>...</td>\n",
       "      <td>...</td>\n",
       "      <td>...</td>\n",
       "      <td>...</td>\n",
       "      <td>...</td>\n",
       "      <td>...</td>\n",
       "      <td>...</td>\n",
       "    </tr>\n",
       "    <tr>\n",
       "      <th>140648</th>\n",
       "      <td>140682</td>\n",
       "      <td>140682</td>\n",
       "      <td>zookeeper</td>\n",
       "      <td>cc900a3b05bc31a237753680c8b00dc5866df4b2</td>\n",
       "      <td>Brian Nixon</td>\n",
       "      <td>Norbert Kalmar</td>\n",
       "      <td>2019-07-15T14:15:03Z</td>\n",
       "    </tr>\n",
       "    <tr>\n",
       "      <th>140649</th>\n",
       "      <td>140683</td>\n",
       "      <td>140683</td>\n",
       "      <td>zookeeper</td>\n",
       "      <td>1c83846615701e88749690f06993a6e77452b83c</td>\n",
       "      <td>Ivan Yurchenko</td>\n",
       "      <td>Andor Molnar</td>\n",
       "      <td>2019-07-15T14:46:48Z</td>\n",
       "    </tr>\n",
       "    <tr>\n",
       "      <th>140650</th>\n",
       "      <td>140684</td>\n",
       "      <td>140684</td>\n",
       "      <td>zookeeper</td>\n",
       "      <td>f873dcf10e222e220732ab27cc6fc8c0ff0beec6</td>\n",
       "      <td>Andor Molnar</td>\n",
       "      <td>Norbert Kalmar</td>\n",
       "      <td>2019-07-16T09:21:14Z</td>\n",
       "    </tr>\n",
       "    <tr>\n",
       "      <th>140651</th>\n",
       "      <td>140685</td>\n",
       "      <td>140685</td>\n",
       "      <td>zookeeper</td>\n",
       "      <td>a6c36b69cc72d7d67e392dab5360007d6f737bef</td>\n",
       "      <td>maoling</td>\n",
       "      <td>Andor Molnar</td>\n",
       "      <td>2019-07-17T13:42:32Z</td>\n",
       "    </tr>\n",
       "    <tr>\n",
       "      <th>140652</th>\n",
       "      <td>140686</td>\n",
       "      <td>140686</td>\n",
       "      <td>zookeeper</td>\n",
       "      <td>4212f865d67b9c7860c1da071f3997b0a5b5387e</td>\n",
       "      <td>Andor Molnar</td>\n",
       "      <td>Enrico Olivelli</td>\n",
       "      <td>2019-07-19T13:08:30Z</td>\n",
       "    </tr>\n",
       "  </tbody>\n",
       "</table>\n",
       "<p>140653 rows × 7 columns</p>\n",
       "</div>"
      ],
      "text/plain": [
       "        Unnamed: 0  Unnamed: 0.1  projectID  \\\n",
       "0                0             0   accumulo   \n",
       "1                1             1   accumulo   \n",
       "2                2             2   accumulo   \n",
       "3                3             3   accumulo   \n",
       "4                4             4   accumulo   \n",
       "...            ...           ...        ...   \n",
       "140648      140682        140682  zookeeper   \n",
       "140649      140683        140683  zookeeper   \n",
       "140650      140684        140684  zookeeper   \n",
       "140651      140685        140685  zookeeper   \n",
       "140652      140686        140686  zookeeper   \n",
       "\n",
       "                                      commitHash          author  \\\n",
       "0       e0880e263e4bf8662ba3848405200473a25dfc9f    Keith Turner   \n",
       "1       e8774c5ec3a35e042f320540b5f7e66ebd2d9e87  Billie Rinaldi   \n",
       "2       2032ebbd0ed90734da39ca238bbd10dee24d0030    Keith Turner   \n",
       "3       de297d4932e08625a5df146f0802041bb5aeb892  Billie Rinaldi   \n",
       "4       34efaae87639a83b60fdb7274de4b45051025a3a  Billie Rinaldi   \n",
       "...                                          ...             ...   \n",
       "140648  cc900a3b05bc31a237753680c8b00dc5866df4b2     Brian Nixon   \n",
       "140649  1c83846615701e88749690f06993a6e77452b83c  Ivan Yurchenko   \n",
       "140650  f873dcf10e222e220732ab27cc6fc8c0ff0beec6    Andor Molnar   \n",
       "140651  a6c36b69cc72d7d67e392dab5360007d6f737bef         maoling   \n",
       "140652  4212f865d67b9c7860c1da071f3997b0a5b5387e    Andor Molnar   \n",
       "\n",
       "              committer         committerDate  \n",
       "0          Keith Turner  2011-10-04T00:46:07Z  \n",
       "1        Billie Rinaldi  2011-10-04T16:57:13Z  \n",
       "2          Keith Turner  2011-10-04T18:39:18Z  \n",
       "3        Billie Rinaldi  2011-10-04T19:31:01Z  \n",
       "4        Billie Rinaldi  2011-10-05T17:19:06Z  \n",
       "...                 ...                   ...  \n",
       "140648   Norbert Kalmar  2019-07-15T14:15:03Z  \n",
       "140649     Andor Molnar  2019-07-15T14:46:48Z  \n",
       "140650   Norbert Kalmar  2019-07-16T09:21:14Z  \n",
       "140651     Andor Molnar  2019-07-17T13:42:32Z  \n",
       "140652  Enrico Olivelli  2019-07-19T13:08:30Z  \n",
       "\n",
       "[140653 rows x 7 columns]"
      ]
     },
     "execution_count": 2,
     "metadata": {},
     "output_type": "execute_result"
    }
   ],
   "source": [
    "gitCommits = pd.read_csv(\"../../../data/interim/DataPreparation/CleanData/GIT_COMMITS_clean.csv\")\n",
    "print(gitCommits.shape)\n",
    "gitCommits"
   ]
  },
  {
   "cell_type": "markdown",
   "metadata": {
    "id": "JVWQR2Q_jF3P"
   },
   "source": [
    "First of all, we sort the attributes and we calculate the difference between commits of the same committer in seconds."
   ]
  },
  {
   "cell_type": "code",
   "execution_count": 3,
   "metadata": {
    "id": "nMtj91LXIEfL"
   },
   "outputs": [],
   "source": [
    "gitCommits = gitCommits[['committer', 'committerDate']]\n",
    "newDFsorted = gitCommits.sort_values(by=['committer', 'committerDate']).reset_index()[['committer', 'committerDate']]"
   ]
  },
  {
   "cell_type": "code",
   "execution_count": 4,
   "metadata": {
    "id": "DCnvAIZBcqR9"
   },
   "outputs": [],
   "source": [
    "newDFsortedCopy = []\n",
    "committer = newDFsorted.iloc[0,0]\n",
    "for index, row in newDFsorted.iterrows():\n",
    "  if index != 0:\n",
    "    if committer == newDFsorted.iloc[index,0]:\n",
    "      r = (pd.to_datetime(newDFsorted.iloc[index,1])-pd.to_datetime(newDFsorted.iloc[index-1,1]))\n",
    "      newDFsortedCopy.append([committer, r])\n",
    "    else:\n",
    "      committer = newDFsorted.iloc[index,0]"
   ]
  },
  {
   "cell_type": "code",
   "execution_count": 5,
   "metadata": {
    "colab": {
     "base_uri": "https://localhost:8080/",
     "height": 419
    },
    "executionInfo": {
     "elapsed": 66199,
     "status": "ok",
     "timestamp": 1602354518149,
     "user": {
      "displayName": "Laia Albors Zumel",
      "photoUrl": "",
      "userId": "07110507271504138336"
     },
     "user_tz": -120
    },
    "id": "hkTjTWjsm5Ft",
    "outputId": "c107e6f3-4c4a-47ab-e60c-bd314d39744f"
   },
   "outputs": [
    {
     "data": {
      "text/html": [
       "<div>\n",
       "<style scoped>\n",
       "    .dataframe tbody tr th:only-of-type {\n",
       "        vertical-align: middle;\n",
       "    }\n",
       "\n",
       "    .dataframe tbody tr th {\n",
       "        vertical-align: top;\n",
       "    }\n",
       "\n",
       "    .dataframe thead th {\n",
       "        text-align: right;\n",
       "    }\n",
       "</style>\n",
       "<table border=\"1\" class=\"dataframe\">\n",
       "  <thead>\n",
       "    <tr style=\"text-align: right;\">\n",
       "      <th></th>\n",
       "      <th>0</th>\n",
       "      <th>1</th>\n",
       "    </tr>\n",
       "  </thead>\n",
       "  <tbody>\n",
       "    <tr>\n",
       "      <th>0</th>\n",
       "      <td>-l</td>\n",
       "      <td>92142.0</td>\n",
       "    </tr>\n",
       "    <tr>\n",
       "      <th>1</th>\n",
       "      <td>-l</td>\n",
       "      <td>153205.0</td>\n",
       "    </tr>\n",
       "    <tr>\n",
       "      <th>2</th>\n",
       "      <td>-l</td>\n",
       "      <td>268.0</td>\n",
       "    </tr>\n",
       "    <tr>\n",
       "      <th>3</th>\n",
       "      <td>-l</td>\n",
       "      <td>370.0</td>\n",
       "    </tr>\n",
       "    <tr>\n",
       "      <th>4</th>\n",
       "      <td>-l</td>\n",
       "      <td>110.0</td>\n",
       "    </tr>\n",
       "    <tr>\n",
       "      <th>...</th>\n",
       "      <td>...</td>\n",
       "      <td>...</td>\n",
       "    </tr>\n",
       "    <tr>\n",
       "      <th>139632</th>\n",
       "      <td>Łukasz Gajowy</td>\n",
       "      <td>83849.0</td>\n",
       "    </tr>\n",
       "    <tr>\n",
       "      <th>139633</th>\n",
       "      <td>Łukasz Gajowy</td>\n",
       "      <td>1114864.0</td>\n",
       "    </tr>\n",
       "    <tr>\n",
       "      <th>139634</th>\n",
       "      <td>Łukasz Gajowy</td>\n",
       "      <td>10654.0</td>\n",
       "    </tr>\n",
       "    <tr>\n",
       "      <th>139635</th>\n",
       "      <td>Łukasz Gajowy</td>\n",
       "      <td>80638.0</td>\n",
       "    </tr>\n",
       "    <tr>\n",
       "      <th>139636</th>\n",
       "      <td>“Erin</td>\n",
       "      <td>70778.0</td>\n",
       "    </tr>\n",
       "  </tbody>\n",
       "</table>\n",
       "<p>139637 rows × 2 columns</p>\n",
       "</div>"
      ],
      "text/plain": [
       "                    0          1\n",
       "0                  -l    92142.0\n",
       "1                  -l   153205.0\n",
       "2                  -l      268.0\n",
       "3                  -l      370.0\n",
       "4                  -l      110.0\n",
       "...               ...        ...\n",
       "139632  Łukasz Gajowy    83849.0\n",
       "139633  Łukasz Gajowy  1114864.0\n",
       "139634  Łukasz Gajowy    10654.0\n",
       "139635  Łukasz Gajowy    80638.0\n",
       "139636          “Erin    70778.0\n",
       "\n",
       "[139637 rows x 2 columns]"
      ]
     },
     "execution_count": 5,
     "metadata": {},
     "output_type": "execute_result"
    }
   ],
   "source": [
    "time_between_commits = pd.DataFrame(newDFsortedCopy)\n",
    "time_between_commits[1] = time_between_commits[1].dt.total_seconds()\n",
    "time_between_commits"
   ]
  },
  {
   "cell_type": "markdown",
   "metadata": {
    "id": "95cuvvarjwRn"
   },
   "source": [
    "Then, we calculate the average of the values obtained previously grouping by `committer`."
   ]
  },
  {
   "cell_type": "code",
   "execution_count": 6,
   "metadata": {
    "colab": {
     "base_uri": "https://localhost:8080/",
     "height": 450
    },
    "executionInfo": {
     "elapsed": 65911,
     "status": "ok",
     "timestamp": 1602354518149,
     "user": {
      "displayName": "Laia Albors Zumel",
      "photoUrl": "",
      "userId": "07110507271504138336"
     },
     "user_tz": -120
    },
    "id": "IBQqfnXxnXKJ",
    "outputId": "4bd831ff-ac3b-4617-ddb4-3c296416528e"
   },
   "outputs": [
    {
     "data": {
      "text/html": [
       "<div>\n",
       "<style scoped>\n",
       "    .dataframe tbody tr th:only-of-type {\n",
       "        vertical-align: middle;\n",
       "    }\n",
       "\n",
       "    .dataframe tbody tr th {\n",
       "        vertical-align: top;\n",
       "    }\n",
       "\n",
       "    .dataframe thead th {\n",
       "        text-align: right;\n",
       "    }\n",
       "</style>\n",
       "<table border=\"1\" class=\"dataframe\">\n",
       "  <thead>\n",
       "    <tr style=\"text-align: right;\">\n",
       "      <th></th>\n",
       "      <th>time_between_commits</th>\n",
       "    </tr>\n",
       "    <tr>\n",
       "      <th>0</th>\n",
       "      <th></th>\n",
       "    </tr>\n",
       "  </thead>\n",
       "  <tbody>\n",
       "    <tr>\n",
       "      <th>-l</th>\n",
       "      <td>1.629185e+05</td>\n",
       "    </tr>\n",
       "    <tr>\n",
       "      <th>1028332163</th>\n",
       "      <td>5.995308e+03</td>\n",
       "    </tr>\n",
       "    <tr>\n",
       "      <th>A. J. David Bosschaert</th>\n",
       "      <td>4.035664e+05</td>\n",
       "    </tr>\n",
       "    <tr>\n",
       "      <th>A744013</th>\n",
       "      <td>8.799250e+04</td>\n",
       "    </tr>\n",
       "    <tr>\n",
       "      <th>Aaron Dossett</th>\n",
       "      <td>9.934671e+04</td>\n",
       "    </tr>\n",
       "    <tr>\n",
       "      <th>...</th>\n",
       "      <td>...</td>\n",
       "    </tr>\n",
       "    <tr>\n",
       "      <th>yanzhi</th>\n",
       "      <td>9.558100e+04</td>\n",
       "    </tr>\n",
       "    <tr>\n",
       "      <th>yoshiki.obata</th>\n",
       "      <td>6.170935e+06</td>\n",
       "    </tr>\n",
       "    <tr>\n",
       "      <th>zmanji@apache.org</th>\n",
       "      <td>9.164237e+05</td>\n",
       "    </tr>\n",
       "    <tr>\n",
       "      <th>Łukasz Gajowy</th>\n",
       "      <td>3.252368e+05</td>\n",
       "    </tr>\n",
       "    <tr>\n",
       "      <th>“Erin</th>\n",
       "      <td>7.077800e+04</td>\n",
       "    </tr>\n",
       "  </tbody>\n",
       "</table>\n",
       "<p>798 rows × 1 columns</p>\n",
       "</div>"
      ],
      "text/plain": [
       "                        time_between_commits\n",
       "0                                           \n",
       "-l                              1.629185e+05\n",
       "1028332163                      5.995308e+03\n",
       "A. J. David Bosschaert          4.035664e+05\n",
       "A744013                         8.799250e+04\n",
       "Aaron Dossett                   9.934671e+04\n",
       "...                                      ...\n",
       "yanzhi                          9.558100e+04\n",
       "yoshiki.obata                   6.170935e+06\n",
       "zmanji@apache.org               9.164237e+05\n",
       "Łukasz Gajowy                   3.252368e+05\n",
       "“Erin                           7.077800e+04\n",
       "\n",
       "[798 rows x 1 columns]"
      ]
     },
     "execution_count": 6,
     "metadata": {},
     "output_type": "execute_result"
    }
   ],
   "source": [
    "time_between_commits_commiter = time_between_commits.groupby([0]).mean()\n",
    "time_between_commits_commiter = pd.DataFrame(time_between_commits_commiter).rename(columns={0:'committer', 1:'time_between_commits'})\n",
    "time_between_commits_commiter"
   ]
  },
  {
   "cell_type": "markdown",
   "metadata": {
    "id": "WDGbmA-Cj8UK"
   },
   "source": [
    "We save this table in a new csv."
   ]
  },
  {
   "cell_type": "code",
   "execution_count": 7,
   "metadata": {
    "id": "trS8-hP_PMS4"
   },
   "outputs": [],
   "source": [
    "time_between_commits_commiter.to_csv('../../../data/interim/DataPreparation/ConstructData/COMMITS_FREQUENCY.csv', header=True)"
   ]
  }
 ],
 "metadata": {
  "colab": {
   "collapsed_sections": [],
   "name": "COMMITS_FREQUENCY.ipynb",
   "provenance": []
  },
  "kernelspec": {
   "display_name": "Python 3",
   "language": "python",
   "name": "python3"
  },
  "language_info": {
   "codemirror_mode": {
    "name": "ipython",
    "version": 3
   },
   "file_extension": ".py",
   "mimetype": "text/x-python",
   "name": "python",
   "nbconvert_exporter": "python",
   "pygments_lexer": "ipython3",
   "version": "3.8.3"
  }
 },
 "nbformat": 4,
 "nbformat_minor": 1
}
