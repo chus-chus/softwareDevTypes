{
 "cells": [
  {
   "cell_type": "markdown",
   "metadata": {
    "id": "4M_chdGEG13q"
   },
   "source": [
    "# **NUMBER_COMMITS**\n",
    "\n",
    "This notebook the creation of the table `NUMBER_COMMITS`, that contains the number of commits by each commiter.\n",
    "\n",
    "First, we import the libraries we need and, then, we read the corresponding csv.\n"
   ]
  },
  {
   "cell_type": "code",
   "execution_count": 1,
   "metadata": {
    "id": "D05IsyrOH4Rb"
   },
   "outputs": [],
   "source": [
    "import pandas as pd\n",
    "import numpy as np"
   ]
  },
  {
   "cell_type": "code",
   "execution_count": 2,
   "metadata": {
    "colab": {
     "base_uri": "https://localhost:8080/",
     "height": 606
    },
    "executionInfo": {
     "elapsed": 1482,
     "status": "ok",
     "timestamp": 1602780833085,
     "user": {
      "displayName": "Laia Albors Zumel",
      "photoUrl": "",
      "userId": "07110507271504138336"
     },
     "user_tz": -120
    },
    "id": "zxtDkBubGvWS",
    "outputId": "1c38ce39-7830-43f9-d713-e2317e421b21"
   },
   "outputs": [
    {
     "name": "stdout",
     "output_type": "stream",
     "text": [
      "(140653, 5)\n"
     ]
    },
    {
     "data": {
      "text/html": [
       "<div>\n",
       "<style scoped>\n",
       "    .dataframe tbody tr th:only-of-type {\n",
       "        vertical-align: middle;\n",
       "    }\n",
       "\n",
       "    .dataframe tbody tr th {\n",
       "        vertical-align: top;\n",
       "    }\n",
       "\n",
       "    .dataframe thead th {\n",
       "        text-align: right;\n",
       "    }\n",
       "</style>\n",
       "<table border=\"1\" class=\"dataframe\">\n",
       "  <thead>\n",
       "    <tr style=\"text-align: right;\">\n",
       "      <th></th>\n",
       "      <th>projectID</th>\n",
       "      <th>commitHash</th>\n",
       "      <th>author</th>\n",
       "      <th>committer</th>\n",
       "      <th>committerDate</th>\n",
       "    </tr>\n",
       "  </thead>\n",
       "  <tbody>\n",
       "    <tr>\n",
       "      <th>0</th>\n",
       "      <td>accumulo</td>\n",
       "      <td>e0880e263e4bf8662ba3848405200473a25dfc9f</td>\n",
       "      <td>Keith Turner</td>\n",
       "      <td>Keith Turner</td>\n",
       "      <td>2011-10-04T00:46:07Z</td>\n",
       "    </tr>\n",
       "    <tr>\n",
       "      <th>1</th>\n",
       "      <td>accumulo</td>\n",
       "      <td>e8774c5ec3a35e042f320540b5f7e66ebd2d9e87</td>\n",
       "      <td>Billie Rinaldi</td>\n",
       "      <td>Billie Rinaldi</td>\n",
       "      <td>2011-10-04T16:57:13Z</td>\n",
       "    </tr>\n",
       "    <tr>\n",
       "      <th>2</th>\n",
       "      <td>accumulo</td>\n",
       "      <td>2032ebbd0ed90734da39ca238bbd10dee24d0030</td>\n",
       "      <td>Keith Turner</td>\n",
       "      <td>Keith Turner</td>\n",
       "      <td>2011-10-04T18:39:18Z</td>\n",
       "    </tr>\n",
       "    <tr>\n",
       "      <th>3</th>\n",
       "      <td>accumulo</td>\n",
       "      <td>de297d4932e08625a5df146f0802041bb5aeb892</td>\n",
       "      <td>Billie Rinaldi</td>\n",
       "      <td>Billie Rinaldi</td>\n",
       "      <td>2011-10-04T19:31:01Z</td>\n",
       "    </tr>\n",
       "    <tr>\n",
       "      <th>4</th>\n",
       "      <td>accumulo</td>\n",
       "      <td>34efaae87639a83b60fdb7274de4b45051025a3a</td>\n",
       "      <td>Billie Rinaldi</td>\n",
       "      <td>Billie Rinaldi</td>\n",
       "      <td>2011-10-05T17:19:06Z</td>\n",
       "    </tr>\n",
       "    <tr>\n",
       "      <th>...</th>\n",
       "      <td>...</td>\n",
       "      <td>...</td>\n",
       "      <td>...</td>\n",
       "      <td>...</td>\n",
       "      <td>...</td>\n",
       "    </tr>\n",
       "    <tr>\n",
       "      <th>140648</th>\n",
       "      <td>zookeeper</td>\n",
       "      <td>cc900a3b05bc31a237753680c8b00dc5866df4b2</td>\n",
       "      <td>Brian Nixon</td>\n",
       "      <td>Norbert Kalmar</td>\n",
       "      <td>2019-07-15T14:15:03Z</td>\n",
       "    </tr>\n",
       "    <tr>\n",
       "      <th>140649</th>\n",
       "      <td>zookeeper</td>\n",
       "      <td>1c83846615701e88749690f06993a6e77452b83c</td>\n",
       "      <td>Ivan Yurchenko</td>\n",
       "      <td>Andor Molnar</td>\n",
       "      <td>2019-07-15T14:46:48Z</td>\n",
       "    </tr>\n",
       "    <tr>\n",
       "      <th>140650</th>\n",
       "      <td>zookeeper</td>\n",
       "      <td>f873dcf10e222e220732ab27cc6fc8c0ff0beec6</td>\n",
       "      <td>Andor Molnar</td>\n",
       "      <td>Norbert Kalmar</td>\n",
       "      <td>2019-07-16T09:21:14Z</td>\n",
       "    </tr>\n",
       "    <tr>\n",
       "      <th>140651</th>\n",
       "      <td>zookeeper</td>\n",
       "      <td>a6c36b69cc72d7d67e392dab5360007d6f737bef</td>\n",
       "      <td>maoling</td>\n",
       "      <td>Andor Molnar</td>\n",
       "      <td>2019-07-17T13:42:32Z</td>\n",
       "    </tr>\n",
       "    <tr>\n",
       "      <th>140652</th>\n",
       "      <td>zookeeper</td>\n",
       "      <td>4212f865d67b9c7860c1da071f3997b0a5b5387e</td>\n",
       "      <td>Andor Molnar</td>\n",
       "      <td>Enrico Olivelli</td>\n",
       "      <td>2019-07-19T13:08:30Z</td>\n",
       "    </tr>\n",
       "  </tbody>\n",
       "</table>\n",
       "<p>140653 rows × 5 columns</p>\n",
       "</div>"
      ],
      "text/plain": [
       "        projectID                                commitHash          author  \\\n",
       "0        accumulo  e0880e263e4bf8662ba3848405200473a25dfc9f    Keith Turner   \n",
       "1        accumulo  e8774c5ec3a35e042f320540b5f7e66ebd2d9e87  Billie Rinaldi   \n",
       "2        accumulo  2032ebbd0ed90734da39ca238bbd10dee24d0030    Keith Turner   \n",
       "3        accumulo  de297d4932e08625a5df146f0802041bb5aeb892  Billie Rinaldi   \n",
       "4        accumulo  34efaae87639a83b60fdb7274de4b45051025a3a  Billie Rinaldi   \n",
       "...           ...                                       ...             ...   \n",
       "140648  zookeeper  cc900a3b05bc31a237753680c8b00dc5866df4b2     Brian Nixon   \n",
       "140649  zookeeper  1c83846615701e88749690f06993a6e77452b83c  Ivan Yurchenko   \n",
       "140650  zookeeper  f873dcf10e222e220732ab27cc6fc8c0ff0beec6    Andor Molnar   \n",
       "140651  zookeeper  a6c36b69cc72d7d67e392dab5360007d6f737bef         maoling   \n",
       "140652  zookeeper  4212f865d67b9c7860c1da071f3997b0a5b5387e    Andor Molnar   \n",
       "\n",
       "              committer         committerDate  \n",
       "0          Keith Turner  2011-10-04T00:46:07Z  \n",
       "1        Billie Rinaldi  2011-10-04T16:57:13Z  \n",
       "2          Keith Turner  2011-10-04T18:39:18Z  \n",
       "3        Billie Rinaldi  2011-10-04T19:31:01Z  \n",
       "4        Billie Rinaldi  2011-10-05T17:19:06Z  \n",
       "...                 ...                   ...  \n",
       "140648   Norbert Kalmar  2019-07-15T14:15:03Z  \n",
       "140649     Andor Molnar  2019-07-15T14:46:48Z  \n",
       "140650   Norbert Kalmar  2019-07-16T09:21:14Z  \n",
       "140651     Andor Molnar  2019-07-17T13:42:32Z  \n",
       "140652  Enrico Olivelli  2019-07-19T13:08:30Z  \n",
       "\n",
       "[140653 rows x 5 columns]"
      ]
     },
     "execution_count": 2,
     "metadata": {},
     "output_type": "execute_result"
    }
   ],
   "source": [
    "gitCommits = pd.read_csv(\"../../../data/interim/DataPreparation/CleanData/GIT_COMMITS_clean.csv\").iloc[:,2:]\n",
    "print(gitCommits.shape)\n",
    "gitCommits"
   ]
  },
  {
   "cell_type": "markdown",
   "metadata": {
    "id": "zwZ2MAN-nYzU"
   },
   "source": [
    "Therefore, we count how many times each committer has made a commit."
   ]
  },
  {
   "cell_type": "code",
   "execution_count": 3,
   "metadata": {
    "colab": {
     "base_uri": "https://localhost:8080/",
     "height": 450
    },
    "executionInfo": {
     "elapsed": 1045,
     "status": "ok",
     "timestamp": 1602780833086,
     "user": {
      "displayName": "Laia Albors Zumel",
      "photoUrl": "",
      "userId": "07110507271504138336"
     },
     "user_tz": -120
    },
    "id": "1g270XKCNrxQ",
    "outputId": "7fecf798-9499-4ca9-b04c-2486509feb20"
   },
   "outputs": [
    {
     "data": {
      "text/html": [
       "<div>\n",
       "<style scoped>\n",
       "    .dataframe tbody tr th:only-of-type {\n",
       "        vertical-align: middle;\n",
       "    }\n",
       "\n",
       "    .dataframe tbody tr th {\n",
       "        vertical-align: top;\n",
       "    }\n",
       "\n",
       "    .dataframe thead th {\n",
       "        text-align: right;\n",
       "    }\n",
       "</style>\n",
       "<table border=\"1\" class=\"dataframe\">\n",
       "  <thead>\n",
       "    <tr style=\"text-align: right;\">\n",
       "      <th></th>\n",
       "      <th>numberCommits</th>\n",
       "    </tr>\n",
       "    <tr>\n",
       "      <th>committer</th>\n",
       "      <th></th>\n",
       "    </tr>\n",
       "  </thead>\n",
       "  <tbody>\n",
       "    <tr>\n",
       "      <th>-l</th>\n",
       "      <td>27</td>\n",
       "    </tr>\n",
       "    <tr>\n",
       "      <th>1028332163</th>\n",
       "      <td>14</td>\n",
       "    </tr>\n",
       "    <tr>\n",
       "      <th>A. J. David Bosschaert</th>\n",
       "      <td>432</td>\n",
       "    </tr>\n",
       "    <tr>\n",
       "      <th>A195882</th>\n",
       "      <td>1</td>\n",
       "    </tr>\n",
       "    <tr>\n",
       "      <th>A744013</th>\n",
       "      <td>5</td>\n",
       "    </tr>\n",
       "    <tr>\n",
       "      <th>...</th>\n",
       "      <td>...</td>\n",
       "    </tr>\n",
       "    <tr>\n",
       "      <th>Łukasz Gajowy</th>\n",
       "      <td>137</td>\n",
       "    </tr>\n",
       "    <tr>\n",
       "      <th>성준영</th>\n",
       "      <td>1</td>\n",
       "    </tr>\n",
       "    <tr>\n",
       "      <th>“Erin</th>\n",
       "      <td>2</td>\n",
       "    </tr>\n",
       "    <tr>\n",
       "      <th>吴雪山</th>\n",
       "      <td>1</td>\n",
       "    </tr>\n",
       "    <tr>\n",
       "      <th>琨瑜</th>\n",
       "      <td>1</td>\n",
       "    </tr>\n",
       "  </tbody>\n",
       "</table>\n",
       "<p>1015 rows × 1 columns</p>\n",
       "</div>"
      ],
      "text/plain": [
       "                        numberCommits\n",
       "committer                            \n",
       "-l                                 27\n",
       "1028332163                         14\n",
       "A. J. David Bosschaert            432\n",
       "A195882                             1\n",
       "A744013                             5\n",
       "...                               ...\n",
       "Łukasz Gajowy                     137\n",
       "성준영                           1\n",
       "“Erin                               2\n",
       "吴雪山                                 1\n",
       "琨瑜                                  1\n",
       "\n",
       "[1015 rows x 1 columns]"
      ]
     },
     "execution_count": 3,
     "metadata": {},
     "output_type": "execute_result"
    }
   ],
   "source": [
    "number_commits = gitCommits.groupby(['committer']).count().iloc[1:,1]\n",
    "number_commits = pd.DataFrame(number_commits).rename(columns={'commitHash': 'numberCommits'})\n",
    "number_commits"
   ]
  },
  {
   "cell_type": "markdown",
   "metadata": {
    "id": "cTBexQR7nkM2"
   },
   "source": [
    "We save this table in a new csv."
   ]
  },
  {
   "cell_type": "code",
   "execution_count": 4,
   "metadata": {
    "id": "trS8-hP_PMS4"
   },
   "outputs": [],
   "source": [
    "number_commits.to_csv('../../../data/interim/DataPreparation/ConstructData/NUMBER_COMMITS.csv', header=True)"
   ]
  }
 ],
 "metadata": {
  "colab": {
   "collapsed_sections": [],
   "name": "NUMBER_COMMITS.ipynb",
   "provenance": []
  },
  "kernelspec": {
   "display_name": "Python 3",
   "language": "python",
   "name": "python3"
  },
  "language_info": {
   "codemirror_mode": {
    "name": "ipython",
    "version": 3
   },
   "file_extension": ".py",
   "mimetype": "text/x-python",
   "name": "python",
   "nbconvert_exporter": "python",
   "pygments_lexer": "ipython3",
   "version": "3.8.3"
  }
 },
 "nbformat": 4,
 "nbformat_minor": 1
}
