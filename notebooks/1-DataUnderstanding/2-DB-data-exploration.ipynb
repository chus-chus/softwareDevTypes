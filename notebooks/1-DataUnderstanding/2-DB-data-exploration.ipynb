{
  "nbformat": 4,
  "nbformat_minor": 0,
  "metadata": {
    "colab": {
      "name": "data_exploration.ipynb",
      "provenance": [],
      "collapsed_sections": []
    },
    "kernelspec": {
      "name": "python3",
      "display_name": "Python 3"
    }
  },
  "cells": [
    {
      "cell_type": "markdown",
      "metadata": {
        "id": "87klZVKDTPfS"
      },
      "source": [
        "# **Data exploration**\n",
        "-------------------------------------------\n",
        "\n",
        "## *TAED2, GCED, UPC BarcelonaTech*\n",
        "#### *Jesus Antonanzas, Cristina Aguilera, Laia Albors, Sonia Rabanaque*\n",
        "#### *01-10-2020*"
      ]
    },
    {
      "cell_type": "code",
      "metadata": {
        "id": "8r_zXZCF30ge"
      },
      "source": [
        "import pandas as pd\n",
        "import matplotlib.pyplot as plt\n",
        "import numpy as np"
      ],
      "execution_count": null,
      "outputs": []
    },
    {
      "cell_type": "markdown",
      "metadata": {
        "id": "5EAfDy3RUtSS"
      },
      "source": [
        "# 0. Objectives and procedure\n",
        "This notebook consists in the data exploration of the raw data of the TechDebt dataset, with objective of getting relevant insights with respect to different developer profiles. This exploration is divided according to the business objectives and the different hypothesis derived from them. "
      ]
    },
    {
      "cell_type": "markdown",
      "metadata": {
        "id": "dFDFDhWAWOas"
      },
      "source": [
        "# 1. What are the types of developer profiles in our business?"
      ]
    },
    {
      "cell_type": "markdown",
      "metadata": {
        "id": "Agx9kg_KWppu"
      },
      "source": [
        "First, we need to make some hypotheses about which attributes can discriminate between profiles and how they must be (which value they must take) in order to represent their particular features."
      ]
    },
    {
      "cell_type": "markdown",
      "metadata": {
        "id": "SBatW4ChiRuw"
      },
      "source": [
        "\n",
        "\n",
        "*   *Hypothesis 1: We can divide each developer profile according to **how long on average they were in the different projects** in which they participated*\n",
        "\n"
      ]
    },
    {
      "cell_type": "markdown",
      "metadata": {
        "id": "lQ9DJTiQXLnz"
      },
      "source": [
        "We are going to use data stored in the table GIT_COMMIT so we need to read it."
      ]
    },
    {
      "cell_type": "code",
      "metadata": {
        "id": "ntUqsbayhAZQ"
      },
      "source": [
        "# read data on git_commits\n",
        "gitCommit = pd.read_csv(\"GIT_COMMITS.csv\")"
      ],
      "execution_count": null,
      "outputs": []
    },
    {
      "cell_type": "code",
      "metadata": {
        "id": "WE36h-8piazb",
        "outputId": "75658e26-a0ed-4f6c-e0ab-d55de7ed5f39",
        "colab": {
          "base_uri": "https://localhost:8080/",
          "height": 482
        }
      },
      "source": [
        "gitCommit.loc[0:4]"
      ],
      "execution_count": null,
      "outputs": [
        {
          "output_type": "execute_result",
          "data": {
            "text/html": [
              "<div>\n",
              "<style scoped>\n",
              "    .dataframe tbody tr th:only-of-type {\n",
              "        vertical-align: middle;\n",
              "    }\n",
              "\n",
              "    .dataframe tbody tr th {\n",
              "        vertical-align: top;\n",
              "    }\n",
              "\n",
              "    .dataframe thead th {\n",
              "        text-align: right;\n",
              "    }\n",
              "</style>\n",
              "<table border=\"1\" class=\"dataframe\">\n",
              "  <thead>\n",
              "    <tr style=\"text-align: right;\">\n",
              "      <th></th>\n",
              "      <th>projectID</th>\n",
              "      <th>commitHash</th>\n",
              "      <th>commitMessage</th>\n",
              "      <th>author</th>\n",
              "      <th>authorDate</th>\n",
              "      <th>authorTimezone</th>\n",
              "      <th>committer</th>\n",
              "      <th>committerDate</th>\n",
              "      <th>committerTimezone</th>\n",
              "      <th>branches</th>\n",
              "      <th>inMainBranch</th>\n",
              "      <th>merge</th>\n",
              "      <th>parents</th>\n",
              "    </tr>\n",
              "  </thead>\n",
              "  <tbody>\n",
              "    <tr>\n",
              "      <th>0</th>\n",
              "      <td>accumulo</td>\n",
              "      <td>e0880e263e4bf8662ba3848405200473a25dfc9f</td>\n",
              "      <td>ACCUMULO-1 initial checkin of source code\\r\\n\\...</td>\n",
              "      <td>Keith Turner</td>\n",
              "      <td>2011-10-04T00:46:07Z</td>\n",
              "      <td>0</td>\n",
              "      <td>Keith Turner</td>\n",
              "      <td>2011-10-04T00:46:07Z</td>\n",
              "      <td>0</td>\n",
              "      <td>['master']</td>\n",
              "      <td>True</td>\n",
              "      <td>False</td>\n",
              "      <td>[]</td>\n",
              "    </tr>\n",
              "    <tr>\n",
              "      <th>1</th>\n",
              "      <td>accumulo</td>\n",
              "      <td>e8774c5ec3a35e042f320540b5f7e66ebd2d9e87</td>\n",
              "      <td>ACCUMULO-2 moved cloudtrace for TRUNK, fixed p...</td>\n",
              "      <td>Billie Rinaldi</td>\n",
              "      <td>2011-10-04T16:57:13Z</td>\n",
              "      <td>0</td>\n",
              "      <td>Billie Rinaldi</td>\n",
              "      <td>2011-10-04T16:57:13Z</td>\n",
              "      <td>0</td>\n",
              "      <td>['master']</td>\n",
              "      <td>True</td>\n",
              "      <td>False</td>\n",
              "      <td>['e0880e263e4bf8662ba3848405200473a25dfc9f']</td>\n",
              "    </tr>\n",
              "    <tr>\n",
              "      <th>2</th>\n",
              "      <td>accumulo</td>\n",
              "      <td>2032ebbd0ed90734da39ca238bbd10dee24d0030</td>\n",
              "      <td>ACCUMULO-2 fixed thrift build script to point ...</td>\n",
              "      <td>Keith Turner</td>\n",
              "      <td>2011-10-04T18:39:18Z</td>\n",
              "      <td>0</td>\n",
              "      <td>Keith Turner</td>\n",
              "      <td>2011-10-04T18:39:18Z</td>\n",
              "      <td>0</td>\n",
              "      <td>['master']</td>\n",
              "      <td>True</td>\n",
              "      <td>False</td>\n",
              "      <td>['e8774c5ec3a35e042f320540b5f7e66ebd2d9e87']</td>\n",
              "    </tr>\n",
              "    <tr>\n",
              "      <th>3</th>\n",
              "      <td>accumulo</td>\n",
              "      <td>de297d4932e08625a5df146f0802041bb5aeb892</td>\n",
              "      <td>ACCUMULO-2 reverted change to config.html\\r\\n\\...</td>\n",
              "      <td>Billie Rinaldi</td>\n",
              "      <td>2011-10-04T19:31:01Z</td>\n",
              "      <td>0</td>\n",
              "      <td>Billie Rinaldi</td>\n",
              "      <td>2011-10-04T19:31:01Z</td>\n",
              "      <td>0</td>\n",
              "      <td>['master']</td>\n",
              "      <td>True</td>\n",
              "      <td>False</td>\n",
              "      <td>['2032ebbd0ed90734da39ca238bbd10dee24d0030']</td>\n",
              "    </tr>\n",
              "    <tr>\n",
              "      <th>4</th>\n",
              "      <td>accumulo</td>\n",
              "      <td>34efaae87639a83b60fdb7274de4b45051025a3a</td>\n",
              "      <td>ACCUMULO-2 fixed cloudtrace references in cont...</td>\n",
              "      <td>Billie Rinaldi</td>\n",
              "      <td>2011-10-05T17:19:06Z</td>\n",
              "      <td>0</td>\n",
              "      <td>Billie Rinaldi</td>\n",
              "      <td>2011-10-05T17:19:06Z</td>\n",
              "      <td>0</td>\n",
              "      <td>['master']</td>\n",
              "      <td>True</td>\n",
              "      <td>False</td>\n",
              "      <td>['de297d4932e08625a5df146f0802041bb5aeb892']</td>\n",
              "    </tr>\n",
              "  </tbody>\n",
              "</table>\n",
              "</div>"
            ],
            "text/plain": [
              "  projectID  ...                                       parents\n",
              "0  accumulo  ...                                            []\n",
              "1  accumulo  ...  ['e0880e263e4bf8662ba3848405200473a25dfc9f']\n",
              "2  accumulo  ...  ['e8774c5ec3a35e042f320540b5f7e66ebd2d9e87']\n",
              "3  accumulo  ...  ['2032ebbd0ed90734da39ca238bbd10dee24d0030']\n",
              "4  accumulo  ...  ['de297d4932e08625a5df146f0802041bb5aeb892']\n",
              "\n",
              "[5 rows x 13 columns]"
            ]
          },
          "metadata": {
            "tags": []
          },
          "execution_count": 3
        }
      ]
    },
    {
      "cell_type": "markdown",
      "metadata": {
        "id": "6oQurdHOXnqL"
      },
      "source": [
        "Now, we have to compute the new derived attribute. For each committer, we have to  compute the time in days they have spent on each project in which he at least made one commit. This period of time is approximately computed as the difference in days between the first and last commit he made in the project. Finally, to have one single value for each developer, we have to average the days between the different projects. This is equivalent to knowing on average how many days each developer spends working in one project. "
      ]
    },
    {
      "cell_type": "code",
      "metadata": {
        "id": "f3X8ZWPw1HNS"
      },
      "source": [
        "# Change date from str to datetime\n",
        "gitCommit['committerDate'] = pd.to_datetime(gitCommit['committerDate'], format='%Y%m%d %H:%M:%S')\n",
        "\n",
        "# Extract first and last commit for each user and project\n",
        "duration = gitCommit.groupby(['projectID', 'committer'])['committerDate'].agg(['min', 'max'])\n",
        "\n",
        "# Compute duration\n",
        "duration['total_time'] = duration['max'] - duration['min']\n",
        "\n",
        "# Extract duration in days\n",
        "duration['days'] = duration['total_time'].dt.days\n",
        "\n",
        "# Compute mean duration in projects for each commiter\n",
        "mean_time = duration.groupby(['committer']).mean()\n",
        "\n",
        "# Extract only user that have work more tha one day in the project\n",
        "effective_users = mean_time[(mean_time.days != 0)]"
      ],
      "execution_count": null,
      "outputs": []
    },
    {
      "cell_type": "markdown",
      "metadata": {
        "id": "OGkxbQ_xYKG5"
      },
      "source": [
        "The resulting data from the previously described operations can be interpreted as a distribution of probability."
      ]
    },
    {
      "cell_type": "code",
      "metadata": {
        "id": "EzZrtEMbEXbl",
        "outputId": "9e23876c-e1ce-461a-aa8f-ea803254b95c",
        "colab": {
          "base_uri": "https://localhost:8080/",
          "height": 1000
        }
      },
      "source": [
        "plt.figure(figsize=(30,10))\n",
        "plt.hist(mean_time['days'], bins = 200)"
      ],
      "execution_count": null,
      "outputs": [
        {
          "output_type": "execute_result",
          "data": {
            "text/plain": [
              "(array([363.,  37.,  32.,  16.,  25.,  27.,  20.,  19.,  20.,  18.,  19.,\n",
              "         13.,  12.,  17.,   9.,  14.,  10.,  12.,  12.,  11.,   7.,  12.,\n",
              "         13.,   7.,  13.,  12.,   6.,   5.,   4.,   4.,   6.,   5.,   3.,\n",
              "          5.,   6.,   4.,   4.,   4.,   4.,   2.,   2.,   6.,   3.,   7.,\n",
              "          8.,   5.,   7.,   1.,   4.,   3.,   8.,   4.,   3.,   5.,   2.,\n",
              "          1.,   4.,   4.,   2.,   3.,   3.,   3.,   2.,   3.,   5.,   3.,\n",
              "          4.,   3.,   2.,   2.,   2.,   3.,   0.,   3.,   2.,   3.,   2.,\n",
              "          2.,   4.,   1.,   0.,   0.,   3.,   1.,   4.,   0.,   0.,   2.,\n",
              "          1.,   1.,   1.,   3.,   2.,   0.,   3.,   1.,   1.,   0.,   0.,\n",
              "          0.,   0.,   1.,   0.,   1.,   0.,   0.,   0.,   0.,   1.,   1.,\n",
              "          1.,   0.,   0.,   0.,   0.,   1.,   0.,   0.,   3.,   1.,   0.,\n",
              "          0.,   0.,   1.,   1.,   1.,   0.,   0.,   1.,   1.,   0.,   0.,\n",
              "          0.,   0.,   0.,   0.,   0.,   0.,   1.,   0.,   1.,   0.,   1.,\n",
              "          0.,   1.,   0.,   0.,   0.,   0.,   0.,   0.,   1.,   0.,   0.,\n",
              "          0.,   0.,   2.,   0.,   0.,   0.,   0.,   0.,   0.,   1.,   1.,\n",
              "          1.,   0.,   0.,   0.,   0.,   0.,   0.,   0.,   0.,   0.,   0.,\n",
              "          0.,   0.,   0.,   0.,   0.,   0.,   1.,   0.,   0.,   0.,   0.,\n",
              "          0.,   0.,   0.,   0.,   0.,   0.,   0.,   0.,   0.,   0.,   0.,\n",
              "          0.,   1.]),\n",
              " array([   0. ,   23.9,   47.8,   71.7,   95.6,  119.5,  143.4,  167.3,\n",
              "         191.2,  215.1,  239. ,  262.9,  286.8,  310.7,  334.6,  358.5,\n",
              "         382.4,  406.3,  430.2,  454.1,  478. ,  501.9,  525.8,  549.7,\n",
              "         573.6,  597.5,  621.4,  645.3,  669.2,  693.1,  717. ,  740.9,\n",
              "         764.8,  788.7,  812.6,  836.5,  860.4,  884.3,  908.2,  932.1,\n",
              "         956. ,  979.9, 1003.8, 1027.7, 1051.6, 1075.5, 1099.4, 1123.3,\n",
              "        1147.2, 1171.1, 1195. , 1218.9, 1242.8, 1266.7, 1290.6, 1314.5,\n",
              "        1338.4, 1362.3, 1386.2, 1410.1, 1434. , 1457.9, 1481.8, 1505.7,\n",
              "        1529.6, 1553.5, 1577.4, 1601.3, 1625.2, 1649.1, 1673. , 1696.9,\n",
              "        1720.8, 1744.7, 1768.6, 1792.5, 1816.4, 1840.3, 1864.2, 1888.1,\n",
              "        1912. , 1935.9, 1959.8, 1983.7, 2007.6, 2031.5, 2055.4, 2079.3,\n",
              "        2103.2, 2127.1, 2151. , 2174.9, 2198.8, 2222.7, 2246.6, 2270.5,\n",
              "        2294.4, 2318.3, 2342.2, 2366.1, 2390. , 2413.9, 2437.8, 2461.7,\n",
              "        2485.6, 2509.5, 2533.4, 2557.3, 2581.2, 2605.1, 2629. , 2652.9,\n",
              "        2676.8, 2700.7, 2724.6, 2748.5, 2772.4, 2796.3, 2820.2, 2844.1,\n",
              "        2868. , 2891.9, 2915.8, 2939.7, 2963.6, 2987.5, 3011.4, 3035.3,\n",
              "        3059.2, 3083.1, 3107. , 3130.9, 3154.8, 3178.7, 3202.6, 3226.5,\n",
              "        3250.4, 3274.3, 3298.2, 3322.1, 3346. , 3369.9, 3393.8, 3417.7,\n",
              "        3441.6, 3465.5, 3489.4, 3513.3, 3537.2, 3561.1, 3585. , 3608.9,\n",
              "        3632.8, 3656.7, 3680.6, 3704.5, 3728.4, 3752.3, 3776.2, 3800.1,\n",
              "        3824. , 3847.9, 3871.8, 3895.7, 3919.6, 3943.5, 3967.4, 3991.3,\n",
              "        4015.2, 4039.1, 4063. , 4086.9, 4110.8, 4134.7, 4158.6, 4182.5,\n",
              "        4206.4, 4230.3, 4254.2, 4278.1, 4302. , 4325.9, 4349.8, 4373.7,\n",
              "        4397.6, 4421.5, 4445.4, 4469.3, 4493.2, 4517.1, 4541. , 4564.9,\n",
              "        4588.8, 4612.7, 4636.6, 4660.5, 4684.4, 4708.3, 4732.2, 4756.1,\n",
              "        4780. ]),\n",
              " <a list of 200 Patch objects>)"
            ]
          },
          "metadata": {
            "tags": []
          },
          "execution_count": 7
        },
        {
          "output_type": "display_data",
          "data": {
            "image/png": "[encoded data removed]",
            "text/plain": [
              "<Figure size 2160x720 with 1 Axes>"
            ]
          },
          "metadata": {
            "tags": [],
            "needs_background": "light"
          }
        }
      ]
    },
    {
      "cell_type": "markdown",
      "metadata": {
        "id": "0r6Nc56WYwit"
      },
      "source": [
        "we can see three well-defined behaviors.\n",
        "\n",
        "* Developers who have been very few days working in the project, even 0 days (273 people). They are represented by the first long and concentrated bin that takes between 0 and 24 average work time per developer. They can be considered as contributors to the project but not developers.\n",
        "* Developers who work on projects for a reasonable period of time in order to develop a good enough final product and not overwhelm it. They are represented by medium high bins that take a moderate range of days.\n",
        "* Developers who work for lots of days. They are represented by a very short and wide range of days distributed.\n"
      ]
    },
    {
      "cell_type": "markdown",
      "metadata": {
        "id": "sMgckB2LZqeJ"
      },
      "source": [
        "We can extract which developers belong to each of the described groups."
      ]
    },
    {
      "cell_type": "code",
      "metadata": {
        "id": "Jh1lxAxyHg3K",
        "outputId": "36bbae9c-e4b7-446c-c37d-a611422315c7",
        "colab": {
          "base_uri": "https://localhost:8080/",
          "height": 446
        }
      },
      "source": [
        "first = effective_users[effective_users.days < 170].sort_values(by='days')\n",
        "first"
      ],
      "execution_count": null,
      "outputs": [
        {
          "output_type": "execute_result",
          "data": {
            "text/html": [
              "<div>\n",
              "<style scoped>\n",
              "    .dataframe tbody tr th:only-of-type {\n",
              "        vertical-align: middle;\n",
              "    }\n",
              "\n",
              "    .dataframe tbody tr th {\n",
              "        vertical-align: top;\n",
              "    }\n",
              "\n",
              "    .dataframe thead th {\n",
              "        text-align: right;\n",
              "    }\n",
              "</style>\n",
              "<table border=\"1\" class=\"dataframe\">\n",
              "  <thead>\n",
              "    <tr style=\"text-align: right;\">\n",
              "      <th></th>\n",
              "      <th>days</th>\n",
              "    </tr>\n",
              "    <tr>\n",
              "      <th>committer</th>\n",
              "      <th></th>\n",
              "    </tr>\n",
              "  </thead>\n",
              "  <tbody>\n",
              "    <tr>\n",
              "      <th>Braden Bassingthwaite</th>\n",
              "      <td>1.000000</td>\n",
              "    </tr>\n",
              "    <tr>\n",
              "      <th>Dennis Fusaro</th>\n",
              "      <td>1.000000</td>\n",
              "    </tr>\n",
              "    <tr>\n",
              "      <th>Christopher Hyzer</th>\n",
              "      <td>1.000000</td>\n",
              "    </tr>\n",
              "    <tr>\n",
              "      <th>Jim Jagielski</th>\n",
              "      <td>1.000000</td>\n",
              "    </tr>\n",
              "    <tr>\n",
              "      <th>Lukas Drbal</th>\n",
              "      <td>1.000000</td>\n",
              "    </tr>\n",
              "    <tr>\n",
              "      <th>...</th>\n",
              "      <td>...</td>\n",
              "    </tr>\n",
              "    <tr>\n",
              "      <th>Dirk Verbeeck</th>\n",
              "      <td>162.705882</td>\n",
              "    </tr>\n",
              "    <tr>\n",
              "      <th>Christian van Spaandonk</th>\n",
              "      <td>164.000000</td>\n",
              "    </tr>\n",
              "    <tr>\n",
              "      <th>Ben Sidhom</th>\n",
              "      <td>164.000000</td>\n",
              "    </tr>\n",
              "    <tr>\n",
              "      <th>huafengw</th>\n",
              "      <td>168.000000</td>\n",
              "    </tr>\n",
              "    <tr>\n",
              "      <th>rmani</th>\n",
              "      <td>168.000000</td>\n",
              "    </tr>\n",
              "  </tbody>\n",
              "</table>\n",
              "<p>249 rows × 1 columns</p>\n",
              "</div>"
            ],
            "text/plain": [
              "                               days\n",
              "committer                          \n",
              "Braden Bassingthwaite      1.000000\n",
              "Dennis Fusaro              1.000000\n",
              "Christopher Hyzer          1.000000\n",
              "Jim Jagielski              1.000000\n",
              "Lukas Drbal                1.000000\n",
              "...                             ...\n",
              "Dirk Verbeeck            162.705882\n",
              "Christian van Spaandonk  164.000000\n",
              "Ben Sidhom               164.000000\n",
              "huafengw                 168.000000\n",
              "rmani                    168.000000\n",
              "\n",
              "[249 rows x 1 columns]"
            ]
          },
          "metadata": {
            "tags": []
          },
          "execution_count": 27
        }
      ]
    },
    {
      "cell_type": "code",
      "metadata": {
        "id": "KUH95JjJH0Tu",
        "outputId": "3911dc04-da6f-4854-c830-408ecdfb399b",
        "colab": {
          "base_uri": "https://localhost:8080/",
          "height": 446
        }
      },
      "source": [
        "second = effective_users[(effective_users.days > 100) & (effective_users.days < 800)]\n",
        "second"
      ],
      "execution_count": null,
      "outputs": [
        {
          "output_type": "execute_result",
          "data": {
            "text/html": [
              "<div>\n",
              "<style scoped>\n",
              "    .dataframe tbody tr th:only-of-type {\n",
              "        vertical-align: middle;\n",
              "    }\n",
              "\n",
              "    .dataframe tbody tr th {\n",
              "        vertical-align: top;\n",
              "    }\n",
              "\n",
              "    .dataframe thead th {\n",
              "        text-align: right;\n",
              "    }\n",
              "</style>\n",
              "<table border=\"1\" class=\"dataframe\">\n",
              "  <thead>\n",
              "    <tr style=\"text-align: right;\">\n",
              "      <th></th>\n",
              "      <th>days</th>\n",
              "    </tr>\n",
              "    <tr>\n",
              "      <th>committer</th>\n",
              "      <th></th>\n",
              "    </tr>\n",
              "  </thead>\n",
              "  <tbody>\n",
              "    <tr>\n",
              "      <th>Adam Wojtuniak</th>\n",
              "      <td>107.0</td>\n",
              "    </tr>\n",
              "    <tr>\n",
              "      <th>Adrian Crum</th>\n",
              "      <td>137.5</td>\n",
              "    </tr>\n",
              "    <tr>\n",
              "      <th>Ajit Kumar</th>\n",
              "      <td>120.0</td>\n",
              "    </tr>\n",
              "    <tr>\n",
              "      <th>Akhil Subhash Naik</th>\n",
              "      <td>293.0</td>\n",
              "    </tr>\n",
              "    <tr>\n",
              "      <th>Alan Myrvold</th>\n",
              "      <td>412.0</td>\n",
              "    </tr>\n",
              "    <tr>\n",
              "      <th>...</th>\n",
              "      <td>...</td>\n",
              "    </tr>\n",
              "    <tr>\n",
              "      <th>wtanaka.com</th>\n",
              "      <td>326.0</td>\n",
              "    </tr>\n",
              "    <tr>\n",
              "      <th>xiliu</th>\n",
              "      <td>202.0</td>\n",
              "    </tr>\n",
              "    <tr>\n",
              "      <th>xinyuiscool</th>\n",
              "      <td>333.0</td>\n",
              "    </tr>\n",
              "    <tr>\n",
              "      <th>zmanji@apache.org</th>\n",
              "      <td>106.0</td>\n",
              "    </tr>\n",
              "    <tr>\n",
              "      <th>Łukasz Gajowy</th>\n",
              "      <td>511.0</td>\n",
              "    </tr>\n",
              "  </tbody>\n",
              "</table>\n",
              "<p>350 rows × 1 columns</p>\n",
              "</div>"
            ],
            "text/plain": [
              "                     days\n",
              "committer                \n",
              "Adam Wojtuniak      107.0\n",
              "Adrian Crum         137.5\n",
              "Ajit Kumar          120.0\n",
              "Akhil Subhash Naik  293.0\n",
              "Alan Myrvold        412.0\n",
              "...                   ...\n",
              "wtanaka.com         326.0\n",
              "xiliu               202.0\n",
              "xinyuiscool         333.0\n",
              "zmanji@apache.org   106.0\n",
              "Łukasz Gajowy       511.0\n",
              "\n",
              "[350 rows x 1 columns]"
            ]
          },
          "metadata": {
            "tags": []
          },
          "execution_count": 28
        }
      ]
    },
    {
      "cell_type": "code",
      "metadata": {
        "id": "CXo1KO3_HT64",
        "outputId": "b7d14cc4-e284-4c8c-b698-7c18e7b9f42d",
        "colab": {
          "base_uri": "https://localhost:8080/",
          "height": 446
        }
      },
      "source": [
        "third = effective_users[effective_users.days > 800].sort_values(by='days')\n",
        "third"
      ],
      "execution_count": null,
      "outputs": [
        {
          "output_type": "execute_result",
          "data": {
            "text/html": [
              "<div>\n",
              "<style scoped>\n",
              "    .dataframe tbody tr th:only-of-type {\n",
              "        vertical-align: middle;\n",
              "    }\n",
              "\n",
              "    .dataframe tbody tr th {\n",
              "        vertical-align: top;\n",
              "    }\n",
              "\n",
              "    .dataframe thead th {\n",
              "        text-align: right;\n",
              "    }\n",
              "</style>\n",
              "<table border=\"1\" class=\"dataframe\">\n",
              "  <thead>\n",
              "    <tr style=\"text-align: right;\">\n",
              "      <th></th>\n",
              "      <th>days</th>\n",
              "    </tr>\n",
              "    <tr>\n",
              "      <th>committer</th>\n",
              "      <th></th>\n",
              "    </tr>\n",
              "  </thead>\n",
              "  <tbody>\n",
              "    <tr>\n",
              "      <th>jfarrell</th>\n",
              "      <td>805.0</td>\n",
              "    </tr>\n",
              "    <tr>\n",
              "      <th>Sathya Hariesh</th>\n",
              "      <td>805.0</td>\n",
              "    </tr>\n",
              "    <tr>\n",
              "      <th>Thomas Groh</th>\n",
              "      <td>807.0</td>\n",
              "    </tr>\n",
              "    <tr>\n",
              "      <th>Goldstein Lyor</th>\n",
              "      <td>809.0</td>\n",
              "    </tr>\n",
              "    <tr>\n",
              "      <th>Jason Kuster</th>\n",
              "      <td>816.0</td>\n",
              "    </tr>\n",
              "    <tr>\n",
              "      <th>...</th>\n",
              "      <td>...</td>\n",
              "    </tr>\n",
              "    <tr>\n",
              "      <th>Richard S. Hall</th>\n",
              "      <td>3898.0</td>\n",
              "    </tr>\n",
              "    <tr>\n",
              "      <th>Benjamin Reed</th>\n",
              "      <td>3926.0</td>\n",
              "    </tr>\n",
              "    <tr>\n",
              "      <th>Peter Kriens</th>\n",
              "      <td>3953.0</td>\n",
              "    </tr>\n",
              "    <tr>\n",
              "      <th>Thomas E. DeWeese</th>\n",
              "      <td>4365.0</td>\n",
              "    </tr>\n",
              "    <tr>\n",
              "      <th>Karl Pauls</th>\n",
              "      <td>4780.0</td>\n",
              "    </tr>\n",
              "  </tbody>\n",
              "</table>\n",
              "<p>212 rows × 1 columns</p>\n",
              "</div>"
            ],
            "text/plain": [
              "                     days\n",
              "committer                \n",
              "jfarrell            805.0\n",
              "Sathya Hariesh      805.0\n",
              "Thomas Groh         807.0\n",
              "Goldstein Lyor      809.0\n",
              "Jason Kuster        816.0\n",
              "...                   ...\n",
              "Richard S. Hall    3898.0\n",
              "Benjamin Reed      3926.0\n",
              "Peter Kriens       3953.0\n",
              "Thomas E. DeWeese  4365.0\n",
              "Karl Pauls         4780.0\n",
              "\n",
              "[212 rows x 1 columns]"
            ]
          },
          "metadata": {
            "tags": []
          },
          "execution_count": 29
        }
      ]
    },
    {
      "cell_type": "markdown",
      "metadata": {
        "id": "e60E-_5MibcY"
      },
      "source": [
        "\n",
        "\n",
        "*   *Hypothesis 2: We can divide each developer profile according to the quantity of projects he has worked on*\n",
        "\n"
      ]
    },
    {
      "cell_type": "markdown",
      "metadata": {
        "id": "7A-r_79paJC9"
      },
      "source": [
        "Again, we are going to use data stored in the table GIT_COMMIT. For each committer, we have to compute the number of different projects he/she has worked on. This is done by counting the number of different projectID on which the developer has made at least one commit."
      ]
    },
    {
      "cell_type": "code",
      "metadata": {
        "id": "OSMk2HhCiuG6"
      },
      "source": [
        "projects = gitCommit.groupby(['committer'])['projectID'].agg(['nunique'])"
      ],
      "execution_count": null,
      "outputs": []
    },
    {
      "cell_type": "markdown",
      "metadata": {
        "id": "5hv55QWja60n"
      },
      "source": [
        "We can now plot de results in a bar chart as they are categorical data."
      ]
    },
    {
      "cell_type": "code",
      "metadata": {
        "id": "NL7D2DJdpWri",
        "outputId": "e26c5575-759c-4b55-ed56-13592295df04",
        "colab": {
          "base_uri": "https://localhost:8080/",
          "height": 424
        }
      },
      "source": [
        "plt.figure(figsize=(30,10))\n",
        "projects['nunique'].value_counts().plot(kind='bar')"
      ],
      "execution_count": null,
      "outputs": [
        {
          "output_type": "execute_result",
          "data": {
            "text/plain": [
              "<matplotlib.axes._subplots.AxesSubplot at 0x7f67fe7beef0>"
            ]
          },
          "metadata": {
            "tags": []
          },
          "execution_count": 25
        },
        {
          "output_type": "display_data",
          "data": {
            "image/png": "[encoded data removed]",
            "text/plain": [
              "<Figure size 2160x720 with 1 Axes>"
            ]
          },
          "metadata": {
            "tags": [],
            "needs_background": "light"
          }
        }
      ]
    },
    {
      "cell_type": "markdown",
      "metadata": {
        "id": "ohooICtibBVs"
      },
      "source": [
        "That way, developers can again be assign to three different profiles:\n",
        "* Developers that just worked on one single project: 901 developers belong to this group.\n",
        "* Developers who worked in a moderate number of projects (2-3): 66 developers to the intermediate one.\n",
        "* Developers that participate in lots of projects (> 3): 49 to the third one.\n"
      ]
    },
    {
      "cell_type": "markdown",
      "metadata": {
        "id": "SahkeZkrbZxV"
      },
      "source": [
        "We can again extract which developers belong to each of the new groups."
      ]
    },
    {
      "cell_type": "code",
      "metadata": {
        "id": "Js0ZaP2RttJV",
        "outputId": "e6069e80-5f6c-4eac-d19f-948e0961901d",
        "colab": {
          "base_uri": "https://localhost:8080/",
          "height": 446
        }
      },
      "source": [
        "little_projects = projects[projects['nunique'] == 1]\n",
        "little_projects"
      ],
      "execution_count": null,
      "outputs": [
        {
          "output_type": "execute_result",
          "data": {
            "text/html": [
              "<div>\n",
              "<style scoped>\n",
              "    .dataframe tbody tr th:only-of-type {\n",
              "        vertical-align: middle;\n",
              "    }\n",
              "\n",
              "    .dataframe tbody tr th {\n",
              "        vertical-align: top;\n",
              "    }\n",
              "\n",
              "    .dataframe thead th {\n",
              "        text-align: right;\n",
              "    }\n",
              "</style>\n",
              "<table border=\"1\" class=\"dataframe\">\n",
              "  <thead>\n",
              "    <tr style=\"text-align: right;\">\n",
              "      <th></th>\n",
              "      <th>nunique</th>\n",
              "    </tr>\n",
              "    <tr>\n",
              "      <th>committer</th>\n",
              "      <th></th>\n",
              "    </tr>\n",
              "  </thead>\n",
              "  <tbody>\n",
              "    <tr>\n",
              "      <th>(no author)</th>\n",
              "      <td>1</td>\n",
              "    </tr>\n",
              "    <tr>\n",
              "      <th>-l</th>\n",
              "      <td>1</td>\n",
              "    </tr>\n",
              "    <tr>\n",
              "      <th>1028332163</th>\n",
              "      <td>1</td>\n",
              "    </tr>\n",
              "    <tr>\n",
              "      <th>A. J. David Bosschaert</th>\n",
              "      <td>1</td>\n",
              "    </tr>\n",
              "    <tr>\n",
              "      <th>A195882</th>\n",
              "      <td>1</td>\n",
              "    </tr>\n",
              "    <tr>\n",
              "      <th>...</th>\n",
              "      <td>...</td>\n",
              "    </tr>\n",
              "    <tr>\n",
              "      <th>Łukasz Gajowy</th>\n",
              "      <td>1</td>\n",
              "    </tr>\n",
              "    <tr>\n",
              "      <th>성준영</th>\n",
              "      <td>1</td>\n",
              "    </tr>\n",
              "    <tr>\n",
              "      <th>“Erin</th>\n",
              "      <td>1</td>\n",
              "    </tr>\n",
              "    <tr>\n",
              "      <th>吴雪山</th>\n",
              "      <td>1</td>\n",
              "    </tr>\n",
              "    <tr>\n",
              "      <th>琨瑜</th>\n",
              "      <td>1</td>\n",
              "    </tr>\n",
              "  </tbody>\n",
              "</table>\n",
              "<p>901 rows × 1 columns</p>\n",
              "</div>"
            ],
            "text/plain": [
              "                        nunique\n",
              "committer                      \n",
              "(no author)                   1\n",
              "-l                            1\n",
              "1028332163                    1\n",
              "A. J. David Bosschaert        1\n",
              "A195882                       1\n",
              "...                         ...\n",
              "Łukasz Gajowy                 1\n",
              "성준영                     1\n",
              "“Erin                         1\n",
              "吴雪山                           1\n",
              "琨瑜                            1\n",
              "\n",
              "[901 rows x 1 columns]"
            ]
          },
          "metadata": {
            "tags": []
          },
          "execution_count": 41
        }
      ]
    },
    {
      "cell_type": "code",
      "metadata": {
        "id": "u7UkuJwut-Iq",
        "outputId": "743857a5-3883-4ace-f8a2-a7a6342759c5",
        "colab": {
          "base_uri": "https://localhost:8080/",
          "height": 446
        }
      },
      "source": [
        "medium_projects = projects[(projects['nunique'] > 1) & (projects['nunique'] < 4)]\n",
        "medium_projects"
      ],
      "execution_count": null,
      "outputs": [
        {
          "output_type": "execute_result",
          "data": {
            "text/html": [
              "<div>\n",
              "<style scoped>\n",
              "    .dataframe tbody tr th:only-of-type {\n",
              "        vertical-align: middle;\n",
              "    }\n",
              "\n",
              "    .dataframe tbody tr th {\n",
              "        vertical-align: top;\n",
              "    }\n",
              "\n",
              "    .dataframe thead th {\n",
              "        text-align: right;\n",
              "    }\n",
              "</style>\n",
              "<table border=\"1\" class=\"dataframe\">\n",
              "  <thead>\n",
              "    <tr style=\"text-align: right;\">\n",
              "      <th></th>\n",
              "      <th>nunique</th>\n",
              "    </tr>\n",
              "    <tr>\n",
              "      <th>committer</th>\n",
              "      <th></th>\n",
              "    </tr>\n",
              "  </thead>\n",
              "  <tbody>\n",
              "    <tr>\n",
              "      <th>Adrian Crum</th>\n",
              "      <td>2</td>\n",
              "    </tr>\n",
              "    <tr>\n",
              "      <th>Asankha Chamath Perera</th>\n",
              "      <td>2</td>\n",
              "    </tr>\n",
              "    <tr>\n",
              "      <th>Benson Margulies</th>\n",
              "      <td>3</td>\n",
              "    </tr>\n",
              "    <tr>\n",
              "      <th>Bertrand Delacretaz</th>\n",
              "      <td>2</td>\n",
              "    </tr>\n",
              "    <tr>\n",
              "      <th>Bill Speirs</th>\n",
              "      <td>2</td>\n",
              "    </tr>\n",
              "    <tr>\n",
              "      <th>...</th>\n",
              "      <td>...</td>\n",
              "    </tr>\n",
              "    <tr>\n",
              "      <th>Timothy O'Brien</th>\n",
              "      <td>3</td>\n",
              "    </tr>\n",
              "    <tr>\n",
              "      <th>Torsten Curdt</th>\n",
              "      <td>2</td>\n",
              "    </tr>\n",
              "    <tr>\n",
              "      <th>Vadim Gritsenko</th>\n",
              "      <td>2</td>\n",
              "    </tr>\n",
              "    <tr>\n",
              "      <th>Vincent Massol</th>\n",
              "      <td>2</td>\n",
              "    </tr>\n",
              "    <tr>\n",
              "      <th>asf-sync-process</th>\n",
              "      <td>3</td>\n",
              "    </tr>\n",
              "  </tbody>\n",
              "</table>\n",
              "<p>66 rows × 1 columns</p>\n",
              "</div>"
            ],
            "text/plain": [
              "                        nunique\n",
              "committer                      \n",
              "Adrian Crum                   2\n",
              "Asankha Chamath Perera        2\n",
              "Benson Margulies              3\n",
              "Bertrand Delacretaz           2\n",
              "Bill Speirs                   2\n",
              "...                         ...\n",
              "Timothy O'Brien               3\n",
              "Torsten Curdt                 2\n",
              "Vadim Gritsenko               2\n",
              "Vincent Massol                2\n",
              "asf-sync-process              3\n",
              "\n",
              "[66 rows x 1 columns]"
            ]
          },
          "metadata": {
            "tags": []
          },
          "execution_count": 43
        }
      ]
    },
    {
      "cell_type": "code",
      "metadata": {
        "id": "4zJxFUXyuJ_b",
        "outputId": "c8ef7a0e-f80d-4479-ea5c-0e99c2e3f23e",
        "colab": {
          "base_uri": "https://localhost:8080/",
          "height": 1000
        }
      },
      "source": [
        "lots_projects = projects[projects['nunique'] > 3]\n",
        "lots_projects"
      ],
      "execution_count": null,
      "outputs": [
        {
          "output_type": "execute_result",
          "data": {
            "text/html": [
              "<div>\n",
              "<style scoped>\n",
              "    .dataframe tbody tr th:only-of-type {\n",
              "        vertical-align: middle;\n",
              "    }\n",
              "\n",
              "    .dataframe tbody tr th {\n",
              "        vertical-align: top;\n",
              "    }\n",
              "\n",
              "    .dataframe thead th {\n",
              "        text-align: right;\n",
              "    }\n",
              "</style>\n",
              "<table border=\"1\" class=\"dataframe\">\n",
              "  <thead>\n",
              "    <tr style=\"text-align: right;\">\n",
              "      <th></th>\n",
              "      <th>nunique</th>\n",
              "    </tr>\n",
              "    <tr>\n",
              "      <th>committer</th>\n",
              "      <th></th>\n",
              "    </tr>\n",
              "  </thead>\n",
              "  <tbody>\n",
              "    <tr>\n",
              "      <th>Benedikt Ritter</th>\n",
              "      <td>14</td>\n",
              "    </tr>\n",
              "    <tr>\n",
              "      <th>Bernd Eckenfels</th>\n",
              "      <td>4</td>\n",
              "    </tr>\n",
              "    <tr>\n",
              "      <th>Brett Porter</th>\n",
              "      <td>6</td>\n",
              "    </tr>\n",
              "    <tr>\n",
              "      <th>Bruno P. Kinoshita</th>\n",
              "      <td>12</td>\n",
              "    </tr>\n",
              "    <tr>\n",
              "      <th>Craig R. McClanahan</th>\n",
              "      <td>7</td>\n",
              "    </tr>\n",
              "    <tr>\n",
              "      <th>David Brosius</th>\n",
              "      <td>7</td>\n",
              "    </tr>\n",
              "    <tr>\n",
              "      <th>Dennis Lundberg</th>\n",
              "      <td>17</td>\n",
              "    </tr>\n",
              "    <tr>\n",
              "      <th>Dion Gillard</th>\n",
              "      <td>16</td>\n",
              "    </tr>\n",
              "    <tr>\n",
              "      <th>Dirk Verbeeck</th>\n",
              "      <td>17</td>\n",
              "    </tr>\n",
              "    <tr>\n",
              "      <th>Emmanuel Bourg</th>\n",
              "      <td>13</td>\n",
              "    </tr>\n",
              "    <tr>\n",
              "      <th>Gary D. Gregory</th>\n",
              "      <td>22</td>\n",
              "    </tr>\n",
              "    <tr>\n",
              "      <th>Gary Gregory</th>\n",
              "      <td>17</td>\n",
              "    </tr>\n",
              "    <tr>\n",
              "      <th>Geir Magnusson Jr</th>\n",
              "      <td>5</td>\n",
              "    </tr>\n",
              "    <tr>\n",
              "      <th>GitHub</th>\n",
              "      <td>20</td>\n",
              "    </tr>\n",
              "    <tr>\n",
              "      <th>Henri Yandell</th>\n",
              "      <td>20</td>\n",
              "    </tr>\n",
              "    <tr>\n",
              "      <th>James Strachan</th>\n",
              "      <td>10</td>\n",
              "    </tr>\n",
              "    <tr>\n",
              "      <th>Jason van Zyl</th>\n",
              "      <td>12</td>\n",
              "    </tr>\n",
              "    <tr>\n",
              "      <th>Jeff Turner</th>\n",
              "      <td>6</td>\n",
              "    </tr>\n",
              "    <tr>\n",
              "      <th>Jochen Wiedmann</th>\n",
              "      <td>4</td>\n",
              "    </tr>\n",
              "    <tr>\n",
              "      <th>Joerg Schaible</th>\n",
              "      <td>8</td>\n",
              "    </tr>\n",
              "    <tr>\n",
              "      <th>Mark R. Diggory</th>\n",
              "      <td>16</td>\n",
              "    </tr>\n",
              "    <tr>\n",
              "      <th>Mark Thomas</th>\n",
              "      <td>5</td>\n",
              "    </tr>\n",
              "    <tr>\n",
              "      <th>Martin Cooper</th>\n",
              "      <td>4</td>\n",
              "    </tr>\n",
              "    <tr>\n",
              "      <th>Martin van den Bemt</th>\n",
              "      <td>8</td>\n",
              "    </tr>\n",
              "    <tr>\n",
              "      <th>Matthew Jason Benson</th>\n",
              "      <td>17</td>\n",
              "    </tr>\n",
              "    <tr>\n",
              "      <th>Niall Kegan Pemberton</th>\n",
              "      <td>4</td>\n",
              "    </tr>\n",
              "    <tr>\n",
              "      <th>Niall Pemberton</th>\n",
              "      <td>15</td>\n",
              "    </tr>\n",
              "    <tr>\n",
              "      <th>No Author</th>\n",
              "      <td>17</td>\n",
              "    </tr>\n",
              "    <tr>\n",
              "      <th>Oliver Heger</th>\n",
              "      <td>4</td>\n",
              "    </tr>\n",
              "    <tr>\n",
              "      <th>Olivier Lamy</th>\n",
              "      <td>20</td>\n",
              "    </tr>\n",
              "    <tr>\n",
              "      <th>Pascal Schumacher</th>\n",
              "      <td>16</td>\n",
              "    </tr>\n",
              "    <tr>\n",
              "      <th>Peter A Royal Jr</th>\n",
              "      <td>4</td>\n",
              "    </tr>\n",
              "    <tr>\n",
              "      <th>Phil Steitz</th>\n",
              "      <td>12</td>\n",
              "    </tr>\n",
              "    <tr>\n",
              "      <th>Rahul Akolkar</th>\n",
              "      <td>18</td>\n",
              "    </tr>\n",
              "    <tr>\n",
              "      <th>Ralph Goers</th>\n",
              "      <td>4</td>\n",
              "    </tr>\n",
              "    <tr>\n",
              "      <th>Rob Tompkins</th>\n",
              "      <td>20</td>\n",
              "    </tr>\n",
              "    <tr>\n",
              "      <th>Robert Burrell Donkin</th>\n",
              "      <td>14</td>\n",
              "    </tr>\n",
              "    <tr>\n",
              "      <th>Rodney Waldhoff</th>\n",
              "      <td>4</td>\n",
              "    </tr>\n",
              "    <tr>\n",
              "      <th>Sebastian Bazley</th>\n",
              "      <td>22</td>\n",
              "    </tr>\n",
              "    <tr>\n",
              "      <th>Sebb</th>\n",
              "      <td>7</td>\n",
              "    </tr>\n",
              "    <tr>\n",
              "      <th>Simone Tripodi</th>\n",
              "      <td>9</td>\n",
              "    </tr>\n",
              "    <tr>\n",
              "      <th>Stefan Bodewig</th>\n",
              "      <td>5</td>\n",
              "    </tr>\n",
              "    <tr>\n",
              "      <th>Stephen Colebourne</th>\n",
              "      <td>12</td>\n",
              "    </tr>\n",
              "    <tr>\n",
              "      <th>Stian Soiland-Reyes</th>\n",
              "      <td>7</td>\n",
              "    </tr>\n",
              "    <tr>\n",
              "      <th>Thomas Neidhart</th>\n",
              "      <td>8</td>\n",
              "    </tr>\n",
              "    <tr>\n",
              "      <th>Tim O'Brien</th>\n",
              "      <td>9</td>\n",
              "    </tr>\n",
              "    <tr>\n",
              "      <th>Yoav Shapira</th>\n",
              "      <td>10</td>\n",
              "    </tr>\n",
              "    <tr>\n",
              "      <th>ggregory</th>\n",
              "      <td>5</td>\n",
              "    </tr>\n",
              "    <tr>\n",
              "      <th>pascalschumacher</th>\n",
              "      <td>4</td>\n",
              "    </tr>\n",
              "  </tbody>\n",
              "</table>\n",
              "</div>"
            ],
            "text/plain": [
              "                       nunique\n",
              "committer                     \n",
              "Benedikt Ritter             14\n",
              "Bernd Eckenfels              4\n",
              "Brett Porter                 6\n",
              "Bruno P. Kinoshita          12\n",
              "Craig R. McClanahan          7\n",
              "David Brosius                7\n",
              "Dennis Lundberg             17\n",
              "Dion Gillard                16\n",
              "Dirk Verbeeck               17\n",
              "Emmanuel Bourg              13\n",
              "Gary D. Gregory             22\n",
              "Gary Gregory                17\n",
              "Geir Magnusson Jr            5\n",
              "GitHub                      20\n",
              "Henri Yandell               20\n",
              "James Strachan              10\n",
              "Jason van Zyl               12\n",
              "Jeff Turner                  6\n",
              "Jochen Wiedmann              4\n",
              "Joerg Schaible               8\n",
              "Mark R. Diggory             16\n",
              "Mark Thomas                  5\n",
              "Martin Cooper                4\n",
              "Martin van den Bemt          8\n",
              "Matthew Jason Benson        17\n",
              "Niall Kegan Pemberton        4\n",
              "Niall Pemberton             15\n",
              "No Author                   17\n",
              "Oliver Heger                 4\n",
              "Olivier Lamy                20\n",
              "Pascal Schumacher           16\n",
              "Peter A Royal Jr             4\n",
              "Phil Steitz                 12\n",
              "Rahul Akolkar               18\n",
              "Ralph Goers                  4\n",
              "Rob Tompkins                20\n",
              "Robert Burrell Donkin       14\n",
              "Rodney Waldhoff              4\n",
              "Sebastian Bazley            22\n",
              "Sebb                         7\n",
              "Simone Tripodi               9\n",
              "Stefan Bodewig               5\n",
              "Stephen Colebourne          12\n",
              "Stian Soiland-Reyes          7\n",
              "Thomas Neidhart              8\n",
              "Tim O'Brien                  9\n",
              "Yoav Shapira                10\n",
              "ggregory                     5\n",
              "pascalschumacher             4"
            ]
          },
          "metadata": {
            "tags": []
          },
          "execution_count": 44
        }
      ]
    },
    {
      "cell_type": "markdown",
      "metadata": {
        "id": "XldAefUpbjTS"
      },
      "source": [
        "In addition we can try to classify the groups obtained with the first hypothesis in this new scenario, obtaining their mean value of projects worked."
      ]
    },
    {
      "cell_type": "code",
      "metadata": {
        "id": "70xbaUdCm-wO",
        "outputId": "750c2ded-239a-43d6-849f-f7d0745104d3",
        "colab": {
          "base_uri": "https://localhost:8080/",
          "height": 52
        }
      },
      "source": [
        "users_first = first.index.values.tolist()\n",
        "projects[projects.index.isin(users_first)].mean()"
      ],
      "execution_count": null,
      "outputs": [
        {
          "output_type": "execute_result",
          "data": {
            "text/plain": [
              "nunique    1.562249\n",
              "dtype: float64"
            ]
          },
          "metadata": {
            "tags": []
          },
          "execution_count": 36
        }
      ]
    },
    {
      "cell_type": "code",
      "metadata": {
        "id": "EiToqNC-nZ_g",
        "outputId": "87708116-e4e8-40aa-cc4e-25c5a1a0be50",
        "colab": {
          "base_uri": "https://localhost:8080/",
          "height": 52
        }
      },
      "source": [
        "users_second = second.index.values.tolist()\n",
        "projects[projects.index.isin(users_second)].mean()"
      ],
      "execution_count": null,
      "outputs": [
        {
          "output_type": "execute_result",
          "data": {
            "text/plain": [
              "nunique    2.088571\n",
              "dtype: float64"
            ]
          },
          "metadata": {
            "tags": []
          },
          "execution_count": 38
        }
      ]
    },
    {
      "cell_type": "code",
      "metadata": {
        "id": "ph745LWbngn4",
        "outputId": "3e234dbb-06c8-4c52-80b9-3eb2303e8603",
        "colab": {
          "base_uri": "https://localhost:8080/",
          "height": 52
        }
      },
      "source": [
        "users_third = third.index.values.tolist()\n",
        "projects[projects.index.isin(users_third)].mean()"
      ],
      "execution_count": null,
      "outputs": [
        {
          "output_type": "execute_result",
          "data": {
            "text/plain": [
              "nunique    1.580189\n",
              "dtype: float64"
            ]
          },
          "metadata": {
            "tags": []
          },
          "execution_count": 39
        }
      ]
    },
    {
      "cell_type": "markdown",
      "metadata": {
        "id": "WmvraJ5ub6wk"
      },
      "source": [
        "As a conclusion,\n",
        "* Developers who have been very few days working in the project: we obtain a mean value of 1.56, that is, on average all developers in this group tend to work in one or two projects. This is contrary to what we might expect as developers that make small contributions to projects are expected to be working on several projects at the same time.\n",
        "* Developers who work on projects for a reasonable period: their average of projects is 2.1. This means that this group tends to work in a bit more projects than the previous one.\n",
        "* Developers who work for lots of days. As we may expect, this type of developers mainly focus on a small number of projects and spend a lot of time working on them. Their mean value is 1.58, more or less similar to the first group."
      ]
    },
    {
      "cell_type": "markdown",
      "metadata": {
        "id": "R3RbLh0Scxgd"
      },
      "source": [
        "With this final analysis, we can conclude that the different groups that we detect on both hypotheses are not the same."
      ]
    },
    {
      "cell_type": "markdown",
      "metadata": {
        "id": "AbYaLP-Uca1b"
      },
      "source": [
        "\n",
        "\n",
        "*   *Hypothesis 3: We can divide each developer profile according to the **quantity of bugs** they tend to fix* \n",
        "\n"
      ]
    },
    {
      "cell_type": "markdown",
      "metadata": {
        "id": "MVp_AZwHc1V4"
      },
      "source": [
        "This time, we are going to use data stored in the table JIRA_ISSUES."
      ]
    },
    {
      "cell_type": "code",
      "metadata": {
        "id": "CBoPdY5z4t00",
        "outputId": "bb7cadb5-8bc3-45dd-ccca-e43374ad7496",
        "colab": {
          "base_uri": "https://localhost:8080/",
          "height": 72
        }
      },
      "source": [
        "jiraIssues = pd.read_csv(\"JIRA_ISSUES.csv\")"
      ],
      "execution_count": null,
      "outputs": [
        {
          "output_type": "stream",
          "text": [
            "/usr/local/lib/python3.6/dist-packages/IPython/core/interactiveshell.py:2718: DtypeWarning: Columns (25) have mixed types.Specify dtype option on import or set low_memory=False.\n",
            "  interactivity=interactivity, compiler=compiler, result=result)\n"
          ],
          "name": "stderr"
        }
      ]
    },
    {
      "cell_type": "code",
      "metadata": {
        "id": "_PQF-y8O4__-",
        "outputId": "47a1adef-bdb7-4e14-ea66-03190a217944",
        "colab": {
          "base_uri": "https://localhost:8080/",
          "height": 931
        }
      },
      "source": [
        "jiraIssues[0:4]"
      ],
      "execution_count": null,
      "outputs": [
        {
          "output_type": "execute_result",
          "data": {
            "text/html": [
              "<div>\n",
              "<style scoped>\n",
              "    .dataframe tbody tr th:only-of-type {\n",
              "        vertical-align: middle;\n",
              "    }\n",
              "\n",
              "    .dataframe tbody tr th {\n",
              "        vertical-align: top;\n",
              "    }\n",
              "\n",
              "    .dataframe thead th {\n",
              "        text-align: right;\n",
              "    }\n",
              "</style>\n",
              "<table border=\"1\" class=\"dataframe\">\n",
              "  <thead>\n",
              "    <tr style=\"text-align: right;\">\n",
              "      <th></th>\n",
              "      <th>projectID</th>\n",
              "      <th>key</th>\n",
              "      <th>creationDate</th>\n",
              "      <th>resolutionDate</th>\n",
              "      <th>updateDate</th>\n",
              "      <th>dueDate</th>\n",
              "      <th>resolution</th>\n",
              "      <th>type</th>\n",
              "      <th>priority</th>\n",
              "      <th>fixVersions</th>\n",
              "      <th>versions</th>\n",
              "      <th>timeSpent</th>\n",
              "      <th>aggregatedTimeSpent</th>\n",
              "      <th>timeEstimate</th>\n",
              "      <th>timeOriginalEstimate</th>\n",
              "      <th>aggregateTimeEstimate</th>\n",
              "      <th>progressPercent</th>\n",
              "      <th>componentName</th>\n",
              "      <th>componentDescription</th>\n",
              "      <th>description</th>\n",
              "      <th>summary</th>\n",
              "      <th>watchCount</th>\n",
              "      <th>votes</th>\n",
              "      <th>labels</th>\n",
              "      <th>creatorName</th>\n",
              "      <th>creatorActive</th>\n",
              "      <th>assignee</th>\n",
              "      <th>reporter</th>\n",
              "    </tr>\n",
              "  </thead>\n",
              "  <tbody>\n",
              "    <tr>\n",
              "      <th>0</th>\n",
              "      <td>commons-exec</td>\n",
              "      <td>EXEC-108</td>\n",
              "      <td>2018-09-18T11:15:58.000+0000</td>\n",
              "      <td>NaN</td>\n",
              "      <td>2018-09-18T11:15:58.000+0000</td>\n",
              "      <td>NaN</td>\n",
              "      <td>NaN</td>\n",
              "      <td>Bug</td>\n",
              "      <td>Major</td>\n",
              "      <td>NaN</td>\n",
              "      <td>['1.3']</td>\n",
              "      <td>NaN</td>\n",
              "      <td>NaN</td>\n",
              "      <td>NaN</td>\n",
              "      <td>NaN</td>\n",
              "      <td>NaN</td>\n",
              "      <td>NaN</td>\n",
              "      <td>NaN</td>\n",
              "      <td>NaN</td>\n",
              "      <td>When using Apache Exec to execute the followin...</td>\n",
              "      <td>Compatibility problem with Android ADB</td>\n",
              "      <td>1.0</td>\n",
              "      <td>NaN</td>\n",
              "      <td>NaN</td>\n",
              "      <td>natanieljr</td>\n",
              "      <td>True</td>\n",
              "      <td>NaN</td>\n",
              "      <td>natanieljr</td>\n",
              "    </tr>\n",
              "    <tr>\n",
              "      <th>1</th>\n",
              "      <td>commons-exec</td>\n",
              "      <td>EXEC-107</td>\n",
              "      <td>2018-07-04T12:09:47.000+0000</td>\n",
              "      <td>NaN</td>\n",
              "      <td>2018-07-04T12:09:47.000+0000</td>\n",
              "      <td>NaN</td>\n",
              "      <td>NaN</td>\n",
              "      <td>New Feature</td>\n",
              "      <td>Major</td>\n",
              "      <td>NaN</td>\n",
              "      <td>['1.3']</td>\n",
              "      <td>NaN</td>\n",
              "      <td>NaN</td>\n",
              "      <td>NaN</td>\n",
              "      <td>NaN</td>\n",
              "      <td>NaN</td>\n",
              "      <td>NaN</td>\n",
              "      <td>NaN</td>\n",
              "      <td>NaN</td>\n",
              "      <td>Hi,\\r\\n\\r\\nI would like to start an independen...</td>\n",
              "      <td>Start independent process</td>\n",
              "      <td>1.0</td>\n",
              "      <td>NaN</td>\n",
              "      <td>NaN</td>\n",
              "      <td>stefanreich</td>\n",
              "      <td>True</td>\n",
              "      <td>NaN</td>\n",
              "      <td>stefanreich</td>\n",
              "    </tr>\n",
              "    <tr>\n",
              "      <th>2</th>\n",
              "      <td>commons-exec</td>\n",
              "      <td>EXEC-106</td>\n",
              "      <td>2018-03-06T11:32:51.000+0000</td>\n",
              "      <td>NaN</td>\n",
              "      <td>2018-03-09T15:50:48.000+0000</td>\n",
              "      <td>NaN</td>\n",
              "      <td>NaN</td>\n",
              "      <td>Improvement</td>\n",
              "      <td>Major</td>\n",
              "      <td>NaN</td>\n",
              "      <td>NaN</td>\n",
              "      <td>NaN</td>\n",
              "      <td>NaN</td>\n",
              "      <td>NaN</td>\n",
              "      <td>NaN</td>\n",
              "      <td>NaN</td>\n",
              "      <td>NaN</td>\n",
              "      <td>NaN</td>\n",
              "      <td>NaN</td>\n",
              "      <td>It looks like the Watchdog class could use vol...</td>\n",
              "      <td>Watchdog class could use volatile instead of s...</td>\n",
              "      <td>1.0</td>\n",
              "      <td>NaN</td>\n",
              "      <td>NaN</td>\n",
              "      <td>sebb</td>\n",
              "      <td>True</td>\n",
              "      <td>NaN</td>\n",
              "      <td>sebb</td>\n",
              "    </tr>\n",
              "    <tr>\n",
              "      <th>3</th>\n",
              "      <td>commons-exec</td>\n",
              "      <td>EXEC-105</td>\n",
              "      <td>2018-02-16T13:47:10.000+0000</td>\n",
              "      <td>NaN</td>\n",
              "      <td>2018-02-16T15:37:12.000+0000</td>\n",
              "      <td>NaN</td>\n",
              "      <td>NaN</td>\n",
              "      <td>Wish</td>\n",
              "      <td>Trivial</td>\n",
              "      <td>NaN</td>\n",
              "      <td>['1.3']</td>\n",
              "      <td>NaN</td>\n",
              "      <td>NaN</td>\n",
              "      <td>NaN</td>\n",
              "      <td>NaN</td>\n",
              "      <td>NaN</td>\n",
              "      <td>NaN</td>\n",
              "      <td>NaN</td>\n",
              "      <td>NaN</td>\n",
              "      <td>I want to apologize if this issue is not corre...</td>\n",
              "      <td>Small mistakes in the documentation for Apache...</td>\n",
              "      <td>2.0</td>\n",
              "      <td>NaN</td>\n",
              "      <td>NaN</td>\n",
              "      <td>IP</td>\n",
              "      <td>True</td>\n",
              "      <td>NaN</td>\n",
              "      <td>IP</td>\n",
              "    </tr>\n",
              "    <tr>\n",
              "      <th>4</th>\n",
              "      <td>commons-exec</td>\n",
              "      <td>EXEC-104</td>\n",
              "      <td>2017-08-04T11:57:39.000+0000</td>\n",
              "      <td>NaN</td>\n",
              "      <td>2017-08-04T11:57:39.000+0000</td>\n",
              "      <td>NaN</td>\n",
              "      <td>NaN</td>\n",
              "      <td>Bug</td>\n",
              "      <td>Major</td>\n",
              "      <td>NaN</td>\n",
              "      <td>NaN</td>\n",
              "      <td>NaN</td>\n",
              "      <td>NaN</td>\n",
              "      <td>NaN</td>\n",
              "      <td>NaN</td>\n",
              "      <td>NaN</td>\n",
              "      <td>NaN</td>\n",
              "      <td>NaN</td>\n",
              "      <td>NaN</td>\n",
              "      <td>[Travis CI reveals the following test failures...</td>\n",
              "      <td>Test failure \"Exec34Test.testExec34_2:88 Watch...</td>\n",
              "      <td>1.0</td>\n",
              "      <td>NaN</td>\n",
              "      <td>NaN</td>\n",
              "      <td>krichter</td>\n",
              "      <td>True</td>\n",
              "      <td>NaN</td>\n",
              "      <td>krichter</td>\n",
              "    </tr>\n",
              "    <tr>\n",
              "      <th>5</th>\n",
              "      <td>commons-exec</td>\n",
              "      <td>EXEC-103</td>\n",
              "      <td>2016-04-18T16:01:22.000+0000</td>\n",
              "      <td>NaN</td>\n",
              "      <td>2016-04-18T16:01:22.000+0000</td>\n",
              "      <td>NaN</td>\n",
              "      <td>NaN</td>\n",
              "      <td>Bug</td>\n",
              "      <td>Major</td>\n",
              "      <td>NaN</td>\n",
              "      <td>['1.3']</td>\n",
              "      <td>NaN</td>\n",
              "      <td>NaN</td>\n",
              "      <td>NaN</td>\n",
              "      <td>NaN</td>\n",
              "      <td>NaN</td>\n",
              "      <td>NaN</td>\n",
              "      <td>NaN</td>\n",
              "      <td>NaN</td>\n",
              "      <td>DefaultExecutor is used in https://github.com/...</td>\n",
              "      <td>Hanging during closing the streams; FileInputS...</td>\n",
              "      <td>1.0</td>\n",
              "      <td>NaN</td>\n",
              "      <td>NaN</td>\n",
              "      <td>mma</td>\n",
              "      <td>True</td>\n",
              "      <td>NaN</td>\n",
              "      <td>mma</td>\n",
              "    </tr>\n",
              "    <tr>\n",
              "      <th>6</th>\n",
              "      <td>commons-exec</td>\n",
              "      <td>EXEC-102</td>\n",
              "      <td>2016-01-27T22:13:51.000+0000</td>\n",
              "      <td>NaN</td>\n",
              "      <td>2016-04-06T18:42:49.000+0000</td>\n",
              "      <td>NaN</td>\n",
              "      <td>NaN</td>\n",
              "      <td>Bug</td>\n",
              "      <td>Major</td>\n",
              "      <td>NaN</td>\n",
              "      <td>['1.3']</td>\n",
              "      <td>NaN</td>\n",
              "      <td>NaN</td>\n",
              "      <td>NaN</td>\n",
              "      <td>NaN</td>\n",
              "      <td>NaN</td>\n",
              "      <td>NaN</td>\n",
              "      <td>NaN</td>\n",
              "      <td>NaN</td>\n",
              "      <td>When trying to pass an InputStream to a proces...</td>\n",
              "      <td>\"Stream closed\" error in Java 8 when passing i...</td>\n",
              "      <td>2.0</td>\n",
              "      <td>NaN</td>\n",
              "      <td>NaN</td>\n",
              "      <td>cprice-puppet</td>\n",
              "      <td>True</td>\n",
              "      <td>sgoeschl</td>\n",
              "      <td>cprice-puppet</td>\n",
              "    </tr>\n",
              "    <tr>\n",
              "      <th>7</th>\n",
              "      <td>commons-exec</td>\n",
              "      <td>EXEC-101</td>\n",
              "      <td>2016-01-26T00:21:06.000+0000</td>\n",
              "      <td>NaN</td>\n",
              "      <td>2016-01-28T20:47:49.000+0000</td>\n",
              "      <td>NaN</td>\n",
              "      <td>NaN</td>\n",
              "      <td>Bug</td>\n",
              "      <td>Major</td>\n",
              "      <td>NaN</td>\n",
              "      <td>['1.3']</td>\n",
              "      <td>NaN</td>\n",
              "      <td>NaN</td>\n",
              "      <td>NaN</td>\n",
              "      <td>NaN</td>\n",
              "      <td>NaN</td>\n",
              "      <td>NaN</td>\n",
              "      <td>NaN</td>\n",
              "      <td>NaN</td>\n",
              "      <td>I encountered a serious glitch when using comm...</td>\n",
              "      <td>IOException when a process terminates before a...</td>\n",
              "      <td>1.0</td>\n",
              "      <td>NaN</td>\n",
              "      <td>NaN</td>\n",
              "      <td>kunda</td>\n",
              "      <td>True</td>\n",
              "      <td>sgoeschl</td>\n",
              "      <td>kunda</td>\n",
              "    </tr>\n",
              "    <tr>\n",
              "      <th>8</th>\n",
              "      <td>commons-exec</td>\n",
              "      <td>EXEC-100</td>\n",
              "      <td>2016-01-11T16:45:23.000+0000</td>\n",
              "      <td>2016-01-11T18:01:01.000+0000</td>\n",
              "      <td>2016-01-11T18:01:01.000+0000</td>\n",
              "      <td>NaN</td>\n",
              "      <td>Fixed</td>\n",
              "      <td>Task</td>\n",
              "      <td>Minor</td>\n",
              "      <td>['1.4']</td>\n",
              "      <td>NaN</td>\n",
              "      <td>NaN</td>\n",
              "      <td>NaN</td>\n",
              "      <td>NaN</td>\n",
              "      <td>NaN</td>\n",
              "      <td>NaN</td>\n",
              "      <td>NaN</td>\n",
              "      <td>NaN</td>\n",
              "      <td>NaN</td>\n",
              "      <td>The {{OS}} class is a copy &amp; pasta of an outda...</td>\n",
              "      <td>Sync org.apache.commons.exec.OS with the newes...</td>\n",
              "      <td>1.0</td>\n",
              "      <td>NaN</td>\n",
              "      <td>NaN</td>\n",
              "      <td>sgoeschl</td>\n",
              "      <td>True</td>\n",
              "      <td>sgoeschl</td>\n",
              "      <td>sgoeschl</td>\n",
              "    </tr>\n",
              "    <tr>\n",
              "      <th>9</th>\n",
              "      <td>commons-exec</td>\n",
              "      <td>EXEC-99</td>\n",
              "      <td>2016-01-09T10:17:48.000+0000</td>\n",
              "      <td>NaN</td>\n",
              "      <td>2016-01-09T16:35:24.000+0000</td>\n",
              "      <td>NaN</td>\n",
              "      <td>NaN</td>\n",
              "      <td>Improvement</td>\n",
              "      <td>Major</td>\n",
              "      <td>['1.4']</td>\n",
              "      <td>['1.3']</td>\n",
              "      <td>NaN</td>\n",
              "      <td>NaN</td>\n",
              "      <td>NaN</td>\n",
              "      <td>NaN</td>\n",
              "      <td>NaN</td>\n",
              "      <td>NaN</td>\n",
              "      <td>NaN</td>\n",
              "      <td>NaN</td>\n",
              "      <td>Sometimes the current PumpStreamHandler blocks...</td>\n",
              "      <td>Provide a non-blocking PumpStreamHandler</td>\n",
              "      <td>1.0</td>\n",
              "      <td>1.0</td>\n",
              "      <td>NaN</td>\n",
              "      <td>sgoeschl</td>\n",
              "      <td>True</td>\n",
              "      <td>sgoeschl</td>\n",
              "      <td>sgoeschl</td>\n",
              "    </tr>\n",
              "    <tr>\n",
              "      <th>10</th>\n",
              "      <td>commons-exec</td>\n",
              "      <td>EXEC-98</td>\n",
              "      <td>2016-01-08T21:40:01.000+0000</td>\n",
              "      <td>2016-01-09T00:59:19.000+0000</td>\n",
              "      <td>2016-01-09T00:59:19.000+0000</td>\n",
              "      <td>NaN</td>\n",
              "      <td>Fixed</td>\n",
              "      <td>Bug</td>\n",
              "      <td>Major</td>\n",
              "      <td>['1.4']</td>\n",
              "      <td>['1.3']</td>\n",
              "      <td>NaN</td>\n",
              "      <td>NaN</td>\n",
              "      <td>NaN</td>\n",
              "      <td>NaN</td>\n",
              "      <td>NaN</td>\n",
              "      <td>NaN</td>\n",
              "      <td>NaN</td>\n",
              "      <td>NaN</td>\n",
              "      <td>Getting various \"findbugs\" ArrayIndexOutOfBoun...</td>\n",
              "      <td>Maven site creation fails with Findbugs errors</td>\n",
              "      <td>1.0</td>\n",
              "      <td>NaN</td>\n",
              "      <td>NaN</td>\n",
              "      <td>sgoeschl</td>\n",
              "      <td>True</td>\n",
              "      <td>sgoeschl</td>\n",
              "      <td>sgoeschl</td>\n",
              "    </tr>\n",
              "    <tr>\n",
              "      <th>11</th>\n",
              "      <td>commons-exec</td>\n",
              "      <td>EXEC-97</td>\n",
              "      <td>2015-11-17T14:50:47.000+0000</td>\n",
              "      <td>2015-11-17T14:53:13.000+0000</td>\n",
              "      <td>2015-11-17T14:53:13.000+0000</td>\n",
              "      <td>NaN</td>\n",
              "      <td>Fixed</td>\n",
              "      <td>Bug</td>\n",
              "      <td>Major</td>\n",
              "      <td>NaN</td>\n",
              "      <td>NaN</td>\n",
              "      <td>NaN</td>\n",
              "      <td>NaN</td>\n",
              "      <td>NaN</td>\n",
              "      <td>NaN</td>\n",
              "      <td>NaN</td>\n",
              "      <td>NaN</td>\n",
              "      <td>NaN</td>\n",
              "      <td>NaN</td>\n",
              "      <td>Add the file plugin and browser platform (edge...</td>\n",
              "      <td>File plugin on browser platform causes \"proxy ...</td>\n",
              "      <td>1.0</td>\n",
              "      <td>NaN</td>\n",
              "      <td>NaN</td>\n",
              "      <td>TimBarham</td>\n",
              "      <td>True</td>\n",
              "      <td>NaN</td>\n",
              "      <td>TimBarham</td>\n",
              "    </tr>\n",
              "    <tr>\n",
              "      <th>12</th>\n",
              "      <td>commons-exec</td>\n",
              "      <td>EXEC-96</td>\n",
              "      <td>2015-10-29T21:16:23.000+0000</td>\n",
              "      <td>NaN</td>\n",
              "      <td>2015-10-29T21:19:47.000+0000</td>\n",
              "      <td>NaN</td>\n",
              "      <td>NaN</td>\n",
              "      <td>Improvement</td>\n",
              "      <td>Major</td>\n",
              "      <td>NaN</td>\n",
              "      <td>['1.3']</td>\n",
              "      <td>NaN</td>\n",
              "      <td>NaN</td>\n",
              "      <td>NaN</td>\n",
              "      <td>NaN</td>\n",
              "      <td>NaN</td>\n",
              "      <td>NaN</td>\n",
              "      <td>NaN</td>\n",
              "      <td>NaN</td>\n",
              "      <td>DefaultExecutor handles InterruptedException w...</td>\n",
              "      <td>When execution is interrupted, an exception sh...</td>\n",
              "      <td>1.0</td>\n",
              "      <td>NaN</td>\n",
              "      <td>NaN</td>\n",
              "      <td>almson</td>\n",
              "      <td>True</td>\n",
              "      <td>NaN</td>\n",
              "      <td>almson</td>\n",
              "    </tr>\n",
              "    <tr>\n",
              "      <th>13</th>\n",
              "      <td>commons-exec</td>\n",
              "      <td>EXEC-95</td>\n",
              "      <td>2015-10-16T16:41:33.000+0000</td>\n",
              "      <td>NaN</td>\n",
              "      <td>2016-01-18T06:54:50.000+0000</td>\n",
              "      <td>NaN</td>\n",
              "      <td>NaN</td>\n",
              "      <td>Bug</td>\n",
              "      <td>Major</td>\n",
              "      <td>NaN</td>\n",
              "      <td>['1.3']</td>\n",
              "      <td>NaN</td>\n",
              "      <td>NaN</td>\n",
              "      <td>NaN</td>\n",
              "      <td>NaN</td>\n",
              "      <td>NaN</td>\n",
              "      <td>NaN</td>\n",
              "      <td>NaN</td>\n",
              "      <td>NaN</td>\n",
              "      <td>I would like to run my script from a different...</td>\n",
              "      <td>Program not found after setWorkingDirectory</td>\n",
              "      <td>3.0</td>\n",
              "      <td>1.0</td>\n",
              "      <td>NaN</td>\n",
              "      <td>lorenzo.cozza</td>\n",
              "      <td>True</td>\n",
              "      <td>sgoeschl</td>\n",
              "      <td>lorenzo.cozza</td>\n",
              "    </tr>\n",
              "  </tbody>\n",
              "</table>\n",
              "</div>"
            ],
            "text/plain": [
              "       projectID       key  ...  assignee       reporter\n",
              "0   commons-exec  EXEC-108  ...       NaN     natanieljr\n",
              "1   commons-exec  EXEC-107  ...       NaN    stefanreich\n",
              "2   commons-exec  EXEC-106  ...       NaN           sebb\n",
              "3   commons-exec  EXEC-105  ...       NaN             IP\n",
              "4   commons-exec  EXEC-104  ...       NaN       krichter\n",
              "5   commons-exec  EXEC-103  ...       NaN            mma\n",
              "6   commons-exec  EXEC-102  ...  sgoeschl  cprice-puppet\n",
              "7   commons-exec  EXEC-101  ...  sgoeschl          kunda\n",
              "8   commons-exec  EXEC-100  ...  sgoeschl       sgoeschl\n",
              "9   commons-exec   EXEC-99  ...  sgoeschl       sgoeschl\n",
              "10  commons-exec   EXEC-98  ...  sgoeschl       sgoeschl\n",
              "11  commons-exec   EXEC-97  ...       NaN      TimBarham\n",
              "12  commons-exec   EXEC-96  ...       NaN         almson\n",
              "13  commons-exec   EXEC-95  ...  sgoeschl  lorenzo.cozza\n",
              "\n",
              "[14 rows x 28 columns]"
            ]
          },
          "metadata": {
            "tags": []
          },
          "execution_count": 46
        }
      ]
    },
    {
      "cell_type": "markdown",
      "metadata": {
        "id": "nvOA3fBidiDY"
      },
      "source": [
        "For each assignee, we have to cumpute the different issues (different creationDate) for which he/she has fixed the bug of himself or another developer. We must take into account that the resultant developers are going to be the one that made at least one bug fixing."
      ]
    },
    {
      "cell_type": "code",
      "metadata": {
        "id": "7cFFBLIF5_0R"
      },
      "source": [
        "bugs = jiraIssues.groupby(['assignee'])['creationDate'].agg(['nunique'])"
      ],
      "execution_count": null,
      "outputs": []
    },
    {
      "cell_type": "markdown",
      "metadata": {
        "id": "xRPuW3SOds4n"
      },
      "source": [
        "Next, we plot a bar chart with the result data."
      ]
    },
    {
      "cell_type": "code",
      "metadata": {
        "id": "g8QDWKaU7hBV",
        "outputId": "5c2ba02d-bcc9-454c-cd19-5478d42bc4ef",
        "colab": {
          "base_uri": "https://localhost:8080/",
          "height": 329
        }
      },
      "source": [
        "plt.figure(figsize=(30,10))\n",
        "bugs['nunique'].value_counts().plot(kind='bar')"
      ],
      "execution_count": null,
      "outputs": [
        {
          "output_type": "execute_result",
          "data": {
            "text/plain": [
              "<matplotlib.axes._subplots.AxesSubplot at 0x7fef0f0570f0>"
            ]
          },
          "metadata": {
            "tags": []
          },
          "execution_count": 50
        },
        {
          "output_type": "display_data",
          "data": {
            "image/png": "[encoded data removed]",
            "text/plain": [
              "<Figure size 2160x720 with 1 Axes>"
            ]
          },
          "metadata": {
            "tags": [],
            "needs_background": "light"
          }
        }
      ]
    },
    {
      "cell_type": "markdown",
      "metadata": {
        "id": "1Y9d0Vuidwgv"
      },
      "source": [
        "We can clearly appreciate that the majority of developers are concentrated in the range of bugs fixed between 1 and 9. A small part of them are spread through values higher than 10. This way, we have identified two different developer behaviours. However, we must take into account another important group: the ones that do not fix any bug. This quantity is quite higher than the quantity of developers that fixed just 1 bug.\n"
      ]
    },
    {
      "cell_type": "markdown",
      "metadata": {
        "id": "XdWeWVrDd5om"
      },
      "source": [
        "Again we can try to relate the different groups of developers obtained with the previous hypotheses.\n"
      ]
    },
    {
      "cell_type": "code",
      "metadata": {
        "id": "catAxJN7z6UC",
        "outputId": "3a6e2785-149a-4542-ec63-a60b68956a9d",
        "colab": {
          "base_uri": "https://localhost:8080/",
          "height": 52
        }
      },
      "source": [
        "users_first = first.index.values.tolist()\n",
        "bugs[bugs.index.isin(users_first)].mean()"
      ],
      "execution_count": null,
      "outputs": [
        {
          "output_type": "execute_result",
          "data": {
            "text/plain": [
              "nunique    65.210526\n",
              "dtype: float64"
            ]
          },
          "metadata": {
            "tags": []
          },
          "execution_count": 52
        }
      ]
    },
    {
      "cell_type": "code",
      "metadata": {
        "id": "2biti9QL7sza",
        "outputId": "35594942-726d-45d0-a30a-bc5cff5edd63",
        "colab": {
          "base_uri": "https://localhost:8080/",
          "height": 52
        }
      },
      "source": [
        "users_second = second.index.values.tolist()\n",
        "bugs[bugs.index.isin(users_second)].mean()"
      ],
      "execution_count": null,
      "outputs": [
        {
          "output_type": "execute_result",
          "data": {
            "text/plain": [
              "nunique    185.416667\n",
              "dtype: float64"
            ]
          },
          "metadata": {
            "tags": []
          },
          "execution_count": 51
        }
      ]
    },
    {
      "cell_type": "code",
      "metadata": {
        "id": "Qwjv-oKS0BUI",
        "outputId": "2423a834-195e-4da2-8c89-c601219fa423",
        "colab": {
          "base_uri": "https://localhost:8080/",
          "height": 52
        }
      },
      "source": [
        "users_third = third.index.values.tolist()\n",
        "bugs[bugs.index.isin(users_third)].mean()"
      ],
      "execution_count": null,
      "outputs": [
        {
          "output_type": "execute_result",
          "data": {
            "text/plain": [
              "nunique    323.5\n",
              "dtype: float64"
            ]
          },
          "metadata": {
            "tags": []
          },
          "execution_count": 54
        }
      ]
    },
    {
      "cell_type": "markdown",
      "metadata": {
        "id": "HPn4I3fNeAGr"
      },
      "source": [
        "For the first hypothesis,\n",
        "\n",
        "* Developers who have been very few days working in the project: we obtain a mean value of 65.21, that is, on average all developers in this group tend to fix 65 bugs.\n",
        "* Developers who work on projects for a reasonable period: their average fixing bugs value is 185.4, that is more than double the value of the previous group.\n",
        "* Developers who work for lots of days: their mean value is 323.5 of fixed bugs."
      ]
    },
    {
      "cell_type": "code",
      "metadata": {
        "id": "sql7U0Bk0JOQ",
        "outputId": "f63f9f3e-0b7c-4e21-884a-009edaf4c724",
        "colab": {
          "base_uri": "https://localhost:8080/",
          "height": 52
        }
      },
      "source": [
        "users_little_projects = little_projects.index.values.tolist()\n",
        "bugs[bugs.index.isin(users_little_projects)].mean()"
      ],
      "execution_count": null,
      "outputs": [
        {
          "output_type": "execute_result",
          "data": {
            "text/plain": [
              "nunique    134.253968\n",
              "dtype: float64"
            ]
          },
          "metadata": {
            "tags": []
          },
          "execution_count": 55
        }
      ]
    },
    {
      "cell_type": "code",
      "metadata": {
        "id": "TbY51Apt3VYF",
        "outputId": "cc989e8a-b3e8-4641-f752-f61d5faddf6b",
        "colab": {
          "base_uri": "https://localhost:8080/",
          "height": 52
        }
      },
      "source": [
        "users_medium_projects = medium_projects.index.values.tolist()\n",
        "bugs[bugs.index.isin(users_medium_projects)].mean()"
      ],
      "execution_count": null,
      "outputs": [
        {
          "output_type": "execute_result",
          "data": {
            "text/plain": [
              "nunique   NaN\n",
              "dtype: float64"
            ]
          },
          "metadata": {
            "tags": []
          },
          "execution_count": 56
        }
      ]
    },
    {
      "cell_type": "code",
      "metadata": {
        "id": "msRXZp5L3655",
        "outputId": "ba9f5a71-66bb-41a7-9d36-f4cc079f9a19",
        "colab": {
          "base_uri": "https://localhost:8080/",
          "height": 52
        }
      },
      "source": [
        "users_lots_projects = lots_projects.index.values.tolist()\n",
        "bugs[bugs.index.isin(users_lots_projects)].mean()"
      ],
      "execution_count": null,
      "outputs": [
        {
          "output_type": "execute_result",
          "data": {
            "text/plain": [
              "nunique    191.5\n",
              "dtype: float64"
            ]
          },
          "metadata": {
            "tags": []
          },
          "execution_count": 58
        }
      ]
    },
    {
      "cell_type": "markdown",
      "metadata": {
        "id": "j9aLycCGeK7p"
      },
      "source": [
        "For the second hypothesis,\n",
        "* Developers that just worked on one single project: in average they are used to fix 134.3 bugs.\n",
        "* Developers who worked in a moderate number of projects (2-3): we are not able to find any case where these developers solve any bugs.\n",
        "* Developers that participate in lots of projects (> 3): their mean value is 191.5, which is quite superior to the first case but more or less similar.\n"
      ]
    },
    {
      "cell_type": "markdown",
      "metadata": {
        "id": "Al2uWFxofGcW"
      },
      "source": [
        "\n",
        "\n",
        "*   *Hypothesis 4: We can divide each developer profile according to the  **frequency** of commits* \n",
        "\n"
      ]
    },
    {
      "cell_type": "markdown",
      "metadata": {
        "id": "tRNPfUAGf296"
      },
      "source": [
        "We have again used data stored in the table GIT_COMMIT."
      ]
    },
    {
      "cell_type": "code",
      "metadata": {
        "id": "FPZI44pKByRe"
      },
      "source": [
        "gitCommitsDf = gitCommit"
      ],
      "execution_count": null,
      "outputs": []
    },
    {
      "cell_type": "markdown",
      "metadata": {
        "id": "A9oRAG2_jFua"
      },
      "source": [
        "For each committer, we have to compute the total number of commits he/she has done. Then, for the developers with more than one commit, we compute the difference of time between the timestamps of sorted commits in seconds. In order to have just one value for each committer, the mean value of time between commits is performed."
      ]
    },
    {
      "cell_type": "code",
      "metadata": {
        "id": "uZw4Bp1x4jTR"
      },
      "source": [
        "gitCommitsDf['nCommits'] = 1\n",
        "ncommits = gitCommitsDf.groupby(by='committer').sum()"
      ],
      "execution_count": null,
      "outputs": []
    },
    {
      "cell_type": "code",
      "metadata": {
        "id": "ZVpwf0SSBi44"
      },
      "source": [
        "import statistics as stats\n",
        "frequencies = []\n",
        "gitCommitsDf = gitCommitsDf.sort_values(by='committerDate', ascending=True)\n",
        "for author in ncommits.index:\n",
        "    if ncommits.loc[author, 'nCommits'] == 1:\n",
        "        continue\n",
        "    diffs = []\n",
        "    prevDate = None\n",
        "    i = 0\n",
        "    for commitDate in gitCommitsDf.loc[gitCommitsDf['committer'] == author, 'committerDate']:\n",
        "        if i == 0:\n",
        "            prevDate = commitDate\n",
        "            i += 1\n",
        "        else:\n",
        "            diffs.append((commitDate - prevDate).total_seconds())\n",
        "            prevDate = commitDate\n",
        "    frequencies.append(stats.mean(diffs))\n",
        "frequencies = [secs / float(3600 * 24) for secs in frequencies]"
      ],
      "execution_count": null,
      "outputs": []
    },
    {
      "cell_type": "markdown",
      "metadata": {
        "id": "FQyXAaJejNfF"
      },
      "source": [
        "We can again plot its histograma so we can observe what type of distribution it follows"
      ]
    },
    {
      "cell_type": "code",
      "metadata": {
        "id": "E730rWASBwEN",
        "outputId": "4cba67b0-44ec-4a42-c7a3-c051d903f307",
        "colab": {
          "base_uri": "https://localhost:8080/",
          "height": 313
        }
      },
      "source": [
        "frequencies.sort()\n",
        "plt.hist(frequencies, bins = 50, cumulative=True, density=True)\n",
        "plt.ylabel('Prob. density')\n",
        "plt.xlabel('Mean commit frequency (days)')\n",
        "plt.title('Cumulative density histogram of mean commit frequency by developer')"
      ],
      "execution_count": null,
      "outputs": [
        {
          "output_type": "execute_result",
          "data": {
            "text/plain": [
              "Text(0.5, 1.0, 'Cumulative density histogram of mean commit frequency by developer')"
            ]
          },
          "metadata": {
            "tags": []
          },
          "execution_count": 64
        },
        {
          "output_type": "display_data",
          "data": {
            "image/png": "[encoded data removed]",
            "text/plain": [
              "<Figure size 432x288 with 1 Axes>"
            ]
          },
          "metadata": {
            "tags": [],
            "needs_background": "light"
          }
        }
      ]
    },
    {
      "cell_type": "markdown",
      "metadata": {
        "id": "RitIpddEjUiF"
      },
      "source": [
        "We clearly see that the majority of developers commit at least once every two weeks (about 70% of density). Another 20% of density approximately belongs to developers that commit between once every 2 weeks and once every 3 months (approximately). The 10% left of density belongs to developers that very rarely commit (> 3 months). "
      ]
    }
  ]
}