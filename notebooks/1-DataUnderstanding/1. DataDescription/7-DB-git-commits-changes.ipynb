{
 "cells": [
  {
   "cell_type": "markdown",
   "metadata": {
    "id": "AmjuXnm_Te2n"
   },
   "source": [
    "# **GIT_COMMITS_CHANGES**\n",
    "\n",
    "This notebook the description of the table `GIT_COMMITS_CHANGES`.\n",
    "\n",
    "First, we import the libraries we need and, then, we read the corresponding csv."
   ]
  },
  {
   "cell_type": "code",
   "execution_count": 27,
   "metadata": {
    "id": "48N7c6qtTcaG"
   },
   "outputs": [],
   "source": [
    "import pandas as pd\n",
    "import matplotlib.pyplot as plt\n",
    "import numpy as np"
   ]
  },
  {
   "cell_type": "code",
   "execution_count": 28,
   "metadata": {
    "id": "_T25-F5STcaN"
   },
   "outputs": [],
   "source": [
    "df = pd.read_csv('../../data/raw/GIT_COMMITS_CHANGES.csv')"
   ]
  },
  {
   "cell_type": "markdown",
   "metadata": {
    "id": "TdXKp27-T6LU"
   },
   "source": [
    "We show the first rows of the table to get an idea of its content."
   ]
  },
  {
   "cell_type": "code",
   "execution_count": 29,
   "metadata": {
    "id": "zx6n2xF-TcaR",
    "outputId": "0db0bf37-5e85-48d8-f4c3-3edd5a236884"
   },
   "outputs": [
    {
     "data": {
      "text/html": [
       "<div>\n",
       "<style scoped>\n",
       "    .dataframe tbody tr th:only-of-type {\n",
       "        vertical-align: middle;\n",
       "    }\n",
       "\n",
       "    .dataframe tbody tr th {\n",
       "        vertical-align: top;\n",
       "    }\n",
       "\n",
       "    .dataframe thead th {\n",
       "        text-align: right;\n",
       "    }\n",
       "</style>\n",
       "<table border=\"1\" class=\"dataframe\">\n",
       "  <thead>\n",
       "    <tr style=\"text-align: right;\">\n",
       "      <th></th>\n",
       "      <th>projectID</th>\n",
       "      <th>commitHash</th>\n",
       "      <th>oldPath</th>\n",
       "      <th>newPath</th>\n",
       "      <th>changeType</th>\n",
       "      <th>diff</th>\n",
       "      <th>linesAdded</th>\n",
       "      <th>linesRemoved</th>\n",
       "      <th>nloc</th>\n",
       "      <th>complexity</th>\n",
       "      <th>tokenCount</th>\n",
       "      <th>methods</th>\n",
       "    </tr>\n",
       "  </thead>\n",
       "  <tbody>\n",
       "    <tr>\n",
       "      <th>0</th>\n",
       "      <td>accumulo</td>\n",
       "      <td>e0880e263e4bf8662ba3848405200473a25dfc9f</td>\n",
       "      <td>NaN</td>\n",
       "      <td>Accumulo.README</td>\n",
       "      <td>ModificationType.ADD</td>\n",
       "      <td>@@ -0,0 +1,196 @@\\n+**************************...</td>\n",
       "      <td>196</td>\n",
       "      <td>0</td>\n",
       "      <td>145.0</td>\n",
       "      <td>0.0</td>\n",
       "      <td>1861.0</td>\n",
       "      <td>[]</td>\n",
       "    </tr>\n",
       "    <tr>\n",
       "      <th>1</th>\n",
       "      <td>accumulo</td>\n",
       "      <td>e0880e263e4bf8662ba3848405200473a25dfc9f</td>\n",
       "      <td>NaN</td>\n",
       "      <td>bin/LogForwarder.sh</td>\n",
       "      <td>ModificationType.ADD</td>\n",
       "      <td>@@ -0,0 +1,22 @@\\n+#! /usr/bin/env bash\\n+#\\n+...</td>\n",
       "      <td>22</td>\n",
       "      <td>0</td>\n",
       "      <td>9.0</td>\n",
       "      <td>0.0</td>\n",
       "      <td>36.0</td>\n",
       "      <td>[]</td>\n",
       "    </tr>\n",
       "    <tr>\n",
       "      <th>2</th>\n",
       "      <td>accumulo</td>\n",
       "      <td>e0880e263e4bf8662ba3848405200473a25dfc9f</td>\n",
       "      <td>NaN</td>\n",
       "      <td>bin/accumulo</td>\n",
       "      <td>ModificationType.ADD</td>\n",
       "      <td>@@ -0,0 +1,87 @@\\n+#! /usr/bin/env bash\\n+\\n+b...</td>\n",
       "      <td>87</td>\n",
       "      <td>0</td>\n",
       "      <td>69.0</td>\n",
       "      <td>1.0</td>\n",
       "      <td>562.0</td>\n",
       "      <td>['locationByProgram']</td>\n",
       "    </tr>\n",
       "    <tr>\n",
       "      <th>3</th>\n",
       "      <td>accumulo</td>\n",
       "      <td>e0880e263e4bf8662ba3848405200473a25dfc9f</td>\n",
       "      <td>NaN</td>\n",
       "      <td>bin/check-slaves</td>\n",
       "      <td>ModificationType.ADD</td>\n",
       "      <td>@@ -0,0 +1,167 @@\\n+#! /usr/bin/env python\\n+\\...</td>\n",
       "      <td>167</td>\n",
       "      <td>0</td>\n",
       "      <td>154.0</td>\n",
       "      <td>0.0</td>\n",
       "      <td>1192.0</td>\n",
       "      <td>[]</td>\n",
       "    </tr>\n",
       "    <tr>\n",
       "      <th>4</th>\n",
       "      <td>accumulo</td>\n",
       "      <td>e0880e263e4bf8662ba3848405200473a25dfc9f</td>\n",
       "      <td>NaN</td>\n",
       "      <td>bin/config.sh</td>\n",
       "      <td>ModificationType.ADD</td>\n",
       "      <td>@@ -0,0 +1,96 @@\\n+#! /usr/bin/env bash\\n+#cop...</td>\n",
       "      <td>96</td>\n",
       "      <td>0</td>\n",
       "      <td>86.0</td>\n",
       "      <td>0.0</td>\n",
       "      <td>432.0</td>\n",
       "      <td>[]</td>\n",
       "    </tr>\n",
       "  </tbody>\n",
       "</table>\n",
       "</div>"
      ],
      "text/plain": [
       "  projectID                                commitHash oldPath  \\\n",
       "0  accumulo  e0880e263e4bf8662ba3848405200473a25dfc9f     NaN   \n",
       "1  accumulo  e0880e263e4bf8662ba3848405200473a25dfc9f     NaN   \n",
       "2  accumulo  e0880e263e4bf8662ba3848405200473a25dfc9f     NaN   \n",
       "3  accumulo  e0880e263e4bf8662ba3848405200473a25dfc9f     NaN   \n",
       "4  accumulo  e0880e263e4bf8662ba3848405200473a25dfc9f     NaN   \n",
       "\n",
       "               newPath            changeType  \\\n",
       "0      Accumulo.README  ModificationType.ADD   \n",
       "1  bin/LogForwarder.sh  ModificationType.ADD   \n",
       "2         bin/accumulo  ModificationType.ADD   \n",
       "3     bin/check-slaves  ModificationType.ADD   \n",
       "4        bin/config.sh  ModificationType.ADD   \n",
       "\n",
       "                                                diff  linesAdded  \\\n",
       "0  @@ -0,0 +1,196 @@\\n+**************************...         196   \n",
       "1  @@ -0,0 +1,22 @@\\n+#! /usr/bin/env bash\\n+#\\n+...          22   \n",
       "2  @@ -0,0 +1,87 @@\\n+#! /usr/bin/env bash\\n+\\n+b...          87   \n",
       "3  @@ -0,0 +1,167 @@\\n+#! /usr/bin/env python\\n+\\...         167   \n",
       "4  @@ -0,0 +1,96 @@\\n+#! /usr/bin/env bash\\n+#cop...          96   \n",
       "\n",
       "   linesRemoved   nloc  complexity  tokenCount                methods  \n",
       "0             0  145.0         0.0      1861.0                     []  \n",
       "1             0    9.0         0.0        36.0                     []  \n",
       "2             0   69.0         1.0       562.0  ['locationByProgram']  \n",
       "3             0  154.0         0.0      1192.0                     []  \n",
       "4             0   86.0         0.0       432.0                     []  "
      ]
     },
     "execution_count": 29,
     "metadata": {},
     "output_type": "execute_result"
    }
   ],
   "source": [
    "df.head()"
   ]
  },
  {
   "cell_type": "code",
   "execution_count": 30,
   "metadata": {
    "id": "S3qNVMnETcaW",
    "outputId": "720db57e-4224-419a-a29e-7c574dd1d96c"
   },
   "outputs": [
    {
     "data": {
      "text/plain": [
       "(891711, 12)"
      ]
     },
     "execution_count": 30,
     "metadata": {},
     "output_type": "execute_result"
    }
   ],
   "source": [
    "df.shape"
   ]
  },
  {
   "cell_type": "markdown",
   "metadata": {
    "id": "-FG5KKGmUEIZ"
   },
   "source": [
    "We create a function that tells us basic information of each attribute. Therefore, given an attribute of the table, we look its type, the number of unique values it has, the number of missing values, and a description (that is, the maximum and minimum values, and the quartiles)."
   ]
  },
  {
   "cell_type": "code",
   "execution_count": 31,
   "metadata": {
    "id": "xW_hSURJTcaa"
   },
   "outputs": [],
   "source": [
    "def description(attributeName):\n",
    "  print('Type: ', df[attributeName].dtype)\n",
    "  print('Unique values: ', (df[attributeName].unique()).shape[0])\n",
    "  print('NaN values: ', df[attributeName].isnull().sum())\n",
    "  print('Description: ', df[attributeName].describe())"
   ]
  },
  {
   "cell_type": "markdown",
   "metadata": {
    "id": "zZBuRFg8Uw0U"
   },
   "source": [
    "Next, for each attribute, we obtain the data mentioned above and we plot their distribution.\n",
    "\n",
    "In some cases, we do not plot anything because there are lots of unique values of which we are not interested in the distribution, as they are categorical values."
   ]
  },
  {
   "cell_type": "markdown",
   "metadata": {
    "id": "_AuLB6xyTcaf"
   },
   "source": [
    "#### projectID"
   ]
  },
  {
   "cell_type": "code",
   "execution_count": 32,
   "metadata": {
    "id": "TdeAgyiHTcag",
    "outputId": "7f741799-6e10-413a-94e1-79d8b35f48bc"
   },
   "outputs": [
    {
     "name": "stdout",
     "output_type": "stream",
     "text": [
      "Type:  object\n",
      "Unique values:  33\n",
      "NaN values:  0\n",
      "Description:  count     891711\n",
      "unique        33\n",
      "top       ambari\n",
      "freq      199377\n",
      "Name: projectID, dtype: object\n"
     ]
    },
    {
     "data": {
      "text/plain": [
       "(array([ 0.,  1.,  2.,  3.,  4.,  5.,  6.,  7.,  8.,  9., 10., 11., 12.,\n",
       "        13., 14., 15., 16., 17., 18., 19., 20., 21., 22., 23., 24., 25.,\n",
       "        26., 27., 28., 29., 30., 31., 32.]),\n",
       " <a list of 33 Text major ticklabel objects>)"
      ]
     },
     "execution_count": 32,
     "metadata": {},
     "output_type": "execute_result"
    },
    {
     "data": {
      "image/png": "[encoded data removed]",
      "text/plain": [
       "<Figure size 1080x360 with 1 Axes>"
      ]
     },
     "metadata": {
      "needs_background": "light"
     },
     "output_type": "display_data"
    }
   ],
   "source": [
    "attribute = 'projectID'\n",
    "description(attribute)\n",
    "\n",
    "plt.figure(figsize=(15,5))\n",
    "x, y = np.unique(df[attribute],return_counts=True)\n",
    "plt.bar(x, y, tick_label=x)\n",
    "plt.xticks(rotation='vertical')"
   ]
  },
  {
   "cell_type": "markdown",
   "metadata": {
    "id": "LxvHAMpyTcak"
   },
   "source": [
    "#### commitHash"
   ]
  },
  {
   "cell_type": "code",
   "execution_count": 33,
   "metadata": {
    "id": "nciwhJ7jTcak",
    "outputId": "4e6d109f-059a-4650-fc12-a5ed80b5a2a4"
   },
   "outputs": [
    {
     "name": "stdout",
     "output_type": "stream",
     "text": [
      "Type:  object\n",
      "Unique values:  128279\n",
      "NaN values:  0\n",
      "Description:  count                                       891711\n",
      "unique                                      128279\n",
      "top       a3eb94e3be8dd650cf1673298c77844ae99ca36e\n",
      "freq                                          6066\n",
      "Name: commitHash, dtype: object\n"
     ]
    }
   ],
   "source": [
    "attribute = 'commitHash'\n",
    "description(attribute)"
   ]
  },
  {
   "cell_type": "markdown",
   "metadata": {
    "id": "_7r-rb-RTcaq"
   },
   "source": [
    "#### oldPath"
   ]
  },
  {
   "cell_type": "code",
   "execution_count": 34,
   "metadata": {
    "id": "rYk1YaNZTcar",
    "outputId": "8966e702-4d98-4289-bd83-e88b2154c3dd"
   },
   "outputs": [
    {
     "name": "stdout",
     "output_type": "stream",
     "text": [
      "Type:  object\n",
      "Unique values:  179239\n",
      "NaN values:  118672\n",
      "Description:  count      773039\n",
      "unique     179238\n",
      "top       pom.xml\n",
      "freq         6463\n",
      "Name: oldPath, dtype: object\n"
     ]
    }
   ],
   "source": [
    "attribute = 'oldPath'\n",
    "description(attribute)"
   ]
  },
  {
   "cell_type": "code",
   "execution_count": 35,
   "metadata": {
    "id": "ER2O00kvTcay"
   },
   "outputs": [],
   "source": [
    "values = df[attribute][df[attribute].notnull()]\n",
    "notnans = df[attribute].count()\n",
    "nans = df[attribute].isna().sum()"
   ]
  },
  {
   "cell_type": "code",
   "execution_count": 36,
   "metadata": {
    "id": "5TILH_w-Tca1",
    "outputId": "470895e6-34ad-4f68-d373-1402695da2b7"
   },
   "outputs": [
    {
     "data": {
      "text/plain": [
       "([<matplotlib.patches.Wedge at 0x7fb90513ee20>,\n",
       "  <matplotlib.patches.Wedge at 0x7fb9043ddc10>],\n",
       " [Text(1.0052508862243392, 0.4466213785133678, 'NaN'),\n",
       "  Text(-1.0052508653164824, -0.4466214255725576, 'paths')])"
      ]
     },
     "execution_count": 36,
     "metadata": {},
     "output_type": "execute_result"
    },
    {
     "data": {
      "image/png": "[encoded data removed]",
      "text/plain": [
       "<Figure size 432x288 with 1 Axes>"
      ]
     },
     "metadata": {},
     "output_type": "display_data"
    }
   ],
   "source": [
    "labels = 'NaN', 'paths'\n",
    "plt.pie([nans, notnans], labels=labels)"
   ]
  },
  {
   "cell_type": "markdown",
   "metadata": {
    "id": "-QTZxZ3ITca5"
   },
   "source": [
    "#### newPath"
   ]
  },
  {
   "cell_type": "code",
   "execution_count": 37,
   "metadata": {
    "id": "K5igTx1lTca6",
    "outputId": "f865838f-60d6-4212-de08-0c32d2fe0d7d"
   },
   "outputs": [
    {
     "name": "stdout",
     "output_type": "stream",
     "text": [
      "Type:  object\n",
      "Unique values:  197247\n",
      "NaN values:  69131\n",
      "Description:  count      822580\n",
      "unique     197246\n",
      "top       pom.xml\n",
      "freq         6498\n",
      "Name: newPath, dtype: object\n"
     ]
    }
   ],
   "source": [
    "attribute = 'newPath'\n",
    "description(attribute)"
   ]
  },
  {
   "cell_type": "code",
   "execution_count": 38,
   "metadata": {
    "id": "uS9bxw8jTca-"
   },
   "outputs": [],
   "source": [
    "values = df[attribute][df[attribute].notnull()]\n",
    "notnans = df[attribute].count()\n",
    "nans = df[attribute].isna().sum()"
   ]
  },
  {
   "cell_type": "code",
   "execution_count": 39,
   "metadata": {
    "id": "kwTmJg11TcbB",
    "outputId": "ba79f257-b95a-4f02-a0d8-970e49fb704a"
   },
   "outputs": [
    {
     "data": {
      "text/plain": [
       "([<matplotlib.patches.Wedge at 0x7fb9043e2490>,\n",
       "  <matplotlib.patches.Wedge at 0x7fb9043e2e20>],\n",
       " [Text(1.0675352554752777, 0.2652705756719611, 'NaN'),\n",
       "  Text(-1.0675352306388493, -0.265270675621824, 'paths')])"
      ]
     },
     "execution_count": 39,
     "metadata": {},
     "output_type": "execute_result"
    },
    {
     "data": {
      "image/png": "[encoded data removed]",
      "text/plain": [
       "<Figure size 432x288 with 1 Axes>"
      ]
     },
     "metadata": {},
     "output_type": "display_data"
    }
   ],
   "source": [
    "labels = 'NaN', 'paths'\n",
    "plt.pie([nans, notnans], labels=labels)"
   ]
  },
  {
   "cell_type": "markdown",
   "metadata": {
    "id": "wHWCOzGhTcbF"
   },
   "source": [
    "#### changeType"
   ]
  },
  {
   "cell_type": "code",
   "execution_count": 40,
   "metadata": {
    "id": "c_946TdNTcbG",
    "outputId": "ffd76730-ee5e-41c5-f3f7-76e6f30c7cd4"
   },
   "outputs": [
    {
     "name": "stdout",
     "output_type": "stream",
     "text": [
      "Type:  object\n",
      "Unique values:  5\n",
      "NaN values:  0\n",
      "Description:  count                      891711\n",
      "unique                          5\n",
      "top       ModificationType.MODIFY\n",
      "freq                       609294\n",
      "Name: changeType, dtype: object\n"
     ]
    },
    {
     "data": {
      "text/plain": [
       "<BarContainer object of 5 artists>"
      ]
     },
     "execution_count": 40,
     "metadata": {},
     "output_type": "execute_result"
    },
    {
     "data": {
      "image/png": "[encoded data removed]",
      "text/plain": [
       "<Figure size 1080x360 with 1 Axes>"
      ]
     },
     "metadata": {
      "needs_background": "light"
     },
     "output_type": "display_data"
    }
   ],
   "source": [
    "attribute = 'changeType'\n",
    "description(attribute)\n",
    "\n",
    "plt.figure(figsize=(15,5))\n",
    "x, y = np.unique(df[attribute],return_counts=True)\n",
    "plt.bar(x, y)"
   ]
  },
  {
   "cell_type": "markdown",
   "metadata": {
    "id": "vtUUPjuoTcbJ"
   },
   "source": [
    "#### diff"
   ]
  },
  {
   "cell_type": "code",
   "execution_count": 41,
   "metadata": {
    "id": "vfJU0jLPTcbK",
    "outputId": "e83cf287-68ca-49fc-cbb6-09f292a212e8"
   },
   "outputs": [
    {
     "name": "stdout",
     "output_type": "stream",
     "text": [
      "Type:  object\n",
      "Unique values:  743259\n",
      "NaN values:  62389\n",
      "Description:  count                                                829322\n",
      "unique                                               743258\n",
      "top       @@ -1,4 +1,4 @@\\n-/**\\n+/*\\n  * Licensed to th...\n",
      "freq                                                   1768\n",
      "Name: diff, dtype: object\n"
     ]
    }
   ],
   "source": [
    "attribute = 'diff'\n",
    "description(attribute)"
   ]
  },
  {
   "cell_type": "code",
   "execution_count": 42,
   "metadata": {
    "id": "EpCYyZ_kTcbN",
    "outputId": "1d7a9176-f150-4b85-a156-1146f19955d4"
   },
   "outputs": [
    {
     "data": {
      "text/plain": [
       "([<matplotlib.patches.Wedge at 0x7fb842c6d730>,\n",
       "  <matplotlib.patches.Wedge at 0x7fb842c6dbe0>],\n",
       " [Text(1.0735344421322528, 0.239841200705369, 'NaN'),\n",
       "  Text(-1.0735344309044745, -0.23984125096114267, 'diff')])"
      ]
     },
     "execution_count": 42,
     "metadata": {},
     "output_type": "execute_result"
    },
    {
     "data": {
      "image/png": "[encoded data removed]",
      "text/plain": [
       "<Figure size 432x288 with 1 Axes>"
      ]
     },
     "metadata": {},
     "output_type": "display_data"
    }
   ],
   "source": [
    "values = df[attribute][df[attribute].notnull()]\n",
    "notnans = df[attribute].count()\n",
    "nans = df[attribute].isna().sum()\n",
    "\n",
    "labels = 'NaN', 'diff'\n",
    "plt.pie([nans, notnans], labels=labels)"
   ]
  },
  {
   "cell_type": "markdown",
   "metadata": {
    "id": "Kc8QU6S6TcbQ"
   },
   "source": [
    "#### linesAdded"
   ]
  },
  {
   "cell_type": "code",
   "execution_count": 43,
   "metadata": {
    "id": "rhYPqUn_TcbQ",
    "outputId": "5cedeb60-3ff3-4f10-89b2-20036e64393a"
   },
   "outputs": [
    {
     "name": "stdout",
     "output_type": "stream",
     "text": [
      "Type:  int64\n",
      "Unique values:  2565\n",
      "NaN values:  0\n",
      "Description:  count    891711.000000\n",
      "mean         38.113324\n",
      "std         812.717041\n",
      "min           0.000000\n",
      "25%           1.000000\n",
      "50%           3.000000\n",
      "75%          16.000000\n",
      "max      478967.000000\n",
      "Name: linesAdded, dtype: float64\n"
     ]
    },
    {
     "data": {
      "image/png": "[encoded data removed]",
      "text/plain": [
       "<Figure size 1080x360 with 1 Axes>"
      ]
     },
     "metadata": {
      "needs_background": "light"
     },
     "output_type": "display_data"
    }
   ],
   "source": [
    "attribute = 'linesAdded'\n",
    "description(attribute)\n",
    "\n",
    "plt.figure(figsize=(15,5))\n",
    "a = plt.hist(df[attribute], bins=100)"
   ]
  },
  {
   "cell_type": "markdown",
   "metadata": {
    "id": "NAefV2kwTcbW"
   },
   "source": [
    "#### linesRemoved"
   ]
  },
  {
   "cell_type": "code",
   "execution_count": 44,
   "metadata": {
    "id": "tJPzQJDXTcbX",
    "outputId": "af42fd08-ffb9-482c-fa1c-66f8a58f5a41"
   },
   "outputs": [
    {
     "name": "stdout",
     "output_type": "stream",
     "text": [
      "Type:  int64\n",
      "Unique values:  2407\n",
      "NaN values:  0\n",
      "Description:  count    891711.000000\n",
      "mean         27.462699\n",
      "std         624.294579\n",
      "min           0.000000\n",
      "25%           0.000000\n",
      "50%           1.000000\n",
      "75%           7.000000\n",
      "max      478967.000000\n",
      "Name: linesRemoved, dtype: float64\n"
     ]
    },
    {
     "data": {
      "image/png": "[encoded data removed]",
      "text/plain": [
       "<Figure size 1080x360 with 1 Axes>"
      ]
     },
     "metadata": {
      "needs_background": "light"
     },
     "output_type": "display_data"
    }
   ],
   "source": [
    "attribute = 'linesRemoved'\n",
    "description(attribute)\n",
    "\n",
    "plt.figure(figsize=(15,5))\n",
    "a = plt.hist(df[attribute], bins=100)"
   ]
  },
  {
   "cell_type": "markdown",
   "metadata": {
    "id": "F_vYiGa4Tcba"
   },
   "source": [
    "#### nloc"
   ]
  },
  {
   "cell_type": "code",
   "execution_count": 45,
   "metadata": {
    "id": "hUfsw9G2Tcba",
    "outputId": "a2477117-7441-45e1-9267-150ac8e8c490"
   },
   "outputs": [
    {
     "name": "stdout",
     "output_type": "stream",
     "text": [
      "Type:  float64\n",
      "Unique values:  5373\n",
      "NaN values:  135938\n",
      "Description:  count    755773.000000\n",
      "mean        267.350843\n",
      "std        1481.099149\n",
      "min           0.000000\n",
      "25%          40.000000\n",
      "50%          99.000000\n",
      "75%         249.000000\n",
      "max      478110.000000\n",
      "Name: nloc, dtype: float64\n"
     ]
    },
    {
     "name": "stderr",
     "output_type": "stream",
     "text": [
      "/Users/laiaalborszumel/opt/anaconda3/lib/python3.8/site-packages/numpy/lib/histograms.py:839: RuntimeWarning: invalid value encountered in greater_equal\n",
      "  keep = (tmp_a >= first_edge)\n",
      "/Users/laiaalborszumel/opt/anaconda3/lib/python3.8/site-packages/numpy/lib/histograms.py:840: RuntimeWarning: invalid value encountered in less_equal\n",
      "  keep &= (tmp_a <= last_edge)\n"
     ]
    },
    {
     "data": {
      "image/png": "[encoded data removed]",
      "text/plain": [
       "<Figure size 1080x360 with 1 Axes>"
      ]
     },
     "metadata": {
      "needs_background": "light"
     },
     "output_type": "display_data"
    }
   ],
   "source": [
    "attribute = 'nloc'\n",
    "description(attribute)\n",
    "\n",
    "plt.figure(figsize=(15,5))\n",
    "a = plt.hist(df[attribute], bins=100)"
   ]
  },
  {
   "cell_type": "code",
   "execution_count": 46,
   "metadata": {
    "id": "1-zSt2QHTcbd",
    "outputId": "2e3b52a4-d5d0-4b84-ae37-569582b04574"
   },
   "outputs": [
    {
     "data": {
      "text/plain": [
       "([<matplotlib.patches.Wedge at 0x7fb907912220>,\n",
       "  <matplotlib.patches.Wedge at 0x7fb9079120a0>],\n",
       " [Text(0.976240394198449, 0.5069069862758424, 'NaN'),\n",
       "  Text(-0.9762404179284766, -0.5069069405747308, 'nloc')])"
      ]
     },
     "execution_count": 46,
     "metadata": {},
     "output_type": "execute_result"
    },
    {
     "data": {
      "image/png": "[encoded data removed]",
      "text/plain": [
       "<Figure size 432x288 with 1 Axes>"
      ]
     },
     "metadata": {},
     "output_type": "display_data"
    }
   ],
   "source": [
    "values = df[attribute][df[attribute].notnull()]\n",
    "notnans = df[attribute].count()\n",
    "nans = df[attribute].isna().sum()\n",
    "\n",
    "labels = 'NaN', 'nloc'\n",
    "plt.pie([nans, notnans], labels=labels)"
   ]
  },
  {
   "cell_type": "markdown",
   "metadata": {
    "id": "VnYHMtMHTcbg"
   },
   "source": [
    "#### complexity"
   ]
  },
  {
   "cell_type": "code",
   "execution_count": 47,
   "metadata": {
    "id": "ssH9Ns2ITcbg",
    "outputId": "aca1634a-9dfd-44b0-de0b-38ea2f301874"
   },
   "outputs": [
    {
     "name": "stdout",
     "output_type": "stream",
     "text": [
      "Type:  float64\n",
      "Unique values:  1191\n",
      "NaN values:  135938\n",
      "Description:  count    755773.000000\n",
      "mean         31.890151\n",
      "std         212.352904\n",
      "min           0.000000\n",
      "25%           0.000000\n",
      "50%           7.000000\n",
      "75%          27.000000\n",
      "max       30800.000000\n",
      "Name: complexity, dtype: float64\n"
     ]
    },
    {
     "data": {
      "image/png": "[encoded data removed]",
      "text/plain": [
       "<Figure size 1080x360 with 1 Axes>"
      ]
     },
     "metadata": {
      "needs_background": "light"
     },
     "output_type": "display_data"
    }
   ],
   "source": [
    "attribute = 'complexity'\n",
    "description(attribute)\n",
    "\n",
    "plt.figure(figsize=(15,5))\n",
    "a = plt.hist(df[attribute], bins=100)"
   ]
  },
  {
   "cell_type": "code",
   "execution_count": 48,
   "metadata": {
    "id": "Uot_Wv-STcbj",
    "outputId": "1c7ac7dc-6bd6-458c-cd3c-2f901bd97efc"
   },
   "outputs": [
    {
     "data": {
      "text/plain": [
       "([<matplotlib.patches.Wedge at 0x7fb84402c7c0>,\n",
       "  <matplotlib.patches.Wedge at 0x7fb84402cc70>],\n",
       " [Text(0.976240394198449, 0.5069069862758424, 'NaN'),\n",
       "  Text(-0.9762404179284766, -0.5069069405747308, 'complexity')])"
      ]
     },
     "execution_count": 48,
     "metadata": {},
     "output_type": "execute_result"
    },
    {
     "data": {
      "image/png": "[encoded data removed]",
      "text/plain": [
       "<Figure size 432x288 with 1 Axes>"
      ]
     },
     "metadata": {},
     "output_type": "display_data"
    }
   ],
   "source": [
    "values = df[attribute][df[attribute].notnull()]\n",
    "notnans = df[attribute].count()\n",
    "nans = df[attribute].isna().sum()\n",
    "\n",
    "labels = 'NaN', 'complexity'\n",
    "plt.pie([nans, notnans], labels=labels)"
   ]
  },
  {
   "cell_type": "markdown",
   "metadata": {
    "id": "CoJV5_R9Tcbm"
   },
   "source": [
    "#### tokenCount"
   ]
  },
  {
   "cell_type": "code",
   "execution_count": 49,
   "metadata": {
    "id": "iZ_muQ6PTcbn",
    "outputId": "39463a75-f3b7-4bac-926f-09ae39a61827"
   },
   "outputs": [
    {
     "name": "stdout",
     "output_type": "stream",
     "text": [
      "Type:  float64\n",
      "Unique values:  19893\n",
      "NaN values:  135938\n",
      "Description:  count    7.557730e+05\n",
      "mean     1.975374e+03\n",
      "std      1.179588e+04\n",
      "min      0.000000e+00\n",
      "25%      2.830000e+02\n",
      "50%      7.340000e+02\n",
      "75%      1.852000e+03\n",
      "max      4.534351e+06\n",
      "Name: tokenCount, dtype: float64\n"
     ]
    },
    {
     "data": {
      "image/png": "[encoded data removed]",
      "text/plain": [
       "<Figure size 1080x360 with 1 Axes>"
      ]
     },
     "metadata": {
      "needs_background": "light"
     },
     "output_type": "display_data"
    }
   ],
   "source": [
    "attribute = 'tokenCount'\n",
    "description(attribute)\n",
    "\n",
    "plt.figure(figsize=(15,5))\n",
    "a = plt.hist(df[attribute], bins=100)"
   ]
  },
  {
   "cell_type": "code",
   "execution_count": 50,
   "metadata": {
    "id": "9W9j4AwYTcbq",
    "outputId": "de6f95c8-03f3-4fa0-eeb5-88f7a72f634b"
   },
   "outputs": [
    {
     "data": {
      "text/plain": [
       "([<matplotlib.patches.Wedge at 0x7fb844297250>,\n",
       "  <matplotlib.patches.Wedge at 0x7fb844297700>],\n",
       " [Text(0.976240394198449, 0.5069069862758424, 'NaN'),\n",
       "  Text(-0.9762404179284766, -0.5069069405747308, 'token_count')])"
      ]
     },
     "execution_count": 50,
     "metadata": {},
     "output_type": "execute_result"
    },
    {
     "data": {
      "image/png": "[encoded data removed]",
      "text/plain": [
       "<Figure size 432x288 with 1 Axes>"
      ]
     },
     "metadata": {},
     "output_type": "display_data"
    }
   ],
   "source": [
    "values = df[attribute][df[attribute].notnull()]\n",
    "notnans = df[attribute].count()\n",
    "nans = df[attribute].isna().sum()\n",
    "\n",
    "labels = 'NaN', 'token_count'\n",
    "plt.pie([nans, notnans], labels=labels)"
   ]
  },
  {
   "cell_type": "markdown",
   "metadata": {
    "id": "mdzmUITMTcbs"
   },
   "source": [
    "#### methods"
   ]
  },
  {
   "cell_type": "code",
   "execution_count": 51,
   "metadata": {
    "id": "xPRDRh0iTcbt",
    "outputId": "6f36122e-cf2b-43bf-a2f6-e040e3d56a53"
   },
   "outputs": [
    {
     "name": "stdout",
     "output_type": "stream",
     "text": [
      "Type:  object\n",
      "Unique values:  130355\n",
      "NaN values:  0\n",
      "Description:  count     891711\n",
      "unique    130355\n",
      "top           []\n",
      "freq      368373\n",
      "Name: methods, dtype: object\n"
     ]
    }
   ],
   "source": [
    "attribute = 'methods'\n",
    "description(attribute)"
   ]
  },
  {
   "cell_type": "markdown",
   "metadata": {
    "id": "w2VA0gqpTcbv"
   },
   "source": [
    "#### linesAdded"
   ]
  },
  {
   "cell_type": "code",
   "execution_count": 52,
   "metadata": {
    "id": "ewu-P6UJTcbw",
    "outputId": "3ed3806d-45d2-4936-df46-da6573ef7721"
   },
   "outputs": [
    {
     "name": "stdout",
     "output_type": "stream",
     "text": [
      "Type:  int64\n",
      "Unique values:  2565\n",
      "NaN values:  0\n",
      "Description:  count    891711.000000\n",
      "mean         38.113324\n",
      "std         812.717041\n",
      "min           0.000000\n",
      "25%           1.000000\n",
      "50%           3.000000\n",
      "75%          16.000000\n",
      "max      478967.000000\n",
      "Name: linesAdded, dtype: float64\n"
     ]
    },
    {
     "data": {
      "image/png": "[encoded data removed]",
      "text/plain": [
       "<Figure size 1080x360 with 1 Axes>"
      ]
     },
     "metadata": {
      "needs_background": "light"
     },
     "output_type": "display_data"
    }
   ],
   "source": [
    "attribute = 'linesAdded'\n",
    "description(attribute)\n",
    "\n",
    "plt.figure(figsize=(15,5))\n",
    "a = plt.hist(df[attribute], bins=100)"
   ]
  }
 ],
 "metadata": {
  "colab": {
   "collapsed_sections": [],
   "name": "git_commits_changes.ipynb",
   "provenance": []
  },
  "kernelspec": {
   "display_name": "Python 3",
   "language": "python",
   "name": "python3"
  },
  "language_info": {
   "codemirror_mode": {
    "name": "ipython",
    "version": 3
   },
   "file_extension": ".py",
   "mimetype": "text/x-python",
   "name": "python",
   "nbconvert_exporter": "python",
   "pygments_lexer": "ipython3",
   "version": "3.8.3"
  }
 },
 "nbformat": 4,
 "nbformat_minor": 1
}
