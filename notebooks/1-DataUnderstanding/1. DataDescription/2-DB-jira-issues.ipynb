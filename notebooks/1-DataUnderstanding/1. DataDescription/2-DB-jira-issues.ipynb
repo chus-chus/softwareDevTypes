{
 "cells": [
  {
   "cell_type": "markdown",
   "metadata": {
    "id": "4teipyVPu-k5"
   },
   "source": [
    "# **JIRA_ISSUES**\n",
    "\n",
    "This notebook the description of the table `JIRA_ISSUES`.\n",
    "\n",
    "First, we import the libraries we need and, then, we read the corresponding csv."
   ]
  },
  {
   "cell_type": "code",
   "execution_count": 1,
   "metadata": {
    "colab": {
     "base_uri": "https://localhost:8080/",
     "height": 88
    },
    "executionInfo": {
     "elapsed": 1762,
     "status": "ok",
     "timestamp": 1601816789569,
     "user": {
      "displayName": "Laia Albors Zumel",
      "photoUrl": "",
      "userId": "07110507271504138336"
     },
     "user_tz": -120
    },
    "id": "OnngbWtspZFm",
    "outputId": "7c376610-50c1-46bc-e82d-fab3e9dc1eb0"
   },
   "outputs": [
    {
     "name": "stderr",
     "output_type": "stream",
     "text": [
      "/Users/laiaalborszumel/opt/anaconda3/lib/python3.8/site-packages/IPython/core/interactiveshell.py:3071: DtypeWarning: Columns (25) have mixed types.Specify dtype option on import or set low_memory=False.\n",
      "  has_raised = await self.run_ast_nodes(code_ast.body, cell_name,\n"
     ]
    },
    {
     "data": {
      "text/plain": [
       "(67427, 28)"
      ]
     },
     "execution_count": 1,
     "metadata": {},
     "output_type": "execute_result"
    }
   ],
   "source": [
    "import pandas as pd\n",
    "import matplotlib.pyplot as plt\n",
    "\n",
    "jiraIssues = pd.read_csv(\"../../data/raw/JIRA_ISSUES.csv\")\n",
    "jiraIssues.shape"
   ]
  },
  {
   "cell_type": "markdown",
   "metadata": {
    "id": "2G9mm_oKXvX6"
   },
   "source": [
    "We show the first rows of the table to get an idea of its content."
   ]
  },
  {
   "cell_type": "code",
   "execution_count": 2,
   "metadata": {
    "colab": {
     "base_uri": "https://localhost:8080/",
     "height": 479
    },
    "executionInfo": {
     "elapsed": 544,
     "status": "ok",
     "timestamp": 1601816791001,
     "user": {
      "displayName": "Laia Albors Zumel",
      "photoUrl": "",
      "userId": "07110507271504138336"
     },
     "user_tz": -120
    },
    "id": "_T5Tqy3zqLp_",
    "outputId": "d6fb25ce-88a9-4ad6-9357-80e93a10bb12"
   },
   "outputs": [
    {
     "data": {
      "text/html": [
       "<div>\n",
       "<style scoped>\n",
       "    .dataframe tbody tr th:only-of-type {\n",
       "        vertical-align: middle;\n",
       "    }\n",
       "\n",
       "    .dataframe tbody tr th {\n",
       "        vertical-align: top;\n",
       "    }\n",
       "\n",
       "    .dataframe thead th {\n",
       "        text-align: right;\n",
       "    }\n",
       "</style>\n",
       "<table border=\"1\" class=\"dataframe\">\n",
       "  <thead>\n",
       "    <tr style=\"text-align: right;\">\n",
       "      <th></th>\n",
       "      <th>projectID</th>\n",
       "      <th>key</th>\n",
       "      <th>creationDate</th>\n",
       "      <th>resolutionDate</th>\n",
       "      <th>updateDate</th>\n",
       "      <th>dueDate</th>\n",
       "      <th>resolution</th>\n",
       "      <th>type</th>\n",
       "      <th>priority</th>\n",
       "      <th>fixVersions</th>\n",
       "      <th>...</th>\n",
       "      <th>componentDescription</th>\n",
       "      <th>description</th>\n",
       "      <th>summary</th>\n",
       "      <th>watchCount</th>\n",
       "      <th>votes</th>\n",
       "      <th>labels</th>\n",
       "      <th>creatorName</th>\n",
       "      <th>creatorActive</th>\n",
       "      <th>assignee</th>\n",
       "      <th>reporter</th>\n",
       "    </tr>\n",
       "  </thead>\n",
       "  <tbody>\n",
       "    <tr>\n",
       "      <th>0</th>\n",
       "      <td>commons-exec</td>\n",
       "      <td>EXEC-108</td>\n",
       "      <td>2018-09-18T11:15:58.000+0000</td>\n",
       "      <td>NaN</td>\n",
       "      <td>2018-09-18T11:15:58.000+0000</td>\n",
       "      <td>NaN</td>\n",
       "      <td>NaN</td>\n",
       "      <td>Bug</td>\n",
       "      <td>Major</td>\n",
       "      <td>NaN</td>\n",
       "      <td>...</td>\n",
       "      <td>NaN</td>\n",
       "      <td>When using Apache Exec to execute the followin...</td>\n",
       "      <td>Compatibility problem with Android ADB</td>\n",
       "      <td>1.0</td>\n",
       "      <td>NaN</td>\n",
       "      <td>NaN</td>\n",
       "      <td>natanieljr</td>\n",
       "      <td>True</td>\n",
       "      <td>NaN</td>\n",
       "      <td>natanieljr</td>\n",
       "    </tr>\n",
       "    <tr>\n",
       "      <th>1</th>\n",
       "      <td>commons-exec</td>\n",
       "      <td>EXEC-107</td>\n",
       "      <td>2018-07-04T12:09:47.000+0000</td>\n",
       "      <td>NaN</td>\n",
       "      <td>2018-07-04T12:09:47.000+0000</td>\n",
       "      <td>NaN</td>\n",
       "      <td>NaN</td>\n",
       "      <td>New Feature</td>\n",
       "      <td>Major</td>\n",
       "      <td>NaN</td>\n",
       "      <td>...</td>\n",
       "      <td>NaN</td>\n",
       "      <td>Hi,\\r\\n\\r\\nI would like to start an independen...</td>\n",
       "      <td>Start independent process</td>\n",
       "      <td>1.0</td>\n",
       "      <td>NaN</td>\n",
       "      <td>NaN</td>\n",
       "      <td>stefanreich</td>\n",
       "      <td>True</td>\n",
       "      <td>NaN</td>\n",
       "      <td>stefanreich</td>\n",
       "    </tr>\n",
       "    <tr>\n",
       "      <th>2</th>\n",
       "      <td>commons-exec</td>\n",
       "      <td>EXEC-106</td>\n",
       "      <td>2018-03-06T11:32:51.000+0000</td>\n",
       "      <td>NaN</td>\n",
       "      <td>2018-03-09T15:50:48.000+0000</td>\n",
       "      <td>NaN</td>\n",
       "      <td>NaN</td>\n",
       "      <td>Improvement</td>\n",
       "      <td>Major</td>\n",
       "      <td>NaN</td>\n",
       "      <td>...</td>\n",
       "      <td>NaN</td>\n",
       "      <td>It looks like the Watchdog class could use vol...</td>\n",
       "      <td>Watchdog class could use volatile instead of s...</td>\n",
       "      <td>1.0</td>\n",
       "      <td>NaN</td>\n",
       "      <td>NaN</td>\n",
       "      <td>sebb</td>\n",
       "      <td>True</td>\n",
       "      <td>NaN</td>\n",
       "      <td>sebb</td>\n",
       "    </tr>\n",
       "    <tr>\n",
       "      <th>3</th>\n",
       "      <td>commons-exec</td>\n",
       "      <td>EXEC-105</td>\n",
       "      <td>2018-02-16T13:47:10.000+0000</td>\n",
       "      <td>NaN</td>\n",
       "      <td>2018-02-16T15:37:12.000+0000</td>\n",
       "      <td>NaN</td>\n",
       "      <td>NaN</td>\n",
       "      <td>Wish</td>\n",
       "      <td>Trivial</td>\n",
       "      <td>NaN</td>\n",
       "      <td>...</td>\n",
       "      <td>NaN</td>\n",
       "      <td>I want to apologize if this issue is not corre...</td>\n",
       "      <td>Small mistakes in the documentation for Apache...</td>\n",
       "      <td>2.0</td>\n",
       "      <td>NaN</td>\n",
       "      <td>NaN</td>\n",
       "      <td>IP</td>\n",
       "      <td>True</td>\n",
       "      <td>NaN</td>\n",
       "      <td>IP</td>\n",
       "    </tr>\n",
       "    <tr>\n",
       "      <th>4</th>\n",
       "      <td>commons-exec</td>\n",
       "      <td>EXEC-104</td>\n",
       "      <td>2017-08-04T11:57:39.000+0000</td>\n",
       "      <td>NaN</td>\n",
       "      <td>2017-08-04T11:57:39.000+0000</td>\n",
       "      <td>NaN</td>\n",
       "      <td>NaN</td>\n",
       "      <td>Bug</td>\n",
       "      <td>Major</td>\n",
       "      <td>NaN</td>\n",
       "      <td>...</td>\n",
       "      <td>NaN</td>\n",
       "      <td>[Travis CI reveals the following test failures...</td>\n",
       "      <td>Test failure \"Exec34Test.testExec34_2:88 Watch...</td>\n",
       "      <td>1.0</td>\n",
       "      <td>NaN</td>\n",
       "      <td>NaN</td>\n",
       "      <td>krichter</td>\n",
       "      <td>True</td>\n",
       "      <td>NaN</td>\n",
       "      <td>krichter</td>\n",
       "    </tr>\n",
       "  </tbody>\n",
       "</table>\n",
       "<p>5 rows × 28 columns</p>\n",
       "</div>"
      ],
      "text/plain": [
       "      projectID       key                  creationDate resolutionDate  \\\n",
       "0  commons-exec  EXEC-108  2018-09-18T11:15:58.000+0000            NaN   \n",
       "1  commons-exec  EXEC-107  2018-07-04T12:09:47.000+0000            NaN   \n",
       "2  commons-exec  EXEC-106  2018-03-06T11:32:51.000+0000            NaN   \n",
       "3  commons-exec  EXEC-105  2018-02-16T13:47:10.000+0000            NaN   \n",
       "4  commons-exec  EXEC-104  2017-08-04T11:57:39.000+0000            NaN   \n",
       "\n",
       "                     updateDate dueDate resolution         type priority  \\\n",
       "0  2018-09-18T11:15:58.000+0000     NaN        NaN          Bug    Major   \n",
       "1  2018-07-04T12:09:47.000+0000     NaN        NaN  New Feature    Major   \n",
       "2  2018-03-09T15:50:48.000+0000     NaN        NaN  Improvement    Major   \n",
       "3  2018-02-16T15:37:12.000+0000     NaN        NaN         Wish  Trivial   \n",
       "4  2017-08-04T11:57:39.000+0000     NaN        NaN          Bug    Major   \n",
       "\n",
       "  fixVersions  ... componentDescription  \\\n",
       "0         NaN  ...                  NaN   \n",
       "1         NaN  ...                  NaN   \n",
       "2         NaN  ...                  NaN   \n",
       "3         NaN  ...                  NaN   \n",
       "4         NaN  ...                  NaN   \n",
       "\n",
       "                                         description  \\\n",
       "0  When using Apache Exec to execute the followin...   \n",
       "1  Hi,\\r\\n\\r\\nI would like to start an independen...   \n",
       "2  It looks like the Watchdog class could use vol...   \n",
       "3  I want to apologize if this issue is not corre...   \n",
       "4  [Travis CI reveals the following test failures...   \n",
       "\n",
       "                                             summary  watchCount  votes  \\\n",
       "0             Compatibility problem with Android ADB         1.0    NaN   \n",
       "1                          Start independent process         1.0    NaN   \n",
       "2  Watchdog class could use volatile instead of s...         1.0    NaN   \n",
       "3  Small mistakes in the documentation for Apache...         2.0    NaN   \n",
       "4  Test failure \"Exec34Test.testExec34_2:88 Watch...         1.0    NaN   \n",
       "\n",
       "   labels  creatorName creatorActive assignee     reporter  \n",
       "0     NaN   natanieljr          True      NaN   natanieljr  \n",
       "1     NaN  stefanreich          True      NaN  stefanreich  \n",
       "2     NaN         sebb          True      NaN         sebb  \n",
       "3     NaN           IP          True      NaN           IP  \n",
       "4     NaN     krichter          True      NaN     krichter  \n",
       "\n",
       "[5 rows x 28 columns]"
      ]
     },
     "execution_count": 2,
     "metadata": {},
     "output_type": "execute_result"
    }
   ],
   "source": [
    "jiraIssues.loc[0:4]"
   ]
  },
  {
   "cell_type": "markdown",
   "metadata": {
    "id": "r_r4N-0IX4J8"
   },
   "source": [
    "Next, for each attribute, we obtain some information.\n",
    "\n",
    "In some cases, we do not plot anything because there are lots of unique values of which we are not interested in the distribution, as they are categorical values."
   ]
  },
  {
   "cell_type": "markdown",
   "metadata": {
    "id": "zgQRpRlwqiZe"
   },
   "source": [
    "## projectID"
   ]
  },
  {
   "cell_type": "code",
   "execution_count": 3,
   "metadata": {
    "colab": {
     "base_uri": "https://localhost:8080/",
     "height": 187
    },
    "executionInfo": {
     "elapsed": 503,
     "status": "ok",
     "timestamp": 1601816793617,
     "user": {
      "displayName": "Laia Albors Zumel",
      "photoUrl": "",
      "userId": "07110507271504138336"
     },
     "user_tz": -120
    },
    "id": "TBEqjS5LqOLt",
    "outputId": "86bae9fb-70a0-47f8-e6ae-f2de1bae0268"
   },
   "outputs": [
    {
     "data": {
      "text/plain": [
       "array(['commons-exec', 'accumulo', 'ambari', 'atlas', 'aurora', 'batik',\n",
       "       'commons-bcel', 'beam', 'commons-beanutils', 'commons-cli',\n",
       "       'cocoon', 'commons-codec', 'commons-collections',\n",
       "       'commons-configuration', 'commons-daemon', 'commons-dbcp',\n",
       "       'commons-dbutils', 'commons-digester', 'felix',\n",
       "       'commons-fileupload', 'httpcomponents-client',\n",
       "       'httpcomponents-core', 'commons-io', 'commons-jelly',\n",
       "       'commons-jexl', 'commons-jxpath', 'commons-net', 'commons-ognl',\n",
       "       'santuario', 'mina-sshd', 'commons-validator', 'commons-vfs',\n",
       "       'zookeeper'], dtype=object)"
      ]
     },
     "execution_count": 3,
     "metadata": {},
     "output_type": "execute_result"
    }
   ],
   "source": [
    "pd.unique(jiraIssues[\"projectID\"])"
   ]
  },
  {
   "cell_type": "code",
   "execution_count": 4,
   "metadata": {
    "colab": {
     "base_uri": "https://localhost:8080/",
     "height": 445
    },
    "executionInfo": {
     "elapsed": 1126,
     "status": "ok",
     "timestamp": 1601816794993,
     "user": {
      "displayName": "Laia Albors Zumel",
      "photoUrl": "",
      "userId": "07110507271504138336"
     },
     "user_tz": -120
    },
    "id": "l6OWdynqqp70",
    "outputId": "29072e0d-d53d-4d33-a823-a04304ec8118"
   },
   "outputs": [
    {
     "data": {
      "text/plain": [
       "<BarContainer object of 33 artists>"
      ]
     },
     "execution_count": 4,
     "metadata": {},
     "output_type": "execute_result"
    },
    {
     "data": {
      "image/png": "[encoded data removed]",
      "text/plain": [
       "<Figure size 1080x360 with 1 Axes>"
      ]
     },
     "metadata": {
      "needs_background": "light"
     },
     "output_type": "display_data"
    }
   ],
   "source": [
    "d = {}\n",
    "for p in jiraIssues[\"projectID\"]:\n",
    "  if p not in d:\n",
    "    d[p] = 0\n",
    "  d[p] += 1\n",
    "\n",
    "plt.figure(figsize=(15,5))\n",
    "plt.xticks(rotation=90)\n",
    "plt.bar(d.keys(), d.values())"
   ]
  },
  {
   "cell_type": "markdown",
   "metadata": {
    "id": "8ykEDip_qzC5"
   },
   "source": [
    "## creationDate"
   ]
  },
  {
   "cell_type": "code",
   "execution_count": 5,
   "metadata": {
    "colab": {
     "base_uri": "https://localhost:8080/",
     "height": 35
    },
    "executionInfo": {
     "elapsed": 525,
     "status": "ok",
     "timestamp": 1601816799622,
     "user": {
      "displayName": "Laia Albors Zumel",
      "photoUrl": "",
      "userId": "07110507271504138336"
     },
     "user_tz": -120
    },
    "id": "Z6XDN19Fqz5u",
    "outputId": "ccfbf44a-bf35-44ca-83bc-7d4e54caf473"
   },
   "outputs": [
    {
     "data": {
      "text/plain": [
       "'2018-09-18T11:15:58.000+0000'"
      ]
     },
     "execution_count": 5,
     "metadata": {},
     "output_type": "execute_result"
    }
   ],
   "source": [
    "creationDate = jiraIssues[\"creationDate\"]\n",
    "creationDate[0]"
   ]
  },
  {
   "cell_type": "code",
   "execution_count": 6,
   "metadata": {
    "colab": {
     "base_uri": "https://localhost:8080/",
     "height": 35
    },
    "executionInfo": {
     "elapsed": 524,
     "status": "ok",
     "timestamp": 1601816800573,
     "user": {
      "displayName": "Laia Albors Zumel",
      "photoUrl": "",
      "userId": "07110507271504138336"
     },
     "user_tz": -120
    },
    "id": "Rr5tfZqrrAGv",
    "outputId": "bc5e3a18-bf22-4a02-f6f2-f07cfb1c844a"
   },
   "outputs": [
    {
     "data": {
      "text/plain": [
       "'2001-01-22T14:46:21.000+0000'"
      ]
     },
     "execution_count": 6,
     "metadata": {},
     "output_type": "execute_result"
    }
   ],
   "source": [
    "min(creationDate)"
   ]
  },
  {
   "cell_type": "code",
   "execution_count": 7,
   "metadata": {
    "colab": {
     "base_uri": "https://localhost:8080/",
     "height": 35
    },
    "executionInfo": {
     "elapsed": 517,
     "status": "ok",
     "timestamp": 1601816801631,
     "user": {
      "displayName": "Laia Albors Zumel",
      "photoUrl": "",
      "userId": "07110507271504138336"
     },
     "user_tz": -120
    },
    "id": "887irZe5rEGK",
    "outputId": "0f1b0075-292d-4981-8bec-e70b9b2c5f92"
   },
   "outputs": [
    {
     "data": {
      "text/plain": [
       "'2019-07-16T10:38:29.000+0000'"
      ]
     },
     "execution_count": 7,
     "metadata": {},
     "output_type": "execute_result"
    }
   ],
   "source": [
    "max(creationDate)"
   ]
  },
  {
   "cell_type": "code",
   "execution_count": 8,
   "metadata": {
    "colab": {
     "base_uri": "https://localhost:8080/",
     "height": 34
    },
    "executionInfo": {
     "elapsed": 460,
     "status": "ok",
     "timestamp": 1601816802258,
     "user": {
      "displayName": "Laia Albors Zumel",
      "photoUrl": "",
      "userId": "07110507271504138336"
     },
     "user_tz": -120
    },
    "id": "bUdDy0sYrMNw",
    "outputId": "c324e86a-370d-4152-ce66-1b9da2cc205d"
   },
   "outputs": [
    {
     "data": {
      "text/plain": [
       "19"
      ]
     },
     "execution_count": 8,
     "metadata": {},
     "output_type": "execute_result"
    }
   ],
   "source": [
    "creationDateYear = jiraIssues.creationDate.str[:4]\n",
    "pd.unique(creationDateYear).size"
   ]
  },
  {
   "cell_type": "code",
   "execution_count": 9,
   "metadata": {
    "colab": {
     "base_uri": "https://localhost:8080/",
     "height": 352
    },
    "executionInfo": {
     "elapsed": 838,
     "status": "ok",
     "timestamp": 1601816803496,
     "user": {
      "displayName": "Laia Albors Zumel",
      "photoUrl": "",
      "userId": "07110507271504138336"
     },
     "user_tz": -120
    },
    "id": "hkTNilLkrURA",
    "outputId": "ccf7f03d-a7ff-4726-b1a8-5e6f8b6e6b4d"
   },
   "outputs": [
    {
     "data": {
      "text/plain": [
       "<BarContainer object of 19 artists>"
      ]
     },
     "execution_count": 9,
     "metadata": {},
     "output_type": "execute_result"
    },
    {
     "data": {
      "image/png": "[encoded data removed]",
      "text/plain": [
       "<Figure size 1080x360 with 1 Axes>"
      ]
     },
     "metadata": {
      "needs_background": "light"
     },
     "output_type": "display_data"
    }
   ],
   "source": [
    "d = {}\n",
    "for p in creationDateYear:\n",
    "  if p not in d:\n",
    "    d[p] = 0\n",
    "  d[p] += 1\n",
    "\n",
    "plt.figure(figsize=(15,5))\n",
    "plt.xticks(rotation=90)\n",
    "plt.bar(d.keys(), d.values())"
   ]
  },
  {
   "cell_type": "markdown",
   "metadata": {
    "id": "K78nslSErXX-"
   },
   "source": [
    "## resolutionDate"
   ]
  },
  {
   "cell_type": "code",
   "execution_count": 10,
   "metadata": {
    "colab": {
     "base_uri": "https://localhost:8080/",
     "height": 221
    },
    "executionInfo": {
     "elapsed": 487,
     "status": "ok",
     "timestamp": 1601816804905,
     "user": {
      "displayName": "Laia Albors Zumel",
      "photoUrl": "",
      "userId": "07110507271504138336"
     },
     "user_tz": -120
    },
    "id": "wmpC7cmmrYAO",
    "outputId": "acff3fc2-fed1-4428-e06e-754e52a555e9"
   },
   "outputs": [
    {
     "data": {
      "text/plain": [
       "0                                 NaN\n",
       "1                                 NaN\n",
       "2                                 NaN\n",
       "3                                 NaN\n",
       "4                                 NaN\n",
       "                     ...             \n",
       "67422    2008-10-17T00:24:34.000+0000\n",
       "67423    2008-09-09T21:09:01.000+0000\n",
       "67424    2009-11-18T17:48:01.000+0000\n",
       "67425    2008-08-25T21:13:14.000+0000\n",
       "67426    2008-06-12T17:54:36.000+0000\n",
       "Name: resolutionDate, Length: 67427, dtype: object"
      ]
     },
     "execution_count": 10,
     "metadata": {},
     "output_type": "execute_result"
    }
   ],
   "source": [
    "resolutionDate = jiraIssues[\"resolutionDate\"]\n",
    "resolutionDate"
   ]
  },
  {
   "cell_type": "markdown",
   "metadata": {
    "id": "1ITAIrc8rlxb"
   },
   "source": [
    "Nombre de NaNs i no NaNs:"
   ]
  },
  {
   "cell_type": "code",
   "execution_count": 11,
   "metadata": {
    "colab": {
     "base_uri": "https://localhost:8080/",
     "height": 34
    },
    "executionInfo": {
     "elapsed": 476,
     "status": "ok",
     "timestamp": 1601816806889,
     "user": {
      "displayName": "Laia Albors Zumel",
      "photoUrl": "",
      "userId": "07110507271504138336"
     },
     "user_tz": -120
    },
    "id": "ASClp7QhrgsE",
    "outputId": "7b17bf2b-ada1-4de0-d5b3-3c238dce41ee"
   },
   "outputs": [
    {
     "data": {
      "text/plain": [
       "10705"
      ]
     },
     "execution_count": 11,
     "metadata": {},
     "output_type": "execute_result"
    }
   ],
   "source": [
    "nans = resolutionDate.isna().sum()\n",
    "nans"
   ]
  },
  {
   "cell_type": "code",
   "execution_count": 12,
   "metadata": {
    "id": "eWdQtNAZrqZz"
   },
   "outputs": [],
   "source": [
    "resolutionDateNew = resolutionDate[resolutionDate.notnull()]\n",
    "notnans = resolutionDateNew.count()"
   ]
  },
  {
   "cell_type": "code",
   "execution_count": 13,
   "metadata": {
    "colab": {
     "base_uri": "https://localhost:8080/",
     "height": 316
    },
    "executionInfo": {
     "elapsed": 559,
     "status": "ok",
     "timestamp": 1601816829494,
     "user": {
      "displayName": "Laia Albors Zumel",
      "photoUrl": "",
      "userId": "07110507271504138336"
     },
     "user_tz": -120
    },
    "id": "VpSPhUPlrzRO",
    "outputId": "ed621a4e-308a-4a6a-d5f8-f0853e70edf6"
   },
   "outputs": [
    {
     "data": {
      "text/plain": [
       "([<matplotlib.patches.Wedge at 0x7fe6b4218e20>,\n",
       "  <matplotlib.patches.Wedge at 0x7fe6b4227310>],\n",
       " [Text(0.9659873190671443, 0.5261829524048375, 'NaN'),\n",
       "  Text(-0.9659873436995449, -0.526182907183707, 'timestamp')])"
      ]
     },
     "execution_count": 13,
     "metadata": {},
     "output_type": "execute_result"
    },
    {
     "data": {
      "image/png": "[encoded data removed]",
      "text/plain": [
       "<Figure size 432x288 with 1 Axes>"
      ]
     },
     "metadata": {},
     "output_type": "display_data"
    }
   ],
   "source": [
    "labels = 'NaN', 'timestamp'\n",
    "plt.pie([nans, notnans], labels=labels)"
   ]
  },
  {
   "cell_type": "code",
   "execution_count": 14,
   "metadata": {
    "colab": {
     "base_uri": "https://localhost:8080/",
     "height": 35
    },
    "executionInfo": {
     "elapsed": 518,
     "status": "ok",
     "timestamp": 1601816846030,
     "user": {
      "displayName": "Laia Albors Zumel",
      "photoUrl": "",
      "userId": "07110507271504138336"
     },
     "user_tz": -120
    },
    "id": "08pQ9P0Or1ek",
    "outputId": "e49c6025-797b-41b1-ec04-f0fa84da5833"
   },
   "outputs": [
    {
     "data": {
      "text/plain": [
       "'2002-08-22T12:26:40.000+0000'"
      ]
     },
     "execution_count": 14,
     "metadata": {},
     "output_type": "execute_result"
    }
   ],
   "source": [
    "min(resolutionDateNew)"
   ]
  },
  {
   "cell_type": "code",
   "execution_count": 15,
   "metadata": {
    "colab": {
     "base_uri": "https://localhost:8080/",
     "height": 35
    },
    "executionInfo": {
     "elapsed": 708,
     "status": "ok",
     "timestamp": 1601816849973,
     "user": {
      "displayName": "Laia Albors Zumel",
      "photoUrl": "",
      "userId": "07110507271504138336"
     },
     "user_tz": -120
    },
    "id": "EOXQ4K4Ir3dq",
    "outputId": "9ca66be1-10a2-4c23-86f0-ada62095e78f"
   },
   "outputs": [
    {
     "data": {
      "text/plain": [
       "'2019-07-16T10:30:04.000+0000'"
      ]
     },
     "execution_count": 15,
     "metadata": {},
     "output_type": "execute_result"
    }
   ],
   "source": [
    "max(resolutionDateNew)"
   ]
  },
  {
   "cell_type": "code",
   "execution_count": 16,
   "metadata": {
    "colab": {
     "base_uri": "https://localhost:8080/",
     "height": 34
    },
    "executionInfo": {
     "elapsed": 527,
     "status": "ok",
     "timestamp": 1601816860468,
     "user": {
      "displayName": "Laia Albors Zumel",
      "photoUrl": "",
      "userId": "07110507271504138336"
     },
     "user_tz": -120
    },
    "id": "79wK6udzsJE9",
    "outputId": "ec1f2250-e073-4908-cc15-224c0b1fda20"
   },
   "outputs": [
    {
     "data": {
      "text/plain": [
       "18"
      ]
     },
     "execution_count": 16,
     "metadata": {},
     "output_type": "execute_result"
    }
   ],
   "source": [
    "resolutionDateYear = resolutionDateNew.str[:4]\n",
    "pd.unique(resolutionDateYear).size"
   ]
  },
  {
   "cell_type": "code",
   "execution_count": 17,
   "metadata": {
    "colab": {
     "base_uri": "https://localhost:8080/",
     "height": 352
    },
    "executionInfo": {
     "elapsed": 827,
     "status": "ok",
     "timestamp": 1601816861946,
     "user": {
      "displayName": "Laia Albors Zumel",
      "photoUrl": "",
      "userId": "07110507271504138336"
     },
     "user_tz": -120
    },
    "id": "LLHSRYuwsM6t",
    "outputId": "be769713-5617-4593-a30a-b8255edf260d"
   },
   "outputs": [
    {
     "data": {
      "text/plain": [
       "<BarContainer object of 18 artists>"
      ]
     },
     "execution_count": 17,
     "metadata": {},
     "output_type": "execute_result"
    },
    {
     "data": {
      "image/png": "[encoded data removed]",
      "text/plain": [
       "<Figure size 1080x360 with 1 Axes>"
      ]
     },
     "metadata": {
      "needs_background": "light"
     },
     "output_type": "display_data"
    }
   ],
   "source": [
    "d = {}\n",
    "for p in resolutionDateYear:\n",
    "  if p not in d:\n",
    "    d[p] = 0\n",
    "  d[p] += 1\n",
    "\n",
    "plt.figure(figsize=(15,5))\n",
    "plt.xticks(rotation=90)\n",
    "plt.bar(d.keys(), d.values())"
   ]
  },
  {
   "cell_type": "markdown",
   "metadata": {
    "id": "e9eajPPEsPrj"
   },
   "source": [
    "## type"
   ]
  },
  {
   "cell_type": "code",
   "execution_count": 18,
   "metadata": {
    "colab": {
     "base_uri": "https://localhost:8080/",
     "height": 221
    },
    "executionInfo": {
     "elapsed": 492,
     "status": "ok",
     "timestamp": 1601816866304,
     "user": {
      "displayName": "Laia Albors Zumel",
      "photoUrl": "",
      "userId": "07110507271504138336"
     },
     "user_tz": -120
    },
    "id": "XHozT_gssl_e",
    "outputId": "55e6e9ec-8660-4b6d-c780-4638d202ac37"
   },
   "outputs": [
    {
     "data": {
      "text/plain": [
       "0                Bug\n",
       "1        New Feature\n",
       "2        Improvement\n",
       "3               Wish\n",
       "4                Bug\n",
       "            ...     \n",
       "67422    New Feature\n",
       "67423            Bug\n",
       "67424            Bug\n",
       "67425            Bug\n",
       "67426           Task\n",
       "Name: type, Length: 67427, dtype: object"
      ]
     },
     "execution_count": 18,
     "metadata": {},
     "output_type": "execute_result"
    }
   ],
   "source": [
    "jiraIssues[\"type\"]"
   ]
  },
  {
   "cell_type": "code",
   "execution_count": 19,
   "metadata": {
    "colab": {
     "base_uri": "https://localhost:8080/",
     "height": 34
    },
    "executionInfo": {
     "elapsed": 631,
     "status": "ok",
     "timestamp": 1601816866804,
     "user": {
      "displayName": "Laia Albors Zumel",
      "photoUrl": "",
      "userId": "07110507271504138336"
     },
     "user_tz": -120
    },
    "id": "dOgLucqfsQHS",
    "outputId": "f37abf75-d29c-4d30-a022-0490930601ce"
   },
   "outputs": [
    {
     "data": {
      "text/plain": [
       "13"
      ]
     },
     "execution_count": 19,
     "metadata": {},
     "output_type": "execute_result"
    }
   ],
   "source": [
    "pd.unique(jiraIssues[\"type\"]).size"
   ]
  },
  {
   "cell_type": "code",
   "execution_count": 20,
   "metadata": {
    "colab": {
     "base_uri": "https://localhost:8080/",
     "height": 434
    },
    "executionInfo": {
     "elapsed": 855,
     "status": "ok",
     "timestamp": 1601816867634,
     "user": {
      "displayName": "Laia Albors Zumel",
      "photoUrl": "",
      "userId": "07110507271504138336"
     },
     "user_tz": -120
    },
    "id": "54DvM56Fsmt_",
    "outputId": "170bf3db-0bc9-493d-c21b-b76f025565f2"
   },
   "outputs": [
    {
     "data": {
      "text/plain": [
       "<BarContainer object of 13 artists>"
      ]
     },
     "execution_count": 20,
     "metadata": {},
     "output_type": "execute_result"
    },
    {
     "data": {
      "image/png": "[encoded data removed]",
      "text/plain": [
       "<Figure size 1080x360 with 1 Axes>"
      ]
     },
     "metadata": {
      "needs_background": "light"
     },
     "output_type": "display_data"
    }
   ],
   "source": [
    "d = {}\n",
    "for p in jiraIssues[\"type\"]:\n",
    "  if p not in d:\n",
    "    d[p] = 0\n",
    "  d[p] += 1\n",
    "\n",
    "plt.figure(figsize=(15,5))\n",
    "plt.xticks(rotation=90)\n",
    "plt.bar(d.keys(), d.values())"
   ]
  },
  {
   "cell_type": "markdown",
   "metadata": {
    "id": "Deo3KwtEsq1r"
   },
   "source": [
    "## priority"
   ]
  },
  {
   "cell_type": "code",
   "execution_count": 21,
   "metadata": {
    "colab": {
     "base_uri": "https://localhost:8080/",
     "height": 51
    },
    "executionInfo": {
     "elapsed": 487,
     "status": "ok",
     "timestamp": 1601816883310,
     "user": {
      "displayName": "Laia Albors Zumel",
      "photoUrl": "",
      "userId": "07110507271504138336"
     },
     "user_tz": -120
    },
    "id": "Rm8bKswtsrfs",
    "outputId": "72bd9d9b-bb3d-46b2-d6bc-0e949a037606"
   },
   "outputs": [
    {
     "data": {
      "text/plain": [
       "array(['Major', 'Trivial', 'Minor', 'Critical', 'Blocker', nan],\n",
       "      dtype=object)"
      ]
     },
     "execution_count": 21,
     "metadata": {},
     "output_type": "execute_result"
    }
   ],
   "source": [
    "priority = jiraIssues[\"priority\"]\n",
    "pd.unique(priority)"
   ]
  },
  {
   "cell_type": "markdown",
   "metadata": {
    "id": "TqFLxUAis17I"
   },
   "source": [
    "Number of NaNs and no-NaNs:"
   ]
  },
  {
   "cell_type": "code",
   "execution_count": 22,
   "metadata": {
    "colab": {
     "base_uri": "https://localhost:8080/",
     "height": 34
    },
    "executionInfo": {
     "elapsed": 470,
     "status": "ok",
     "timestamp": 1601816886813,
     "user": {
      "displayName": "Laia Albors Zumel",
      "photoUrl": "",
      "userId": "07110507271504138336"
     },
     "user_tz": -120
    },
    "id": "z46Z9KCIsztH",
    "outputId": "d98989b4-b1e9-441c-ffa9-4cf09833a439"
   },
   "outputs": [
    {
     "data": {
      "text/plain": [
       "1082"
      ]
     },
     "execution_count": 22,
     "metadata": {},
     "output_type": "execute_result"
    }
   ],
   "source": [
    "nans = priority.isna().sum()\n",
    "nans"
   ]
  },
  {
   "cell_type": "code",
   "execution_count": 23,
   "metadata": {
    "id": "RxsYACMes21s"
   },
   "outputs": [],
   "source": [
    "priorityNew = priority[priority.notnull()]\n",
    "notnans = priorityNew.count()"
   ]
  },
  {
   "cell_type": "code",
   "execution_count": 24,
   "metadata": {
    "colab": {
     "base_uri": "https://localhost:8080/",
     "height": 316
    },
    "executionInfo": {
     "elapsed": 592,
     "status": "ok",
     "timestamp": 1601816888308,
     "user": {
      "displayName": "Laia Albors Zumel",
      "photoUrl": "",
      "userId": "07110507271504138336"
     },
     "user_tz": -120
    },
    "id": "THdzNWpMs8u6",
    "outputId": "23a62b9a-45db-4d40-a534-936a812e4d0b"
   },
   "outputs": [
    {
     "data": {
      "text/plain": [
       "([<matplotlib.patches.Wedge at 0x7fe6b62eef40>,\n",
       "  <matplotlib.patches.Wedge at 0x7fe6b6457430>],\n",
       " [Text(1.0986024823566232, 0.055430909787459605, 'NaN'),\n",
       "  Text(-1.0986024852758933, -0.05543085192950356, 'value')])"
      ]
     },
     "execution_count": 24,
     "metadata": {},
     "output_type": "execute_result"
    },
    {
     "data": {
      "image/png": "[encoded data removed]",
      "text/plain": [
       "<Figure size 432x288 with 1 Axes>"
      ]
     },
     "metadata": {},
     "output_type": "display_data"
    }
   ],
   "source": [
    "labels = 'NaN', 'value'\n",
    "plt.pie([nans, notnans], labels=labels)"
   ]
  },
  {
   "cell_type": "code",
   "execution_count": 25,
   "metadata": {
    "colab": {
     "base_uri": "https://localhost:8080/",
     "height": 364
    },
    "executionInfo": {
     "elapsed": 666,
     "status": "ok",
     "timestamp": 1601816890315,
     "user": {
      "displayName": "Laia Albors Zumel",
      "photoUrl": "",
      "userId": "07110507271504138336"
     },
     "user_tz": -120
    },
    "id": "DdPEH1cBs_4M",
    "outputId": "7b03f6a8-44c3-4cbb-b26f-0d109c1add77"
   },
   "outputs": [
    {
     "data": {
      "text/plain": [
       "<BarContainer object of 5 artists>"
      ]
     },
     "execution_count": 25,
     "metadata": {},
     "output_type": "execute_result"
    },
    {
     "data": {
      "image/png": "[encoded data removed]",
      "text/plain": [
       "<Figure size 1080x360 with 1 Axes>"
      ]
     },
     "metadata": {
      "needs_background": "light"
     },
     "output_type": "display_data"
    }
   ],
   "source": [
    "d = {}\n",
    "for p in priorityNew:\n",
    "  if p not in d:\n",
    "    d[p] = 0\n",
    "  d[p] += 1\n",
    "\n",
    "plt.figure(figsize=(15,5))\n",
    "plt.xticks(rotation=90)\n",
    "plt.bar(d.keys(), d.values())"
   ]
  },
  {
   "cell_type": "markdown",
   "metadata": {
    "id": "kXQ9A1cttCjD"
   },
   "source": [
    "## votes"
   ]
  },
  {
   "cell_type": "code",
   "execution_count": 26,
   "metadata": {
    "id": "r6rdYS22tTQB"
   },
   "outputs": [],
   "source": [
    "votes = jiraIssues[\"votes\"]"
   ]
  },
  {
   "cell_type": "code",
   "execution_count": 27,
   "metadata": {
    "colab": {
     "base_uri": "https://localhost:8080/",
     "height": 51
    },
    "executionInfo": {
     "elapsed": 456,
     "status": "ok",
     "timestamp": 1601816894121,
     "user": {
      "displayName": "Laia Albors Zumel",
      "photoUrl": "",
      "userId": "07110507271504138336"
     },
     "user_tz": -120
    },
    "id": "1fMEh4JNtFG2",
    "outputId": "be5e1a57-46ff-4f0c-a61e-fc778152d921"
   },
   "outputs": [
    {
     "data": {
      "text/plain": [
       "array([nan,  1.,  3.,  2.,  5.,  7.,  4.,  9.,  8.,  6., 25., 10., 38.,\n",
       "       12., 66., 11., 20., 16., 23., 32., 29., 26., 13., 28.])"
      ]
     },
     "execution_count": 27,
     "metadata": {},
     "output_type": "execute_result"
    }
   ],
   "source": [
    "pd.unique(votes)"
   ]
  },
  {
   "cell_type": "markdown",
   "metadata": {
    "id": "xz9tTRxStaVI"
   },
   "source": [
    "Number of NaNs and no-NaNs:"
   ]
  },
  {
   "cell_type": "code",
   "execution_count": 28,
   "metadata": {
    "colab": {
     "base_uri": "https://localhost:8080/",
     "height": 34
    },
    "executionInfo": {
     "elapsed": 480,
     "status": "ok",
     "timestamp": 1601816896549,
     "user": {
      "displayName": "Laia Albors Zumel",
      "photoUrl": "",
      "userId": "07110507271504138336"
     },
     "user_tz": -120
    },
    "id": "_RfWTPf0tYNJ",
    "outputId": "704d92b0-36f3-4827-c86d-fcd272898c5b"
   },
   "outputs": [
    {
     "data": {
      "text/plain": [
       "64489"
      ]
     },
     "execution_count": 28,
     "metadata": {},
     "output_type": "execute_result"
    }
   ],
   "source": [
    "nans = votes.isna().sum()\n",
    "nans"
   ]
  },
  {
   "cell_type": "code",
   "execution_count": 29,
   "metadata": {
    "id": "o9AIhksxtdSS"
   },
   "outputs": [],
   "source": [
    "votesNew = votes[votes.notnull()]\n",
    "notnans = votesNew.count()"
   ]
  },
  {
   "cell_type": "code",
   "execution_count": 30,
   "metadata": {
    "colab": {
     "base_uri": "https://localhost:8080/",
     "height": 316
    },
    "executionInfo": {
     "elapsed": 491,
     "status": "ok",
     "timestamp": 1601816898939,
     "user": {
      "displayName": "Laia Albors Zumel",
      "photoUrl": "",
      "userId": "07110507271504138336"
     },
     "user_tz": -120
    },
    "id": "4KDPaMR7thLC",
    "outputId": "4884ed0b-e2c4-4aaf-b856-15756db829da"
   },
   "outputs": [
    {
     "data": {
      "text/plain": [
       "([<matplotlib.patches.Wedge at 0x7fe6b646dee0>,\n",
       "  <matplotlib.patches.Wedge at 0x7fe6b64706d0>],\n",
       " [Text(-1.0897099017798315, 0.15010772785899554, 'NaN'),\n",
       "  Text(1.089709914077165, -0.15010763858624188, 'value')])"
      ]
     },
     "execution_count": 30,
     "metadata": {},
     "output_type": "execute_result"
    },
    {
     "data": {
      "image/png": "[encoded data removed]",
      "text/plain": [
       "<Figure size 432x288 with 1 Axes>"
      ]
     },
     "metadata": {},
     "output_type": "display_data"
    }
   ],
   "source": [
    "labels = 'NaN', 'value'\n",
    "plt.pie([nans, notnans], labels=labels)"
   ]
  },
  {
   "cell_type": "code",
   "execution_count": 31,
   "metadata": {
    "colab": {
     "base_uri": "https://localhost:8080/",
     "height": 339
    },
    "executionInfo": {
     "elapsed": 681,
     "status": "ok",
     "timestamp": 1601816900264,
     "user": {
      "displayName": "Laia Albors Zumel",
      "photoUrl": "",
      "userId": "07110507271504138336"
     },
     "user_tz": -120
    },
    "id": "bEw130Nsti6G",
    "outputId": "19daad9a-a260-4da3-e96e-6e48c367d41d"
   },
   "outputs": [
    {
     "data": {
      "text/plain": [
       "<BarContainer object of 23 artists>"
      ]
     },
     "execution_count": 31,
     "metadata": {},
     "output_type": "execute_result"
    },
    {
     "data": {
      "image/png": "[encoded data removed]",
      "text/plain": [
       "<Figure size 1080x360 with 1 Axes>"
      ]
     },
     "metadata": {
      "needs_background": "light"
     },
     "output_type": "display_data"
    }
   ],
   "source": [
    "d = {}\n",
    "for p in votesNew:\n",
    "  if p not in d:\n",
    "    d[p] = 0\n",
    "  d[p] += 1\n",
    "\n",
    "plt.figure(figsize=(15,5))\n",
    "plt.xticks(rotation=90)\n",
    "plt.bar(d.keys(), d.values())"
   ]
  },
  {
   "cell_type": "markdown",
   "metadata": {
    "id": "sUM3cwoTtmTA"
   },
   "source": [
    "## assignee"
   ]
  },
  {
   "cell_type": "code",
   "execution_count": 32,
   "metadata": {
    "colab": {
     "base_uri": "https://localhost:8080/",
     "height": 51
    },
    "executionInfo": {
     "elapsed": 603,
     "status": "ok",
     "timestamp": 1601816904001,
     "user": {
      "displayName": "Laia Albors Zumel",
      "photoUrl": "",
      "userId": "07110507271504138336"
     },
     "user_tz": -120
    },
    "id": "rFX-oM0OtnC1",
    "outputId": "fd81d478-38c1-4194-cc53-9cb9bbab024a"
   },
   "outputs": [
    {
     "data": {
      "text/plain": [
       "array([nan, 'sgoeschl', 'ggregory', ..., 'jghoman', 'anthonyu', 'akornev'],\n",
       "      dtype=object)"
      ]
     },
     "execution_count": 32,
     "metadata": {},
     "output_type": "execute_result"
    }
   ],
   "source": [
    "assignee = jiraIssues[\"assignee\"]\n",
    "pd.unique(assignee)"
   ]
  },
  {
   "cell_type": "code",
   "execution_count": 33,
   "metadata": {
    "colab": {
     "base_uri": "https://localhost:8080/",
     "height": 34
    },
    "executionInfo": {
     "elapsed": 321,
     "status": "ok",
     "timestamp": 1601816904001,
     "user": {
      "displayName": "Laia Albors Zumel",
      "photoUrl": "",
      "userId": "07110507271504138336"
     },
     "user_tz": -120
    },
    "id": "kMOQJRfitw-s",
    "outputId": "36a15216-416f-49ba-db7e-e9a9aa9c9122"
   },
   "outputs": [
    {
     "data": {
      "text/plain": [
       "1511"
      ]
     },
     "execution_count": 33,
     "metadata": {},
     "output_type": "execute_result"
    }
   ],
   "source": [
    "pd.unique(assignee).size"
   ]
  },
  {
   "cell_type": "code",
   "execution_count": 34,
   "metadata": {
    "colab": {
     "base_uri": "https://localhost:8080/",
     "height": 34
    },
    "executionInfo": {
     "elapsed": 374,
     "status": "ok",
     "timestamp": 1601816904853,
     "user": {
      "displayName": "Laia Albors Zumel",
      "photoUrl": "",
      "userId": "07110507271504138336"
     },
     "user_tz": -120
    },
    "id": "XVOr8wShtz9N",
    "outputId": "e5b0c1fb-39d4-400e-ae9c-2fe8a744c317"
   },
   "outputs": [
    {
     "data": {
      "text/plain": [
       "19698"
      ]
     },
     "execution_count": 34,
     "metadata": {},
     "output_type": "execute_result"
    }
   ],
   "source": [
    "nans = assignee.isna().sum()\n",
    "nans"
   ]
  },
  {
   "cell_type": "code",
   "execution_count": 35,
   "metadata": {
    "id": "2BkGW1oBt2Qs"
   },
   "outputs": [],
   "source": [
    "assigneeNew = assignee[assignee.notnull()]\n",
    "notnans = assigneeNew.count()"
   ]
  },
  {
   "cell_type": "code",
   "execution_count": 36,
   "metadata": {
    "colab": {
     "base_uri": "https://localhost:8080/",
     "height": 316
    },
    "executionInfo": {
     "elapsed": 736,
     "status": "ok",
     "timestamp": 1601816906001,
     "user": {
      "displayName": "Laia Albors Zumel",
      "photoUrl": "",
      "userId": "07110507271504138336"
     },
     "user_tz": -120
    },
    "id": "CYK_uMLat5z_",
    "outputId": "5053b176-5bcb-40e2-a0b9-f8fcc37282e2"
   },
   "outputs": [
    {
     "data": {
      "text/plain": [
       "([<matplotlib.patches.Wedge at 0x7fe6b68bc400>,\n",
       "  <matplotlib.patches.Wedge at 0x7fe6b68bc8b0>],\n",
       " [Text(0.6683441783905629, 0.8736796090166256, 'NaN'),\n",
       "  Text(-0.6683441783905634, -0.8736796090166251, 'value')])"
      ]
     },
     "execution_count": 36,
     "metadata": {},
     "output_type": "execute_result"
    },
    {
     "data": {
      "image/png": "[encoded data removed]",
      "text/plain": [
       "<Figure size 432x288 with 1 Axes>"
      ]
     },
     "metadata": {},
     "output_type": "display_data"
    }
   ],
   "source": [
    "labels = 'NaN', 'value'\n",
    "plt.pie([nans, notnans], labels=labels)"
   ]
  },
  {
   "cell_type": "markdown",
   "metadata": {
    "id": "SelPK33Bt97S"
   },
   "source": [
    "## reporter"
   ]
  },
  {
   "cell_type": "code",
   "execution_count": 37,
   "metadata": {
    "colab": {
     "base_uri": "https://localhost:8080/",
     "height": 51
    },
    "executionInfo": {
     "elapsed": 457,
     "status": "ok",
     "timestamp": 1601816918098,
     "user": {
      "displayName": "Laia Albors Zumel",
      "photoUrl": "",
      "userId": "07110507271504138336"
     },
     "user_tz": -120
    },
    "id": "7ETguYyut6Su",
    "outputId": "a8c6316c-8f22-4afd-ef75-7deba724550b"
   },
   "outputs": [
    {
     "data": {
      "text/plain": [
       "array(['natanieljr', 'stefanreich', 'sebb', ..., 'md87', 'markh',\n",
       "       'akornev'], dtype=object)"
      ]
     },
     "execution_count": 37,
     "metadata": {},
     "output_type": "execute_result"
    }
   ],
   "source": [
    "reporter = jiraIssues[\"reporter\"]\n",
    "pd.unique(reporter)"
   ]
  },
  {
   "cell_type": "code",
   "execution_count": 38,
   "metadata": {
    "colab": {
     "base_uri": "https://localhost:8080/",
     "height": 34
    },
    "executionInfo": {
     "elapsed": 531,
     "status": "ok",
     "timestamp": 1601816958137,
     "user": {
      "displayName": "Laia Albors Zumel",
      "photoUrl": "",
      "userId": "07110507271504138336"
     },
     "user_tz": -120
    },
    "id": "YDxPFT5suwj4",
    "outputId": "89479e59-8c05-41cd-976e-f33ea798462c"
   },
   "outputs": [
    {
     "data": {
      "text/plain": [
       "10866"
      ]
     },
     "execution_count": 38,
     "metadata": {},
     "output_type": "execute_result"
    }
   ],
   "source": [
    "pd.unique(reporter).size"
   ]
  },
  {
   "cell_type": "code",
   "execution_count": 39,
   "metadata": {
    "colab": {
     "base_uri": "https://localhost:8080/",
     "height": 34
    },
    "executionInfo": {
     "elapsed": 677,
     "status": "ok",
     "timestamp": 1601816938071,
     "user": {
      "displayName": "Laia Albors Zumel",
      "photoUrl": "",
      "userId": "07110507271504138336"
     },
     "user_tz": -120
    },
    "id": "ZPtHUiHAunZR",
    "outputId": "f281044f-f2b4-422f-986b-94144f04fe5c"
   },
   "outputs": [
    {
     "data": {
      "text/plain": [
       "0"
      ]
     },
     "execution_count": 39,
     "metadata": {},
     "output_type": "execute_result"
    }
   ],
   "source": [
    "nans = reporter.isna().sum()\n",
    "nans"
   ]
  },
  {
   "cell_type": "markdown",
   "metadata": {
    "id": "nKSG03Nquzpp"
   },
   "source": [
    "## assignee & reporter"
   ]
  },
  {
   "cell_type": "code",
   "execution_count": 40,
   "metadata": {
    "colab": {
     "base_uri": "https://localhost:8080/",
     "height": 34
    },
    "executionInfo": {
     "elapsed": 8100,
     "status": "ok",
     "timestamp": 1601817005207,
     "user": {
      "displayName": "Laia Albors Zumel",
      "photoUrl": "",
      "userId": "07110507271504138336"
     },
     "user_tz": -120
    },
    "id": "bqPET0YlusOR",
    "outputId": "08d9974f-b376-4270-c07f-cfc68514a5c9"
   },
   "outputs": [
    {
     "data": {
      "text/plain": [
       "190"
      ]
     },
     "execution_count": 40,
     "metadata": {},
     "output_type": "execute_result"
    }
   ],
   "source": [
    "count = 0\n",
    "for a in pd.unique(assignee):\n",
    "  if a not in pd.unique(reporter):\n",
    "    count += 1\n",
    "\n",
    "count"
   ]
  }
 ],
 "metadata": {
  "colab": {
   "collapsed_sections": [],
   "name": "jira_issues.ipynb",
   "provenance": []
  },
  "kernelspec": {
   "display_name": "Python 3",
   "language": "python",
   "name": "python3"
  },
  "language_info": {
   "codemirror_mode": {
    "name": "ipython",
    "version": 3
   },
   "file_extension": ".py",
   "mimetype": "text/x-python",
   "name": "python",
   "nbconvert_exporter": "python",
   "pygments_lexer": "ipython3",
   "version": "3.8.3"
  }
 },
 "nbformat": 4,
 "nbformat_minor": 1
}
