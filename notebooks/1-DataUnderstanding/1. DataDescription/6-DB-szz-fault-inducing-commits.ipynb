{
 "cells": [
  {
   "cell_type": "markdown",
   "metadata": {
    "id": "1gUUoaQiaXRZ"
   },
   "source": [
    "# **SZZ_FAULT_INDUCING_COMMITS**\n",
    "\n",
    "This notebook the description of the table `SZZ_FAULT_INDUCING_COMMITS`.\n",
    "\n",
    "First, we import the libraries we need and, then, we read the corresponding csv."
   ]
  },
  {
   "cell_type": "code",
   "execution_count": 1,
   "metadata": {
    "executionInfo": {
     "elapsed": 695,
     "status": "ok",
     "timestamp": 1603908878638,
     "user": {
      "displayName": "Sonia Rabanaque Rodriguez",
      "photoUrl": "",
      "userId": "11465044831239167480"
     },
     "user_tz": -60
    },
    "id": "UK9kiAhBqtVa"
   },
   "outputs": [],
   "source": [
    "import pandas as pd\n",
    "import matplotlib.pyplot as plt\n",
    "import numpy as np"
   ]
  },
  {
   "cell_type": "code",
   "execution_count": 2,
   "metadata": {
    "executionInfo": {
     "elapsed": 2179,
     "status": "ok",
     "timestamp": 1603908882887,
     "user": {
      "displayName": "Sonia Rabanaque Rodriguez",
      "photoUrl": "",
      "userId": "11465044831239167480"
     },
     "user_tz": -60
    },
    "id": "xnEJrmGdrKPW"
   },
   "outputs": [],
   "source": [
    "df = pd.read_csv('../../data/raw/SZZ_FAULT_INDUCING_COMMITS.csv')"
   ]
  },
  {
   "cell_type": "markdown",
   "metadata": {
    "id": "XBXb9QSdalcY"
   },
   "source": [
    "We show the first rows of the table to get an idea of its content."
   ]
  },
  {
   "cell_type": "code",
   "execution_count": 3,
   "metadata": {
    "colab": {
     "base_uri": "https://localhost:8080/",
     "height": 309
    },
    "executionInfo": {
     "elapsed": 693,
     "status": "ok",
     "timestamp": 1603908885262,
     "user": {
      "displayName": "Sonia Rabanaque Rodriguez",
      "photoUrl": "",
      "userId": "11465044831239167480"
     },
     "user_tz": -60
    },
    "id": "K4VbYNEquTqS",
    "outputId": "fabe845e-e73e-449e-8961-91634836448b"
   },
   "outputs": [
    {
     "data": {
      "text/html": [
       "<div>\n",
       "<style scoped>\n",
       "    .dataframe tbody tr th:only-of-type {\n",
       "        vertical-align: middle;\n",
       "    }\n",
       "\n",
       "    .dataframe tbody tr th {\n",
       "        vertical-align: top;\n",
       "    }\n",
       "\n",
       "    .dataframe thead th {\n",
       "        text-align: right;\n",
       "    }\n",
       "</style>\n",
       "<table border=\"1\" class=\"dataframe\">\n",
       "  <thead>\n",
       "    <tr style=\"text-align: right;\">\n",
       "      <th></th>\n",
       "      <th>projectID</th>\n",
       "      <th>faultFixingCommitHash</th>\n",
       "      <th>faultFixingTimestamp</th>\n",
       "      <th>faultFixingfileChanged</th>\n",
       "      <th>faultInducingCommitHash</th>\n",
       "      <th>faultInducingTimestamp</th>\n",
       "      <th>key</th>\n",
       "    </tr>\n",
       "  </thead>\n",
       "  <tbody>\n",
       "    <tr>\n",
       "      <th>0</th>\n",
       "      <td>commons-daemon</td>\n",
       "      <td>871c58c9cbfff95a4e3149e9df527401d17381fd</td>\n",
       "      <td>2017-07-09T22:42:35.000+0000</td>\n",
       "      <td>src/main/java/org/apache/commons/daemon/Daemon...</td>\n",
       "      <td>49cbb142a2b5d7d89aab077dc63f7646828c9408</td>\n",
       "      <td>2003-09-04T23:28:19.000+0000</td>\n",
       "      <td>DAEMON-370</td>\n",
       "    </tr>\n",
       "    <tr>\n",
       "      <th>1</th>\n",
       "      <td>commons-daemon</td>\n",
       "      <td>871c58c9cbfff95a4e3149e9df527401d17381fd</td>\n",
       "      <td>2017-07-09T22:42:35.000+0000</td>\n",
       "      <td>src/main/java/org/apache/commons/daemon/Daemon...</td>\n",
       "      <td>43d485a0e99c613daffba7d5b410e8e4a302e4f7</td>\n",
       "      <td>2003-09-26T09:26:04.000+0000</td>\n",
       "      <td>DAEMON-370</td>\n",
       "    </tr>\n",
       "    <tr>\n",
       "      <th>2</th>\n",
       "      <td>commons-daemon</td>\n",
       "      <td>871c58c9cbfff95a4e3149e9df527401d17381fd</td>\n",
       "      <td>2017-07-09T22:42:35.000+0000</td>\n",
       "      <td>src/main/java/org/apache/commons/daemon/Daemon...</td>\n",
       "      <td>4f232e47002359f1a8156b5f03b227c7bae9874a</td>\n",
       "      <td>2010-03-19T00:37:22.000+0000</td>\n",
       "      <td>DAEMON-370</td>\n",
       "    </tr>\n",
       "    <tr>\n",
       "      <th>3</th>\n",
       "      <td>commons-daemon</td>\n",
       "      <td>871c58c9cbfff95a4e3149e9df527401d17381fd</td>\n",
       "      <td>2017-07-09T22:42:35.000+0000</td>\n",
       "      <td>src/main/java/org/apache/commons/daemon/Daemon...</td>\n",
       "      <td>4f232e47002359f1a8156b5f03b227c7bae9874a</td>\n",
       "      <td>2010-03-19T00:37:22.000+0000</td>\n",
       "      <td>DAEMON-370</td>\n",
       "    </tr>\n",
       "    <tr>\n",
       "      <th>4</th>\n",
       "      <td>beam</td>\n",
       "      <td>e2583f5e73de50f8af128ecaa331a2e1046d2b08</td>\n",
       "      <td>2018-08-15T17:08:05.000+0000</td>\n",
       "      <td>sdks/java/core/src/main/java/org/apache/beam/s...</td>\n",
       "      <td>c880c8ebad0e83a068301d0bbf8c76be36a59962</td>\n",
       "      <td>2018-06-14T21:20:09.000+0000</td>\n",
       "      <td>BEAM-5145</td>\n",
       "    </tr>\n",
       "  </tbody>\n",
       "</table>\n",
       "</div>"
      ],
      "text/plain": [
       "        projectID                     faultFixingCommitHash  \\\n",
       "0  commons-daemon  871c58c9cbfff95a4e3149e9df527401d17381fd   \n",
       "1  commons-daemon  871c58c9cbfff95a4e3149e9df527401d17381fd   \n",
       "2  commons-daemon  871c58c9cbfff95a4e3149e9df527401d17381fd   \n",
       "3  commons-daemon  871c58c9cbfff95a4e3149e9df527401d17381fd   \n",
       "4            beam  e2583f5e73de50f8af128ecaa331a2e1046d2b08   \n",
       "\n",
       "           faultFixingTimestamp  \\\n",
       "0  2017-07-09T22:42:35.000+0000   \n",
       "1  2017-07-09T22:42:35.000+0000   \n",
       "2  2017-07-09T22:42:35.000+0000   \n",
       "3  2017-07-09T22:42:35.000+0000   \n",
       "4  2018-08-15T17:08:05.000+0000   \n",
       "\n",
       "                              faultFixingfileChanged  \\\n",
       "0  src/main/java/org/apache/commons/daemon/Daemon...   \n",
       "1  src/main/java/org/apache/commons/daemon/Daemon...   \n",
       "2  src/main/java/org/apache/commons/daemon/Daemon...   \n",
       "3  src/main/java/org/apache/commons/daemon/Daemon...   \n",
       "4  sdks/java/core/src/main/java/org/apache/beam/s...   \n",
       "\n",
       "                    faultInducingCommitHash        faultInducingTimestamp  \\\n",
       "0  49cbb142a2b5d7d89aab077dc63f7646828c9408  2003-09-04T23:28:19.000+0000   \n",
       "1  43d485a0e99c613daffba7d5b410e8e4a302e4f7  2003-09-26T09:26:04.000+0000   \n",
       "2  4f232e47002359f1a8156b5f03b227c7bae9874a  2010-03-19T00:37:22.000+0000   \n",
       "3  4f232e47002359f1a8156b5f03b227c7bae9874a  2010-03-19T00:37:22.000+0000   \n",
       "4  c880c8ebad0e83a068301d0bbf8c76be36a59962  2018-06-14T21:20:09.000+0000   \n",
       "\n",
       "          key  \n",
       "0  DAEMON-370  \n",
       "1  DAEMON-370  \n",
       "2  DAEMON-370  \n",
       "3  DAEMON-370  \n",
       "4   BEAM-5145  "
      ]
     },
     "execution_count": 3,
     "metadata": {},
     "output_type": "execute_result"
    }
   ],
   "source": [
    "df.head()"
   ]
  },
  {
   "cell_type": "code",
   "execution_count": 4,
   "metadata": {
    "colab": {
     "base_uri": "https://localhost:8080/"
    },
    "executionInfo": {
     "elapsed": 627,
     "status": "ok",
     "timestamp": 1603908888578,
     "user": {
      "displayName": "Sonia Rabanaque Rodriguez",
      "photoUrl": "",
      "userId": "11465044831239167480"
     },
     "user_tz": -60
    },
    "id": "g8M3djqauW9u",
    "outputId": "4a7d64b1-f04d-4d5b-e1a6-9c3701b13ea0"
   },
   "outputs": [
    {
     "data": {
      "text/plain": [
       "(27340, 7)"
      ]
     },
     "execution_count": 4,
     "metadata": {},
     "output_type": "execute_result"
    }
   ],
   "source": [
    "df.shape"
   ]
  },
  {
   "cell_type": "markdown",
   "metadata": {
    "id": "Z27ODCByamde"
   },
   "source": [
    "We create a function that tells us basic information of each attribute. Therefore, given an attribute of the table, we look its type, the number of unique values it has, the number of missing values, and a description (that is, the maximum and minimum values, and the quartiles)."
   ]
  },
  {
   "cell_type": "code",
   "execution_count": 5,
   "metadata": {
    "executionInfo": {
     "elapsed": 602,
     "status": "ok",
     "timestamp": 1603908891086,
     "user": {
      "displayName": "Sonia Rabanaque Rodriguez",
      "photoUrl": "",
      "userId": "11465044831239167480"
     },
     "user_tz": -60
    },
    "id": "JXqUJW0UuvLN"
   },
   "outputs": [],
   "source": [
    "def description(attributeName):\n",
    "  print('Type: ', df[attributeName].dtype)\n",
    "  print('Unique values: ', (df[attributeName].unique()).shape[0])\n",
    "  print('NaN values: ', df[attributeName].isnull().sum())\n",
    "  print('Description: ', df[attributeName].describe())"
   ]
  },
  {
   "cell_type": "markdown",
   "metadata": {
    "id": "nQnpI6Wsaojw"
   },
   "source": [
    "Next, for each attribute, we obtain the data mentioned above and we plot their distribution.\n",
    "\n",
    "In some cases, we do not plot anything because there are lots of unique values of which we are not interested in the distribution, as they are categorical values."
   ]
  },
  {
   "cell_type": "markdown",
   "metadata": {
    "id": "lV4IeNrEunvH"
   },
   "source": [
    "#### projectID"
   ]
  },
  {
   "cell_type": "code",
   "execution_count": 6,
   "metadata": {
    "colab": {
     "base_uri": "https://localhost:8080/",
     "height": 634
    },
    "executionInfo": {
     "elapsed": 1070,
     "status": "ok",
     "timestamp": 1603908894006,
     "user": {
      "displayName": "Sonia Rabanaque Rodriguez",
      "photoUrl": "",
      "userId": "11465044831239167480"
     },
     "user_tz": -60
    },
    "id": "IEJZm3cauy_l",
    "outputId": "967612f9-8de0-462a-ceca-afd308fe650b"
   },
   "outputs": [
    {
     "name": "stdout",
     "output_type": "stream",
     "text": [
      "Type:  object\n",
      "Unique values:  33\n",
      "NaN values:  0\n",
      "Description:  count        27340\n",
      "unique          33\n",
      "top       accumulo\n",
      "freq          9606\n",
      "Name: projectID, dtype: object\n"
     ]
    },
    {
     "data": {
      "text/plain": [
       "(array([ 0.,  1.,  2.,  3.,  4.,  5.,  6.,  7.,  8.,  9., 10., 11., 12.,\n",
       "        13., 14., 15., 16., 17., 18., 19., 20., 21., 22., 23., 24., 25.,\n",
       "        26., 27., 28., 29., 30., 31., 32.]),\n",
       " <a list of 33 Text major ticklabel objects>)"
      ]
     },
     "execution_count": 6,
     "metadata": {},
     "output_type": "execute_result"
    },
    {
     "data": {
      "image/png": "[encoded data removed]",
      "text/plain": [
       "<Figure size 1080x360 with 1 Axes>"
      ]
     },
     "metadata": {
      "needs_background": "light"
     },
     "output_type": "display_data"
    }
   ],
   "source": [
    "attribute = 'projectID'\n",
    "description(attribute)\n",
    "\n",
    "plt.figure(figsize=(15,5))\n",
    "x, y = np.unique(df[attribute],return_counts=True)\n",
    "plt.bar(x, y, tick_label=x)\n",
    "plt.xticks(rotation='vertical')"
   ]
  },
  {
   "cell_type": "markdown",
   "metadata": {
    "id": "T9x4MMCkvaem"
   },
   "source": [
    "#### faultFixingCommitHash"
   ]
  },
  {
   "cell_type": "code",
   "execution_count": 7,
   "metadata": {
    "colab": {
     "base_uri": "https://localhost:8080/"
    },
    "executionInfo": {
     "elapsed": 550,
     "status": "ok",
     "timestamp": 1603908926675,
     "user": {
      "displayName": "Sonia Rabanaque Rodriguez",
      "photoUrl": "",
      "userId": "11465044831239167480"
     },
     "user_tz": -60
    },
    "id": "mp8uLfjtveov",
    "outputId": "948a900a-976b-4b17-e152-f5f1c1cd26c5"
   },
   "outputs": [
    {
     "name": "stdout",
     "output_type": "stream",
     "text": [
      "Type:  object\n",
      "Unique values:  8538\n",
      "NaN values:  0\n",
      "Description:  count                                        27340\n",
      "unique                                        8538\n",
      "top       dd0c114d7c1d8c735b540b3e44b487a3ecb5d571\n",
      "freq                                          1096\n",
      "Name: faultFixingCommitHash, dtype: object\n"
     ]
    }
   ],
   "source": [
    "attribute = 'faultFixingCommitHash'\n",
    "description(attribute)"
   ]
  },
  {
   "cell_type": "markdown",
   "metadata": {
    "id": "Th9tO9eOwPQX"
   },
   "source": [
    "#### faultFixingfileChanged "
   ]
  },
  {
   "cell_type": "code",
   "execution_count": 8,
   "metadata": {
    "colab": {
     "base_uri": "https://localhost:8080/"
    },
    "executionInfo": {
     "elapsed": 640,
     "status": "ok",
     "timestamp": 1603908934223,
     "user": {
      "displayName": "Sonia Rabanaque Rodriguez",
      "photoUrl": "",
      "userId": "11465044831239167480"
     },
     "user_tz": -60
    },
    "id": "scf3ts_RwN_q",
    "outputId": "a544ca98-eb21-478e-9aa1-f5bcb28a01e8"
   },
   "outputs": [
    {
     "name": "stdout",
     "output_type": "stream",
     "text": [
      "Type:  object\n",
      "Unique values:  10132\n",
      "NaN values:  0\n",
      "Description:  count                                                 27340\n",
      "unique                                                10132\n",
      "top       ambari-server/src/main/java/org/apache/ambari/...\n",
      "freq                                                     95\n",
      "Name: faultFixingfileChanged, dtype: object\n"
     ]
    }
   ],
   "source": [
    "attribute = 'faultFixingfileChanged'\n",
    "description(attribute)"
   ]
  },
  {
   "cell_type": "markdown",
   "metadata": {
    "id": "wuqtxHZgzmIv"
   },
   "source": [
    "#### faultInducingCommitHash"
   ]
  },
  {
   "cell_type": "code",
   "execution_count": 9,
   "metadata": {
    "colab": {
     "base_uri": "https://localhost:8080/"
    },
    "executionInfo": {
     "elapsed": 594,
     "status": "ok",
     "timestamp": 1603908949442,
     "user": {
      "displayName": "Sonia Rabanaque Rodriguez",
      "photoUrl": "",
      "userId": "11465044831239167480"
     },
     "user_tz": -60
    },
    "id": "cN-FXiWxzrCt",
    "outputId": "70568434-108b-40f9-db75-60dcee2787a1"
   },
   "outputs": [
    {
     "name": "stdout",
     "output_type": "stream",
     "text": [
      "Type:  object\n",
      "Unique values:  669\n",
      "NaN values:  0\n",
      "Description:  count                                        27340\n",
      "unique                                         669\n",
      "top       e0880e263e4bf8662ba3848405200473a25dfc9f\n",
      "freq                                          5371\n",
      "Name: faultInducingCommitHash, dtype: object\n"
     ]
    }
   ],
   "source": [
    "attribute = 'faultInducingCommitHash'\n",
    "description(attribute)"
   ]
  }
 ],
 "metadata": {
  "colab": {
   "authorship_tag": "ABX9TyPdjQdGFX4e46h7XgDF9ERk",
   "collapsed_sections": [],
   "mount_file_id": "1MneSddbDjyCedvzIEdD73sL788BpA51m",
   "name": "szz_fault_inducing_commits.ipynb",
   "provenance": [],
   "toc_visible": true
  },
  "kernelspec": {
   "display_name": "Python 3",
   "language": "python",
   "name": "python3"
  },
  "language_info": {
   "codemirror_mode": {
    "name": "ipython",
    "version": 3
   },
   "file_extension": ".py",
   "mimetype": "text/x-python",
   "name": "python",
   "nbconvert_exporter": "python",
   "pygments_lexer": "ipython3",
   "version": "3.8.3"
  }
 },
 "nbformat": 4,
 "nbformat_minor": 1
}
