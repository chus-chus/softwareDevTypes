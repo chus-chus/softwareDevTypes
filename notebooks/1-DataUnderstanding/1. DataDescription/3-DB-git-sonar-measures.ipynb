{
 "cells": [
  {
   "cell_type": "markdown",
   "metadata": {
    "id": "FwUI5YO6ZmTf"
   },
   "source": [
    "# **SONAR_MEASURES**\n",
    "\n",
    "This notebook the description of the table `SONAR_MEASURES`.\n",
    "\n",
    "First, we import the libraries we need and, then, we read the corresponding csv."
   ]
  },
  {
   "cell_type": "code",
   "execution_count": 1,
   "metadata": {
    "id": "b-EwrnpQA9xQ"
   },
   "outputs": [],
   "source": [
    "import pandas as pd\n",
    "import matplotlib.pyplot as plt\n",
    "import numpy as np"
   ]
  },
  {
   "cell_type": "code",
   "execution_count": 2,
   "metadata": {
    "id": "OMUlazFlHb1l"
   },
   "outputs": [],
   "source": [
    "df = pd.read_csv('../../data/raw/SONAR_MEASURES.csv')  "
   ]
  },
  {
   "cell_type": "markdown",
   "metadata": {
    "id": "y6k7Vw2pZwwL"
   },
   "source": [
    "We show the first rows of the table to get an idea of its content."
   ]
  },
  {
   "cell_type": "code",
   "execution_count": 3,
   "metadata": {
    "colab": {
     "base_uri": "https://localhost:8080/",
     "height": 300
    },
    "executionInfo": {
     "elapsed": 5771,
     "status": "ok",
     "timestamp": 1601904912124,
     "user": {
      "displayName": "Sonia Rabanaque Rodriguez",
      "photoUrl": "",
      "userId": "11465044831239167480"
     },
     "user_tz": -120
    },
    "id": "wbKFXBD0Baa8",
    "outputId": "d51d426e-c642-4e28-eb83-dfa2ef9231ae"
   },
   "outputs": [
    {
     "data": {
      "text/html": [
       "<div>\n",
       "<style scoped>\n",
       "    .dataframe tbody tr th:only-of-type {\n",
       "        vertical-align: middle;\n",
       "    }\n",
       "\n",
       "    .dataframe tbody tr th {\n",
       "        vertical-align: top;\n",
       "    }\n",
       "\n",
       "    .dataframe thead th {\n",
       "        text-align: right;\n",
       "    }\n",
       "</style>\n",
       "<table border=\"1\" class=\"dataframe\">\n",
       "  <thead>\n",
       "    <tr style=\"text-align: right;\">\n",
       "      <th></th>\n",
       "      <th>commitHash</th>\n",
       "      <th>projectID</th>\n",
       "      <th>SQAnalysisDate</th>\n",
       "      <th>classes</th>\n",
       "      <th>files</th>\n",
       "      <th>functions</th>\n",
       "      <th>commentLines</th>\n",
       "      <th>commentLinesDensity</th>\n",
       "      <th>complexity</th>\n",
       "      <th>fileComplexity</th>\n",
       "      <th>...</th>\n",
       "      <th>qualityGateDetails</th>\n",
       "      <th>qualityProfiles</th>\n",
       "      <th>newSqaleDebtRatio</th>\n",
       "      <th>vulnerabilities</th>\n",
       "      <th>reliabilityRemediationEffort</th>\n",
       "      <th>reliabilityRating</th>\n",
       "      <th>securityRemediationEffort</th>\n",
       "      <th>securityRating</th>\n",
       "      <th>wontFixIssues</th>\n",
       "      <th>packageDependencyCycles</th>\n",
       "    </tr>\n",
       "  </thead>\n",
       "  <tbody>\n",
       "    <tr>\n",
       "      <th>0</th>\n",
       "      <td>5e90dbea078fca205d913efc8e61ba278c5f39d8</td>\n",
       "      <td>commons-daemon</td>\n",
       "      <td>2003-09-04T23:42:57Z</td>\n",
       "      <td>15</td>\n",
       "      <td>11</td>\n",
       "      <td>87</td>\n",
       "      <td>274</td>\n",
       "      <td>23.0</td>\n",
       "      <td>153</td>\n",
       "      <td>13.9</td>\n",
       "      <td>...</td>\n",
       "      <td>{\"level\":\"ERROR\",\"conditions\":[{\"metric\":\"bloc...</td>\n",
       "      <td>[{\"key\":\"java-sonar-way-04122\",\"language\":\"jav...</td>\n",
       "      <td>0.0</td>\n",
       "      <td>0</td>\n",
       "      <td>85</td>\n",
       "      <td>4</td>\n",
       "      <td>0</td>\n",
       "      <td>1</td>\n",
       "      <td>0</td>\n",
       "      <td>0</td>\n",
       "    </tr>\n",
       "    <tr>\n",
       "      <th>1</th>\n",
       "      <td>6c0eafee28fc5c8ab69215df31dc4f07c5579a34</td>\n",
       "      <td>commons-daemon</td>\n",
       "      <td>2003-09-05T08:50:36Z</td>\n",
       "      <td>15</td>\n",
       "      <td>11</td>\n",
       "      <td>87</td>\n",
       "      <td>274</td>\n",
       "      <td>23.0</td>\n",
       "      <td>153</td>\n",
       "      <td>13.9</td>\n",
       "      <td>...</td>\n",
       "      <td>{\"level\":\"ERROR\",\"conditions\":[{\"metric\":\"bloc...</td>\n",
       "      <td>[{\"key\":\"java-sonar-way-04122\",\"language\":\"jav...</td>\n",
       "      <td>0.0</td>\n",
       "      <td>0</td>\n",
       "      <td>85</td>\n",
       "      <td>4</td>\n",
       "      <td>0</td>\n",
       "      <td>1</td>\n",
       "      <td>0</td>\n",
       "      <td>0</td>\n",
       "    </tr>\n",
       "    <tr>\n",
       "      <th>2</th>\n",
       "      <td>7b73ce30f32318b99056fee53397c08063d6f661</td>\n",
       "      <td>commons-daemon</td>\n",
       "      <td>2003-09-12T09:05:57Z</td>\n",
       "      <td>15</td>\n",
       "      <td>11</td>\n",
       "      <td>87</td>\n",
       "      <td>274</td>\n",
       "      <td>23.0</td>\n",
       "      <td>153</td>\n",
       "      <td>13.9</td>\n",
       "      <td>...</td>\n",
       "      <td>{\"level\":\"ERROR\",\"conditions\":[{\"metric\":\"bloc...</td>\n",
       "      <td>[{\"key\":\"java-sonar-way-04122\",\"language\":\"jav...</td>\n",
       "      <td>0.0</td>\n",
       "      <td>0</td>\n",
       "      <td>85</td>\n",
       "      <td>4</td>\n",
       "      <td>0</td>\n",
       "      <td>1</td>\n",
       "      <td>0</td>\n",
       "      <td>0</td>\n",
       "    </tr>\n",
       "    <tr>\n",
       "      <th>3</th>\n",
       "      <td>7c9d9cde24a00cde7e584136355ce5e048e11e5e</td>\n",
       "      <td>commons-daemon</td>\n",
       "      <td>2003-09-12T09:08:51Z</td>\n",
       "      <td>15</td>\n",
       "      <td>11</td>\n",
       "      <td>87</td>\n",
       "      <td>274</td>\n",
       "      <td>23.0</td>\n",
       "      <td>153</td>\n",
       "      <td>13.9</td>\n",
       "      <td>...</td>\n",
       "      <td>{\"level\":\"ERROR\",\"conditions\":[{\"metric\":\"bloc...</td>\n",
       "      <td>[{\"key\":\"java-sonar-way-04122\",\"language\":\"jav...</td>\n",
       "      <td>0.0</td>\n",
       "      <td>0</td>\n",
       "      <td>85</td>\n",
       "      <td>4</td>\n",
       "      <td>0</td>\n",
       "      <td>1</td>\n",
       "      <td>0</td>\n",
       "      <td>0</td>\n",
       "    </tr>\n",
       "    <tr>\n",
       "      <th>4</th>\n",
       "      <td>91036e09f49a73fa40673a1071f8bc63f8cddc2f</td>\n",
       "      <td>commons-daemon</td>\n",
       "      <td>2003-09-16T08:34:06Z</td>\n",
       "      <td>15</td>\n",
       "      <td>11</td>\n",
       "      <td>87</td>\n",
       "      <td>274</td>\n",
       "      <td>23.0</td>\n",
       "      <td>153</td>\n",
       "      <td>13.9</td>\n",
       "      <td>...</td>\n",
       "      <td>{\"level\":\"ERROR\",\"conditions\":[{\"metric\":\"bloc...</td>\n",
       "      <td>[{\"key\":\"java-sonar-way-04122\",\"language\":\"jav...</td>\n",
       "      <td>0.0</td>\n",
       "      <td>0</td>\n",
       "      <td>85</td>\n",
       "      <td>4</td>\n",
       "      <td>0</td>\n",
       "      <td>1</td>\n",
       "      <td>0</td>\n",
       "      <td>0</td>\n",
       "    </tr>\n",
       "  </tbody>\n",
       "</table>\n",
       "<p>5 rows × 61 columns</p>\n",
       "</div>"
      ],
      "text/plain": [
       "                                 commitHash       projectID  \\\n",
       "0  5e90dbea078fca205d913efc8e61ba278c5f39d8  commons-daemon   \n",
       "1  6c0eafee28fc5c8ab69215df31dc4f07c5579a34  commons-daemon   \n",
       "2  7b73ce30f32318b99056fee53397c08063d6f661  commons-daemon   \n",
       "3  7c9d9cde24a00cde7e584136355ce5e048e11e5e  commons-daemon   \n",
       "4  91036e09f49a73fa40673a1071f8bc63f8cddc2f  commons-daemon   \n",
       "\n",
       "         SQAnalysisDate  classes  files  functions  commentLines  \\\n",
       "0  2003-09-04T23:42:57Z       15     11         87           274   \n",
       "1  2003-09-05T08:50:36Z       15     11         87           274   \n",
       "2  2003-09-12T09:05:57Z       15     11         87           274   \n",
       "3  2003-09-12T09:08:51Z       15     11         87           274   \n",
       "4  2003-09-16T08:34:06Z       15     11         87           274   \n",
       "\n",
       "   commentLinesDensity  complexity  fileComplexity  ...  \\\n",
       "0                 23.0         153            13.9  ...   \n",
       "1                 23.0         153            13.9  ...   \n",
       "2                 23.0         153            13.9  ...   \n",
       "3                 23.0         153            13.9  ...   \n",
       "4                 23.0         153            13.9  ...   \n",
       "\n",
       "                                  qualityGateDetails  \\\n",
       "0  {\"level\":\"ERROR\",\"conditions\":[{\"metric\":\"bloc...   \n",
       "1  {\"level\":\"ERROR\",\"conditions\":[{\"metric\":\"bloc...   \n",
       "2  {\"level\":\"ERROR\",\"conditions\":[{\"metric\":\"bloc...   \n",
       "3  {\"level\":\"ERROR\",\"conditions\":[{\"metric\":\"bloc...   \n",
       "4  {\"level\":\"ERROR\",\"conditions\":[{\"metric\":\"bloc...   \n",
       "\n",
       "                                     qualityProfiles newSqaleDebtRatio  \\\n",
       "0  [{\"key\":\"java-sonar-way-04122\",\"language\":\"jav...               0.0   \n",
       "1  [{\"key\":\"java-sonar-way-04122\",\"language\":\"jav...               0.0   \n",
       "2  [{\"key\":\"java-sonar-way-04122\",\"language\":\"jav...               0.0   \n",
       "3  [{\"key\":\"java-sonar-way-04122\",\"language\":\"jav...               0.0   \n",
       "4  [{\"key\":\"java-sonar-way-04122\",\"language\":\"jav...               0.0   \n",
       "\n",
       "  vulnerabilities  reliabilityRemediationEffort  reliabilityRating  \\\n",
       "0               0                            85                  4   \n",
       "1               0                            85                  4   \n",
       "2               0                            85                  4   \n",
       "3               0                            85                  4   \n",
       "4               0                            85                  4   \n",
       "\n",
       "   securityRemediationEffort  securityRating  wontFixIssues  \\\n",
       "0                          0               1              0   \n",
       "1                          0               1              0   \n",
       "2                          0               1              0   \n",
       "3                          0               1              0   \n",
       "4                          0               1              0   \n",
       "\n",
       "   packageDependencyCycles  \n",
       "0                        0  \n",
       "1                        0  \n",
       "2                        0  \n",
       "3                        0  \n",
       "4                        0  \n",
       "\n",
       "[5 rows x 61 columns]"
      ]
     },
     "execution_count": 3,
     "metadata": {},
     "output_type": "execute_result"
    }
   ],
   "source": [
    "df.head()"
   ]
  },
  {
   "cell_type": "code",
   "execution_count": 4,
   "metadata": {
    "colab": {
     "base_uri": "https://localhost:8080/",
     "height": 33
    },
    "executionInfo": {
     "elapsed": 5754,
     "status": "ok",
     "timestamp": 1601904912126,
     "user": {
      "displayName": "Sonia Rabanaque Rodriguez",
      "photoUrl": "",
      "userId": "11465044831239167480"
     },
     "user_tz": -120
    },
    "id": "mLCVo41iBxJD",
    "outputId": "6718e44a-0a87-4336-e9fa-633532ef8479"
   },
   "outputs": [
    {
     "data": {
      "text/plain": [
       "(55629, 61)"
      ]
     },
     "execution_count": 4,
     "metadata": {},
     "output_type": "execute_result"
    }
   ],
   "source": [
    "df.shape"
   ]
  },
  {
   "cell_type": "markdown",
   "metadata": {
    "id": "bh49sMJ9ZyTV"
   },
   "source": [
    "We create a function that tells us basic information of each attribute. Therefore, given an attribute of the table, we look its type, the number of unique values it has, the number of missing values, and a description (that is, the maximum and minimum values, and the quartiles)."
   ]
  },
  {
   "cell_type": "code",
   "execution_count": 5,
   "metadata": {
    "id": "7PwKnu2OZlg-"
   },
   "outputs": [],
   "source": [
    "def description(attributeName):\n",
    "  print('Type: ', df[attributeName].dtype)\n",
    "  print('Unique values: ', (df[attributeName].unique()).shape[0])\n",
    "  print('NaN values: ', df[attributeName].isnull().sum())\n",
    "  print('Description: ', df[attributeName].describe())"
   ]
  },
  {
   "cell_type": "markdown",
   "metadata": {
    "id": "bq94FKHzZ1ng"
   },
   "source": [
    "Next, for each attribute, we obtain the data mentioned above and we plot their distribution.\n",
    "\n",
    "In some cases, we do not plot anything because there are lots of unique values of which we are not interested in the distribution, as they are categorical values."
   ]
  },
  {
   "cell_type": "markdown",
   "metadata": {
    "id": "9P6mC9CzEH6d"
   },
   "source": [
    "#### commitHash"
   ]
  },
  {
   "cell_type": "code",
   "execution_count": 6,
   "metadata": {
    "colab": {
     "base_uri": "https://localhost:8080/",
     "height": 150
    },
    "executionInfo": {
     "elapsed": 5729,
     "status": "ok",
     "timestamp": 1601904912129,
     "user": {
      "displayName": "Sonia Rabanaque Rodriguez",
      "photoUrl": "",
      "userId": "11465044831239167480"
     },
     "user_tz": -120
    },
    "id": "tKj68REiEKP5",
    "outputId": "eaef73ba-6e7c-4f13-8119-34a3e75e8e9a"
   },
   "outputs": [
    {
     "name": "stdout",
     "output_type": "stream",
     "text": [
      "Type:  object\n",
      "Unique values:  55629\n",
      "NaN values:  0\n",
      "Description:  count                                        55629\n",
      "unique                                       55629\n",
      "top       7388ec14401571d45af94906310e136463f7dd58\n",
      "freq                                             1\n",
      "Name: commitHash, dtype: object\n"
     ]
    }
   ],
   "source": [
    "description('commitHash')"
   ]
  },
  {
   "cell_type": "markdown",
   "metadata": {
    "id": "poLrtStfEV4t"
   },
   "source": [
    "####projectID"
   ]
  },
  {
   "cell_type": "code",
   "execution_count": 7,
   "metadata": {
    "colab": {
     "base_uri": "https://localhost:8080/",
     "height": 150
    },
    "executionInfo": {
     "elapsed": 5711,
     "status": "ok",
     "timestamp": 1601904912130,
     "user": {
      "displayName": "Sonia Rabanaque Rodriguez",
      "photoUrl": "",
      "userId": "11465044831239167480"
     },
     "user_tz": -120
    },
    "id": "3rK5kPMTEcGk",
    "outputId": "09c75267-8f2a-4d67-b639-354e789b704a"
   },
   "outputs": [
    {
     "name": "stdout",
     "output_type": "stream",
     "text": [
      "Type:  object\n",
      "Unique values:  33\n",
      "NaN values:  0\n",
      "Description:  count      55629\n",
      "unique        33\n",
      "top       cocoon\n",
      "freq       10206\n",
      "Name: projectID, dtype: object\n"
     ]
    }
   ],
   "source": [
    "description('projectID')"
   ]
  },
  {
   "cell_type": "code",
   "execution_count": 8,
   "metadata": {
    "colab": {
     "base_uri": "https://localhost:8080/",
     "height": 495
    },
    "executionInfo": {
     "elapsed": 4436,
     "status": "ok",
     "timestamp": 1601904912648,
     "user": {
      "displayName": "Sonia Rabanaque Rodriguez",
      "photoUrl": "",
      "userId": "11465044831239167480"
     },
     "user_tz": -120
    },
    "id": "xRyyoUzlEsdL",
    "outputId": "9b8abc60-77d8-4f8e-b458-6265f8c1d237"
   },
   "outputs": [
    {
     "data": {
      "text/plain": [
       "(array([ 0.,  1.,  2.,  3.,  4.,  5.,  6.,  7.,  8.,  9., 10., 11., 12.,\n",
       "        13., 14., 15., 16., 17., 18., 19., 20., 21., 22., 23., 24., 25.,\n",
       "        26., 27., 28., 29., 30., 31., 32.]),\n",
       " <a list of 33 Text major ticklabel objects>)"
      ]
     },
     "execution_count": 8,
     "metadata": {},
     "output_type": "execute_result"
    },
    {
     "data": {
      "image/png": "[encoded data removed]",
      "text/plain": [
       "<Figure size 1080x360 with 1 Axes>"
      ]
     },
     "metadata": {
      "needs_background": "light"
     },
     "output_type": "display_data"
    }
   ],
   "source": [
    "x, y = np.unique(df.projectID,return_counts=True)\n",
    "\n",
    "plt.figure(figsize=(15,5))\n",
    "plt.bar(x, y, tick_label=x)\n",
    "plt.xticks(rotation='vertical')"
   ]
  },
  {
   "cell_type": "markdown",
   "metadata": {
    "id": "7jV5n2FYLdYn"
   },
   "source": [
    "####classes"
   ]
  },
  {
   "cell_type": "code",
   "execution_count": 9,
   "metadata": {
    "colab": {
     "base_uri": "https://localhost:8080/",
     "height": 217
    },
    "executionInfo": {
     "elapsed": 730,
     "status": "ok",
     "timestamp": 1601904982193,
     "user": {
      "displayName": "Sonia Rabanaque Rodriguez",
      "photoUrl": "",
      "userId": "11465044831239167480"
     },
     "user_tz": -120
    },
    "id": "EEmGkfNaLf-F",
    "outputId": "92571ab5-edf3-4142-829c-6b0195cef817"
   },
   "outputs": [
    {
     "name": "stdout",
     "output_type": "stream",
     "text": [
      "Type:  int64\n",
      "Unique values:  1981\n",
      "NaN values:  0\n",
      "Description:  count    55629.000000\n",
      "mean       854.096263\n",
      "std       1009.364586\n",
      "min          0.000000\n",
      "25%        162.000000\n",
      "50%        404.000000\n",
      "75%        970.000000\n",
      "max       4351.000000\n",
      "Name: classes, dtype: float64\n"
     ]
    }
   ],
   "source": [
    "description('classes')"
   ]
  },
  {
   "cell_type": "code",
   "execution_count": 10,
   "metadata": {
    "colab": {
     "base_uri": "https://localhost:8080/",
     "height": 337
    },
    "executionInfo": {
     "elapsed": 4740,
     "status": "ok",
     "timestamp": 1601904990956,
     "user": {
      "displayName": "Sonia Rabanaque Rodriguez",
      "photoUrl": "",
      "userId": "11465044831239167480"
     },
     "user_tz": -120
    },
    "id": "0BT9j3OteT7T",
    "outputId": "5811282a-9019-471a-a422-c8268c4daa86"
   },
   "outputs": [
    {
     "data": {
      "text/plain": [
       "<BarContainer object of 1981 artists>"
      ]
     },
     "execution_count": 10,
     "metadata": {},
     "output_type": "execute_result"
    },
    {
     "data": {
      "image/png": "[encoded data removed]",
      "text/plain": [
       "<Figure size 1080x360 with 1 Axes>"
      ]
     },
     "metadata": {
      "needs_background": "light"
     },
     "output_type": "display_data"
    }
   ],
   "source": [
    "x, y = np.unique(df['classes'],return_counts=True)\n",
    "plt.figure(figsize=(15,5))\n",
    "plt.bar(x, y)"
   ]
  },
  {
   "cell_type": "code",
   "execution_count": 11,
   "metadata": {
    "colab": {
     "base_uri": "https://localhost:8080/",
     "height": 320
    },
    "executionInfo": {
     "elapsed": 1103,
     "status": "ok",
     "timestamp": 1601905002233,
     "user": {
      "displayName": "Sonia Rabanaque Rodriguez",
      "photoUrl": "",
      "userId": "11465044831239167480"
     },
     "user_tz": -120
    },
    "id": "bnEjHsDke5qx",
    "outputId": "6f4a0668-6b8f-4ff8-a39a-82eed6bec11d"
   },
   "outputs": [
    {
     "data": {
      "image/png": "[encoded data removed]",
      "text/plain": [
       "<Figure size 1080x360 with 1 Axes>"
      ]
     },
     "metadata": {
      "needs_background": "light"
     },
     "output_type": "display_data"
    }
   ],
   "source": [
    "plt.figure(figsize=(15,5))\n",
    "a = plt.hist(df['classes'], bins=100)"
   ]
  },
  {
   "cell_type": "markdown",
   "metadata": {
    "id": "gIcsw7GjOT41"
   },
   "source": [
    "#### files"
   ]
  },
  {
   "cell_type": "code",
   "execution_count": 12,
   "metadata": {
    "colab": {
     "base_uri": "https://localhost:8080/",
     "height": 217
    },
    "executionInfo": {
     "elapsed": 532,
     "status": "ok",
     "timestamp": 1601905050199,
     "user": {
      "displayName": "Sonia Rabanaque Rodriguez",
      "photoUrl": "",
      "userId": "11465044831239167480"
     },
     "user_tz": -120
    },
    "id": "4YXzQnNuOVKA",
    "outputId": "8662a7d1-dd0d-47a9-ace1-50e8572840a2"
   },
   "outputs": [
    {
     "name": "stdout",
     "output_type": "stream",
     "text": [
      "Type:  int64\n",
      "Unique values:  1826\n",
      "NaN values:  0\n",
      "Description:  count    55629.000000\n",
      "mean       723.677758\n",
      "std        897.961615\n",
      "min          0.000000\n",
      "25%        138.000000\n",
      "50%        378.000000\n",
      "75%       1100.000000\n",
      "max       5227.000000\n",
      "Name: files, dtype: float64\n"
     ]
    }
   ],
   "source": [
    "description('files')"
   ]
  },
  {
   "cell_type": "code",
   "execution_count": 13,
   "metadata": {
    "colab": {
     "base_uri": "https://localhost:8080/",
     "height": 281
    },
    "executionInfo": {
     "elapsed": 9738,
     "status": "ok",
     "timestamp": 1601811276248,
     "user": {
      "displayName": "Sonia Rabanaque Rodriguez",
      "photoUrl": "",
      "userId": "11465044831239167480"
     },
     "user_tz": -120
    },
    "id": "3f7QI3L-Olqu",
    "outputId": "82da58b6-f341-42a3-d7f9-a1d6fb160a5d"
   },
   "outputs": [
    {
     "data": {
      "text/plain": [
       "(0.0, 227.0)"
      ]
     },
     "execution_count": 13,
     "metadata": {},
     "output_type": "execute_result"
    },
    {
     "data": {
      "image/png": "[encoded data removed]",
      "text/plain": [
       "<Figure size 432x288 with 1 Axes>"
      ]
     },
     "metadata": {
      "needs_background": "light"
     },
     "output_type": "display_data"
    }
   ],
   "source": [
    "x, y = np.unique(df.files,return_counts=True)\n",
    "plt.bar(x, y)\n",
    "plt.ylim((0,227))"
   ]
  },
  {
   "cell_type": "code",
   "execution_count": 14,
   "metadata": {
    "colab": {
     "base_uri": "https://localhost:8080/",
     "height": 324
    },
    "executionInfo": {
     "elapsed": 1299,
     "status": "ok",
     "timestamp": 1601905057979,
     "user": {
      "displayName": "Sonia Rabanaque Rodriguez",
      "photoUrl": "",
      "userId": "11465044831239167480"
     },
     "user_tz": -120
    },
    "id": "XfMq5Py1Urgp",
    "outputId": "fe1e24a1-b84d-44a1-e1d6-4261337ab136"
   },
   "outputs": [
    {
     "data": {
      "image/png": "[encoded data removed]",
      "text/plain": [
       "<Figure size 1080x360 with 1 Axes>"
      ]
     },
     "metadata": {
      "needs_background": "light"
     },
     "output_type": "display_data"
    }
   ],
   "source": [
    "plt.figure(figsize=(15,5))\n",
    "a = plt.hist(df.files, bins=100)"
   ]
  },
  {
   "cell_type": "markdown",
   "metadata": {
    "id": "3jrCnzScPHjv"
   },
   "source": [
    "#### functions"
   ]
  },
  {
   "cell_type": "code",
   "execution_count": 15,
   "metadata": {
    "colab": {
     "base_uri": "https://localhost:8080/",
     "height": 217
    },
    "executionInfo": {
     "elapsed": 763,
     "status": "ok",
     "timestamp": 1601905109422,
     "user": {
      "displayName": "Sonia Rabanaque Rodriguez",
      "photoUrl": "",
      "userId": "11465044831239167480"
     },
     "user_tz": -120
    },
    "id": "aFdMd5MDPJ-L",
    "outputId": "ad238bae-b07b-4317-c192-e85fc868ce33"
   },
   "outputs": [
    {
     "name": "stdout",
     "output_type": "stream",
     "text": [
      "Type:  int64\n",
      "Unique values:  7526\n",
      "NaN values:  0\n",
      "Description:  count    55629.000000\n",
      "mean      5814.283270\n",
      "std       6476.427272\n",
      "min          0.000000\n",
      "25%       1401.000000\n",
      "50%       2946.000000\n",
      "75%       7005.000000\n",
      "max      68425.000000\n",
      "Name: functions, dtype: float64\n"
     ]
    }
   ],
   "source": [
    "attribute = 'functions'\n",
    "\n",
    "description(attribute)"
   ]
  },
  {
   "cell_type": "code",
   "execution_count": 16,
   "metadata": {
    "colab": {
     "base_uri": "https://localhost:8080/",
     "height": 286
    },
    "executionInfo": {
     "elapsed": 24014,
     "status": "ok",
     "timestamp": 1601811290558,
     "user": {
      "displayName": "Sonia Rabanaque Rodriguez",
      "photoUrl": "",
      "userId": "11465044831239167480"
     },
     "user_tz": -120
    },
    "id": "B_r7NMneQIXP",
    "outputId": "cd520906-6540-42dc-888f-17811899e667"
   },
   "outputs": [
    {
     "data": {
      "text/plain": [
       "(0.0, 30.0)"
      ]
     },
     "execution_count": 16,
     "metadata": {},
     "output_type": "execute_result"
    },
    {
     "data": {
      "image/png": "[encoded data removed]",
      "text/plain": [
       "<Figure size 432x288 with 1 Axes>"
      ]
     },
     "metadata": {
      "needs_background": "light"
     },
     "output_type": "display_data"
    }
   ],
   "source": [
    "x, y = np.unique(df[attribute],return_counts=True)\n",
    "plt.bar(x, y)\n",
    "plt.ylim(0,30)"
   ]
  },
  {
   "cell_type": "code",
   "execution_count": 17,
   "metadata": {
    "colab": {
     "base_uri": "https://localhost:8080/",
     "height": 320
    },
    "executionInfo": {
     "elapsed": 837,
     "status": "ok",
     "timestamp": 1601905120268,
     "user": {
      "displayName": "Sonia Rabanaque Rodriguez",
      "photoUrl": "",
      "userId": "11465044831239167480"
     },
     "user_tz": -120
    },
    "id": "AckQTS_pUykB",
    "outputId": "a76ec3fc-f6b4-4f53-c487-3277be1a41e7"
   },
   "outputs": [
    {
     "data": {
      "image/png": "[encoded data removed]",
      "text/plain": [
       "<Figure size 1080x360 with 1 Axes>"
      ]
     },
     "metadata": {
      "needs_background": "light"
     },
     "output_type": "display_data"
    }
   ],
   "source": [
    "plt.figure(figsize=(15,5))\n",
    "a = plt.hist(df[attribute], bins=100)"
   ]
  },
  {
   "cell_type": "markdown",
   "metadata": {
    "id": "MmbUlSW7ROeg"
   },
   "source": [
    "#### commentLinesDensity"
   ]
  },
  {
   "cell_type": "code",
   "execution_count": 18,
   "metadata": {
    "colab": {
     "base_uri": "https://localhost:8080/",
     "height": 217
    },
    "executionInfo": {
     "elapsed": 892,
     "status": "ok",
     "timestamp": 1601905156676,
     "user": {
      "displayName": "Sonia Rabanaque Rodriguez",
      "photoUrl": "",
      "userId": "11465044831239167480"
     },
     "user_tz": -120
    },
    "id": "EhEZjkYQRSUM",
    "outputId": "ab4d982f-0ba8-47f4-c695-c8b5af93ade2"
   },
   "outputs": [
    {
     "name": "stdout",
     "output_type": "stream",
     "text": [
      "Type:  float64\n",
      "Unique values:  466\n",
      "NaN values:  0\n",
      "Description:  count    55629.000000\n",
      "mean        22.388128\n",
      "std          8.682379\n",
      "min          0.000000\n",
      "25%         16.800000\n",
      "50%         22.800000\n",
      "75%         28.000000\n",
      "max         72.200000\n",
      "Name: commentLinesDensity, dtype: float64\n"
     ]
    }
   ],
   "source": [
    "attribute = 'commentLinesDensity'\n",
    "\n",
    "description(attribute)"
   ]
  },
  {
   "cell_type": "code",
   "execution_count": 19,
   "metadata": {
    "colab": {
     "base_uri": "https://localhost:8080/",
     "height": 337
    },
    "executionInfo": {
     "elapsed": 1809,
     "status": "ok",
     "timestamp": 1601905163298,
     "user": {
      "displayName": "Sonia Rabanaque Rodriguez",
      "photoUrl": "",
      "userId": "11465044831239167480"
     },
     "user_tz": -120
    },
    "id": "pe2_FuLxSa9q",
    "outputId": "31bbf45d-f40f-436d-e9e1-d7e40ee2c63f"
   },
   "outputs": [
    {
     "data": {
      "text/plain": [
       "<BarContainer object of 466 artists>"
      ]
     },
     "execution_count": 19,
     "metadata": {},
     "output_type": "execute_result"
    },
    {
     "data": {
      "image/png": "[encoded data removed]",
      "text/plain": [
       "<Figure size 1080x360 with 1 Axes>"
      ]
     },
     "metadata": {
      "needs_background": "light"
     },
     "output_type": "display_data"
    }
   ],
   "source": [
    "x, y = np.unique(df[attribute],return_counts=True)\n",
    "plt.figure(figsize=(15,5))\n",
    "plt.bar(x, y)"
   ]
  },
  {
   "cell_type": "markdown",
   "metadata": {
    "id": "7-OxbzOQSg6w"
   },
   "source": [
    "#### complexity"
   ]
  },
  {
   "cell_type": "code",
   "execution_count": 20,
   "metadata": {
    "colab": {
     "base_uri": "https://localhost:8080/",
     "height": 217
    },
    "executionInfo": {
     "elapsed": 1312,
     "status": "ok",
     "timestamp": 1601905201213,
     "user": {
      "displayName": "Sonia Rabanaque Rodriguez",
      "photoUrl": "",
      "userId": "11465044831239167480"
     },
     "user_tz": -120
    },
    "id": "fyjLOlktSjZM",
    "outputId": "86dd9b61-cffe-406d-fbb3-616aa4c70d6a"
   },
   "outputs": [
    {
     "name": "stdout",
     "output_type": "stream",
     "text": [
      "Type:  int64\n",
      "Unique values:  11131\n",
      "NaN values:  0\n",
      "Description:  count     55629.000000\n",
      "mean      12112.140179\n",
      "std       15175.782233\n",
      "min           0.000000\n",
      "25%        2522.000000\n",
      "50%        5302.000000\n",
      "75%       14080.000000\n",
      "max      139214.000000\n",
      "Name: complexity, dtype: float64\n"
     ]
    }
   ],
   "source": [
    "attribute = 'complexity'\n",
    "\n",
    "description(attribute)"
   ]
  },
  {
   "cell_type": "code",
   "execution_count": 21,
   "metadata": {
    "colab": {
     "base_uri": "https://localhost:8080/",
     "height": 286
    },
    "executionInfo": {
     "elapsed": 47534,
     "status": "ok",
     "timestamp": 1601811314127,
     "user": {
      "displayName": "Sonia Rabanaque Rodriguez",
      "photoUrl": "",
      "userId": "11465044831239167480"
     },
     "user_tz": -120
    },
    "id": "X_QFHxcDTF7H",
    "outputId": "a16f49d8-6c6a-4473-dc15-b4256a052ac3"
   },
   "outputs": [
    {
     "data": {
      "text/plain": [
       "(0.0, 100.0)"
      ]
     },
     "execution_count": 21,
     "metadata": {},
     "output_type": "execute_result"
    },
    {
     "data": {
      "image/png": "[encoded data removed]",
      "text/plain": [
       "<Figure size 432x288 with 1 Axes>"
      ]
     },
     "metadata": {
      "needs_background": "light"
     },
     "output_type": "display_data"
    }
   ],
   "source": [
    "x, y = np.unique(df[attribute],return_counts=True)\n",
    "plt.bar(x, y)\n",
    "plt.ylim(0,100)"
   ]
  },
  {
   "cell_type": "code",
   "execution_count": 22,
   "metadata": {
    "colab": {
     "base_uri": "https://localhost:8080/",
     "height": 320
    },
    "executionInfo": {
     "elapsed": 1519,
     "status": "ok",
     "timestamp": 1601905207738,
     "user": {
      "displayName": "Sonia Rabanaque Rodriguez",
      "photoUrl": "",
      "userId": "11465044831239167480"
     },
     "user_tz": -120
    },
    "id": "0eStK5gQTa5s",
    "outputId": "38b0a293-425e-4c8d-f6ab-59baf9c74458"
   },
   "outputs": [
    {
     "data": {
      "image/png": "[encoded data removed]",
      "text/plain": [
       "<Figure size 1080x360 with 1 Axes>"
      ]
     },
     "metadata": {
      "needs_background": "light"
     },
     "output_type": "display_data"
    }
   ],
   "source": [
    "plt.figure(figsize=(15,5))\n",
    "a = plt.hist(df[attribute], bins=100)"
   ]
  },
  {
   "cell_type": "markdown",
   "metadata": {
    "id": "rVyVUIvuVOD4"
   },
   "source": [
    "#### fileComplexity"
   ]
  },
  {
   "cell_type": "code",
   "execution_count": 23,
   "metadata": {
    "colab": {
     "base_uri": "https://localhost:8080/",
     "height": 537
    },
    "executionInfo": {
     "elapsed": 2377,
     "status": "ok",
     "timestamp": 1601905247067,
     "user": {
      "displayName": "Sonia Rabanaque Rodriguez",
      "photoUrl": "",
      "userId": "11465044831239167480"
     },
     "user_tz": -120
    },
    "id": "_jj7b6DjVRIe",
    "outputId": "b70d736b-88e1-4ec2-e00c-84d9dcc5bff8"
   },
   "outputs": [
    {
     "name": "stdout",
     "output_type": "stream",
     "text": [
      "Type:  float64\n",
      "Unique values:  477\n",
      "NaN values:  0\n",
      "Description:  count    55629.000000\n",
      "mean        18.202132\n",
      "std          9.324140\n",
      "min          0.000000\n",
      "25%         13.100000\n",
      "50%         15.700000\n",
      "75%         19.500000\n",
      "max         67.700000\n",
      "Name: fileComplexity, dtype: float64\n"
     ]
    },
    {
     "data": {
      "text/plain": [
       "<BarContainer object of 477 artists>"
      ]
     },
     "execution_count": 23,
     "metadata": {},
     "output_type": "execute_result"
    },
    {
     "data": {
      "image/png": "[encoded data removed]",
      "text/plain": [
       "<Figure size 1080x360 with 1 Axes>"
      ]
     },
     "metadata": {
      "needs_background": "light"
     },
     "output_type": "display_data"
    }
   ],
   "source": [
    "attribute = 'fileComplexity'\n",
    "\n",
    "description(attribute)\n",
    "\n",
    "x, y = np.unique(df[attribute],return_counts=True)\n",
    "plt.figure(figsize=(15,5))\n",
    "plt.bar(x, y)"
   ]
  },
  {
   "cell_type": "markdown",
   "metadata": {
    "id": "jaOqxaaBbQl1"
   },
   "source": [
    "#### classComplexity"
   ]
  },
  {
   "cell_type": "code",
   "execution_count": 24,
   "metadata": {
    "colab": {
     "base_uri": "https://localhost:8080/",
     "height": 537
    },
    "executionInfo": {
     "elapsed": 1795,
     "status": "ok",
     "timestamp": 1601905284670,
     "user": {
      "displayName": "Sonia Rabanaque Rodriguez",
      "photoUrl": "",
      "userId": "11465044831239167480"
     },
     "user_tz": -120
    },
    "id": "3L1i-HyrbPfU",
    "outputId": "540faf83-9ecd-4354-cb5b-a00eed46be2e"
   },
   "outputs": [
    {
     "name": "stdout",
     "output_type": "stream",
     "text": [
      "Type:  float64\n",
      "Unique values:  351\n",
      "NaN values:  0\n",
      "Description:  count    55629.000000\n",
      "mean        14.180902\n",
      "std          4.827118\n",
      "min          0.000000\n",
      "25%         11.500000\n",
      "50%         13.500000\n",
      "75%         15.700000\n",
      "max         67.700000\n",
      "Name: classComplexity, dtype: float64\n"
     ]
    },
    {
     "data": {
      "text/plain": [
       "<BarContainer object of 351 artists>"
      ]
     },
     "execution_count": 24,
     "metadata": {},
     "output_type": "execute_result"
    },
    {
     "data": {
      "image/png": "[encoded data removed]",
      "text/plain": [
       "<Figure size 1080x360 with 1 Axes>"
      ]
     },
     "metadata": {
      "needs_background": "light"
     },
     "output_type": "display_data"
    }
   ],
   "source": [
    "attribute = 'classComplexity'\n",
    "\n",
    "description(attribute)\n",
    "\n",
    "x, y = np.unique(df[attribute],return_counts=True)\n",
    "plt.figure(figsize=(15,5))\n",
    "plt.bar(x, y)"
   ]
  },
  {
   "cell_type": "markdown",
   "metadata": {
    "id": "N2KQxlsicNY6"
   },
   "source": [
    "#### functionComplexity"
   ]
  },
  {
   "cell_type": "code",
   "execution_count": 25,
   "metadata": {
    "colab": {
     "base_uri": "https://localhost:8080/",
     "height": 537
    },
    "executionInfo": {
     "elapsed": 1415,
     "status": "ok",
     "timestamp": 1601905327028,
     "user": {
      "displayName": "Sonia Rabanaque Rodriguez",
      "photoUrl": "",
      "userId": "11465044831239167480"
     },
     "user_tz": -120
    },
    "id": "YDIXP10VcQqS",
    "outputId": "8fa88c4f-d0d7-4cf3-9259-0ed4e757048d"
   },
   "outputs": [
    {
     "name": "stdout",
     "output_type": "stream",
     "text": [
      "Type:  float64\n",
      "Unique values:  41\n",
      "NaN values:  0\n",
      "Description:  count    55629.000000\n",
      "mean         1.856487\n",
      "std          0.449558\n",
      "min          0.000000\n",
      "25%          1.600000\n",
      "50%          1.800000\n",
      "75%          2.100000\n",
      "max          4.300000\n",
      "Name: functionComplexity, dtype: float64\n"
     ]
    },
    {
     "data": {
      "text/plain": [
       "<BarContainer object of 41 artists>"
      ]
     },
     "execution_count": 25,
     "metadata": {},
     "output_type": "execute_result"
    },
    {
     "data": {
      "image/png": "[encoded data removed]",
      "text/plain": [
       "<Figure size 1080x360 with 1 Axes>"
      ]
     },
     "metadata": {
      "needs_background": "light"
     },
     "output_type": "display_data"
    }
   ],
   "source": [
    "attribute = 'functionComplexity'\n",
    "description(attribute)\n",
    "\n",
    "x, y = np.unique(df[attribute],return_counts=True)\n",
    "plt.figure(figsize=(15,5))\n",
    "plt.bar(x, y)"
   ]
  },
  {
   "cell_type": "markdown",
   "metadata": {
    "id": "Mrccn83xcxuH"
   },
   "source": [
    "#### duplicatedLinesDensity"
   ]
  },
  {
   "cell_type": "code",
   "execution_count": 26,
   "metadata": {
    "colab": {
     "base_uri": "https://localhost:8080/",
     "height": 537
    },
    "executionInfo": {
     "elapsed": 2998,
     "status": "ok",
     "timestamp": 1601905367696,
     "user": {
      "displayName": "Sonia Rabanaque Rodriguez",
      "photoUrl": "",
      "userId": "11465044831239167480"
     },
     "user_tz": -120
    },
    "id": "cuH6oj2idAoM",
    "outputId": "a84be18f-98a5-4b55-b5c8-559374238ad5"
   },
   "outputs": [
    {
     "name": "stdout",
     "output_type": "stream",
     "text": [
      "Type:  float64\n",
      "Unique values:  762\n",
      "NaN values:  0\n",
      "Description:  count    55629.000000\n",
      "mean        13.945690\n",
      "std         16.011979\n",
      "min          0.000000\n",
      "25%          4.800000\n",
      "50%          7.400000\n",
      "75%         16.200000\n",
      "max         81.100000\n",
      "Name: duplicatedLinesDensity, dtype: float64\n"
     ]
    },
    {
     "data": {
      "text/plain": [
       "<BarContainer object of 762 artists>"
      ]
     },
     "execution_count": 26,
     "metadata": {},
     "output_type": "execute_result"
    },
    {
     "data": {
      "image/png": "[encoded data removed]",
      "text/plain": [
       "<Figure size 1080x360 with 1 Axes>"
      ]
     },
     "metadata": {
      "needs_background": "light"
     },
     "output_type": "display_data"
    }
   ],
   "source": [
    "attribute = 'duplicatedLinesDensity'\n",
    "description(attribute)\n",
    "\n",
    "x, y = np.unique(df[attribute],return_counts=True)\n",
    "plt.figure(figsize=(15,5))\n",
    "plt.bar(x, y)"
   ]
  },
  {
   "cell_type": "markdown",
   "metadata": {
    "id": "PqXTbjFida9X"
   },
   "source": [
    "#### violations"
   ]
  },
  {
   "cell_type": "code",
   "execution_count": 27,
   "metadata": {
    "colab": {
     "base_uri": "https://localhost:8080/",
     "height": 521
    },
    "executionInfo": {
     "elapsed": 1244,
     "status": "ok",
     "timestamp": 1601905414224,
     "user": {
      "displayName": "Sonia Rabanaque Rodriguez",
      "photoUrl": "",
      "userId": "11465044831239167480"
     },
     "user_tz": -120
    },
    "id": "uweZ0VkVdj55",
    "outputId": "f79db0c0-6b5e-4415-a594-aafb73a636cc"
   },
   "outputs": [
    {
     "name": "stdout",
     "output_type": "stream",
     "text": [
      "Type:  int64\n",
      "Unique values:  7909\n",
      "NaN values:  0\n",
      "Description:  count    55629.000000\n",
      "mean      5440.302198\n",
      "std       6642.833830\n",
      "min          0.000000\n",
      "25%       1197.000000\n",
      "50%       2291.000000\n",
      "75%       9358.000000\n",
      "max      48093.000000\n",
      "Name: violations, dtype: float64\n"
     ]
    },
    {
     "data": {
      "image/png": "[encoded data removed]",
      "text/plain": [
       "<Figure size 1080x360 with 1 Axes>"
      ]
     },
     "metadata": {
      "needs_background": "light"
     },
     "output_type": "display_data"
    }
   ],
   "source": [
    "attribute = 'violations'\n",
    "description(attribute)\n",
    "plt.figure(figsize=(15,5))\n",
    "a = plt.hist(df[attribute], bins=100)"
   ]
  },
  {
   "cell_type": "markdown",
   "metadata": {
    "id": "1EtpZzyKfM23"
   },
   "source": [
    "#### blockerViolations"
   ]
  },
  {
   "cell_type": "code",
   "execution_count": 28,
   "metadata": {
    "colab": {
     "base_uri": "https://localhost:8080/",
     "height": 521
    },
    "executionInfo": {
     "elapsed": 967,
     "status": "ok",
     "timestamp": 1601905446876,
     "user": {
      "displayName": "Sonia Rabanaque Rodriguez",
      "photoUrl": "",
      "userId": "11465044831239167480"
     },
     "user_tz": -120
    },
    "id": "66IXCT5pfRLT",
    "outputId": "789d5a26-112b-4eda-9063-11b9f8debc1c"
   },
   "outputs": [
    {
     "name": "stdout",
     "output_type": "stream",
     "text": [
      "Type:  int64\n",
      "Unique values:  134\n",
      "NaN values:  0\n",
      "Description:  count    55629.000000\n",
      "mean        27.425030\n",
      "std         53.010832\n",
      "min          0.000000\n",
      "25%          2.000000\n",
      "50%          8.000000\n",
      "75%         38.000000\n",
      "max        419.000000\n",
      "Name: blockerViolations, dtype: float64\n"
     ]
    },
    {
     "data": {
      "image/png": "[encoded data removed]",
      "text/plain": [
       "<Figure size 1080x360 with 1 Axes>"
      ]
     },
     "metadata": {
      "needs_background": "light"
     },
     "output_type": "display_data"
    }
   ],
   "source": [
    "attribute = 'blockerViolations'\n",
    "description(attribute)\n",
    "\n",
    "plt.figure(figsize=(15,5))\n",
    "a = plt.hist(df[attribute], bins=100)"
   ]
  },
  {
   "cell_type": "markdown",
   "metadata": {
    "id": "DCi912dKfuVu"
   },
   "source": [
    "#### criticalViolations"
   ]
  },
  {
   "cell_type": "code",
   "execution_count": 29,
   "metadata": {
    "colab": {
     "base_uri": "https://localhost:8080/",
     "height": 521
    },
    "executionInfo": {
     "elapsed": 1379,
     "status": "ok",
     "timestamp": 1601905480639,
     "user": {
      "displayName": "Sonia Rabanaque Rodriguez",
      "photoUrl": "",
      "userId": "11465044831239167480"
     },
     "user_tz": -120
    },
    "id": "eiL0dqOGfyF7",
    "outputId": "5fb55a4a-4f23-4bfc-9813-f662d603d766"
   },
   "outputs": [
    {
     "name": "stdout",
     "output_type": "stream",
     "text": [
      "Type:  int64\n",
      "Unique values:  1045\n",
      "NaN values:  0\n",
      "Description:  count    55629.000000\n",
      "mean       373.338097\n",
      "std        355.199801\n",
      "min          0.000000\n",
      "25%         85.000000\n",
      "50%        240.000000\n",
      "75%        626.000000\n",
      "max       1305.000000\n",
      "Name: criticalViolations, dtype: float64\n"
     ]
    },
    {
     "data": {
      "image/png": "[encoded data removed]",
      "text/plain": [
       "<Figure size 1080x360 with 1 Axes>"
      ]
     },
     "metadata": {
      "needs_background": "light"
     },
     "output_type": "display_data"
    }
   ],
   "source": [
    "attribute = 'criticalViolations'\n",
    "description(attribute)\n",
    "\n",
    "plt.figure(figsize=(15,5))\n",
    "a = plt.hist(df[attribute], bins=100)"
   ]
  },
  {
   "cell_type": "markdown",
   "metadata": {
    "id": "zbUFS0SegKlj"
   },
   "source": [
    "#### infoViolations"
   ]
  },
  {
   "cell_type": "code",
   "execution_count": 30,
   "metadata": {
    "colab": {
     "base_uri": "https://localhost:8080/",
     "height": 521
    },
    "executionInfo": {
     "elapsed": 1264,
     "status": "ok",
     "timestamp": 1601905512698,
     "user": {
      "displayName": "Sonia Rabanaque Rodriguez",
      "photoUrl": "",
      "userId": "11465044831239167480"
     },
     "user_tz": -120
    },
    "id": "3Cl4GXU7gNef",
    "outputId": "6c5dfe2b-d3b1-48ca-8c6f-eecab4a098c1"
   },
   "outputs": [
    {
     "name": "stdout",
     "output_type": "stream",
     "text": [
      "Type:  int64\n",
      "Unique values:  429\n",
      "NaN values:  0\n",
      "Description:  count    55629.000000\n",
      "mean       100.752054\n",
      "std        124.804854\n",
      "min          0.000000\n",
      "25%         13.000000\n",
      "50%         45.000000\n",
      "75%        164.000000\n",
      "max       2351.000000\n",
      "Name: infoViolations, dtype: float64\n"
     ]
    },
    {
     "data": {
      "image/png": "[encoded data removed]",
      "text/plain": [
       "<Figure size 1080x360 with 1 Axes>"
      ]
     },
     "metadata": {
      "needs_background": "light"
     },
     "output_type": "display_data"
    }
   ],
   "source": [
    "attribute = 'infoViolations'\n",
    "description(attribute)\n",
    "\n",
    "plt.figure(figsize=(15,5))\n",
    "a = plt.hist(df[attribute], bins=100)"
   ]
  },
  {
   "cell_type": "markdown",
   "metadata": {
    "id": "PYP7WxDVgkd4"
   },
   "source": [
    "#### codeSmells"
   ]
  },
  {
   "cell_type": "code",
   "execution_count": 31,
   "metadata": {
    "colab": {
     "base_uri": "https://localhost:8080/",
     "height": 521
    },
    "executionInfo": {
     "elapsed": 1359,
     "status": "ok",
     "timestamp": 1601905544828,
     "user": {
      "displayName": "Sonia Rabanaque Rodriguez",
      "photoUrl": "",
      "userId": "11465044831239167480"
     },
     "user_tz": -120
    },
    "id": "g0WYNEizgoK4",
    "outputId": "ca368acf-9ba4-4196-c479-0ab3c8e1306a"
   },
   "outputs": [
    {
     "name": "stdout",
     "output_type": "stream",
     "text": [
      "Type:  int64\n",
      "Unique values:  7739\n",
      "NaN values:  0\n",
      "Description:  count    55629.000000\n",
      "mean      5235.007442\n",
      "std       6368.548284\n",
      "min          0.000000\n",
      "25%       1168.000000\n",
      "50%       2163.000000\n",
      "75%       9018.000000\n",
      "max      45538.000000\n",
      "Name: codeSmells, dtype: float64\n"
     ]
    },
    {
     "data": {
      "image/png": "[encoded data removed]",
      "text/plain": [
       "<Figure size 1080x360 with 1 Axes>"
      ]
     },
     "metadata": {
      "needs_background": "light"
     },
     "output_type": "display_data"
    }
   ],
   "source": [
    "attribute = 'codeSmells'\n",
    "description(attribute)\n",
    "\n",
    "plt.figure(figsize=(15,5))\n",
    "a = plt.hist(df[attribute], bins=100)"
   ]
  },
  {
   "cell_type": "markdown",
   "metadata": {
    "id": "w0C7K8kLg9PR"
   },
   "source": [
    "#### bugs"
   ]
  },
  {
   "cell_type": "code",
   "execution_count": 32,
   "metadata": {
    "colab": {
     "base_uri": "https://localhost:8080/",
     "height": 521
    },
    "executionInfo": {
     "elapsed": 1347,
     "status": "ok",
     "timestamp": 1601905576415,
     "user": {
      "displayName": "Sonia Rabanaque Rodriguez",
      "photoUrl": "",
      "userId": "11465044831239167480"
     },
     "user_tz": -120
    },
    "id": "zxHatEXZg_WN",
    "outputId": "041d22c0-79fb-4e26-8360-10a01b5b5a7b"
   },
   "outputs": [
    {
     "name": "stdout",
     "output_type": "stream",
     "text": [
      "Type:  int64\n",
      "Unique values:  329\n",
      "NaN values:  0\n",
      "Description:  count    55629.000000\n",
      "mean        74.626670\n",
      "std        113.049746\n",
      "min          0.000000\n",
      "25%          6.000000\n",
      "50%         19.000000\n",
      "75%        112.000000\n",
      "max       1505.000000\n",
      "Name: bugs, dtype: float64\n"
     ]
    },
    {
     "data": {
      "image/png": "[encoded data removed]",
      "text/plain": [
       "<Figure size 1080x360 with 1 Axes>"
      ]
     },
     "metadata": {
      "needs_background": "light"
     },
     "output_type": "display_data"
    }
   ],
   "source": [
    "attribute = 'bugs'\n",
    "description(attribute)\n",
    "\n",
    "plt.figure(figsize=(15,5))\n",
    "a = plt.hist(df[attribute], bins=100)"
   ]
  },
  {
   "cell_type": "markdown",
   "metadata": {
    "id": "3ri4bhzMhPW7"
   },
   "source": [
    "#### cognitiveComplexity"
   ]
  },
  {
   "cell_type": "code",
   "execution_count": 33,
   "metadata": {
    "colab": {
     "base_uri": "https://localhost:8080/",
     "height": 521
    },
    "executionInfo": {
     "elapsed": 1380,
     "status": "ok",
     "timestamp": 1601905612866,
     "user": {
      "displayName": "Sonia Rabanaque Rodriguez",
      "photoUrl": "",
      "userId": "11465044831239167480"
     },
     "user_tz": -120
    },
    "id": "utD0NenshTAA",
    "outputId": "25c0608a-6852-4ac0-fac0-dabd6940200d"
   },
   "outputs": [
    {
     "name": "stdout",
     "output_type": "stream",
     "text": [
      "Type:  int64\n",
      "Unique values:  8940\n",
      "NaN values:  0\n",
      "Description:  count    55629.000000\n",
      "mean     10675.911090\n",
      "std      13987.061542\n",
      "min          0.000000\n",
      "25%       1648.000000\n",
      "50%       3669.000000\n",
      "75%      13930.000000\n",
      "max      58086.000000\n",
      "Name: cognitiveComplexity, dtype: float64\n"
     ]
    },
    {
     "data": {
      "image/png": "[encoded data removed]",
      "text/plain": [
       "<Figure size 1080x360 with 1 Axes>"
      ]
     },
     "metadata": {
      "needs_background": "light"
     },
     "output_type": "display_data"
    }
   ],
   "source": [
    "attribute = 'cognitiveComplexity'\n",
    "description(attribute)\n",
    "\n",
    "plt.figure(figsize=(15,5))\n",
    "a = plt.hist(df[attribute], bins=100)"
   ]
  },
  {
   "cell_type": "markdown",
   "metadata": {
    "id": "OvwZ6krkhmpk"
   },
   "source": [
    "#### ncloc"
   ]
  },
  {
   "cell_type": "code",
   "execution_count": 34,
   "metadata": {
    "colab": {
     "base_uri": "https://localhost:8080/",
     "height": 521
    },
    "executionInfo": {
     "elapsed": 1856,
     "status": "ok",
     "timestamp": 1601905646686,
     "user": {
      "displayName": "Sonia Rabanaque Rodriguez",
      "photoUrl": "",
      "userId": "11465044831239167480"
     },
     "user_tz": -120
    },
    "id": "Do8W_W6Tho1G",
    "outputId": "94a6c61f-7c77-406a-d3cb-9928b45da163"
   },
   "outputs": [
    {
     "name": "stdout",
     "output_type": "stream",
     "text": [
      "Type:  int64\n",
      "Unique values:  21647\n",
      "NaN values:  0\n",
      "Description:  count     55629.000000\n",
      "mean      76194.267379\n",
      "std       93894.704021\n",
      "min           0.000000\n",
      "25%       15289.000000\n",
      "50%       32935.000000\n",
      "75%       99563.000000\n",
      "max      771688.000000\n",
      "Name: ncloc, dtype: float64\n"
     ]
    },
    {
     "data": {
      "image/png": "[encoded data removed]",
      "text/plain": [
       "<Figure size 1080x360 with 1 Axes>"
      ]
     },
     "metadata": {
      "needs_background": "light"
     },
     "output_type": "display_data"
    }
   ],
   "source": [
    "attribute = 'ncloc'\n",
    "description(attribute)\n",
    "\n",
    "plt.figure(figsize=(15,5))\n",
    "a = plt.hist(df[attribute], bins=100)"
   ]
  },
  {
   "cell_type": "markdown",
   "metadata": {
    "id": "va11_DB_h29j"
   },
   "source": [
    "#### majorViolations"
   ]
  },
  {
   "cell_type": "code",
   "execution_count": 35,
   "metadata": {
    "colab": {
     "base_uri": "https://localhost:8080/",
     "height": 521
    },
    "executionInfo": {
     "elapsed": 1666,
     "status": "ok",
     "timestamp": 1601905681534,
     "user": {
      "displayName": "Sonia Rabanaque Rodriguez",
      "photoUrl": "",
      "userId": "11465044831239167480"
     },
     "user_tz": -120
    },
    "id": "HLs1dOQlh6E_",
    "outputId": "91d7b999-3d31-4fe3-af3f-972edcb5e362"
   },
   "outputs": [
    {
     "name": "stdout",
     "output_type": "stream",
     "text": [
      "Type:  int64\n",
      "Unique values:  4777\n",
      "NaN values:  0\n",
      "Description:  count    55629.000000\n",
      "mean      2375.444157\n",
      "std       2700.680993\n",
      "min          0.000000\n",
      "25%        498.000000\n",
      "50%       1050.000000\n",
      "75%       3188.000000\n",
      "max      24772.000000\n",
      "Name: majorViolations, dtype: float64\n"
     ]
    },
    {
     "data": {
      "image/png": "[encoded data removed]",
      "text/plain": [
       "<Figure size 1080x360 with 1 Axes>"
      ]
     },
     "metadata": {
      "needs_background": "light"
     },
     "output_type": "display_data"
    }
   ],
   "source": [
    "attribute = 'majorViolations'\n",
    "description(attribute)\n",
    "\n",
    "plt.figure(figsize=(15,5))\n",
    "a = plt.hist(df[attribute], bins=100)"
   ]
  },
  {
   "cell_type": "markdown",
   "metadata": {
    "id": "QHgfXoNbiK4J"
   },
   "source": [
    "#### minorViolations"
   ]
  },
  {
   "cell_type": "code",
   "execution_count": 36,
   "metadata": {
    "colab": {
     "base_uri": "https://localhost:8080/",
     "height": 521
    },
    "executionInfo": {
     "elapsed": 1255,
     "status": "ok",
     "timestamp": 1601905714885,
     "user": {
      "displayName": "Sonia Rabanaque Rodriguez",
      "photoUrl": "",
      "userId": "11465044831239167480"
     },
     "user_tz": -120
    },
    "id": "n0fkbkTniNYX",
    "outputId": "c9f08e88-1d0b-42c3-afc9-3d0655d2305f"
   },
   "outputs": [
    {
     "name": "stdout",
     "output_type": "stream",
     "text": [
      "Type:  int64\n",
      "Unique values:  4402\n",
      "NaN values:  0\n",
      "Description:  count    55629.000000\n",
      "mean      2563.342861\n",
      "std       3778.729807\n",
      "min          0.000000\n",
      "25%        397.000000\n",
      "50%        899.000000\n",
      "75%       4050.000000\n",
      "max      21509.000000\n",
      "Name: minorViolations, dtype: float64\n"
     ]
    },
    {
     "data": {
      "image/png": "[encoded data removed]",
      "text/plain": [
       "<Figure size 1080x360 with 1 Axes>"
      ]
     },
     "metadata": {
      "needs_background": "light"
     },
     "output_type": "display_data"
    }
   ],
   "source": [
    "attribute = 'minorViolations'\n",
    "description(attribute)\n",
    "\n",
    "plt.figure(figsize=(15,5))\n",
    "a = plt.hist(df[attribute], bins=100)"
   ]
  },
  {
   "cell_type": "markdown",
   "metadata": {
    "id": "2QX7kqplihHQ"
   },
   "source": [
    "#### sqaleRating"
   ]
  },
  {
   "cell_type": "code",
   "execution_count": 37,
   "metadata": {
    "colab": {
     "base_uri": "https://localhost:8080/",
     "height": 537
    },
    "executionInfo": {
     "elapsed": 649,
     "status": "ok",
     "timestamp": 1601905753917,
     "user": {
      "displayName": "Sonia Rabanaque Rodriguez",
      "photoUrl": "",
      "userId": "11465044831239167480"
     },
     "user_tz": -120
    },
    "id": "4UQ1iN14ik2y",
    "outputId": "60ab83ef-9ee1-4590-dbd8-2d590837efd4"
   },
   "outputs": [
    {
     "name": "stdout",
     "output_type": "stream",
     "text": [
      "Type:  int64\n",
      "Unique values:  2\n",
      "NaN values:  0\n",
      "Description:  count    55629.000000\n",
      "mean         1.116109\n",
      "std          0.320358\n",
      "min          1.000000\n",
      "25%          1.000000\n",
      "50%          1.000000\n",
      "75%          1.000000\n",
      "max          2.000000\n",
      "Name: sqaleRating, dtype: float64\n"
     ]
    },
    {
     "data": {
      "text/plain": [
       "<BarContainer object of 5 artists>"
      ]
     },
     "execution_count": 37,
     "metadata": {},
     "output_type": "execute_result"
    },
    {
     "data": {
      "image/png": "[encoded data removed]",
      "text/plain": [
       "<Figure size 1080x360 with 1 Axes>"
      ]
     },
     "metadata": {
      "needs_background": "light"
     },
     "output_type": "display_data"
    }
   ],
   "source": [
    "attribute = 'sqaleRating'\n",
    "description(attribute)\n",
    "\n",
    "x, y = np.unique(df[attribute],return_counts=True)\n",
    "x = np.append(x,[3,4,5])\n",
    "y = np.append(y,[0,0,0])\n",
    "plt.figure(figsize=(15,5))\n",
    "plt.bar(x, y, tick_label=x)"
   ]
  },
  {
   "cell_type": "markdown",
   "metadata": {
    "id": "0QSGeDVejdOv"
   },
   "source": [
    "#### sqaleIndex"
   ]
  },
  {
   "cell_type": "code",
   "execution_count": 38,
   "metadata": {
    "colab": {
     "base_uri": "https://localhost:8080/",
     "height": 521
    },
    "executionInfo": {
     "elapsed": 1305,
     "status": "ok",
     "timestamp": 1601905785156,
     "user": {
      "displayName": "Sonia Rabanaque Rodriguez",
      "photoUrl": "",
      "userId": "11465044831239167480"
     },
     "user_tz": -120
    },
    "id": "u_06nRIFjgM7",
    "outputId": "4b5b2689-a116-491b-f60a-17071d9f3c82"
   },
   "outputs": [
    {
     "name": "stdout",
     "output_type": "stream",
     "text": [
      "Type:  int64\n",
      "Unique values:  17146\n",
      "NaN values:  0\n",
      "Description:  count     55629.000000\n",
      "mean      70457.971885\n",
      "std       74763.242279\n",
      "min           0.000000\n",
      "25%       17048.000000\n",
      "50%       38072.000000\n",
      "75%      102302.000000\n",
      "max      669813.000000\n",
      "Name: sqaleIndex, dtype: float64\n"
     ]
    },
    {
     "data": {
      "image/png": "[encoded data removed]",
      "text/plain": [
       "<Figure size 1080x360 with 1 Axes>"
      ]
     },
     "metadata": {
      "needs_background": "light"
     },
     "output_type": "display_data"
    }
   ],
   "source": [
    "attribute = 'sqaleIndex'\n",
    "description(attribute)\n",
    "\n",
    "plt.figure(figsize=(15,5))\n",
    "a = plt.hist(df[attribute], bins=100)"
   ]
  },
  {
   "cell_type": "markdown",
   "metadata": {
    "id": "qCYZsibhj_79"
   },
   "source": [
    "#### sqaleDebtRatio"
   ]
  },
  {
   "cell_type": "code",
   "execution_count": 39,
   "metadata": {
    "colab": {
     "base_uri": "https://localhost:8080/",
     "height": 537
    },
    "executionInfo": {
     "elapsed": 1151,
     "status": "ok",
     "timestamp": 1601905799283,
     "user": {
      "displayName": "Sonia Rabanaque Rodriguez",
      "photoUrl": "",
      "userId": "11465044831239167480"
     },
     "user_tz": -120
    },
    "id": "zJ9FZmIKkDNm",
    "outputId": "6782687e-5cde-4713-f615-9b7350c42c2a"
   },
   "outputs": [
    {
     "name": "stdout",
     "output_type": "stream",
     "text": [
      "Type:  float64\n",
      "Unique values:  77\n",
      "NaN values:  0\n",
      "Description:  count    55629.000000\n",
      "mean         3.683147\n",
      "std          1.211611\n",
      "min          0.000000\n",
      "25%          2.900000\n",
      "50%          3.500000\n",
      "75%          4.200000\n",
      "max          9.000000\n",
      "Name: sqaleDebtRatio, dtype: float64\n"
     ]
    },
    {
     "data": {
      "text/plain": [
       "<BarContainer object of 77 artists>"
      ]
     },
     "execution_count": 39,
     "metadata": {},
     "output_type": "execute_result"
    },
    {
     "data": {
      "image/png": "[encoded data removed]",
      "text/plain": [
       "<Figure size 1080x360 with 1 Axes>"
      ]
     },
     "metadata": {
      "needs_background": "light"
     },
     "output_type": "display_data"
    }
   ],
   "source": [
    "attribute = 'sqaleDebtRatio'\n",
    "description(attribute)\n",
    "\n",
    "x, y = np.unique(df[attribute],return_counts=True)\n",
    "plt.figure(figsize=(15,5))\n",
    "plt.bar(x, y)"
   ]
  },
  {
   "cell_type": "markdown",
   "metadata": {
    "id": "MnFVtJAZkflo"
   },
   "source": [
    "#### vulnerabilities"
   ]
  },
  {
   "cell_type": "code",
   "execution_count": 40,
   "metadata": {
    "colab": {
     "base_uri": "https://localhost:8080/",
     "height": 521
    },
    "executionInfo": {
     "elapsed": 1695,
     "status": "ok",
     "timestamp": 1601905813334,
     "user": {
      "displayName": "Sonia Rabanaque Rodriguez",
      "photoUrl": "",
      "userId": "11465044831239167480"
     },
     "user_tz": -120
    },
    "id": "N_pdXjMKkitu",
    "outputId": "ff301113-a1f7-4b19-8786-a53dade71822"
   },
   "outputs": [
    {
     "name": "stdout",
     "output_type": "stream",
     "text": [
      "Type:  int64\n",
      "Unique values:  419\n",
      "NaN values:  0\n",
      "Description:  count    55629.000000\n",
      "mean       130.668087\n",
      "std        201.152429\n",
      "min          0.000000\n",
      "25%          9.000000\n",
      "50%         34.000000\n",
      "75%        168.000000\n",
      "max       1050.000000\n",
      "Name: vulnerabilities, dtype: float64\n"
     ]
    },
    {
     "data": {
      "image/png": "[encoded data removed]",
      "text/plain": [
       "<Figure size 1080x360 with 1 Axes>"
      ]
     },
     "metadata": {
      "needs_background": "light"
     },
     "output_type": "display_data"
    }
   ],
   "source": [
    "attribute = 'vulnerabilities'\n",
    "description(attribute)\n",
    "\n",
    "plt.figure(figsize=(15,5))\n",
    "a = plt.hist(df[attribute], bins=100)"
   ]
  },
  {
   "cell_type": "markdown",
   "metadata": {
    "id": "y80F79c_k6tb"
   },
   "source": [
    "#### reliabilityRemediationEffort"
   ]
  },
  {
   "cell_type": "code",
   "execution_count": 41,
   "metadata": {
    "colab": {
     "base_uri": "https://localhost:8080/",
     "height": 521
    },
    "executionInfo": {
     "elapsed": 1693,
     "status": "ok",
     "timestamp": 1601905826549,
     "user": {
      "displayName": "Sonia Rabanaque Rodriguez",
      "photoUrl": "",
      "userId": "11465044831239167480"
     },
     "user_tz": -120
    },
    "id": "ffQQLKn_k-ys",
    "outputId": "38c56a96-04f7-4f44-d064-c54407f9b84d"
   },
   "outputs": [
    {
     "name": "stdout",
     "output_type": "stream",
     "text": [
      "Type:  int64\n",
      "Unique values:  756\n",
      "NaN values:  0\n",
      "Description:  count    55629.000000\n",
      "mean       800.194233\n",
      "std       1277.461688\n",
      "min          0.000000\n",
      "25%         65.000000\n",
      "50%        255.000000\n",
      "75%       1095.000000\n",
      "max      17343.000000\n",
      "Name: reliabilityRemediationEffort, dtype: float64\n"
     ]
    },
    {
     "data": {
      "image/png": "[encoded data removed]",
      "text/plain": [
       "<Figure size 1080x360 with 1 Axes>"
      ]
     },
     "metadata": {
      "needs_background": "light"
     },
     "output_type": "display_data"
    }
   ],
   "source": [
    "attribute = 'reliabilityRemediationEffort'\n",
    "description(attribute)\n",
    "\n",
    "plt.figure(figsize=(15,5))\n",
    "a = plt.hist(df[attribute], bins=100)"
   ]
  },
  {
   "cell_type": "markdown",
   "metadata": {
    "id": "IXPYvz1YlZ-4"
   },
   "source": [
    "#### reliabilityRating"
   ]
  },
  {
   "cell_type": "code",
   "execution_count": 42,
   "metadata": {
    "colab": {
     "base_uri": "https://localhost:8080/",
     "height": 540
    },
    "executionInfo": {
     "elapsed": 1229,
     "status": "ok",
     "timestamp": 1601905839955,
     "user": {
      "displayName": "Sonia Rabanaque Rodriguez",
      "photoUrl": "",
      "userId": "11465044831239167480"
     },
     "user_tz": -120
    },
    "id": "ztBcmVWGldyD",
    "outputId": "218d011a-e80d-4d30-ae2b-c2788f87fab7"
   },
   "outputs": [
    {
     "name": "stdout",
     "output_type": "stream",
     "text": [
      "Type:  int64\n",
      "Unique values:  4\n",
      "NaN values:  0\n",
      "Description:  count    55629.000000\n",
      "mean         4.286703\n",
      "std          1.029744\n",
      "min          1.000000\n",
      "25%          4.000000\n",
      "50%          5.000000\n",
      "75%          5.000000\n",
      "max          5.000000\n",
      "Name: reliabilityRating, dtype: float64\n"
     ]
    },
    {
     "data": {
      "text/plain": [
       "<BarContainer object of 4 artists>"
      ]
     },
     "execution_count": 42,
     "metadata": {},
     "output_type": "execute_result"
    },
    {
     "data": {
      "image/png": "[encoded data removed]",
      "text/plain": [
       "<Figure size 1080x360 with 1 Axes>"
      ]
     },
     "metadata": {
      "needs_background": "light"
     },
     "output_type": "display_data"
    }
   ],
   "source": [
    "attribute = 'reliabilityRating'\n",
    "description(attribute)\n",
    "\n",
    "x, y = np.unique(df[attribute],return_counts=True)\n",
    "plt.figure(figsize=(15,5))\n",
    "plt.bar(x, y, tick_label=x)"
   ]
  },
  {
   "cell_type": "markdown",
   "metadata": {
    "id": "OLkaBH2fl7vl"
   },
   "source": [
    "#### securityRemediationEffort"
   ]
  },
  {
   "cell_type": "code",
   "execution_count": 43,
   "metadata": {
    "colab": {
     "base_uri": "https://localhost:8080/",
     "height": 521
    },
    "executionInfo": {
     "elapsed": 1598,
     "status": "ok",
     "timestamp": 1601905853793,
     "user": {
      "displayName": "Sonia Rabanaque Rodriguez",
      "photoUrl": "",
      "userId": "11465044831239167480"
     },
     "user_tz": -120
    },
    "id": "W5xAWaICl_7k",
    "outputId": "1fbfd3e1-1a71-464c-8eea-5448a7e6b0e2"
   },
   "outputs": [
    {
     "name": "stdout",
     "output_type": "stream",
     "text": [
      "Type:  int64\n",
      "Unique values:  690\n",
      "NaN values:  0\n",
      "Description:  count    55629.000000\n",
      "mean      1852.660213\n",
      "std       2743.306816\n",
      "min          0.000000\n",
      "25%        115.000000\n",
      "50%        460.000000\n",
      "75%       2410.000000\n",
      "max      14615.000000\n",
      "Name: securityRemediationEffort, dtype: float64\n"
     ]
    },
    {
     "data": {
      "image/png": "[encoded data removed]",
      "text/plain": [
       "<Figure size 1080x360 with 1 Axes>"
      ]
     },
     "metadata": {
      "needs_background": "light"
     },
     "output_type": "display_data"
    }
   ],
   "source": [
    "attribute = 'securityRemediationEffort'\n",
    "description(attribute)\n",
    "\n",
    "plt.figure(figsize=(15,5))\n",
    "a = plt.hist(df[attribute], bins=100)"
   ]
  },
  {
   "cell_type": "markdown",
   "metadata": {
    "id": "mSDo7limmbfc"
   },
   "source": [
    "#### securityRating"
   ]
  },
  {
   "cell_type": "code",
   "execution_count": 44,
   "metadata": {
    "colab": {
     "base_uri": "https://localhost:8080/",
     "height": 537
    },
    "executionInfo": {
     "elapsed": 799,
     "status": "ok",
     "timestamp": 1601905882195,
     "user": {
      "displayName": "Sonia Rabanaque Rodriguez",
      "photoUrl": "",
      "userId": "11465044831239167480"
     },
     "user_tz": -120
    },
    "id": "eCUEDm0fmgOj",
    "outputId": "e7944827-4df2-4920-9037-9367d881c7d4"
   },
   "outputs": [
    {
     "name": "stdout",
     "output_type": "stream",
     "text": [
      "Type:  int64\n",
      "Unique values:  3\n",
      "NaN values:  0\n",
      "Description:  count    55629.000000\n",
      "mean         3.708210\n",
      "std          0.854329\n",
      "min          1.000000\n",
      "25%          4.000000\n",
      "50%          4.000000\n",
      "75%          4.000000\n",
      "max          4.000000\n",
      "Name: securityRating, dtype: float64\n"
     ]
    },
    {
     "data": {
      "text/plain": [
       "<BarContainer object of 4 artists>"
      ]
     },
     "execution_count": 44,
     "metadata": {},
     "output_type": "execute_result"
    },
    {
     "data": {
      "image/png": "[encoded data removed]",
      "text/plain": [
       "<Figure size 1080x360 with 1 Axes>"
      ]
     },
     "metadata": {
      "needs_background": "light"
     },
     "output_type": "display_data"
    }
   ],
   "source": [
    "attribute = 'securityRating'\n",
    "description(attribute)\n",
    "\n",
    "x, y = np.unique(df[attribute],return_counts=True)\n",
    "x = np.append(x,5)\n",
    "y = np.append(y,0)\n",
    "plt.figure(figsize=(15,5))\n",
    "plt.bar(x, y, tick_label=x)"
   ]
  }
 ],
 "metadata": {
  "colab": {
   "authorship_tag": "ABX9TyPF8c2NqAXQQq+LsO2yM0xb",
   "collapsed_sections": [],
   "mount_file_id": "1YsBzYEUBVus7IYuvVjs7m1-2joJBsSw1",
   "name": "sonar_measures.ipynb",
   "provenance": []
  },
  "kernelspec": {
   "display_name": "Python 3",
   "language": "python",
   "name": "python3"
  },
  "language_info": {
   "codemirror_mode": {
    "name": "ipython",
    "version": 3
   },
   "file_extension": ".py",
   "mimetype": "text/x-python",
   "name": "python",
   "nbconvert_exporter": "python",
   "pygments_lexer": "ipython3",
   "version": "3.8.3"
  }
 },
 "nbformat": 4,
 "nbformat_minor": 1
}
