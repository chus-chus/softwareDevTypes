{
 "cells": [
  {
   "cell_type": "markdown",
   "metadata": {
    "id": "4teipyVPu-k5"
   },
   "source": [
    "# **GIT_COMMITS**\n",
    "\n",
    "This notebook the description of the table `GIT_COMMITS`.\n",
    "\n",
    "First, we import the libraries we need and, then, we read the corresponding csv."
   ]
  },
  {
   "cell_type": "code",
   "execution_count": 1,
   "metadata": {
    "colab": {
     "base_uri": "https://localhost:8080/",
     "height": 34
    },
    "executionInfo": {
     "elapsed": 1422,
     "status": "ok",
     "timestamp": 1601918373560,
     "user": {
      "displayName": "Laia Albors Zumel",
      "photoUrl": "",
      "userId": "07110507271504138336"
     },
     "user_tz": -120
    },
    "id": "OnngbWtspZFm",
    "outputId": "35dfb1aa-085c-49b3-fcb9-70242714149e"
   },
   "outputs": [
    {
     "data": {
      "text/plain": [
       "(140687, 13)"
      ]
     },
     "execution_count": 1,
     "metadata": {},
     "output_type": "execute_result"
    }
   ],
   "source": [
    "import pandas as pd\n",
    "import matplotlib.pyplot as plt\n",
    "\n",
    "gitCommits = pd.read_csv(\"../../data/raw/GIT_COMMITS.csv\")\n",
    "gitCommits.shape"
   ]
  },
  {
   "cell_type": "markdown",
   "metadata": {
    "id": "t2w8wEOhWxle"
   },
   "source": [
    "We show the first rows of the table to get an idea of its content.\n"
   ]
  },
  {
   "cell_type": "code",
   "execution_count": 2,
   "metadata": {
    "colab": {
     "base_uri": "https://localhost:8080/",
     "height": 462
    },
    "executionInfo": {
     "elapsed": 965,
     "status": "ok",
     "timestamp": 1601918376367,
     "user": {
      "displayName": "Laia Albors Zumel",
      "photoUrl": "",
      "userId": "07110507271504138336"
     },
     "user_tz": -120
    },
    "id": "_T5Tqy3zqLp_",
    "outputId": "ec6b205c-b581-4305-911e-3b36b6bcd5b4"
   },
   "outputs": [
    {
     "data": {
      "text/html": [
       "<div>\n",
       "<style scoped>\n",
       "    .dataframe tbody tr th:only-of-type {\n",
       "        vertical-align: middle;\n",
       "    }\n",
       "\n",
       "    .dataframe tbody tr th {\n",
       "        vertical-align: top;\n",
       "    }\n",
       "\n",
       "    .dataframe thead th {\n",
       "        text-align: right;\n",
       "    }\n",
       "</style>\n",
       "<table border=\"1\" class=\"dataframe\">\n",
       "  <thead>\n",
       "    <tr style=\"text-align: right;\">\n",
       "      <th></th>\n",
       "      <th>projectID</th>\n",
       "      <th>commitHash</th>\n",
       "      <th>commitMessage</th>\n",
       "      <th>author</th>\n",
       "      <th>authorDate</th>\n",
       "      <th>authorTimezone</th>\n",
       "      <th>committer</th>\n",
       "      <th>committerDate</th>\n",
       "      <th>committerTimezone</th>\n",
       "      <th>branches</th>\n",
       "      <th>inMainBranch</th>\n",
       "      <th>merge</th>\n",
       "      <th>parents</th>\n",
       "    </tr>\n",
       "  </thead>\n",
       "  <tbody>\n",
       "    <tr>\n",
       "      <th>0</th>\n",
       "      <td>accumulo</td>\n",
       "      <td>e0880e263e4bf8662ba3848405200473a25dfc9f</td>\n",
       "      <td>ACCUMULO-1 initial checkin of source code\\r\\n\\...</td>\n",
       "      <td>Keith Turner</td>\n",
       "      <td>2011-10-04T00:46:07Z</td>\n",
       "      <td>0</td>\n",
       "      <td>Keith Turner</td>\n",
       "      <td>2011-10-04T00:46:07Z</td>\n",
       "      <td>0</td>\n",
       "      <td>['master']</td>\n",
       "      <td>True</td>\n",
       "      <td>False</td>\n",
       "      <td>[]</td>\n",
       "    </tr>\n",
       "    <tr>\n",
       "      <th>1</th>\n",
       "      <td>accumulo</td>\n",
       "      <td>e8774c5ec3a35e042f320540b5f7e66ebd2d9e87</td>\n",
       "      <td>ACCUMULO-2 moved cloudtrace for TRUNK, fixed p...</td>\n",
       "      <td>Billie Rinaldi</td>\n",
       "      <td>2011-10-04T16:57:13Z</td>\n",
       "      <td>0</td>\n",
       "      <td>Billie Rinaldi</td>\n",
       "      <td>2011-10-04T16:57:13Z</td>\n",
       "      <td>0</td>\n",
       "      <td>['master']</td>\n",
       "      <td>True</td>\n",
       "      <td>False</td>\n",
       "      <td>['e0880e263e4bf8662ba3848405200473a25dfc9f']</td>\n",
       "    </tr>\n",
       "    <tr>\n",
       "      <th>2</th>\n",
       "      <td>accumulo</td>\n",
       "      <td>2032ebbd0ed90734da39ca238bbd10dee24d0030</td>\n",
       "      <td>ACCUMULO-2 fixed thrift build script to point ...</td>\n",
       "      <td>Keith Turner</td>\n",
       "      <td>2011-10-04T18:39:18Z</td>\n",
       "      <td>0</td>\n",
       "      <td>Keith Turner</td>\n",
       "      <td>2011-10-04T18:39:18Z</td>\n",
       "      <td>0</td>\n",
       "      <td>['master']</td>\n",
       "      <td>True</td>\n",
       "      <td>False</td>\n",
       "      <td>['e8774c5ec3a35e042f320540b5f7e66ebd2d9e87']</td>\n",
       "    </tr>\n",
       "    <tr>\n",
       "      <th>3</th>\n",
       "      <td>accumulo</td>\n",
       "      <td>de297d4932e08625a5df146f0802041bb5aeb892</td>\n",
       "      <td>ACCUMULO-2 reverted change to config.html\\r\\n\\...</td>\n",
       "      <td>Billie Rinaldi</td>\n",
       "      <td>2011-10-04T19:31:01Z</td>\n",
       "      <td>0</td>\n",
       "      <td>Billie Rinaldi</td>\n",
       "      <td>2011-10-04T19:31:01Z</td>\n",
       "      <td>0</td>\n",
       "      <td>['master']</td>\n",
       "      <td>True</td>\n",
       "      <td>False</td>\n",
       "      <td>['2032ebbd0ed90734da39ca238bbd10dee24d0030']</td>\n",
       "    </tr>\n",
       "    <tr>\n",
       "      <th>4</th>\n",
       "      <td>accumulo</td>\n",
       "      <td>34efaae87639a83b60fdb7274de4b45051025a3a</td>\n",
       "      <td>ACCUMULO-2 fixed cloudtrace references in cont...</td>\n",
       "      <td>Billie Rinaldi</td>\n",
       "      <td>2011-10-05T17:19:06Z</td>\n",
       "      <td>0</td>\n",
       "      <td>Billie Rinaldi</td>\n",
       "      <td>2011-10-05T17:19:06Z</td>\n",
       "      <td>0</td>\n",
       "      <td>['master']</td>\n",
       "      <td>True</td>\n",
       "      <td>False</td>\n",
       "      <td>['de297d4932e08625a5df146f0802041bb5aeb892']</td>\n",
       "    </tr>\n",
       "  </tbody>\n",
       "</table>\n",
       "</div>"
      ],
      "text/plain": [
       "  projectID                                commitHash  \\\n",
       "0  accumulo  e0880e263e4bf8662ba3848405200473a25dfc9f   \n",
       "1  accumulo  e8774c5ec3a35e042f320540b5f7e66ebd2d9e87   \n",
       "2  accumulo  2032ebbd0ed90734da39ca238bbd10dee24d0030   \n",
       "3  accumulo  de297d4932e08625a5df146f0802041bb5aeb892   \n",
       "4  accumulo  34efaae87639a83b60fdb7274de4b45051025a3a   \n",
       "\n",
       "                                       commitMessage          author  \\\n",
       "0  ACCUMULO-1 initial checkin of source code\\r\\n\\...    Keith Turner   \n",
       "1  ACCUMULO-2 moved cloudtrace for TRUNK, fixed p...  Billie Rinaldi   \n",
       "2  ACCUMULO-2 fixed thrift build script to point ...    Keith Turner   \n",
       "3  ACCUMULO-2 reverted change to config.html\\r\\n\\...  Billie Rinaldi   \n",
       "4  ACCUMULO-2 fixed cloudtrace references in cont...  Billie Rinaldi   \n",
       "\n",
       "             authorDate  authorTimezone       committer         committerDate  \\\n",
       "0  2011-10-04T00:46:07Z               0    Keith Turner  2011-10-04T00:46:07Z   \n",
       "1  2011-10-04T16:57:13Z               0  Billie Rinaldi  2011-10-04T16:57:13Z   \n",
       "2  2011-10-04T18:39:18Z               0    Keith Turner  2011-10-04T18:39:18Z   \n",
       "3  2011-10-04T19:31:01Z               0  Billie Rinaldi  2011-10-04T19:31:01Z   \n",
       "4  2011-10-05T17:19:06Z               0  Billie Rinaldi  2011-10-05T17:19:06Z   \n",
       "\n",
       "   committerTimezone    branches  inMainBranch  merge  \\\n",
       "0                  0  ['master']          True  False   \n",
       "1                  0  ['master']          True  False   \n",
       "2                  0  ['master']          True  False   \n",
       "3                  0  ['master']          True  False   \n",
       "4                  0  ['master']          True  False   \n",
       "\n",
       "                                        parents  \n",
       "0                                            []  \n",
       "1  ['e0880e263e4bf8662ba3848405200473a25dfc9f']  \n",
       "2  ['e8774c5ec3a35e042f320540b5f7e66ebd2d9e87']  \n",
       "3  ['2032ebbd0ed90734da39ca238bbd10dee24d0030']  \n",
       "4  ['de297d4932e08625a5df146f0802041bb5aeb892']  "
      ]
     },
     "execution_count": 2,
     "metadata": {},
     "output_type": "execute_result"
    }
   ],
   "source": [
    "gitCommits.loc[0:4]"
   ]
  },
  {
   "cell_type": "markdown",
   "metadata": {
    "id": "f2TMj8kPW8hZ"
   },
   "source": [
    "Next, for each attribute, we obtain some information.\n",
    "\n",
    "In some cases, we do not plot anything because there are lots of unique values of which we are not interested in the distribution, as they are categorical values."
   ]
  },
  {
   "cell_type": "markdown",
   "metadata": {
    "id": "zgQRpRlwqiZe"
   },
   "source": [
    "## projectID"
   ]
  },
  {
   "cell_type": "code",
   "execution_count": 3,
   "metadata": {
    "colab": {
     "base_uri": "https://localhost:8080/",
     "height": 170
    },
    "executionInfo": {
     "elapsed": 780,
     "status": "ok",
     "timestamp": 1601918389245,
     "user": {
      "displayName": "Laia Albors Zumel",
      "photoUrl": "",
      "userId": "07110507271504138336"
     },
     "user_tz": -120
    },
    "id": "TBEqjS5LqOLt",
    "outputId": "4ce5f4f1-da65-4e54-9f9d-c2aff1f04729"
   },
   "outputs": [
    {
     "data": {
      "text/plain": [
       "array(['accumulo', 'ambari', 'atlas', 'aurora', 'batik', 'beam', 'cocoon',\n",
       "       'commons-bcel', 'commons-beanutils', 'commons-cli',\n",
       "       'commons-codec', 'commons-collections', 'commons-configuration',\n",
       "       'commons-daemon', 'commons-dbcp', 'commons-dbutils',\n",
       "       'commons-digester', 'commons-exec', 'commons-fileupload',\n",
       "       'commons-io', 'commons-jelly', 'commons-jexl', 'commons-jxpath',\n",
       "       'commons-net', 'commons-ognl', 'commons-validator', 'commons-vfs',\n",
       "       'felix', 'httpcomponents-client', 'httpcomponents-core',\n",
       "       'mina-sshd', 'santuario', 'zookeeper'], dtype=object)"
      ]
     },
     "execution_count": 3,
     "metadata": {},
     "output_type": "execute_result"
    }
   ],
   "source": [
    "pd.unique(gitCommits[\"projectID\"])"
   ]
  },
  {
   "cell_type": "code",
   "execution_count": 4,
   "metadata": {
    "colab": {
     "base_uri": "https://localhost:8080/",
     "height": 34
    },
    "executionInfo": {
     "elapsed": 691,
     "status": "ok",
     "timestamp": 1601918393820,
     "user": {
      "displayName": "Laia Albors Zumel",
      "photoUrl": "",
      "userId": "07110507271504138336"
     },
     "user_tz": -120
    },
    "id": "KKF5CABJ4XY0",
    "outputId": "00b7c151-94ae-425d-9d86-c6cdf95eaabb"
   },
   "outputs": [
    {
     "data": {
      "text/plain": [
       "33"
      ]
     },
     "execution_count": 4,
     "metadata": {},
     "output_type": "execute_result"
    }
   ],
   "source": [
    "pd.unique(gitCommits[\"projectID\"]).size"
   ]
  },
  {
   "cell_type": "code",
   "execution_count": 5,
   "metadata": {
    "colab": {
     "base_uri": "https://localhost:8080/",
     "height": 445
    },
    "executionInfo": {
     "elapsed": 834,
     "status": "ok",
     "timestamp": 1601918396714,
     "user": {
      "displayName": "Laia Albors Zumel",
      "photoUrl": "",
      "userId": "07110507271504138336"
     },
     "user_tz": -120
    },
    "id": "l6OWdynqqp70",
    "outputId": "2c25fa84-9327-432a-808c-e5c73ef87c81"
   },
   "outputs": [
    {
     "data": {
      "text/plain": [
       "<BarContainer object of 33 artists>"
      ]
     },
     "execution_count": 5,
     "metadata": {},
     "output_type": "execute_result"
    },
    {
     "data": {
      "image/png": "[encoded data removed]",
      "text/plain": [
       "<Figure size 1080x360 with 1 Axes>"
      ]
     },
     "metadata": {
      "needs_background": "light"
     },
     "output_type": "display_data"
    }
   ],
   "source": [
    "d = {}\n",
    "for p in gitCommits[\"projectID\"]:\n",
    "  if p not in d:\n",
    "    d[p] = 0\n",
    "  d[p] += 1\n",
    "\n",
    "plt.figure(figsize=(15,5))\n",
    "plt.xticks(rotation=90)\n",
    "plt.bar(d.keys(), d.values())"
   ]
  },
  {
   "cell_type": "markdown",
   "metadata": {
    "id": "8ykEDip_qzC5"
   },
   "source": [
    "## commitHash"
   ]
  },
  {
   "cell_type": "code",
   "execution_count": 6,
   "metadata": {
    "colab": {
     "base_uri": "https://localhost:8080/",
     "height": 221
    },
    "executionInfo": {
     "elapsed": 755,
     "status": "ok",
     "timestamp": 1601918435595,
     "user": {
      "displayName": "Laia Albors Zumel",
      "photoUrl": "",
      "userId": "07110507271504138336"
     },
     "user_tz": -120
    },
    "id": "Z6XDN19Fqz5u",
    "outputId": "b1fb0998-fe15-47bc-dde0-8143cf0afa28"
   },
   "outputs": [
    {
     "data": {
      "text/plain": [
       "0         e0880e263e4bf8662ba3848405200473a25dfc9f\n",
       "1         e8774c5ec3a35e042f320540b5f7e66ebd2d9e87\n",
       "2         2032ebbd0ed90734da39ca238bbd10dee24d0030\n",
       "3         de297d4932e08625a5df146f0802041bb5aeb892\n",
       "4         34efaae87639a83b60fdb7274de4b45051025a3a\n",
       "                            ...                   \n",
       "140682    cc900a3b05bc31a237753680c8b00dc5866df4b2\n",
       "140683    1c83846615701e88749690f06993a6e77452b83c\n",
       "140684    f873dcf10e222e220732ab27cc6fc8c0ff0beec6\n",
       "140685    a6c36b69cc72d7d67e392dab5360007d6f737bef\n",
       "140686    4212f865d67b9c7860c1da071f3997b0a5b5387e\n",
       "Name: commitHash, Length: 140687, dtype: object"
      ]
     },
     "execution_count": 6,
     "metadata": {},
     "output_type": "execute_result"
    }
   ],
   "source": [
    "commitHash = gitCommits[\"commitHash\"]\n",
    "commitHash"
   ]
  },
  {
   "cell_type": "code",
   "execution_count": 7,
   "metadata": {
    "colab": {
     "base_uri": "https://localhost:8080/",
     "height": 34
    },
    "executionInfo": {
     "elapsed": 860,
     "status": "ok",
     "timestamp": 1601918436438,
     "user": {
      "displayName": "Laia Albors Zumel",
      "photoUrl": "",
      "userId": "07110507271504138336"
     },
     "user_tz": -120
    },
    "id": "UusEha2Iw4k4",
    "outputId": "c0dd13e2-4933-4700-ea25-e88673bcaa37"
   },
   "outputs": [
    {
     "data": {
      "text/plain": [
       "140687"
      ]
     },
     "execution_count": 7,
     "metadata": {},
     "output_type": "execute_result"
    }
   ],
   "source": [
    "pd.unique(commitHash).size"
   ]
  },
  {
   "cell_type": "markdown",
   "metadata": {
    "id": "K78nslSErXX-"
   },
   "source": [
    "## author"
   ]
  },
  {
   "cell_type": "code",
   "execution_count": 8,
   "metadata": {
    "colab": {
     "base_uri": "https://localhost:8080/",
     "height": 221
    },
    "executionInfo": {
     "elapsed": 901,
     "status": "ok",
     "timestamp": 1601918497269,
     "user": {
      "displayName": "Laia Albors Zumel",
      "photoUrl": "",
      "userId": "07110507271504138336"
     },
     "user_tz": -120
    },
    "id": "wmpC7cmmrYAO",
    "outputId": "0207eb33-b9ba-46e8-fe2d-34a410d74fb9"
   },
   "outputs": [
    {
     "data": {
      "text/plain": [
       "0           Keith Turner\n",
       "1         Billie Rinaldi\n",
       "2           Keith Turner\n",
       "3         Billie Rinaldi\n",
       "4         Billie Rinaldi\n",
       "               ...      \n",
       "140682       Brian Nixon\n",
       "140683    Ivan Yurchenko\n",
       "140684      Andor Molnar\n",
       "140685           maoling\n",
       "140686      Andor Molnar\n",
       "Name: author, Length: 140687, dtype: object"
      ]
     },
     "execution_count": 8,
     "metadata": {},
     "output_type": "execute_result"
    }
   ],
   "source": [
    "author = gitCommits[\"author\"]\n",
    "author"
   ]
  },
  {
   "cell_type": "code",
   "execution_count": 9,
   "metadata": {
    "colab": {
     "base_uri": "https://localhost:8080/",
     "height": 68
    },
    "executionInfo": {
     "elapsed": 825,
     "status": "ok",
     "timestamp": 1601918500853,
     "user": {
      "displayName": "Laia Albors Zumel",
      "photoUrl": "",
      "userId": "07110507271504138336"
     },
     "user_tz": -120
    },
    "id": "Ixeh3b_gxNIw",
    "outputId": "da342d76-338a-4fdf-de12-28e269fd3c38"
   },
   "outputs": [
    {
     "data": {
      "text/plain": [
       "array(['Keith Turner', 'Billie Rinaldi', 'Eric C. Newton', ...,\n",
       "       'Alexander A. Strelets', 'Vladimir Ivic', 'Ivan Yurchenko'],\n",
       "      dtype=object)"
      ]
     },
     "execution_count": 9,
     "metadata": {},
     "output_type": "execute_result"
    }
   ],
   "source": [
    "pd.unique(author)"
   ]
  },
  {
   "cell_type": "code",
   "execution_count": 10,
   "metadata": {
    "colab": {
     "base_uri": "https://localhost:8080/",
     "height": 34
    },
    "executionInfo": {
     "elapsed": 836,
     "status": "ok",
     "timestamp": 1601918504190,
     "user": {
      "displayName": "Laia Albors Zumel",
      "photoUrl": "",
      "userId": "07110507271504138336"
     },
     "user_tz": -120
    },
    "id": "jWTNUdr7xPgn",
    "outputId": "b893cce7-2762-4356-b967-29eb09b6defe"
   },
   "outputs": [
    {
     "data": {
      "text/plain": [
       "1885"
      ]
     },
     "execution_count": 10,
     "metadata": {},
     "output_type": "execute_result"
    }
   ],
   "source": [
    "pd.unique(author).size"
   ]
  },
  {
   "cell_type": "markdown",
   "metadata": {
    "id": "uC7ldfgkxVrm"
   },
   "source": [
    "Number of NaNs and no-NaNs:"
   ]
  },
  {
   "cell_type": "code",
   "execution_count": 11,
   "metadata": {
    "colab": {
     "base_uri": "https://localhost:8080/",
     "height": 34
    },
    "executionInfo": {
     "elapsed": 869,
     "status": "ok",
     "timestamp": 1601918532085,
     "user": {
      "displayName": "Laia Albors Zumel",
      "photoUrl": "",
      "userId": "07110507271504138336"
     },
     "user_tz": -120
    },
    "id": "ASClp7QhrgsE",
    "outputId": "b25f0d19-ad61-480b-f649-cf7194d4b010"
   },
   "outputs": [
    {
     "data": {
      "text/plain": [
       "34"
      ]
     },
     "execution_count": 11,
     "metadata": {},
     "output_type": "execute_result"
    }
   ],
   "source": [
    "nans = author.isna().sum()\n",
    "nans"
   ]
  },
  {
   "cell_type": "code",
   "execution_count": 12,
   "metadata": {
    "id": "eWdQtNAZrqZz"
   },
   "outputs": [],
   "source": [
    "authorNew = author[author.notnull()]\n",
    "notnans = authorNew.count()"
   ]
  },
  {
   "cell_type": "code",
   "execution_count": 13,
   "metadata": {
    "colab": {
     "base_uri": "https://localhost:8080/",
     "height": 316
    },
    "executionInfo": {
     "elapsed": 570,
     "status": "ok",
     "timestamp": 1601918563890,
     "user": {
      "displayName": "Laia Albors Zumel",
      "photoUrl": "",
      "userId": "07110507271504138336"
     },
     "user_tz": -120
    },
    "id": "VpSPhUPlrzRO",
    "outputId": "6acfccdf-b9b2-4825-a8c7-d76c2ec6cfae"
   },
   "outputs": [
    {
     "data": {
      "text/plain": [
       "([<matplotlib.patches.Wedge at 0x7fe0a40756a0>,\n",
       "  <matplotlib.patches.Wedge at 0x7fe0a4075b50>],\n",
       " [Text(1.0999996829612884, 0.0008351557130699433, 'NaN'),\n",
       "  Text(-1.099999683028482, -0.0008350672065512832, 'timestamp')])"
      ]
     },
     "execution_count": 13,
     "metadata": {},
     "output_type": "execute_result"
    },
    {
     "data": {
      "image/png": "[encoded data removed]",
      "text/plain": [
       "<Figure size 432x288 with 1 Axes>"
      ]
     },
     "metadata": {},
     "output_type": "display_data"
    }
   ],
   "source": [
    "labels = 'NaN', 'timestamp'\n",
    "plt.pie([nans, notnans], labels=labels)"
   ]
  },
  {
   "cell_type": "markdown",
   "metadata": {
    "id": "e9eajPPEsPrj"
   },
   "source": [
    "## committer"
   ]
  },
  {
   "cell_type": "code",
   "execution_count": 14,
   "metadata": {
    "colab": {
     "base_uri": "https://localhost:8080/",
     "height": 51
    },
    "executionInfo": {
     "elapsed": 880,
     "status": "ok",
     "timestamp": 1601918722963,
     "user": {
      "displayName": "Laia Albors Zumel",
      "photoUrl": "",
      "userId": "07110507271504138336"
     },
     "user_tz": -120
    },
    "id": "XHozT_gssl_e",
    "outputId": "26079b70-fba3-472d-ad27-264a04060701"
   },
   "outputs": [
    {
     "data": {
      "text/plain": [
       "array(['Keith Turner', 'Billie Rinaldi', 'Eric C. Newton', ...,\n",
       "       'Fangmin Lyu', 'Enrico Olivelli', 'Norbert Kalmar'], dtype=object)"
      ]
     },
     "execution_count": 14,
     "metadata": {},
     "output_type": "execute_result"
    }
   ],
   "source": [
    "committer = gitCommits[\"committer\"]\n",
    "pd.unique(committer)"
   ]
  },
  {
   "cell_type": "code",
   "execution_count": 15,
   "metadata": {
    "colab": {
     "base_uri": "https://localhost:8080/",
     "height": 34
    },
    "executionInfo": {
     "elapsed": 759,
     "status": "ok",
     "timestamp": 1601918730233,
     "user": {
      "displayName": "Laia Albors Zumel",
      "photoUrl": "",
      "userId": "07110507271504138336"
     },
     "user_tz": -120
    },
    "id": "dOgLucqfsQHS",
    "outputId": "8649469b-4507-44a5-c9a0-debfb8c04e5d"
   },
   "outputs": [
    {
     "data": {
      "text/plain": [
       "1017"
      ]
     },
     "execution_count": 15,
     "metadata": {},
     "output_type": "execute_result"
    }
   ],
   "source": [
    "pd.unique(gitCommits[\"committer\"]).size"
   ]
  },
  {
   "cell_type": "code",
   "execution_count": 16,
   "metadata": {
    "colab": {
     "base_uri": "https://localhost:8080/",
     "height": 34
    },
    "executionInfo": {
     "elapsed": 801,
     "status": "ok",
     "timestamp": 1601918761671,
     "user": {
      "displayName": "Laia Albors Zumel",
      "photoUrl": "",
      "userId": "07110507271504138336"
     },
     "user_tz": -120
    },
    "id": "mylpoKmbzGVX",
    "outputId": "90521464-9f72-46b3-96b1-bfaf9d1f1c93"
   },
   "outputs": [
    {
     "data": {
      "text/plain": [
       "34"
      ]
     },
     "execution_count": 16,
     "metadata": {},
     "output_type": "execute_result"
    }
   ],
   "source": [
    "nans = committer.isna().sum()\n",
    "nans"
   ]
  },
  {
   "cell_type": "markdown",
   "metadata": {
    "id": "Deo3KwtEsq1r"
   },
   "source": [
    "## committerDate"
   ]
  },
  {
   "cell_type": "code",
   "execution_count": 17,
   "metadata": {
    "colab": {
     "base_uri": "https://localhost:8080/",
     "height": 68
    },
    "executionInfo": {
     "elapsed": 943,
     "status": "ok",
     "timestamp": 1601918839773,
     "user": {
      "displayName": "Laia Albors Zumel",
      "photoUrl": "",
      "userId": "07110507271504138336"
     },
     "user_tz": -120
    },
    "id": "Rm8bKswtsrfs",
    "outputId": "e0e1e4f8-3027-4062-9f51-7c81d40d429b"
   },
   "outputs": [
    {
     "data": {
      "text/plain": [
       "array(['2011-10-04T00:46:07Z', '2011-10-04T16:57:13Z',\n",
       "       '2011-10-04T18:39:18Z', ..., '2019-07-16T09:21:14Z',\n",
       "       '2019-07-17T13:42:32Z', '2019-07-19T13:08:30Z'], dtype=object)"
      ]
     },
     "execution_count": 17,
     "metadata": {},
     "output_type": "execute_result"
    }
   ],
   "source": [
    "committerDate = gitCommits[\"committerDate\"]\n",
    "pd.unique(committerDate)"
   ]
  },
  {
   "cell_type": "code",
   "execution_count": 18,
   "metadata": {
    "colab": {
     "base_uri": "https://localhost:8080/",
     "height": 34
    },
    "executionInfo": {
     "elapsed": 1080,
     "status": "ok",
     "timestamp": 1601918864449,
     "user": {
      "displayName": "Laia Albors Zumel",
      "photoUrl": "",
      "userId": "07110507271504138336"
     },
     "user_tz": -120
    },
    "id": "5uQKQ-SNzezP",
    "outputId": "fe664d95-c859-4544-c789-08237a987191"
   },
   "outputs": [
    {
     "data": {
      "text/plain": [
       "133109"
      ]
     },
     "execution_count": 18,
     "metadata": {},
     "output_type": "execute_result"
    }
   ],
   "source": [
    "pd.unique(committerDate).size"
   ]
  },
  {
   "cell_type": "code",
   "execution_count": 19,
   "metadata": {
    "colab": {
     "base_uri": "https://localhost:8080/",
     "height": 35
    },
    "executionInfo": {
     "elapsed": 786,
     "status": "ok",
     "timestamp": 1601918914300,
     "user": {
      "displayName": "Laia Albors Zumel",
      "photoUrl": "",
      "userId": "07110507271504138336"
     },
     "user_tz": -120
    },
    "id": "JWIqcY_7zrEp",
    "outputId": "ab0b1ba2-5a34-464e-b5dd-58e19244b2e8"
   },
   "outputs": [
    {
     "data": {
      "text/plain": [
       "'2000-10-01T07:37:01Z'"
      ]
     },
     "execution_count": 19,
     "metadata": {},
     "output_type": "execute_result"
    }
   ],
   "source": [
    "min(committerDate)"
   ]
  },
  {
   "cell_type": "code",
   "execution_count": 20,
   "metadata": {
    "colab": {
     "base_uri": "https://localhost:8080/",
     "height": 35
    },
    "executionInfo": {
     "elapsed": 621,
     "status": "ok",
     "timestamp": 1601918914301,
     "user": {
      "displayName": "Laia Albors Zumel",
      "photoUrl": "",
      "userId": "07110507271504138336"
     },
     "user_tz": -120
    },
    "id": "mZOweAvhzr4f",
    "outputId": "70c54620-593b-4a54-e5ee-704920292ad8"
   },
   "outputs": [
    {
     "data": {
      "text/plain": [
       "'2019-07-19T16:02:58Z'"
      ]
     },
     "execution_count": 20,
     "metadata": {},
     "output_type": "execute_result"
    }
   ],
   "source": [
    "max(committerDate)"
   ]
  },
  {
   "cell_type": "code",
   "execution_count": 21,
   "metadata": {
    "colab": {
     "base_uri": "https://localhost:8080/",
     "height": 34
    },
    "executionInfo": {
     "elapsed": 1083,
     "status": "ok",
     "timestamp": 1601918934935,
     "user": {
      "displayName": "Laia Albors Zumel",
      "photoUrl": "",
      "userId": "07110507271504138336"
     },
     "user_tz": -120
    },
    "id": "cgdYx4PRzuYp",
    "outputId": "0c3e0f4f-1f40-40ce-eb36-138f8da93de2"
   },
   "outputs": [
    {
     "data": {
      "text/plain": [
       "20"
      ]
     },
     "execution_count": 21,
     "metadata": {},
     "output_type": "execute_result"
    }
   ],
   "source": [
    "committerDateYear = gitCommits.committerDate.str[:4]\n",
    "pd.unique(committerDateYear).size"
   ]
  },
  {
   "cell_type": "code",
   "execution_count": 22,
   "metadata": {
    "colab": {
     "base_uri": "https://localhost:8080/",
     "height": 352
    },
    "executionInfo": {
     "elapsed": 1019,
     "status": "ok",
     "timestamp": 1601918945998,
     "user": {
      "displayName": "Laia Albors Zumel",
      "photoUrl": "",
      "userId": "07110507271504138336"
     },
     "user_tz": -120
    },
    "id": "lVq6Zr-1zzj9",
    "outputId": "c22ba52c-bf74-48b7-c19c-3212a958a5b5"
   },
   "outputs": [
    {
     "data": {
      "text/plain": [
       "<BarContainer object of 20 artists>"
      ]
     },
     "execution_count": 22,
     "metadata": {},
     "output_type": "execute_result"
    },
    {
     "data": {
      "image/png": "[encoded data removed]",
      "text/plain": [
       "<Figure size 1080x360 with 1 Axes>"
      ]
     },
     "metadata": {
      "needs_background": "light"
     },
     "output_type": "display_data"
    }
   ],
   "source": [
    "d = {}\n",
    "for p in committerDateYear:\n",
    "  if p not in d:\n",
    "    d[p] = 0\n",
    "  d[p] += 1\n",
    "\n",
    "plt.figure(figsize=(15,5))\n",
    "plt.xticks(rotation=90)\n",
    "plt.bar(d.keys(), d.values())"
   ]
  },
  {
   "cell_type": "markdown",
   "metadata": {
    "id": "kXQ9A1cttCjD"
   },
   "source": [
    "## inMainBranch"
   ]
  },
  {
   "cell_type": "code",
   "execution_count": 23,
   "metadata": {
    "colab": {
     "base_uri": "https://localhost:8080/",
     "height": 34
    },
    "executionInfo": {
     "elapsed": 846,
     "status": "ok",
     "timestamp": 1601919112703,
     "user": {
      "displayName": "Laia Albors Zumel",
      "photoUrl": "",
      "userId": "07110507271504138336"
     },
     "user_tz": -120
    },
    "id": "r6rdYS22tTQB",
    "outputId": "cc3ab56f-8044-4770-d0e6-30541e9e6bdb"
   },
   "outputs": [
    {
     "data": {
      "text/plain": [
       "array([ True])"
      ]
     },
     "execution_count": 23,
     "metadata": {},
     "output_type": "execute_result"
    }
   ],
   "source": [
    "inMainBranch = gitCommits[\"inMainBranch\"]\n",
    "pd.unique(inMainBranch)"
   ]
  },
  {
   "cell_type": "code",
   "execution_count": 24,
   "metadata": {
    "colab": {
     "base_uri": "https://localhost:8080/",
     "height": 34
    },
    "executionInfo": {
     "elapsed": 1216,
     "status": "ok",
     "timestamp": 1601919285662,
     "user": {
      "displayName": "Laia Albors Zumel",
      "photoUrl": "",
      "userId": "07110507271504138336"
     },
     "user_tz": -120
    },
    "id": "usKImLtGZSED",
    "outputId": "67f9594c-5671-4269-f9c8-cf32a19c8b3c"
   },
   "outputs": [
    {
     "data": {
      "text/plain": [
       "0"
      ]
     },
     "execution_count": 24,
     "metadata": {},
     "output_type": "execute_result"
    }
   ],
   "source": [
    "nans = inMainBranch.isna().sum()\n",
    "nans"
   ]
  }
 ],
 "metadata": {
  "colab": {
   "collapsed_sections": [],
   "name": "git_commits.ipynb",
   "provenance": []
  },
  "kernelspec": {
   "display_name": "Python 3",
   "language": "python",
   "name": "python3"
  },
  "language_info": {
   "codemirror_mode": {
    "name": "ipython",
    "version": 3
   },
   "file_extension": ".py",
   "mimetype": "text/x-python",
   "name": "python",
   "nbconvert_exporter": "python",
   "pygments_lexer": "ipython3",
   "version": "3.8.3"
  }
 },
 "nbformat": 4,
 "nbformat_minor": 1
}
