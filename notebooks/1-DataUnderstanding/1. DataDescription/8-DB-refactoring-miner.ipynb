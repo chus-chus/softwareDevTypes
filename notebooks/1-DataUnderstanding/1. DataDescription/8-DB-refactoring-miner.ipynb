{
 "cells": [
  {
   "cell_type": "markdown",
   "metadata": {
    "id": "4teipyVPu-k5"
   },
   "source": [
    "# **REFACTORING_MINER**\n",
    "\n",
    "This notebook the description of the table `REFACTORING_MINER`.\n",
    "\n",
    "First, we import the libraries we need and, then, we read the corresponding csv."
   ]
  },
  {
   "cell_type": "code",
   "execution_count": 1,
   "metadata": {
    "colab": {
     "base_uri": "https://localhost:8080/",
     "height": 34
    },
    "executionInfo": {
     "elapsed": 611,
     "status": "ok",
     "timestamp": 1601919479356,
     "user": {
      "displayName": "Laia Albors Zumel",
      "photoUrl": "",
      "userId": "07110507271504138336"
     },
     "user_tz": -120
    },
    "id": "OnngbWtspZFm",
    "outputId": "e58c9eb7-1d6c-4891-8b0d-762e38a141b8"
   },
   "outputs": [
    {
     "data": {
      "text/plain": [
       "(57530, 4)"
      ]
     },
     "execution_count": 1,
     "metadata": {},
     "output_type": "execute_result"
    }
   ],
   "source": [
    "import pandas as pd\n",
    "import matplotlib.pyplot as plt\n",
    "\n",
    "refactoringMiner = pd.read_csv(\"../../data/raw/REFACTORING_MINER.csv\")\n",
    "refactoringMiner.shape"
   ]
  },
  {
   "cell_type": "markdown",
   "metadata": {
    "id": "ouIeNOnYY8Fq"
   },
   "source": [
    "We show the first rows of the table to get an idea of its content."
   ]
  },
  {
   "cell_type": "code",
   "execution_count": 2,
   "metadata": {
    "colab": {
     "base_uri": "https://localhost:8080/",
     "height": 204
    },
    "executionInfo": {
     "elapsed": 801,
     "status": "ok",
     "timestamp": 1601919485956,
     "user": {
      "displayName": "Laia Albors Zumel",
      "photoUrl": "",
      "userId": "07110507271504138336"
     },
     "user_tz": -120
    },
    "id": "_T5Tqy3zqLp_",
    "outputId": "4ddba60f-cca5-4623-e2c7-18503d040669"
   },
   "outputs": [
    {
     "data": {
      "text/html": [
       "<div>\n",
       "<style scoped>\n",
       "    .dataframe tbody tr th:only-of-type {\n",
       "        vertical-align: middle;\n",
       "    }\n",
       "\n",
       "    .dataframe tbody tr th {\n",
       "        vertical-align: top;\n",
       "    }\n",
       "\n",
       "    .dataframe thead th {\n",
       "        text-align: right;\n",
       "    }\n",
       "</style>\n",
       "<table border=\"1\" class=\"dataframe\">\n",
       "  <thead>\n",
       "    <tr style=\"text-align: right;\">\n",
       "      <th></th>\n",
       "      <th>projectID</th>\n",
       "      <th>commitHash</th>\n",
       "      <th>refactoringType</th>\n",
       "      <th>refactoringDetail</th>\n",
       "    </tr>\n",
       "  </thead>\n",
       "  <tbody>\n",
       "    <tr>\n",
       "      <th>0</th>\n",
       "      <td>accumulo</td>\n",
       "      <td>4093a3015d6b789888077e317e535df4c8102e5d</td>\n",
       "      <td>Extract Method</td>\n",
       "      <td>Extract Method\\tpublic rewriteURI(uri URI, tar...</td>\n",
       "    </tr>\n",
       "    <tr>\n",
       "      <th>1</th>\n",
       "      <td>accumulo</td>\n",
       "      <td>123bd993cff822e02242197a24f47ee36bfa3744</td>\n",
       "      <td>Extract Variable</td>\n",
       "      <td>Extract Variable\\tpath : String in method publ...</td>\n",
       "    </tr>\n",
       "    <tr>\n",
       "      <th>2</th>\n",
       "      <td>accumulo</td>\n",
       "      <td>8c04c6ae5e5ba1432e40684428338ce68431766b</td>\n",
       "      <td>Extract Variable</td>\n",
       "      <td>Extract Variable\\tpath : String in method publ...</td>\n",
       "    </tr>\n",
       "    <tr>\n",
       "      <th>3</th>\n",
       "      <td>accumulo</td>\n",
       "      <td>812f18b4534ae1eec41845a70a53adb783e77d61</td>\n",
       "      <td>Rename Variable</td>\n",
       "      <td>Rename Variable\\theader2 : Header to header : ...</td>\n",
       "    </tr>\n",
       "    <tr>\n",
       "      <th>4</th>\n",
       "      <td>accumulo</td>\n",
       "      <td>812f18b4534ae1eec41845a70a53adb783e77d61</td>\n",
       "      <td>Rename Variable</td>\n",
       "      <td>Rename Variable\\theader1 : Header to header : ...</td>\n",
       "    </tr>\n",
       "  </tbody>\n",
       "</table>\n",
       "</div>"
      ],
      "text/plain": [
       "  projectID                                commitHash   refactoringType  \\\n",
       "0  accumulo  4093a3015d6b789888077e317e535df4c8102e5d    Extract Method   \n",
       "1  accumulo  123bd993cff822e02242197a24f47ee36bfa3744  Extract Variable   \n",
       "2  accumulo  8c04c6ae5e5ba1432e40684428338ce68431766b  Extract Variable   \n",
       "3  accumulo  812f18b4534ae1eec41845a70a53adb783e77d61   Rename Variable   \n",
       "4  accumulo  812f18b4534ae1eec41845a70a53adb783e77d61   Rename Variable   \n",
       "\n",
       "                                   refactoringDetail  \n",
       "0  Extract Method\\tpublic rewriteURI(uri URI, tar...  \n",
       "1  Extract Variable\\tpath : String in method publ...  \n",
       "2  Extract Variable\\tpath : String in method publ...  \n",
       "3  Rename Variable\\theader2 : Header to header : ...  \n",
       "4  Rename Variable\\theader1 : Header to header : ...  "
      ]
     },
     "execution_count": 2,
     "metadata": {},
     "output_type": "execute_result"
    }
   ],
   "source": [
    "refactoringMiner.loc[0:4]"
   ]
  },
  {
   "cell_type": "markdown",
   "metadata": {
    "id": "869IGZ8AY_cV"
   },
   "source": [
    "Next, for each attribute, we obtain some information.\n",
    "\n",
    "In some cases, we do not plot anything because there are lots of unique values of which we are not interested in the distribution, as they are categorical values."
   ]
  },
  {
   "cell_type": "markdown",
   "metadata": {
    "id": "zgQRpRlwqiZe"
   },
   "source": [
    "## projectID"
   ]
  },
  {
   "cell_type": "code",
   "execution_count": 3,
   "metadata": {
    "colab": {
     "base_uri": "https://localhost:8080/",
     "height": 170
    },
    "executionInfo": {
     "elapsed": 638,
     "status": "ok",
     "timestamp": 1601919671790,
     "user": {
      "displayName": "Laia Albors Zumel",
      "photoUrl": "",
      "userId": "07110507271504138336"
     },
     "user_tz": -120
    },
    "id": "TBEqjS5LqOLt",
    "outputId": "29122f67-6e76-48a1-f5d0-f01e710aad0e"
   },
   "outputs": [
    {
     "data": {
      "text/plain": [
       "array(['accumulo', 'ambari', 'atlas', 'aurora', 'batik', 'beam', 'cocoon',\n",
       "       'commons-bcel', 'commons-beanutils', 'commons-cli',\n",
       "       'commons-codec', 'commons-collections', 'commons-configuration',\n",
       "       'commons-daemon', 'commons-dbcp', 'commons-dbutils',\n",
       "       'commons-digester', 'commons-exec', 'commons-fileupload',\n",
       "       'commons-io', 'commons-jelly', 'commons-jexl', 'commons-jxpath',\n",
       "       'commons-net', 'commons-ognl', 'commons-validator', 'commons-vfs',\n",
       "       'felix', 'httpcomponents-client', 'httpcomponents-core',\n",
       "       'mina-sshd', 'santuario', 'zookeeper'], dtype=object)"
      ]
     },
     "execution_count": 3,
     "metadata": {},
     "output_type": "execute_result"
    }
   ],
   "source": [
    "pd.unique(refactoringMiner[\"projectID\"])"
   ]
  },
  {
   "cell_type": "code",
   "execution_count": 4,
   "metadata": {
    "colab": {
     "base_uri": "https://localhost:8080/",
     "height": 34
    },
    "executionInfo": {
     "elapsed": 734,
     "status": "ok",
     "timestamp": 1601919672364,
     "user": {
      "displayName": "Laia Albors Zumel",
      "photoUrl": "",
      "userId": "07110507271504138336"
     },
     "user_tz": -120
    },
    "id": "KKF5CABJ4XY0",
    "outputId": "2f480dac-fdb1-4033-b232-97d145991183"
   },
   "outputs": [
    {
     "data": {
      "text/plain": [
       "33"
      ]
     },
     "execution_count": 4,
     "metadata": {},
     "output_type": "execute_result"
    }
   ],
   "source": [
    "pd.unique(refactoringMiner[\"projectID\"]).size"
   ]
  },
  {
   "cell_type": "code",
   "execution_count": 5,
   "metadata": {
    "colab": {
     "base_uri": "https://localhost:8080/",
     "height": 445
    },
    "executionInfo": {
     "elapsed": 1075,
     "status": "ok",
     "timestamp": 1601919673968,
     "user": {
      "displayName": "Laia Albors Zumel",
      "photoUrl": "",
      "userId": "07110507271504138336"
     },
     "user_tz": -120
    },
    "id": "l6OWdynqqp70",
    "outputId": "bfcb88e0-c6d4-4338-d69c-72922c4f398f"
   },
   "outputs": [
    {
     "data": {
      "text/plain": [
       "<BarContainer object of 33 artists>"
      ]
     },
     "execution_count": 5,
     "metadata": {},
     "output_type": "execute_result"
    },
    {
     "data": {
      "image/png": "[encoded data removed]",
      "text/plain": [
       "<Figure size 1080x360 with 1 Axes>"
      ]
     },
     "metadata": {
      "needs_background": "light"
     },
     "output_type": "display_data"
    }
   ],
   "source": [
    "d = {}\n",
    "for p in refactoringMiner[\"projectID\"]:\n",
    "  if p not in d:\n",
    "    d[p] = 0\n",
    "  d[p] += 1\n",
    "\n",
    "plt.figure(figsize=(15,5))\n",
    "plt.xticks(rotation=90)\n",
    "plt.bar(d.keys(), d.values())"
   ]
  },
  {
   "cell_type": "markdown",
   "metadata": {
    "id": "8ykEDip_qzC5"
   },
   "source": [
    "## commitHash"
   ]
  },
  {
   "cell_type": "code",
   "execution_count": 6,
   "metadata": {
    "colab": {
     "base_uri": "https://localhost:8080/",
     "height": 221
    },
    "executionInfo": {
     "elapsed": 720,
     "status": "ok",
     "timestamp": 1601919713700,
     "user": {
      "displayName": "Laia Albors Zumel",
      "photoUrl": "",
      "userId": "07110507271504138336"
     },
     "user_tz": -120
    },
    "id": "Z6XDN19Fqz5u",
    "outputId": "df86db56-883e-4d3f-9316-51e0406d2e9a"
   },
   "outputs": [
    {
     "data": {
      "text/plain": [
       "0        4093a3015d6b789888077e317e535df4c8102e5d\n",
       "1        123bd993cff822e02242197a24f47ee36bfa3744\n",
       "2        8c04c6ae5e5ba1432e40684428338ce68431766b\n",
       "3        812f18b4534ae1eec41845a70a53adb783e77d61\n",
       "4        812f18b4534ae1eec41845a70a53adb783e77d61\n",
       "                           ...                   \n",
       "57525    344a30792bb30430a5949fa20ae69872c42394e0\n",
       "57526    344a30792bb30430a5949fa20ae69872c42394e0\n",
       "57527    a1c481ceca909e32ec49ff9738b5355eb1c367a7\n",
       "57528    3eed1f68e7fcf50b54e67afff46c205c7762da7e\n",
       "57529    3eed1f68e7fcf50b54e67afff46c205c7762da7e\n",
       "Name: commitHash, Length: 57530, dtype: object"
      ]
     },
     "execution_count": 6,
     "metadata": {},
     "output_type": "execute_result"
    }
   ],
   "source": [
    "commitHash = refactoringMiner[\"commitHash\"]\n",
    "commitHash"
   ]
  },
  {
   "cell_type": "code",
   "execution_count": 7,
   "metadata": {
    "colab": {
     "base_uri": "https://localhost:8080/",
     "height": 34
    },
    "executionInfo": {
     "elapsed": 717,
     "status": "ok",
     "timestamp": 1601919715054,
     "user": {
      "displayName": "Laia Albors Zumel",
      "photoUrl": "",
      "userId": "07110507271504138336"
     },
     "user_tz": -120
    },
    "id": "UusEha2Iw4k4",
    "outputId": "debde048-fcec-4149-c4db-15ffe2314c09"
   },
   "outputs": [
    {
     "data": {
      "text/plain": [
       "11699"
      ]
     },
     "execution_count": 7,
     "metadata": {},
     "output_type": "execute_result"
    }
   ],
   "source": [
    "pd.unique(commitHash).size"
   ]
  },
  {
   "cell_type": "code",
   "execution_count": 8,
   "metadata": {
    "colab": {
     "base_uri": "https://localhost:8080/",
     "height": 34
    },
    "executionInfo": {
     "elapsed": 825,
     "status": "ok",
     "timestamp": 1601919757118,
     "user": {
      "displayName": "Laia Albors Zumel",
      "photoUrl": "",
      "userId": "07110507271504138336"
     },
     "user_tz": -120
    },
    "id": "nHJGqtWJ23sT",
    "outputId": "b7346bf1-06ba-433e-bba8-3097c79b5ac9"
   },
   "outputs": [
    {
     "data": {
      "text/plain": [
       "2"
      ]
     },
     "execution_count": 8,
     "metadata": {},
     "output_type": "execute_result"
    }
   ],
   "source": [
    "nans = commitHash.isna().sum()\n",
    "nans"
   ]
  },
  {
   "cell_type": "markdown",
   "metadata": {
    "id": "K78nslSErXX-"
   },
   "source": [
    "## refactoringType"
   ]
  },
  {
   "cell_type": "code",
   "execution_count": 9,
   "metadata": {
    "colab": {
     "base_uri": "https://localhost:8080/",
     "height": 204
    },
    "executionInfo": {
     "elapsed": 803,
     "status": "ok",
     "timestamp": 1601919803506,
     "user": {
      "displayName": "Laia Albors Zumel",
      "photoUrl": "",
      "userId": "07110507271504138336"
     },
     "user_tz": -120
    },
    "id": "wmpC7cmmrYAO",
    "outputId": "f4ab121a-3dc4-410a-dfc2-617e44496cb5"
   },
   "outputs": [
    {
     "data": {
      "text/plain": [
       "array(['Extract Method', 'Extract Variable', 'Rename Variable',\n",
       "       'Extract Superclass', 'Pull Up Method', 'Pull Up Attribute',\n",
       "       'Rename Method', 'Rename Attribute', 'Rename Parameter',\n",
       "       'Rename Class', 'Extract Class', 'Move Method',\n",
       "       'Extract And Move Method', 'Move Class', 'Inline Method',\n",
       "       'Move Attribute', 'Parameterize Variable', 'Extract Subclass',\n",
       "       'Push Down Method', 'Push Down Attribute', 'Move Source Folder',\n",
       "       'Inline Variable', 'Replace Variable With Attribute',\n",
       "       'Change Package', 'Move And Rename Class', 'Replace Attribute',\n",
       "       'Move And Rename Attribute', 'Extract Interface', 'Rename Package',\n",
       "       nan], dtype=object)"
      ]
     },
     "execution_count": 9,
     "metadata": {},
     "output_type": "execute_result"
    }
   ],
   "source": [
    "refactoringType = refactoringMiner[\"refactoringType\"]\n",
    "pd.unique(refactoringType)"
   ]
  },
  {
   "cell_type": "code",
   "execution_count": 10,
   "metadata": {
    "colab": {
     "base_uri": "https://localhost:8080/",
     "height": 34
    },
    "executionInfo": {
     "elapsed": 720,
     "status": "ok",
     "timestamp": 1601919810969,
     "user": {
      "displayName": "Laia Albors Zumel",
      "photoUrl": "",
      "userId": "07110507271504138336"
     },
     "user_tz": -120
    },
    "id": "Ixeh3b_gxNIw",
    "outputId": "9613bdac-bb44-4c27-ae19-b1abbe12bcf6"
   },
   "outputs": [
    {
     "data": {
      "text/plain": [
       "30"
      ]
     },
     "execution_count": 10,
     "metadata": {},
     "output_type": "execute_result"
    }
   ],
   "source": [
    "pd.unique(refactoringType).size"
   ]
  },
  {
   "cell_type": "markdown",
   "metadata": {
    "id": "uC7ldfgkxVrm"
   },
   "source": [
    "Number of NaNs and no-NaNs:"
   ]
  },
  {
   "cell_type": "code",
   "execution_count": 11,
   "metadata": {
    "colab": {
     "base_uri": "https://localhost:8080/",
     "height": 34
    },
    "executionInfo": {
     "elapsed": 914,
     "status": "ok",
     "timestamp": 1601919819609,
     "user": {
      "displayName": "Laia Albors Zumel",
      "photoUrl": "",
      "userId": "07110507271504138336"
     },
     "user_tz": -120
    },
    "id": "ASClp7QhrgsE",
    "outputId": "5a33583b-36be-4506-adbd-f9066141fced"
   },
   "outputs": [
    {
     "data": {
      "text/plain": [
       "2"
      ]
     },
     "execution_count": 11,
     "metadata": {},
     "output_type": "execute_result"
    }
   ],
   "source": [
    "nans = refactoringType.isna().sum()\n",
    "nans"
   ]
  },
  {
   "cell_type": "code",
   "execution_count": 12,
   "metadata": {
    "id": "eWdQtNAZrqZz"
   },
   "outputs": [],
   "source": [
    "refactoringTypeNew = refactoringType[refactoringType.notnull()]\n",
    "notnans = refactoringTypeNew.count()"
   ]
  },
  {
   "cell_type": "code",
   "execution_count": 13,
   "metadata": {
    "colab": {
     "base_uri": "https://localhost:8080/",
     "height": 316
    },
    "executionInfo": {
     "elapsed": 638,
     "status": "ok",
     "timestamp": 1601919874981,
     "user": {
      "displayName": "Laia Albors Zumel",
      "photoUrl": "",
      "userId": "07110507271504138336"
     },
     "user_tz": -120
    },
    "id": "VpSPhUPlrzRO",
    "outputId": "4ad13a2d-d38d-4e31-e88f-3ea9cb16f305"
   },
   "outputs": [
    {
     "data": {
      "text/plain": [
       "([<matplotlib.patches.Wedge at 0x7f99d2c6f280>,\n",
       "  <matplotlib.patches.Wedge at 0x7f99d2c6f730>],\n",
       " [Text(1.0999999934395492, 0.00012013738682269916, 'NaN'),\n",
       "  Text(-1.0999999934339006, -0.00012018909526187712, 'timestamp')])"
      ]
     },
     "execution_count": 13,
     "metadata": {},
     "output_type": "execute_result"
    },
    {
     "data": {
      "image/png": "[encoded data removed]",
      "text/plain": [
       "<Figure size 432x288 with 1 Axes>"
      ]
     },
     "metadata": {},
     "output_type": "display_data"
    }
   ],
   "source": [
    "labels = 'NaN', 'timestamp'\n",
    "plt.pie([nans, notnans], labels=labels)"
   ]
  },
  {
   "cell_type": "code",
   "execution_count": 14,
   "metadata": {
    "colab": {
     "base_uri": "https://localhost:8080/",
     "height": 483
    },
    "executionInfo": {
     "elapsed": 1414,
     "status": "ok",
     "timestamp": 1601919899232,
     "user": {
      "displayName": "Laia Albors Zumel",
      "photoUrl": "",
      "userId": "07110507271504138336"
     },
     "user_tz": -120
    },
    "id": "lVq6Zr-1zzj9",
    "outputId": "a473c472-f3db-4fd0-bd7a-9d54c1629364"
   },
   "outputs": [
    {
     "data": {
      "text/plain": [
       "<BarContainer object of 29 artists>"
      ]
     },
     "execution_count": 14,
     "metadata": {},
     "output_type": "execute_result"
    },
    {
     "data": {
      "image/png": "[encoded data removed]",
      "text/plain": [
       "<Figure size 1080x360 with 1 Axes>"
      ]
     },
     "metadata": {
      "needs_background": "light"
     },
     "output_type": "display_data"
    }
   ],
   "source": [
    "d = {}\n",
    "for p in refactoringTypeNew:\n",
    "  if p not in d:\n",
    "    d[p] = 0\n",
    "  d[p] += 1\n",
    "\n",
    "plt.figure(figsize=(15,5))\n",
    "plt.xticks(rotation=90)\n",
    "plt.bar(d.keys(), d.values())"
   ]
  }
 ],
 "metadata": {
  "colab": {
   "collapsed_sections": [],
   "name": "refactoring_miner.ipynb",
   "provenance": []
  },
  "kernelspec": {
   "display_name": "Python 3",
   "language": "python",
   "name": "python3"
  },
  "language_info": {
   "codemirror_mode": {
    "name": "ipython",
    "version": 3
   },
   "file_extension": ".py",
   "mimetype": "text/x-python",
   "name": "python",
   "nbconvert_exporter": "python",
   "pygments_lexer": "ipython3",
   "version": "3.8.3"
  }
 },
 "nbformat": 4,
 "nbformat_minor": 1
}
