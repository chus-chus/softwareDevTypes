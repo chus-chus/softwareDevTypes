{
 "cells": [
  {
   "cell_type": "markdown",
   "metadata": {
    "id": "4teipyVPu-k5"
   },
   "source": [
    "# **SONAR_ISSUES**\n",
    "\n",
    "This notebook the description of the table `SONAR_ISSUES`.\n",
    "\n",
    "First, we import the libraries we need and, then, we read the corresponding csv."
   ]
  },
  {
   "cell_type": "code",
   "execution_count": 1,
   "metadata": {
    "colab": {
     "base_uri": "https://localhost:8080/",
     "height": 34
    },
    "executionInfo": {
     "elapsed": 10358,
     "status": "ok",
     "timestamp": 1601842519774,
     "user": {
      "displayName": "Laia Albors Zumel",
      "photoUrl": "",
      "userId": "07110507271504138336"
     },
     "user_tz": -120
    },
    "id": "OnngbWtspZFm",
    "outputId": "bb11d448-ccee-4787-df66-6460d9e1e5e3"
   },
   "outputs": [
    {
     "data": {
      "text/plain": [
       "(1941508, 18)"
      ]
     },
     "execution_count": 1,
     "metadata": {},
     "output_type": "execute_result"
    }
   ],
   "source": [
    "import pandas as pd\n",
    "import matplotlib.pyplot as plt\n",
    "\n",
    "sonarIssues = pd.read_csv(\"../../data/raw/SONAR_ISSUES.csv\")\n",
    "sonarIssues.shape"
   ]
  },
  {
   "cell_type": "markdown",
   "metadata": {
    "id": "N_gvaZtqZPWG"
   },
   "source": [
    "We show the first rows of the table to get an idea of its content."
   ]
  },
  {
   "cell_type": "code",
   "execution_count": 2,
   "metadata": {
    "colab": {
     "base_uri": "https://localhost:8080/",
     "height": 649
    },
    "executionInfo": {
     "elapsed": 9745,
     "status": "ok",
     "timestamp": 1601842519775,
     "user": {
      "displayName": "Laia Albors Zumel",
      "photoUrl": "",
      "userId": "07110507271504138336"
     },
     "user_tz": -120
    },
    "id": "_T5Tqy3zqLp_",
    "outputId": "497d8179-7f13-4620-d5e4-f2e713c709d3"
   },
   "outputs": [
    {
     "data": {
      "text/html": [
       "<div>\n",
       "<style scoped>\n",
       "    .dataframe tbody tr th:only-of-type {\n",
       "        vertical-align: middle;\n",
       "    }\n",
       "\n",
       "    .dataframe tbody tr th {\n",
       "        vertical-align: top;\n",
       "    }\n",
       "\n",
       "    .dataframe thead th {\n",
       "        text-align: right;\n",
       "    }\n",
       "</style>\n",
       "<table border=\"1\" class=\"dataframe\">\n",
       "  <thead>\n",
       "    <tr style=\"text-align: right;\">\n",
       "      <th></th>\n",
       "      <th>projectID</th>\n",
       "      <th>creationDate</th>\n",
       "      <th>closeDate</th>\n",
       "      <th>creationCommitHash</th>\n",
       "      <th>closeCommitHash</th>\n",
       "      <th>type</th>\n",
       "      <th>squid</th>\n",
       "      <th>component</th>\n",
       "      <th>severity</th>\n",
       "      <th>project</th>\n",
       "      <th>startLine</th>\n",
       "      <th>endLine</th>\n",
       "      <th>resolution</th>\n",
       "      <th>status</th>\n",
       "      <th>message</th>\n",
       "      <th>effort</th>\n",
       "      <th>debt</th>\n",
       "      <th>author</th>\n",
       "    </tr>\n",
       "  </thead>\n",
       "  <tbody>\n",
       "    <tr>\n",
       "      <th>0</th>\n",
       "      <td>commons-daemon</td>\n",
       "      <td>2003-09-04T23:28:19Z</td>\n",
       "      <td>NaN</td>\n",
       "      <td>d3416d3a25b16da3d18b3849522fa96183918e5b</td>\n",
       "      <td>NaN</td>\n",
       "      <td>CODE_SMELL</td>\n",
       "      <td>squid:S00112</td>\n",
       "      <td>org.apache:daemon:src/main/java/org/apache/com...</td>\n",
       "      <td>MAJOR</td>\n",
       "      <td>org.apache:daemon</td>\n",
       "      <td>71.0</td>\n",
       "      <td>71.0</td>\n",
       "      <td>NaN</td>\n",
       "      <td>OPEN</td>\n",
       "      <td>Define and throw a dedicated exception instead...</td>\n",
       "      <td>20</td>\n",
       "      <td>20min</td>\n",
       "      <td>yoavs@apache.org</td>\n",
       "    </tr>\n",
       "    <tr>\n",
       "      <th>1</th>\n",
       "      <td>commons-daemon</td>\n",
       "      <td>2003-09-04T23:28:19Z</td>\n",
       "      <td>2010-03-15T08:09:26Z</td>\n",
       "      <td>d3416d3a25b16da3d18b3849522fa96183918e5b</td>\n",
       "      <td>6cbc872eb202dfc27f2eb59b02d953c3deca32c8</td>\n",
       "      <td>CODE_SMELL</td>\n",
       "      <td>squid:S00122</td>\n",
       "      <td>org.apache:deamon:src/java/org/apache/commons/...</td>\n",
       "      <td>MINOR</td>\n",
       "      <td>org.apache:daemon</td>\n",
       "      <td>265.0</td>\n",
       "      <td>265.0</td>\n",
       "      <td>FIXED</td>\n",
       "      <td>CLOSED</td>\n",
       "      <td>At most one statement is allowed per line, but...</td>\n",
       "      <td>1</td>\n",
       "      <td>1min</td>\n",
       "      <td>yoavs@apache.org</td>\n",
       "    </tr>\n",
       "    <tr>\n",
       "      <th>2</th>\n",
       "      <td>commons-daemon</td>\n",
       "      <td>2003-09-04T23:28:19Z</td>\n",
       "      <td>2010-03-15T08:09:26Z</td>\n",
       "      <td>d3416d3a25b16da3d18b3849522fa96183918e5b</td>\n",
       "      <td>6cbc872eb202dfc27f2eb59b02d953c3deca32c8</td>\n",
       "      <td>CODE_SMELL</td>\n",
       "      <td>squid:S00122</td>\n",
       "      <td>org.apache:deamon:src/java/org/apache/commons/...</td>\n",
       "      <td>MINOR</td>\n",
       "      <td>org.apache:daemon</td>\n",
       "      <td>259.0</td>\n",
       "      <td>259.0</td>\n",
       "      <td>FIXED</td>\n",
       "      <td>CLOSED</td>\n",
       "      <td>At most one statement is allowed per line, but...</td>\n",
       "      <td>1</td>\n",
       "      <td>1min</td>\n",
       "      <td>yoavs@apache.org</td>\n",
       "    </tr>\n",
       "    <tr>\n",
       "      <th>3</th>\n",
       "      <td>commons-daemon</td>\n",
       "      <td>2003-09-04T23:28:19Z</td>\n",
       "      <td>2010-03-15T08:09:26Z</td>\n",
       "      <td>d3416d3a25b16da3d18b3849522fa96183918e5b</td>\n",
       "      <td>6cbc872eb202dfc27f2eb59b02d953c3deca32c8</td>\n",
       "      <td>CODE_SMELL</td>\n",
       "      <td>squid:S00122</td>\n",
       "      <td>org.apache:deamon:src/java/org/apache/commons/...</td>\n",
       "      <td>MINOR</td>\n",
       "      <td>org.apache:daemon</td>\n",
       "      <td>261.0</td>\n",
       "      <td>261.0</td>\n",
       "      <td>FIXED</td>\n",
       "      <td>CLOSED</td>\n",
       "      <td>At most one statement is allowed per line, but...</td>\n",
       "      <td>1</td>\n",
       "      <td>1min</td>\n",
       "      <td>yoavs@apache.org</td>\n",
       "    </tr>\n",
       "    <tr>\n",
       "      <th>4</th>\n",
       "      <td>commons-daemon</td>\n",
       "      <td>2003-09-04T23:28:19Z</td>\n",
       "      <td>2010-03-15T08:09:26Z</td>\n",
       "      <td>d3416d3a25b16da3d18b3849522fa96183918e5b</td>\n",
       "      <td>6cbc872eb202dfc27f2eb59b02d953c3deca32c8</td>\n",
       "      <td>CODE_SMELL</td>\n",
       "      <td>squid:S00122</td>\n",
       "      <td>org.apache:deamon:src/java/org/apache/commons/...</td>\n",
       "      <td>MINOR</td>\n",
       "      <td>org.apache:daemon</td>\n",
       "      <td>278.0</td>\n",
       "      <td>278.0</td>\n",
       "      <td>FIXED</td>\n",
       "      <td>CLOSED</td>\n",
       "      <td>At most one statement is allowed per line, but...</td>\n",
       "      <td>1</td>\n",
       "      <td>1min</td>\n",
       "      <td>yoavs@apache.org</td>\n",
       "    </tr>\n",
       "  </tbody>\n",
       "</table>\n",
       "</div>"
      ],
      "text/plain": [
       "        projectID          creationDate             closeDate  \\\n",
       "0  commons-daemon  2003-09-04T23:28:19Z                   NaN   \n",
       "1  commons-daemon  2003-09-04T23:28:19Z  2010-03-15T08:09:26Z   \n",
       "2  commons-daemon  2003-09-04T23:28:19Z  2010-03-15T08:09:26Z   \n",
       "3  commons-daemon  2003-09-04T23:28:19Z  2010-03-15T08:09:26Z   \n",
       "4  commons-daemon  2003-09-04T23:28:19Z  2010-03-15T08:09:26Z   \n",
       "\n",
       "                         creationCommitHash  \\\n",
       "0  d3416d3a25b16da3d18b3849522fa96183918e5b   \n",
       "1  d3416d3a25b16da3d18b3849522fa96183918e5b   \n",
       "2  d3416d3a25b16da3d18b3849522fa96183918e5b   \n",
       "3  d3416d3a25b16da3d18b3849522fa96183918e5b   \n",
       "4  d3416d3a25b16da3d18b3849522fa96183918e5b   \n",
       "\n",
       "                            closeCommitHash        type         squid  \\\n",
       "0                                       NaN  CODE_SMELL  squid:S00112   \n",
       "1  6cbc872eb202dfc27f2eb59b02d953c3deca32c8  CODE_SMELL  squid:S00122   \n",
       "2  6cbc872eb202dfc27f2eb59b02d953c3deca32c8  CODE_SMELL  squid:S00122   \n",
       "3  6cbc872eb202dfc27f2eb59b02d953c3deca32c8  CODE_SMELL  squid:S00122   \n",
       "4  6cbc872eb202dfc27f2eb59b02d953c3deca32c8  CODE_SMELL  squid:S00122   \n",
       "\n",
       "                                           component severity  \\\n",
       "0  org.apache:daemon:src/main/java/org/apache/com...    MAJOR   \n",
       "1  org.apache:deamon:src/java/org/apache/commons/...    MINOR   \n",
       "2  org.apache:deamon:src/java/org/apache/commons/...    MINOR   \n",
       "3  org.apache:deamon:src/java/org/apache/commons/...    MINOR   \n",
       "4  org.apache:deamon:src/java/org/apache/commons/...    MINOR   \n",
       "\n",
       "             project  startLine  endLine resolution  status  \\\n",
       "0  org.apache:daemon       71.0     71.0        NaN    OPEN   \n",
       "1  org.apache:daemon      265.0    265.0      FIXED  CLOSED   \n",
       "2  org.apache:daemon      259.0    259.0      FIXED  CLOSED   \n",
       "3  org.apache:daemon      261.0    261.0      FIXED  CLOSED   \n",
       "4  org.apache:daemon      278.0    278.0      FIXED  CLOSED   \n",
       "\n",
       "                                             message  effort   debt  \\\n",
       "0  Define and throw a dedicated exception instead...      20  20min   \n",
       "1  At most one statement is allowed per line, but...       1   1min   \n",
       "2  At most one statement is allowed per line, but...       1   1min   \n",
       "3  At most one statement is allowed per line, but...       1   1min   \n",
       "4  At most one statement is allowed per line, but...       1   1min   \n",
       "\n",
       "             author  \n",
       "0  yoavs@apache.org  \n",
       "1  yoavs@apache.org  \n",
       "2  yoavs@apache.org  \n",
       "3  yoavs@apache.org  \n",
       "4  yoavs@apache.org  "
      ]
     },
     "execution_count": 2,
     "metadata": {},
     "output_type": "execute_result"
    }
   ],
   "source": [
    "sonarIssues.loc[0:4]"
   ]
  },
  {
   "cell_type": "markdown",
   "metadata": {
    "id": "_xRMrReZZQ0K"
   },
   "source": [
    "Next, for each attribute, we obtain some information.\n",
    "\n",
    "In some cases, we do not plot anything because there are lots of unique values of which we are not interested in the distribution, as they are categorical values."
   ]
  },
  {
   "cell_type": "markdown",
   "metadata": {
    "id": "zgQRpRlwqiZe"
   },
   "source": [
    "## projectID"
   ]
  },
  {
   "cell_type": "code",
   "execution_count": 3,
   "metadata": {
    "colab": {
     "base_uri": "https://localhost:8080/",
     "height": 170
    },
    "executionInfo": {
     "elapsed": 8324,
     "status": "ok",
     "timestamp": 1601842519775,
     "user": {
      "displayName": "Laia Albors Zumel",
      "photoUrl": "",
      "userId": "07110507271504138336"
     },
     "user_tz": -120
    },
    "id": "TBEqjS5LqOLt",
    "outputId": "5ed89f35-35dd-4ebc-a2c9-a5c33f8c4473"
   },
   "outputs": [
    {
     "data": {
      "text/plain": [
       "array(['commons-daemon', 'beam', 'felix', 'httpcomponents-client',\n",
       "       'commons-dbutils', 'commons-beanutils', 'commons-jxpath', 'batik',\n",
       "       'commons-codec', 'commons-net', 'commons-vfs', 'zookeeper',\n",
       "       'commons-digester', 'commons-dbcp', 'santuario', 'commons-jexl',\n",
       "       'mina-sshd', 'ambari', 'commons-jelly', 'commons-exec',\n",
       "       'commons-io', 'commons-configuration', 'commons-ognl',\n",
       "       'httpcomponents-core', 'atlas', 'commons-fileupload', 'cocoon',\n",
       "       'commons-validator', 'accumulo', 'aurora', 'commons-bcel',\n",
       "       'commons-collections', 'commons-cli'], dtype=object)"
      ]
     },
     "execution_count": 3,
     "metadata": {},
     "output_type": "execute_result"
    }
   ],
   "source": [
    "pd.unique(sonarIssues[\"projectID\"])"
   ]
  },
  {
   "cell_type": "code",
   "execution_count": 4,
   "metadata": {
    "colab": {
     "base_uri": "https://localhost:8080/",
     "height": 34
    },
    "executionInfo": {
     "elapsed": 2788,
     "status": "ok",
     "timestamp": 1601842520680,
     "user": {
      "displayName": "Laia Albors Zumel",
      "photoUrl": "",
      "userId": "07110507271504138336"
     },
     "user_tz": -120
    },
    "id": "KKF5CABJ4XY0",
    "outputId": "cac00399-4548-4ec4-d4c8-47f7b9e4c304"
   },
   "outputs": [
    {
     "data": {
      "text/plain": [
       "33"
      ]
     },
     "execution_count": 4,
     "metadata": {},
     "output_type": "execute_result"
    }
   ],
   "source": [
    "pd.unique(sonarIssues[\"projectID\"]).size"
   ]
  },
  {
   "cell_type": "code",
   "execution_count": 5,
   "metadata": {
    "colab": {
     "base_uri": "https://localhost:8080/",
     "height": 456
    },
    "executionInfo": {
     "elapsed": 2825,
     "status": "ok",
     "timestamp": 1601842521607,
     "user": {
      "displayName": "Laia Albors Zumel",
      "photoUrl": "",
      "userId": "07110507271504138336"
     },
     "user_tz": -120
    },
    "id": "l6OWdynqqp70",
    "outputId": "b45b8320-bca0-4ae0-9453-397adce63c92"
   },
   "outputs": [
    {
     "data": {
      "text/plain": [
       "<BarContainer object of 33 artists>"
      ]
     },
     "execution_count": 5,
     "metadata": {},
     "output_type": "execute_result"
    },
    {
     "data": {
      "image/png": "[encoded data removed]",
      "text/plain": [
       "<Figure size 1080x360 with 1 Axes>"
      ]
     },
     "metadata": {
      "needs_background": "light"
     },
     "output_type": "display_data"
    }
   ],
   "source": [
    "d = {}\n",
    "for p in sonarIssues[\"projectID\"]:\n",
    "  if p not in d:\n",
    "    d[p] = 0\n",
    "  d[p] += 1\n",
    "\n",
    "plt.figure(figsize=(15,5))\n",
    "plt.xticks(rotation=90)\n",
    "plt.bar(d.keys(), d.values())"
   ]
  },
  {
   "cell_type": "markdown",
   "metadata": {
    "id": "8ykEDip_qzC5"
   },
   "source": [
    "## creationDate"
   ]
  },
  {
   "cell_type": "code",
   "execution_count": 6,
   "metadata": {
    "colab": {
     "base_uri": "https://localhost:8080/",
     "height": 35
    },
    "executionInfo": {
     "elapsed": 896,
     "status": "ok",
     "timestamp": 1601842523729,
     "user": {
      "displayName": "Laia Albors Zumel",
      "photoUrl": "",
      "userId": "07110507271504138336"
     },
     "user_tz": -120
    },
    "id": "Z6XDN19Fqz5u",
    "outputId": "f5fce507-5ce3-46e5-970f-2668ab6f546a"
   },
   "outputs": [
    {
     "data": {
      "text/plain": [
       "'2003-09-04T23:28:19Z'"
      ]
     },
     "execution_count": 6,
     "metadata": {},
     "output_type": "execute_result"
    }
   ],
   "source": [
    "creationDate = sonarIssues[\"creationDate\"]\n",
    "creationDate[0]"
   ]
  },
  {
   "cell_type": "code",
   "execution_count": 7,
   "metadata": {
    "colab": {
     "base_uri": "https://localhost:8080/",
     "height": 35
    },
    "executionInfo": {
     "elapsed": 1011,
     "status": "ok",
     "timestamp": 1601842524245,
     "user": {
      "displayName": "Laia Albors Zumel",
      "photoUrl": "",
      "userId": "07110507271504138336"
     },
     "user_tz": -120
    },
    "id": "Rr5tfZqrrAGv",
    "outputId": "688cce73-7375-4ae1-f03b-e199445c3b6d"
   },
   "outputs": [
    {
     "data": {
      "text/plain": [
       "'2000-10-10T18:36:52Z'"
      ]
     },
     "execution_count": 7,
     "metadata": {},
     "output_type": "execute_result"
    }
   ],
   "source": [
    "min(creationDate)"
   ]
  },
  {
   "cell_type": "code",
   "execution_count": 8,
   "metadata": {
    "colab": {
     "base_uri": "https://localhost:8080/",
     "height": 35
    },
    "executionInfo": {
     "elapsed": 869,
     "status": "ok",
     "timestamp": 1601842524551,
     "user": {
      "displayName": "Laia Albors Zumel",
      "photoUrl": "",
      "userId": "07110507271504138336"
     },
     "user_tz": -120
    },
    "id": "887irZe5rEGK",
    "outputId": "bad8da15-3eee-40dc-f1f9-a4ce0f9701c5"
   },
   "outputs": [
    {
     "data": {
      "text/plain": [
       "'2018-09-19T15:09:16Z'"
      ]
     },
     "execution_count": 8,
     "metadata": {},
     "output_type": "execute_result"
    }
   ],
   "source": [
    "max(creationDate)"
   ]
  },
  {
   "cell_type": "code",
   "execution_count": 9,
   "metadata": {
    "colab": {
     "base_uri": "https://localhost:8080/",
     "height": 34
    },
    "executionInfo": {
     "elapsed": 1553,
     "status": "ok",
     "timestamp": 1601842528360,
     "user": {
      "displayName": "Laia Albors Zumel",
      "photoUrl": "",
      "userId": "07110507271504138336"
     },
     "user_tz": -120
    },
    "id": "bUdDy0sYrMNw",
    "outputId": "88403375-679e-4c54-e286-5c91bd75818f"
   },
   "outputs": [
    {
     "data": {
      "text/plain": [
       "19"
      ]
     },
     "execution_count": 9,
     "metadata": {},
     "output_type": "execute_result"
    }
   ],
   "source": [
    "creationDateYear = sonarIssues.creationDate.str[:4]\n",
    "pd.unique(creationDateYear).size"
   ]
  },
  {
   "cell_type": "code",
   "execution_count": 10,
   "metadata": {
    "colab": {
     "base_uri": "https://localhost:8080/",
     "height": 351
    },
    "executionInfo": {
     "elapsed": 1950,
     "status": "ok",
     "timestamp": 1601842529058,
     "user": {
      "displayName": "Laia Albors Zumel",
      "photoUrl": "",
      "userId": "07110507271504138336"
     },
     "user_tz": -120
    },
    "id": "hkTNilLkrURA",
    "outputId": "203ec8cd-acd7-4948-977d-63260067b9f0"
   },
   "outputs": [
    {
     "data": {
      "text/plain": [
       "<BarContainer object of 19 artists>"
      ]
     },
     "execution_count": 10,
     "metadata": {},
     "output_type": "execute_result"
    },
    {
     "data": {
      "image/png": "[encoded data removed]",
      "text/plain": [
       "<Figure size 1080x360 with 1 Axes>"
      ]
     },
     "metadata": {
      "needs_background": "light"
     },
     "output_type": "display_data"
    }
   ],
   "source": [
    "d = {}\n",
    "for p in creationDateYear:\n",
    "  if p not in d:\n",
    "    d[p] = 0\n",
    "  d[p] += 1\n",
    "\n",
    "plt.figure(figsize=(15,5))\n",
    "plt.xticks(rotation=90)\n",
    "plt.bar(d.keys(), d.values())"
   ]
  },
  {
   "cell_type": "markdown",
   "metadata": {
    "id": "K78nslSErXX-"
   },
   "source": [
    "## closeDate"
   ]
  },
  {
   "cell_type": "code",
   "execution_count": 11,
   "metadata": {
    "colab": {
     "base_uri": "https://localhost:8080/",
     "height": 221
    },
    "executionInfo": {
     "elapsed": 771,
     "status": "ok",
     "timestamp": 1601842585589,
     "user": {
      "displayName": "Laia Albors Zumel",
      "photoUrl": "",
      "userId": "07110507271504138336"
     },
     "user_tz": -120
    },
    "id": "wmpC7cmmrYAO",
    "outputId": "337e0cb4-6bc4-4014-bf6f-f621a3e088f1"
   },
   "outputs": [
    {
     "data": {
      "text/plain": [
       "0                           NaN\n",
       "1          2010-03-15T08:09:26Z\n",
       "2          2010-03-15T08:09:26Z\n",
       "3          2010-03-15T08:09:26Z\n",
       "4          2010-03-15T08:09:26Z\n",
       "                   ...         \n",
       "1941503                     NaN\n",
       "1941504                     NaN\n",
       "1941505                     NaN\n",
       "1941506                     NaN\n",
       "1941507                     NaN\n",
       "Name: closeDate, Length: 1941508, dtype: object"
      ]
     },
     "execution_count": 11,
     "metadata": {},
     "output_type": "execute_result"
    }
   ],
   "source": [
    "closeDate = sonarIssues[\"closeDate\"]\n",
    "closeDate"
   ]
  },
  {
   "cell_type": "markdown",
   "metadata": {
    "id": "1ITAIrc8rlxb"
   },
   "source": [
    "Number of NaNs and no-NaNs:"
   ]
  },
  {
   "cell_type": "code",
   "execution_count": 12,
   "metadata": {
    "colab": {
     "base_uri": "https://localhost:8080/",
     "height": 34
    },
    "executionInfo": {
     "elapsed": 622,
     "status": "ok",
     "timestamp": 1601842604552,
     "user": {
      "displayName": "Laia Albors Zumel",
      "photoUrl": "",
      "userId": "07110507271504138336"
     },
     "user_tz": -120
    },
    "id": "ASClp7QhrgsE",
    "outputId": "ac3200e0-615c-4f30-c30b-ba641b488f86"
   },
   "outputs": [
    {
     "data": {
      "text/plain": [
       "124457"
      ]
     },
     "execution_count": 12,
     "metadata": {},
     "output_type": "execute_result"
    }
   ],
   "source": [
    "nans = closeDate.isna().sum()\n",
    "nans"
   ]
  },
  {
   "cell_type": "code",
   "execution_count": 13,
   "metadata": {
    "id": "eWdQtNAZrqZz"
   },
   "outputs": [],
   "source": [
    "closeDateNew = closeDate[closeDate.notnull()]\n",
    "notnans = closeDateNew.count()"
   ]
  },
  {
   "cell_type": "code",
   "execution_count": 14,
   "metadata": {
    "colab": {
     "base_uri": "https://localhost:8080/",
     "height": 316
    },
    "executionInfo": {
     "elapsed": 815,
     "status": "ok",
     "timestamp": 1601842618255,
     "user": {
      "displayName": "Laia Albors Zumel",
      "photoUrl": "",
      "userId": "07110507271504138336"
     },
     "user_tz": -120
    },
    "id": "VpSPhUPlrzRO",
    "outputId": "87b9a507-714d-45ad-a3c2-fefd902d5671"
   },
   "outputs": [
    {
     "data": {
      "text/plain": [
       "([<matplotlib.patches.Wedge at 0x7f85f879fd60>,\n",
       "  <matplotlib.patches.Wedge at 0x7f85f8784250>],\n",
       " [Text(1.0777692357724886, 0.2200306215561505, 'NaN'),\n",
       "  Text(-1.0777692254721107, -0.2200306720101694, 'timestamp')])"
      ]
     },
     "execution_count": 14,
     "metadata": {},
     "output_type": "execute_result"
    },
    {
     "data": {
      "image/png": "[encoded data removed]",
      "text/plain": [
       "<Figure size 432x288 with 1 Axes>"
      ]
     },
     "metadata": {},
     "output_type": "display_data"
    }
   ],
   "source": [
    "labels = 'NaN', 'timestamp'\n",
    "plt.pie([nans, notnans], labels=labels)"
   ]
  },
  {
   "cell_type": "code",
   "execution_count": 15,
   "metadata": {
    "colab": {
     "base_uri": "https://localhost:8080/",
     "height": 35
    },
    "executionInfo": {
     "elapsed": 898,
     "status": "ok",
     "timestamp": 1601842897404,
     "user": {
      "displayName": "Laia Albors Zumel",
      "photoUrl": "",
      "userId": "07110507271504138336"
     },
     "user_tz": -120
    },
    "id": "08pQ9P0Or1ek",
    "outputId": "1b665971-deae-4935-f4b1-32af5b844d17"
   },
   "outputs": [
    {
     "data": {
      "text/plain": [
       "'2000-10-11T18:54:20Z'"
      ]
     },
     "execution_count": 15,
     "metadata": {},
     "output_type": "execute_result"
    }
   ],
   "source": [
    "min(closeDateNew)"
   ]
  },
  {
   "cell_type": "code",
   "execution_count": 16,
   "metadata": {
    "colab": {
     "base_uri": "https://localhost:8080/",
     "height": 35
    },
    "executionInfo": {
     "elapsed": 1341,
     "status": "ok",
     "timestamp": 1601842902217,
     "user": {
      "displayName": "Laia Albors Zumel",
      "photoUrl": "",
      "userId": "07110507271504138336"
     },
     "user_tz": -120
    },
    "id": "EOXQ4K4Ir3dq",
    "outputId": "3fc803df-54ab-420e-e8f8-f6d0714b56b1"
   },
   "outputs": [
    {
     "data": {
      "text/plain": [
       "'2018-09-19T15:09:16Z'"
      ]
     },
     "execution_count": 16,
     "metadata": {},
     "output_type": "execute_result"
    }
   ],
   "source": [
    "max(closeDateNew)"
   ]
  },
  {
   "cell_type": "code",
   "execution_count": 17,
   "metadata": {
    "colab": {
     "base_uri": "https://localhost:8080/",
     "height": 34
    },
    "executionInfo": {
     "elapsed": 1361,
     "status": "ok",
     "timestamp": 1601842940780,
     "user": {
      "displayName": "Laia Albors Zumel",
      "photoUrl": "",
      "userId": "07110507271504138336"
     },
     "user_tz": -120
    },
    "id": "79wK6udzsJE9",
    "outputId": "c273bfec-fedc-4a31-fdc2-57c2a879f1f9"
   },
   "outputs": [
    {
     "data": {
      "text/plain": [
       "19"
      ]
     },
     "execution_count": 17,
     "metadata": {},
     "output_type": "execute_result"
    }
   ],
   "source": [
    "closeDateNewYear = closeDateNew.str[:4]\n",
    "pd.unique(closeDateNewYear).size"
   ]
  },
  {
   "cell_type": "code",
   "execution_count": 18,
   "metadata": {
    "colab": {
     "base_uri": "https://localhost:8080/",
     "height": 363
    },
    "executionInfo": {
     "elapsed": 1420,
     "status": "ok",
     "timestamp": 1601842945915,
     "user": {
      "displayName": "Laia Albors Zumel",
      "photoUrl": "",
      "userId": "07110507271504138336"
     },
     "user_tz": -120
    },
    "id": "LLHSRYuwsM6t",
    "outputId": "5e8036d0-234c-473e-a679-b287592fc621"
   },
   "outputs": [
    {
     "data": {
      "text/plain": [
       "<BarContainer object of 19 artists>"
      ]
     },
     "execution_count": 18,
     "metadata": {},
     "output_type": "execute_result"
    },
    {
     "data": {
      "image/png": "[encoded data removed]",
      "text/plain": [
       "<Figure size 1080x360 with 1 Axes>"
      ]
     },
     "metadata": {
      "needs_background": "light"
     },
     "output_type": "display_data"
    }
   ],
   "source": [
    "d = {}\n",
    "for p in closeDateNewYear:\n",
    "  if p not in d:\n",
    "    d[p] = 0\n",
    "  d[p] += 1\n",
    "\n",
    "plt.figure(figsize=(15,5))\n",
    "plt.xticks(rotation=90)\n",
    "plt.bar(d.keys(), d.values())"
   ]
  },
  {
   "cell_type": "markdown",
   "metadata": {
    "id": "e9eajPPEsPrj"
   },
   "source": [
    "## creationCommitHash"
   ]
  },
  {
   "cell_type": "code",
   "execution_count": 19,
   "metadata": {
    "colab": {
     "base_uri": "https://localhost:8080/",
     "height": 221
    },
    "executionInfo": {
     "elapsed": 605,
     "status": "ok",
     "timestamp": 1601843144504,
     "user": {
      "displayName": "Laia Albors Zumel",
      "photoUrl": "",
      "userId": "07110507271504138336"
     },
     "user_tz": -120
    },
    "id": "XHozT_gssl_e",
    "outputId": "b3586ea9-6487-44e0-f663-70fe8cfab1ec"
   },
   "outputs": [
    {
     "data": {
      "text/plain": [
       "0          d3416d3a25b16da3d18b3849522fa96183918e5b\n",
       "1          d3416d3a25b16da3d18b3849522fa96183918e5b\n",
       "2          d3416d3a25b16da3d18b3849522fa96183918e5b\n",
       "3          d3416d3a25b16da3d18b3849522fa96183918e5b\n",
       "4          d3416d3a25b16da3d18b3849522fa96183918e5b\n",
       "                             ...                   \n",
       "1941503    3bc9b84d3ae252800eb234a7b41981a9fef8696d\n",
       "1941504    3bc9b84d3ae252800eb234a7b41981a9fef8696d\n",
       "1941505    3bc9b84d3ae252800eb234a7b41981a9fef8696d\n",
       "1941506    b0024d482050a08efc36c3cabee37c0af0e57a10\n",
       "1941507    b0024d482050a08efc36c3cabee37c0af0e57a10\n",
       "Name: creationCommitHash, Length: 1941508, dtype: object"
      ]
     },
     "execution_count": 19,
     "metadata": {},
     "output_type": "execute_result"
    }
   ],
   "source": [
    "sonarIssues[\"creationCommitHash\"]"
   ]
  },
  {
   "cell_type": "code",
   "execution_count": 20,
   "metadata": {
    "colab": {
     "base_uri": "https://localhost:8080/",
     "height": 34
    },
    "executionInfo": {
     "elapsed": 850,
     "status": "ok",
     "timestamp": 1601843187925,
     "user": {
      "displayName": "Laia Albors Zumel",
      "photoUrl": "",
      "userId": "07110507271504138336"
     },
     "user_tz": -120
    },
    "id": "dOgLucqfsQHS",
    "outputId": "04ae76cc-d130-4e4e-d27b-410b56cfa379"
   },
   "outputs": [
    {
     "data": {
      "text/plain": [
       "19749"
      ]
     },
     "execution_count": 20,
     "metadata": {},
     "output_type": "execute_result"
    }
   ],
   "source": [
    "pd.unique(sonarIssues[\"creationCommitHash\"]).size"
   ]
  },
  {
   "cell_type": "markdown",
   "metadata": {
    "id": "Deo3KwtEsq1r"
   },
   "source": [
    "## closeCommitHash"
   ]
  },
  {
   "cell_type": "code",
   "execution_count": 21,
   "metadata": {
    "colab": {
     "base_uri": "https://localhost:8080/",
     "height": 102
    },
    "executionInfo": {
     "elapsed": 1211,
     "status": "ok",
     "timestamp": 1601843860103,
     "user": {
      "displayName": "Laia Albors Zumel",
      "photoUrl": "",
      "userId": "07110507271504138336"
     },
     "user_tz": -120
    },
    "id": "Rm8bKswtsrfs",
    "outputId": "ee6314a5-a68f-4ada-f20d-1721d7195c82"
   },
   "outputs": [
    {
     "data": {
      "text/plain": [
       "array([nan, '6cbc872eb202dfc27f2eb59b02d953c3deca32c8',\n",
       "       'ba9e8bef1f2f0c5166c0927836e40e62a0f9f38e', ...,\n",
       "       'a955324468d45eb845e05107d5b0013285c3bc0a',\n",
       "       'ac2a1c85616f0140418de9190389fe7b80296c39',\n",
       "       'e420dd2bebd532abf36d12916358652998e20834'], dtype=object)"
      ]
     },
     "execution_count": 21,
     "metadata": {},
     "output_type": "execute_result"
    }
   ],
   "source": [
    "closeCommitHash = sonarIssues[\"closeCommitHash\"]\n",
    "pd.unique(closeCommitHash)"
   ]
  },
  {
   "cell_type": "markdown",
   "metadata": {
    "id": "TqFLxUAis17I"
   },
   "source": [
    "Number of NaNs and no-NaNs:"
   ]
  },
  {
   "cell_type": "code",
   "execution_count": 22,
   "metadata": {
    "colab": {
     "base_uri": "https://localhost:8080/",
     "height": 34
    },
    "executionInfo": {
     "elapsed": 612,
     "status": "ok",
     "timestamp": 1601843868295,
     "user": {
      "displayName": "Laia Albors Zumel",
      "photoUrl": "",
      "userId": "07110507271504138336"
     },
     "user_tz": -120
    },
    "id": "z46Z9KCIsztH",
    "outputId": "6a0cd351-5476-4fee-f8ce-b1fe60aff23d"
   },
   "outputs": [
    {
     "data": {
      "text/plain": [
       "127832"
      ]
     },
     "execution_count": 22,
     "metadata": {},
     "output_type": "execute_result"
    }
   ],
   "source": [
    "nans = closeCommitHash.isna().sum()\n",
    "nans"
   ]
  },
  {
   "cell_type": "code",
   "execution_count": 23,
   "metadata": {
    "id": "RxsYACMes21s"
   },
   "outputs": [],
   "source": [
    "closeCommitHashNew = closeCommitHash[closeCommitHash.notnull()]\n",
    "notnans = closeCommitHashNew.count()"
   ]
  },
  {
   "cell_type": "code",
   "execution_count": 24,
   "metadata": {
    "colab": {
     "base_uri": "https://localhost:8080/",
     "height": 316
    },
    "executionInfo": {
     "elapsed": 1124,
     "status": "ok",
     "timestamp": 1601843893688,
     "user": {
      "displayName": "Laia Albors Zumel",
      "photoUrl": "",
      "userId": "07110507271504138336"
     },
     "user_tz": -120
    },
    "id": "THdzNWpMs8u6",
    "outputId": "20d1b6ff-2dd2-4873-a11b-257c0261f3be"
   },
   "outputs": [
    {
     "data": {
      "text/plain": [
       "([<matplotlib.patches.Wedge at 0x7f85fff2fc70>,\n",
       "  <matplotlib.patches.Wedge at 0x7f85fff3a190>],\n",
       " [Text(1.076551548620532, 0.22591317616007855, 'NaN'),\n",
       "  Text(-1.0765515591962898, -0.22591312576306316, 'value')])"
      ]
     },
     "execution_count": 24,
     "metadata": {},
     "output_type": "execute_result"
    },
    {
     "data": {
      "image/png": "[encoded data removed]",
      "text/plain": [
       "<Figure size 432x288 with 1 Axes>"
      ]
     },
     "metadata": {},
     "output_type": "display_data"
    }
   ],
   "source": [
    "labels = 'NaN', 'value'\n",
    "plt.pie([nans, notnans], labels=labels)"
   ]
  },
  {
   "cell_type": "markdown",
   "metadata": {
    "id": "kXQ9A1cttCjD"
   },
   "source": [
    "## type"
   ]
  },
  {
   "cell_type": "code",
   "execution_count": 25,
   "metadata": {
    "id": "r6rdYS22tTQB"
   },
   "outputs": [],
   "source": [
    "typee = sonarIssues[\"type\"]"
   ]
  },
  {
   "cell_type": "code",
   "execution_count": 26,
   "metadata": {
    "colab": {
     "base_uri": "https://localhost:8080/",
     "height": 34
    },
    "executionInfo": {
     "elapsed": 733,
     "status": "ok",
     "timestamp": 1601844006947,
     "user": {
      "displayName": "Laia Albors Zumel",
      "photoUrl": "",
      "userId": "07110507271504138336"
     },
     "user_tz": -120
    },
    "id": "1fMEh4JNtFG2",
    "outputId": "904005d8-98fd-4b28-869c-aaab7d15160a"
   },
   "outputs": [
    {
     "data": {
      "text/plain": [
       "array(['CODE_SMELL', 'BUG', 'VULNERABILITY'], dtype=object)"
      ]
     },
     "execution_count": 26,
     "metadata": {},
     "output_type": "execute_result"
    }
   ],
   "source": [
    "pd.unique(typee)"
   ]
  },
  {
   "cell_type": "code",
   "execution_count": 27,
   "metadata": {
    "colab": {
     "base_uri": "https://localhost:8080/",
     "height": 415
    },
    "executionInfo": {
     "elapsed": 1297,
     "status": "ok",
     "timestamp": 1601844055609,
     "user": {
      "displayName": "Laia Albors Zumel",
      "photoUrl": "",
      "userId": "07110507271504138336"
     },
     "user_tz": -120
    },
    "id": "bEw130Nsti6G",
    "outputId": "921bd28f-4801-4c19-e94f-bc110aa87a86"
   },
   "outputs": [
    {
     "data": {
      "text/plain": [
       "<BarContainer object of 3 artists>"
      ]
     },
     "execution_count": 27,
     "metadata": {},
     "output_type": "execute_result"
    },
    {
     "data": {
      "image/png": "[encoded data removed]",
      "text/plain": [
       "<Figure size 1080x360 with 1 Axes>"
      ]
     },
     "metadata": {
      "needs_background": "light"
     },
     "output_type": "display_data"
    }
   ],
   "source": [
    "d = {}\n",
    "for p in typee:\n",
    "  if p not in d:\n",
    "    d[p] = 0\n",
    "  d[p] += 1\n",
    "\n",
    "plt.figure(figsize=(15,5))\n",
    "plt.xticks(rotation=90)\n",
    "plt.bar(d.keys(), d.values())"
   ]
  },
  {
   "cell_type": "markdown",
   "metadata": {
    "id": "sUM3cwoTtmTA"
   },
   "source": [
    "## severity"
   ]
  },
  {
   "cell_type": "code",
   "execution_count": 28,
   "metadata": {
    "colab": {
     "base_uri": "https://localhost:8080/",
     "height": 34
    },
    "executionInfo": {
     "elapsed": 605,
     "status": "ok",
     "timestamp": 1601844180936,
     "user": {
      "displayName": "Laia Albors Zumel",
      "photoUrl": "",
      "userId": "07110507271504138336"
     },
     "user_tz": -120
    },
    "id": "rFX-oM0OtnC1",
    "outputId": "6838b960-7ad7-4f42-d291-803d4c83c011"
   },
   "outputs": [
    {
     "data": {
      "text/plain": [
       "array(['MAJOR', 'MINOR', 'BLOCKER', 'CRITICAL', 'INFO'], dtype=object)"
      ]
     },
     "execution_count": 28,
     "metadata": {},
     "output_type": "execute_result"
    }
   ],
   "source": [
    "severity = sonarIssues[\"severity\"]\n",
    "pd.unique(severity)"
   ]
  },
  {
   "cell_type": "code",
   "execution_count": 29,
   "metadata": {
    "colab": {
     "base_uri": "https://localhost:8080/",
     "height": 34
    },
    "executionInfo": {
     "elapsed": 836,
     "status": "ok",
     "timestamp": 1601844194252,
     "user": {
      "displayName": "Laia Albors Zumel",
      "photoUrl": "",
      "userId": "07110507271504138336"
     },
     "user_tz": -120
    },
    "id": "kMOQJRfitw-s",
    "outputId": "b3adcae8-47f5-4d80-e541-30c93fe55973"
   },
   "outputs": [
    {
     "data": {
      "text/plain": [
       "5"
      ]
     },
     "execution_count": 29,
     "metadata": {},
     "output_type": "execute_result"
    }
   ],
   "source": [
    "pd.unique(severity).size"
   ]
  },
  {
   "cell_type": "code",
   "execution_count": 30,
   "metadata": {
    "colab": {
     "base_uri": "https://localhost:8080/",
     "height": 384
    },
    "executionInfo": {
     "elapsed": 1416,
     "status": "ok",
     "timestamp": 1601844233815,
     "user": {
      "displayName": "Laia Albors Zumel",
      "photoUrl": "",
      "userId": "07110507271504138336"
     },
     "user_tz": -120
    },
    "id": "0kdDQVi4Wux0",
    "outputId": "bf724e31-e422-4e05-864d-af445ae737de"
   },
   "outputs": [
    {
     "data": {
      "text/plain": [
       "<BarContainer object of 5 artists>"
      ]
     },
     "execution_count": 30,
     "metadata": {},
     "output_type": "execute_result"
    },
    {
     "data": {
      "image/png": "[encoded data removed]",
      "text/plain": [
       "<Figure size 1080x360 with 1 Axes>"
      ]
     },
     "metadata": {
      "needs_background": "light"
     },
     "output_type": "display_data"
    }
   ],
   "source": [
    "d = {}\n",
    "for p in severity:\n",
    "  if p not in d:\n",
    "    d[p] = 0\n",
    "  d[p] += 1\n",
    "\n",
    "plt.figure(figsize=(15,5))\n",
    "plt.xticks(rotation=90)\n",
    "plt.bar(d.keys(), d.values())"
   ]
  },
  {
   "cell_type": "markdown",
   "metadata": {
    "id": "SelPK33Bt97S"
   },
   "source": [
    "## debt"
   ]
  },
  {
   "cell_type": "code",
   "execution_count": 31,
   "metadata": {
    "colab": {
     "base_uri": "https://localhost:8080/",
     "height": 1000
    },
    "executionInfo": {
     "elapsed": 659,
     "status": "ok",
     "timestamp": 1601844340385,
     "user": {
      "displayName": "Laia Albors Zumel",
      "photoUrl": "",
      "userId": "07110507271504138336"
     },
     "user_tz": -120
    },
    "id": "7ETguYyut6Su",
    "outputId": "7dc51db3-0803-4b3a-89d4-2f4f5107d5a3"
   },
   "outputs": [
    {
     "data": {
      "text/plain": [
       "array(['20min', '1min', '10min', '30min', '2min', '5min', '13min',\n",
       "       '12min', '1h30min', '50min', '40min', '8min', '18min', '15min',\n",
       "       '16min', '11min', '17min', '14min', '21min', nan, '6min', '7min',\n",
       "       '9min', '26min', '38min', '24min', '22min', '32min', '34min',\n",
       "       '58min', '1h', '1h40min', '28min', '42min', '1h6min', '2h',\n",
       "       '1h50min', '1h20min', '19min', '54min', '1h10min', '55min',\n",
       "       '1h4min', '2h40min', '1h29min', '36min', '2h50min', '56min',\n",
       "       '1h7min', '3h32min', '44min', '1h16min', '46min', '48min',\n",
       "       '1h37min', '1h21min', '2h54min', '3h40min', '29min', '23min',\n",
       "       '37min', '25min', '33min', '52min', '1h2min', '7h', '5h30min',\n",
       "       '4h', '1h36min', '1h38min', '3h20min', '1h8min', '5h22min',\n",
       "       '1h26min', '2h22min', '1h52min', '1h14min', '1h46min', '1h24min',\n",
       "       '1d4h', '1h22min', '5h20min', '6h10min', '1h3min', '2h2min',\n",
       "       '6h30min', '2h12min', '1h44min', '3h50min', '2h10min', '5h50min',\n",
       "       '3h36min', '2h20min', '2d5h40min', '1h32min', '3h10min', '1h12min',\n",
       "       '1d7h20min', '31min', '3h6min', '2h24min', '45min', '1h1min',\n",
       "       '43min', '1h48min', '49min', '1h59min', '27min', '3h', '2d2h56min',\n",
       "       '2h28min', '6h47min', '4h20min', '51min', '3h28min', '4h26min',\n",
       "       '2h29min', '2d4h', '2d1h2min', '2h18min', '47min', '2d3h45min',\n",
       "       '1h19min', '39min', '2h11min', '35min', '6d3h50min', '1d40min',\n",
       "       '2h30min', '3h30min', '5h10min', '3h39min', '2h58min', '2h34min',\n",
       "       '2h31min', '2h47min', '4h30min', '1d1h', '2h23min', '5h14min',\n",
       "       '1d4h50min', '2h14min', '57min', '4h10min', '1h39min', '1h45min',\n",
       "       '9d', '1h28min', '5h32min', '5h36min', '6h50min', '1h53min',\n",
       "       '2h5min', '1d3h10min', '5h', '6h42min', '1d4h10min', '5h17min',\n",
       "       '5h51min', '1h31min', '1h33min', '1h18min', '1d3h50min', '5h40min',\n",
       "       '2h4min', '5h42min', '2h15min', '1h13min', '6h', '53min',\n",
       "       '6h20min', '1d1h30min', '2d4h10min', '3h17min', '1h34min',\n",
       "       '3h9min', '6h40min', '1d4h30min', '4d7h20min', '4d1h40min',\n",
       "       '3d3h40min', '4h40min', '1d10min', '4d2h10min', '3d50min',\n",
       "       '1d5h50min', '2d20min', '1d50min', '1d7h40min', '2d3h', '59min',\n",
       "       '2d35min', '2d1h14min', '2d1h', '2d50min', '41min', '2h13min',\n",
       "       '3h8min', '4h50min', '5h41min', '4h36min', '3h43min', '1d2h',\n",
       "       '4h15min', '4h55min', '1h58min', '2h44min', '2d4h30min', '7h30min',\n",
       "       '2d3h50min', '4d4h20min', '1h56min', '2h8min', '7h50min',\n",
       "       '1h42min', '1h54min', '4d', '6d6h20min', '1d2h10min', '3d3h50min',\n",
       "       '2h1min', '1h41min', '2h3min', '1h43min', '5h15min', '1d6h54min',\n",
       "       '5h34min', '2d10min', '2h53min', '1d6h10min', '1d5h40min',\n",
       "       '1d4h40min', '2h46min', '2h43min', '6h16min', '4h57min',\n",
       "       '17d6h10min', '1d20min', '1h11min', '1d1h6min', '4h52min',\n",
       "       '1h57min', '6h35min', '2h38min', '1d2h46min', '3d4h20min',\n",
       "       '7h10min', '1d1h12min', '3d2h20min', '2h41min', '3h54min',\n",
       "       '3h56min', '3h57min', '7h11min', '9d19min', '3h24min', '6d7h55min',\n",
       "       '3h41min', '4d7h5min', '10d3h47min', '4h41min', '1h5min', '7h5min',\n",
       "       '7h6min', '7h7min', '7h9min', '6h58min', '7h20min', '7h21min',\n",
       "       '5h26min', '3h34min', '2h26min', '1h25min', '2h32min', '7h40min',\n",
       "       '6d2h30min', '1d3h30min', '6d7h20min', '5d6h40min', '8d1h10min',\n",
       "       '4h54min', '4h56min', '5h29min', '5h31min', '5h23min', '5h25min',\n",
       "       '5h21min', '5h12min', '5h13min', '5h9min', '5h11min', '6h2min',\n",
       "       '6h3min', '6h4min', '6h5min', '6h9min', '6h17min', '6d6h30min',\n",
       "       '1d6h50min', '6d5h30min', '6d6h50min', '5d7h40min', '3h53min',\n",
       "       '3h52min', '3h59min', '4h1min', '2h9min', '4h2min', '2h19min',\n",
       "       '6d2h10min', '6d1h30min', '1d3h20min', '8d1h30min', '8d10min',\n",
       "       '7d5h20min', '1d3h40min', '1d3h', '6d10min', '5d7h20min',\n",
       "       '7d4h50min', '3h13min', '6h8min', '3h14min', '9d4h10min', '5d4h',\n",
       "       '4d7h10min', '7d2h10min', '9d50min', '37d1h32min', '1h9min',\n",
       "       '3h23min', '2h36min', '9d1h40min', '3h58min', '5h27min',\n",
       "       '7d3h50min', '9d2h', '5d6h', '5d5h10min', '9d2h10min', '5d4h40min',\n",
       "       '7d3h40min', '3h49min', '5d7h50min', '5d10min', '6d7h', '5d20min',\n",
       "       '6d6h', '5d7h', '9d2h30min', '5d6h50min', '5d6h30min',\n",
       "       '10d3h30min', '10d2h10min', '10d1h10min', '3h48min', '10d2h40min',\n",
       "       '5d3h40min', '1d7h', '5d5h20min', '6d4h20min', '9d6h10min',\n",
       "       '9d7h50min', '10d3h50min', '10d7h50min', '11d1h50min',\n",
       "       '10d6h40min', '5d6h20min', '11d40min', '11d7h', '3h46min',\n",
       "       '5h8min', '14d2h35min', '6h11min', '1d2h40min', '3h37min'],\n",
       "      dtype=object)"
      ]
     },
     "execution_count": 31,
     "metadata": {},
     "output_type": "execute_result"
    }
   ],
   "source": [
    "debt = sonarIssues[\"debt\"]\n",
    "pd.unique(debt)"
   ]
  },
  {
   "cell_type": "code",
   "execution_count": 32,
   "metadata": {
    "colab": {
     "base_uri": "https://localhost:8080/",
     "height": 34
    },
    "executionInfo": {
     "elapsed": 639,
     "status": "ok",
     "timestamp": 1601844347233,
     "user": {
      "displayName": "Laia Albors Zumel",
      "photoUrl": "",
      "userId": "07110507271504138336"
     },
     "user_tz": -120
    },
    "id": "YDxPFT5suwj4",
    "outputId": "85f2896a-f7e2-4473-88b3-2333b5a51552"
   },
   "outputs": [
    {
     "data": {
      "text/plain": [
       "376"
      ]
     },
     "execution_count": 32,
     "metadata": {},
     "output_type": "execute_result"
    }
   ],
   "source": [
    "pd.unique(debt).size"
   ]
  },
  {
   "cell_type": "code",
   "execution_count": 33,
   "metadata": {
    "colab": {
     "base_uri": "https://localhost:8080/",
     "height": 34
    },
    "executionInfo": {
     "elapsed": 727,
     "status": "ok",
     "timestamp": 1601844462027,
     "user": {
      "displayName": "Laia Albors Zumel",
      "photoUrl": "",
      "userId": "07110507271504138336"
     },
     "user_tz": -120
    },
    "id": "ZPtHUiHAunZR",
    "outputId": "6f262512-ac87-41ca-d230-a75eae6372fa"
   },
   "outputs": [
    {
     "data": {
      "text/plain": [
       "24088"
      ]
     },
     "execution_count": 33,
     "metadata": {},
     "output_type": "execute_result"
    }
   ],
   "source": [
    "nans = debt.isna().sum()\n",
    "nans"
   ]
  },
  {
   "cell_type": "code",
   "execution_count": 34,
   "metadata": {
    "id": "YhmxDkr6X1Pd"
   },
   "outputs": [],
   "source": [
    "debtNew = debt[debt.notnull()]\n",
    "notnans = debtNew.count()"
   ]
  },
  {
   "cell_type": "code",
   "execution_count": 35,
   "metadata": {
    "colab": {
     "base_uri": "https://localhost:8080/",
     "height": 316
    },
    "executionInfo": {
     "elapsed": 734,
     "status": "ok",
     "timestamp": 1601844529613,
     "user": {
      "displayName": "Laia Albors Zumel",
      "photoUrl": "",
      "userId": "07110507271504138336"
     },
     "user_tz": -120
    },
    "id": "IqfVCXQIX45w",
    "outputId": "30a4a98e-432d-48e2-b121-0db011aedd3f"
   },
   "outputs": [
    {
     "data": {
      "text/plain": [
       "([<matplotlib.patches.Wedge at 0x7f8600f88370>,\n",
       "  <matplotlib.patches.Wedge at 0x7f8600f88820>],\n",
       " [Text(1.0991645305071687, 0.0428641443978013, 'NaN'),\n",
       "  Text(-1.0991645271210018, -0.04286423122913502, 'value')])"
      ]
     },
     "execution_count": 35,
     "metadata": {},
     "output_type": "execute_result"
    },
    {
     "data": {
      "image/png": "[encoded data removed]",
      "text/plain": [
       "<Figure size 432x288 with 1 Axes>"
      ]
     },
     "metadata": {},
     "output_type": "display_data"
    }
   ],
   "source": [
    "labels = 'NaN', 'value'\n",
    "plt.pie([nans, notnans], labels=labels)"
   ]
  },
  {
   "cell_type": "markdown",
   "metadata": {
    "id": "nKSG03Nquzpp"
   },
   "source": [
    "## author"
   ]
  },
  {
   "cell_type": "code",
   "execution_count": 36,
   "metadata": {
    "colab": {
     "base_uri": "https://localhost:8080/",
     "height": 34
    },
    "executionInfo": {
     "elapsed": 818,
     "status": "ok",
     "timestamp": 1601844784454,
     "user": {
      "displayName": "Laia Albors Zumel",
      "photoUrl": "",
      "userId": "07110507271504138336"
     },
     "user_tz": -120
    },
    "id": "bqPET0YlusOR",
    "outputId": "ab46a3b5-c0d3-4122-dd60-810fe9d2fe76"
   },
   "outputs": [
    {
     "data": {
      "text/plain": [
       "567"
      ]
     },
     "execution_count": 36,
     "metadata": {},
     "output_type": "execute_result"
    }
   ],
   "source": [
    "author = sonarIssues[\"author\"]\n",
    "pd.unique(author).size"
   ]
  },
  {
   "cell_type": "code",
   "execution_count": 37,
   "metadata": {
    "colab": {
     "base_uri": "https://localhost:8080/",
     "height": 34
    },
    "executionInfo": {
     "elapsed": 729,
     "status": "ok",
     "timestamp": 1601844811336,
     "user": {
      "displayName": "Laia Albors Zumel",
      "photoUrl": "",
      "userId": "07110507271504138336"
     },
     "user_tz": -120
    },
    "id": "kSdtG70hu6zK",
    "outputId": "ecc7df33-993a-41cd-e4ed-33a8f54e04e9"
   },
   "outputs": [
    {
     "data": {
      "text/plain": [
       "387753"
      ]
     },
     "execution_count": 37,
     "metadata": {},
     "output_type": "execute_result"
    }
   ],
   "source": [
    "nans = author.isna().sum()\n",
    "nans"
   ]
  },
  {
   "cell_type": "code",
   "execution_count": 38,
   "metadata": {
    "id": "xe3F1VVjZBM9"
   },
   "outputs": [],
   "source": [
    "authorNew = author[author.notnull()]\n",
    "notnans = authorNew.count()"
   ]
  },
  {
   "cell_type": "code",
   "execution_count": 39,
   "metadata": {
    "colab": {
     "base_uri": "https://localhost:8080/",
     "height": 316
    },
    "executionInfo": {
     "elapsed": 1178,
     "status": "ok",
     "timestamp": 1601844880857,
     "user": {
      "displayName": "Laia Albors Zumel",
      "photoUrl": "",
      "userId": "07110507271504138336"
     },
     "user_tz": -120
    },
    "id": "JunRTUKLZQYe",
    "outputId": "cddd75f5-0717-4a93-fead-e573417d9f31"
   },
   "outputs": [
    {
     "data": {
      "text/plain": [
       "([<matplotlib.patches.Wedge at 0x7f8600fc34f0>,\n",
       "  <matplotlib.patches.Wedge at 0x7f8600fc39a0>],\n",
       " [Text(0.8904923059930133, 0.6457735307112283, 'NaN'),\n",
       "  Text(-0.890492366454691, -0.6457734473373187, 'value')])"
      ]
     },
     "execution_count": 39,
     "metadata": {},
     "output_type": "execute_result"
    },
    {
     "data": {
      "image/png": "[encoded data removed]",
      "text/plain": [
       "<Figure size 432x288 with 1 Axes>"
      ]
     },
     "metadata": {},
     "output_type": "display_data"
    }
   ],
   "source": [
    "labels = 'NaN', 'value'\n",
    "plt.pie([nans, notnans], labels=labels)"
   ]
  }
 ],
 "metadata": {
  "colab": {
   "collapsed_sections": [],
   "name": "sonar_issues.ipynb",
   "provenance": []
  },
  "kernelspec": {
   "display_name": "Python 3",
   "language": "python",
   "name": "python3"
  },
  "language_info": {
   "codemirror_mode": {
    "name": "ipython",
    "version": 3
   },
   "file_extension": ".py",
   "mimetype": "text/x-python",
   "name": "python",
   "nbconvert_exporter": "python",
   "pygments_lexer": "ipython3",
   "version": "3.8.3"
  }
 },
 "nbformat": 4,
 "nbformat_minor": 1
}
