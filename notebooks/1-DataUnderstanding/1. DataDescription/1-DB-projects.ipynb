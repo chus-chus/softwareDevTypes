{
 "cells": [
  {
   "cell_type": "markdown",
   "metadata": {
    "id": "EIBBvIX6wE9V"
   },
   "source": [
    "# **PROJECTS**\n",
    "\n",
    "This notebook the description of the table `PROJECTS`.\n",
    "\n",
    "First, we import the libraries we need and, then, we read the corresponding csv."
   ]
  },
  {
   "cell_type": "code",
   "execution_count": 1,
   "metadata": {
    "id": "PIRzeMvfiHSA"
   },
   "outputs": [],
   "source": [
    "import pandas as pd\n",
    "\n",
    "projects = pd.read_csv(\"../../data/raw/PROJECTS.csv\")"
   ]
  },
  {
   "cell_type": "code",
   "execution_count": 2,
   "metadata": {
    "colab": {
     "base_uri": "https://localhost:8080/",
     "height": 34
    },
    "executionInfo": {
     "elapsed": 735,
     "status": "ok",
     "timestamp": 1601817288866,
     "user": {
      "displayName": "Laia Albors Zumel",
      "photoUrl": "",
      "userId": "07110507271504138336"
     },
     "user_tz": -120
    },
    "id": "7iftTogwi0yb",
    "outputId": "7f44d7ac-17b3-4e46-e50a-87c87df156a7"
   },
   "outputs": [
    {
     "data": {
      "text/plain": [
       "(33, 4)"
      ]
     },
     "execution_count": 2,
     "metadata": {},
     "output_type": "execute_result"
    }
   ],
   "source": [
    "projects.shape"
   ]
  },
  {
   "cell_type": "markdown",
   "metadata": {
    "id": "hItdKnKzYcHA"
   },
   "source": [
    "We show the first rows of the table to get an idea of its content."
   ]
  },
  {
   "cell_type": "code",
   "execution_count": 3,
   "metadata": {
    "colab": {
     "base_uri": "https://localhost:8080/",
     "height": 204
    },
    "executionInfo": {
     "elapsed": 345,
     "status": "ok",
     "timestamp": 1601817289167,
     "user": {
      "displayName": "Laia Albors Zumel",
      "photoUrl": "",
      "userId": "07110507271504138336"
     },
     "user_tz": -120
    },
    "id": "Y14Lm3cTjNgN",
    "outputId": "f72da26e-fdfd-486e-f205-03d40d1da239"
   },
   "outputs": [
    {
     "data": {
      "text/html": [
       "<div>\n",
       "<style scoped>\n",
       "    .dataframe tbody tr th:only-of-type {\n",
       "        vertical-align: middle;\n",
       "    }\n",
       "\n",
       "    .dataframe tbody tr th {\n",
       "        vertical-align: top;\n",
       "    }\n",
       "\n",
       "    .dataframe thead th {\n",
       "        text-align: right;\n",
       "    }\n",
       "</style>\n",
       "<table border=\"1\" class=\"dataframe\">\n",
       "  <thead>\n",
       "    <tr style=\"text-align: right;\">\n",
       "      <th></th>\n",
       "      <th>projectID</th>\n",
       "      <th>gitLink</th>\n",
       "      <th>jiraLink</th>\n",
       "      <th>sonarProjectKey</th>\n",
       "    </tr>\n",
       "  </thead>\n",
       "  <tbody>\n",
       "    <tr>\n",
       "      <th>0</th>\n",
       "      <td>accumulo</td>\n",
       "      <td>https://github.com/apache/accumulo</td>\n",
       "      <td>https://issues.apache.org/jira/projects/ACCUMULO</td>\n",
       "      <td>org:apache:accumulo</td>\n",
       "    </tr>\n",
       "    <tr>\n",
       "      <th>1</th>\n",
       "      <td>ambari</td>\n",
       "      <td>https://github.com/apache/ambari</td>\n",
       "      <td>https://issues.apache.org/jira/projects/AMBARI</td>\n",
       "      <td>org.apache:ambari</td>\n",
       "    </tr>\n",
       "    <tr>\n",
       "      <th>2</th>\n",
       "      <td>atlas</td>\n",
       "      <td>https://github.com/apache/atlas</td>\n",
       "      <td>https://issues.apache.org/jira/projects/ATLAS</td>\n",
       "      <td>org.apache:atlas</td>\n",
       "    </tr>\n",
       "    <tr>\n",
       "      <th>3</th>\n",
       "      <td>aurora</td>\n",
       "      <td>https://github.com/apache/aurora</td>\n",
       "      <td>https://issues.apache.org/jira/projects/AURORA</td>\n",
       "      <td>org.apache:aurora</td>\n",
       "    </tr>\n",
       "    <tr>\n",
       "      <th>4</th>\n",
       "      <td>batik</td>\n",
       "      <td>https://github.com/apache/batik</td>\n",
       "      <td>https://issues.apache.org/jira/projects/BATIK</td>\n",
       "      <td>org.apache:batik</td>\n",
       "    </tr>\n",
       "  </tbody>\n",
       "</table>\n",
       "</div>"
      ],
      "text/plain": [
       "  projectID                             gitLink  \\\n",
       "0  accumulo  https://github.com/apache/accumulo   \n",
       "1    ambari    https://github.com/apache/ambari   \n",
       "2     atlas     https://github.com/apache/atlas   \n",
       "3    aurora    https://github.com/apache/aurora   \n",
       "4     batik     https://github.com/apache/batik   \n",
       "\n",
       "                                           jiraLink      sonarProjectKey  \n",
       "0  https://issues.apache.org/jira/projects/ACCUMULO  org:apache:accumulo  \n",
       "1    https://issues.apache.org/jira/projects/AMBARI    org.apache:ambari  \n",
       "2     https://issues.apache.org/jira/projects/ATLAS     org.apache:atlas  \n",
       "3    https://issues.apache.org/jira/projects/AURORA    org.apache:aurora  \n",
       "4     https://issues.apache.org/jira/projects/BATIK     org.apache:batik  "
      ]
     },
     "execution_count": 3,
     "metadata": {},
     "output_type": "execute_result"
    }
   ],
   "source": [
    "projects.loc[0:4]"
   ]
  },
  {
   "cell_type": "markdown",
   "metadata": {
    "id": "O5zgbCsoYkvO"
   },
   "source": [
    "In this case we only have unique values of each one of the attributes, so we do not perform any description of this table."
   ]
  }
 ],
 "metadata": {
  "colab": {
   "collapsed_sections": [],
   "name": "projects.ipynb",
   "provenance": []
  },
  "kernelspec": {
   "display_name": "Python 3",
   "language": "python",
   "name": "python3"
  },
  "language_info": {
   "codemirror_mode": {
    "name": "ipython",
    "version": 3
   },
   "file_extension": ".py",
   "mimetype": "text/x-python",
   "name": "python",
   "nbconvert_exporter": "python",
   "pygments_lexer": "ipython3",
   "version": "3.8.3"
  }
 },
 "nbformat": 4,
 "nbformat_minor": 1
}
