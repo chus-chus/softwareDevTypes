{
 "cells": [
  {
   "cell_type": "markdown",
   "metadata": {
    "id": "7j0l_kZWjiG6"
   },
   "source": [
    "# **Modelling developer profiles**\n",
    "-------------------------------------------\n",
    "\n",
    "## *TAED2, GCED, UPC BarcelonaTech*\n",
    "#### *Jesus Antonanzas, Cristina Aguilera, Laia Albors, Sonia Rabanaque*\n",
    "#### *16-10-2020*\n",
    "------------------------------------------"
   ]
  },
  {
   "cell_type": "markdown",
   "metadata": {
    "id": "xaw_clRbttqM"
   },
   "source": [
    "# 0. Objectives and procedure\n",
    "This notebook consists in the modeling of the clean, prepared TechDebt dataset, with objective of extracting meaningful clusters that group developer profiles. The structure is as follows:\n",
    "\n",
    "1. **Simple Feature Selection**: we try to filter features that are not relevant.\n",
    "2. **Clustering (with PCA)**:  \n",
    "  2.1. **Dimensionality Reduction with PCA**: meaningful 'Principal Components' are extracted from the data and an appropiate number of them is selected.  \n",
    "  2.2. **KMeans over PCA**: we fit a clustering model over the data projected onto the selected principal components. We also try to pick an appropiate number of clusters.  \n",
    "  2.3. **Explaining the clusters (with PCA)**: we try to relate the clusters found in 2.2. (which were in the 'Principal Component' space) to the original features.\n",
    "3. **Clustering (with tSVD)**: with the same subsections as section 2, but having reduced the dimensionality of the data with Truncated SVD instead of PCA.\n",
    "\n",
    "As output, we have extracted two CSV files containing the mean characteristics of each developer cluster extracted from sections 2 and 3 to power analyses in the next project step (Evaluation).\n",
    "\n",
    "Note that we have allowed for reproducible results setting random states as constants. "
   ]
  },
  {
   "cell_type": "code",
   "execution_count": 6,
   "metadata": {},
   "outputs": [
    {
     "name": "stdout",
     "output_type": "stream",
     "text": [
      "Requirement already satisfied: altair in /Users/laiaalborszumel/opt/anaconda3/lib/python3.8/site-packages (4.1.0)\n",
      "Requirement already satisfied: pandas>=0.18 in /Users/laiaalborszumel/opt/anaconda3/lib/python3.8/site-packages (from altair) (1.0.5)\n",
      "Requirement already satisfied: numpy in /Users/laiaalborszumel/opt/anaconda3/lib/python3.8/site-packages (from altair) (1.18.5)\n",
      "Requirement already satisfied: jinja2 in /Users/laiaalborszumel/opt/anaconda3/lib/python3.8/site-packages (from altair) (2.11.2)\n",
      "Requirement already satisfied: entrypoints in /Users/laiaalborszumel/opt/anaconda3/lib/python3.8/site-packages (from altair) (0.3)\n",
      "Requirement already satisfied: toolz in /Users/laiaalborszumel/opt/anaconda3/lib/python3.8/site-packages (from altair) (0.10.0)\n",
      "Requirement already satisfied: jsonschema in /Users/laiaalborszumel/opt/anaconda3/lib/python3.8/site-packages (from altair) (3.2.0)\n",
      "Requirement already satisfied: pytz>=2017.2 in /Users/laiaalborszumel/opt/anaconda3/lib/python3.8/site-packages (from pandas>=0.18->altair) (2020.1)\n",
      "Requirement already satisfied: python-dateutil>=2.6.1 in /Users/laiaalborszumel/opt/anaconda3/lib/python3.8/site-packages (from pandas>=0.18->altair) (2.8.1)\n",
      "Requirement already satisfied: MarkupSafe>=0.23 in /Users/laiaalborszumel/opt/anaconda3/lib/python3.8/site-packages (from jinja2->altair) (1.1.1)\n",
      "Requirement already satisfied: attrs>=17.4.0 in /Users/laiaalborszumel/opt/anaconda3/lib/python3.8/site-packages (from jsonschema->altair) (19.3.0)\n",
      "Requirement already satisfied: setuptools in /Users/laiaalborszumel/opt/anaconda3/lib/python3.8/site-packages (from jsonschema->altair) (49.2.0.post20200714)\n",
      "Requirement already satisfied: pyrsistent>=0.14.0 in /Users/laiaalborszumel/opt/anaconda3/lib/python3.8/site-packages (from jsonschema->altair) (0.16.0)\n",
      "Requirement already satisfied: six>=1.11.0 in /Users/laiaalborszumel/opt/anaconda3/lib/python3.8/site-packages (from jsonschema->altair) (1.15.0)\n"
     ]
    }
   ],
   "source": [
    "!pip install altair"
   ]
  },
  {
   "cell_type": "code",
   "execution_count": 7,
   "metadata": {
    "executionInfo": {
     "elapsed": 1877,
     "status": "ok",
     "timestamp": 1603623748544,
     "user": {
      "displayName": "Jesus Maria Antoñanzas Acero",
      "photoUrl": "",
      "userId": "12567364426497915232"
     },
     "user_tz": -60
    },
    "id": "8mBq2kL7jlpP"
   },
   "outputs": [],
   "source": [
    "from sklearn import cluster, decomposition, preprocessing, feature_selection\n",
    "import pandas as pd\n",
    "import numpy as np\n",
    "import matplotlib.pyplot as plt\n",
    "from mpl_toolkits.mplot3d import Axes3D\n",
    "import altair as alt"
   ]
  },
  {
   "cell_type": "markdown",
   "metadata": {
    "id": "xP5hLMxEocW3"
   },
   "source": [
    "Ingest from the previous 'Data Preparation' step."
   ]
  },
  {
   "cell_type": "code",
   "execution_count": 8,
   "metadata": {
    "executionInfo": {
     "elapsed": 1062,
     "status": "ok",
     "timestamp": 1603623751076,
     "user": {
      "displayName": "Jesus Maria Antoñanzas Acero",
      "photoUrl": "",
      "userId": "12567364426497915232"
     },
     "user_tz": -60
    },
    "id": "lDt6F5x2kDNS"
   },
   "outputs": [],
   "source": [
    "devs = pd.read_csv('../../data/processed/DEVELOPERS_DATA.csv')"
   ]
  },
  {
   "cell_type": "code",
   "execution_count": 9,
   "metadata": {
    "colab": {
     "base_uri": "https://localhost:8080/",
     "height": 363
    },
    "executionInfo": {
     "elapsed": 895,
     "status": "ok",
     "timestamp": 1603623753999,
     "user": {
      "displayName": "Jesus Maria Antoñanzas Acero",
      "photoUrl": "",
      "userId": "12567364426497915232"
     },
     "user_tz": -60
    },
    "id": "CV3sQSRHk6nB",
    "outputId": "a94b2865-f771-4cde-c728-bc8f3f0addb2"
   },
   "outputs": [
    {
     "data": {
      "text/html": [
       "<div>\n",
       "<style scoped>\n",
       "    .dataframe tbody tr th:only-of-type {\n",
       "        vertical-align: middle;\n",
       "    }\n",
       "\n",
       "    .dataframe tbody tr th {\n",
       "        vertical-align: top;\n",
       "    }\n",
       "\n",
       "    .dataframe thead th {\n",
       "        text-align: right;\n",
       "    }\n",
       "</style>\n",
       "<table border=\"1\" class=\"dataframe\">\n",
       "  <thead>\n",
       "    <tr style=\"text-align: right;\">\n",
       "      <th></th>\n",
       "      <th>Unnamed: 0</th>\n",
       "      <th>numberCommits</th>\n",
       "      <th>fixedSZZIssues</th>\n",
       "      <th>fixedSonarIssues</th>\n",
       "      <th>fixedJiraIssues</th>\n",
       "      <th>inducedSZZIssues</th>\n",
       "      <th>inducedSonarIssues</th>\n",
       "      <th>timeInProject</th>\n",
       "      <th>resolutionTime</th>\n",
       "      <th>jiraBug</th>\n",
       "      <th>...</th>\n",
       "      <th>codeSecurityRemediationEffort</th>\n",
       "      <th>sonarDebt</th>\n",
       "      <th>sonarCloseTime</th>\n",
       "      <th>sonarBug</th>\n",
       "      <th>sonarCodeSmell</th>\n",
       "      <th>sonarVulnerability</th>\n",
       "      <th>sonarBlocker</th>\n",
       "      <th>sonarCritical</th>\n",
       "      <th>sonarInfo</th>\n",
       "      <th>sonarMajor</th>\n",
       "    </tr>\n",
       "  </thead>\n",
       "  <tbody>\n",
       "    <tr>\n",
       "      <th>count</th>\n",
       "      <td>2460.000000</td>\n",
       "      <td>2460.00000</td>\n",
       "      <td>2460.000000</td>\n",
       "      <td>2460.000000</td>\n",
       "      <td>2460.000000</td>\n",
       "      <td>2460.000000</td>\n",
       "      <td>2460.000000</td>\n",
       "      <td>2.460000e+03</td>\n",
       "      <td>2460.000000</td>\n",
       "      <td>2460.000000</td>\n",
       "      <td>...</td>\n",
       "      <td>2460.000000</td>\n",
       "      <td>2460.000000</td>\n",
       "      <td>2460.000000</td>\n",
       "      <td>2460.000000</td>\n",
       "      <td>2460.000000</td>\n",
       "      <td>2460.000000</td>\n",
       "      <td>2460.000000</td>\n",
       "      <td>2460.000000</td>\n",
       "      <td>2460.000000</td>\n",
       "      <td>2460.000000</td>\n",
       "    </tr>\n",
       "    <tr>\n",
       "      <th>mean</th>\n",
       "      <td>1229.500000</td>\n",
       "      <td>57.17561</td>\n",
       "      <td>3.470732</td>\n",
       "      <td>6.293902</td>\n",
       "      <td>18.964228</td>\n",
       "      <td>0.271545</td>\n",
       "      <td>7.814228</td>\n",
       "      <td>1.662980e+07</td>\n",
       "      <td>5487.654053</td>\n",
       "      <td>11.496748</td>\n",
       "      <td>...</td>\n",
       "      <td>66.817073</td>\n",
       "      <td>203.145705</td>\n",
       "      <td>5189.473071</td>\n",
       "      <td>7.682520</td>\n",
       "      <td>595.684959</td>\n",
       "      <td>19.313008</td>\n",
       "      <td>5.756504</td>\n",
       "      <td>47.157724</td>\n",
       "      <td>14.806911</td>\n",
       "      <td>319.979675</td>\n",
       "    </tr>\n",
       "    <tr>\n",
       "      <th>std</th>\n",
       "      <td>710.285154</td>\n",
       "      <td>288.53359</td>\n",
       "      <td>26.025990</td>\n",
       "      <td>39.785509</td>\n",
       "      <td>86.742777</td>\n",
       "      <td>2.182839</td>\n",
       "      <td>50.255282</td>\n",
       "      <td>4.410435e+07</td>\n",
       "      <td>11647.773387</td>\n",
       "      <td>60.811100</td>\n",
       "      <td>...</td>\n",
       "      <td>1153.072760</td>\n",
       "      <td>3547.579331</td>\n",
       "      <td>16731.385667</td>\n",
       "      <td>133.585483</td>\n",
       "      <td>10372.283059</td>\n",
       "      <td>430.049277</td>\n",
       "      <td>170.966172</td>\n",
       "      <td>911.751724</td>\n",
       "      <td>334.961268</td>\n",
       "      <td>5556.044133</td>\n",
       "    </tr>\n",
       "    <tr>\n",
       "      <th>min</th>\n",
       "      <td>0.000000</td>\n",
       "      <td>0.00000</td>\n",
       "      <td>0.000000</td>\n",
       "      <td>0.000000</td>\n",
       "      <td>0.000000</td>\n",
       "      <td>0.000000</td>\n",
       "      <td>0.000000</td>\n",
       "      <td>0.000000e+00</td>\n",
       "      <td>0.000000</td>\n",
       "      <td>0.000000</td>\n",
       "      <td>...</td>\n",
       "      <td>-3965.000000</td>\n",
       "      <td>0.000000</td>\n",
       "      <td>0.000000</td>\n",
       "      <td>0.000000</td>\n",
       "      <td>0.000000</td>\n",
       "      <td>0.000000</td>\n",
       "      <td>0.000000</td>\n",
       "      <td>0.000000</td>\n",
       "      <td>0.000000</td>\n",
       "      <td>0.000000</td>\n",
       "    </tr>\n",
       "    <tr>\n",
       "      <th>25%</th>\n",
       "      <td>614.750000</td>\n",
       "      <td>0.00000</td>\n",
       "      <td>0.000000</td>\n",
       "      <td>0.000000</td>\n",
       "      <td>0.000000</td>\n",
       "      <td>0.000000</td>\n",
       "      <td>0.000000</td>\n",
       "      <td>0.000000e+00</td>\n",
       "      <td>0.000000</td>\n",
       "      <td>0.000000</td>\n",
       "      <td>...</td>\n",
       "      <td>0.000000</td>\n",
       "      <td>0.000000</td>\n",
       "      <td>0.000000</td>\n",
       "      <td>0.000000</td>\n",
       "      <td>0.000000</td>\n",
       "      <td>0.000000</td>\n",
       "      <td>0.000000</td>\n",
       "      <td>0.000000</td>\n",
       "      <td>0.000000</td>\n",
       "      <td>0.000000</td>\n",
       "    </tr>\n",
       "    <tr>\n",
       "      <th>50%</th>\n",
       "      <td>1229.500000</td>\n",
       "      <td>0.00000</td>\n",
       "      <td>0.000000</td>\n",
       "      <td>0.000000</td>\n",
       "      <td>1.000000</td>\n",
       "      <td>0.000000</td>\n",
       "      <td>0.000000</td>\n",
       "      <td>0.000000e+00</td>\n",
       "      <td>430.138474</td>\n",
       "      <td>0.000000</td>\n",
       "      <td>...</td>\n",
       "      <td>0.000000</td>\n",
       "      <td>0.000000</td>\n",
       "      <td>0.000000</td>\n",
       "      <td>0.000000</td>\n",
       "      <td>0.000000</td>\n",
       "      <td>0.000000</td>\n",
       "      <td>0.000000</td>\n",
       "      <td>0.000000</td>\n",
       "      <td>0.000000</td>\n",
       "      <td>0.000000</td>\n",
       "    </tr>\n",
       "    <tr>\n",
       "      <th>75%</th>\n",
       "      <td>1844.250000</td>\n",
       "      <td>6.00000</td>\n",
       "      <td>0.000000</td>\n",
       "      <td>0.000000</td>\n",
       "      <td>5.000000</td>\n",
       "      <td>0.000000</td>\n",
       "      <td>0.000000</td>\n",
       "      <td>4.171151e+06</td>\n",
       "      <td>4881.491597</td>\n",
       "      <td>2.000000</td>\n",
       "      <td>...</td>\n",
       "      <td>0.000000</td>\n",
       "      <td>0.000000</td>\n",
       "      <td>0.000000</td>\n",
       "      <td>0.000000</td>\n",
       "      <td>0.000000</td>\n",
       "      <td>0.000000</td>\n",
       "      <td>0.000000</td>\n",
       "      <td>0.000000</td>\n",
       "      <td>0.000000</td>\n",
       "      <td>0.000000</td>\n",
       "    </tr>\n",
       "    <tr>\n",
       "      <th>max</th>\n",
       "      <td>2459.000000</td>\n",
       "      <td>5627.00000</td>\n",
       "      <td>560.000000</td>\n",
       "      <td>945.000000</td>\n",
       "      <td>1557.000000</td>\n",
       "      <td>61.000000</td>\n",
       "      <td>1542.000000</td>\n",
       "      <td>4.130488e+08</td>\n",
       "      <td>99715.946667</td>\n",
       "      <td>1531.000000</td>\n",
       "      <td>...</td>\n",
       "      <td>47210.000000</td>\n",
       "      <td>119858.883333</td>\n",
       "      <td>155108.603611</td>\n",
       "      <td>5425.000000</td>\n",
       "      <td>405060.000000</td>\n",
       "      <td>19973.000000</td>\n",
       "      <td>8333.000000</td>\n",
       "      <td>38278.000000</td>\n",
       "      <td>12382.000000</td>\n",
       "      <td>219671.000000</td>\n",
       "    </tr>\n",
       "  </tbody>\n",
       "</table>\n",
       "<p>8 rows × 95 columns</p>\n",
       "</div>"
      ],
      "text/plain": [
       "        Unnamed: 0  numberCommits  fixedSZZIssues  fixedSonarIssues  \\\n",
       "count  2460.000000     2460.00000     2460.000000       2460.000000   \n",
       "mean   1229.500000       57.17561        3.470732          6.293902   \n",
       "std     710.285154      288.53359       26.025990         39.785509   \n",
       "min       0.000000        0.00000        0.000000          0.000000   \n",
       "25%     614.750000        0.00000        0.000000          0.000000   \n",
       "50%    1229.500000        0.00000        0.000000          0.000000   \n",
       "75%    1844.250000        6.00000        0.000000          0.000000   \n",
       "max    2459.000000     5627.00000      560.000000        945.000000   \n",
       "\n",
       "       fixedJiraIssues  inducedSZZIssues  inducedSonarIssues  timeInProject  \\\n",
       "count      2460.000000       2460.000000         2460.000000   2.460000e+03   \n",
       "mean         18.964228          0.271545            7.814228   1.662980e+07   \n",
       "std          86.742777          2.182839           50.255282   4.410435e+07   \n",
       "min           0.000000          0.000000            0.000000   0.000000e+00   \n",
       "25%           0.000000          0.000000            0.000000   0.000000e+00   \n",
       "50%           1.000000          0.000000            0.000000   0.000000e+00   \n",
       "75%           5.000000          0.000000            0.000000   4.171151e+06   \n",
       "max        1557.000000         61.000000         1542.000000   4.130488e+08   \n",
       "\n",
       "       resolutionTime      jiraBug  ...  codeSecurityRemediationEffort  \\\n",
       "count     2460.000000  2460.000000  ...                    2460.000000   \n",
       "mean      5487.654053    11.496748  ...                      66.817073   \n",
       "std      11647.773387    60.811100  ...                    1153.072760   \n",
       "min          0.000000     0.000000  ...                   -3965.000000   \n",
       "25%          0.000000     0.000000  ...                       0.000000   \n",
       "50%        430.138474     0.000000  ...                       0.000000   \n",
       "75%       4881.491597     2.000000  ...                       0.000000   \n",
       "max      99715.946667  1531.000000  ...                   47210.000000   \n",
       "\n",
       "           sonarDebt  sonarCloseTime     sonarBug  sonarCodeSmell  \\\n",
       "count    2460.000000     2460.000000  2460.000000     2460.000000   \n",
       "mean      203.145705     5189.473071     7.682520      595.684959   \n",
       "std      3547.579331    16731.385667   133.585483    10372.283059   \n",
       "min         0.000000        0.000000     0.000000        0.000000   \n",
       "25%         0.000000        0.000000     0.000000        0.000000   \n",
       "50%         0.000000        0.000000     0.000000        0.000000   \n",
       "75%         0.000000        0.000000     0.000000        0.000000   \n",
       "max    119858.883333   155108.603611  5425.000000   405060.000000   \n",
       "\n",
       "       sonarVulnerability  sonarBlocker  sonarCritical     sonarInfo  \\\n",
       "count         2460.000000   2460.000000    2460.000000   2460.000000   \n",
       "mean            19.313008      5.756504      47.157724     14.806911   \n",
       "std            430.049277    170.966172     911.751724    334.961268   \n",
       "min              0.000000      0.000000       0.000000      0.000000   \n",
       "25%              0.000000      0.000000       0.000000      0.000000   \n",
       "50%              0.000000      0.000000       0.000000      0.000000   \n",
       "75%              0.000000      0.000000       0.000000      0.000000   \n",
       "max          19973.000000   8333.000000   38278.000000  12382.000000   \n",
       "\n",
       "          sonarMajor  \n",
       "count    2460.000000  \n",
       "mean      319.979675  \n",
       "std      5556.044133  \n",
       "min         0.000000  \n",
       "25%         0.000000  \n",
       "50%         0.000000  \n",
       "75%         0.000000  \n",
       "max    219671.000000  \n",
       "\n",
       "[8 rows x 95 columns]"
      ]
     },
     "execution_count": 9,
     "metadata": {},
     "output_type": "execute_result"
    }
   ],
   "source": [
    "devs.describe()"
   ]
  },
  {
   "cell_type": "code",
   "execution_count": 10,
   "metadata": {
    "colab": {
     "base_uri": "https://localhost:8080/",
     "height": 34
    },
    "executionInfo": {
     "elapsed": 888,
     "status": "ok",
     "timestamp": 1603623760290,
     "user": {
      "displayName": "Jesus Maria Antoñanzas Acero",
      "photoUrl": "",
      "userId": "12567364426497915232"
     },
     "user_tz": -60
    },
    "id": "46KKZE_rraXX",
    "outputId": "7f5bdc02-638f-4ba7-9a05-383e4519a139"
   },
   "outputs": [
    {
     "data": {
      "text/plain": [
       "2460"
      ]
     },
     "execution_count": 10,
     "metadata": {},
     "output_type": "execute_result"
    }
   ],
   "source": [
    "len(devs)"
   ]
  },
  {
   "cell_type": "markdown",
   "metadata": {
    "id": "3iNYQVG-kH5e"
   },
   "source": [
    "# 1. Simple feature selection"
   ]
  },
  {
   "cell_type": "markdown",
   "metadata": {
    "id": "1fLD6ShOoodM"
   },
   "source": [
    "We try to select features that are most important in the dataset. First, though, we need to normalize the attributes."
   ]
  },
  {
   "cell_type": "code",
   "execution_count": 11,
   "metadata": {
    "executionInfo": {
     "elapsed": 1204,
     "status": "ok",
     "timestamp": 1603623762494,
     "user": {
      "displayName": "Jesus Maria Antoñanzas Acero",
      "photoUrl": "",
      "userId": "12567364426497915232"
     },
     "user_tz": -60
    },
    "id": "7mVpV9WeqF0D"
   },
   "outputs": [],
   "source": [
    "minMaxScaler = preprocessing.MinMaxScaler()\n",
    "devsScaled = minMaxScaler.fit_transform(devs.drop(['committer', 'Unnamed: 0'], axis=1))"
   ]
  },
  {
   "cell_type": "markdown",
   "metadata": {
    "id": "gV1NnO_PK1gj"
   },
   "source": [
    "Let's try to perform simple feature selection:"
   ]
  },
  {
   "cell_type": "code",
   "execution_count": 12,
   "metadata": {
    "colab": {
     "base_uri": "https://localhost:8080/",
     "height": 34
    },
    "executionInfo": {
     "elapsed": 863,
     "status": "ok",
     "timestamp": 1603623764180,
     "user": {
      "displayName": "Jesus Maria Antoñanzas Acero",
      "photoUrl": "",
      "userId": "12567364426497915232"
     },
     "user_tz": -60
    },
    "id": "ZDdsy0lJK8nd",
    "outputId": "f26b4a1e-c21c-4ec4-f1a2-172bd2a0acc3"
   },
   "outputs": [
    {
     "data": {
      "text/plain": [
       "93"
      ]
     },
     "execution_count": 12,
     "metadata": {},
     "output_type": "execute_result"
    }
   ],
   "source": [
    "# Variance selection, the same % of variability that the first 9 PCA components accounted for.\n",
    "featureSelector = feature_selection.VarianceThreshold()\n",
    "res = featureSelector.fit_transform(devsScaled)\n",
    "len(res[0])"
   ]
  },
  {
   "cell_type": "markdown",
   "metadata": {
    "id": "Uc3ZfTGQLDqo"
   },
   "source": [
    "Only removes one feature, meanining that almost all of them account for some variance. Moreover, if we try to delete features that account for less than say 5% of variance:"
   ]
  },
  {
   "cell_type": "code",
   "execution_count": 13,
   "metadata": {
    "colab": {
     "base_uri": "https://localhost:8080/",
     "height": 324
    },
    "executionInfo": {
     "elapsed": 1205,
     "status": "error",
     "timestamp": 1603623765807,
     "user": {
      "displayName": "Jesus Maria Antoñanzas Acero",
      "photoUrl": "",
      "userId": "12567364426497915232"
     },
     "user_tz": -60
    },
    "id": "NJftCN2tLHNx",
    "outputId": "63896089-d828-4167-b8cf-b8aa1ff4540f"
   },
   "outputs": [
    {
     "ename": "ValueError",
     "evalue": "No feature in X meets the variance threshold 0.05000",
     "output_type": "error",
     "traceback": [
      "\u001b[0;31m---------------------------------------------------------------------------\u001b[0m",
      "\u001b[0;31mValueError\u001b[0m                                Traceback (most recent call last)",
      "\u001b[0;32m<ipython-input-13-22757b10936e>\u001b[0m in \u001b[0;36m<module>\u001b[0;34m\u001b[0m\n\u001b[1;32m      1\u001b[0m \u001b[0mfeatureSelector\u001b[0m \u001b[0;34m=\u001b[0m \u001b[0mfeature_selection\u001b[0m\u001b[0;34m.\u001b[0m\u001b[0mVarianceThreshold\u001b[0m\u001b[0;34m(\u001b[0m\u001b[0mthreshold\u001b[0m\u001b[0;34m=\u001b[0m\u001b[0;36m0.05\u001b[0m\u001b[0;34m)\u001b[0m\u001b[0;34m\u001b[0m\u001b[0;34m\u001b[0m\u001b[0m\n\u001b[0;32m----> 2\u001b[0;31m \u001b[0mfeatureSelector\u001b[0m\u001b[0;34m.\u001b[0m\u001b[0mfit_transform\u001b[0m\u001b[0;34m(\u001b[0m\u001b[0mdevsScaled\u001b[0m\u001b[0;34m)\u001b[0m\u001b[0;34m\u001b[0m\u001b[0;34m\u001b[0m\u001b[0m\n\u001b[0m",
      "\u001b[0;32m~/opt/anaconda3/lib/python3.8/site-packages/sklearn/base.py\u001b[0m in \u001b[0;36mfit_transform\u001b[0;34m(self, X, y, **fit_params)\u001b[0m\n\u001b[1;32m    688\u001b[0m         \u001b[0;32mif\u001b[0m \u001b[0my\u001b[0m \u001b[0;32mis\u001b[0m \u001b[0;32mNone\u001b[0m\u001b[0;34m:\u001b[0m\u001b[0;34m\u001b[0m\u001b[0;34m\u001b[0m\u001b[0m\n\u001b[1;32m    689\u001b[0m             \u001b[0;31m# fit method of arity 1 (unsupervised transformation)\u001b[0m\u001b[0;34m\u001b[0m\u001b[0;34m\u001b[0m\u001b[0;34m\u001b[0m\u001b[0m\n\u001b[0;32m--> 690\u001b[0;31m             \u001b[0;32mreturn\u001b[0m \u001b[0mself\u001b[0m\u001b[0;34m.\u001b[0m\u001b[0mfit\u001b[0m\u001b[0;34m(\u001b[0m\u001b[0mX\u001b[0m\u001b[0;34m,\u001b[0m \u001b[0;34m**\u001b[0m\u001b[0mfit_params\u001b[0m\u001b[0;34m)\u001b[0m\u001b[0;34m.\u001b[0m\u001b[0mtransform\u001b[0m\u001b[0;34m(\u001b[0m\u001b[0mX\u001b[0m\u001b[0;34m)\u001b[0m\u001b[0;34m\u001b[0m\u001b[0;34m\u001b[0m\u001b[0m\n\u001b[0m\u001b[1;32m    691\u001b[0m         \u001b[0;32melse\u001b[0m\u001b[0;34m:\u001b[0m\u001b[0;34m\u001b[0m\u001b[0;34m\u001b[0m\u001b[0m\n\u001b[1;32m    692\u001b[0m             \u001b[0;31m# fit method of arity 2 (supervised transformation)\u001b[0m\u001b[0;34m\u001b[0m\u001b[0;34m\u001b[0m\u001b[0;34m\u001b[0m\u001b[0m\n",
      "\u001b[0;32m~/opt/anaconda3/lib/python3.8/site-packages/sklearn/feature_selection/_variance_threshold.py\u001b[0m in \u001b[0;36mfit\u001b[0;34m(self, X, y)\u001b[0m\n\u001b[1;32m     90\u001b[0m             \u001b[0;32mif\u001b[0m \u001b[0mX\u001b[0m\u001b[0;34m.\u001b[0m\u001b[0mshape\u001b[0m\u001b[0;34m[\u001b[0m\u001b[0;36m0\u001b[0m\u001b[0;34m]\u001b[0m \u001b[0;34m==\u001b[0m \u001b[0;36m1\u001b[0m\u001b[0;34m:\u001b[0m\u001b[0;34m\u001b[0m\u001b[0;34m\u001b[0m\u001b[0m\n\u001b[1;32m     91\u001b[0m                 \u001b[0mmsg\u001b[0m \u001b[0;34m+=\u001b[0m \u001b[0;34m\" (X contains only one sample)\"\u001b[0m\u001b[0;34m\u001b[0m\u001b[0;34m\u001b[0m\u001b[0m\n\u001b[0;32m---> 92\u001b[0;31m             \u001b[0;32mraise\u001b[0m \u001b[0mValueError\u001b[0m\u001b[0;34m(\u001b[0m\u001b[0mmsg\u001b[0m\u001b[0;34m.\u001b[0m\u001b[0mformat\u001b[0m\u001b[0;34m(\u001b[0m\u001b[0mself\u001b[0m\u001b[0;34m.\u001b[0m\u001b[0mthreshold\u001b[0m\u001b[0;34m)\u001b[0m\u001b[0;34m)\u001b[0m\u001b[0;34m\u001b[0m\u001b[0;34m\u001b[0m\u001b[0m\n\u001b[0m\u001b[1;32m     93\u001b[0m \u001b[0;34m\u001b[0m\u001b[0m\n\u001b[1;32m     94\u001b[0m         \u001b[0;32mreturn\u001b[0m \u001b[0mself\u001b[0m\u001b[0;34m\u001b[0m\u001b[0;34m\u001b[0m\u001b[0m\n",
      "\u001b[0;31mValueError\u001b[0m: No feature in X meets the variance threshold 0.05000"
     ]
    }
   ],
   "source": [
    "featureSelector = feature_selection.VarianceThreshold(threshold=0.05)\n",
    "featureSelector.fit_transform(devsScaled)"
   ]
  },
  {
   "cell_type": "markdown",
   "metadata": {
    "id": "AndO67YsLMN4"
   },
   "source": [
    "(intended to fail) Not 1 feature does so, which means that each of the other 83 features accounts for less than 5% of variance. So, no feature selection will be good enough here."
   ]
  },
  {
   "cell_type": "markdown",
   "metadata": {
    "id": "xYD8FKSqQ5kG"
   },
   "source": [
    "With 83 features, it is difficult to cluster appropiately because of the 'curse of dimensionality' and because euclidian distance diverges (and it's the distance used in many popular clustering techniques), among other reasons. We need to somehow reduce the feature space."
   ]
  },
  {
   "cell_type": "markdown",
   "metadata": {
    "id": "rPEcHYNOkNUU"
   },
   "source": [
    "# 2. Dimensionality reduction with PCA"
   ]
  },
  {
   "cell_type": "markdown",
   "metadata": {
    "id": "dUgjndOYl9Sb"
   },
   "source": [
    "We picked PCA because of its simplicity and interpretable results. That is, it looks for orthonormal vectors ('Principal Components' or 'PCs') from linear relations between the data features that maximize the variance."
   ]
  },
  {
   "cell_type": "code",
   "execution_count": 14,
   "metadata": {
    "colab": {
     "base_uri": "https://localhost:8080/",
     "height": 282
    },
    "executionInfo": {
     "elapsed": 1329,
     "status": "ok",
     "timestamp": 1603623768391,
     "user": {
      "displayName": "Jesus Maria Antoñanzas Acero",
      "photoUrl": "",
      "userId": "12567364426497915232"
     },
     "user_tz": -60
    },
    "id": "4gf0HWlHzqpi",
    "outputId": "6611b955-abe6-4097-83f6-b7f8b174235d"
   },
   "outputs": [
    {
     "data": {
      "text/plain": [
       "[<matplotlib.lines.Line2D at 0x7fe370ca36a0>]"
      ]
     },
     "execution_count": 14,
     "metadata": {},
     "output_type": "execute_result"
    },
    {
     "data": {
      "image/png": "[encoded data removed]",
      "text/plain": [
       "<Figure size 432x288 with 1 Axes>"
      ]
     },
     "metadata": {
      "needs_background": "light"
     },
     "output_type": "display_data"
    }
   ],
   "source": [
    "pca = decomposition.PCA(random_state=888)\n",
    "devPCA = pca.fit(devsScaled)\n",
    "comps = devPCA.components_\n",
    "compsVariance = devPCA.explained_variance_\n",
    "compsVarRatio = devPCA.explained_variance_ratio_\n",
    "\n",
    "plt.plot(compsVarRatio)"
   ]
  },
  {
   "cell_type": "code",
   "execution_count": 15,
   "metadata": {
    "colab": {
     "base_uri": "https://localhost:8080/",
     "height": 34
    },
    "executionInfo": {
     "elapsed": 1159,
     "status": "ok",
     "timestamp": 1603623768392,
     "user": {
      "displayName": "Jesus Maria Antoñanzas Acero",
      "photoUrl": "",
      "userId": "12567364426497915232"
     },
     "user_tz": -60
    },
    "id": "6xAG6_3a0qrl",
    "outputId": "bd3b232b-236d-4298-ca86-1721c0b9f054"
   },
   "outputs": [
    {
     "name": "stdout",
     "output_type": "stream",
     "text": [
      "9\n"
     ]
    }
   ],
   "source": [
    "# Pick components that account for x% of variability\n",
    "cumSum = 0\n",
    "nComps = 0\n",
    "x = 0.75\n",
    "for varExplained in compsVarRatio:\n",
    "  cumSum += varExplained\n",
    "  if cumSum >= x:\n",
    "    break\n",
    "  else:\n",
    "    nComps += 1\n",
    "print(nComps)"
   ]
  },
  {
   "cell_type": "markdown",
   "metadata": {
    "id": "6duA4jej-cbQ"
   },
   "source": [
    "Thus, 9 components explain 75% of variability in our data"
   ]
  },
  {
   "cell_type": "code",
   "execution_count": 16,
   "metadata": {
    "executionInfo": {
     "elapsed": 1676,
     "status": "ok",
     "timestamp": 1603623769237,
     "user": {
      "displayName": "Jesus Maria Antoñanzas Acero",
      "photoUrl": "",
      "userId": "12567364426497915232"
     },
     "user_tz": -60
    },
    "id": "ZTHfs0ddzIGt"
   },
   "outputs": [],
   "source": [
    "projectedPoints = devPCA.transform(devsScaled)\n",
    "importantDims = projectedPoints[:,:9]"
   ]
  },
  {
   "cell_type": "markdown",
   "metadata": {
    "id": "Npeq0e9iksqg"
   },
   "source": [
    "# 2.1. Clustering over the Principal Components"
   ]
  },
  {
   "cell_type": "markdown",
   "metadata": {
    "id": "tLK1bfF1kxpa"
   },
   "source": [
    "Let us find an appropiate number of clusters."
   ]
  },
  {
   "cell_type": "code",
   "execution_count": 17,
   "metadata": {
    "colab": {
     "base_uri": "https://localhost:8080/",
     "height": 295
    },
    "executionInfo": {
     "elapsed": 5122,
     "status": "ok",
     "timestamp": 1603623773281,
     "user": {
      "displayName": "Jesus Maria Antoñanzas Acero",
      "photoUrl": "",
      "userId": "12567364426497915232"
     },
     "user_tz": -60
    },
    "id": "Ayo350AYyDn7",
    "outputId": "bd0dc281-2754-4e27-8546-56dbf8b9d2f4"
   },
   "outputs": [
    {
     "data": {
      "image/png": "[encoded data removed]",
      "text/plain": [
       "<Figure size 432x288 with 1 Axes>"
      ]
     },
     "metadata": {
      "needs_background": "light"
     },
     "output_type": "display_data"
    }
   ],
   "source": [
    "Nc = range(1, 20)\n",
    "kmeans = [cluster.KMeans(n_clusters=i, random_state=888) for i in Nc]\n",
    "kmeans\n",
    "score = [kmeans[i].fit(importantDims).score(importantDims) for i in range(len(kmeans))]\n",
    "score\n",
    "plt.plot(Nc,score)\n",
    "plt.xlabel('Number of Clusters')\n",
    "plt.ylabel('Score')\n",
    "plt.title('Elbow Curve')\n",
    "plt.show()"
   ]
  },
  {
   "cell_type": "markdown",
   "metadata": {
    "id": "ZUrQhedX6SH7"
   },
   "source": [
    "5 or 6 clusters seem appropiate (we approximately look for the number of clusters that serves as an elbow point in the curve).   \n",
    "From [Wikipedia](https://en.wikipedia.org/wiki/Elbow_method_(clustering)#:~:text=In%20cluster%20analysis%2C%20the%20elbow,clusters%20in%20a%20data%20set.&text=The%20same%20method%20can%20be,to%20describe%20a%20data%20set): 'Using the \"elbow\" or \"knee of a curve\" as a cutoff point is a common heuristic in mathematical optimization to choose a point where diminishing returns are no longer worth the additional cost.'"
   ]
  },
  {
   "cell_type": "code",
   "execution_count": 18,
   "metadata": {
    "executionInfo": {
     "elapsed": 4746,
     "status": "ok",
     "timestamp": 1603623773281,
     "user": {
      "displayName": "Jesus Maria Antoñanzas Acero",
      "photoUrl": "",
      "userId": "12567364426497915232"
     },
     "user_tz": -60
    },
    "id": "sMwP915KlTJY"
   },
   "outputs": [],
   "source": [
    "def fitKMeansAndPlot(data, nClusters=3):\n",
    "  \"\"\"\n",
    "  Fits the data to a KMeans model and plots the result over the principal \n",
    "  components that explain the most variance.\n",
    "  \"\"\"\n",
    "  kmeans = cluster.KMeans(n_clusters=nClusters, random_state=888)\n",
    "  fittedKMeans = kmeans.fit(importantDims) \n",
    "  centroids = kmeans.cluster_centers_\n",
    "  labels = kmeans.predict(importantDims)\n",
    "\n",
    "  colors=['red', 'green', 'blue', 'yellow', 'black', 'gray']\n",
    "  colors = colors[:nClusters]\n",
    "  toAsign=[]\n",
    "  for row in labels:\n",
    "      toAsign.append(colors[row])\n",
    "\n",
    "  fig = plt.figure()\n",
    "  ax = Axes3D(fig)\n",
    "  ax.scatter(importantDims[:, 0], importantDims[:, 1], importantDims[:, 2], c=toAsign,s=60)\n",
    "  ax.scatter(centroids[:, 0], centroids[:, 1], centroids[:, 2], marker='*', c=colors, s=1000)\n",
    "\n",
    "  return labels, kmeans"
   ]
  },
  {
   "cell_type": "code",
   "execution_count": 19,
   "metadata": {
    "colab": {
     "base_uri": "https://localhost:8080/",
     "height": 319
    },
    "executionInfo": {
     "elapsed": 5059,
     "status": "ok",
     "timestamp": 1603623773796,
     "user": {
      "displayName": "Jesus Maria Antoñanzas Acero",
      "photoUrl": "",
      "userId": "12567364426497915232"
     },
     "user_tz": -60
    },
    "id": "NFAviJRIsqaf",
    "outputId": "12295945-1629-4e3d-8bcd-c7bc394b7d32"
   },
   "outputs": [
    {
     "data": {
      "image/png": "[encoded data removed]",
      "text/plain": [
       "<Figure size 432x288 with 1 Axes>"
      ]
     },
     "metadata": {
      "needs_background": "light"
     },
     "output_type": "display_data"
    }
   ],
   "source": [
    "labels, kmeans = fitKMeansAndPlot(importantDims, nClusters=5)"
   ]
  },
  {
   "cell_type": "code",
   "execution_count": 20,
   "metadata": {
    "colab": {
     "base_uri": "https://localhost:8080/",
     "height": 34
    },
    "executionInfo": {
     "elapsed": 4868,
     "status": "ok",
     "timestamp": 1603623773797,
     "user": {
      "displayName": "Jesus Maria Antoñanzas Acero",
      "photoUrl": "",
      "userId": "12567364426497915232"
     },
     "user_tz": -60
    },
    "id": "Kx2n4CuZTWls",
    "outputId": "ac145fdd-ec44-41a0-aae8-bc548e2a90b6"
   },
   "outputs": [
    {
     "name": "stdout",
     "output_type": "stream",
     "text": [
      "{1: 1950, 4: 239, 2: 15, 3: 36, 0: 225}\n"
     ]
    }
   ],
   "source": [
    "nLabels = dict()\n",
    "for label in labels:\n",
    "  if label not in nLabels:\n",
    "    nLabels[label] = 1\n",
    "  nLabels[label] += 1 \n",
    "print(nLabels)"
   ]
  },
  {
   "cell_type": "code",
   "execution_count": 21,
   "metadata": {
    "colab": {
     "base_uri": "https://localhost:8080/",
     "height": 319
    },
    "executionInfo": {
     "elapsed": 5237,
     "status": "ok",
     "timestamp": 1603623774373,
     "user": {
      "displayName": "Jesus Maria Antoñanzas Acero",
      "photoUrl": "",
      "userId": "12567364426497915232"
     },
     "user_tz": -60
    },
    "id": "dGTNNKPvpffD",
    "outputId": "ed9ed628-3995-4040-86ac-3e0d430c1aa0"
   },
   "outputs": [
    {
     "data": {
      "image/png": "[encoded data removed]",
      "text/plain": [
       "<Figure size 432x288 with 1 Axes>"
      ]
     },
     "metadata": {
      "needs_background": "light"
     },
     "output_type": "display_data"
    }
   ],
   "source": [
    "labels, kmeans = fitKMeansAndPlot(importantDims, nClusters=6)"
   ]
  },
  {
   "cell_type": "code",
   "execution_count": 22,
   "metadata": {
    "colab": {
     "base_uri": "https://localhost:8080/",
     "height": 34
    },
    "executionInfo": {
     "elapsed": 5040,
     "status": "ok",
     "timestamp": 1603623774374,
     "user": {
      "displayName": "Jesus Maria Antoñanzas Acero",
      "photoUrl": "",
      "userId": "12567364426497915232"
     },
     "user_tz": -60
    },
    "id": "_9ppYQEMxfY5",
    "outputId": "655a409d-809e-4085-b0dd-51e861aedb34"
   },
   "outputs": [
    {
     "name": "stdout",
     "output_type": "stream",
     "text": [
      "{0: 1954, 1: 241, 5: 2, 3: 10, 4: 35, 2: 224}\n"
     ]
    }
   ],
   "source": [
    "nLabels = dict()\n",
    "for label in labels:\n",
    "  if label not in nLabels:\n",
    "    nLabels[label] = 1\n",
    "  nLabels[label] += 1 \n",
    "print(nLabels)"
   ]
  },
  {
   "cell_type": "markdown",
   "metadata": {
    "id": "BTNCRB0Z7x0c"
   },
   "source": [
    "The majority of the authors correspond to a cluster. In the case of 6 clusters we see that one of them is comprised of 2 devs, which we do not see appropiate. Thus, we look for 5 clusters."
   ]
  },
  {
   "cell_type": "code",
   "execution_count": 23,
   "metadata": {
    "executionInfo": {
     "elapsed": 5056,
     "status": "ok",
     "timestamp": 1603623774770,
     "user": {
      "displayName": "Jesus Maria Antoñanzas Acero",
      "photoUrl": "",
      "userId": "12567364426497915232"
     },
     "user_tz": -60
    },
    "id": "reAZwslCT227"
   },
   "outputs": [],
   "source": [
    "kmeans = cluster.KMeans(n_clusters=5)\n",
    "kmeans.fit(importantDims)\n",
    "centroids = kmeans.cluster_centers_"
   ]
  },
  {
   "cell_type": "markdown",
   "metadata": {
    "id": "enEv7gQnkX8i"
   },
   "source": [
    "# 2.2. Interpreting 'PCA' clusters "
   ]
  },
  {
   "cell_type": "markdown",
   "metadata": {
    "id": "UQCJfqWbJb_-"
   },
   "source": [
    "Given the extracted clusters (centroids), we would like to compute the relative importance of each principal component. We do this by assigning a bigger weight to those components that have a bigger play in the centroid's vector representation norm. "
   ]
  },
  {
   "cell_type": "code",
   "execution_count": 24,
   "metadata": {
    "executionInfo": {
     "elapsed": 4468,
     "status": "ok",
     "timestamp": 1603623774771,
     "user": {
      "displayName": "Jesus Maria Antoñanzas Acero",
      "photoUrl": "",
      "userId": "12567364426497915232"
     },
     "user_tz": -60
    },
    "id": "062IdPbaLRdT"
   },
   "outputs": [],
   "source": [
    "def n_important_components(n=None, point=None):\n",
    "  \"\"\" \n",
    "  Returns the indices of the point's components and their percentage of \n",
    "  contribution to the norm.\n",
    "  \"\"\"\n",
    "  if n is None:\n",
    "    n = len(point)\n",
    "  point = np.abs(point)\n",
    "  percentages = np.array([])\n",
    "  total = np.sum(point)\n",
    "  if n > len(point):\n",
    "    raise Exception('Value for n too big.')\n",
    "  indices = np.argpartition(point, -n)[-n:]\n",
    "  sortedIndices = indices[np.argsort(-point[indices])]\n",
    "  percentages = np.round(point[sortedIndices] / total, 3)\n",
    "  return sortedIndices, percentages"
   ]
  },
  {
   "cell_type": "code",
   "execution_count": 25,
   "metadata": {
    "colab": {
     "base_uri": "https://localhost:8080/",
     "height": 34
    },
    "executionInfo": {
     "elapsed": 4270,
     "status": "ok",
     "timestamp": 1603623774771,
     "user": {
      "displayName": "Jesus Maria Antoñanzas Acero",
      "photoUrl": "",
      "userId": "12567364426497915232"
     },
     "user_tz": -60
    },
    "id": "5bFL3aw2PIEw",
    "outputId": "90d350d5-9522-45d6-e4df-4c656d47e9a5"
   },
   "outputs": [
    {
     "data": {
      "text/plain": [
       "(array([3, 0, 2, 1, 8]), array([0.299, 0.283, 0.208, 0.134, 0.028]))"
      ]
     },
     "execution_count": 25,
     "metadata": {},
     "output_type": "execute_result"
    }
   ],
   "source": [
    "n_important_components(5, centroids[0])"
   ]
  },
  {
   "cell_type": "markdown",
   "metadata": {
    "id": "U7EEkx-aTTyK"
   },
   "source": [
    "For example, the previous results tells us that the 5th most 'important' components to the point 'centroid[0]' are, in this order: 2, 0, 4, 1, 6"
   ]
  },
  {
   "cell_type": "markdown",
   "metadata": {
    "id": "jQGb464WF94A"
   },
   "source": [
    "Finally, we need to relate the PC's extracted from the dimensionality reduced data to the original features of the dataset (that is, characteristics of each author)."
   ]
  },
  {
   "cell_type": "code",
   "execution_count": 26,
   "metadata": {
    "executionInfo": {
     "elapsed": 3710,
     "status": "ok",
     "timestamp": 1603623774772,
     "user": {
      "displayName": "Jesus Maria Antoñanzas Acero",
      "photoUrl": "",
      "userId": "12567364426497915232"
     },
     "user_tz": -60
    },
    "id": "EbHbaCCUDMOU"
   },
   "outputs": [],
   "source": [
    " def correlated_features(component, dfNames, nFeatures=None):\n",
    "  \"\"\" \n",
    "  Returns a list with 'nFeatures' names of the most correlated features to the \n",
    "  specified principal component and their percentage of correlation associated.\n",
    "  The percentage does not take into account if the correlation is positive or \n",
    "  negative. Instead, we just want to characterize what features are most important \n",
    "  to a component.\n",
    "  \"\"\"\n",
    "  if nFeatures is None:\n",
    "    nFeatures = len(dfNames)\n",
    "  absComponent = np.abs(component)\n",
    "  i = 0\n",
    "  correlatedVars = []\n",
    "  totalCorrelation = np.sum(absComponent)\n",
    "  while i < nFeatures:\n",
    "    mostCorrelated = np.argmax(absComponent)\n",
    "    correlation = max(absComponent)\n",
    "    absComponent[mostCorrelated] = -np.inf\n",
    "    correlatedColumn = dfNames[mostCorrelated]\n",
    "    correlatedVars.append((correlatedColumn, round(correlation / totalCorrelation, 3)))\n",
    "    i += 1\n",
    "  return correlatedVars"
   ]
  },
  {
   "cell_type": "code",
   "execution_count": 27,
   "metadata": {
    "colab": {
     "base_uri": "https://localhost:8080/",
     "height": 102
    },
    "executionInfo": {
     "elapsed": 3518,
     "status": "ok",
     "timestamp": 1603623774773,
     "user": {
      "displayName": "Jesus Maria Antoñanzas Acero",
      "photoUrl": "",
      "userId": "12567364426497915232"
     },
     "user_tz": -60
    },
    "id": "Dvgc_delDvdt",
    "outputId": "bed75fcd-c611-42b5-97da-408e442064f6"
   },
   "outputs": [
    {
     "data": {
      "text/plain": [
       "[('timeInProject', 0.086),\n",
       " ('sonarCloseTime', 0.065),\n",
       " ('numberCommits', 0.037),\n",
       " ('resolutionTime', 0.036),\n",
       " ('fixedSonarIssues', 0.03)]"
      ]
     },
     "execution_count": 27,
     "metadata": {},
     "output_type": "execute_result"
    }
   ],
   "source": [
    "# first component, accounts for 20% of variability\n",
    "correlated_features(devPCA.components_[0], devs.columns[2:], 5)"
   ]
  },
  {
   "cell_type": "code",
   "execution_count": 28,
   "metadata": {
    "colab": {
     "base_uri": "https://localhost:8080/",
     "height": 102
    },
    "executionInfo": {
     "elapsed": 3323,
     "status": "ok",
     "timestamp": 1603623774774,
     "user": {
      "displayName": "Jesus Maria Antoñanzas Acero",
      "photoUrl": "",
      "userId": "12567364426497915232"
     },
     "user_tz": -60
    },
    "id": "YQT0oPj3EK_x",
    "outputId": "29f243f6-8d34-4b3d-84e5-3e043e3259d2"
   },
   "outputs": [
    {
     "data": {
      "text/plain": [
       "[('resolutionTime', 0.143),\n",
       " ('fixedJiraIssues', 0.07),\n",
       " ('jiraMajor', 0.048),\n",
       " ('jiraBug', 0.046),\n",
       " ('jiraBlocker', 0.046)]"
      ]
     },
     "execution_count": 28,
     "metadata": {},
     "output_type": "execute_result"
    }
   ],
   "source": [
    "# second component, accounts for roughly 13% of variability\n",
    "correlated_features(devPCA.components_[1], devs.columns[2:], 5)"
   ]
  },
  {
   "cell_type": "markdown",
   "metadata": {
    "id": "retW1-BJzbJ3"
   },
   "source": [
    "In the previous example we see that a cluster high in the 2nd component will have low resolution time."
   ]
  },
  {
   "cell_type": "code",
   "execution_count": 29,
   "metadata": {
    "colab": {
     "base_uri": "https://localhost:8080/",
     "height": 102
    },
    "executionInfo": {
     "elapsed": 2925,
     "status": "ok",
     "timestamp": 1603623774775,
     "user": {
      "displayName": "Jesus Maria Antoñanzas Acero",
      "photoUrl": "",
      "userId": "12567364426497915232"
     },
     "user_tz": -60
    },
    "id": "lgeYy8o4EcUS",
    "outputId": "151be913-3365-4312-ddde-2947623c8c23"
   },
   "outputs": [
    {
     "data": {
      "text/plain": [
       "[('resolutionTime', 0.087),\n",
       " ('fixedJiraIssues', 0.046),\n",
       " ('sonarCloseTime', 0.036),\n",
       " ('jiraMajor', 0.031),\n",
       " ('jiraMinor', 0.031)]"
      ]
     },
     "execution_count": 29,
     "metadata": {},
     "output_type": "execute_result"
    }
   ],
   "source": [
    "# third component, accounts for roughly 12% of variability\n",
    "correlated_features(devPCA.components_[2], devs.columns[2:], 5)"
   ]
  },
  {
   "cell_type": "markdown",
   "metadata": {
    "id": "nw74JK7WzpXw"
   },
   "source": [
    "A cluster high in the 3rd component will have high resolution time."
   ]
  },
  {
   "cell_type": "code",
   "execution_count": 30,
   "metadata": {
    "colab": {
     "base_uri": "https://localhost:8080/",
     "height": 102
    },
    "executionInfo": {
     "elapsed": 2538,
     "status": "ok",
     "timestamp": 1603623774775,
     "user": {
      "displayName": "Jesus Maria Antoñanzas Acero",
      "photoUrl": "",
      "userId": "12567364426497915232"
     },
     "user_tz": -60
    },
    "id": "oHFZyLSfE-ZV",
    "outputId": "ecbf4399-85f6-435f-e900-1690b8aef1af"
   },
   "outputs": [
    {
     "data": {
      "text/plain": [
       "[('sonarCloseTime', 0.126),\n",
       " ('resolutionTime', 0.073),\n",
       " ('timeInProject', 0.039),\n",
       " ('refactoringMoveSourceFolder', 0.02),\n",
       " ('refactoringExtractMethod', 0.02)]"
      ]
     },
     "execution_count": 30,
     "metadata": {},
     "output_type": "execute_result"
    }
   ],
   "source": [
    "# fourth component, accounts for roughly 7% of variability\n",
    "correlated_features(devPCA.components_[3], devs.columns[2:], 5)"
   ]
  },
  {
   "cell_type": "markdown",
   "metadata": {
    "id": "vPr4bs3_OQ8g"
   },
   "source": [
    "With these 4 components the data is about 52% explained in terms of variability. We see that the correlation of the original features with the components as we go down starts to lose 1) relevance and 2) interpretability (noise starts kicking in). Let's observe some other components. "
   ]
  },
  {
   "cell_type": "code",
   "execution_count": 31,
   "metadata": {
    "colab": {
     "base_uri": "https://localhost:8080/",
     "height": 102
    },
    "executionInfo": {
     "elapsed": 2117,
     "status": "ok",
     "timestamp": 1603623774776,
     "user": {
      "displayName": "Jesus Maria Antoñanzas Acero",
      "photoUrl": "",
      "userId": "12567364426497915232"
     },
     "user_tz": -60
    },
    "id": "wkb2RhoKNhDf",
    "outputId": "2080a43e-d9a7-4251-9d1f-e014a0acf187"
   },
   "outputs": [
    {
     "data": {
      "text/plain": [
       "[('refactoringExtractMethod', 0.035),\n",
       " ('refactoringExtractVariable', 0.033),\n",
       " ('refactoringRenameAttribute', 0.033),\n",
       " ('refactoringMoveAndRenameAttribute', 0.028),\n",
       " ('refactoringRenameVariable', 0.028)]"
      ]
     },
     "execution_count": 31,
     "metadata": {},
     "output_type": "execute_result"
    }
   ],
   "source": [
    "# fifth component, accounts for roughly 7% of variability\n",
    "correlated_features(devPCA.components_[4], devs.columns[2:], 5)"
   ]
  },
  {
   "cell_type": "code",
   "execution_count": 32,
   "metadata": {
    "colab": {
     "base_uri": "https://localhost:8080/",
     "height": 102
    },
    "executionInfo": {
     "elapsed": 1893,
     "status": "ok",
     "timestamp": 1603623774776,
     "user": {
      "displayName": "Jesus Maria Antoñanzas Acero",
      "photoUrl": "",
      "userId": "12567364426497915232"
     },
     "user_tz": -60
    },
    "id": "rVZ2iurBO4Ao",
    "outputId": "4c53b6b6-f270-41b8-95dc-d41715821ba7"
   },
   "outputs": [
    {
     "data": {
      "text/plain": [
       "[('timeInProject', 0.082),\n",
       " ('sonarCloseTime', 0.058),\n",
       " ('jiraMinor', 0.051),\n",
       " ('jiraCritical', 0.048),\n",
       " ('jiraImprovement', 0.039)]"
      ]
     },
     "execution_count": 32,
     "metadata": {},
     "output_type": "execute_result"
    }
   ],
   "source": [
    "# sixth component, accounts for roughly 5% of variability\n",
    "correlated_features(devPCA.components_[5], devs.columns[2:], 5)"
   ]
  },
  {
   "cell_type": "code",
   "execution_count": 33,
   "metadata": {
    "colab": {
     "base_uri": "https://localhost:8080/",
     "height": 102
    },
    "executionInfo": {
     "elapsed": 1699,
     "status": "ok",
     "timestamp": 1603623774777,
     "user": {
      "displayName": "Jesus Maria Antoñanzas Acero",
      "photoUrl": "",
      "userId": "12567364426497915232"
     },
     "user_tz": -60
    },
    "id": "Chqa5wCCO5gs",
    "outputId": "ec48cc5c-d512-4f01-c4c9-f4cd6c82e43b"
   },
   "outputs": [
    {
     "data": {
      "text/plain": [
       "[('timeInProject', 0.085),\n",
       " ('sonarCloseTime', 0.052),\n",
       " ('jiraMinor', 0.048),\n",
       " ('jiraCritical', 0.044),\n",
       " ('jiraImprovement', 0.037)]"
      ]
     },
     "execution_count": 33,
     "metadata": {},
     "output_type": "execute_result"
    }
   ],
   "source": [
    "# seventh component, accounts for roughly 4% of variability\n",
    "correlated_features(devPCA.components_[6], devs.columns[2:], 5)"
   ]
  },
  {
   "cell_type": "markdown",
   "metadata": {
    "id": "UeoKOX7hPhsQ"
   },
   "source": [
    "The fact that in some cases the percentage of correlation seems equally distributed (for some features) means that the component in question is correlated to those features in equal parts."
   ]
  },
  {
   "cell_type": "markdown",
   "metadata": {
    "id": "KoWtmJ83YMnd"
   },
   "source": [
    "Finally, to retrieve the importance of each original feature to each cluster group we combine the methods implemented. The main idea is: if to a centroid some principal component PC1 is of 60% importance, and PC1 is at the same time 40% correlated with an original feature F1, the centroid will be 0.6 x 0.4 = 25% correlated with F1. If it happens that PC2 is of 20% importance to the centroid, and PC2 is 10% correlated to F1, then the centroid now, taking into account the previous result, the correlation of the centroid with F1 will update to be 0.25 + (0.2 x 0.1) = 27%."
   ]
  },
  {
   "cell_type": "code",
   "execution_count": 34,
   "metadata": {
    "executionInfo": {
     "elapsed": 1081,
     "status": "ok",
     "timestamp": 1603623774777,
     "user": {
      "displayName": "Jesus Maria Antoñanzas Acero",
      "photoUrl": "",
      "userId": "12567364426497915232"
     },
     "user_tz": -60
    },
    "id": "zy4kyArgc7zr"
   },
   "outputs": [],
   "source": [
    "def centroid_corr_with_features(centroid, dimRedObject, featureNames, nFeatures=None):\n",
    "  \"\"\" \n",
    "  Returns the percentage of 'correlation' of a centroid in the dimensionality-reduced \n",
    "  space with the features of the original space. It does not take into account\n",
    "  negative correlation, just indicates the magnitude of the correlation.\n",
    "      for each PCi:\n",
    "        get relevance\n",
    "        get correlation with features (relevance * pctCorr(feature, PCi))\n",
    "        add result to the correlation of the centroid with that feature\n",
    "  \"\"\"\n",
    "  if nFeatures is None:\n",
    "    nFeatures = len(featureNames)\n",
    "  corrWithFeatures = {feature: 0 for feature in featureNames}\n",
    "\n",
    "  indexes, importancePcts = n_important_components(len(centroid), centroid)\n",
    "  for index, PCImportance in zip(indexes, importancePcts):\n",
    "    featureCorrs = correlated_features(dimRedObject.components_[index], featureNames)\n",
    "    for featureCorr in featureCorrs:\n",
    "      corrWithFeatures[featureCorr[0]] += PCImportance * featureCorr[1]\n",
    "  featureList = sorted(corrWithFeatures.items(), key=lambda k: k[1], reverse=True)[:nFeatures]\n",
    "  featureArray = np.array([[feature, round(corr, 3)] for feature, corr in featureList])\n",
    "\n",
    "  # plotting\n",
    "  data = pd.DataFrame({'features': featureArray[:,0], 'correlation': featureArray[:,1]})\n",
    "  chart = alt.Chart(data, title='Correlation of cluster with features').mark_bar().encode(\n",
    "    x = alt.X('features:O', sort='-y'),\n",
    "    y = alt.Y('correlation:Q')\n",
    "  )\n",
    "  return featureArray, chart"
   ]
  },
  {
   "cell_type": "markdown",
   "metadata": {
    "id": "lOTmIBrVw_Ds"
   },
   "source": [
    "Finally, we can relate the clusters to the different features."
   ]
  },
  {
   "cell_type": "code",
   "execution_count": 35,
   "metadata": {
    "colab": {
     "base_uri": "https://localhost:8080/",
     "height": 567
    },
    "executionInfo": {
     "elapsed": 864,
     "status": "ok",
     "timestamp": 1603623774983,
     "user": {
      "displayName": "Jesus Maria Antoñanzas Acero",
      "photoUrl": "",
      "userId": "12567364426497915232"
     },
     "user_tz": -60
    },
    "id": "7ztR1nclxLvB",
    "outputId": "b9e46788-f076-4c69-8810-ce33eae3ef32"
   },
   "outputs": [
    {
     "name": "stdout",
     "output_type": "stream",
     "text": [
      "[['resolutionTime' '0.07']\n",
      " ['sonarCloseTime' '0.067']\n",
      " ['timeInProject' '0.04']\n",
      " ['fixedJiraIssues' '0.026']\n",
      " ['numberCommits' '0.021']]\n"
     ]
    },
    {
     "data": {
      "text/html": [
       "\n",
       "<div id=\"altair-viz-9083e8c0668849bf9e5a2f7c876104dd\"></div>\n",
       "<script type=\"text/javascript\">\n",
       "  (function(spec, embedOpt){\n",
       "    let outputDiv = document.currentScript.previousElementSibling;\n",
       "    if (outputDiv.id !== \"altair-viz-9083e8c0668849bf9e5a2f7c876104dd\") {\n",
       "      outputDiv = document.getElementById(\"altair-viz-9083e8c0668849bf9e5a2f7c876104dd\");\n",
       "    }\n",
       "    const paths = {\n",
       "      \"vega\": \"https://cdn.jsdelivr.net/npm//vega@5?noext\",\n",
       "      \"vega-lib\": \"https://cdn.jsdelivr.net/npm//vega-lib?noext\",\n",
       "      \"vega-lite\": \"https://cdn.jsdelivr.net/npm//vega-lite@4.8.1?noext\",\n",
       "      \"vega-embed\": \"https://cdn.jsdelivr.net/npm//vega-embed@6?noext\",\n",
       "    };\n",
       "\n",
       "    function loadScript(lib) {\n",
       "      return new Promise(function(resolve, reject) {\n",
       "        var s = document.createElement('script');\n",
       "        s.src = paths[lib];\n",
       "        s.async = true;\n",
       "        s.onload = () => resolve(paths[lib]);\n",
       "        s.onerror = () => reject(`Error loading script: ${paths[lib]}`);\n",
       "        document.getElementsByTagName(\"head\")[0].appendChild(s);\n",
       "      });\n",
       "    }\n",
       "\n",
       "    function showError(err) {\n",
       "      outputDiv.innerHTML = `<div class=\"error\" style=\"color:red;\">${err}</div>`;\n",
       "      throw err;\n",
       "    }\n",
       "\n",
       "    function displayChart(vegaEmbed) {\n",
       "      vegaEmbed(outputDiv, spec, embedOpt)\n",
       "        .catch(err => showError(`Javascript Error: ${err.message}<br>This usually means there's a typo in your chart specification. See the javascript console for the full traceback.`));\n",
       "    }\n",
       "\n",
       "    if(typeof define === \"function\" && define.amd) {\n",
       "      requirejs.config({paths});\n",
       "      require([\"vega-embed\"], displayChart, err => showError(`Error loading script: ${err.message}`));\n",
       "    } else if (typeof vegaEmbed === \"function\") {\n",
       "      displayChart(vegaEmbed);\n",
       "    } else {\n",
       "      loadScript(\"vega\")\n",
       "        .then(() => loadScript(\"vega-lite\"))\n",
       "        .then(() => loadScript(\"vega-embed\"))\n",
       "        .catch(showError)\n",
       "        .then(() => displayChart(vegaEmbed));\n",
       "    }\n",
       "  })({\"config\": {\"view\": {\"continuousWidth\": 400, \"continuousHeight\": 300}}, \"data\": {\"name\": \"data-bdd8d5a7d63a846c2874129a74ef7378\"}, \"mark\": \"bar\", \"encoding\": {\"x\": {\"type\": \"ordinal\", \"field\": \"features\", \"sort\": \"-y\"}, \"y\": {\"type\": \"quantitative\", \"field\": \"correlation\"}}, \"title\": \"Correlation of cluster with features\", \"$schema\": \"https://vega.github.io/schema/vega-lite/v4.8.1.json\", \"datasets\": {\"data-bdd8d5a7d63a846c2874129a74ef7378\": [{\"features\": \"resolutionTime\", \"correlation\": \"0.07\"}, {\"features\": \"sonarCloseTime\", \"correlation\": \"0.067\"}, {\"features\": \"timeInProject\", \"correlation\": \"0.04\"}, {\"features\": \"fixedJiraIssues\", \"correlation\": \"0.026\"}, {\"features\": \"numberCommits\", \"correlation\": \"0.021\"}, {\"features\": \"refactoringExtractMethod\", \"correlation\": \"0.02\"}, {\"features\": \"fixedSZZIssues\", \"correlation\": \"0.018\"}, {\"features\": \"fixedSonarIssues\", \"correlation\": \"0.018\"}, {\"features\": \"jiraBlocker\", \"correlation\": \"0.018\"}, {\"features\": \"jiraMinor\", \"correlation\": \"0.018\"}, {\"features\": \"jiraMajor\", \"correlation\": \"0.017\"}, {\"features\": \"jiraCritical\", \"correlation\": \"0.017\"}, {\"features\": \"jiraBug\", \"correlation\": \"0.017\"}, {\"features\": \"jiraTask\", \"correlation\": \"0.017\"}, {\"features\": \"jiraImprovement\", \"correlation\": \"0.017\"}, {\"features\": \"refactoringMoveSourceFolder\", \"correlation\": \"0.016\"}, {\"features\": \"jiraSub-task\", \"correlation\": \"0.016\"}, {\"features\": \"refactoringPullUpAttribute\", \"correlation\": \"0.015\"}, {\"features\": \"refactoringPushDownAttribute\", \"correlation\": \"0.014\"}, {\"features\": \"inducedSonarIssues\", \"correlation\": \"0.014\"}]}}, {\"mode\": \"vega-lite\"});\n",
       "</script>"
      ],
      "text/plain": [
       "alt.Chart(...)"
      ]
     },
     "execution_count": 35,
     "metadata": {},
     "output_type": "execute_result"
    }
   ],
   "source": [
    "corrFeatures, chart = centroid_corr_with_features(centroids[0], devPCA, devs.columns[2:], 20)\n",
    "print(corrFeatures[:5])\n",
    "chart"
   ]
  },
  {
   "cell_type": "code",
   "execution_count": 36,
   "metadata": {
    "colab": {
     "base_uri": "https://localhost:8080/",
     "height": 592
    },
    "executionInfo": {
     "elapsed": 660,
     "status": "ok",
     "timestamp": 1603623774984,
     "user": {
      "displayName": "Jesus Maria Antoñanzas Acero",
      "photoUrl": "",
      "userId": "12567364426497915232"
     },
     "user_tz": -60
    },
    "id": "Y0xDRAxrxPgP",
    "outputId": "6fe5fd17-ea8c-4d4f-f9f0-39e628a71d7e"
   },
   "outputs": [
    {
     "name": "stdout",
     "output_type": "stream",
     "text": [
      "[['sonarCloseTime' '0.054']\n",
      " ['resolutionTime' '0.048']\n",
      " ['timeInProject' '0.046']\n",
      " ['refactoringExtractMethod' '0.023']\n",
      " ['numberCommits' '0.022']]\n"
     ]
    },
    {
     "data": {
      "text/html": [
       "\n",
       "<div id=\"altair-viz-7efe4e1d577448dc99485c401af11a95\"></div>\n",
       "<script type=\"text/javascript\">\n",
       "  (function(spec, embedOpt){\n",
       "    let outputDiv = document.currentScript.previousElementSibling;\n",
       "    if (outputDiv.id !== \"altair-viz-7efe4e1d577448dc99485c401af11a95\") {\n",
       "      outputDiv = document.getElementById(\"altair-viz-7efe4e1d577448dc99485c401af11a95\");\n",
       "    }\n",
       "    const paths = {\n",
       "      \"vega\": \"https://cdn.jsdelivr.net/npm//vega@5?noext\",\n",
       "      \"vega-lib\": \"https://cdn.jsdelivr.net/npm//vega-lib?noext\",\n",
       "      \"vega-lite\": \"https://cdn.jsdelivr.net/npm//vega-lite@4.8.1?noext\",\n",
       "      \"vega-embed\": \"https://cdn.jsdelivr.net/npm//vega-embed@6?noext\",\n",
       "    };\n",
       "\n",
       "    function loadScript(lib) {\n",
       "      return new Promise(function(resolve, reject) {\n",
       "        var s = document.createElement('script');\n",
       "        s.src = paths[lib];\n",
       "        s.async = true;\n",
       "        s.onload = () => resolve(paths[lib]);\n",
       "        s.onerror = () => reject(`Error loading script: ${paths[lib]}`);\n",
       "        document.getElementsByTagName(\"head\")[0].appendChild(s);\n",
       "      });\n",
       "    }\n",
       "\n",
       "    function showError(err) {\n",
       "      outputDiv.innerHTML = `<div class=\"error\" style=\"color:red;\">${err}</div>`;\n",
       "      throw err;\n",
       "    }\n",
       "\n",
       "    function displayChart(vegaEmbed) {\n",
       "      vegaEmbed(outputDiv, spec, embedOpt)\n",
       "        .catch(err => showError(`Javascript Error: ${err.message}<br>This usually means there's a typo in your chart specification. See the javascript console for the full traceback.`));\n",
       "    }\n",
       "\n",
       "    if(typeof define === \"function\" && define.amd) {\n",
       "      requirejs.config({paths});\n",
       "      require([\"vega-embed\"], displayChart, err => showError(`Error loading script: ${err.message}`));\n",
       "    } else if (typeof vegaEmbed === \"function\") {\n",
       "      displayChart(vegaEmbed);\n",
       "    } else {\n",
       "      loadScript(\"vega\")\n",
       "        .then(() => loadScript(\"vega-lite\"))\n",
       "        .then(() => loadScript(\"vega-embed\"))\n",
       "        .catch(showError)\n",
       "        .then(() => displayChart(vegaEmbed));\n",
       "    }\n",
       "  })({\"config\": {\"view\": {\"continuousWidth\": 400, \"continuousHeight\": 300}}, \"data\": {\"name\": \"data-4a5a952454968e49305dcb5c911aad37\"}, \"mark\": \"bar\", \"encoding\": {\"x\": {\"type\": \"ordinal\", \"field\": \"features\", \"sort\": \"-y\"}, \"y\": {\"type\": \"quantitative\", \"field\": \"correlation\"}}, \"title\": \"Correlation of cluster with features\", \"$schema\": \"https://vega.github.io/schema/vega-lite/v4.8.1.json\", \"datasets\": {\"data-4a5a952454968e49305dcb5c911aad37\": [{\"features\": \"sonarCloseTime\", \"correlation\": \"0.054\"}, {\"features\": \"resolutionTime\", \"correlation\": \"0.048\"}, {\"features\": \"timeInProject\", \"correlation\": \"0.046\"}, {\"features\": \"refactoringExtractMethod\", \"correlation\": \"0.023\"}, {\"features\": \"numberCommits\", \"correlation\": \"0.022\"}, {\"features\": \"fixedSonarIssues\", \"correlation\": \"0.019\"}, {\"features\": \"fixedJiraIssues\", \"correlation\": \"0.018\"}, {\"features\": \"fixedSZZIssues\", \"correlation\": \"0.017\"}, {\"features\": \"codeFunctionComplexity\", \"correlation\": \"0.016\"}, {\"features\": \"refactoringPullUpAttribute\", \"correlation\": \"0.016\"}, {\"features\": \"jiraMinor\", \"correlation\": \"0.015\"}, {\"features\": \"refactoringMoveSourceFolder\", \"correlation\": \"0.014\"}, {\"features\": \"inducedSonarIssues\", \"correlation\": \"0.014\"}, {\"features\": \"refactoringRenameAttribute\", \"correlation\": \"0.014\"}, {\"features\": \"jiraCritical\", \"correlation\": \"0.014\"}, {\"features\": \"refactoringExtractVariable\", \"correlation\": \"0.014\"}, {\"features\": \"jiraImprovement\", \"correlation\": \"0.013\"}, {\"features\": \"jiraBlocker\", \"correlation\": \"0.013\"}, {\"features\": \"jiraTask\", \"correlation\": \"0.013\"}, {\"features\": \"codeFunctions\", \"correlation\": \"0.013\"}]}}, {\"mode\": \"vega-lite\"});\n",
       "</script>"
      ],
      "text/plain": [
       "alt.Chart(...)"
      ]
     },
     "execution_count": 36,
     "metadata": {},
     "output_type": "execute_result"
    }
   ],
   "source": [
    "corrFeatures, chart = centroid_corr_with_features(centroids[1], devPCA, devs.columns[2:], 20)\n",
    "print(corrFeatures[:5])\n",
    "chart"
   ]
  },
  {
   "cell_type": "code",
   "execution_count": 37,
   "metadata": {
    "colab": {
     "base_uri": "https://localhost:8080/",
     "height": 588
    },
    "executionInfo": {
     "elapsed": 1131,
     "status": "ok",
     "timestamp": 1603623775654,
     "user": {
      "displayName": "Jesus Maria Antoñanzas Acero",
      "photoUrl": "",
      "userId": "12567364426497915232"
     },
     "user_tz": -60
    },
    "id": "YvYsX2R7xQPI",
    "outputId": "63ec0781-29bb-43db-f4a9-dccebed5bde7"
   },
   "outputs": [
    {
     "name": "stdout",
     "output_type": "stream",
     "text": [
      "[['resolutionTime' '0.099']\n",
      " ['fixedJiraIssues' '0.048']\n",
      " ['sonarCloseTime' '0.038']\n",
      " ['jiraMinor' '0.033']\n",
      " ['jiraBlocker' '0.033']]\n"
     ]
    },
    {
     "data": {
      "text/html": [
       "\n",
       "<div id=\"altair-viz-fc1de6e809d24dcda8491cbbed11a463\"></div>\n",
       "<script type=\"text/javascript\">\n",
       "  (function(spec, embedOpt){\n",
       "    let outputDiv = document.currentScript.previousElementSibling;\n",
       "    if (outputDiv.id !== \"altair-viz-fc1de6e809d24dcda8491cbbed11a463\") {\n",
       "      outputDiv = document.getElementById(\"altair-viz-fc1de6e809d24dcda8491cbbed11a463\");\n",
       "    }\n",
       "    const paths = {\n",
       "      \"vega\": \"https://cdn.jsdelivr.net/npm//vega@5?noext\",\n",
       "      \"vega-lib\": \"https://cdn.jsdelivr.net/npm//vega-lib?noext\",\n",
       "      \"vega-lite\": \"https://cdn.jsdelivr.net/npm//vega-lite@4.8.1?noext\",\n",
       "      \"vega-embed\": \"https://cdn.jsdelivr.net/npm//vega-embed@6?noext\",\n",
       "    };\n",
       "\n",
       "    function loadScript(lib) {\n",
       "      return new Promise(function(resolve, reject) {\n",
       "        var s = document.createElement('script');\n",
       "        s.src = paths[lib];\n",
       "        s.async = true;\n",
       "        s.onload = () => resolve(paths[lib]);\n",
       "        s.onerror = () => reject(`Error loading script: ${paths[lib]}`);\n",
       "        document.getElementsByTagName(\"head\")[0].appendChild(s);\n",
       "      });\n",
       "    }\n",
       "\n",
       "    function showError(err) {\n",
       "      outputDiv.innerHTML = `<div class=\"error\" style=\"color:red;\">${err}</div>`;\n",
       "      throw err;\n",
       "    }\n",
       "\n",
       "    function displayChart(vegaEmbed) {\n",
       "      vegaEmbed(outputDiv, spec, embedOpt)\n",
       "        .catch(err => showError(`Javascript Error: ${err.message}<br>This usually means there's a typo in your chart specification. See the javascript console for the full traceback.`));\n",
       "    }\n",
       "\n",
       "    if(typeof define === \"function\" && define.amd) {\n",
       "      requirejs.config({paths});\n",
       "      require([\"vega-embed\"], displayChart, err => showError(`Error loading script: ${err.message}`));\n",
       "    } else if (typeof vegaEmbed === \"function\") {\n",
       "      displayChart(vegaEmbed);\n",
       "    } else {\n",
       "      loadScript(\"vega\")\n",
       "        .then(() => loadScript(\"vega-lite\"))\n",
       "        .then(() => loadScript(\"vega-embed\"))\n",
       "        .catch(showError)\n",
       "        .then(() => displayChart(vegaEmbed));\n",
       "    }\n",
       "  })({\"config\": {\"view\": {\"continuousWidth\": 400, \"continuousHeight\": 300}}, \"data\": {\"name\": \"data-3ff1950a5354736ebe011d8a6ed34421\"}, \"mark\": \"bar\", \"encoding\": {\"x\": {\"type\": \"ordinal\", \"field\": \"features\", \"sort\": \"-y\"}, \"y\": {\"type\": \"quantitative\", \"field\": \"correlation\"}}, \"title\": \"Correlation of cluster with features\", \"$schema\": \"https://vega.github.io/schema/vega-lite/v4.8.1.json\", \"datasets\": {\"data-3ff1950a5354736ebe011d8a6ed34421\": [{\"features\": \"resolutionTime\", \"correlation\": \"0.099\"}, {\"features\": \"fixedJiraIssues\", \"correlation\": \"0.048\"}, {\"features\": \"sonarCloseTime\", \"correlation\": \"0.038\"}, {\"features\": \"jiraMinor\", \"correlation\": \"0.033\"}, {\"features\": \"jiraBlocker\", \"correlation\": \"0.033\"}, {\"features\": \"jiraCritical\", \"correlation\": \"0.033\"}, {\"features\": \"jiraMajor\", \"correlation\": \"0.032\"}, {\"features\": \"jiraBug\", \"correlation\": \"0.032\"}, {\"features\": \"jiraTask\", \"correlation\": \"0.032\"}, {\"features\": \"jiraImprovement\", \"correlation\": \"0.031\"}, {\"features\": \"jiraSub-task\", \"correlation\": \"0.03\"}, {\"features\": \"jiraNewFeature\", \"correlation\": \"0.025\"}, {\"features\": \"timeInProject\", \"correlation\": \"0.016\"}, {\"features\": \"jiraWish\", \"correlation\": \"0.016\"}, {\"features\": \"refactoringExtractMethod\", \"correlation\": \"0.014\"}, {\"features\": \"jiraTrivial\", \"correlation\": \"0.014\"}, {\"features\": \"numberCommits\", \"correlation\": \"0.014\"}, {\"features\": \"jiraEpic\", \"correlation\": \"0.014\"}, {\"features\": \"fixedSonarIssues\", \"correlation\": \"0.013\"}, {\"features\": \"fixedSZZIssues\", \"correlation\": \"0.013\"}]}}, {\"mode\": \"vega-lite\"});\n",
       "</script>"
      ],
      "text/plain": [
       "alt.Chart(...)"
      ]
     },
     "execution_count": 37,
     "metadata": {},
     "output_type": "execute_result"
    }
   ],
   "source": [
    "corrFeatures, chart = centroid_corr_with_features(centroids[2], devPCA, devs.columns[2:], 20)\n",
    "print(corrFeatures[:5])\n",
    "chart"
   ]
  },
  {
   "cell_type": "code",
   "execution_count": 38,
   "metadata": {
    "colab": {
     "base_uri": "https://localhost:8080/",
     "height": 592
    },
    "executionInfo": {
     "elapsed": 936,
     "status": "ok",
     "timestamp": 1603623775654,
     "user": {
      "displayName": "Jesus Maria Antoñanzas Acero",
      "photoUrl": "",
      "userId": "12567364426497915232"
     },
     "user_tz": -60
    },
    "id": "kvYrsg9QxQ8a",
    "outputId": "4c07622f-1844-4ad5-d746-058996a21bc9"
   },
   "outputs": [
    {
     "name": "stdout",
     "output_type": "stream",
     "text": [
      "[['resolutionTime' '0.093']\n",
      " ['sonarCloseTime' '0.047']\n",
      " ['fixedJiraIssues' '0.041']\n",
      " ['jiraMajor' '0.028']\n",
      " ['jiraBlocker' '0.027']]\n"
     ]
    },
    {
     "data": {
      "text/html": [
       "\n",
       "<div id=\"altair-viz-632e3d1a76e24f32b0d0e1f9ce348dab\"></div>\n",
       "<script type=\"text/javascript\">\n",
       "  (function(spec, embedOpt){\n",
       "    let outputDiv = document.currentScript.previousElementSibling;\n",
       "    if (outputDiv.id !== \"altair-viz-632e3d1a76e24f32b0d0e1f9ce348dab\") {\n",
       "      outputDiv = document.getElementById(\"altair-viz-632e3d1a76e24f32b0d0e1f9ce348dab\");\n",
       "    }\n",
       "    const paths = {\n",
       "      \"vega\": \"https://cdn.jsdelivr.net/npm//vega@5?noext\",\n",
       "      \"vega-lib\": \"https://cdn.jsdelivr.net/npm//vega-lib?noext\",\n",
       "      \"vega-lite\": \"https://cdn.jsdelivr.net/npm//vega-lite@4.8.1?noext\",\n",
       "      \"vega-embed\": \"https://cdn.jsdelivr.net/npm//vega-embed@6?noext\",\n",
       "    };\n",
       "\n",
       "    function loadScript(lib) {\n",
       "      return new Promise(function(resolve, reject) {\n",
       "        var s = document.createElement('script');\n",
       "        s.src = paths[lib];\n",
       "        s.async = true;\n",
       "        s.onload = () => resolve(paths[lib]);\n",
       "        s.onerror = () => reject(`Error loading script: ${paths[lib]}`);\n",
       "        document.getElementsByTagName(\"head\")[0].appendChild(s);\n",
       "      });\n",
       "    }\n",
       "\n",
       "    function showError(err) {\n",
       "      outputDiv.innerHTML = `<div class=\"error\" style=\"color:red;\">${err}</div>`;\n",
       "      throw err;\n",
       "    }\n",
       "\n",
       "    function displayChart(vegaEmbed) {\n",
       "      vegaEmbed(outputDiv, spec, embedOpt)\n",
       "        .catch(err => showError(`Javascript Error: ${err.message}<br>This usually means there's a typo in your chart specification. See the javascript console for the full traceback.`));\n",
       "    }\n",
       "\n",
       "    if(typeof define === \"function\" && define.amd) {\n",
       "      requirejs.config({paths});\n",
       "      require([\"vega-embed\"], displayChart, err => showError(`Error loading script: ${err.message}`));\n",
       "    } else if (typeof vegaEmbed === \"function\") {\n",
       "      displayChart(vegaEmbed);\n",
       "    } else {\n",
       "      loadScript(\"vega\")\n",
       "        .then(() => loadScript(\"vega-lite\"))\n",
       "        .then(() => loadScript(\"vega-embed\"))\n",
       "        .catch(showError)\n",
       "        .then(() => displayChart(vegaEmbed));\n",
       "    }\n",
       "  })({\"config\": {\"view\": {\"continuousWidth\": 400, \"continuousHeight\": 300}}, \"data\": {\"name\": \"data-362f00e04d21983b702170611d0a7484\"}, \"mark\": \"bar\", \"encoding\": {\"x\": {\"type\": \"ordinal\", \"field\": \"features\", \"sort\": \"-y\"}, \"y\": {\"type\": \"quantitative\", \"field\": \"correlation\"}}, \"title\": \"Correlation of cluster with features\", \"$schema\": \"https://vega.github.io/schema/vega-lite/v4.8.1.json\", \"datasets\": {\"data-362f00e04d21983b702170611d0a7484\": [{\"features\": \"resolutionTime\", \"correlation\": \"0.093\"}, {\"features\": \"sonarCloseTime\", \"correlation\": \"0.047\"}, {\"features\": \"fixedJiraIssues\", \"correlation\": \"0.041\"}, {\"features\": \"jiraMajor\", \"correlation\": \"0.028\"}, {\"features\": \"jiraBlocker\", \"correlation\": \"0.027\"}, {\"features\": \"jiraBug\", \"correlation\": \"0.027\"}, {\"features\": \"jiraMinor\", \"correlation\": \"0.027\"}, {\"features\": \"jiraCritical\", \"correlation\": \"0.027\"}, {\"features\": \"jiraTask\", \"correlation\": \"0.026\"}, {\"features\": \"timeInProject\", \"correlation\": \"0.026\"}, {\"features\": \"jiraImprovement\", \"correlation\": \"0.025\"}, {\"features\": \"jiraSub-task\", \"correlation\": \"0.025\"}, {\"features\": \"jiraNewFeature\", \"correlation\": \"0.02\"}, {\"features\": \"numberCommits\", \"correlation\": \"0.018\"}, {\"features\": \"refactoringExtractMethod\", \"correlation\": \"0.017\"}, {\"features\": \"fixedSonarIssues\", \"correlation\": \"0.016\"}, {\"features\": \"fixedSZZIssues\", \"correlation\": \"0.016\"}, {\"features\": \"refactoringMoveSourceFolder\", \"correlation\": \"0.014\"}, {\"features\": \"jiraWish\", \"correlation\": \"0.013\"}, {\"features\": \"refactoringPullUpAttribute\", \"correlation\": \"0.012\"}]}}, {\"mode\": \"vega-lite\"});\n",
       "</script>"
      ],
      "text/plain": [
       "alt.Chart(...)"
      ]
     },
     "execution_count": 38,
     "metadata": {},
     "output_type": "execute_result"
    }
   ],
   "source": [
    "corrFeatures, chart = centroid_corr_with_features(centroids[3], devPCA, devs.columns[2:], 20)\n",
    "print(corrFeatures[:5])\n",
    "chart"
   ]
  },
  {
   "cell_type": "markdown",
   "metadata": {
    "id": "2_mGGjCCHLhA"
   },
   "source": [
    "But, although the percentage of importance of each feature to a cluster is important, we want to extract the values of the features that characterize each cluster. In order to do it, we transform each centroid back to the original space, perform an inverse normalization and observe the values of the features that we have observed to be correlated with that cluster. That information will represent the mean characteristics of the developers in that cluster."
   ]
  },
  {
   "cell_type": "code",
   "execution_count": 39,
   "metadata": {
    "executionInfo": {
     "elapsed": 511,
     "status": "ok",
     "timestamp": 1603623775655,
     "user": {
      "displayName": "Jesus Maria Antoñanzas Acero",
      "photoUrl": "",
      "userId": "12567364426497915232"
     },
     "user_tz": -60
    },
    "id": "WrGWgUjbHIaV"
   },
   "outputs": [],
   "source": [
    "def mean_developer(centroid, dimRedObject, scalerObject):\n",
    "  \"\"\"\n",
    "  Returns the value of the features in the original space of the inversely transformed centroid.\n",
    "  \"\"\"\n",
    "  # append 0s to conform with the number of components picked for the clutering\n",
    "  appendedCentroid = np.append(centroid, np.linspace(0, 0, len(dimRedObject.components_)-len(centroid)))\n",
    "  normOriginalPoint = dimRedObject.inverse_transform(appendedCentroid.reshape(1,-1))\n",
    "  originalPoint = scalerObject.inverse_transform(normOriginalPoint.reshape(1,-1))\n",
    "  meanDeveloper = {feature: round(value, 2) for feature, value in zip(devs.columns[2:], originalPoint[0])}\n",
    "  return meanDeveloper\n",
    "\n",
    "def important_values(centroid, dimRedObject, featureNames, scaler, nValues=None):\n",
    "  \"\"\"\n",
    "  Returns the value of the nValues most important features of the mean developer for that cluster.\n",
    "  \"\"\"\n",
    "  centroidCorrelatedFeatures, _ = centroid_corr_with_features(centroid, dimRedObject, featureNames, nValues)\n",
    "  meanDeveloper = mean_developer(centroid, dimRedObject, scaler)\n",
    "  if nValues is None:\n",
    "    nValues = len(featureNames)\n",
    "  # correlatedFeatures is sorted decreasingly\n",
    "  return [[featureName, meanDeveloper[featureName]] for featureName in centroidCorrelatedFeatures[:,0]][:nValues]"
   ]
  },
  {
   "cell_type": "markdown",
   "metadata": {
    "id": "c1S4FJ40NjL-"
   },
   "source": [
    "Finally, we can discern the characteristics of each developer cluster. We observe the values of the n features that are of maximal importance to the cluster."
   ]
  },
  {
   "cell_type": "code",
   "execution_count": 40,
   "metadata": {
    "colab": {
     "base_uri": "https://localhost:8080/",
     "height": 187
    },
    "executionInfo": {
     "elapsed": 357,
     "status": "ok",
     "timestamp": 1603623775943,
     "user": {
      "displayName": "Jesus Maria Antoñanzas Acero",
      "photoUrl": "",
      "userId": "12567364426497915232"
     },
     "user_tz": -60
    },
    "id": "I_MwFhScJ-t3",
    "outputId": "6be0db1d-4cba-423f-ce59-da1f4dea4156"
   },
   "outputs": [
    {
     "data": {
      "text/plain": [
       "[['resolutionTime', 2722.73],\n",
       " ['sonarCloseTime', 913.46],\n",
       " ['timeInProject', 6727067.08],\n",
       " ['fixedJiraIssues', 12.11],\n",
       " ['numberCommits', 18.98],\n",
       " ['refactoringExtractMethod', 0.29],\n",
       " ['fixedSZZIssues', 0.85],\n",
       " ['fixedSonarIssues', 0.98],\n",
       " ['jiraBlocker', 0.56],\n",
       " ['jiraMinor', 1.91]]"
      ]
     },
     "execution_count": 40,
     "metadata": {},
     "output_type": "execute_result"
    }
   ],
   "source": [
    "important_values(centroids[0], devPCA, devs.columns[2:], minMaxScaler, 10)"
   ]
  },
  {
   "cell_type": "code",
   "execution_count": 41,
   "metadata": {
    "colab": {
     "base_uri": "https://localhost:8080/",
     "height": 187
    },
    "executionInfo": {
     "elapsed": 424,
     "status": "ok",
     "timestamp": 1603623776197,
     "user": {
      "displayName": "Jesus Maria Antoñanzas Acero",
      "photoUrl": "",
      "userId": "12567364426497915232"
     },
     "user_tz": -60
    },
    "id": "GvIJUo1fI9Yj",
    "outputId": "3220c95e-2085-4fb3-b264-5f0472f4c8f5"
   },
   "outputs": [
    {
     "data": {
      "text/plain": [
       "[['sonarCloseTime', 30627.87],\n",
       " ['resolutionTime', 4.21],\n",
       " ['timeInProject', 198818845.13],\n",
       " ['refactoringExtractMethod', 157.23],\n",
       " ['numberCommits', 2231.17],\n",
       " ['fixedSonarIssues', 324.78],\n",
       " ['fixedJiraIssues', -0.15],\n",
       " ['fixedSZZIssues', 190.08],\n",
       " ['codeFunctionComplexity', 2.52],\n",
       " ['refactoringPullUpAttribute', 21.2]]"
      ]
     },
     "execution_count": 41,
     "metadata": {},
     "output_type": "execute_result"
    }
   ],
   "source": [
    "important_values(centroids[1], devPCA, devs.columns[2:], minMaxScaler, 10)"
   ]
  },
  {
   "cell_type": "code",
   "execution_count": 42,
   "metadata": {
    "colab": {
     "base_uri": "https://localhost:8080/",
     "height": 187
    },
    "executionInfo": {
     "elapsed": 475,
     "status": "ok",
     "timestamp": 1603623776462,
     "user": {
      "displayName": "Jesus Maria Antoñanzas Acero",
      "photoUrl": "",
      "userId": "12567364426497915232"
     },
     "user_tz": -60
    },
    "id": "bCm2iQ5bJs6O",
    "outputId": "8d042c89-d8cb-49e8-a239-0a4b920e6407"
   },
   "outputs": [
    {
     "data": {
      "text/plain": [
       "[['resolutionTime', 1410.78],\n",
       " ['fixedJiraIssues', 635.89],\n",
       " ['sonarCloseTime', 2245.84],\n",
       " ['jiraMinor', 40.42],\n",
       " ['jiraBlocker', 44.58],\n",
       " ['jiraCritical', 125.23],\n",
       " ['jiraMajor', 415.4],\n",
       " ['jiraBug', 413.84],\n",
       " ['jiraTask', 110.42],\n",
       " ['jiraImprovement', 67.3]]"
      ]
     },
     "execution_count": 42,
     "metadata": {},
     "output_type": "execute_result"
    }
   ],
   "source": [
    "important_values(centroids[2], devPCA, devs.columns[2:], minMaxScaler, 10)"
   ]
  },
  {
   "cell_type": "code",
   "execution_count": 43,
   "metadata": {
    "colab": {
     "base_uri": "https://localhost:8080/",
     "height": 187
    },
    "executionInfo": {
     "elapsed": 644,
     "status": "ok",
     "timestamp": 1603623776836,
     "user": {
      "displayName": "Jesus Maria Antoñanzas Acero",
      "photoUrl": "",
      "userId": "12567364426497915232"
     },
     "user_tz": -60
    },
    "id": "FlnHtSkPPAGp",
    "outputId": "c8205452-9fdd-4c7a-c789-5557321fe546"
   },
   "outputs": [
    {
     "data": {
      "text/plain": [
       "[['resolutionTime', 36196.62],\n",
       " ['sonarCloseTime', 28.21],\n",
       " ['fixedJiraIssues', 2.99],\n",
       " ['jiraMajor', 1.37],\n",
       " ['jiraBlocker', 0.17],\n",
       " ['jiraBug', 1.36],\n",
       " ['jiraMinor', 1.12],\n",
       " ['jiraCritical', 0.24],\n",
       " ['jiraTask', 0.08],\n",
       " ['timeInProject', -6119.72]]"
      ]
     },
     "execution_count": 43,
     "metadata": {},
     "output_type": "execute_result"
    }
   ],
   "source": [
    "important_values(centroids[3], devPCA, devs.columns[2:], minMaxScaler, 10)"
   ]
  },
  {
   "cell_type": "code",
   "execution_count": 44,
   "metadata": {
    "colab": {
     "base_uri": "https://localhost:8080/",
     "height": 187
    },
    "executionInfo": {
     "elapsed": 647,
     "status": "ok",
     "timestamp": 1603623777036,
     "user": {
      "displayName": "Jesus Maria Antoñanzas Acero",
      "photoUrl": "",
      "userId": "12567364426497915232"
     },
     "user_tz": -60
    },
    "id": "JCGnB2_4cJLS",
    "outputId": "635711e0-16ea-4856-8ae9-a7ab613dba11"
   },
   "outputs": [
    {
     "data": {
      "text/plain": [
       "[['sonarCloseTime', 44072.29],\n",
       " ['timeInProject', 105165873.6],\n",
       " ['resolutionTime', -2.68],\n",
       " ['numberCommits', 316.49],\n",
       " ['refactoringExtractMethod', 6.57],\n",
       " ['fixedSonarIssues', 40.05],\n",
       " ['fixedSZZIssues', 18.78],\n",
       " ['refactoringMoveSourceFolder', 1.0],\n",
       " ['refactoringPullUpAttribute', 0.65],\n",
       " ['inducedSonarIssues', 49.79]]"
      ]
     },
     "execution_count": 44,
     "metadata": {},
     "output_type": "execute_result"
    }
   ],
   "source": [
    "important_values(centroids[4], devPCA, devs.columns[2:], minMaxScaler, 10)"
   ]
  },
  {
   "cell_type": "markdown",
   "metadata": {
    "id": "kaTi8kGMPMy7"
   },
   "source": [
    "For easier analyses and comparison of cluster characteristics, we save each mean profile (all features) to a CSV."
   ]
  },
  {
   "cell_type": "code",
   "execution_count": 45,
   "metadata": {
    "colab": {
     "base_uri": "https://localhost:8080/",
     "height": 270
    },
    "executionInfo": {
     "elapsed": 718,
     "status": "ok",
     "timestamp": 1603623777508,
     "user": {
      "displayName": "Jesus Maria Antoñanzas Acero",
      "photoUrl": "",
      "userId": "12567364426497915232"
     },
     "user_tz": -60
    },
    "id": "Ka8pWXBbPMU0",
    "outputId": "4c920c53-ae95-4371-d287-7f5303f34705"
   },
   "outputs": [
    {
     "data": {
      "text/html": [
       "<div>\n",
       "<style scoped>\n",
       "    .dataframe tbody tr th:only-of-type {\n",
       "        vertical-align: middle;\n",
       "    }\n",
       "\n",
       "    .dataframe tbody tr th {\n",
       "        vertical-align: top;\n",
       "    }\n",
       "\n",
       "    .dataframe thead th {\n",
       "        text-align: right;\n",
       "    }\n",
       "</style>\n",
       "<table border=\"1\" class=\"dataframe\">\n",
       "  <thead>\n",
       "    <tr style=\"text-align: right;\">\n",
       "      <th></th>\n",
       "      <th>resolutionTime</th>\n",
       "      <th>sonarCloseTime</th>\n",
       "      <th>timeInProject</th>\n",
       "      <th>fixedJiraIssues</th>\n",
       "      <th>numberCommits</th>\n",
       "      <th>refactoringExtractMethod</th>\n",
       "      <th>fixedSZZIssues</th>\n",
       "      <th>fixedSonarIssues</th>\n",
       "      <th>jiraBlocker</th>\n",
       "      <th>jiraMinor</th>\n",
       "      <th>...</th>\n",
       "      <th>commitChangeAdd</th>\n",
       "      <th>jiraTechnicalTask</th>\n",
       "      <th>codeDuplicatedLinesDensity</th>\n",
       "      <th>jiraStory</th>\n",
       "      <th>linesRemoved</th>\n",
       "      <th>codeCommentLinesDensity</th>\n",
       "      <th>commitChangeRename</th>\n",
       "      <th>commitChangeDelete</th>\n",
       "      <th>jiraDependencyUpgrade</th>\n",
       "      <th>commitChangeUnknown</th>\n",
       "    </tr>\n",
       "  </thead>\n",
       "  <tbody>\n",
       "    <tr>\n",
       "      <th>cluster0</th>\n",
       "      <td>2722.73</td>\n",
       "      <td>913.46</td>\n",
       "      <td>6727067.08</td>\n",
       "      <td>12.11</td>\n",
       "      <td>18.98</td>\n",
       "      <td>0.29</td>\n",
       "      <td>0.85</td>\n",
       "      <td>0.98</td>\n",
       "      <td>0.56</td>\n",
       "      <td>1.91</td>\n",
       "      <td>...</td>\n",
       "      <td>0.42</td>\n",
       "      <td>0.04</td>\n",
       "      <td>-0.01</td>\n",
       "      <td>0.14</td>\n",
       "      <td>4.39</td>\n",
       "      <td>-0.0</td>\n",
       "      <td>0.14</td>\n",
       "      <td>0.15</td>\n",
       "      <td>0.0</td>\n",
       "      <td>0.07</td>\n",
       "    </tr>\n",
       "    <tr>\n",
       "      <th>cluster1</th>\n",
       "      <td>4.21</td>\n",
       "      <td>30627.87</td>\n",
       "      <td>198818845.13</td>\n",
       "      <td>-0.15</td>\n",
       "      <td>2231.17</td>\n",
       "      <td>157.23</td>\n",
       "      <td>190.08</td>\n",
       "      <td>324.78</td>\n",
       "      <td>0.01</td>\n",
       "      <td>-0.11</td>\n",
       "      <td>...</td>\n",
       "      <td>1.14</td>\n",
       "      <td>0.01</td>\n",
       "      <td>-0.04</td>\n",
       "      <td>0.01</td>\n",
       "      <td>11.89</td>\n",
       "      <td>0.03</td>\n",
       "      <td>1.02</td>\n",
       "      <td>0.73</td>\n",
       "      <td>0.0</td>\n",
       "      <td>-0.01</td>\n",
       "    </tr>\n",
       "    <tr>\n",
       "      <th>cluster2</th>\n",
       "      <td>1410.78</td>\n",
       "      <td>2245.84</td>\n",
       "      <td>7975708.89</td>\n",
       "      <td>635.89</td>\n",
       "      <td>36.05</td>\n",
       "      <td>0.08</td>\n",
       "      <td>2.51</td>\n",
       "      <td>1.66</td>\n",
       "      <td>44.58</td>\n",
       "      <td>40.42</td>\n",
       "      <td>...</td>\n",
       "      <td>0.01</td>\n",
       "      <td>0.99</td>\n",
       "      <td>0.01</td>\n",
       "      <td>2.52</td>\n",
       "      <td>2.45</td>\n",
       "      <td>0.01</td>\n",
       "      <td>0.0</td>\n",
       "      <td>-0.05</td>\n",
       "      <td>-0.0</td>\n",
       "      <td>-0.05</td>\n",
       "    </tr>\n",
       "    <tr>\n",
       "      <th>cluster3</th>\n",
       "      <td>36196.62</td>\n",
       "      <td>28.21</td>\n",
       "      <td>-6119.72</td>\n",
       "      <td>2.99</td>\n",
       "      <td>-0.08</td>\n",
       "      <td>-0.0</td>\n",
       "      <td>0.06</td>\n",
       "      <td>0.22</td>\n",
       "      <td>0.17</td>\n",
       "      <td>1.12</td>\n",
       "      <td>...</td>\n",
       "      <td>-0.11</td>\n",
       "      <td>0.01</td>\n",
       "      <td>0.0</td>\n",
       "      <td>0.07</td>\n",
       "      <td>-1.27</td>\n",
       "      <td>0.0</td>\n",
       "      <td>-0.03</td>\n",
       "      <td>-0.04</td>\n",
       "      <td>-0.0</td>\n",
       "      <td>-0.02</td>\n",
       "    </tr>\n",
       "    <tr>\n",
       "      <th>cluster4</th>\n",
       "      <td>-2.68</td>\n",
       "      <td>44072.29</td>\n",
       "      <td>105165873.6</td>\n",
       "      <td>0.47</td>\n",
       "      <td>316.49</td>\n",
       "      <td>6.57</td>\n",
       "      <td>18.78</td>\n",
       "      <td>40.05</td>\n",
       "      <td>-0.04</td>\n",
       "      <td>-0.17</td>\n",
       "      <td>...</td>\n",
       "      <td>1.4</td>\n",
       "      <td>-0.01</td>\n",
       "      <td>0.3</td>\n",
       "      <td>-0.02</td>\n",
       "      <td>17.04</td>\n",
       "      <td>0.15</td>\n",
       "      <td>0.5</td>\n",
       "      <td>0.45</td>\n",
       "      <td>-0.0</td>\n",
       "      <td>0.02</td>\n",
       "    </tr>\n",
       "  </tbody>\n",
       "</table>\n",
       "<p>5 rows × 94 columns</p>\n",
       "</div>"
      ],
      "text/plain": [
       "         resolutionTime sonarCloseTime timeInProject fixedJiraIssues  \\\n",
       "cluster0        2722.73         913.46    6727067.08           12.11   \n",
       "cluster1           4.21       30627.87  198818845.13           -0.15   \n",
       "cluster2        1410.78        2245.84    7975708.89          635.89   \n",
       "cluster3       36196.62          28.21      -6119.72            2.99   \n",
       "cluster4          -2.68       44072.29   105165873.6            0.47   \n",
       "\n",
       "         numberCommits refactoringExtractMethod fixedSZZIssues  \\\n",
       "cluster0         18.98                     0.29           0.85   \n",
       "cluster1       2231.17                   157.23         190.08   \n",
       "cluster2         36.05                     0.08           2.51   \n",
       "cluster3         -0.08                     -0.0           0.06   \n",
       "cluster4        316.49                     6.57          18.78   \n",
       "\n",
       "         fixedSonarIssues jiraBlocker jiraMinor  ... commitChangeAdd  \\\n",
       "cluster0             0.98        0.56      1.91  ...            0.42   \n",
       "cluster1           324.78        0.01     -0.11  ...            1.14   \n",
       "cluster2             1.66       44.58     40.42  ...            0.01   \n",
       "cluster3             0.22        0.17      1.12  ...           -0.11   \n",
       "cluster4            40.05       -0.04     -0.17  ...             1.4   \n",
       "\n",
       "         jiraTechnicalTask codeDuplicatedLinesDensity jiraStory linesRemoved  \\\n",
       "cluster0              0.04                      -0.01      0.14         4.39   \n",
       "cluster1              0.01                      -0.04      0.01        11.89   \n",
       "cluster2              0.99                       0.01      2.52         2.45   \n",
       "cluster3              0.01                        0.0      0.07        -1.27   \n",
       "cluster4             -0.01                        0.3     -0.02        17.04   \n",
       "\n",
       "         codeCommentLinesDensity commitChangeRename commitChangeDelete  \\\n",
       "cluster0                    -0.0               0.14               0.15   \n",
       "cluster1                    0.03               1.02               0.73   \n",
       "cluster2                    0.01                0.0              -0.05   \n",
       "cluster3                     0.0              -0.03              -0.04   \n",
       "cluster4                    0.15                0.5               0.45   \n",
       "\n",
       "         jiraDependencyUpgrade commitChangeUnknown  \n",
       "cluster0                   0.0                0.07  \n",
       "cluster1                   0.0               -0.01  \n",
       "cluster2                  -0.0               -0.05  \n",
       "cluster3                  -0.0               -0.02  \n",
       "cluster4                  -0.0                0.02  \n",
       "\n",
       "[5 rows x 94 columns]"
      ]
     },
     "execution_count": 45,
     "metadata": {},
     "output_type": "execute_result"
    }
   ],
   "source": [
    "clusterProfiles = []\n",
    "for i in range(len(centroids)):\n",
    "  clusterValues = np.array(important_values(centroids[i], devPCA, devs.columns[2:], minMaxScaler))\n",
    "  clusterDf = pd.DataFrame(data=[clusterValues[:,1]], columns=clusterValues[:,0], index=['cluster'+str(i)])\n",
    "  clusterProfiles.append(clusterDf)\n",
    "clusterProfilesDf = pd.concat(clusterProfiles)\n",
    "clusterProfilesDf"
   ]
  },
  {
   "cell_type": "markdown",
   "metadata": {
    "id": "fPlahcjCepG-"
   },
   "source": [
    "**Important note**: Some values are slighly negative. This is because the inverse transform of the centroid from the PCA space to the original feature space is performed with only the values of the first and most important n components. The other components' coordinates are set to zero in order for the inverse transform to make sense, introducing slight inconsistencies. These inconsistencies, though, are not significant because they come from principal components that explain very little variance."
   ]
  },
  {
   "cell_type": "code",
   "execution_count": 46,
   "metadata": {
    "executionInfo": {
     "elapsed": 603,
     "status": "ok",
     "timestamp": 1603623777797,
     "user": {
      "displayName": "Jesus Maria Antoñanzas Acero",
      "photoUrl": "",
      "userId": "12567364426497915232"
     },
     "user_tz": -60
    },
    "id": "hXgJo51ESNLQ"
   },
   "outputs": [],
   "source": [
    "clusterProfilesDf.to_csv('../../data/interim/Modelling/clusterProfilesPCA.csv')"
   ]
  },
  {
   "cell_type": "markdown",
   "metadata": {
    "id": "OEbI5myBePas"
   },
   "source": [
    "# 3. Dimensionality reduction with tSVD"
   ]
  },
  {
   "cell_type": "markdown",
   "metadata": {
    "id": "4vSau3lU25TM"
   },
   "source": [
    "Now, because PCA is not the best dimensionality reduction method, let us try another one. We have chosen TruncatedSVD (or LSA), which is very similar to PCA and works good on sparse data (our case). Moreover, it is also a linear reduction, which means that we can relate the extracted components with the original features the same way we did with PCA."
   ]
  },
  {
   "cell_type": "code",
   "execution_count": 47,
   "metadata": {
    "colab": {
     "base_uri": "https://localhost:8080/",
     "height": 286
    },
    "executionInfo": {
     "elapsed": 888,
     "status": "ok",
     "timestamp": 1603623778735,
     "user": {
      "displayName": "Jesus Maria Antoñanzas Acero",
      "photoUrl": "",
      "userId": "12567364426497915232"
     },
     "user_tz": -60
    },
    "id": "axJ7gVm_4W4T",
    "outputId": "3132621a-f658-4efe-ae17-0036aa3a3e88"
   },
   "outputs": [
    {
     "data": {
      "text/plain": [
       "[<matplotlib.lines.Line2D at 0x7fe35f8486a0>]"
      ]
     },
     "execution_count": 47,
     "metadata": {},
     "output_type": "execute_result"
    },
    {
     "data": {
      "image/png": "[encoded data removed]",
      "text/plain": [
       "<Figure size 432x288 with 1 Axes>"
      ]
     },
     "metadata": {
      "needs_background": "light"
     },
     "output_type": "display_data"
    }
   ],
   "source": [
    "tSVD = decomposition.TruncatedSVD(n_components=len(devs.columns[2:])-1, random_state=888)\n",
    "devtSVD = tSVD.fit(devsScaled)\n",
    "comps = devtSVD.components_\n",
    "compsVariance = devtSVD.explained_variance_\n",
    "compsVarRatio = devtSVD.explained_variance_ratio_\n",
    "\n",
    "plt.plot(compsVarRatio)"
   ]
  },
  {
   "cell_type": "markdown",
   "metadata": {
    "id": "BUl3ejNgIDsa"
   },
   "source": [
    "Although the first component does not explain the most variance, we can pick the first n components because it is one of the components that explain the most. We notice that the variance ratio explained by each component and the distribution is similar to the previous case of PCA."
   ]
  },
  {
   "cell_type": "code",
   "execution_count": 48,
   "metadata": {
    "colab": {
     "base_uri": "https://localhost:8080/",
     "height": 34
    },
    "executionInfo": {
     "elapsed": 414,
     "status": "ok",
     "timestamp": 1603623778735,
     "user": {
      "displayName": "Jesus Maria Antoñanzas Acero",
      "photoUrl": "",
      "userId": "12567364426497915232"
     },
     "user_tz": -60
    },
    "id": "e4yJtSxC5MIU",
    "outputId": "8d5f9fd9-89d0-4ae2-ac02-9fc22b3c55c3"
   },
   "outputs": [
    {
     "name": "stdout",
     "output_type": "stream",
     "text": [
      "10\n"
     ]
    }
   ],
   "source": [
    "# Pick components that account for x% of variability\n",
    "cumSum = 0\n",
    "nComps = 0\n",
    "x = 0.75\n",
    "for varExplained in compsVarRatio:\n",
    "  cumSum += varExplained\n",
    "  if cumSum >= x:\n",
    "    break\n",
    "  else:\n",
    "    nComps += 1\n",
    "print(nComps)"
   ]
  },
  {
   "cell_type": "markdown",
   "metadata": {
    "id": "axuMPWc2JUa-"
   },
   "source": [
    "Again, the sum of variance ratio explained by the first n components is very similar to the case of PCA. We want to see, though, if the linear relations between components and original features are different. First, find an appropiate number of clusters:"
   ]
  },
  {
   "cell_type": "markdown",
   "metadata": {
    "id": "9VGh5KNBngJT"
   },
   "source": [
    "# 3.1. Clustering over tSVD Principal Components."
   ]
  },
  {
   "cell_type": "markdown",
   "metadata": {
    "id": "8hd0bOVUqhBf"
   },
   "source": [
    "Again, let us find an appropiate number of clusters over the data projected onto the tSVD PCs.\n"
   ]
  },
  {
   "cell_type": "code",
   "execution_count": 49,
   "metadata": {
    "executionInfo": {
     "elapsed": 635,
     "status": "ok",
     "timestamp": 1603623779758,
     "user": {
      "displayName": "Jesus Maria Antoñanzas Acero",
      "photoUrl": "",
      "userId": "12567364426497915232"
     },
     "user_tz": -60
    },
    "id": "4IMyB9nYqnX6"
   },
   "outputs": [],
   "source": [
    "# project and select the first 10 coordinates.\n",
    "importantDims = tSVD.transform(devsScaled)[:,:10]"
   ]
  },
  {
   "cell_type": "code",
   "execution_count": 50,
   "metadata": {
    "colab": {
     "base_uri": "https://localhost:8080/",
     "height": 295
    },
    "executionInfo": {
     "elapsed": 4705,
     "status": "ok",
     "timestamp": 1603623784046,
     "user": {
      "displayName": "Jesus Maria Antoñanzas Acero",
      "photoUrl": "",
      "userId": "12567364426497915232"
     },
     "user_tz": -60
    },
    "id": "K4PmjXI3Juy3",
    "outputId": "9f03c10d-a712-4d78-9369-34a7202b5308"
   },
   "outputs": [
    {
     "data": {
      "image/png": "[encoded data removed]",
      "text/plain": [
       "<Figure size 432x288 with 1 Axes>"
      ]
     },
     "metadata": {
      "needs_background": "light"
     },
     "output_type": "display_data"
    }
   ],
   "source": [
    "Nc = range(1, 20)\n",
    "kmeans = [cluster.KMeans(n_clusters=i) for i in Nc]\n",
    "kmeans\n",
    "score = [kmeans[i].fit(importantDims).score(importantDims) for i in range(len(kmeans))]\n",
    "score\n",
    "plt.plot(Nc,score)\n",
    "plt.xlabel('Number of Clusters')\n",
    "plt.ylabel('Score')\n",
    "plt.title('Elbow Curve')\n",
    "plt.show()"
   ]
  },
  {
   "cell_type": "markdown",
   "metadata": {
    "id": "l5NRbq-aKeXN"
   },
   "source": [
    "5 or 6 clusters (visually) seem appropiate for the same reason as before."
   ]
  },
  {
   "cell_type": "code",
   "execution_count": 51,
   "metadata": {
    "colab": {
     "base_uri": "https://localhost:8080/",
     "height": 319
    },
    "executionInfo": {
     "elapsed": 4954,
     "status": "ok",
     "timestamp": 1603623784664,
     "user": {
      "displayName": "Jesus Maria Antoñanzas Acero",
      "photoUrl": "",
      "userId": "12567364426497915232"
     },
     "user_tz": -60
    },
    "id": "72wjlwB2KtGL",
    "outputId": "ec8930aa-6835-48d0-cd28-02c0f3c2ced7"
   },
   "outputs": [
    {
     "data": {
      "image/png": "[encoded data removed]",
      "text/plain": [
       "<Figure size 432x288 with 1 Axes>"
      ]
     },
     "metadata": {
      "needs_background": "light"
     },
     "output_type": "display_data"
    }
   ],
   "source": [
    "labels, kmeans = fitKMeansAndPlot(importantDims, nClusters=5)"
   ]
  },
  {
   "cell_type": "code",
   "execution_count": 52,
   "metadata": {
    "colab": {
     "base_uri": "https://localhost:8080/",
     "height": 34
    },
    "executionInfo": {
     "elapsed": 4768,
     "status": "ok",
     "timestamp": 1603623784664,
     "user": {
      "displayName": "Jesus Maria Antoñanzas Acero",
      "photoUrl": "",
      "userId": "12567364426497915232"
     },
     "user_tz": -60
    },
    "id": "KbQ3w0MaaxPQ",
    "outputId": "552ab6ec-4737-4371-ebae-fe3d39d3341f"
   },
   "outputs": [
    {
     "name": "stdout",
     "output_type": "stream",
     "text": [
      "{0: 1951, 1: 239, 2: 15, 3: 35, 4: 225}\n"
     ]
    }
   ],
   "source": [
    "nLabels = dict()\n",
    "for label in labels:\n",
    "  if label not in nLabels:\n",
    "    nLabels[label] = 1\n",
    "  nLabels[label] += 1 \n",
    "print(nLabels)"
   ]
  },
  {
   "cell_type": "code",
   "execution_count": 53,
   "metadata": {
    "colab": {
     "base_uri": "https://localhost:8080/",
     "height": 319
    },
    "executionInfo": {
     "elapsed": 5201,
     "status": "ok",
     "timestamp": 1603623785292,
     "user": {
      "displayName": "Jesus Maria Antoñanzas Acero",
      "photoUrl": "",
      "userId": "12567364426497915232"
     },
     "user_tz": -60
    },
    "id": "PfILpIf1KyiD",
    "outputId": "65e03c8d-b992-4498-84cc-94ce82760bfa"
   },
   "outputs": [
    {
     "data": {
      "image/png": "[encoded data removed]",
      "text/plain": [
       "<Figure size 432x288 with 1 Axes>"
      ]
     },
     "metadata": {
      "needs_background": "light"
     },
     "output_type": "display_data"
    }
   ],
   "source": [
    "labels, kmeans = fitKMeansAndPlot(importantDims, nClusters=6)"
   ]
  },
  {
   "cell_type": "code",
   "execution_count": 54,
   "metadata": {
    "colab": {
     "base_uri": "https://localhost:8080/",
     "height": 34
    },
    "executionInfo": {
     "elapsed": 5001,
     "status": "ok",
     "timestamp": 1603623785293,
     "user": {
      "displayName": "Jesus Maria Antoñanzas Acero",
      "photoUrl": "",
      "userId": "12567364426497915232"
     },
     "user_tz": -60
    },
    "id": "iuNsaj3fbEnk",
    "outputId": "0e2baf7a-ff0e-4510-a2d5-f78634f858b9"
   },
   "outputs": [
    {
     "name": "stdout",
     "output_type": "stream",
     "text": [
      "{0: 1953, 1: 241, 3: 4, 5: 8, 2: 35, 4: 225}\n"
     ]
    }
   ],
   "source": [
    "nLabels = dict()\n",
    "for label in labels:\n",
    "  if label not in nLabels:\n",
    "    nLabels[label] = 1\n",
    "  nLabels[label] += 1 \n",
    "print(nLabels)"
   ]
  },
  {
   "cell_type": "markdown",
   "metadata": {
    "id": "C7ENTbW7LWDB"
   },
   "source": [
    "The same as in the previous case: a cluster only contains two devs so we pick only 5 clusters."
   ]
  },
  {
   "cell_type": "code",
   "execution_count": 55,
   "metadata": {
    "executionInfo": {
     "elapsed": 4624,
     "status": "ok",
     "timestamp": 1603623785293,
     "user": {
      "displayName": "Jesus Maria Antoñanzas Acero",
      "photoUrl": "",
      "userId": "12567364426497915232"
     },
     "user_tz": -60
    },
    "id": "xIyzSDrabr92"
   },
   "outputs": [],
   "source": [
    "kmeans = cluster.KMeans(n_clusters=5)\n",
    "kmeans.fit(importantDims)\n",
    "centroids = kmeans.cluster_centers_"
   ]
  },
  {
   "cell_type": "markdown",
   "metadata": {
    "id": "uwlZyOkRnpEx"
   },
   "source": [
    "# 3.2. Interpreting 'tSVD' clusters"
   ]
  },
  {
   "cell_type": "markdown",
   "metadata": {
    "id": "fufsnX6rbx30"
   },
   "source": [
    "Because the PCs extracted from both PCA and tSVD are similarly interpretable, the previously defined functions serve us in the same manner as before to draw conclusions.\n",
    "\n",
    "Now, we observe the correlation of each centroid with the original features. Note that there is difference with the results obtained from PCA. "
   ]
  },
  {
   "cell_type": "code",
   "execution_count": 56,
   "metadata": {
    "colab": {
     "base_uri": "https://localhost:8080/",
     "height": 605
    },
    "executionInfo": {
     "elapsed": 4402,
     "status": "ok",
     "timestamp": 1603623785699,
     "user": {
      "displayName": "Jesus Maria Antoñanzas Acero",
      "photoUrl": "",
      "userId": "12567364426497915232"
     },
     "user_tz": -60
    },
    "id": "L51KY9y9LHVA",
    "outputId": "0cca0b66-f98e-4c56-d142-5d6b9ab02d1c"
   },
   "outputs": [
    {
     "name": "stdout",
     "output_type": "stream",
     "text": [
      "[['codeSqaleDebtRatio' '0.067']\n",
      " ['codeCommentLinesDensity' '0.065']\n",
      " ['codeBlockerViolations' '0.063']\n",
      " ['codeBugs' '0.059']\n",
      " ['resolutionTime' '0.049']]\n"
     ]
    },
    {
     "data": {
      "text/html": [
       "\n",
       "<div id=\"altair-viz-c04abe758bcd4e71a63bf4a7e48ffa3d\"></div>\n",
       "<script type=\"text/javascript\">\n",
       "  (function(spec, embedOpt){\n",
       "    let outputDiv = document.currentScript.previousElementSibling;\n",
       "    if (outputDiv.id !== \"altair-viz-c04abe758bcd4e71a63bf4a7e48ffa3d\") {\n",
       "      outputDiv = document.getElementById(\"altair-viz-c04abe758bcd4e71a63bf4a7e48ffa3d\");\n",
       "    }\n",
       "    const paths = {\n",
       "      \"vega\": \"https://cdn.jsdelivr.net/npm//vega@5?noext\",\n",
       "      \"vega-lib\": \"https://cdn.jsdelivr.net/npm//vega-lib?noext\",\n",
       "      \"vega-lite\": \"https://cdn.jsdelivr.net/npm//vega-lite@4.8.1?noext\",\n",
       "      \"vega-embed\": \"https://cdn.jsdelivr.net/npm//vega-embed@6?noext\",\n",
       "    };\n",
       "\n",
       "    function loadScript(lib) {\n",
       "      return new Promise(function(resolve, reject) {\n",
       "        var s = document.createElement('script');\n",
       "        s.src = paths[lib];\n",
       "        s.async = true;\n",
       "        s.onload = () => resolve(paths[lib]);\n",
       "        s.onerror = () => reject(`Error loading script: ${paths[lib]}`);\n",
       "        document.getElementsByTagName(\"head\")[0].appendChild(s);\n",
       "      });\n",
       "    }\n",
       "\n",
       "    function showError(err) {\n",
       "      outputDiv.innerHTML = `<div class=\"error\" style=\"color:red;\">${err}</div>`;\n",
       "      throw err;\n",
       "    }\n",
       "\n",
       "    function displayChart(vegaEmbed) {\n",
       "      vegaEmbed(outputDiv, spec, embedOpt)\n",
       "        .catch(err => showError(`Javascript Error: ${err.message}<br>This usually means there's a typo in your chart specification. See the javascript console for the full traceback.`));\n",
       "    }\n",
       "\n",
       "    if(typeof define === \"function\" && define.amd) {\n",
       "      requirejs.config({paths});\n",
       "      require([\"vega-embed\"], displayChart, err => showError(`Error loading script: ${err.message}`));\n",
       "    } else if (typeof vegaEmbed === \"function\") {\n",
       "      displayChart(vegaEmbed);\n",
       "    } else {\n",
       "      loadScript(\"vega\")\n",
       "        .then(() => loadScript(\"vega-lite\"))\n",
       "        .then(() => loadScript(\"vega-embed\"))\n",
       "        .catch(showError)\n",
       "        .then(() => displayChart(vegaEmbed));\n",
       "    }\n",
       "  })({\"config\": {\"view\": {\"continuousWidth\": 400, \"continuousHeight\": 300}}, \"data\": {\"name\": \"data-e64669303379e9bb3f8a274f9d34e402\"}, \"mark\": \"bar\", \"encoding\": {\"x\": {\"type\": \"ordinal\", \"field\": \"features\", \"sort\": \"-y\"}, \"y\": {\"type\": \"quantitative\", \"field\": \"correlation\"}}, \"title\": \"Correlation of cluster with features\", \"$schema\": \"https://vega.github.io/schema/vega-lite/v4.8.1.json\", \"datasets\": {\"data-e64669303379e9bb3f8a274f9d34e402\": [{\"features\": \"codeSqaleDebtRatio\", \"correlation\": \"0.067\"}, {\"features\": \"codeCommentLinesDensity\", \"correlation\": \"0.065\"}, {\"features\": \"codeBlockerViolations\", \"correlation\": \"0.063\"}, {\"features\": \"codeBugs\", \"correlation\": \"0.059\"}, {\"features\": \"resolutionTime\", \"correlation\": \"0.049\"}, {\"features\": \"codeFunctionComplexity\", \"correlation\": \"0.041\"}, {\"features\": \"codeInfoViolations\", \"correlation\": \"0.027\"}, {\"features\": \"codeMajorViolations\", \"correlation\": \"0.027\"}, {\"features\": \"sonarCloseTime\", \"correlation\": \"0.025\"}, {\"features\": \"timeInProject\", \"correlation\": \"0.021\"}, {\"features\": \"codeComplexity\", \"correlation\": \"0.021\"}, {\"features\": \"codeReliabilityRemediationEffort\", \"correlation\": \"0.021\"}, {\"features\": \"codeFunctions\", \"correlation\": \"0.02\"}, {\"features\": \"fixedJiraIssues\", \"correlation\": \"0.02\"}, {\"features\": \"codeCognitiveComplexity\", \"correlation\": \"0.019\"}, {\"features\": \"codeSqaleIndex\", \"correlation\": \"0.016\"}, {\"features\": \"codeSecurityRemediationEffort\", \"correlation\": \"0.016\"}, {\"features\": \"codeViolations\", \"correlation\": \"0.014\"}, {\"features\": \"jiraMinor\", \"correlation\": \"0.014\"}, {\"features\": \"codeCodeSmells\", \"correlation\": \"0.014\"}]}}, {\"mode\": \"vega-lite\"});\n",
       "</script>"
      ],
      "text/plain": [
       "alt.Chart(...)"
      ]
     },
     "execution_count": 56,
     "metadata": {},
     "output_type": "execute_result"
    }
   ],
   "source": [
    "centroids = kmeans.cluster_centers_\n",
    "corrFeatures, chart = centroid_corr_with_features(centroids[0], devtSVD, devs.columns[2:], 20)\n",
    "print(corrFeatures[:5])\n",
    "chart"
   ]
  },
  {
   "cell_type": "code",
   "execution_count": 57,
   "metadata": {
    "colab": {
     "base_uri": "https://localhost:8080/",
     "height": 592
    },
    "executionInfo": {
     "elapsed": 4198,
     "status": "ok",
     "timestamp": 1603623785699,
     "user": {
      "displayName": "Jesus Maria Antoñanzas Acero",
      "photoUrl": "",
      "userId": "12567364426497915232"
     },
     "user_tz": -60
    },
    "id": "w6Iq-z54MFIr",
    "outputId": "820263ad-0d5a-49c5-a2d7-2e477d3cc197"
   },
   "outputs": [
    {
     "name": "stdout",
     "output_type": "stream",
     "text": [
      "[['codeSqaleDebtRatio' '0.1']\n",
      " ['codeBlockerViolations' '0.094']\n",
      " ['codeCommentLinesDensity' '0.094']\n",
      " ['codeBugs' '0.088']\n",
      " ['codeFunctionComplexity' '0.061']]\n"
     ]
    },
    {
     "data": {
      "text/html": [
       "\n",
       "<div id=\"altair-viz-4548a69139574d079b6e7d5df4f8a473\"></div>\n",
       "<script type=\"text/javascript\">\n",
       "  (function(spec, embedOpt){\n",
       "    let outputDiv = document.currentScript.previousElementSibling;\n",
       "    if (outputDiv.id !== \"altair-viz-4548a69139574d079b6e7d5df4f8a473\") {\n",
       "      outputDiv = document.getElementById(\"altair-viz-4548a69139574d079b6e7d5df4f8a473\");\n",
       "    }\n",
       "    const paths = {\n",
       "      \"vega\": \"https://cdn.jsdelivr.net/npm//vega@5?noext\",\n",
       "      \"vega-lib\": \"https://cdn.jsdelivr.net/npm//vega-lib?noext\",\n",
       "      \"vega-lite\": \"https://cdn.jsdelivr.net/npm//vega-lite@4.8.1?noext\",\n",
       "      \"vega-embed\": \"https://cdn.jsdelivr.net/npm//vega-embed@6?noext\",\n",
       "    };\n",
       "\n",
       "    function loadScript(lib) {\n",
       "      return new Promise(function(resolve, reject) {\n",
       "        var s = document.createElement('script');\n",
       "        s.src = paths[lib];\n",
       "        s.async = true;\n",
       "        s.onload = () => resolve(paths[lib]);\n",
       "        s.onerror = () => reject(`Error loading script: ${paths[lib]}`);\n",
       "        document.getElementsByTagName(\"head\")[0].appendChild(s);\n",
       "      });\n",
       "    }\n",
       "\n",
       "    function showError(err) {\n",
       "      outputDiv.innerHTML = `<div class=\"error\" style=\"color:red;\">${err}</div>`;\n",
       "      throw err;\n",
       "    }\n",
       "\n",
       "    function displayChart(vegaEmbed) {\n",
       "      vegaEmbed(outputDiv, spec, embedOpt)\n",
       "        .catch(err => showError(`Javascript Error: ${err.message}<br>This usually means there's a typo in your chart specification. See the javascript console for the full traceback.`));\n",
       "    }\n",
       "\n",
       "    if(typeof define === \"function\" && define.amd) {\n",
       "      requirejs.config({paths});\n",
       "      require([\"vega-embed\"], displayChart, err => showError(`Error loading script: ${err.message}`));\n",
       "    } else if (typeof vegaEmbed === \"function\") {\n",
       "      displayChart(vegaEmbed);\n",
       "    } else {\n",
       "      loadScript(\"vega\")\n",
       "        .then(() => loadScript(\"vega-lite\"))\n",
       "        .then(() => loadScript(\"vega-embed\"))\n",
       "        .catch(showError)\n",
       "        .then(() => displayChart(vegaEmbed));\n",
       "    }\n",
       "  })({\"config\": {\"view\": {\"continuousWidth\": 400, \"continuousHeight\": 300}}, \"data\": {\"name\": \"data-a650d412cc308f2b881511798bc58b3a\"}, \"mark\": \"bar\", \"encoding\": {\"x\": {\"type\": \"ordinal\", \"field\": \"features\", \"sort\": \"-y\"}, \"y\": {\"type\": \"quantitative\", \"field\": \"correlation\"}}, \"title\": \"Correlation of cluster with features\", \"$schema\": \"https://vega.github.io/schema/vega-lite/v4.8.1.json\", \"datasets\": {\"data-a650d412cc308f2b881511798bc58b3a\": [{\"features\": \"codeSqaleDebtRatio\", \"correlation\": \"0.1\"}, {\"features\": \"codeBlockerViolations\", \"correlation\": \"0.094\"}, {\"features\": \"codeCommentLinesDensity\", \"correlation\": \"0.094\"}, {\"features\": \"codeBugs\", \"correlation\": \"0.088\"}, {\"features\": \"codeFunctionComplexity\", \"correlation\": \"0.061\"}, {\"features\": \"codeInfoViolations\", \"correlation\": \"0.041\"}, {\"features\": \"codeMajorViolations\", \"correlation\": \"0.04\"}, {\"features\": \"codeComplexity\", \"correlation\": \"0.031\"}, {\"features\": \"codeReliabilityRemediationEffort\", \"correlation\": \"0.03\"}, {\"features\": \"codeFunctions\", \"correlation\": \"0.029\"}, {\"features\": \"codeCognitiveComplexity\", \"correlation\": \"0.028\"}, {\"features\": \"resolutionTime\", \"correlation\": \"0.024\"}, {\"features\": \"codeSqaleIndex\", \"correlation\": \"0.022\"}, {\"features\": \"codeSecurityRemediationEffort\", \"correlation\": \"0.022\"}, {\"features\": \"codeViolations\", \"correlation\": \"0.02\"}, {\"features\": \"codeCodeSmells\", \"correlation\": \"0.019\"}, {\"features\": \"codeVulnerabilities\", \"correlation\": \"0.017\"}, {\"features\": \"sonarCloseTime\", \"correlation\": \"0.017\"}, {\"features\": \"timeInProject\", \"correlation\": \"0.017\"}, {\"features\": \"codeNcloc\", \"correlation\": \"0.015\"}]}}, {\"mode\": \"vega-lite\"});\n",
       "</script>"
      ],
      "text/plain": [
       "alt.Chart(...)"
      ]
     },
     "execution_count": 57,
     "metadata": {},
     "output_type": "execute_result"
    }
   ],
   "source": [
    "corrFeatures, chart = centroid_corr_with_features(centroids[1], devtSVD, devs.columns[2:], 20)\n",
    "print(corrFeatures[:5])\n",
    "chart"
   ]
  },
  {
   "cell_type": "code",
   "execution_count": 58,
   "metadata": {
    "colab": {
     "base_uri": "https://localhost:8080/",
     "height": 605
    },
    "executionInfo": {
     "elapsed": 3985,
     "status": "ok",
     "timestamp": 1603623785700,
     "user": {
      "displayName": "Jesus Maria Antoñanzas Acero",
      "photoUrl": "",
      "userId": "12567364426497915232"
     },
     "user_tz": -60
    },
    "id": "WIEBLiG0MGkj",
    "outputId": "c6362ea5-6eeb-41a2-f42a-d9c650267482"
   },
   "outputs": [
    {
     "name": "stdout",
     "output_type": "stream",
     "text": [
      "[['codeSqaleDebtRatio' '0.072']\n",
      " ['codeCommentLinesDensity' '0.07']\n",
      " ['codeBlockerViolations' '0.067']\n",
      " ['codeBugs' '0.063']\n",
      " ['codeFunctionComplexity' '0.045']]\n"
     ]
    },
    {
     "data": {
      "text/html": [
       "\n",
       "<div id=\"altair-viz-adfb797d8e104e67b73c62409257b935\"></div>\n",
       "<script type=\"text/javascript\">\n",
       "  (function(spec, embedOpt){\n",
       "    let outputDiv = document.currentScript.previousElementSibling;\n",
       "    if (outputDiv.id !== \"altair-viz-adfb797d8e104e67b73c62409257b935\") {\n",
       "      outputDiv = document.getElementById(\"altair-viz-adfb797d8e104e67b73c62409257b935\");\n",
       "    }\n",
       "    const paths = {\n",
       "      \"vega\": \"https://cdn.jsdelivr.net/npm//vega@5?noext\",\n",
       "      \"vega-lib\": \"https://cdn.jsdelivr.net/npm//vega-lib?noext\",\n",
       "      \"vega-lite\": \"https://cdn.jsdelivr.net/npm//vega-lite@4.8.1?noext\",\n",
       "      \"vega-embed\": \"https://cdn.jsdelivr.net/npm//vega-embed@6?noext\",\n",
       "    };\n",
       "\n",
       "    function loadScript(lib) {\n",
       "      return new Promise(function(resolve, reject) {\n",
       "        var s = document.createElement('script');\n",
       "        s.src = paths[lib];\n",
       "        s.async = true;\n",
       "        s.onload = () => resolve(paths[lib]);\n",
       "        s.onerror = () => reject(`Error loading script: ${paths[lib]}`);\n",
       "        document.getElementsByTagName(\"head\")[0].appendChild(s);\n",
       "      });\n",
       "    }\n",
       "\n",
       "    function showError(err) {\n",
       "      outputDiv.innerHTML = `<div class=\"error\" style=\"color:red;\">${err}</div>`;\n",
       "      throw err;\n",
       "    }\n",
       "\n",
       "    function displayChart(vegaEmbed) {\n",
       "      vegaEmbed(outputDiv, spec, embedOpt)\n",
       "        .catch(err => showError(`Javascript Error: ${err.message}<br>This usually means there's a typo in your chart specification. See the javascript console for the full traceback.`));\n",
       "    }\n",
       "\n",
       "    if(typeof define === \"function\" && define.amd) {\n",
       "      requirejs.config({paths});\n",
       "      require([\"vega-embed\"], displayChart, err => showError(`Error loading script: ${err.message}`));\n",
       "    } else if (typeof vegaEmbed === \"function\") {\n",
       "      displayChart(vegaEmbed);\n",
       "    } else {\n",
       "      loadScript(\"vega\")\n",
       "        .then(() => loadScript(\"vega-lite\"))\n",
       "        .then(() => loadScript(\"vega-embed\"))\n",
       "        .catch(showError)\n",
       "        .then(() => displayChart(vegaEmbed));\n",
       "    }\n",
       "  })({\"config\": {\"view\": {\"continuousWidth\": 400, \"continuousHeight\": 300}}, \"data\": {\"name\": \"data-0fcf70a6060bc9fe368c834d9efe030e\"}, \"mark\": \"bar\", \"encoding\": {\"x\": {\"type\": \"ordinal\", \"field\": \"features\", \"sort\": \"-y\"}, \"y\": {\"type\": \"quantitative\", \"field\": \"correlation\"}}, \"title\": \"Correlation of cluster with features\", \"$schema\": \"https://vega.github.io/schema/vega-lite/v4.8.1.json\", \"datasets\": {\"data-0fcf70a6060bc9fe368c834d9efe030e\": [{\"features\": \"codeSqaleDebtRatio\", \"correlation\": \"0.072\"}, {\"features\": \"codeCommentLinesDensity\", \"correlation\": \"0.07\"}, {\"features\": \"codeBlockerViolations\", \"correlation\": \"0.067\"}, {\"features\": \"codeBugs\", \"correlation\": \"0.063\"}, {\"features\": \"codeFunctionComplexity\", \"correlation\": \"0.045\"}, {\"features\": \"sonarCloseTime\", \"correlation\": \"0.038\"}, {\"features\": \"timeInProject\", \"correlation\": \"0.033\"}, {\"features\": \"resolutionTime\", \"correlation\": \"0.033\"}, {\"features\": \"codeInfoViolations\", \"correlation\": \"0.03\"}, {\"features\": \"codeMajorViolations\", \"correlation\": \"0.029\"}, {\"features\": \"codeComplexity\", \"correlation\": \"0.023\"}, {\"features\": \"codeReliabilityRemediationEffort\", \"correlation\": \"0.023\"}, {\"features\": \"codeFunctions\", \"correlation\": \"0.022\"}, {\"features\": \"codeCognitiveComplexity\", \"correlation\": \"0.022\"}, {\"features\": \"codeSqaleIndex\", \"correlation\": \"0.018\"}, {\"features\": \"codeSecurityRemediationEffort\", \"correlation\": \"0.017\"}, {\"features\": \"codeViolations\", \"correlation\": \"0.016\"}, {\"features\": \"codeCodeSmells\", \"correlation\": \"0.015\"}, {\"features\": \"codeVulnerabilities\", \"correlation\": \"0.014\"}, {\"features\": \"numberCommits\", \"correlation\": \"0.014\"}]}}, {\"mode\": \"vega-lite\"});\n",
       "</script>"
      ],
      "text/plain": [
       "alt.Chart(...)"
      ]
     },
     "execution_count": 58,
     "metadata": {},
     "output_type": "execute_result"
    }
   ],
   "source": [
    "corrFeatures, chart = centroid_corr_with_features(centroids[2], devtSVD, devs.columns[2:], 20)\n",
    "print(corrFeatures[:5])\n",
    "chart"
   ]
  },
  {
   "cell_type": "code",
   "execution_count": 59,
   "metadata": {
    "colab": {
     "base_uri": "https://localhost:8080/",
     "height": 605
    },
    "executionInfo": {
     "elapsed": 3778,
     "status": "ok",
     "timestamp": 1603623785700,
     "user": {
      "displayName": "Jesus Maria Antoñanzas Acero",
      "photoUrl": "",
      "userId": "12567364426497915232"
     },
     "user_tz": -60
    },
    "id": "7ds-uskMMHhr",
    "outputId": "2aeac3a4-60ff-4cbf-df4f-da10317ecdbd"
   },
   "outputs": [
    {
     "name": "stdout",
     "output_type": "stream",
     "text": [
      "[['resolutionTime' '0.071']\n",
      " ['codeSqaleDebtRatio' '0.044']\n",
      " ['codeCommentLinesDensity' '0.044']\n",
      " ['codeBlockerViolations' '0.041']\n",
      " ['codeBugs' '0.039']]\n"
     ]
    },
    {
     "data": {
      "text/html": [
       "\n",
       "<div id=\"altair-viz-e97b4ee3219147158167303798c3037b\"></div>\n",
       "<script type=\"text/javascript\">\n",
       "  (function(spec, embedOpt){\n",
       "    let outputDiv = document.currentScript.previousElementSibling;\n",
       "    if (outputDiv.id !== \"altair-viz-e97b4ee3219147158167303798c3037b\") {\n",
       "      outputDiv = document.getElementById(\"altair-viz-e97b4ee3219147158167303798c3037b\");\n",
       "    }\n",
       "    const paths = {\n",
       "      \"vega\": \"https://cdn.jsdelivr.net/npm//vega@5?noext\",\n",
       "      \"vega-lib\": \"https://cdn.jsdelivr.net/npm//vega-lib?noext\",\n",
       "      \"vega-lite\": \"https://cdn.jsdelivr.net/npm//vega-lite@4.8.1?noext\",\n",
       "      \"vega-embed\": \"https://cdn.jsdelivr.net/npm//vega-embed@6?noext\",\n",
       "    };\n",
       "\n",
       "    function loadScript(lib) {\n",
       "      return new Promise(function(resolve, reject) {\n",
       "        var s = document.createElement('script');\n",
       "        s.src = paths[lib];\n",
       "        s.async = true;\n",
       "        s.onload = () => resolve(paths[lib]);\n",
       "        s.onerror = () => reject(`Error loading script: ${paths[lib]}`);\n",
       "        document.getElementsByTagName(\"head\")[0].appendChild(s);\n",
       "      });\n",
       "    }\n",
       "\n",
       "    function showError(err) {\n",
       "      outputDiv.innerHTML = `<div class=\"error\" style=\"color:red;\">${err}</div>`;\n",
       "      throw err;\n",
       "    }\n",
       "\n",
       "    function displayChart(vegaEmbed) {\n",
       "      vegaEmbed(outputDiv, spec, embedOpt)\n",
       "        .catch(err => showError(`Javascript Error: ${err.message}<br>This usually means there's a typo in your chart specification. See the javascript console for the full traceback.`));\n",
       "    }\n",
       "\n",
       "    if(typeof define === \"function\" && define.amd) {\n",
       "      requirejs.config({paths});\n",
       "      require([\"vega-embed\"], displayChart, err => showError(`Error loading script: ${err.message}`));\n",
       "    } else if (typeof vegaEmbed === \"function\") {\n",
       "      displayChart(vegaEmbed);\n",
       "    } else {\n",
       "      loadScript(\"vega\")\n",
       "        .then(() => loadScript(\"vega-lite\"))\n",
       "        .then(() => loadScript(\"vega-embed\"))\n",
       "        .catch(showError)\n",
       "        .then(() => displayChart(vegaEmbed));\n",
       "    }\n",
       "  })({\"config\": {\"view\": {\"continuousWidth\": 400, \"continuousHeight\": 300}}, \"data\": {\"name\": \"data-bed478d5955422eca6513af5903fd63f\"}, \"mark\": \"bar\", \"encoding\": {\"x\": {\"type\": \"ordinal\", \"field\": \"features\", \"sort\": \"-y\"}, \"y\": {\"type\": \"quantitative\", \"field\": \"correlation\"}}, \"title\": \"Correlation of cluster with features\", \"$schema\": \"https://vega.github.io/schema/vega-lite/v4.8.1.json\", \"datasets\": {\"data-bed478d5955422eca6513af5903fd63f\": [{\"features\": \"resolutionTime\", \"correlation\": \"0.071\"}, {\"features\": \"codeSqaleDebtRatio\", \"correlation\": \"0.044\"}, {\"features\": \"codeCommentLinesDensity\", \"correlation\": \"0.044\"}, {\"features\": \"codeBlockerViolations\", \"correlation\": \"0.041\"}, {\"features\": \"codeBugs\", \"correlation\": \"0.039\"}, {\"features\": \"fixedJiraIssues\", \"correlation\": \"0.036\"}, {\"features\": \"codeFunctionComplexity\", \"correlation\": \"0.026\"}, {\"features\": \"jiraMinor\", \"correlation\": \"0.026\"}, {\"features\": \"jiraCritical\", \"correlation\": \"0.025\"}, {\"features\": \"jiraBlocker\", \"correlation\": \"0.025\"}, {\"features\": \"jiraMajor\", \"correlation\": \"0.024\"}, {\"features\": \"jiraImprovement\", \"correlation\": \"0.024\"}, {\"features\": \"jiraTask\", \"correlation\": \"0.024\"}, {\"features\": \"jiraBug\", \"correlation\": \"0.024\"}, {\"features\": \"jiraSub-task\", \"correlation\": \"0.023\"}, {\"features\": \"sonarCloseTime\", \"correlation\": \"0.021\"}, {\"features\": \"jiraNewFeature\", \"correlation\": \"0.019\"}, {\"features\": \"codeInfoViolations\", \"correlation\": \"0.017\"}, {\"features\": \"codeMajorViolations\", \"correlation\": \"0.017\"}, {\"features\": \"timeInProject\", \"correlation\": \"0.015\"}]}}, {\"mode\": \"vega-lite\"});\n",
       "</script>"
      ],
      "text/plain": [
       "alt.Chart(...)"
      ]
     },
     "execution_count": 59,
     "metadata": {},
     "output_type": "execute_result"
    }
   ],
   "source": [
    "corrFeatures, chart = centroid_corr_with_features(centroids[3], devtSVD, devs.columns[2:], 20)\n",
    "print(corrFeatures[:5])\n",
    "chart"
   ]
  },
  {
   "cell_type": "code",
   "execution_count": 60,
   "metadata": {
    "colab": {
     "base_uri": "https://localhost:8080/",
     "height": 583
    },
    "executionInfo": {
     "elapsed": 3576,
     "status": "ok",
     "timestamp": 1603623785700,
     "user": {
      "displayName": "Jesus Maria Antoñanzas Acero",
      "photoUrl": "",
      "userId": "12567364426497915232"
     },
     "user_tz": -60
    },
    "id": "5XgIDCUKMXBd",
    "outputId": "1cf4835e-94a1-41a5-c8f7-5432e2914215"
   },
   "outputs": [
    {
     "name": "stdout",
     "output_type": "stream",
     "text": [
      "[['sonarCloseTime' '0.047']\n",
      " ['resolutionTime' '0.046']\n",
      " ['timeInProject' '0.042']\n",
      " ['codeCommentLinesDensity' '0.04']\n",
      " ['codeSqaleDebtRatio' '0.037']]\n"
     ]
    },
    {
     "data": {
      "text/html": [
       "\n",
       "<div id=\"altair-viz-8ef528a7c59746c79f0405045ba19581\"></div>\n",
       "<script type=\"text/javascript\">\n",
       "  (function(spec, embedOpt){\n",
       "    let outputDiv = document.currentScript.previousElementSibling;\n",
       "    if (outputDiv.id !== \"altair-viz-8ef528a7c59746c79f0405045ba19581\") {\n",
       "      outputDiv = document.getElementById(\"altair-viz-8ef528a7c59746c79f0405045ba19581\");\n",
       "    }\n",
       "    const paths = {\n",
       "      \"vega\": \"https://cdn.jsdelivr.net/npm//vega@5?noext\",\n",
       "      \"vega-lib\": \"https://cdn.jsdelivr.net/npm//vega-lib?noext\",\n",
       "      \"vega-lite\": \"https://cdn.jsdelivr.net/npm//vega-lite@4.8.1?noext\",\n",
       "      \"vega-embed\": \"https://cdn.jsdelivr.net/npm//vega-embed@6?noext\",\n",
       "    };\n",
       "\n",
       "    function loadScript(lib) {\n",
       "      return new Promise(function(resolve, reject) {\n",
       "        var s = document.createElement('script');\n",
       "        s.src = paths[lib];\n",
       "        s.async = true;\n",
       "        s.onload = () => resolve(paths[lib]);\n",
       "        s.onerror = () => reject(`Error loading script: ${paths[lib]}`);\n",
       "        document.getElementsByTagName(\"head\")[0].appendChild(s);\n",
       "      });\n",
       "    }\n",
       "\n",
       "    function showError(err) {\n",
       "      outputDiv.innerHTML = `<div class=\"error\" style=\"color:red;\">${err}</div>`;\n",
       "      throw err;\n",
       "    }\n",
       "\n",
       "    function displayChart(vegaEmbed) {\n",
       "      vegaEmbed(outputDiv, spec, embedOpt)\n",
       "        .catch(err => showError(`Javascript Error: ${err.message}<br>This usually means there's a typo in your chart specification. See the javascript console for the full traceback.`));\n",
       "    }\n",
       "\n",
       "    if(typeof define === \"function\" && define.amd) {\n",
       "      requirejs.config({paths});\n",
       "      require([\"vega-embed\"], displayChart, err => showError(`Error loading script: ${err.message}`));\n",
       "    } else if (typeof vegaEmbed === \"function\") {\n",
       "      displayChart(vegaEmbed);\n",
       "    } else {\n",
       "      loadScript(\"vega\")\n",
       "        .then(() => loadScript(\"vega-lite\"))\n",
       "        .then(() => loadScript(\"vega-embed\"))\n",
       "        .catch(showError)\n",
       "        .then(() => displayChart(vegaEmbed));\n",
       "    }\n",
       "  })({\"config\": {\"view\": {\"continuousWidth\": 400, \"continuousHeight\": 300}}, \"data\": {\"name\": \"data-188aeaea908979e9404ef0af56cdbe61\"}, \"mark\": \"bar\", \"encoding\": {\"x\": {\"type\": \"ordinal\", \"field\": \"features\", \"sort\": \"-y\"}, \"y\": {\"type\": \"quantitative\", \"field\": \"correlation\"}}, \"title\": \"Correlation of cluster with features\", \"$schema\": \"https://vega.github.io/schema/vega-lite/v4.8.1.json\", \"datasets\": {\"data-188aeaea908979e9404ef0af56cdbe61\": [{\"features\": \"sonarCloseTime\", \"correlation\": \"0.047\"}, {\"features\": \"resolutionTime\", \"correlation\": \"0.046\"}, {\"features\": \"timeInProject\", \"correlation\": \"0.042\"}, {\"features\": \"codeCommentLinesDensity\", \"correlation\": \"0.04\"}, {\"features\": \"codeSqaleDebtRatio\", \"correlation\": \"0.037\"}, {\"features\": \"codeBlockerViolations\", \"correlation\": \"0.036\"}, {\"features\": \"codeBugs\", \"correlation\": \"0.033\"}, {\"features\": \"codeFunctionComplexity\", \"correlation\": \"0.024\"}, {\"features\": \"numberCommits\", \"correlation\": \"0.02\"}, {\"features\": \"refactoringExtractMethod\", \"correlation\": \"0.017\"}, {\"features\": \"codeInfoViolations\", \"correlation\": \"0.016\"}, {\"features\": \"fixedSonarIssues\", \"correlation\": \"0.016\"}, {\"features\": \"codeMajorViolations\", \"correlation\": \"0.016\"}, {\"features\": \"fixedSZZIssues\", \"correlation\": \"0.015\"}, {\"features\": \"codeComplexity\", \"correlation\": \"0.014\"}, {\"features\": \"fixedJiraIssues\", \"correlation\": \"0.014\"}, {\"features\": \"codeFunctions\", \"correlation\": \"0.014\"}, {\"features\": \"codeCognitiveComplexity\", \"correlation\": \"0.013\"}, {\"features\": \"codeReliabilityRemediationEffort\", \"correlation\": \"0.013\"}, {\"features\": \"refactoringPushDownAttribute\", \"correlation\": \"0.012\"}]}}, {\"mode\": \"vega-lite\"});\n",
       "</script>"
      ],
      "text/plain": [
       "alt.Chart(...)"
      ]
     },
     "execution_count": 60,
     "metadata": {},
     "output_type": "execute_result"
    }
   ],
   "source": [
    "corrFeatures, chart = centroid_corr_with_features(centroids[4], devtSVD, devs.columns[2:], 20)\n",
    "print(corrFeatures[:5])\n",
    "chart"
   ]
  },
  {
   "cell_type": "markdown",
   "metadata": {
    "id": "_w21GfKHcNsp"
   },
   "source": [
    "Finally, we save the same data as before: the mean characteristics of each developer cluster. Note that if there are differences between the two, it does not mean that one of the results is wrong. Rather, it is a different, although correct, clustering obtained from different linear relations (the projection onto the PCA/tSVD Principal Component space)."
   ]
  },
  {
   "cell_type": "code",
   "execution_count": 61,
   "metadata": {
    "colab": {
     "base_uri": "https://localhost:8080/",
     "height": 187
    },
    "executionInfo": {
     "elapsed": 2252,
     "status": "ok",
     "timestamp": 1603623785701,
     "user": {
      "displayName": "Jesus Maria Antoñanzas Acero",
      "photoUrl": "",
      "userId": "12567364426497915232"
     },
     "user_tz": -60
    },
    "id": "13tSG_qDcx5A",
    "outputId": "1d60b4e9-b61e-432e-d63d-75256c1ef306"
   },
   "outputs": [
    {
     "data": {
      "text/plain": [
       "[['codeSqaleDebtRatio', 0.0],\n",
       " ['codeCommentLinesDensity', 0.01],\n",
       " ['codeBlockerViolations', 0.02],\n",
       " ['codeBugs', 0.26],\n",
       " ['resolutionTime', 36271.81],\n",
       " ['codeFunctionComplexity', -0.0],\n",
       " ['codeInfoViolations', -0.42],\n",
       " ['codeMajorViolations', -5.26],\n",
       " ['sonarCloseTime', 21.89],\n",
       " ['timeInProject', 4594.22]]"
      ]
     },
     "execution_count": 61,
     "metadata": {},
     "output_type": "execute_result"
    }
   ],
   "source": [
    "important_values(centroids[0], devtSVD, devs.columns[2:], minMaxScaler, 10)"
   ]
  },
  {
   "cell_type": "code",
   "execution_count": 62,
   "metadata": {
    "colab": {
     "base_uri": "https://localhost:8080/",
     "height": 187
    },
    "executionInfo": {
     "elapsed": 1529,
     "status": "ok",
     "timestamp": 1603623785701,
     "user": {
      "displayName": "Jesus Maria Antoñanzas Acero",
      "photoUrl": "",
      "userId": "12567364426497915232"
     },
     "user_tz": -60
    },
    "id": "SeztFwT3d3W4",
    "outputId": "3fd39ddc-b391-4b15-9c32-ee204b46bb5e"
   },
   "outputs": [
    {
     "data": {
      "text/plain": [
       "[['codeSqaleDebtRatio', 0.01],\n",
       " ['codeBlockerViolations', 0.08],\n",
       " ['codeCommentLinesDensity', -0.01],\n",
       " ['codeBugs', -0.19],\n",
       " ['codeFunctionComplexity', 0.01],\n",
       " ['codeInfoViolations', 1.44],\n",
       " ['codeMajorViolations', 12.1],\n",
       " ['codeComplexity', 39.89],\n",
       " ['codeReliabilityRemediationEffort', 7.9],\n",
       " ['codeFunctions', 22.91]]"
      ]
     },
     "execution_count": 62,
     "metadata": {},
     "output_type": "execute_result"
    }
   ],
   "source": [
    "important_values(centroids[1], devtSVD, devs.columns[2:], minMaxScaler, 10)"
   ]
  },
  {
   "cell_type": "code",
   "execution_count": 63,
   "metadata": {
    "colab": {
     "base_uri": "https://localhost:8080/",
     "height": 187
    },
    "executionInfo": {
     "elapsed": 880,
     "status": "ok",
     "timestamp": 1603623785702,
     "user": {
      "displayName": "Jesus Maria Antoñanzas Acero",
      "photoUrl": "",
      "userId": "12567364426497915232"
     },
     "user_tz": -60
    },
    "id": "SoCZ_pfbd56a",
    "outputId": "1e3856b3-ed0e-4895-82d3-3da68da39185"
   },
   "outputs": [
    {
     "data": {
      "text/plain": [
       "[['codeSqaleDebtRatio', 0.56],\n",
       " ['codeCommentLinesDensity', 0.12],\n",
       " ['codeBlockerViolations', 4.88],\n",
       " ['codeBugs', 17.44],\n",
       " ['codeFunctionComplexity', 0.32],\n",
       " ['sonarCloseTime', 44421.04],\n",
       " ['timeInProject', 103924825.86],\n",
       " ['resolutionTime', -11.56],\n",
       " ['codeInfoViolations', 23.71],\n",
       " ['codeMajorViolations', 492.61]]"
      ]
     },
     "execution_count": 63,
     "metadata": {},
     "output_type": "execute_result"
    }
   ],
   "source": [
    "important_values(centroids[2], devtSVD, devs.columns[2:], minMaxScaler, 10)"
   ]
  },
  {
   "cell_type": "code",
   "execution_count": 64,
   "metadata": {
    "colab": {
     "base_uri": "https://localhost:8080/",
     "height": 187
    },
    "executionInfo": {
     "elapsed": 740,
     "status": "ok",
     "timestamp": 1603623785908,
     "user": {
      "displayName": "Jesus Maria Antoñanzas Acero",
      "photoUrl": "",
      "userId": "12567364426497915232"
     },
     "user_tz": -60
    },
    "id": "KJ5nHydDd7Fc",
    "outputId": "0c13bd04-3a98-499f-e979-76cc049d110c"
   },
   "outputs": [
    {
     "data": {
      "text/plain": [
       "[['resolutionTime', 1332.37],\n",
       " ['codeSqaleDebtRatio', 0.0],\n",
       " ['codeCommentLinesDensity', 0.01],\n",
       " ['codeBlockerViolations', 0.01],\n",
       " ['codeBugs', 0.07],\n",
       " ['fixedJiraIssues', 645.56],\n",
       " ['codeFunctionComplexity', -0.0],\n",
       " ['jiraMinor', 40.56],\n",
       " ['jiraCritical', 127.87],\n",
       " ['jiraBlocker', 45.42]]"
      ]
     },
     "execution_count": 64,
     "metadata": {},
     "output_type": "execute_result"
    }
   ],
   "source": [
    "important_values(centroids[3], devtSVD, devs.columns[2:], minMaxScaler, 10)"
   ]
  },
  {
   "cell_type": "code",
   "execution_count": 65,
   "metadata": {
    "colab": {
     "base_uri": "https://localhost:8080/",
     "height": 187
    },
    "executionInfo": {
     "elapsed": 442,
     "status": "ok",
     "timestamp": 1603623785909,
     "user": {
      "displayName": "Jesus Maria Antoñanzas Acero",
      "photoUrl": "",
      "userId": "12567364426497915232"
     },
     "user_tz": -60
    },
    "id": "SJtGuYrvd8Td",
    "outputId": "3e54766a-daab-466c-febc-b98e02115835"
   },
   "outputs": [
    {
     "data": {
      "text/plain": [
       "[['sonarCloseTime', 27218.9],\n",
       " ['resolutionTime', 34.34],\n",
       " ['timeInProject', 195534872.87],\n",
       " ['codeCommentLinesDensity', -0.19],\n",
       " ['codeSqaleDebtRatio', 4.57],\n",
       " ['codeBlockerViolations', 52.62],\n",
       " ['codeBugs', 251.71],\n",
       " ['codeFunctionComplexity', 2.71],\n",
       " ['numberCommits', 2169.52],\n",
       " ['refactoringExtractMethod', 133.89]]"
      ]
     },
     "execution_count": 65,
     "metadata": {},
     "output_type": "execute_result"
    }
   ],
   "source": [
    "important_values(centroids[4], devtSVD, devs.columns[2:], minMaxScaler, 10)"
   ]
  },
  {
   "cell_type": "code",
   "execution_count": 66,
   "metadata": {
    "colab": {
     "base_uri": "https://localhost:8080/",
     "height": 270
    },
    "executionInfo": {
     "elapsed": 668,
     "status": "ok",
     "timestamp": 1603623786676,
     "user": {
      "displayName": "Jesus Maria Antoñanzas Acero",
      "photoUrl": "",
      "userId": "12567364426497915232"
     },
     "user_tz": -60
    },
    "id": "YQRDnQc4eVLi",
    "outputId": "36bc0edf-b018-40fb-fa81-9ab8e382fee4"
   },
   "outputs": [
    {
     "data": {
      "text/html": [
       "<div>\n",
       "<style scoped>\n",
       "    .dataframe tbody tr th:only-of-type {\n",
       "        vertical-align: middle;\n",
       "    }\n",
       "\n",
       "    .dataframe tbody tr th {\n",
       "        vertical-align: top;\n",
       "    }\n",
       "\n",
       "    .dataframe thead th {\n",
       "        text-align: right;\n",
       "    }\n",
       "</style>\n",
       "<table border=\"1\" class=\"dataframe\">\n",
       "  <thead>\n",
       "    <tr style=\"text-align: right;\">\n",
       "      <th></th>\n",
       "      <th>codeSqaleDebtRatio</th>\n",
       "      <th>codeCommentLinesDensity</th>\n",
       "      <th>codeBlockerViolations</th>\n",
       "      <th>codeBugs</th>\n",
       "      <th>resolutionTime</th>\n",
       "      <th>codeFunctionComplexity</th>\n",
       "      <th>codeInfoViolations</th>\n",
       "      <th>codeMajorViolations</th>\n",
       "      <th>sonarCloseTime</th>\n",
       "      <th>timeInProject</th>\n",
       "      <th>...</th>\n",
       "      <th>sonarBug</th>\n",
       "      <th>sonarCritical</th>\n",
       "      <th>sonarInfo</th>\n",
       "      <th>linesRemoved</th>\n",
       "      <th>sonarVulnerability</th>\n",
       "      <th>commitChangeRename</th>\n",
       "      <th>sonarBlocker</th>\n",
       "      <th>commitChangeDelete</th>\n",
       "      <th>jiraDependencyUpgrade</th>\n",
       "      <th>commitChangeUnknown</th>\n",
       "    </tr>\n",
       "  </thead>\n",
       "  <tbody>\n",
       "    <tr>\n",
       "      <th>cluster0</th>\n",
       "      <td>0.0</td>\n",
       "      <td>0.01</td>\n",
       "      <td>0.02</td>\n",
       "      <td>0.26</td>\n",
       "      <td>36271.81</td>\n",
       "      <td>-0.0</td>\n",
       "      <td>-0.42</td>\n",
       "      <td>-5.26</td>\n",
       "      <td>21.89</td>\n",
       "      <td>4594.22</td>\n",
       "      <td>...</td>\n",
       "      <td>0.38</td>\n",
       "      <td>2.59</td>\n",
       "      <td>1.14</td>\n",
       "      <td>-1.28</td>\n",
       "      <td>1.27</td>\n",
       "      <td>-0.03</td>\n",
       "      <td>0.53</td>\n",
       "      <td>-0.04</td>\n",
       "      <td>-0.0</td>\n",
       "      <td>-0.02</td>\n",
       "    </tr>\n",
       "    <tr>\n",
       "      <th>cluster1</th>\n",
       "      <td>0.01</td>\n",
       "      <td>-0.01</td>\n",
       "      <td>0.08</td>\n",
       "      <td>-0.19</td>\n",
       "      <td>2735.62</td>\n",
       "      <td>0.01</td>\n",
       "      <td>1.44</td>\n",
       "      <td>12.1</td>\n",
       "      <td>881.42</td>\n",
       "      <td>6829819.48</td>\n",
       "      <td>...</td>\n",
       "      <td>0.16</td>\n",
       "      <td>-0.37</td>\n",
       "      <td>-1.19</td>\n",
       "      <td>4.35</td>\n",
       "      <td>-0.79</td>\n",
       "      <td>0.13</td>\n",
       "      <td>-0.81</td>\n",
       "      <td>0.15</td>\n",
       "      <td>-0.0</td>\n",
       "      <td>0.07</td>\n",
       "    </tr>\n",
       "    <tr>\n",
       "      <th>cluster2</th>\n",
       "      <td>0.56</td>\n",
       "      <td>0.12</td>\n",
       "      <td>4.88</td>\n",
       "      <td>17.44</td>\n",
       "      <td>-11.56</td>\n",
       "      <td>0.32</td>\n",
       "      <td>23.71</td>\n",
       "      <td>492.61</td>\n",
       "      <td>44421.04</td>\n",
       "      <td>103924825.86</td>\n",
       "      <td>...</td>\n",
       "      <td>37.06</td>\n",
       "      <td>216.08</td>\n",
       "      <td>60.02</td>\n",
       "      <td>17.0</td>\n",
       "      <td>92.37</td>\n",
       "      <td>0.5</td>\n",
       "      <td>27.08</td>\n",
       "      <td>0.45</td>\n",
       "      <td>0.0</td>\n",
       "      <td>0.02</td>\n",
       "    </tr>\n",
       "    <tr>\n",
       "      <th>cluster3</th>\n",
       "      <td>0.0</td>\n",
       "      <td>0.01</td>\n",
       "      <td>0.01</td>\n",
       "      <td>0.07</td>\n",
       "      <td>1332.37</td>\n",
       "      <td>-0.0</td>\n",
       "      <td>-0.73</td>\n",
       "      <td>-2.93</td>\n",
       "      <td>2326.58</td>\n",
       "      <td>8100296.39</td>\n",
       "      <td>...</td>\n",
       "      <td>1.42</td>\n",
       "      <td>11.61</td>\n",
       "      <td>3.76</td>\n",
       "      <td>2.45</td>\n",
       "      <td>5.28</td>\n",
       "      <td>0.0</td>\n",
       "      <td>1.97</td>\n",
       "      <td>-0.05</td>\n",
       "      <td>0.0</td>\n",
       "      <td>-0.05</td>\n",
       "    </tr>\n",
       "    <tr>\n",
       "      <th>cluster4</th>\n",
       "      <td>4.57</td>\n",
       "      <td>-0.19</td>\n",
       "      <td>52.62</td>\n",
       "      <td>251.71</td>\n",
       "      <td>34.34</td>\n",
       "      <td>2.71</td>\n",
       "      <td>257.16</td>\n",
       "      <td>6136.34</td>\n",
       "      <td>27218.9</td>\n",
       "      <td>195534872.87</td>\n",
       "      <td>...</td>\n",
       "      <td>630.61</td>\n",
       "      <td>4413.41</td>\n",
       "      <td>1416.34</td>\n",
       "      <td>12.75</td>\n",
       "      <td>1904.19</td>\n",
       "      <td>0.87</td>\n",
       "      <td>703.24</td>\n",
       "      <td>0.66</td>\n",
       "      <td>0.0</td>\n",
       "      <td>-0.01</td>\n",
       "    </tr>\n",
       "  </tbody>\n",
       "</table>\n",
       "<p>5 rows × 94 columns</p>\n",
       "</div>"
      ],
      "text/plain": [
       "         codeSqaleDebtRatio codeCommentLinesDensity codeBlockerViolations  \\\n",
       "cluster0                0.0                    0.01                  0.02   \n",
       "cluster1               0.01                   -0.01                  0.08   \n",
       "cluster2               0.56                    0.12                  4.88   \n",
       "cluster3                0.0                    0.01                  0.01   \n",
       "cluster4               4.57                   -0.19                 52.62   \n",
       "\n",
       "         codeBugs resolutionTime codeFunctionComplexity codeInfoViolations  \\\n",
       "cluster0     0.26       36271.81                   -0.0              -0.42   \n",
       "cluster1    -0.19        2735.62                   0.01               1.44   \n",
       "cluster2    17.44         -11.56                   0.32              23.71   \n",
       "cluster3     0.07        1332.37                   -0.0              -0.73   \n",
       "cluster4   251.71          34.34                   2.71             257.16   \n",
       "\n",
       "         codeMajorViolations sonarCloseTime timeInProject  ... sonarBug  \\\n",
       "cluster0               -5.26          21.89       4594.22  ...     0.38   \n",
       "cluster1                12.1         881.42    6829819.48  ...     0.16   \n",
       "cluster2              492.61       44421.04  103924825.86  ...    37.06   \n",
       "cluster3               -2.93        2326.58    8100296.39  ...     1.42   \n",
       "cluster4             6136.34        27218.9  195534872.87  ...   630.61   \n",
       "\n",
       "         sonarCritical sonarInfo linesRemoved sonarVulnerability  \\\n",
       "cluster0          2.59      1.14        -1.28               1.27   \n",
       "cluster1         -0.37     -1.19         4.35              -0.79   \n",
       "cluster2        216.08     60.02         17.0              92.37   \n",
       "cluster3         11.61      3.76         2.45               5.28   \n",
       "cluster4       4413.41   1416.34        12.75            1904.19   \n",
       "\n",
       "         commitChangeRename sonarBlocker commitChangeDelete  \\\n",
       "cluster0              -0.03         0.53              -0.04   \n",
       "cluster1               0.13        -0.81               0.15   \n",
       "cluster2                0.5        27.08               0.45   \n",
       "cluster3                0.0         1.97              -0.05   \n",
       "cluster4               0.87       703.24               0.66   \n",
       "\n",
       "         jiraDependencyUpgrade commitChangeUnknown  \n",
       "cluster0                  -0.0               -0.02  \n",
       "cluster1                  -0.0                0.07  \n",
       "cluster2                   0.0                0.02  \n",
       "cluster3                   0.0               -0.05  \n",
       "cluster4                   0.0               -0.01  \n",
       "\n",
       "[5 rows x 94 columns]"
      ]
     },
     "execution_count": 66,
     "metadata": {},
     "output_type": "execute_result"
    }
   ],
   "source": [
    "clusterProfiles = []\n",
    "for i in range(len(centroids)):\n",
    "  clusterValues = np.array(important_values(centroids[i], devtSVD, devs.columns[2:], minMaxScaler))\n",
    "  clusterDf = pd.DataFrame(data=[clusterValues[:,1]], columns=clusterValues[:,0], index=['cluster'+str(i)])\n",
    "  clusterProfiles.append(clusterDf)\n",
    "clusterProfilesDf = pd.concat(clusterProfiles)\n",
    "clusterProfilesDf"
   ]
  },
  {
   "cell_type": "markdown",
   "metadata": {
    "id": "Qm-m83lAfgoc"
   },
   "source": [
    "The same note as in the case of PCA applies here in terms of the negative values of some features after the inverse transform of the centroid."
   ]
  },
  {
   "cell_type": "code",
   "execution_count": 67,
   "metadata": {
    "executionInfo": {
     "elapsed": 629,
     "status": "ok",
     "timestamp": 1603623787684,
     "user": {
      "displayName": "Jesus Maria Antoñanzas Acero",
      "photoUrl": "",
      "userId": "12567364426497915232"
     },
     "user_tz": -60
    },
    "id": "YthztUzafxR9"
   },
   "outputs": [],
   "source": [
    "clusterProfilesDf.to_csv('../../data/interim/Modelling/clusterProfilesTSVD.csv')"
   ]
  },
  {
   "cell_type": "markdown",
   "metadata": {
    "id": "pvRjjC6Jrihy"
   },
   "source": [
    "See next section 'Evaluation' for a detailed explanation of the meaning of each obtained cluster."
   ]
  },
  {
   "cell_type": "markdown",
   "metadata": {
    "id": "eY5-qP8pVg2G"
   },
   "source": [
    "## Extra: comparing aggregated clusters vs. raw clusters"
   ]
  },
  {
   "cell_type": "markdown",
   "metadata": {
    "id": "fLEnPTJQVomL"
   },
   "source": [
    "After validating the results, we conclude that three of the 5 clusters extracted in this part are, in practice, very similar to each other. Because of this, we have grouped them into 1 single cluster, thus having 3 clusters in total. Now, we would like to check if extracting directly three clusters from the original data gives us similar profiles as the ones extracted from aggregating 5 clusters."
   ]
  },
  {
   "cell_type": "code",
   "execution_count": 68,
   "metadata": {
    "executionInfo": {
     "elapsed": 507,
     "status": "ok",
     "timestamp": 1603623871474,
     "user": {
      "displayName": "Jesus Maria Antoñanzas Acero",
      "photoUrl": "",
      "userId": "12567364426497915232"
     },
     "user_tz": -60
    },
    "id": "cmaUQgAiIXSQ"
   },
   "outputs": [],
   "source": [
    "kmeans = cluster.KMeans(n_clusters=3)\n",
    "kmeans.fit(importantDims)\n",
    "centroids = kmeans.cluster_centers_"
   ]
  },
  {
   "cell_type": "code",
   "execution_count": 69,
   "metadata": {
    "colab": {
     "base_uri": "https://localhost:8080/",
     "height": 208
    },
    "executionInfo": {
     "elapsed": 612,
     "status": "ok",
     "timestamp": 1603623898577,
     "user": {
      "displayName": "Jesus Maria Antoñanzas Acero",
      "photoUrl": "",
      "userId": "12567364426497915232"
     },
     "user_tz": -60
    },
    "id": "MQEiPysIbmGn",
    "outputId": "34452ab4-6db5-4e59-ecb3-307c1b17ca0c"
   },
   "outputs": [
    {
     "data": {
      "text/html": [
       "<div>\n",
       "<style scoped>\n",
       "    .dataframe tbody tr th:only-of-type {\n",
       "        vertical-align: middle;\n",
       "    }\n",
       "\n",
       "    .dataframe tbody tr th {\n",
       "        vertical-align: top;\n",
       "    }\n",
       "\n",
       "    .dataframe thead th {\n",
       "        text-align: right;\n",
       "    }\n",
       "</style>\n",
       "<table border=\"1\" class=\"dataframe\">\n",
       "  <thead>\n",
       "    <tr style=\"text-align: right;\">\n",
       "      <th></th>\n",
       "      <th>codeSqaleDebtRatio</th>\n",
       "      <th>codeCommentLinesDensity</th>\n",
       "      <th>codeBlockerViolations</th>\n",
       "      <th>codeBugs</th>\n",
       "      <th>codeFunctionComplexity</th>\n",
       "      <th>sonarCloseTime</th>\n",
       "      <th>timeInProject</th>\n",
       "      <th>resolutionTime</th>\n",
       "      <th>codeInfoViolations</th>\n",
       "      <th>codeMajorViolations</th>\n",
       "      <th>...</th>\n",
       "      <th>sonarBlocker</th>\n",
       "      <th>commitChangeRename</th>\n",
       "      <th>linesRemoved</th>\n",
       "      <th>jiraDocumentation</th>\n",
       "      <th>jiraTechnicalTask</th>\n",
       "      <th>jiraStory</th>\n",
       "      <th>commitChangeDelete</th>\n",
       "      <th>jiraQuestion</th>\n",
       "      <th>jiraDependencyUpgrade</th>\n",
       "      <th>commitChangeUnknown</th>\n",
       "    </tr>\n",
       "  </thead>\n",
       "  <tbody>\n",
       "    <tr>\n",
       "      <th>cluster0</th>\n",
       "      <td>0.57</td>\n",
       "      <td>0.11</td>\n",
       "      <td>6.17</td>\n",
       "      <td>20.06</td>\n",
       "      <td>0.34</td>\n",
       "      <td>43388.31</td>\n",
       "      <td>103872397.82</td>\n",
       "      <td>-3.98</td>\n",
       "      <td>25.07</td>\n",
       "      <td>561.07</td>\n",
       "      <td>...</td>\n",
       "      <td>63.76</td>\n",
       "      <td>0.49</td>\n",
       "      <td>16.84</td>\n",
       "      <td>-0.0</td>\n",
       "      <td>-0.01</td>\n",
       "      <td>-0.01</td>\n",
       "      <td>0.44</td>\n",
       "      <td>-0.0</td>\n",
       "      <td>-0.0</td>\n",
       "      <td>0.02</td>\n",
       "    </tr>\n",
       "    <tr>\n",
       "      <th>cluster1</th>\n",
       "      <td>4.68</td>\n",
       "      <td>-0.2</td>\n",
       "      <td>30.93</td>\n",
       "      <td>221.32</td>\n",
       "      <td>2.45</td>\n",
       "      <td>30980.04</td>\n",
       "      <td>197034803.66</td>\n",
       "      <td>-2.42</td>\n",
       "      <td>253.63</td>\n",
       "      <td>5353.44</td>\n",
       "      <td>...</td>\n",
       "      <td>49.82</td>\n",
       "      <td>1.02</td>\n",
       "      <td>11.94</td>\n",
       "      <td>0.0</td>\n",
       "      <td>0.01</td>\n",
       "      <td>0.0</td>\n",
       "      <td>0.72</td>\n",
       "      <td>-0.0</td>\n",
       "      <td>0.0</td>\n",
       "      <td>-0.02</td>\n",
       "    </tr>\n",
       "    <tr>\n",
       "      <th>cluster2</th>\n",
       "      <td>0.01</td>\n",
       "      <td>-0.01</td>\n",
       "      <td>0.07</td>\n",
       "      <td>-0.12</td>\n",
       "      <td>0.01</td>\n",
       "      <td>757.55</td>\n",
       "      <td>5926980.48</td>\n",
       "      <td>6135.12</td>\n",
       "      <td>1.22</td>\n",
       "      <td>10.29</td>\n",
       "      <td>...</td>\n",
       "      <td>-0.66</td>\n",
       "      <td>0.12</td>\n",
       "      <td>3.73</td>\n",
       "      <td>0.01</td>\n",
       "      <td>0.06</td>\n",
       "      <td>0.17</td>\n",
       "      <td>0.12</td>\n",
       "      <td>0.0</td>\n",
       "      <td>-0.0</td>\n",
       "      <td>0.06</td>\n",
       "    </tr>\n",
       "  </tbody>\n",
       "</table>\n",
       "<p>3 rows × 94 columns</p>\n",
       "</div>"
      ],
      "text/plain": [
       "         codeSqaleDebtRatio codeCommentLinesDensity codeBlockerViolations  \\\n",
       "cluster0               0.57                    0.11                  6.17   \n",
       "cluster1               4.68                    -0.2                 30.93   \n",
       "cluster2               0.01                   -0.01                  0.07   \n",
       "\n",
       "         codeBugs codeFunctionComplexity sonarCloseTime timeInProject  \\\n",
       "cluster0    20.06                   0.34       43388.31  103872397.82   \n",
       "cluster1   221.32                   2.45       30980.04  197034803.66   \n",
       "cluster2    -0.12                   0.01         757.55    5926980.48   \n",
       "\n",
       "         resolutionTime codeInfoViolations codeMajorViolations  ...  \\\n",
       "cluster0          -3.98              25.07              561.07  ...   \n",
       "cluster1          -2.42             253.63             5353.44  ...   \n",
       "cluster2        6135.12               1.22               10.29  ...   \n",
       "\n",
       "         sonarBlocker commitChangeRename linesRemoved jiraDocumentation  \\\n",
       "cluster0        63.76               0.49        16.84              -0.0   \n",
       "cluster1        49.82               1.02        11.94               0.0   \n",
       "cluster2        -0.66               0.12         3.73              0.01   \n",
       "\n",
       "         jiraTechnicalTask jiraStory commitChangeDelete jiraQuestion  \\\n",
       "cluster0             -0.01     -0.01               0.44         -0.0   \n",
       "cluster1              0.01       0.0               0.72         -0.0   \n",
       "cluster2              0.06      0.17               0.12          0.0   \n",
       "\n",
       "         jiraDependencyUpgrade commitChangeUnknown  \n",
       "cluster0                  -0.0                0.02  \n",
       "cluster1                   0.0               -0.02  \n",
       "cluster2                  -0.0                0.06  \n",
       "\n",
       "[3 rows x 94 columns]"
      ]
     },
     "execution_count": 69,
     "metadata": {},
     "output_type": "execute_result"
    }
   ],
   "source": [
    "clusterProfiles = []\n",
    "for i in range(len(centroids)):\n",
    "  clusterValues = np.array(important_values(centroids[i], devtSVD, devs.columns[2:], minMaxScaler))\n",
    "  clusterDf = pd.DataFrame(data=[clusterValues[:,1]], columns=clusterValues[:,0], index=['cluster'+str(i)])\n",
    "  clusterProfiles.append(clusterDf)\n",
    "clusterProfilesDf = pd.concat(clusterProfiles)\n",
    "clusterProfilesDf"
   ]
  },
  {
   "cell_type": "code",
   "execution_count": 70,
   "metadata": {
    "executionInfo": {
     "elapsed": 455,
     "status": "ok",
     "timestamp": 1603623951957,
     "user": {
      "displayName": "Jesus Maria Antoñanzas Acero",
      "photoUrl": "",
      "userId": "12567364426497915232"
     },
     "user_tz": -60
    },
    "id": "LrbysEgIbss4"
   },
   "outputs": [],
   "source": [
    "clusterProfilesDf.to_csv('../../data/interim/Modelling/3clusterProfilesTSVD.csv')"
   ]
  },
  {
   "cell_type": "code",
   "execution_count": null,
   "metadata": {
    "id": "xT9kuHzvb5xc"
   },
   "outputs": [],
   "source": []
  }
 ],
 "metadata": {
  "colab": {
   "collapsed_sections": [],
   "name": "Modelling.ipynb",
   "provenance": [],
   "toc_visible": true
  },
  "kernelspec": {
   "display_name": "Python 3",
   "language": "python",
   "name": "python3"
  },
  "language_info": {
   "codemirror_mode": {
    "name": "ipython",
    "version": 3
   },
   "file_extension": ".py",
   "mimetype": "text/x-python",
   "name": "python",
   "nbconvert_exporter": "python",
   "pygments_lexer": "ipython3",
   "version": "3.8.3"
  }
 },
 "nbformat": 4,
 "nbformat_minor": 1
}
